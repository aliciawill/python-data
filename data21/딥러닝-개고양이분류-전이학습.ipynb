{
 "cells": [
  {
   "cell_type": "code",
   "execution_count": 1,
   "metadata": {},
   "outputs": [
    {
     "name": "stdout",
     "output_type": "stream",
     "text": [
      "/Users/administrator/AI-python_workspace/book-data/deep04\n"
     ]
    }
   ],
   "source": [
    "import numpy as np\n",
    "import os\n",
    "print(os.getcwd())"
   ]
  },
  {
   "cell_type": "code",
   "execution_count": null,
   "metadata": {},
   "outputs": [],
   "source": [
    "# /Users/administrator/AI-python_workspace/book-data/deep04"
   ]
  },
  {
   "cell_type": "code",
   "execution_count": 2,
   "metadata": {},
   "outputs": [],
   "source": [
    "data_dir = os.chdir(os.getcwd() + \"/img-animal\")"
   ]
  },
  {
   "cell_type": "code",
   "execution_count": 3,
   "metadata": {},
   "outputs": [
    {
     "name": "stdout",
     "output_type": "stream",
     "text": [
      "/Users/administrator/AI-python_workspace/book-data/deep04/img-animal\n"
     ]
    }
   ],
   "source": [
    "print(os.getcwd())"
   ]
  },
  {
   "cell_type": "code",
   "execution_count": 4,
   "metadata": {},
   "outputs": [],
   "source": [
    "import glob\n",
    "from glob import glob"
   ]
  },
  {
   "cell_type": "code",
   "execution_count": 5,
   "metadata": {},
   "outputs": [
    {
     "name": "stdout",
     "output_type": "stream",
     "text": [
      "파일의 목록 개수 >>  4000\n",
      "파일의 목록 타입 >>  <class 'list'>\n"
     ]
    }
   ],
   "source": [
    "data_list = glob('*.jpg')\n",
    "print('파일의 목록 개수 >> ', len(data_list))\n",
    "print('파일의 목록 타입 >> ', type(data_list))"
   ]
  },
  {
   "cell_type": "code",
   "execution_count": 6,
   "metadata": {},
   "outputs": [
    {
     "data": {
      "text/plain": [
       "['dog.1753.jpg',\n",
       " 'cat.1211.jpg',\n",
       " 'dog.775.jpg',\n",
       " 'cat.1577.jpg',\n",
       " 'cat.952.jpg',\n",
       " 'dog.1035.jpg',\n",
       " 'cat.946.jpg',\n",
       " 'dog.1021.jpg',\n",
       " 'cat.1563.jpg',\n",
       " 'dog.761.jpg']"
      ]
     },
     "execution_count": 6,
     "metadata": {},
     "output_type": "execute_result"
    }
   ],
   "source": [
    "data_list[:10]"
   ]
  },
  {
   "cell_type": "code",
   "execution_count": 7,
   "metadata": {},
   "outputs": [],
   "source": [
    "from tensorflow.keras.preprocessing.text import text_to_word_sequence"
   ]
  },
  {
   "cell_type": "code",
   "execution_count": 11,
   "metadata": {},
   "outputs": [
    {
     "name": "stdout",
     "output_type": "stream",
     "text": [
      "['dog', '1753', 'jpg'] ---- dog\n"
     ]
    }
   ],
   "source": [
    "token = text_to_word_sequence(data_list[0])\n",
    "print(token, '----' , token[0])"
   ]
  },
  {
   "cell_type": "code",
   "execution_count": 17,
   "metadata": {},
   "outputs": [
    {
     "name": "stdout",
     "output_type": "stream",
     "text": [
      "100 ---- ['dog', 'cat', 'dog', 'cat', 'cat']\n"
     ]
    }
   ],
   "source": [
    "label = []\n",
    "for x in data_list[:100]:\n",
    "    token = text_to_word_sequence(x)\n",
    "    # print(token[0])\n",
    "    label.append(token[0])\n",
    "print(len(label), '----', label[:5])"
   ]
  },
  {
   "cell_type": "code",
   "execution_count": 18,
   "metadata": {},
   "outputs": [],
   "source": [
    "# 라벨 인코딩\n",
    "from sklearn.preprocessing import LabelEncoder"
   ]
  },
  {
   "cell_type": "code",
   "execution_count": 19,
   "metadata": {},
   "outputs": [
    {
     "data": {
      "text/plain": [
       "array([1, 0, 1, 0, 0, 1, 0, 1, 0, 1, 0, 1, 1, 1, 1, 1, 0, 0, 1, 1, 0, 0,\n",
       "       0, 1, 1, 1, 0, 0, 0, 1, 1, 0, 1, 0, 1, 1, 0, 1, 1, 0, 1, 1, 0, 1,\n",
       "       0, 0, 1, 0, 1, 1, 0, 1, 0, 0, 1, 0, 0, 0, 0, 1, 1, 0, 0, 1, 1, 1,\n",
       "       1, 0, 0, 1, 1, 1, 1, 0, 1, 0, 1, 0, 0, 0, 0, 0, 0, 0, 1, 0, 1, 0,\n",
       "       0, 1, 1, 0, 1, 0, 1, 0, 0, 1, 1, 0])"
      ]
     },
     "execution_count": 19,
     "metadata": {},
     "output_type": "execute_result"
    }
   ],
   "source": [
    "items = label\n",
    "encoder = LabelEncoder()\n",
    "label = encoder.fit_transform(items)\n",
    "label "
   ]
  },
  {
   "cell_type": "code",
   "execution_count": 20,
   "metadata": {},
   "outputs": [
    {
     "name": "stdout",
     "output_type": "stream",
     "text": [
      "Requirement already satisfied: opencv-python in /Users/administrator/opt/anaconda3/lib/python3.7/site-packages (4.5.5.62)\n",
      "Requirement already satisfied: numpy>=1.14.5 in /Users/administrator/opt/anaconda3/lib/python3.7/site-packages (from opencv-python) (1.19.2)\n"
     ]
    }
   ],
   "source": [
    "!pip install opencv-python"
   ]
  },
  {
   "cell_type": "code",
   "execution_count": 22,
   "metadata": {},
   "outputs": [],
   "source": [
    "import cv2\n",
    "from matplotlib import pyplot as plt"
   ]
  },
  {
   "cell_type": "code",
   "execution_count": 23,
   "metadata": {},
   "outputs": [
    {
     "data": {
      "text/plain": [
       "'dog.1753.jpg'"
      ]
     },
     "execution_count": 23,
     "metadata": {},
     "output_type": "execute_result"
    }
   ],
   "source": [
    "data_list[0]"
   ]
  },
  {
   "cell_type": "code",
   "execution_count": 25,
   "metadata": {},
   "outputs": [
    {
     "data": {
      "text/plain": [
       "array([[[234, 219, 251],\n",
       "        [233, 218, 250],\n",
       "        [230, 217, 249],\n",
       "        ...,\n",
       "        [ 66,  70,  94],\n",
       "        [ 78,  82, 106],\n",
       "        [ 71,  75,  99]],\n",
       "\n",
       "       [[234, 219, 251],\n",
       "        [231, 218, 250],\n",
       "        [230, 217, 249],\n",
       "        ...,\n",
       "        [ 69,  73,  97],\n",
       "        [ 80,  84, 108],\n",
       "        [ 75,  79, 103]],\n",
       "\n",
       "       [[231, 219, 249],\n",
       "        [230, 218, 248],\n",
       "        [229, 217, 247],\n",
       "        ...,\n",
       "        [ 71,  76,  97],\n",
       "        [ 83,  88, 109],\n",
       "        [ 79,  84, 105]],\n",
       "\n",
       "       ...,\n",
       "\n",
       "       [[141,  52, 145],\n",
       "        [139,  51, 141],\n",
       "        [137,  49, 139],\n",
       "        ...,\n",
       "        [138, 135, 151],\n",
       "        [142, 139, 155],\n",
       "        [135, 132, 148]],\n",
       "\n",
       "       [[142,  53, 146],\n",
       "        [139,  51, 141],\n",
       "        [135,  47, 137],\n",
       "        ...,\n",
       "        [138, 135, 151],\n",
       "        [144, 141, 157],\n",
       "        [136, 133, 149]],\n",
       "\n",
       "       [[141,  52, 145],\n",
       "        [138,  50, 140],\n",
       "        [135,  47, 137],\n",
       "        ...,\n",
       "        [142, 139, 155],\n",
       "        [151, 148, 164],\n",
       "        [135, 132, 148]]], dtype=uint8)"
      ]
     },
     "execution_count": 25,
     "metadata": {},
     "output_type": "execute_result"
    }
   ],
   "source": [
    "img = cv2.imread(data_list[0])\n",
    "img"
   ]
  },
  {
   "cell_type": "code",
   "execution_count": 26,
   "metadata": {},
   "outputs": [
    {
     "data": {
      "text/plain": [
       "<matplotlib.image.AxesImage at 0x7fee85757890>"
      ]
     },
     "execution_count": 26,
     "metadata": {},
     "output_type": "execute_result"
    },
    {
     "data": {
      "image/png": "[encoded data removed]",
      "text/plain": [
       "<Figure size 432x288 with 1 Axes>"
      ]
     },
     "metadata": {
      "needs_background": "light"
     },
     "output_type": "display_data"
    }
   ],
   "source": [
    "plt.imshow(img)"
   ]
  },
  {
   "cell_type": "code",
   "execution_count": 27,
   "metadata": {},
   "outputs": [
    {
     "data": {
      "text/plain": [
       "(392, 393, 3)"
      ]
     },
     "execution_count": 27,
     "metadata": {},
     "output_type": "execute_result"
    }
   ],
   "source": [
    "img.shape"
   ]
  },
  {
   "cell_type": "code",
   "execution_count": 28,
   "metadata": {},
   "outputs": [
    {
     "data": {
      "text/plain": [
       "'cat.1211.jpg'"
      ]
     },
     "execution_count": 28,
     "metadata": {},
     "output_type": "execute_result"
    }
   ],
   "source": [
    "data_list[1]"
   ]
  },
  {
   "cell_type": "code",
   "execution_count": 31,
   "metadata": {},
   "outputs": [
    {
     "data": {
      "text/plain": [
       "array([[[255, 255, 255],\n",
       "        [255, 255, 255],\n",
       "        [255, 255, 255],\n",
       "        ...,\n",
       "        [ 89, 100, 104],\n",
       "        [ 86,  97, 101],\n",
       "        [ 81,  92,  96]],\n",
       "\n",
       "       [[255, 255, 255],\n",
       "        [255, 255, 255],\n",
       "        [255, 255, 255],\n",
       "        ...,\n",
       "        [ 89, 100, 104],\n",
       "        [ 86,  97, 101],\n",
       "        [ 81,  92,  96]],\n",
       "\n",
       "       [[255, 255, 255],\n",
       "        [255, 255, 255],\n",
       "        [255, 255, 255],\n",
       "        ...,\n",
       "        [ 91, 100, 104],\n",
       "        [ 87,  96, 100],\n",
       "        [ 84,  93,  97]],\n",
       "\n",
       "       ...,\n",
       "\n",
       "       [[ 95,  99, 104],\n",
       "        [ 94, 100, 105],\n",
       "        [ 85,  92, 101],\n",
       "        ...,\n",
       "        [ 62,  68,  73],\n",
       "        [ 55,  61,  66],\n",
       "        [ 53,  57,  62]],\n",
       "\n",
       "       [[ 93,  97, 102],\n",
       "        [ 93,  99, 104],\n",
       "        [ 84,  91, 100],\n",
       "        ...,\n",
       "        [ 61,  67,  72],\n",
       "        [ 55,  61,  66],\n",
       "        [ 53,  57,  62]],\n",
       "\n",
       "       [[ 91,  95, 100],\n",
       "        [ 92,  98, 103],\n",
       "        [ 82,  89,  98],\n",
       "        ...,\n",
       "        [ 63,  69,  74],\n",
       "        [ 57,  63,  68],\n",
       "        [ 56,  60,  65]]], dtype=uint8)"
      ]
     },
     "execution_count": 31,
     "metadata": {},
     "output_type": "execute_result"
    }
   ],
   "source": [
    "img = cv2.imread(data_list[1])\n",
    "img"
   ]
  },
  {
   "cell_type": "code",
   "execution_count": 32,
   "metadata": {},
   "outputs": [
    {
     "data": {
      "text/plain": [
       "<matplotlib.image.AxesImage at 0x7fee85805bd0>"
      ]
     },
     "execution_count": 32,
     "metadata": {},
     "output_type": "execute_result"
    },
    {
     "data": {
      "image/png": "[encoded data removed]",
      "text/plain": [
       "<Figure size 432x288 with 1 Axes>"
      ]
     },
     "metadata": {
      "needs_background": "light"
     },
     "output_type": "display_data"
    }
   ],
   "source": [
    "plt.imshow(img)"
   ]
  },
  {
   "cell_type": "code",
   "execution_count": 33,
   "metadata": {},
   "outputs": [
    {
     "data": {
      "text/plain": [
       "(200, 249, 3)"
      ]
     },
     "execution_count": 33,
     "metadata": {},
     "output_type": "execute_result"
    }
   ],
   "source": [
    "img.shape"
   ]
  },
  {
   "cell_type": "code",
   "execution_count": 34,
   "metadata": {},
   "outputs": [],
   "source": [
    "image = img/255"
   ]
  },
  {
   "cell_type": "code",
   "execution_count": 35,
   "metadata": {},
   "outputs": [
    {
     "data": {
      "text/plain": [
       "array([[[1.        , 1.        , 1.        ],\n",
       "        [1.        , 1.        , 1.        ],\n",
       "        [1.        , 1.        , 1.        ],\n",
       "        ...,\n",
       "        [0.34901961, 0.39215686, 0.40784314],\n",
       "        [0.3372549 , 0.38039216, 0.39607843],\n",
       "        [0.31764706, 0.36078431, 0.37647059]],\n",
       "\n",
       "       [[1.        , 1.        , 1.        ],\n",
       "        [1.        , 1.        , 1.        ],\n",
       "        [1.        , 1.        , 1.        ],\n",
       "        ...,\n",
       "        [0.34901961, 0.39215686, 0.40784314],\n",
       "        [0.3372549 , 0.38039216, 0.39607843],\n",
       "        [0.31764706, 0.36078431, 0.37647059]],\n",
       "\n",
       "       [[1.        , 1.        , 1.        ],\n",
       "        [1.        , 1.        , 1.        ],\n",
       "        [1.        , 1.        , 1.        ],\n",
       "        ...,\n",
       "        [0.35686275, 0.39215686, 0.40784314],\n",
       "        [0.34117647, 0.37647059, 0.39215686],\n",
       "        [0.32941176, 0.36470588, 0.38039216]],\n",
       "\n",
       "       ...,\n",
       "\n",
       "       [[0.37254902, 0.38823529, 0.40784314],\n",
       "        [0.36862745, 0.39215686, 0.41176471],\n",
       "        [0.33333333, 0.36078431, 0.39607843],\n",
       "        ...,\n",
       "        [0.24313725, 0.26666667, 0.28627451],\n",
       "        [0.21568627, 0.23921569, 0.25882353],\n",
       "        [0.20784314, 0.22352941, 0.24313725]],\n",
       "\n",
       "       [[0.36470588, 0.38039216, 0.4       ],\n",
       "        [0.36470588, 0.38823529, 0.40784314],\n",
       "        [0.32941176, 0.35686275, 0.39215686],\n",
       "        ...,\n",
       "        [0.23921569, 0.2627451 , 0.28235294],\n",
       "        [0.21568627, 0.23921569, 0.25882353],\n",
       "        [0.20784314, 0.22352941, 0.24313725]],\n",
       "\n",
       "       [[0.35686275, 0.37254902, 0.39215686],\n",
       "        [0.36078431, 0.38431373, 0.40392157],\n",
       "        [0.32156863, 0.34901961, 0.38431373],\n",
       "        ...,\n",
       "        [0.24705882, 0.27058824, 0.29019608],\n",
       "        [0.22352941, 0.24705882, 0.26666667],\n",
       "        [0.21960784, 0.23529412, 0.25490196]]])"
      ]
     },
     "execution_count": 35,
     "metadata": {},
     "output_type": "execute_result"
    }
   ],
   "source": [
    "image"
   ]
  },
  {
   "cell_type": "code",
   "execution_count": 37,
   "metadata": {},
   "outputs": [],
   "source": [
    "# 이미지마다 크기가 다 다르다.-> 픽셀 사이즈 동일해게 해주어야 전처리가 가능하다.\n",
    "dat_height = 150\n",
    "data_width = 150\n",
    "channel_n = 3  #RGB"
   ]
  },
  {
   "cell_type": "code",
   "execution_count": 38,
   "metadata": {},
   "outputs": [
    {
     "data": {
      "text/plain": [
       "(150, 150, 3)"
      ]
     },
     "execution_count": 38,
     "metadata": {},
     "output_type": "execute_result"
    }
   ],
   "source": [
    "image2 = cv2.resize(image, (dat_height, data_width))\n",
    "image2.shape"
   ]
  },
  {
   "cell_type": "code",
   "execution_count": 41,
   "metadata": {},
   "outputs": [
    {
     "name": "stdout",
     "output_type": "stream",
     "text": [
      "5\n",
      "[array([[[0.91764706, 0.85882353, 0.98431373],\n",
      "        [0.91372549, 0.85490196, 0.98039216],\n",
      "        [0.90196078, 0.85098039, 0.97647059],\n",
      "        ...,\n",
      "        [0.25882353, 0.2745098 , 0.36862745],\n",
      "        [0.30588235, 0.32156863, 0.41568627],\n",
      "        [0.27843137, 0.29411765, 0.38823529]],\n",
      "\n",
      "       [[0.91764706, 0.85882353, 0.98431373],\n",
      "        [0.90588235, 0.85490196, 0.98039216],\n",
      "        [0.90196078, 0.85098039, 0.97647059],\n",
      "        ...,\n",
      "        [0.27058824, 0.28627451, 0.38039216],\n",
      "        [0.31372549, 0.32941176, 0.42352941],\n",
      "        [0.29411765, 0.30980392, 0.40392157]],\n",
      "\n",
      "       [[0.90588235, 0.85882353, 0.97647059],\n",
      "        [0.90196078, 0.85490196, 0.97254902],\n",
      "        [0.89803922, 0.85098039, 0.96862745],\n",
      "        ...,\n",
      "        [0.27843137, 0.29803922, 0.38039216],\n",
      "        [0.3254902 , 0.34509804, 0.42745098],\n",
      "        [0.30980392, 0.32941176, 0.41176471]],\n",
      "\n",
      "       ...,\n",
      "\n",
      "       [[0.55294118, 0.20392157, 0.56862745],\n",
      "        [0.54509804, 0.2       , 0.55294118],\n",
      "        [0.5372549 , 0.19215686, 0.54509804],\n",
      "        ...,\n",
      "        [0.54117647, 0.52941176, 0.59215686],\n",
      "        [0.55686275, 0.54509804, 0.60784314],\n",
      "        [0.52941176, 0.51764706, 0.58039216]],\n",
      "\n",
      "       [[0.55686275, 0.20784314, 0.57254902],\n",
      "        [0.54509804, 0.2       , 0.55294118],\n",
      "        [0.52941176, 0.18431373, 0.5372549 ],\n",
      "        ...,\n",
      "        [0.54117647, 0.52941176, 0.59215686],\n",
      "        [0.56470588, 0.55294118, 0.61568627],\n",
      "        [0.53333333, 0.52156863, 0.58431373]],\n",
      "\n",
      "       [[0.55294118, 0.20392157, 0.56862745],\n",
      "        [0.54117647, 0.19607843, 0.54901961],\n",
      "        [0.52941176, 0.18431373, 0.5372549 ],\n",
      "        ...,\n",
      "        [0.55686275, 0.54509804, 0.60784314],\n",
      "        [0.59215686, 0.58039216, 0.64313725],\n",
      "        [0.52941176, 0.51764706, 0.58039216]]]), array([[[1.        , 1.        , 1.        ],\n",
      "        [1.        , 1.        , 1.        ],\n",
      "        [1.        , 1.        , 1.        ],\n",
      "        ...,\n",
      "        [0.34901961, 0.39215686, 0.40784314],\n",
      "        [0.3372549 , 0.38039216, 0.39607843],\n",
      "        [0.31764706, 0.36078431, 0.37647059]],\n",
      "\n",
      "       [[1.        , 1.        , 1.        ],\n",
      "        [1.        , 1.        , 1.        ],\n",
      "        [1.        , 1.        , 1.        ],\n",
      "        ...,\n",
      "        [0.34901961, 0.39215686, 0.40784314],\n",
      "        [0.3372549 , 0.38039216, 0.39607843],\n",
      "        [0.31764706, 0.36078431, 0.37647059]],\n",
      "\n",
      "       [[1.        , 1.        , 1.        ],\n",
      "        [1.        , 1.        , 1.        ],\n",
      "        [1.        , 1.        , 1.        ],\n",
      "        ...,\n",
      "        [0.35686275, 0.39215686, 0.40784314],\n",
      "        [0.34117647, 0.37647059, 0.39215686],\n",
      "        [0.32941176, 0.36470588, 0.38039216]],\n",
      "\n",
      "       ...,\n",
      "\n",
      "       [[0.37254902, 0.38823529, 0.40784314],\n",
      "        [0.36862745, 0.39215686, 0.41176471],\n",
      "        [0.33333333, 0.36078431, 0.39607843],\n",
      "        ...,\n",
      "        [0.24313725, 0.26666667, 0.28627451],\n",
      "        [0.21568627, 0.23921569, 0.25882353],\n",
      "        [0.20784314, 0.22352941, 0.24313725]],\n",
      "\n",
      "       [[0.36470588, 0.38039216, 0.4       ],\n",
      "        [0.36470588, 0.38823529, 0.40784314],\n",
      "        [0.32941176, 0.35686275, 0.39215686],\n",
      "        ...,\n",
      "        [0.23921569, 0.2627451 , 0.28235294],\n",
      "        [0.21568627, 0.23921569, 0.25882353],\n",
      "        [0.20784314, 0.22352941, 0.24313725]],\n",
      "\n",
      "       [[0.35686275, 0.37254902, 0.39215686],\n",
      "        [0.36078431, 0.38431373, 0.40392157],\n",
      "        [0.32156863, 0.34901961, 0.38431373],\n",
      "        ...,\n",
      "        [0.24705882, 0.27058824, 0.29019608],\n",
      "        [0.22352941, 0.24705882, 0.26666667],\n",
      "        [0.21960784, 0.23529412, 0.25490196]]]), array([[[0.17647059, 0.22352941, 0.38039216],\n",
      "        [0.17647059, 0.22352941, 0.38039216],\n",
      "        [0.18823529, 0.23137255, 0.38039216],\n",
      "        ...,\n",
      "        [0.32156863, 0.29803922, 0.27058824],\n",
      "        [0.32156863, 0.29803922, 0.27058824],\n",
      "        [0.32156863, 0.29803922, 0.27058824]],\n",
      "\n",
      "       [[0.17647059, 0.22352941, 0.38039216],\n",
      "        [0.18039216, 0.22745098, 0.38431373],\n",
      "        [0.18823529, 0.23137255, 0.38039216],\n",
      "        ...,\n",
      "        [0.32156863, 0.29803922, 0.27058824],\n",
      "        [0.32156863, 0.29803922, 0.27058824],\n",
      "        [0.32156863, 0.29803922, 0.27058824]],\n",
      "\n",
      "       [[0.18431373, 0.23137255, 0.38823529],\n",
      "        [0.18431373, 0.23137255, 0.38823529],\n",
      "        [0.19215686, 0.23529412, 0.38431373],\n",
      "        ...,\n",
      "        [0.32156863, 0.30196078, 0.26666667],\n",
      "        [0.32156863, 0.30196078, 0.26666667],\n",
      "        [0.32156863, 0.30196078, 0.26666667]],\n",
      "\n",
      "       ...,\n",
      "\n",
      "       [[0.54901961, 0.56470588, 0.60784314],\n",
      "        [0.5372549 , 0.55294118, 0.59607843],\n",
      "        [0.51372549, 0.5372549 , 0.58039216],\n",
      "        ...,\n",
      "        [0.63921569, 0.65098039, 0.67058824],\n",
      "        [0.63529412, 0.64705882, 0.66666667],\n",
      "        [0.63529412, 0.64705882, 0.66666667]],\n",
      "\n",
      "       [[0.54117647, 0.55686275, 0.6       ],\n",
      "        [0.52941176, 0.54509804, 0.58823529],\n",
      "        [0.50588235, 0.52941176, 0.57254902],\n",
      "        ...,\n",
      "        [0.63921569, 0.65098039, 0.67058824],\n",
      "        [0.63529412, 0.64705882, 0.66666667],\n",
      "        [0.63529412, 0.64705882, 0.66666667]],\n",
      "\n",
      "       [[0.53333333, 0.54901961, 0.59215686],\n",
      "        [0.5254902 , 0.54117647, 0.58431373],\n",
      "        [0.49803922, 0.52156863, 0.56470588],\n",
      "        ...,\n",
      "        [0.63921569, 0.65098039, 0.67058824],\n",
      "        [0.63529412, 0.64705882, 0.66666667],\n",
      "        [0.63529412, 0.64705882, 0.66666667]]]), array([[[0.59215686, 0.71764706, 0.80784314],\n",
      "        [0.57254902, 0.69803922, 0.78823529],\n",
      "        [0.56862745, 0.68627451, 0.78431373],\n",
      "        ...,\n",
      "        [0.18431373, 0.21960784, 0.2745098 ],\n",
      "        [0.16862745, 0.20392157, 0.25882353],\n",
      "        [0.15686275, 0.19215686, 0.24705882]],\n",
      "\n",
      "       [[0.56470588, 0.69019608, 0.78039216],\n",
      "        [0.54901961, 0.6745098 , 0.76470588],\n",
      "        [0.54509804, 0.6627451 , 0.76078431],\n",
      "        ...,\n",
      "        [0.19607843, 0.23137255, 0.28627451],\n",
      "        [0.17647059, 0.21176471, 0.26666667],\n",
      "        [0.16470588, 0.2       , 0.25490196]],\n",
      "\n",
      "       [[0.54901961, 0.6745098 , 0.76470588],\n",
      "        [0.53333333, 0.65882353, 0.74901961],\n",
      "        [0.5372549 , 0.65490196, 0.75294118],\n",
      "        ...,\n",
      "        [0.20784314, 0.24313725, 0.29803922],\n",
      "        [0.18823529, 0.22352941, 0.27843137],\n",
      "        [0.18039216, 0.21568627, 0.27058824]],\n",
      "\n",
      "       ...,\n",
      "\n",
      "       [[0.25490196, 0.32156863, 0.49019608],\n",
      "        [0.25490196, 0.32156863, 0.49019608],\n",
      "        [0.25490196, 0.32156863, 0.49019608],\n",
      "        ...,\n",
      "        [0.28235294, 0.39215686, 0.51372549],\n",
      "        [0.27843137, 0.38823529, 0.50980392],\n",
      "        [0.2745098 , 0.38431373, 0.50588235]],\n",
      "\n",
      "       [[0.24705882, 0.31372549, 0.48235294],\n",
      "        [0.25098039, 0.31764706, 0.48627451],\n",
      "        [0.25490196, 0.32156863, 0.49019608],\n",
      "        ...,\n",
      "        [0.28235294, 0.39215686, 0.51372549],\n",
      "        [0.27843137, 0.38823529, 0.50980392],\n",
      "        [0.27843137, 0.38823529, 0.50980392]],\n",
      "\n",
      "       [[0.24313725, 0.30980392, 0.47843137],\n",
      "        [0.25098039, 0.31764706, 0.48627451],\n",
      "        [0.25490196, 0.32156863, 0.49019608],\n",
      "        ...,\n",
      "        [0.28627451, 0.39607843, 0.51764706],\n",
      "        [0.28235294, 0.39215686, 0.51372549],\n",
      "        [0.27843137, 0.38823529, 0.50980392]]]), array([[[0.14117647, 0.17647059, 0.21568627],\n",
      "        [0.11372549, 0.14901961, 0.18823529],\n",
      "        [0.07058824, 0.10588235, 0.14509804],\n",
      "        ...,\n",
      "        [0.32156863, 0.34117647, 0.3372549 ],\n",
      "        [0.35294118, 0.37254902, 0.36862745],\n",
      "        [0.37254902, 0.39215686, 0.38823529]],\n",
      "\n",
      "       [[0.07843137, 0.11372549, 0.15294118],\n",
      "        [0.0627451 , 0.09803922, 0.1372549 ],\n",
      "        [0.03921569, 0.0745098 , 0.11372549],\n",
      "        ...,\n",
      "        [0.32156863, 0.34117647, 0.3372549 ],\n",
      "        [0.35294118, 0.37254902, 0.36862745],\n",
      "        [0.37254902, 0.39215686, 0.38823529]],\n",
      "\n",
      "       [[0.03921569, 0.0745098 , 0.11372549],\n",
      "        [0.03137255, 0.06666667, 0.10588235],\n",
      "        [0.02352941, 0.05882353, 0.09803922],\n",
      "        ...,\n",
      "        [0.32156863, 0.34117647, 0.3372549 ],\n",
      "        [0.35294118, 0.37254902, 0.36862745],\n",
      "        [0.37254902, 0.39215686, 0.38823529]],\n",
      "\n",
      "       ...,\n",
      "\n",
      "       [[0.30588235, 0.36862745, 0.39215686],\n",
      "        [0.30588235, 0.36862745, 0.39215686],\n",
      "        [0.29411765, 0.36470588, 0.39215686],\n",
      "        ...,\n",
      "        [0.21176471, 0.25490196, 0.28627451],\n",
      "        [0.20784314, 0.25490196, 0.27843137],\n",
      "        [0.20392157, 0.25098039, 0.2745098 ]],\n",
      "\n",
      "       [[0.30196078, 0.36470588, 0.38823529],\n",
      "        [0.30196078, 0.36470588, 0.38823529],\n",
      "        [0.29411765, 0.36470588, 0.39215686],\n",
      "        ...,\n",
      "        [0.19215686, 0.23529412, 0.26666667],\n",
      "        [0.19215686, 0.23921569, 0.2627451 ],\n",
      "        [0.19215686, 0.23921569, 0.2627451 ]],\n",
      "\n",
      "       [[0.29019608, 0.35294118, 0.37647059],\n",
      "        [0.29803922, 0.36078431, 0.38431373],\n",
      "        [0.29411765, 0.36470588, 0.39215686],\n",
      "        ...,\n",
      "        [0.17647059, 0.21960784, 0.25098039],\n",
      "        [0.18039216, 0.22745098, 0.25098039],\n",
      "        [0.18431373, 0.23137255, 0.25490196]]])]\n"
     ]
    }
   ],
   "source": [
    "img_list_5 = []\n",
    "for x in data_list[:5]:\n",
    "    imread_image = cv2.imread(x)/255\n",
    "    img_list_5.append(imread_image)\n",
    "print(len(img_list_5))\n",
    "print(img_list_5)"
   ]
  },
  {
   "cell_type": "code",
   "execution_count": 45,
   "metadata": {},
   "outputs": [
    {
     "name": "stdout",
     "output_type": "stream",
     "text": [
      "변경전 size>>  (392, 393, 3)\n",
      "변경후 size>>  (150, 150, 3)\n",
      "1\n",
      "변경전 size>>  (200, 249, 3)\n",
      "변경후 size>>  (150, 150, 3)\n",
      "2\n",
      "변경전 size>>  (500, 448, 3)\n",
      "변경후 size>>  (150, 150, 3)\n",
      "3\n",
      "변경전 size>>  (500, 340, 3)\n",
      "변경후 size>>  (150, 150, 3)\n",
      "4\n",
      "변경전 size>>  (375, 499, 3)\n",
      "변경후 size>>  (150, 150, 3)\n",
      "5\n"
     ]
    }
   ],
   "source": [
    "## 이미지 5개를 resize해주세요.(변경전, 변경후 프린트)\n",
    "resize_img_list_5 = []\n",
    "for x in img_list_5:\n",
    "    print('변경전 size>> ', x.shape)\n",
    "    x2 = cv2.resize(x, (dat_height, data_width))\n",
    "    resize_img_list_5.append(x2)\n",
    "    print('변경후 size>> ', x2.shape)\n",
    "    print(len(resize_img_list_5))"
   ]
  },
  {
   "cell_type": "code",
   "execution_count": 48,
   "metadata": {},
   "outputs": [
    {
     "data": {
      "text/plain": [
       "array([[[[0., 0., 0.],\n",
       "         [0., 0., 0.],\n",
       "         [0., 0., 0.],\n",
       "         ...,\n",
       "         [0., 0., 0.],\n",
       "         [0., 0., 0.],\n",
       "         [0., 0., 0.]],\n",
       "\n",
       "        [[0., 0., 0.],\n",
       "         [0., 0., 0.],\n",
       "         [0., 0., 0.],\n",
       "         ...,\n",
       "         [0., 0., 0.],\n",
       "         [0., 0., 0.],\n",
       "         [0., 0., 0.]],\n",
       "\n",
       "        [[0., 0., 0.],\n",
       "         [0., 0., 0.],\n",
       "         [0., 0., 0.],\n",
       "         ...,\n",
       "         [0., 0., 0.],\n",
       "         [0., 0., 0.],\n",
       "         [0., 0., 0.]],\n",
       "\n",
       "        ...,\n",
       "\n",
       "        [[0., 0., 0.],\n",
       "         [0., 0., 0.],\n",
       "         [0., 0., 0.],\n",
       "         ...,\n",
       "         [0., 0., 0.],\n",
       "         [0., 0., 0.],\n",
       "         [0., 0., 0.]],\n",
       "\n",
       "        [[0., 0., 0.],\n",
       "         [0., 0., 0.],\n",
       "         [0., 0., 0.],\n",
       "         ...,\n",
       "         [0., 0., 0.],\n",
       "         [0., 0., 0.],\n",
       "         [0., 0., 0.]],\n",
       "\n",
       "        [[0., 0., 0.],\n",
       "         [0., 0., 0.],\n",
       "         [0., 0., 0.],\n",
       "         ...,\n",
       "         [0., 0., 0.],\n",
       "         [0., 0., 0.],\n",
       "         [0., 0., 0.]]],\n",
       "\n",
       "\n",
       "       [[[0., 0., 0.],\n",
       "         [0., 0., 0.],\n",
       "         [0., 0., 0.],\n",
       "         ...,\n",
       "         [0., 0., 0.],\n",
       "         [0., 0., 0.],\n",
       "         [0., 0., 0.]],\n",
       "\n",
       "        [[0., 0., 0.],\n",
       "         [0., 0., 0.],\n",
       "         [0., 0., 0.],\n",
       "         ...,\n",
       "         [0., 0., 0.],\n",
       "         [0., 0., 0.],\n",
       "         [0., 0., 0.]],\n",
       "\n",
       "        [[0., 0., 0.],\n",
       "         [0., 0., 0.],\n",
       "         [0., 0., 0.],\n",
       "         ...,\n",
       "         [0., 0., 0.],\n",
       "         [0., 0., 0.],\n",
       "         [0., 0., 0.]],\n",
       "\n",
       "        ...,\n",
       "\n",
       "        [[0., 0., 0.],\n",
       "         [0., 0., 0.],\n",
       "         [0., 0., 0.],\n",
       "         ...,\n",
       "         [0., 0., 0.],\n",
       "         [0., 0., 0.],\n",
       "         [0., 0., 0.]],\n",
       "\n",
       "        [[0., 0., 0.],\n",
       "         [0., 0., 0.],\n",
       "         [0., 0., 0.],\n",
       "         ...,\n",
       "         [0., 0., 0.],\n",
       "         [0., 0., 0.],\n",
       "         [0., 0., 0.]],\n",
       "\n",
       "        [[0., 0., 0.],\n",
       "         [0., 0., 0.],\n",
       "         [0., 0., 0.],\n",
       "         ...,\n",
       "         [0., 0., 0.],\n",
       "         [0., 0., 0.],\n",
       "         [0., 0., 0.]]],\n",
       "\n",
       "\n",
       "       [[[0., 0., 0.],\n",
       "         [0., 0., 0.],\n",
       "         [0., 0., 0.],\n",
       "         ...,\n",
       "         [0., 0., 0.],\n",
       "         [0., 0., 0.],\n",
       "         [0., 0., 0.]],\n",
       "\n",
       "        [[0., 0., 0.],\n",
       "         [0., 0., 0.],\n",
       "         [0., 0., 0.],\n",
       "         ...,\n",
       "         [0., 0., 0.],\n",
       "         [0., 0., 0.],\n",
       "         [0., 0., 0.]],\n",
       "\n",
       "        [[0., 0., 0.],\n",
       "         [0., 0., 0.],\n",
       "         [0., 0., 0.],\n",
       "         ...,\n",
       "         [0., 0., 0.],\n",
       "         [0., 0., 0.],\n",
       "         [0., 0., 0.]],\n",
       "\n",
       "        ...,\n",
       "\n",
       "        [[0., 0., 0.],\n",
       "         [0., 0., 0.],\n",
       "         [0., 0., 0.],\n",
       "         ...,\n",
       "         [0., 0., 0.],\n",
       "         [0., 0., 0.],\n",
       "         [0., 0., 0.]],\n",
       "\n",
       "        [[0., 0., 0.],\n",
       "         [0., 0., 0.],\n",
       "         [0., 0., 0.],\n",
       "         ...,\n",
       "         [0., 0., 0.],\n",
       "         [0., 0., 0.],\n",
       "         [0., 0., 0.]],\n",
       "\n",
       "        [[0., 0., 0.],\n",
       "         [0., 0., 0.],\n",
       "         [0., 0., 0.],\n",
       "         ...,\n",
       "         [0., 0., 0.],\n",
       "         [0., 0., 0.],\n",
       "         [0., 0., 0.]]],\n",
       "\n",
       "\n",
       "       [[[0., 0., 0.],\n",
       "         [0., 0., 0.],\n",
       "         [0., 0., 0.],\n",
       "         ...,\n",
       "         [0., 0., 0.],\n",
       "         [0., 0., 0.],\n",
       "         [0., 0., 0.]],\n",
       "\n",
       "        [[0., 0., 0.],\n",
       "         [0., 0., 0.],\n",
       "         [0., 0., 0.],\n",
       "         ...,\n",
       "         [0., 0., 0.],\n",
       "         [0., 0., 0.],\n",
       "         [0., 0., 0.]],\n",
       "\n",
       "        [[0., 0., 0.],\n",
       "         [0., 0., 0.],\n",
       "         [0., 0., 0.],\n",
       "         ...,\n",
       "         [0., 0., 0.],\n",
       "         [0., 0., 0.],\n",
       "         [0., 0., 0.]],\n",
       "\n",
       "        ...,\n",
       "\n",
       "        [[0., 0., 0.],\n",
       "         [0., 0., 0.],\n",
       "         [0., 0., 0.],\n",
       "         ...,\n",
       "         [0., 0., 0.],\n",
       "         [0., 0., 0.],\n",
       "         [0., 0., 0.]],\n",
       "\n",
       "        [[0., 0., 0.],\n",
       "         [0., 0., 0.],\n",
       "         [0., 0., 0.],\n",
       "         ...,\n",
       "         [0., 0., 0.],\n",
       "         [0., 0., 0.],\n",
       "         [0., 0., 0.]],\n",
       "\n",
       "        [[0., 0., 0.],\n",
       "         [0., 0., 0.],\n",
       "         [0., 0., 0.],\n",
       "         ...,\n",
       "         [0., 0., 0.],\n",
       "         [0., 0., 0.],\n",
       "         [0., 0., 0.]]],\n",
       "\n",
       "\n",
       "       [[[0., 0., 0.],\n",
       "         [0., 0., 0.],\n",
       "         [0., 0., 0.],\n",
       "         ...,\n",
       "         [0., 0., 0.],\n",
       "         [0., 0., 0.],\n",
       "         [0., 0., 0.]],\n",
       "\n",
       "        [[0., 0., 0.],\n",
       "         [0., 0., 0.],\n",
       "         [0., 0., 0.],\n",
       "         ...,\n",
       "         [0., 0., 0.],\n",
       "         [0., 0., 0.],\n",
       "         [0., 0., 0.]],\n",
       "\n",
       "        [[0., 0., 0.],\n",
       "         [0., 0., 0.],\n",
       "         [0., 0., 0.],\n",
       "         ...,\n",
       "         [0., 0., 0.],\n",
       "         [0., 0., 0.],\n",
       "         [0., 0., 0.]],\n",
       "\n",
       "        ...,\n",
       "\n",
       "        [[0., 0., 0.],\n",
       "         [0., 0., 0.],\n",
       "         [0., 0., 0.],\n",
       "         ...,\n",
       "         [0., 0., 0.],\n",
       "         [0., 0., 0.],\n",
       "         [0., 0., 0.]],\n",
       "\n",
       "        [[0., 0., 0.],\n",
       "         [0., 0., 0.],\n",
       "         [0., 0., 0.],\n",
       "         ...,\n",
       "         [0., 0., 0.],\n",
       "         [0., 0., 0.],\n",
       "         [0., 0., 0.]],\n",
       "\n",
       "        [[0., 0., 0.],\n",
       "         [0., 0., 0.],\n",
       "         [0., 0., 0.],\n",
       "         ...,\n",
       "         [0., 0., 0.],\n",
       "         [0., 0., 0.],\n",
       "         [0., 0., 0.]]]])"
      ]
     },
     "execution_count": 48,
     "metadata": {},
     "output_type": "execute_result"
    }
   ],
   "source": [
    "total_images = np.zeros((5, dat_height, data_width, channel_n))\n",
    "total_images"
   ]
  },
  {
   "cell_type": "code",
   "execution_count": 49,
   "metadata": {},
   "outputs": [
    {
     "data": {
      "text/plain": [
       "(5, 150, 150, 3)"
      ]
     },
     "execution_count": 49,
     "metadata": {},
     "output_type": "execute_result"
    }
   ],
   "source": [
    "total_images.shape"
   ]
  },
  {
   "cell_type": "code",
   "execution_count": 50,
   "metadata": {},
   "outputs": [],
   "source": [
    "for i, x in enumerate(resize_img_list_5):\n",
    "    total_images[i, :, :, :] = x"
   ]
  },
  {
   "cell_type": "code",
   "execution_count": 51,
   "metadata": {},
   "outputs": [
    {
     "data": {
      "text/plain": [
       "array([[[0.90934588, 0.85564706, 0.98113725],\n",
       "        [0.88376627, 0.83976471, 0.9652549 ],\n",
       "        [0.85202876, 0.82352941, 0.9527451 ],\n",
       "        ...,\n",
       "        [0.26867712, 0.2843634 , 0.37848105],\n",
       "        [0.28398614, 0.29967242, 0.39379007],\n",
       "        [0.30819556, 0.32388183, 0.41799948]],\n",
       "\n",
       "       [[0.88294275, 0.8445098 , 0.95721569],\n",
       "        [0.85835294, 0.82698039, 0.94631373],\n",
       "        [0.83388235, 0.80662745, 0.93643137],\n",
       "        ...,\n",
       "        [0.27094118, 0.29239216, 0.37105882],\n",
       "        [0.29470588, 0.31819608, 0.39278431],\n",
       "        [0.31603922, 0.34047059, 0.41317647]],\n",
       "\n",
       "       [[0.83639216, 0.81544967, 0.92159346],\n",
       "        [0.81760392, 0.79636601, 0.91366928],\n",
       "        [0.79528758, 0.77240523, 0.91      ],\n",
       "        ...,\n",
       "        [0.27515033, 0.30260131, 0.36142484],\n",
       "        [0.30660131, 0.33405229, 0.39287582],\n",
       "        [0.31577908, 0.34323007, 0.40205359]],\n",
       "\n",
       "       ...,\n",
       "\n",
       "       [[0.53263791, 0.18679477, 0.54197124],\n",
       "        [0.54855294, 0.20737647, 0.54478039],\n",
       "        [0.52988235, 0.1964183 , 0.51824837],\n",
       "        ...,\n",
       "        [0.55343137, 0.54166667, 0.60441176],\n",
       "        [0.49494902, 0.48318431, 0.54592941],\n",
       "        [0.54922222, 0.53745752, 0.60020261]],\n",
       "\n",
       "       [[0.54251216, 0.19666902, 0.55184549],\n",
       "        [0.55266431, 0.21148784, 0.54874275],\n",
       "        [0.54281176, 0.20947843, 0.53104706],\n",
       "        ...,\n",
       "        [0.52221569, 0.51045098, 0.57319608],\n",
       "        [0.54270118, 0.53093647, 0.59368157],\n",
       "        [0.57219686, 0.56043216, 0.62317725]],\n",
       "\n",
       "       [[0.54657516, 0.20073203, 0.5559085 ],\n",
       "        [0.52081046, 0.17963399, 0.51688889],\n",
       "        [0.54577908, 0.21244575, 0.53401438],\n",
       "        ...,\n",
       "        [0.56302353, 0.55125882, 0.61400392],\n",
       "        [0.55265438, 0.54088967, 0.60363477],\n",
       "        [0.56289987, 0.55113516, 0.61388026]]])"
      ]
     },
     "execution_count": 51,
     "metadata": {},
     "output_type": "execute_result"
    }
   ],
   "source": [
    "total_images[0]"
   ]
  },
  {
   "cell_type": "code",
   "execution_count": null,
   "metadata": {},
   "outputs": [],
   "source": [
    "## 이미지 전처리 순서(타겟라베링한 것, 이미지 데이터셋 만드는 것 리턴): \n",
    "## 0) 0으로 채워진 4차원 행렬을 만들어 둘 것.\n",
    "## 1) 4000개의 target을 만들어주세요.\n",
    "## 1) imread로 읽기\n",
    "## 2) 255로 나누어 스케일링\n",
    "## 3) 픽셀 동일하게 resize\n",
    "## 4) 4차원으로 행렬에 넣어주세요."
   ]
  },
  {
   "cell_type": "code",
   "execution_count": 52,
   "metadata": {
    "scrolled": true
   },
   "outputs": [
    {
     "data": {
      "text/plain": [
       "array([1, 0, 1, 0, 0, 1, 0, 1, 0, 1, 0, 1, 1, 1, 1, 1, 0, 0, 1, 1, 0, 0,\n",
       "       0, 1, 1, 1, 0, 0, 0, 1, 1, 0, 1, 0, 1, 1, 0, 1, 1, 0, 1, 1, 0, 1,\n",
       "       0, 0, 1, 0, 1, 1, 0, 1, 0, 0, 1, 0, 0, 0, 0, 1, 1, 0, 0, 1, 1, 1,\n",
       "       1, 0, 0, 1, 1, 1, 1, 0, 1, 0, 1, 0, 0, 0, 0, 0, 0, 0, 1, 0, 1, 0,\n",
       "       0, 1, 1, 0, 1, 0, 1, 0, 0, 1, 1, 0])"
      ]
     },
     "execution_count": 52,
     "metadata": {},
     "output_type": "execute_result"
    }
   ],
   "source": [
    "label"
   ]
  },
  {
   "cell_type": "code",
   "execution_count": 53,
   "metadata": {},
   "outputs": [
    {
     "data": {
      "text/plain": [
       "4000"
      ]
     },
     "execution_count": 53,
     "metadata": {},
     "output_type": "execute_result"
    }
   ],
   "source": [
    "data_list_len = len(data_list)\n",
    "data_list_len"
   ]
  },
  {
   "cell_type": "code",
   "execution_count": 56,
   "metadata": {},
   "outputs": [],
   "source": [
    "def make_file(dat_height, data_width, channel_n, data_list_len):\n",
    "    label = []\n",
    "    images = np.zeros((data_list_len, dat_height, data_width, channel_n))\n",
    "    for i, image in enumerate(data_list):\n",
    "        \n",
    "        ##라벨링\n",
    "        token = text_to_word_sequence(image)\n",
    "        label.append(token[0])\n",
    "        \n",
    "        ## 이미지 읽고, 스케일링, 리사이징\n",
    "        image = cv2.imread(image)\n",
    "        image = cv2.resize(image, (dat_height, data_width)) / 255\n",
    "        images[i, :, :, :] = image\n",
    "    label = np.array(label)\n",
    "    return (label, images)    "
   ]
  },
  {
   "cell_type": "code",
   "execution_count": 57,
   "metadata": {},
   "outputs": [],
   "source": [
    "(label, images) = make_file(dat_height, data_width, channel_n, data_list_len)"
   ]
  },
  {
   "cell_type": "code",
   "execution_count": 58,
   "metadata": {},
   "outputs": [
    {
     "data": {
      "text/plain": [
       "(4000,)"
      ]
     },
     "execution_count": 58,
     "metadata": {},
     "output_type": "execute_result"
    }
   ],
   "source": [
    "label.shape"
   ]
  },
  {
   "cell_type": "code",
   "execution_count": 59,
   "metadata": {},
   "outputs": [
    {
     "data": {
      "text/plain": [
       "(4000, 150, 150, 3)"
      ]
     },
     "execution_count": 59,
     "metadata": {},
     "output_type": "execute_result"
    }
   ],
   "source": [
    "images.shape"
   ]
  },
  {
   "cell_type": "code",
   "execution_count": 89,
   "metadata": {},
   "outputs": [
    {
     "data": {
      "text/plain": [
       "array(['dog', 'cat', 'dog', ..., 'cat', 'cat', 'dog'], dtype='<U3')"
      ]
     },
     "execution_count": 89,
     "metadata": {},
     "output_type": "execute_result"
    }
   ],
   "source": [
    "items"
   ]
  },
  {
   "cell_type": "code",
   "execution_count": 90,
   "metadata": {},
   "outputs": [
    {
     "data": {
      "text/plain": [
       "4000"
      ]
     },
     "execution_count": 90,
     "metadata": {},
     "output_type": "execute_result"
    }
   ],
   "source": [
    "len(items)"
   ]
  },
  {
   "cell_type": "code",
   "execution_count": 60,
   "metadata": {},
   "outputs": [
    {
     "data": {
      "text/plain": [
       "array([1, 0, 1, ..., 0, 0, 1])"
      ]
     },
     "execution_count": 60,
     "metadata": {},
     "output_type": "execute_result"
    }
   ],
   "source": [
    "items = label\n",
    "encoder = LabelEncoder()\n",
    "label = encoder.fit_transform(items)\n",
    "label "
   ]
  },
  {
   "cell_type": "code",
   "execution_count": 91,
   "metadata": {},
   "outputs": [
    {
     "data": {
      "text/plain": [
       "4000"
      ]
     },
     "execution_count": 91,
     "metadata": {},
     "output_type": "execute_result"
    }
   ],
   "source": [
    "len(label)"
   ]
  },
  {
   "cell_type": "code",
   "execution_count": 61,
   "metadata": {},
   "outputs": [
    {
     "data": {
      "text/plain": [
       "array(['cat', 'dog'], dtype='<U3')"
      ]
     },
     "execution_count": 61,
     "metadata": {},
     "output_type": "execute_result"
    }
   ],
   "source": [
    "encoder.classes_"
   ]
  },
  {
   "cell_type": "code",
   "execution_count": 62,
   "metadata": {},
   "outputs": [
    {
     "name": "stdout",
     "output_type": "stream",
     "text": [
      "(3200, 150, 150, 3) (800, 150, 150, 3)\n"
     ]
    }
   ],
   "source": [
    "from sklearn.model_selection import train_test_split\n",
    "x = images\n",
    "y = label\n",
    "\n",
    "X_train, X_test, y_train, y_test = train_test_split(x, \n",
    "                                                    y, \n",
    "                                                    test_size= 0.2,\n",
    "                                                    random_state=55\n",
    "                                                   )\n",
    "print(X_train.shape, X_test.shape)"
   ]
  },
  {
   "cell_type": "code",
   "execution_count": 92,
   "metadata": {},
   "outputs": [
    {
     "data": {
      "text/plain": [
       "array([[[[0.90980392, 0.85490196, 0.98039216],\n",
       "         [0.88235294, 0.83921569, 0.96470588],\n",
       "         [0.85098039, 0.82352941, 0.95294118],\n",
       "         ...,\n",
       "         [0.26666667, 0.28235294, 0.37647059],\n",
       "         [0.28235294, 0.29803922, 0.39215686],\n",
       "         [0.30980392, 0.32156863, 0.41568627]],\n",
       "\n",
       "        [[0.88235294, 0.84313725, 0.95686275],\n",
       "         [0.85882353, 0.82745098, 0.94509804],\n",
       "         [0.83529412, 0.80784314, 0.9372549 ],\n",
       "         ...,\n",
       "         [0.27058824, 0.29411765, 0.36862745],\n",
       "         [0.29411765, 0.31764706, 0.39215686],\n",
       "         [0.31372549, 0.34117647, 0.41176471]],\n",
       "\n",
       "        [[0.83529412, 0.81568627, 0.92156863],\n",
       "         [0.81568627, 0.79607843, 0.91372549],\n",
       "         [0.79607843, 0.77254902, 0.90980392],\n",
       "         ...,\n",
       "         [0.2745098 , 0.30196078, 0.36078431],\n",
       "         [0.30588235, 0.33333333, 0.39215686],\n",
       "         [0.31764706, 0.34117647, 0.4       ]],\n",
       "\n",
       "        ...,\n",
       "\n",
       "        [[0.53333333, 0.18823529, 0.54117647],\n",
       "         [0.54901961, 0.20784314, 0.54509804],\n",
       "         [0.52941176, 0.19607843, 0.51764706],\n",
       "         ...,\n",
       "         [0.55294118, 0.54117647, 0.60392157],\n",
       "         [0.49411765, 0.48235294, 0.54509804],\n",
       "         [0.54901961, 0.5372549 , 0.6       ]],\n",
       "\n",
       "        [[0.54117647, 0.19607843, 0.55294118],\n",
       "         [0.55294118, 0.21176471, 0.54901961],\n",
       "         [0.54117647, 0.20784314, 0.52941176],\n",
       "         ...,\n",
       "         [0.52156863, 0.50980392, 0.57254902],\n",
       "         [0.54117647, 0.52941176, 0.59215686],\n",
       "         [0.57254902, 0.56078431, 0.62352941]],\n",
       "\n",
       "        [[0.54509804, 0.2       , 0.55686275],\n",
       "         [0.52156863, 0.18039216, 0.51764706],\n",
       "         [0.54509804, 0.21176471, 0.53333333],\n",
       "         ...,\n",
       "         [0.56078431, 0.54901961, 0.61568627],\n",
       "         [0.55294118, 0.54117647, 0.60392157],\n",
       "         [0.56078431, 0.55294118, 0.61176471]]],\n",
       "\n",
       "\n",
       "       [[[1.        , 1.        , 1.        ],\n",
       "         [1.        , 1.        , 1.        ],\n",
       "         [1.        , 1.        , 1.        ],\n",
       "         ...,\n",
       "         [0.35686275, 0.40392157, 0.41960784],\n",
       "         [0.34901961, 0.39215686, 0.40784314],\n",
       "         [0.3254902 , 0.36862745, 0.38431373]],\n",
       "\n",
       "        [[1.        , 1.        , 1.        ],\n",
       "         [1.        , 1.        , 1.        ],\n",
       "         [1.        , 1.        , 1.        ],\n",
       "         ...,\n",
       "         [0.36862745, 0.40784314, 0.42352941],\n",
       "         [0.35294118, 0.39215686, 0.40784314],\n",
       "         [0.32941176, 0.36862745, 0.38431373]],\n",
       "\n",
       "        [[1.        , 1.        , 1.        ],\n",
       "         [1.        , 1.        , 1.        ],\n",
       "         [1.        , 1.        , 1.        ],\n",
       "         ...,\n",
       "         [0.37647059, 0.4       , 0.41960784],\n",
       "         [0.34509804, 0.37254902, 0.39215686],\n",
       "         [0.31372549, 0.33333333, 0.35294118]],\n",
       "\n",
       "        ...,\n",
       "\n",
       "        [[0.37254902, 0.39215686, 0.40784314],\n",
       "         [0.33333333, 0.36078431, 0.39607843],\n",
       "         [0.36470588, 0.42352941, 0.4627451 ],\n",
       "         ...,\n",
       "         [0.26666667, 0.30196078, 0.31764706],\n",
       "         [0.25098039, 0.2745098 , 0.29411765],\n",
       "         [0.22352941, 0.23921569, 0.25882353]],\n",
       "\n",
       "        [[0.36862745, 0.38431373, 0.40392157],\n",
       "         [0.33333333, 0.36078431, 0.39607843],\n",
       "         [0.34117647, 0.39607843, 0.43921569],\n",
       "         ...,\n",
       "         [0.25098039, 0.28627451, 0.30196078],\n",
       "         [0.23921569, 0.2627451 , 0.28235294],\n",
       "         [0.21176471, 0.22745098, 0.24705882]],\n",
       "\n",
       "        [[0.35686275, 0.37647059, 0.39607843],\n",
       "         [0.32156863, 0.34901961, 0.38431373],\n",
       "         [0.32156863, 0.37647059, 0.41568627],\n",
       "         ...,\n",
       "         [0.25882353, 0.29411765, 0.30980392],\n",
       "         [0.24313725, 0.26666667, 0.28627451],\n",
       "         [0.21960784, 0.23529412, 0.25490196]]],\n",
       "\n",
       "\n",
       "       [[[0.18039216, 0.22745098, 0.38431373],\n",
       "         [0.18039216, 0.22745098, 0.36862745],\n",
       "         [0.16470588, 0.21568627, 0.31764706],\n",
       "         ...,\n",
       "         [0.32156863, 0.29803922, 0.27058824],\n",
       "         [0.32156863, 0.29803922, 0.27058824],\n",
       "         [0.32156863, 0.29803922, 0.27058824]],\n",
       "\n",
       "        [[0.19607843, 0.24313725, 0.4       ],\n",
       "         [0.18823529, 0.23921569, 0.38039216],\n",
       "         [0.18823529, 0.24313725, 0.35686275],\n",
       "         ...,\n",
       "         [0.31764706, 0.29803922, 0.2627451 ],\n",
       "         [0.31764706, 0.29803922, 0.2627451 ],\n",
       "         [0.31764706, 0.29803922, 0.2627451 ]],\n",
       "\n",
       "        [[0.18823529, 0.25490196, 0.40784314],\n",
       "         [0.17254902, 0.23137255, 0.37647059],\n",
       "         [0.18431373, 0.24313725, 0.37254902],\n",
       "         ...,\n",
       "         [0.31372549, 0.30196078, 0.24705882],\n",
       "         [0.31764706, 0.30588235, 0.25098039],\n",
       "         [0.32156863, 0.30588235, 0.25490196]],\n",
       "\n",
       "        ...,\n",
       "\n",
       "        [[0.52941176, 0.56078431, 0.58823529],\n",
       "         [0.49803922, 0.52941176, 0.55686275],\n",
       "         [0.50588235, 0.5372549 , 0.56470588],\n",
       "         ...,\n",
       "         [0.63921569, 0.64705882, 0.67843137],\n",
       "         [0.63137255, 0.63921569, 0.67058824],\n",
       "         [0.63137255, 0.63921569, 0.67058824]],\n",
       "\n",
       "        [[0.51764706, 0.54901961, 0.57647059],\n",
       "         [0.49411765, 0.52156863, 0.55294118],\n",
       "         [0.50588235, 0.5372549 , 0.56862745],\n",
       "         ...,\n",
       "         [0.6627451 , 0.67058824, 0.70196078],\n",
       "         [0.63137255, 0.63921569, 0.67058824],\n",
       "         [0.63921569, 0.64705882, 0.67843137]],\n",
       "\n",
       "        [[0.52941176, 0.54509804, 0.58823529],\n",
       "         [0.48627451, 0.50980392, 0.55294118],\n",
       "         [0.49803922, 0.53333333, 0.57254902],\n",
       "         ...,\n",
       "         [0.6627451 , 0.66666667, 0.70588235],\n",
       "         [0.65098039, 0.65882353, 0.69019608],\n",
       "         [0.63529412, 0.64705882, 0.66666667]]],\n",
       "\n",
       "\n",
       "       ...,\n",
       "\n",
       "\n",
       "       [[[0.45882353, 0.42352941, 0.43921569],\n",
       "         [0.42352941, 0.49411765, 0.52156863],\n",
       "         [0.89411765, 0.93333333, 0.97254902],\n",
       "         ...,\n",
       "         [0.38039216, 0.4       , 0.39607843],\n",
       "         [0.31372549, 0.35686275, 0.34901961],\n",
       "         [0.31764706, 0.28235294, 0.28235294]],\n",
       "\n",
       "        [[0.48627451, 0.45882353, 0.47058824],\n",
       "         [0.3254902 , 0.40392157, 0.43137255],\n",
       "         [0.90196078, 0.94117647, 0.98431373],\n",
       "         ...,\n",
       "         [0.25098039, 0.27058824, 0.26666667],\n",
       "         [0.24705882, 0.27058824, 0.2627451 ],\n",
       "         [0.27058824, 0.25490196, 0.25098039]],\n",
       "\n",
       "        [[0.4627451 , 0.43529412, 0.44705882],\n",
       "         [0.28235294, 0.36862745, 0.39607843],\n",
       "         [0.90980392, 0.96470588, 0.99607843],\n",
       "         ...,\n",
       "         [0.25882353, 0.27843137, 0.2745098 ],\n",
       "         [0.25490196, 0.26666667, 0.2627451 ],\n",
       "         [0.23921569, 0.25098039, 0.24313725]],\n",
       "\n",
       "        ...,\n",
       "\n",
       "        [[0.43921569, 0.49411765, 0.47058824],\n",
       "         [0.58823529, 0.64313725, 0.63529412],\n",
       "         [0.58039216, 0.64313725, 0.65490196],\n",
       "         ...,\n",
       "         [0.82352941, 0.87058824, 0.88627451],\n",
       "         [0.82352941, 0.87058824, 0.88627451],\n",
       "         [0.82745098, 0.87058824, 0.88627451]],\n",
       "\n",
       "        [[0.4745098 , 0.56078431, 0.54901961],\n",
       "         [0.6627451 , 0.74901961, 0.74117647],\n",
       "         [0.28235294, 0.37647059, 0.38431373],\n",
       "         ...,\n",
       "         [0.82352941, 0.86666667, 0.88235294],\n",
       "         [0.79607843, 0.8627451 , 0.8745098 ],\n",
       "         [0.81960784, 0.8745098 , 0.87058824]],\n",
       "\n",
       "        [[0.50980392, 0.59607843, 0.58823529],\n",
       "         [0.5254902 , 0.61960784, 0.60784314],\n",
       "         [0.44705882, 0.54509804, 0.55294118],\n",
       "         ...,\n",
       "         [0.82745098, 0.86666667, 0.88235294],\n",
       "         [0.79215686, 0.8627451 , 0.8745098 ],\n",
       "         [0.81568627, 0.8745098 , 0.87058824]]],\n",
       "\n",
       "\n",
       "       [[[0.04705882, 0.0745098 , 0.0627451 ],\n",
       "         [0.04705882, 0.0745098 , 0.0627451 ],\n",
       "         [0.05098039, 0.07843137, 0.06666667],\n",
       "         ...,\n",
       "         [0.01568627, 0.03529412, 0.03137255],\n",
       "         [0.01568627, 0.03529412, 0.03137255],\n",
       "         [0.01176471, 0.02745098, 0.03137255]],\n",
       "\n",
       "        [[0.04705882, 0.07058824, 0.06666667],\n",
       "         [0.04705882, 0.07058824, 0.06666667],\n",
       "         [0.04313725, 0.07058824, 0.06666667],\n",
       "         ...,\n",
       "         [0.01568627, 0.03529412, 0.03137255],\n",
       "         [0.01568627, 0.03529412, 0.03137255],\n",
       "         [0.01176471, 0.02745098, 0.03137255]],\n",
       "\n",
       "        [[0.03529412, 0.07058824, 0.07058824],\n",
       "         [0.03529412, 0.07058824, 0.07058824],\n",
       "         [0.03137255, 0.06666667, 0.06666667],\n",
       "         ...,\n",
       "         [0.01568627, 0.03529412, 0.03137255],\n",
       "         [0.01568627, 0.03529412, 0.03137255],\n",
       "         [0.01176471, 0.02745098, 0.03137255]],\n",
       "\n",
       "        ...,\n",
       "\n",
       "        [[0.34901961, 0.50588235, 0.55294118],\n",
       "         [0.35294118, 0.50980392, 0.55686275],\n",
       "         [0.34901961, 0.50588235, 0.55294118],\n",
       "         ...,\n",
       "         [0.17647059, 0.29411765, 0.30980392],\n",
       "         [0.16078431, 0.27843137, 0.29803922],\n",
       "         [0.18039216, 0.29019608, 0.31764706]],\n",
       "\n",
       "        [[0.34117647, 0.49803922, 0.54509804],\n",
       "         [0.34901961, 0.50588235, 0.55294118],\n",
       "         [0.33333333, 0.49019608, 0.5372549 ],\n",
       "         ...,\n",
       "         [0.17254902, 0.29411765, 0.30588235],\n",
       "         [0.15686275, 0.27843137, 0.29019608],\n",
       "         [0.16470588, 0.27843137, 0.30588235]],\n",
       "\n",
       "        [[0.3372549 , 0.49411765, 0.54117647],\n",
       "         [0.34117647, 0.49803922, 0.54509804],\n",
       "         [0.34901961, 0.50588235, 0.55294118],\n",
       "         ...,\n",
       "         [0.16862745, 0.29019608, 0.30196078],\n",
       "         [0.17254902, 0.29411765, 0.30588235],\n",
       "         [0.18823529, 0.30196078, 0.32941176]]],\n",
       "\n",
       "\n",
       "       [[[0.10980392, 0.10980392, 0.17647059],\n",
       "         [0.17647059, 0.15294118, 0.18039216],\n",
       "         [0.6745098 , 0.63921569, 0.60784314],\n",
       "         ...,\n",
       "         [0.70588235, 0.8627451 , 0.77254902],\n",
       "         [0.96862745, 0.89019608, 0.84313725],\n",
       "         [0.92156863, 0.85882353, 0.85490196]],\n",
       "\n",
       "        [[0.04313725, 0.08627451, 0.05490196],\n",
       "         [0.1254902 , 0.12941176, 0.10980392],\n",
       "         [0.12156863, 0.10980392, 0.10588235],\n",
       "         ...,\n",
       "         [0.48627451, 0.67058824, 0.60784314],\n",
       "         [0.88627451, 0.91764706, 0.87843137],\n",
       "         [0.98039216, 0.9372549 , 0.91372549]],\n",
       "\n",
       "        [[0.03529412, 0.08235294, 0.03529412],\n",
       "         [0.10588235, 0.13333333, 0.12156863],\n",
       "         [0.0627451 , 0.08235294, 0.10980392],\n",
       "         ...,\n",
       "         [0.4745098 , 0.76862745, 0.6745098 ],\n",
       "         [0.75686275, 0.85882353, 0.80784314],\n",
       "         [1.        , 0.98431373, 0.94509804]],\n",
       "\n",
       "        ...,\n",
       "\n",
       "        [[0.62745098, 0.78823529, 0.84705882],\n",
       "         [0.18039216, 0.30196078, 0.36862745],\n",
       "         [0.22745098, 0.31764706, 0.38823529],\n",
       "         ...,\n",
       "         [0.29019608, 0.34509804, 0.43529412],\n",
       "         [0.23921569, 0.30980392, 0.38039216],\n",
       "         [0.2       , 0.28235294, 0.31764706]],\n",
       "\n",
       "        [[0.65882353, 0.81568627, 0.8745098 ],\n",
       "         [0.28235294, 0.41176471, 0.4745098 ],\n",
       "         [0.23529412, 0.34117647, 0.40784314],\n",
       "         ...,\n",
       "         [0.33333333, 0.39215686, 0.49019608],\n",
       "         [0.34117647, 0.40784314, 0.48235294],\n",
       "         [0.33333333, 0.41176471, 0.45490196]],\n",
       "\n",
       "        [[0.40392157, 0.55294118, 0.61176471],\n",
       "         [0.18431373, 0.31372549, 0.37647059],\n",
       "         [0.34509804, 0.48235294, 0.54509804],\n",
       "         ...,\n",
       "         [0.19607843, 0.25490196, 0.35686275],\n",
       "         [0.33333333, 0.4       , 0.4745098 ],\n",
       "         [0.23921569, 0.30980392, 0.37254902]]]])"
      ]
     },
     "execution_count": 92,
     "metadata": {},
     "output_type": "execute_result"
    }
   ],
   "source": [
    "x"
   ]
  },
  {
   "cell_type": "code",
   "execution_count": 94,
   "metadata": {},
   "outputs": [
    {
     "data": {
      "text/plain": [
       "4000"
      ]
     },
     "execution_count": 94,
     "metadata": {},
     "output_type": "execute_result"
    }
   ],
   "source": [
    "len(y)"
   ]
  },
  {
   "cell_type": "code",
   "execution_count": null,
   "metadata": {},
   "outputs": [],
   "source": []
  },
  {
   "cell_type": "code",
   "execution_count": 65,
   "metadata": {},
   "outputs": [],
   "source": [
    "## 딥러닝 모델을 만들어보자.\n",
    "from tensorflow.keras.layers import Dropout\n",
    "from tensorflow import keras\n",
    "import tensorflow as tf\n",
    "from tensorflow.keras import datasets, layers, models"
   ]
  },
  {
   "cell_type": "code",
   "execution_count": 95,
   "metadata": {},
   "outputs": [
    {
     "name": "stdout",
     "output_type": "stream",
     "text": [
      "Model: \"sequential_2\"\n",
      "_________________________________________________________________\n",
      " Layer (type)                Output Shape              Param #   \n",
      "=================================================================\n",
      " conv2d_2 (Conv2D)           (None, 148, 148, 32)      896       \n",
      "                                                                 \n",
      " max_pooling2d_2 (MaxPooling  (None, 74, 74, 32)       0         \n",
      " 2D)                                                             \n",
      "                                                                 \n",
      " conv2d_3 (Conv2D)           (None, 72, 72, 64)        18496     \n",
      "                                                                 \n",
      " max_pooling2d_3 (MaxPooling  (None, 36, 36, 64)       0         \n",
      " 2D)                                                             \n",
      "                                                                 \n",
      " flatten_1 (Flatten)         (None, 82944)             0         \n",
      "                                                                 \n",
      " dense_2 (Dense)             (None, 64)                5308480   \n",
      "                                                                 \n",
      " dropout_1 (Dropout)         (None, 64)                0         \n",
      "                                                                 \n",
      " dense_3 (Dense)             (None, 32)                2080      \n",
      "                                                                 \n",
      " dropout_2 (Dropout)         (None, 32)                0         \n",
      "                                                                 \n",
      " dense_4 (Dense)             (None, 5)                 165       \n",
      "                                                                 \n",
      " dropout_3 (Dropout)         (None, 5)                 0         \n",
      "                                                                 \n",
      " dense_5 (Dense)             (None, 1)                 6         \n",
      "                                                                 \n",
      "=================================================================\n",
      "Total params: 5,330,123\n",
      "Trainable params: 5,330,123\n",
      "Non-trainable params: 0\n",
      "_________________________________________________________________\n"
     ]
    }
   ],
   "source": [
    "model = models.Sequential()\n",
    "model.add(layers.Conv2D(32, (3, 3), activation='relu', input_shape=(dat_height, data_width, 3)))\n",
    "model.add(layers.MaxPool2D((2,2)))\n",
    "model.add(layers.Conv2D(64, (3, 3), activation='relu'))\n",
    "model.add(layers.MaxPool2D((2,2)))\n",
    "\n",
    "model.add(layers.Flatten())\n",
    "model.add(layers.Dense(64, activation='relu'))\n",
    "model.add(layers.Dropout(rate=0.5))\n",
    "model.add(layers.Dense(32, activation='relu'))\n",
    "model.add(layers.Dropout(rate=0.5))\n",
    "model.add(layers.Dense(5, activation='relu'))\n",
    "model.add(layers.Dropout(rate=0.5))\n",
    "model.add(layers.Dense(1, activation='sigmoid')) #결과가 엘리먼트로 출력됨. 0.5를 기준으로 판별\n",
    "model.summary()"
   ]
  },
  {
   "cell_type": "code",
   "execution_count": 96,
   "metadata": {},
   "outputs": [],
   "source": [
    "model.compile(optimizer='adam',\n",
    "              loss='binary_crossentropy',\n",
    "              metrics=['accuracy']\n",
    "             )"
   ]
  },
  {
   "cell_type": "code",
   "execution_count": 97,
   "metadata": {},
   "outputs": [
    {
     "name": "stdout",
     "output_type": "stream",
     "text": [
      "Epoch 1/20\n",
      "25/25 - 32s - loss: 0.7473 - accuracy: 0.4941 - val_loss: 0.6932 - val_accuracy: 0.5038 - 32s/epoch - 1s/step\n",
      "Epoch 2/20\n",
      "25/25 - 31s - loss: 0.6932 - accuracy: 0.5113 - val_loss: 0.6932 - val_accuracy: 0.4963 - 31s/epoch - 1s/step\n",
      "Epoch 3/20\n",
      "25/25 - 31s - loss: 0.6930 - accuracy: 0.5178 - val_loss: 0.6929 - val_accuracy: 0.5163 - 31s/epoch - 1s/step\n",
      "Epoch 4/20\n",
      "25/25 - 33s - loss: 0.6898 - accuracy: 0.5356 - val_loss: 0.6954 - val_accuracy: 0.5000 - 33s/epoch - 1s/step\n",
      "Epoch 5/20\n",
      "25/25 - 31s - loss: 0.6965 - accuracy: 0.5387 - val_loss: 0.6885 - val_accuracy: 0.5825 - 31s/epoch - 1s/step\n",
      "Epoch 6/20\n",
      "25/25 - 34s - loss: 0.6893 - accuracy: 0.5284 - val_loss: 0.6912 - val_accuracy: 0.5537 - 34s/epoch - 1s/step\n",
      "Epoch 7/20\n",
      "25/25 - 33s - loss: 0.6808 - accuracy: 0.5641 - val_loss: 0.6840 - val_accuracy: 0.6237 - 33s/epoch - 1s/step\n",
      "Epoch 8/20\n",
      "25/25 - 36s - loss: 0.6644 - accuracy: 0.6125 - val_loss: 0.6589 - val_accuracy: 0.6538 - 36s/epoch - 1s/step\n",
      "Epoch 9/20\n",
      "25/25 - 36s - loss: 0.6594 - accuracy: 0.6062 - val_loss: 0.6653 - val_accuracy: 0.6275 - 36s/epoch - 1s/step\n",
      "Epoch 10/20\n",
      "25/25 - 35s - loss: 0.6360 - accuracy: 0.6600 - val_loss: 0.6487 - val_accuracy: 0.6400 - 35s/epoch - 1s/step\n",
      "Epoch 11/20\n",
      "25/25 - 37s - loss: 0.6013 - accuracy: 0.6978 - val_loss: 0.6447 - val_accuracy: 0.6413 - 37s/epoch - 1s/step\n",
      "Epoch 12/20\n",
      "25/25 - 36s - loss: 0.5764 - accuracy: 0.7231 - val_loss: 0.6658 - val_accuracy: 0.6400 - 36s/epoch - 1s/step\n",
      "Epoch 13/20\n",
      "25/25 - 36s - loss: 0.5561 - accuracy: 0.7278 - val_loss: 0.6396 - val_accuracy: 0.6525 - 36s/epoch - 1s/step\n",
      "Epoch 14/20\n",
      "25/25 - 37s - loss: 0.5185 - accuracy: 0.7716 - val_loss: 0.6797 - val_accuracy: 0.6500 - 37s/epoch - 1s/step\n",
      "Epoch 15/20\n",
      "25/25 - 40s - loss: 0.4782 - accuracy: 0.7969 - val_loss: 0.7498 - val_accuracy: 0.6375 - 40s/epoch - 2s/step\n",
      "Epoch 16/20\n",
      "25/25 - 39s - loss: 0.4468 - accuracy: 0.8213 - val_loss: 0.6743 - val_accuracy: 0.6488 - 39s/epoch - 2s/step\n",
      "Epoch 17/20\n",
      "25/25 - 38s - loss: 0.4672 - accuracy: 0.8106 - val_loss: 0.7356 - val_accuracy: 0.6438 - 38s/epoch - 2s/step\n",
      "Epoch 18/20\n",
      "25/25 - 39s - loss: 0.4232 - accuracy: 0.8391 - val_loss: 0.7569 - val_accuracy: 0.6438 - 39s/epoch - 2s/step\n"
     ]
    }
   ],
   "source": [
    "early_stopping = keras.callbacks.EarlyStopping(patience=5, restore_best_weights=True)\n",
    "checkpoint = keras.callbacks.ModelCheckpoint('best_animalCNN_model.h5')\n",
    "                                               \n",
    "cnn_history = model.fit( X_train, \n",
    "                         y_train,                \n",
    "                         batch_size=128,\n",
    "                         epochs=20,\n",
    "                         validation_data = (X_test, y_test),\n",
    "                         callbacks = [early_stopping, checkpoint],\n",
    "                         verbose=2\n",
    "                        )"
   ]
  },
  {
   "cell_type": "code",
   "execution_count": 98,
   "metadata": {},
   "outputs": [
    {
     "name": "stdout",
     "output_type": "stream",
     "text": [
      "25/25 [==============================] - 3s 63ms/step - loss: 0.6396 - accuracy: 0.6525\n"
     ]
    },
    {
     "data": {
      "text/plain": [
       "[0.639580488204956, 0.6524999737739563]"
      ]
     },
     "execution_count": 98,
     "metadata": {},
     "output_type": "execute_result"
    }
   ],
   "source": [
    "model.evaluate(X_test,y_test)"
   ]
  },
  {
   "cell_type": "code",
   "execution_count": 71,
   "metadata": {},
   "outputs": [
    {
     "data": {
      "text/plain": [
       "<matplotlib.legend.Legend at 0x7fecf03118d0>"
      ]
     },
     "execution_count": 71,
     "metadata": {},
     "output_type": "execute_result"
    },
    {
     "data": {
      "image/png": "[encoded data removed]",
      "text/plain": [
       "<Figure size 864x288 with 2 Axes>"
      ]
     },
     "metadata": {
      "needs_background": "light"
     },
     "output_type": "display_data"
    }
   ],
   "source": [
    "plt.figure(figsize=(12,4))\n",
    "plt.subplot(1, 2, 1)\n",
    "plt.plot(cnn_history.history['accuracy'])\n",
    "plt.plot(cnn_history.history['val_accuracy'])\n",
    "plt.title('model accuracy')\n",
    "plt.xlabel('epoch')\n",
    "plt.ylabel('accuracy')\n",
    "plt.legend(['train', 'validation'])\n",
    "\n",
    "plt.subplot(1, 2, 2)\n",
    "plt.plot(cnn_history.history['loss'])\n",
    "plt.plot(cnn_history.history['val_loss'])\n",
    "plt.title('model loss')\n",
    "plt.xlabel('epoch')\n",
    "plt.ylabel('loss')\n",
    "plt.legend(['train', 'validation'])"
   ]
  },
  {
   "cell_type": "code",
   "execution_count": 75,
   "metadata": {},
   "outputs": [
    {
     "name": "stdout",
     "output_type": "stream",
     "text": [
      "Model: \"sequential_1\"\n",
      "_________________________________________________________________\n",
      " Layer (type)                Output Shape              Param #   \n",
      "=================================================================\n",
      " conv2d (Conv2D)             (None, 148, 148, 32)      896       \n",
      "                                                                 \n",
      " max_pooling2d (MaxPooling2D  (None, 74, 74, 32)       0         \n",
      " )                                                               \n",
      "                                                                 \n",
      " conv2d_1 (Conv2D)           (None, 72, 72, 64)        18496     \n",
      "                                                                 \n",
      " max_pooling2d_1 (MaxPooling  (None, 36, 36, 64)       0         \n",
      " 2D)                                                             \n",
      "                                                                 \n",
      " flatten (Flatten)           (None, 82944)             0         \n",
      "                                                                 \n",
      " dense (Dense)               (None, 64)                5308480   \n",
      "                                                                 \n",
      " dropout (Dropout)           (None, 64)                0         \n",
      "                                                                 \n",
      " dense_1 (Dense)             (None, 1)                 65        \n",
      "                                                                 \n",
      "=================================================================\n",
      "Total params: 5,327,937\n",
      "Trainable params: 5,327,937\n",
      "Non-trainable params: 0\n",
      "_________________________________________________________________\n"
     ]
    }
   ],
   "source": [
    "from tensorflow.keras.models import load_model\n",
    "best_model = load_model('best_animalCNN_model.h5')\n",
    "best_model.summary()"
   ]
  },
  {
   "cell_type": "code",
   "execution_count": 83,
   "metadata": {},
   "outputs": [],
   "source": [
    "y_pred_proba = best_model.predict(X_test[2:3])"
   ]
  },
  {
   "cell_type": "code",
   "execution_count": 99,
   "metadata": {},
   "outputs": [
    {
     "data": {
      "text/plain": [
       "(1, 150, 150, 3)"
      ]
     },
     "execution_count": 99,
     "metadata": {},
     "output_type": "execute_result"
    }
   ],
   "source": [
    "X_test[2:3].shape"
   ]
  },
  {
   "cell_type": "code",
   "execution_count": 84,
   "metadata": {},
   "outputs": [
    {
     "data": {
      "text/plain": [
       "1"
      ]
     },
     "execution_count": 84,
     "metadata": {},
     "output_type": "execute_result"
    }
   ],
   "source": [
    "y_test[2]"
   ]
  },
  {
   "cell_type": "code",
   "execution_count": 100,
   "metadata": {},
   "outputs": [
    {
     "name": "stdout",
     "output_type": "stream",
     "text": [
      "dog\n"
     ]
    }
   ],
   "source": [
    "if y_pred_proba > 0.5 :\n",
    "    print('dog')\n",
    "else:\n",
    "    print('cat')"
   ]
  },
  {
   "cell_type": "code",
   "execution_count": 86,
   "metadata": {},
   "outputs": [
    {
     "data": {
      "text/plain": [
       "0"
      ]
     },
     "execution_count": 86,
     "metadata": {},
     "output_type": "execute_result"
    }
   ],
   "source": [
    "(y_pred_proba)"
   ]
  },
  {
   "cell_type": "code",
   "execution_count": 82,
   "metadata": {},
   "outputs": [
    {
     "data": {
      "text/plain": [
       "array([0, 0, 1, 0, 1])"
      ]
     },
     "execution_count": 82,
     "metadata": {},
     "output_type": "execute_result"
    }
   ],
   "source": [
    "y_test[:5]"
   ]
  },
  {
   "cell_type": "code",
   "execution_count": 87,
   "metadata": {},
   "outputs": [],
   "source": [
    "y_pred_proba2 = model.predict(X_test[2:3])"
   ]
  },
  {
   "cell_type": "code",
   "execution_count": 101,
   "metadata": {},
   "outputs": [
    {
     "name": "stdout",
     "output_type": "stream",
     "text": [
      "dog\n"
     ]
    }
   ],
   "source": [
    "if y_pred_proba2 > 0.5 :\n",
    "    print('dog')\n",
    "else:\n",
    "    print('cat')"
   ]
  },
  {
   "cell_type": "code",
   "execution_count": 102,
   "metadata": {},
   "outputs": [
    {
     "data": {
      "text/plain": [
       "0"
      ]
     },
     "execution_count": 102,
     "metadata": {},
     "output_type": "execute_result"
    }
   ],
   "source": [
    "y_test[0]"
   ]
  },
  {
   "cell_type": "code",
   "execution_count": 103,
   "metadata": {},
   "outputs": [],
   "source": [
    "y_pred_proba3 = best_model.predict(X_test[0:1])"
   ]
  },
  {
   "cell_type": "code",
   "execution_count": 104,
   "metadata": {},
   "outputs": [
    {
     "name": "stdout",
     "output_type": "stream",
     "text": [
      "cat\n"
     ]
    }
   ],
   "source": [
    "if y_pred_proba3 > 0.5 :\n",
    "    print('dog')\n",
    "else:\n",
    "    print('cat')"
   ]
  },
  {
   "cell_type": "code",
   "execution_count": 110,
   "metadata": {},
   "outputs": [],
   "source": [
    "# Pre-trained 모델 가져오기 (VGG16)\n",
    "from tensorflow.keras.applications import ResNet50\n",
    "cnn_base = ResNet50(include_top=False, weights='imagenet', \n",
    "                 input_shape=[150, 150, 3],classes=10)  "
   ]
  },
  {
   "cell_type": "code",
   "execution_count": 111,
   "metadata": {},
   "outputs": [],
   "source": [
    "## 딥러닝 모델을 만들어보자.\n",
    "# 라이브러리 설정\n",
    "import pandas as pd\n",
    "import numpy as np\n",
    "import tensorflow as tf\n",
    "import matplotlib.pyplot as plt\n",
    "import random\n",
    "\n",
    "from tensorflow.keras.models import Sequential\n",
    "from tensorflow.keras.layers import Flatten, Dense, Dropout\n",
    "from tensorflow.keras.layers import Conv2D, MaxPooling2D, Reshape\n",
    "from tensorflow.keras.layers import BatchNormalization\n",
    "\n",
    "# 랜덤 시드 고정\n",
    "SEED=12\n",
    "random.seed(SEED)\n",
    "np.random.seed(SEED)\n",
    "tf.random.set_seed(SEED)  "
   ]
  },
  {
   "cell_type": "code",
   "execution_count": 113,
   "metadata": {},
   "outputs": [
    {
     "name": "stdout",
     "output_type": "stream",
     "text": [
      "Model: \"sequential_4\"\n",
      "_________________________________________________________________\n",
      " Layer (type)                Output Shape              Param #   \n",
      "=================================================================\n",
      " resnet50 (Functional)       (None, 5, 5, 2048)        23587712  \n",
      "                                                                 \n",
      " flatten_3 (Flatten)         (None, 51200)             0         \n",
      "                                                                 \n",
      " dense_9 (Dense)             (None, 64)                3276864   \n",
      "                                                                 \n",
      " dropout_6 (Dropout)         (None, 64)                0         \n",
      "                                                                 \n",
      " dense_10 (Dense)            (None, 32)                2080      \n",
      "                                                                 \n",
      " dropout_7 (Dropout)         (None, 32)                0         \n",
      "                                                                 \n",
      " dense_11 (Dense)            (None, 10)                330       \n",
      "                                                                 \n",
      "=================================================================\n",
      "Total params: 26,866,986\n",
      "Trainable params: 26,813,866\n",
      "Non-trainable params: 53,120\n",
      "_________________________________________________________________\n"
     ]
    }
   ],
   "source": [
    "# Transfer 모델 생성\n",
    "def build_transfer():\n",
    "    transfer_model = Sequential()\n",
    "    transfer_model.add(cnn_base) \n",
    "    transfer_model.add(Flatten()) \n",
    "\n",
    "    transfer_model.add(Dense(units=64, activation='relu'))\n",
    "    transfer_model.add(Dropout(rate=0.5))\n",
    "    transfer_model.add(Dense(units=32, activation='relu'))\n",
    "    transfer_model.add(Dropout(rate=0.5))\n",
    "    transfer_model.add(Dense(units=10, activation='softmax'))\n",
    "\n",
    "    transfer_model.compile(optimizer='adam', \n",
    "                    loss='sparse_categorical_crossentropy', \n",
    "                    metrics=['accuracy'])\n",
    "\n",
    "\n",
    "    return transfer_model\n",
    "\n",
    "transfer_model = build_transfer()\n",
    "transfer_model.summary()"
   ]
  },
  {
   "cell_type": "code",
   "execution_count": null,
   "metadata": {},
   "outputs": [],
   "source": [
    "# tm_history = transfer_model.fit(X_train, y_train, batch_size=256, epochs=20,\n",
    "#                         validation_split=0.1, verbose=0) \n",
    "\n",
    "# plot_metrics(history=tm_history, start=1, end=20)   "
   ]
  },
  {
   "cell_type": "code",
   "execution_count": null,
   "metadata": {},
   "outputs": [
    {
     "name": "stdout",
     "output_type": "stream",
     "text": [
      "Epoch 1/20\n",
      "WARNING:tensorflow:Early stopping conditioned on metric `val_loss` which is not available. Available metrics are: loss,accuracy\n",
      "13/13 - 415s - loss: 0.2298 - accuracy: 0.9331 - 415s/epoch - 32s/step\n",
      "Epoch 2/20\n",
      "WARNING:tensorflow:Early stopping conditioned on metric `val_loss` which is not available. Available metrics are: loss,accuracy\n",
      "13/13 - 371s - loss: 0.1494 - accuracy: 0.9609 - 371s/epoch - 29s/step\n",
      "Epoch 3/20\n",
      "WARNING:tensorflow:Early stopping conditioned on metric `val_loss` which is not available. Available metrics are: loss,accuracy\n",
      "13/13 - 379s - loss: 0.2832 - accuracy: 0.9481 - 379s/epoch - 29s/step\n",
      "Epoch 4/20\n",
      "WARNING:tensorflow:Early stopping conditioned on metric `val_loss` which is not available. Available metrics are: loss,accuracy\n",
      "13/13 - 390s - loss: 0.2505 - accuracy: 0.9212 - 390s/epoch - 30s/step\n",
      "Epoch 5/20\n",
      "WARNING:tensorflow:Early stopping conditioned on metric `val_loss` which is not available. Available metrics are: loss,accuracy\n",
      "13/13 - 352s - loss: 0.2357 - accuracy: 0.9331 - 352s/epoch - 27s/step\n",
      "Epoch 6/20\n",
      "WARNING:tensorflow:Early stopping conditioned on metric `val_loss` which is not available. Available metrics are: loss,accuracy\n",
      "13/13 - 388s - loss: 0.1782 - accuracy: 0.9503 - 388s/epoch - 30s/step\n",
      "Epoch 7/20\n",
      "WARNING:tensorflow:Early stopping conditioned on metric `val_loss` which is not available. Available metrics are: loss,accuracy\n",
      "13/13 - 338s - loss: 0.1086 - accuracy: 0.9691 - 338s/epoch - 26s/step\n",
      "Epoch 8/20\n",
      "WARNING:tensorflow:Early stopping conditioned on metric `val_loss` which is not available. Available metrics are: loss,accuracy\n",
      "13/13 - 417s - loss: 0.0901 - accuracy: 0.9741 - 417s/epoch - 32s/step\n",
      "Epoch 9/20\n",
      "WARNING:tensorflow:Early stopping conditioned on metric `val_loss` which is not available. Available metrics are: loss,accuracy\n",
      "13/13 - 369s - loss: 0.0839 - accuracy: 0.9741 - 369s/epoch - 28s/step\n",
      "Epoch 10/20\n"
     ]
    }
   ],
   "source": [
    "early_stopping = keras.callbacks.EarlyStopping(patience=5, restore_best_weights=True)\n",
    "checkpoint = keras.callbacks.ModelCheckpoint('best_animalCNN_transfer_model.h5')\n",
    "                                               \n",
    "# tm_history = transfer_model.fit( X_train, \n",
    "#                          y_train,                \n",
    "#                          batch_size=256,\n",
    "#                          epochs=20,\n",
    "#                          validation_data = (X_test, y_test),\n",
    "#                          callbacks = [early_stopping, checkpoint],\n",
    "#                          verbose=2\n",
    "#                         )\n",
    "tm2_history = transfer_model.fit( X_train, \n",
    "                         y_train,                \n",
    "                         batch_size=256,\n",
    "                         epochs=20,\n",
    "                         callbacks = [early_stopping, checkpoint],\n",
    "                         verbose=2\n",
    "                        )"
   ]
  },
  {
   "cell_type": "code",
   "execution_count": 119,
   "metadata": {},
   "outputs": [
    {
     "name": "stdout",
     "output_type": "stream",
     "text": [
      "25/25 [==============================] - 22s 850ms/step - loss: 2.0321 - accuracy: 0.4975\n"
     ]
    },
    {
     "data": {
      "text/plain": [
       "[2.0321156978607178, 0.4975000023841858]"
      ]
     },
     "execution_count": 119,
     "metadata": {},
     "output_type": "execute_result"
    }
   ],
   "source": [
    "transfer_model.evaluate(X_test,y_test)"
   ]
  },
  {
   "cell_type": "code",
   "execution_count": 117,
   "metadata": {},
   "outputs": [
    {
     "data": {
      "text/plain": [
       "<matplotlib.legend.Legend at 0x7feb99a5a2d0>"
      ]
     },
     "execution_count": 117,
     "metadata": {},
     "output_type": "execute_result"
    },
    {
     "data": {
      "image/png": "[encoded data removed]",
      "text/plain": [
       "<Figure size 864x288 with 2 Axes>"
      ]
     },
     "metadata": {
      "needs_background": "light"
     },
     "output_type": "display_data"
    }
   ],
   "source": [
    "plt.figure(figsize=(12,4))\n",
    "plt.subplot(1, 2, 1)\n",
    "plt.plot(tm_history.history['accuracy'])\n",
    "plt.plot(tm_history.history['val_accuracy'])\n",
    "plt.title('model accuracy')\n",
    "plt.xlabel('epoch')\n",
    "plt.ylabel('accuracy')\n",
    "plt.legend(['train', 'validation'])\n",
    "\n",
    "plt.subplot(1, 2, 2)\n",
    "plt.plot(tm_history.history['loss'])\n",
    "plt.plot(tm_history.history['val_loss'])\n",
    "plt.title('model loss')\n",
    "plt.xlabel('epoch')\n",
    "plt.ylabel('loss')\n",
    "plt.legend(['train', 'validation'])   "
   ]
  }
 ],
 "metadata": {
  "kernelspec": {
   "display_name": "Python 3 (ipykernel)",
   "language": "python",
   "name": "python3"
  },
  "language_info": {
   "codemirror_mode": {
    "name": "ipython",
    "version": 3
   },
   "file_extension": ".py",
   "mimetype": "text/x-python",
   "name": "python",
   "nbconvert_exporter": "python",
   "pygments_lexer": "ipython3",
   "version": "3.7.9"
  }
 },
 "nbformat": 4,
 "nbformat_minor": 4
}
