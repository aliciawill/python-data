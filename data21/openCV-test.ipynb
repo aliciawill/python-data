{
 "cells": [
  {
   "cell_type": "code",
   "execution_count": 2,
   "metadata": {},
   "outputs": [],
   "source": [
    "import cv2\n",
    "import numpy as np"
   ]
  },
  {
   "cell_type": "code",
   "execution_count": 2,
   "metadata": {},
   "outputs": [
    {
     "name": "stderr",
     "output_type": "stream",
     "text": [
      "OpenCV: FFMPEG: tag 0x58564944/'DIVX' is not supported with codec id 12 and format 'mp4 / MP4 (MPEG-4 Part 14)'\n",
      "OpenCV: FFMPEG: fallback to use tag 0x7634706d/'mp4v'\n"
     ]
    }
   ],
   "source": [
    "import cv2\n",
    "\n",
    "cap = cv2.VideoCapture(0)    # 0번 카메라 연결\n",
    "if cap.isOpened:\n",
    "    file_path = './record.mp4'    # 저장할 파일 경로 이름 ---①\n",
    "    fps = 30.0                     # FPS, 초당 프레임 수\n",
    "    fourcc = cv2.VideoWriter_fourcc(*'DIVX') # 인코딩 포맷 문자\n",
    "    width = cap.get(cv2.CAP_PROP_FRAME_WIDTH)\n",
    "    height = cap.get(cv2.CAP_PROP_FRAME_HEIGHT)\n",
    "    size = (int(width), int(height))                        # 프레임 크기\n",
    "    out = cv2.VideoWriter(file_path, fourcc, fps, size) # VideoWriter 객체 생성\n",
    "    while True:\n",
    "        ret, frame = cap.read()\n",
    "        if ret:\n",
    "            cv2.imshow('camera-recording',frame)\n",
    "            out.write(frame)                        # 파일 저장\n",
    "            if cv2.waitKey(int(1000/fps)) != -1: \n",
    "                break\n",
    "        else:\n",
    "            print(\"no frame!\")\n",
    "            break\n",
    "    out.release()                                   # 파일 닫기\n",
    "else:\n",
    "    print(\"can't open camera!\")\n",
    "cap.release()\n",
    "cv2.destroyAllWindows()\n"
   ]
  },
  {
   "cell_type": "code",
   "execution_count": null,
   "metadata": {},
   "outputs": [],
   "source": [
    "import cv2\n",
    "\n",
    "img = cv2.imread('./img/1.png')\n",
    "\n",
    "# 좌상, 우하 좌표로 사각형 그리기, 선 두께는 default 1\n",
    "# cv2.rectangle(img, (50, 50), (150, 150), (255,0,0) )        \n",
    "# 우하, 좌상 좌표로 사각형 그리기, 선 두께 10\n",
    "cv2.rectangle(img, (700, 150), (780, 260), (0,255,0), 10 )  \n",
    "# 우상, 좌하 좌표로 사각형 채워 그리기 ---①\n",
    "# cv2.rectangle(img, (450, 200), (200, 450), (0,0,255), -1 )  \n",
    "\n",
    "cv2.imshow('rectangle', img)\n",
    "cv2.waitKey(0)\n",
    "cv2.destroyAllWindows()"
   ]
  },
  {
   "cell_type": "code",
   "execution_count": 2,
   "metadata": {},
   "outputs": [
    {
     "data": {
      "text/plain": [
       "'4.5.5'"
      ]
     },
     "execution_count": 2,
     "metadata": {},
     "output_type": "execute_result"
    }
   ],
   "source": [
    "cv2.__version__"
   ]
  },
  {
   "cell_type": "code",
   "execution_count": 3,
   "metadata": {},
   "outputs": [],
   "source": [
    "##### 이미지 => 화면에 이미지 나타남."
   ]
  },
  {
   "cell_type": "code",
   "execution_count": null,
   "metadata": {},
   "outputs": [],
   "source": [
    "image = cv2.imread('img/2.png')\n",
    "cv2.imshow('Test', image)\n",
    "cv2.waitKey(0)\n",
    "cv2.destroyAllWindows()"
   ]
  },
  {
   "cell_type": "code",
   "execution_count": 1,
   "metadata": {},
   "outputs": [],
   "source": [
    "### 동영상"
   ]
  },
  {
   "cell_type": "code",
   "execution_count": 9,
   "metadata": {},
   "outputs": [
    {
     "name": "stderr",
     "output_type": "stream",
     "text": [
      "OpenCV: Couldn't read video stream from file \"img/Star.mp4\"\n"
     ]
    },
    {
     "ename": "TypeError",
     "evalue": "'NoneType' object is not subscriptable",
     "output_type": "error",
     "traceback": [
      "\u001b[0;31m---------------------------------------------------------------------------\u001b[0m",
      "\u001b[0;31mTypeError\u001b[0m                                 Traceback (most recent call last)",
      "\u001b[0;32m/var/folders/lb/m5ps_m_950d0m02f4_w0xnb80000gn/T/ipykernel_17088/2944978194.py\u001b[0m in \u001b[0;36m<module>\u001b[0;34m\u001b[0m\n\u001b[1;32m     11\u001b[0m \u001b[0;34m\u001b[0m\u001b[0m\n\u001b[1;32m     12\u001b[0m     \u001b[0mret\u001b[0m\u001b[0;34m,\u001b[0m \u001b[0mframe\u001b[0m \u001b[0;34m=\u001b[0m \u001b[0mcapture\u001b[0m\u001b[0;34m.\u001b[0m\u001b[0mread\u001b[0m\u001b[0;34m(\u001b[0m\u001b[0;34m)\u001b[0m\u001b[0;34m\u001b[0m\u001b[0;34m\u001b[0m\u001b[0m\n\u001b[0;32m---> 13\u001b[0;31m     \u001b[0mcv2\u001b[0m\u001b[0;34m.\u001b[0m\u001b[0mimshow\u001b[0m\u001b[0;34m(\u001b[0m\u001b[0;34m\"VideoFrame\"\u001b[0m\u001b[0;34m,\u001b[0m \u001b[0mframe\u001b[0m\u001b[0;34m[\u001b[0m\u001b[0;36m0\u001b[0m\u001b[0;34m]\u001b[0m\u001b[0;34m)\u001b[0m\u001b[0;34m\u001b[0m\u001b[0;34m\u001b[0m\u001b[0m\n\u001b[0m\u001b[1;32m     14\u001b[0m \u001b[0;34m\u001b[0m\u001b[0m\n\u001b[1;32m     15\u001b[0m \u001b[0mcapture\u001b[0m\u001b[0;34m.\u001b[0m\u001b[0mrelease\u001b[0m\u001b[0;34m(\u001b[0m\u001b[0;34m)\u001b[0m\u001b[0;34m\u001b[0m\u001b[0;34m\u001b[0m\u001b[0m\n",
      "\u001b[0;31mTypeError\u001b[0m: 'NoneType' object is not subscriptable"
     ]
    }
   ],
   "source": [
    "### 동영상 관련 프로그램(줌, facetime)을 실행시킨 후\n",
    "### 가로크기를 1000, 600으로 변경해볼 것.\n",
    "### VideoCapture(0) => 내장된 카메라 0번, 다른 장치 0부터 순서대로 할당\n"
   ]
  },
  {
   "cell_type": "code",
   "execution_count": 3,
   "metadata": {},
   "outputs": [
    {
     "data": {
      "text/plain": [
       "array([[228, 233, 237],\n",
       "       [228, 233, 237],\n",
       "       [228, 233, 237],\n",
       "       ...,\n",
       "       [ 90, 104, 122],\n",
       "       [ 90, 104, 122],\n",
       "       [ 90, 104, 122]], dtype=uint8)"
      ]
     },
     "execution_count": 3,
     "metadata": {},
     "output_type": "execute_result"
    }
   ],
   "source": [
    "frame[0]"
   ]
  },
  {
   "cell_type": "code",
   "execution_count": 1,
   "metadata": {},
   "outputs": [],
   "source": [
    "#mp4read\n",
    "import cv2\n",
    "\n",
    "capture = cv2.VideoCapture(\"img/hi-1.mp4\")\n",
    "\n",
    "while cv2.waitKey(33) < 0:\n",
    "    if capture.get(cv2.CAP_PROP_POS_FRAMES) == capture.get(cv2.CAP_PROP_FRAME_COUNT):\n",
    "        capture.set(cv2.CAP_PROP_POS_FRAMES, 0)\n",
    "\n",
    "    ret, frame = capture.read()\n",
    "    cv2.imshow(\"VideoFrame\", frame)\n",
    "\n",
    "capture.release()\n",
    "cv2.destroyAllWindows()"
   ]
  },
  {
   "cell_type": "code",
   "execution_count": 2,
   "metadata": {},
   "outputs": [],
   "source": [
    "import cv2\n",
    "\n",
    "capture = cv2.VideoCapture(\"img/me.mp4\")"
   ]
  },
  {
   "cell_type": "code",
   "execution_count": 7,
   "metadata": {},
   "outputs": [
    {
     "ename": "NameError",
     "evalue": "name 'image' is not defined",
     "output_type": "error",
     "traceback": [
      "\u001b[0;31m---------------------------------------------------------------------------\u001b[0m",
      "\u001b[0;31mNameError\u001b[0m                                 Traceback (most recent call last)",
      "\u001b[0;32m/var/folders/lb/m5ps_m_950d0m02f4_w0xnb80000gn/T/ipykernel_17088/1593188312.py\u001b[0m in \u001b[0;36m<module>\u001b[0;34m\u001b[0m\n\u001b[0;32m----> 1\u001b[0;31m \u001b[0mheight\u001b[0m\u001b[0;34m,\u001b[0m \u001b[0mwidth\u001b[0m\u001b[0;34m,\u001b[0m \u001b[0mchannel\u001b[0m \u001b[0;34m=\u001b[0m \u001b[0mimage\u001b[0m\u001b[0;34m.\u001b[0m\u001b[0mshape\u001b[0m\u001b[0;34m\u001b[0m\u001b[0;34m\u001b[0m\u001b[0m\n\u001b[0m\u001b[1;32m      2\u001b[0m \u001b[0mprint\u001b[0m\u001b[0;34m(\u001b[0m\u001b[0mheight\u001b[0m\u001b[0;34m,\u001b[0m \u001b[0mwidth\u001b[0m \u001b[0;34m,\u001b[0m \u001b[0mchannel\u001b[0m\u001b[0;34m)\u001b[0m\u001b[0;34m\u001b[0m\u001b[0;34m\u001b[0m\u001b[0m\n",
      "\u001b[0;31mNameError\u001b[0m: name 'image' is not defined"
     ]
    }
   ],
   "source": [
    "height, width, channel = image.shape\n",
    "print(height, width , channel)"
   ]
  },
  {
   "cell_type": "code",
   "execution_count": 1,
   "metadata": {},
   "outputs": [],
   "source": [
    "import cv2\n",
    "\n",
    "img_file = \"img/2.png\" \n",
    "img = cv2.imread(img_file, cv2.IMREAD_GRAYSCALE)    # 회색으로 읽기\n",
    "\n",
    "if img is not None:\n",
    " #            제목, 이미지 객체 순 입력값.\n",
    "  cv2.imshow('IMG', img)\n",
    "  cv2.waitKey(3)\n",
    "  cv2.destroyAllWindows()\n",
    "else:\n",
    "    print('No image file.')"
   ]
  },
  {
   "cell_type": "code",
   "execution_count": 7,
   "metadata": {},
   "outputs": [
    {
     "data": {
      "text/plain": [
       "array([[230, 232, 234],\n",
       "       [230, 232, 234],\n",
       "       [230, 232, 234],\n",
       "       ...,\n",
       "       [ 33,  48,  77],\n",
       "       [ 43,  57,  85],\n",
       "       [ 43,  57,  84]], dtype=uint8)"
      ]
     },
     "execution_count": 7,
     "metadata": {},
     "output_type": "execute_result"
    }
   ],
   "source": [
    "frame[700]"
   ]
  },
  {
   "cell_type": "code",
   "execution_count": 3,
   "metadata": {},
   "outputs": [
    {
     "data": {
      "text/plain": [
       "720"
      ]
     },
     "execution_count": 3,
     "metadata": {},
     "output_type": "execute_result"
    }
   ],
   "source": [
    "len(frame)"
   ]
  },
  {
   "cell_type": "code",
   "execution_count": 6,
   "metadata": {},
   "outputs": [
    {
     "data": {
      "text/plain": [
       "numpy.ndarray"
      ]
     },
     "execution_count": 6,
     "metadata": {},
     "output_type": "execute_result"
    }
   ],
   "source": [
    "type(frame)"
   ]
  },
  {
   "cell_type": "code",
   "execution_count": 10,
   "metadata": {},
   "outputs": [
    {
     "data": {
      "text/plain": [
       "True"
      ]
     },
     "execution_count": 10,
     "metadata": {},
     "output_type": "execute_result"
    }
   ],
   "source": [
    "ret #카메라 정상 작동"
   ]
  },
  {
   "cell_type": "code",
   "execution_count": 1,
   "metadata": {},
   "outputs": [
    {
     "ename": "NameError",
     "evalue": "name 'cv2' is not defined",
     "output_type": "error",
     "traceback": [
      "\u001b[0;31m---------------------------------------------------------------------------\u001b[0m",
      "\u001b[0;31mNameError\u001b[0m                                 Traceback (most recent call last)",
      "\u001b[0;32m/var/folders/lb/m5ps_m_950d0m02f4_w0xnb80000gn/T/ipykernel_17088/829459402.py\u001b[0m in \u001b[0;36m<module>\u001b[0;34m\u001b[0m\n\u001b[0;32m----> 1\u001b[0;31m \u001b[0mcv2\u001b[0m\u001b[0;34m.\u001b[0m\u001b[0mimshow\u001b[0m\u001b[0;34m(\u001b[0m\u001b[0;34m\"VideoFrame\"\u001b[0m\u001b[0;34m,\u001b[0m \u001b[0mframe\u001b[0m\u001b[0;34m[\u001b[0m\u001b[0;36m0\u001b[0m\u001b[0;34m]\u001b[0m\u001b[0;34m)\u001b[0m\u001b[0;34m\u001b[0m\u001b[0;34m\u001b[0m\u001b[0m\n\u001b[0m\u001b[1;32m      2\u001b[0m \u001b[0mcv2\u001b[0m\u001b[0;34m.\u001b[0m\u001b[0mwaitKey\u001b[0m\u001b[0;34m(\u001b[0m\u001b[0;36m0\u001b[0m\u001b[0;34m)\u001b[0m\u001b[0;34m\u001b[0m\u001b[0;34m\u001b[0m\u001b[0m\n",
      "\u001b[0;31mNameError\u001b[0m: name 'cv2' is not defined"
     ]
    }
   ],
   "source": [
    "cv2.imshow(\"VideoFrame\", frame[0])\n",
    "cv2.waitKey(0)"
   ]
  },
  {
   "cell_type": "code",
   "execution_count": null,
   "metadata": {},
   "outputs": [],
   "source": [
    "cv2.imshow(\"VideoFrame\", frame[0])\n",
    "cv2.waitKey(0)\n",
    "cv2.destroyAllWindows()"
   ]
  },
  {
   "cell_type": "code",
   "execution_count": null,
   "metadata": {},
   "outputs": [],
   "source": [
    "capture = cv2.VideoCapture(0)\n",
    "capture.set(cv2.CAP_PROP_FRAME_WIDTH, 640)\n",
    "capture.set(cv2.CAP_PROP_FRAME_HEIGHT, 480)\n",
    "\n",
    "while cv2.waitKey(33) != ord('q'):\n",
    "    ret, frame = capture.read()\n",
    "    cv2.imshow(\"VideoFrame\", frame)\n",
    "\n",
    "capture.release()\n",
    "cv2.destroyAllWindows()"
   ]
  },
  {
   "cell_type": "code",
   "execution_count": 2,
   "metadata": {},
   "outputs": [],
   "source": [
    "import cv2\n",
    "\n",
    "video_file = \"img/me.mp4\" # 동영상 파일 경로\n",
    "\n",
    "cap = cv2.VideoCapture(video_file) # 동영상 캡쳐 객체 생성  ---①\n",
    "if cap.isOpened():                 # 캡쳐 객체 초기화 확인\n",
    "    while True:\n",
    "        ret, img = cap.read()      # 다음 프레임 읽기      --- ②\n",
    "        if ret:                     # 프레임 읽기 정상\n",
    "            cv2.imshow(video_file, img) # 화면에 표시  --- ③\n",
    "            cv2.waitKey(25)            # 25ms 지연(40fps로 가정)   --- ④\n",
    "        else:                       # 다음 프레임 읽을 수 없슴,\n",
    "            break                   # 재생 완료\n",
    "else:\n",
    "    print(\"can't open video.\")      # 캡쳐 객체 초기화 실패\n",
    "cap.release()                       # 캡쳐 자원 반납\n",
    "cv2.destroyAllWindows()"
   ]
  },
  {
   "cell_type": "code",
   "execution_count": 6,
   "metadata": {},
   "outputs": [],
   "source": [
    "import cv2\n",
    "\n",
    "video_file = \"img/me2.mp4\" # 동영상 파일 경로\n",
    "\n",
    "cap = cv2.VideoCapture(video_file) # 동영상 캡쳐 객체 생성  ---①\n",
    "if cap.isOpened():                 # 캡쳐 객체 초기화 확인\n",
    "    while True:\n",
    "        ret, img = cap.read()      # 다음 프레임 읽기      --- ②\n",
    "        if ret:                     # 프레임 읽기 정상\n",
    "            cv2.imshow(video_file, img) # 화면에 표시  --- ③\n",
    "            cv2.waitKey(25)            # 25ms 지연(40fps로 가정)   --- ④\n",
    "        else:                       # 다음 프레임 읽을 수 없슴,\n",
    "            break                   # 재생 완료\n",
    "else:\n",
    "    print(\"can't open video.\")      # 캡쳐 객체 초기화 실패\n",
    "cap.release()                       # 캡쳐 자원 반납\n",
    "cv2.destroyAllWindows()"
   ]
  },
  {
   "cell_type": "code",
   "execution_count": 5,
   "metadata": {},
   "outputs": [
    {
     "name": "stdout",
     "output_type": "stream",
     "text": [
      "입력중지됨\n"
     ]
    }
   ],
   "source": [
    "import cv2\n",
    "\n",
    "cap = cv2.VideoCapture(0)               # 0번 카메라 장치 연결 ---①\n",
    "if cap.isOpened():                      # 캡쳐 객체 연결 확인\n",
    "    while True:\n",
    "        ret, img = cap.read()           # 다음 프레임 읽기\n",
    "        if ret:\n",
    "            cv2.imshow('camera', img)   # 다음 프레임 이미지 표시\n",
    "            if cv2.waitKey(1) != -1:    # 1ms 동안 키 입력 대기 ---②\n",
    "                print('입력중지됨')\n",
    "                break                   # 아무 키라도 입력이 있으면 중지\n",
    "        else:\n",
    "            print('no frame')\n",
    "            break\n",
    "else:\n",
    "    print(\"can't open camera.\")\n",
    "cap.release()                           # 자원 반납\n",
    "cv2.destroyAllWindows()"
   ]
  },
  {
   "cell_type": "code",
   "execution_count": null,
   "metadata": {},
   "outputs": [],
   "source": []
  }
 ],
 "metadata": {
  "kernelspec": {
   "display_name": "Python 3 (ipykernel)",
   "language": "python",
   "name": "python3"
  },
  "language_info": {
   "codemirror_mode": {
    "name": "ipython",
    "version": 3
   },
   "file_extension": ".py",
   "mimetype": "text/x-python",
   "name": "python",
   "nbconvert_exporter": "python",
   "pygments_lexer": "ipython3",
   "version": "3.7.9"
  }
 },
 "nbformat": 4,
 "nbformat_minor": 4
}
