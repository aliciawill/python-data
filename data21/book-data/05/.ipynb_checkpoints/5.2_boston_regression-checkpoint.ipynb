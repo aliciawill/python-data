{
 "cells": [
  {
   "cell_type": "markdown",
   "metadata": {
    "id": "WJ6_-OEoLT7w"
   },
   "source": [
    "# 라이브러리 환경"
   ]
  },
  {
   "cell_type": "code",
   "execution_count": 1,
   "metadata": {
    "colab": {
     "base_uri": "https://localhost:8080/",
     "height": 34
    },
    "executionInfo": {
     "elapsed": 2790,
     "status": "ok",
     "timestamp": 1603861570394,
     "user": {
      "displayName": "오승환",
      "photoUrl": "https://lh3.googleusercontent.com/a-/AOh14GgBRB1w8bMEGhEpsp7aa7I9MQGz2D37o6hJeKeW=s64",
      "userId": "00933700884551564729"
     },
     "user_tz": -540
    },
    "id": "h9p4-xQbd9ph",
    "outputId": "b806b195-cf3a-4903-ef25-1b7b6bdf09c5"
   },
   "outputs": [
    {
     "name": "stdout",
     "output_type": "stream",
     "text": [
      "2.3.0\n"
     ]
    }
   ],
   "source": [
    "import pandas as pd\n",
    "import numpy as np\n",
    "import random\n",
    "import tensorflow as tf\n",
    "print(tf.__version__)"
   ]
  },
  {
   "cell_type": "code",
   "execution_count": 2,
   "metadata": {
    "colab": {
     "base_uri": "https://localhost:8080/",
     "height": 34
    },
    "executionInfo": {
     "elapsed": 2774,
     "status": "ok",
     "timestamp": 1603861570397,
     "user": {
      "displayName": "오승환",
      "photoUrl": "https://lh3.googleusercontent.com/a-/AOh14GgBRB1w8bMEGhEpsp7aa7I9MQGz2D37o6hJeKeW=s64",
      "userId": "00933700884551564729"
     },
     "user_tz": -540
    },
    "id": "K7ISwNXx-pcX",
    "outputId": "d50518de-5359-408f-fdc9-8cdcf9c93c05"
   },
   "outputs": [
    {
     "name": "stdout",
     "output_type": "stream",
     "text": [
      "시드 고정:  12\n"
     ]
    }
   ],
   "source": [
    "# 랜덤 시드 고정\n",
    "SEED=12\n",
    "random.seed(SEED)\n",
    "np.random.seed(SEED)\n",
    "tf.random.set_seed(SEED)  \n",
    "print(\"시드 고정: \", SEED)"
   ]
  },
  {
   "cell_type": "markdown",
   "metadata": {
    "id": "qTwSGGIB74h7"
   },
   "source": [
    "# 데이터 전처리"
   ]
  },
  {
   "cell_type": "code",
   "execution_count": 3,
   "metadata": {
    "colab": {
     "base_uri": "https://localhost:8080/",
     "height": 34
    },
    "executionInfo": {
     "elapsed": 3155,
     "status": "ok",
     "timestamp": 1603861570890,
     "user": {
      "displayName": "오승환",
      "photoUrl": "https://lh3.googleusercontent.com/a-/AOh14GgBRB1w8bMEGhEpsp7aa7I9MQGz2D37o6hJeKeW=s64",
      "userId": "00933700884551564729"
     },
     "user_tz": -540
    },
    "id": "nLkOFAY5LpRl",
    "outputId": "e3cb79c7-524f-4876-8c05-b241e2e14519"
   },
   "outputs": [
    {
     "name": "stdout",
     "output_type": "stream",
     "text": [
      "(506, 13) (506,)\n"
     ]
    }
   ],
   "source": [
    "# skleran 데이터셋에서 보스턴 주택 데이터셋 로딩\n",
    "from sklearn import datasets\n",
    "housing = datasets.load_boston()\n",
    "X_data = housing.data\n",
    "y_data = housing.target\n",
    "print(X_data.shape, y_data.shape)"
   ]
  },
  {
   "cell_type": "code",
   "execution_count": 17,
   "metadata": {
    "colab": {
     "base_uri": "https://localhost:8080/",
     "height": 52
    },
    "executionInfo": {
     "elapsed": 1225,
     "status": "ok",
     "timestamp": 1603863315013,
     "user": {
      "displayName": "오승환",
      "photoUrl": "https://lh3.googleusercontent.com/a-/AOh14GgBRB1w8bMEGhEpsp7aa7I9MQGz2D37o6hJeKeW=s64",
      "userId": "00933700884551564729"
     },
     "user_tz": -540
    },
    "id": "JW8fwFpls-Sw",
    "outputId": "39ad1379-4bac-492e-fd2f-4b7580ddc210"
   },
   "outputs": [
    {
     "data": {
      "text/plain": [
       "array(['CRIM', 'ZN', 'INDUS', 'CHAS', 'NOX', 'RM', 'AGE', 'DIS', 'RAD',\n",
       "       'TAX', 'PTRATIO', 'B', 'LSTAT'], dtype='<U7')"
      ]
     },
     "execution_count": 17,
     "metadata": {
      "tags": []
     },
     "output_type": "execute_result"
    }
   ],
   "source": [
    "housing.feature_names"
   ]
  },
  {
   "cell_type": "code",
   "execution_count": null,
   "metadata": {
    "colab": {
     "base_uri": "https://localhost:8080/",
     "height": 52
    },
    "executionInfo": {
     "elapsed": 2499,
     "status": "ok",
     "timestamp": 1603615331449,
     "user": {
      "displayName": "오승환",
      "photoUrl": "https://lh3.googleusercontent.com/a-/AOh14GgBRB1w8bMEGhEpsp7aa7I9MQGz2D37o6hJeKeW=s64",
      "userId": "00933700884551564729"
     },
     "user_tz": -540
    },
    "id": "RR1YRptuL_iS",
    "outputId": "9fa279d5-7119-47d2-8dd0-81804dd48916"
   },
   "outputs": [
    {
     "name": "stdout",
     "output_type": "stream",
     "text": [
      "(404, 13) (404,)\n",
      "(102, 13) (102,)\n"
     ]
    }
   ],
   "source": [
    "# 학습 - 테스트 데이터셋 분할\n",
    "from sklearn.model_selection import train_test_split\n",
    "X_train, X_test, y_train, y_test = train_test_split(X_data_scaled, y_data, \n",
    "                                                    test_size=0.2, \n",
    "                                                    shuffle=True, \n",
    "                                                    random_state=SEED)\n",
    "print(X_train.shape, y_train.shape)\n",
    "print(X_test.shape, y_test.shape)"
   ]
  },
  {
   "cell_type": "markdown",
   "metadata": {
    "id": "5p2ucCS6KpJV"
   },
   "source": [
    "# 신경망 학습"
   ]
  },
  {
   "cell_type": "code",
   "execution_count": null,
   "metadata": {
    "colab": {
     "base_uri": "https://localhost:8080/",
     "height": 332
    },
    "executionInfo": {
     "elapsed": 2917,
     "status": "ok",
     "timestamp": 1603615331883,
     "user": {
      "displayName": "오승환",
      "photoUrl": "https://lh3.googleusercontent.com/a-/AOh14GgBRB1w8bMEGhEpsp7aa7I9MQGz2D37o6hJeKeW=s64",
      "userId": "00933700884551564729"
     },
     "user_tz": -540
    },
    "id": "q-zfjBdlprBZ",
    "outputId": "9a1a25ff-1e05-4583-9c3f-448137b935fb"
   },
   "outputs": [
    {
     "name": "stdout",
     "output_type": "stream",
     "text": [
      "Model: \"sequential\"\n",
      "_________________________________________________________________\n",
      "Layer (type)                 Output Shape              Param #   \n",
      "=================================================================\n",
      "dense (Dense)                (None, 128)               1792      \n",
      "_________________________________________________________________\n",
      "dense_1 (Dense)              (None, 64)                8256      \n",
      "_________________________________________________________________\n",
      "dense_2 (Dense)              (None, 32)                2080      \n",
      "_________________________________________________________________\n",
      "dense_3 (Dense)              (None, 16)                528       \n",
      "_________________________________________________________________\n",
      "dense_4 (Dense)              (None, 1)                 17        \n",
      "=================================================================\n",
      "Total params: 12,673\n",
      "Trainable params: 12,673\n",
      "Non-trainable params: 0\n",
      "_________________________________________________________________\n"
     ]
    }
   ],
   "source": [
    "# 심층 신경망\n",
    "from tensorflow.keras import Sequential\n",
    "from tensorflow.keras.layers import Dense\n",
    "def build_model(num_input=1):\n",
    "    model = Sequential()\n",
    "    model.add(Dense(128, activation='relu', input_dim=num_input))\n",
    "    model.add(Dense(64, activation='relu'))\n",
    "    model.add(Dense(32, activation='relu'))\n",
    "    model.add(Dense(16, activation='relu'))\n",
    "    model.add(Dense(1, activation='linear'))\n",
    "\n",
    "    model.compile(optimizer='adam', loss='mse', metrics=['mae'])\n",
    "\n",
    "    return model\n",
    "\n",
    "model = build_model(num_input=13)\n",
    "model.summary()"
   ]
  },
  {
   "cell_type": "code",
   "execution_count": null,
   "metadata": {
    "colab": {
     "base_uri": "https://localhost:8080/",
     "height": 1000
    },
    "executionInfo": {
     "elapsed": 5288,
     "status": "ok",
     "timestamp": 1603615334278,
     "user": {
      "displayName": "오승환",
      "photoUrl": "https://lh3.googleusercontent.com/a-/AOh14GgBRB1w8bMEGhEpsp7aa7I9MQGz2D37o6hJeKeW=s64",
      "userId": "00933700884551564729"
     },
     "user_tz": -540
    },
    "id": "C-0xDlS641Yx",
    "outputId": "e9d5f5dc-a7e8-4855-f60e-bbe2593eaf08"
   },
   "outputs": [
    {
     "name": "stdout",
     "output_type": "stream",
     "text": [
      "Epoch 1/100\n",
      "13/13 - 0s - loss: 562.7947 - mae: 21.8309\n",
      "Epoch 2/100\n",
      "13/13 - 0s - loss: 488.1955 - mae: 19.9646\n",
      "Epoch 3/100\n",
      "13/13 - 0s - loss: 338.0201 - mae: 15.5721\n",
      "Epoch 4/100\n",
      "13/13 - 0s - loss: 152.8982 - mae: 9.5517\n",
      "Epoch 5/100\n",
      "13/13 - 0s - loss: 126.4297 - mae: 8.8710\n",
      "Epoch 6/100\n",
      "13/13 - 0s - loss: 97.8464 - mae: 7.3805\n",
      "Epoch 7/100\n",
      "13/13 - 0s - loss: 80.5298 - mae: 6.6845\n",
      "Epoch 8/100\n",
      "13/13 - 0s - loss: 67.3773 - mae: 6.0351\n",
      "Epoch 9/100\n",
      "13/13 - 0s - loss: 59.2237 - mae: 5.5133\n",
      "Epoch 10/100\n",
      "13/13 - 0s - loss: 54.0707 - mae: 5.2915\n",
      "Epoch 11/100\n",
      "13/13 - 0s - loss: 50.3197 - mae: 4.9420\n",
      "Epoch 12/100\n",
      "13/13 - 0s - loss: 47.6906 - mae: 4.9179\n",
      "Epoch 13/100\n",
      "13/13 - 0s - loss: 44.1344 - mae: 4.6512\n",
      "Epoch 14/100\n",
      "13/13 - 0s - loss: 41.4653 - mae: 4.5394\n",
      "Epoch 15/100\n",
      "13/13 - 0s - loss: 38.6853 - mae: 4.4396\n",
      "Epoch 16/100\n",
      "13/13 - 0s - loss: 36.0622 - mae: 4.1782\n",
      "Epoch 17/100\n",
      "13/13 - 0s - loss: 33.4998 - mae: 4.1391\n",
      "Epoch 18/100\n",
      "13/13 - 0s - loss: 31.2290 - mae: 3.8386\n",
      "Epoch 19/100\n",
      "13/13 - 0s - loss: 28.5673 - mae: 3.7654\n",
      "Epoch 20/100\n",
      "13/13 - 0s - loss: 26.4561 - mae: 3.4867\n",
      "Epoch 21/100\n",
      "13/13 - 0s - loss: 24.2585 - mae: 3.4257\n",
      "Epoch 22/100\n",
      "13/13 - 0s - loss: 22.8889 - mae: 3.2275\n",
      "Epoch 23/100\n",
      "13/13 - 0s - loss: 21.3306 - mae: 3.0934\n",
      "Epoch 24/100\n",
      "13/13 - 0s - loss: 20.2263 - mae: 3.0796\n",
      "Epoch 25/100\n",
      "13/13 - 0s - loss: 19.7647 - mae: 2.9338\n",
      "Epoch 26/100\n",
      "13/13 - 0s - loss: 19.2530 - mae: 2.9729\n",
      "Epoch 27/100\n",
      "13/13 - 0s - loss: 18.9614 - mae: 2.8987\n",
      "Epoch 28/100\n",
      "13/13 - 0s - loss: 18.4118 - mae: 2.8438\n",
      "Epoch 29/100\n",
      "13/13 - 0s - loss: 18.2044 - mae: 2.8864\n",
      "Epoch 30/100\n",
      "13/13 - 0s - loss: 18.1468 - mae: 2.8919\n",
      "Epoch 31/100\n",
      "13/13 - 0s - loss: 17.5440 - mae: 2.7793\n",
      "Epoch 32/100\n",
      "13/13 - 0s - loss: 17.1740 - mae: 2.7839\n",
      "Epoch 33/100\n",
      "13/13 - 0s - loss: 17.2855 - mae: 2.7771\n",
      "Epoch 34/100\n",
      "13/13 - 0s - loss: 16.8188 - mae: 2.7204\n",
      "Epoch 35/100\n",
      "13/13 - 0s - loss: 17.3480 - mae: 2.9018\n",
      "Epoch 36/100\n",
      "13/13 - 0s - loss: 16.8715 - mae: 2.8222\n",
      "Epoch 37/100\n",
      "13/13 - 0s - loss: 16.5779 - mae: 2.7055\n",
      "Epoch 38/100\n",
      "13/13 - 0s - loss: 16.8050 - mae: 2.7434\n",
      "Epoch 39/100\n",
      "13/13 - 0s - loss: 16.4569 - mae: 2.7715\n",
      "Epoch 40/100\n",
      "13/13 - 0s - loss: 16.3720 - mae: 2.7659\n",
      "Epoch 41/100\n",
      "13/13 - 0s - loss: 15.6802 - mae: 2.6259\n",
      "Epoch 42/100\n",
      "13/13 - 0s - loss: 15.4731 - mae: 2.6962\n",
      "Epoch 43/100\n",
      "13/13 - 0s - loss: 15.9208 - mae: 2.6450\n",
      "Epoch 44/100\n",
      "13/13 - 0s - loss: 16.2489 - mae: 2.7378\n",
      "Epoch 45/100\n",
      "13/13 - 0s - loss: 16.0632 - mae: 2.7398\n",
      "Epoch 46/100\n",
      "13/13 - 0s - loss: 16.1506 - mae: 2.6616\n",
      "Epoch 47/100\n",
      "13/13 - 0s - loss: 15.5501 - mae: 2.6210\n",
      "Epoch 48/100\n",
      "13/13 - 0s - loss: 14.7310 - mae: 2.5833\n",
      "Epoch 49/100\n",
      "13/13 - 0s - loss: 14.4616 - mae: 2.5200\n",
      "Epoch 50/100\n",
      "13/13 - 0s - loss: 14.3501 - mae: 2.5227\n",
      "Epoch 51/100\n",
      "13/13 - 0s - loss: 14.3727 - mae: 2.5348\n",
      "Epoch 52/100\n",
      "13/13 - 0s - loss: 13.9202 - mae: 2.4629\n",
      "Epoch 53/100\n",
      "13/13 - 0s - loss: 14.2687 - mae: 2.5088\n",
      "Epoch 54/100\n",
      "13/13 - 0s - loss: 13.8838 - mae: 2.4996\n",
      "Epoch 55/100\n",
      "13/13 - 0s - loss: 14.3088 - mae: 2.4796\n",
      "Epoch 56/100\n",
      "13/13 - 0s - loss: 14.4390 - mae: 2.5718\n",
      "Epoch 57/100\n",
      "13/13 - 0s - loss: 14.2475 - mae: 2.6043\n",
      "Epoch 58/100\n",
      "13/13 - 0s - loss: 14.6714 - mae: 2.5308\n",
      "Epoch 59/100\n",
      "13/13 - 0s - loss: 13.0738 - mae: 2.4209\n",
      "Epoch 60/100\n",
      "13/13 - 0s - loss: 13.0352 - mae: 2.3950\n",
      "Epoch 61/100\n",
      "13/13 - 0s - loss: 12.8164 - mae: 2.4032\n",
      "Epoch 62/100\n",
      "13/13 - 0s - loss: 12.8893 - mae: 2.4359\n",
      "Epoch 63/100\n",
      "13/13 - 0s - loss: 12.7349 - mae: 2.4181\n",
      "Epoch 64/100\n",
      "13/13 - 0s - loss: 12.3696 - mae: 2.3501\n",
      "Epoch 65/100\n",
      "13/13 - 0s - loss: 12.3456 - mae: 2.3391\n",
      "Epoch 66/100\n",
      "13/13 - 0s - loss: 12.3589 - mae: 2.3474\n",
      "Epoch 67/100\n",
      "13/13 - 0s - loss: 12.6512 - mae: 2.4369\n",
      "Epoch 68/100\n",
      "13/13 - 0s - loss: 12.5095 - mae: 2.4659\n",
      "Epoch 69/100\n",
      "13/13 - 0s - loss: 11.9077 - mae: 2.3204\n",
      "Epoch 70/100\n",
      "13/13 - 0s - loss: 11.4628 - mae: 2.2775\n",
      "Epoch 71/100\n",
      "13/13 - 0s - loss: 11.4114 - mae: 2.2725\n",
      "Epoch 72/100\n",
      "13/13 - 0s - loss: 11.2190 - mae: 2.2746\n",
      "Epoch 73/100\n",
      "13/13 - 0s - loss: 11.3971 - mae: 2.2948\n",
      "Epoch 74/100\n",
      "13/13 - 0s - loss: 11.1843 - mae: 2.2504\n",
      "Epoch 75/100\n",
      "13/13 - 0s - loss: 11.1341 - mae: 2.2746\n",
      "Epoch 76/100\n",
      "13/13 - 0s - loss: 11.1134 - mae: 2.2844\n",
      "Epoch 77/100\n",
      "13/13 - 0s - loss: 11.1316 - mae: 2.2670\n",
      "Epoch 78/100\n",
      "13/13 - 0s - loss: 10.8604 - mae: 2.2522\n",
      "Epoch 79/100\n",
      "13/13 - 0s - loss: 10.8477 - mae: 2.2645\n",
      "Epoch 80/100\n",
      "13/13 - 0s - loss: 11.6478 - mae: 2.3350\n",
      "Epoch 81/100\n",
      "13/13 - 0s - loss: 11.5810 - mae: 2.3516\n",
      "Epoch 82/100\n",
      "13/13 - 0s - loss: 10.6505 - mae: 2.2775\n",
      "Epoch 83/100\n",
      "13/13 - 0s - loss: 10.3969 - mae: 2.2531\n",
      "Epoch 84/100\n",
      "13/13 - 0s - loss: 10.2209 - mae: 2.2057\n",
      "Epoch 85/100\n",
      "13/13 - 0s - loss: 10.2118 - mae: 2.1883\n",
      "Epoch 86/100\n",
      "13/13 - 0s - loss: 9.8743 - mae: 2.1569\n",
      "Epoch 87/100\n",
      "13/13 - 0s - loss: 9.8389 - mae: 2.1779\n",
      "Epoch 88/100\n",
      "13/13 - 0s - loss: 9.7019 - mae: 2.1611\n",
      "Epoch 89/100\n",
      "13/13 - 0s - loss: 10.3710 - mae: 2.1912\n",
      "Epoch 90/100\n",
      "13/13 - 0s - loss: 10.5496 - mae: 2.3336\n",
      "Epoch 91/100\n",
      "13/13 - 0s - loss: 9.5218 - mae: 2.1622\n",
      "Epoch 92/100\n",
      "13/13 - 0s - loss: 9.5123 - mae: 2.1574\n",
      "Epoch 93/100\n",
      "13/13 - 0s - loss: 9.3370 - mae: 2.1430\n",
      "Epoch 94/100\n",
      "13/13 - 0s - loss: 9.2717 - mae: 2.1102\n",
      "Epoch 95/100\n",
      "13/13 - 0s - loss: 9.0711 - mae: 2.0978\n",
      "Epoch 96/100\n",
      "13/13 - 0s - loss: 10.7106 - mae: 2.2518\n",
      "Epoch 97/100\n",
      "13/13 - 0s - loss: 9.1904 - mae: 2.1037\n",
      "Epoch 98/100\n",
      "13/13 - 0s - loss: 9.1301 - mae: 2.1120\n",
      "Epoch 99/100\n",
      "13/13 - 0s - loss: 8.9041 - mae: 2.1119\n",
      "Epoch 100/100\n",
      "13/13 - 0s - loss: 8.8035 - mae: 2.0561\n"
     ]
    },
    {
     "data": {
      "text/plain": [
       "<tensorflow.python.keras.callbacks.History at 0x7effb45f9748>"
      ]
     },
     "execution_count": 7,
     "metadata": {
      "tags": []
     },
     "output_type": "execute_result"
    }
   ],
   "source": [
    "# 모델 훈련\n",
    "model.fit(X_train, y_train, epochs=100, batch_size=32, verbose=2)"
   ]
  },
  {
   "cell_type": "code",
   "execution_count": null,
   "metadata": {
    "colab": {
     "base_uri": "https://localhost:8080/",
     "height": 52
    },
    "executionInfo": {
     "elapsed": 5832,
     "status": "ok",
     "timestamp": 1603615334839,
     "user": {
      "displayName": "오승환",
      "photoUrl": "https://lh3.googleusercontent.com/a-/AOh14GgBRB1w8bMEGhEpsp7aa7I9MQGz2D37o6hJeKeW=s64",
      "userId": "00933700884551564729"
     },
     "user_tz": -540
    },
    "id": "eZlJ0FJCFQ79",
    "outputId": "878d79fd-98ab-4944-9c98-a8a88f12880a"
   },
   "outputs": [
    {
     "name": "stdout",
     "output_type": "stream",
     "text": [
      "4/4 [==============================] - 0s 2ms/step - loss: 11.9346 - mae: 2.5706\n"
     ]
    },
    {
     "data": {
      "text/plain": [
       "[11.93463134765625, 2.5706279277801514]"
      ]
     },
     "execution_count": 8,
     "metadata": {
      "tags": []
     },
     "output_type": "execute_result"
    }
   ],
   "source": [
    "# 평가\n",
    "model.evaluate(X_test, y_test)"
   ]
  },
  {
   "cell_type": "markdown",
   "metadata": {
    "id": "ygJeT6fB7mh6"
   },
   "source": [
    "# 교차 검증"
   ]
  },
  {
   "cell_type": "code",
   "execution_count": null,
   "metadata": {
    "colab": {
     "base_uri": "https://localhost:8080/",
     "height": 1000
    },
    "executionInfo": {
     "elapsed": 13110,
     "status": "ok",
     "timestamp": 1603615342133,
     "user": {
      "displayName": "오승환",
      "photoUrl": "https://lh3.googleusercontent.com/a-/AOh14GgBRB1w8bMEGhEpsp7aa7I9MQGz2D37o6hJeKeW=s64",
      "userId": "00933700884551564729"
     },
     "user_tz": -540
    },
    "id": "SUcmyJzK8Zw3",
    "outputId": "4835a120-b949-43d2-8e3e-a5ba45851ac3"
   },
   "outputs": [
    {
     "name": "stdout",
     "output_type": "stream",
     "text": [
      "Epoch 1/200\n",
      "10/10 - 0s - loss: 566.7573 - mae: 21.9385 - val_loss: 515.1504 - val_mae: 20.7047\n",
      "Epoch 2/200\n",
      "10/10 - 0s - loss: 503.1967 - mae: 20.4027 - val_loss: 426.7216 - val_mae: 18.3588\n",
      "Epoch 3/200\n",
      "10/10 - 0s - loss: 380.5531 - mae: 16.9985 - val_loss: 269.0835 - val_mae: 13.3364\n",
      "Epoch 4/200\n",
      "10/10 - 0s - loss: 203.0931 - mae: 11.1510 - val_loss: 125.0759 - val_mae: 8.5931\n",
      "Epoch 5/200\n",
      "10/10 - 0s - loss: 129.1895 - mae: 8.9223 - val_loss: 121.8186 - val_mae: 8.9673\n",
      "Epoch 6/200\n",
      "10/10 - 0s - loss: 105.4088 - mae: 7.8732 - val_loss: 87.9445 - val_mae: 7.0101\n",
      "Epoch 7/200\n",
      "10/10 - 0s - loss: 89.8491 - mae: 6.8246 - val_loss: 74.3090 - val_mae: 6.2348\n",
      "Epoch 8/200\n",
      "10/10 - 0s - loss: 76.7941 - mae: 6.4276 - val_loss: 63.4918 - val_mae: 6.2655\n",
      "Epoch 9/200\n",
      "10/10 - 0s - loss: 67.2318 - mae: 5.9897 - val_loss: 55.6388 - val_mae: 5.4379\n",
      "Epoch 10/200\n",
      "10/10 - 0s - loss: 61.5730 - mae: 5.5181 - val_loss: 50.3621 - val_mae: 5.0067\n",
      "Epoch 11/200\n",
      "10/10 - 0s - loss: 56.6806 - mae: 5.3517 - val_loss: 46.7006 - val_mae: 4.9160\n",
      "Epoch 12/200\n",
      "10/10 - 0s - loss: 52.9692 - mae: 5.1570 - val_loss: 43.9173 - val_mae: 4.5557\n",
      "Epoch 13/200\n",
      "10/10 - 0s - loss: 50.1636 - mae: 5.0535 - val_loss: 41.5318 - val_mae: 4.4457\n",
      "Epoch 14/200\n",
      "10/10 - 0s - loss: 47.0355 - mae: 4.8668 - val_loss: 39.8444 - val_mae: 4.1631\n",
      "Epoch 15/200\n",
      "10/10 - 0s - loss: 44.5184 - mae: 4.6248 - val_loss: 37.3979 - val_mae: 4.1114\n",
      "Epoch 16/200\n",
      "10/10 - 0s - loss: 42.1214 - mae: 4.7377 - val_loss: 35.1676 - val_mae: 4.0171\n",
      "Epoch 17/200\n",
      "10/10 - 0s - loss: 40.1709 - mae: 4.3526 - val_loss: 33.4566 - val_mae: 3.7754\n",
      "Epoch 18/200\n",
      "10/10 - 0s - loss: 36.7682 - mae: 4.3695 - val_loss: 31.1283 - val_mae: 3.7418\n",
      "Epoch 19/200\n",
      "10/10 - 0s - loss: 33.8031 - mae: 4.1335 - val_loss: 29.2534 - val_mae: 3.5494\n",
      "Epoch 20/200\n",
      "10/10 - 0s - loss: 31.5160 - mae: 3.9171 - val_loss: 27.3411 - val_mae: 3.4258\n",
      "Epoch 21/200\n",
      "10/10 - 0s - loss: 29.3513 - mae: 3.8072 - val_loss: 25.4678 - val_mae: 3.3360\n",
      "Epoch 22/200\n",
      "10/10 - 0s - loss: 27.0870 - mae: 3.6493 - val_loss: 23.9866 - val_mae: 3.2093\n",
      "Epoch 23/200\n",
      "10/10 - 0s - loss: 25.5108 - mae: 3.4552 - val_loss: 22.7583 - val_mae: 3.1561\n",
      "Epoch 24/200\n",
      "10/10 - 0s - loss: 24.3262 - mae: 3.3187 - val_loss: 21.3501 - val_mae: 3.0502\n",
      "Epoch 25/200\n",
      "10/10 - 0s - loss: 22.7354 - mae: 3.3459 - val_loss: 20.3648 - val_mae: 2.9870\n",
      "Epoch 26/200\n",
      "10/10 - 0s - loss: 21.4403 - mae: 3.1245 - val_loss: 19.8377 - val_mae: 2.9980\n",
      "Epoch 27/200\n",
      "10/10 - 0s - loss: 20.5461 - mae: 3.0419 - val_loss: 19.4365 - val_mae: 3.0157\n",
      "Epoch 28/200\n",
      "10/10 - 0s - loss: 20.1283 - mae: 3.0217 - val_loss: 18.8908 - val_mae: 2.9416\n",
      "Epoch 29/200\n",
      "10/10 - 0s - loss: 19.1574 - mae: 2.9512 - val_loss: 18.5511 - val_mae: 2.9236\n",
      "Epoch 30/200\n",
      "10/10 - 0s - loss: 18.7969 - mae: 2.8835 - val_loss: 18.2163 - val_mae: 2.9229\n",
      "Epoch 31/200\n",
      "10/10 - 0s - loss: 18.2878 - mae: 2.8767 - val_loss: 18.0410 - val_mae: 2.8924\n",
      "Epoch 32/200\n",
      "10/10 - 0s - loss: 18.0546 - mae: 2.8725 - val_loss: 17.8432 - val_mae: 2.8994\n",
      "Epoch 33/200\n",
      "10/10 - 0s - loss: 17.6527 - mae: 2.8058 - val_loss: 17.6020 - val_mae: 2.8832\n",
      "Epoch 34/200\n",
      "10/10 - 0s - loss: 17.9249 - mae: 2.8924 - val_loss: 18.0476 - val_mae: 2.8675\n",
      "Epoch 35/200\n",
      "10/10 - 0s - loss: 17.5437 - mae: 2.7778 - val_loss: 17.4688 - val_mae: 2.9495\n",
      "Epoch 36/200\n",
      "10/10 - 0s - loss: 17.1124 - mae: 2.8070 - val_loss: 16.9743 - val_mae: 2.8343\n",
      "Epoch 37/200\n",
      "10/10 - 0s - loss: 16.9116 - mae: 2.7476 - val_loss: 16.8288 - val_mae: 2.8500\n",
      "Epoch 38/200\n",
      "10/10 - 0s - loss: 16.7366 - mae: 2.8223 - val_loss: 16.8379 - val_mae: 2.8390\n",
      "Epoch 39/200\n",
      "10/10 - 0s - loss: 16.9273 - mae: 2.7419 - val_loss: 16.9604 - val_mae: 2.9417\n",
      "Epoch 40/200\n",
      "10/10 - 0s - loss: 16.9659 - mae: 2.8337 - val_loss: 17.3834 - val_mae: 2.7369\n",
      "Epoch 41/200\n",
      "10/10 - 0s - loss: 16.1426 - mae: 2.7046 - val_loss: 16.1207 - val_mae: 2.8126\n",
      "Epoch 42/200\n",
      "10/10 - 0s - loss: 15.4708 - mae: 2.5988 - val_loss: 15.9280 - val_mae: 2.7524\n",
      "Epoch 43/200\n",
      "10/10 - 0s - loss: 15.2483 - mae: 2.6671 - val_loss: 15.8385 - val_mae: 2.7063\n",
      "Epoch 44/200\n",
      "10/10 - 0s - loss: 14.8163 - mae: 2.5990 - val_loss: 15.5462 - val_mae: 2.7175\n",
      "Epoch 45/200\n",
      "10/10 - 0s - loss: 14.6344 - mae: 2.5602 - val_loss: 15.4512 - val_mae: 2.6697\n",
      "Epoch 46/200\n",
      "10/10 - 0s - loss: 14.4419 - mae: 2.5435 - val_loss: 15.2627 - val_mae: 2.6848\n",
      "Epoch 47/200\n",
      "10/10 - 0s - loss: 14.3641 - mae: 2.5582 - val_loss: 15.1683 - val_mae: 2.7174\n",
      "Epoch 48/200\n",
      "10/10 - 0s - loss: 14.0420 - mae: 2.5400 - val_loss: 15.3918 - val_mae: 2.6175\n",
      "Epoch 49/200\n",
      "10/10 - 0s - loss: 14.4059 - mae: 2.5402 - val_loss: 15.1374 - val_mae: 2.6274\n",
      "Epoch 50/200\n",
      "10/10 - 0s - loss: 14.2899 - mae: 2.6272 - val_loss: 15.4479 - val_mae: 2.8768\n",
      "Epoch 51/200\n",
      "10/10 - 0s - loss: 13.9409 - mae: 2.5410 - val_loss: 14.3040 - val_mae: 2.6432\n",
      "Epoch 52/200\n",
      "10/10 - 0s - loss: 13.4297 - mae: 2.4905 - val_loss: 14.6071 - val_mae: 2.5842\n",
      "Epoch 53/200\n",
      "10/10 - 0s - loss: 13.0544 - mae: 2.4458 - val_loss: 13.8984 - val_mae: 2.5566\n",
      "Epoch 54/200\n",
      "10/10 - 0s - loss: 12.9622 - mae: 2.4486 - val_loss: 14.0510 - val_mae: 2.6711\n",
      "Epoch 55/200\n",
      "10/10 - 0s - loss: 12.5854 - mae: 2.4551 - val_loss: 14.1961 - val_mae: 2.5497\n",
      "Epoch 56/200\n",
      "10/10 - 0s - loss: 12.7083 - mae: 2.4206 - val_loss: 13.9942 - val_mae: 2.5154\n",
      "Epoch 57/200\n",
      "10/10 - 0s - loss: 12.4894 - mae: 2.3996 - val_loss: 13.5932 - val_mae: 2.6000\n",
      "Epoch 58/200\n",
      "10/10 - 0s - loss: 12.6203 - mae: 2.4126 - val_loss: 13.9444 - val_mae: 2.5102\n",
      "Epoch 59/200\n",
      "10/10 - 0s - loss: 11.9453 - mae: 2.3467 - val_loss: 13.2357 - val_mae: 2.5490\n",
      "Epoch 60/200\n",
      "10/10 - 0s - loss: 11.6656 - mae: 2.3230 - val_loss: 13.1912 - val_mae: 2.5505\n",
      "Epoch 61/200\n",
      "10/10 - 0s - loss: 11.3007 - mae: 2.2937 - val_loss: 13.1549 - val_mae: 2.4959\n",
      "Epoch 62/200\n",
      "10/10 - 0s - loss: 10.9558 - mae: 2.2745 - val_loss: 13.2883 - val_mae: 2.6662\n",
      "Epoch 63/200\n",
      "10/10 - 0s - loss: 11.7378 - mae: 2.4277 - val_loss: 14.9310 - val_mae: 2.6389\n",
      "Epoch 64/200\n",
      "10/10 - 0s - loss: 11.6951 - mae: 2.4418 - val_loss: 13.4449 - val_mae: 2.6729\n",
      "Epoch 65/200\n",
      "10/10 - 0s - loss: 10.8469 - mae: 2.2646 - val_loss: 12.7518 - val_mae: 2.5059\n",
      "Epoch 66/200\n",
      "10/10 - 0s - loss: 10.4186 - mae: 2.2286 - val_loss: 12.4238 - val_mae: 2.5068\n",
      "Epoch 67/200\n",
      "10/10 - 0s - loss: 10.6657 - mae: 2.2486 - val_loss: 12.8321 - val_mae: 2.5960\n",
      "Epoch 68/200\n",
      "10/10 - 0s - loss: 11.6996 - mae: 2.4480 - val_loss: 14.5242 - val_mae: 2.6061\n",
      "Epoch 69/200\n",
      "10/10 - 0s - loss: 10.7542 - mae: 2.3320 - val_loss: 12.1401 - val_mae: 2.5171\n",
      "Epoch 70/200\n",
      "10/10 - 0s - loss: 9.9701 - mae: 2.2060 - val_loss: 12.0687 - val_mae: 2.5034\n",
      "Epoch 71/200\n",
      "10/10 - 0s - loss: 9.6395 - mae: 2.1605 - val_loss: 11.9836 - val_mae: 2.4310\n",
      "Epoch 72/200\n",
      "10/10 - 0s - loss: 9.4614 - mae: 2.1342 - val_loss: 11.9116 - val_mae: 2.4556\n",
      "Epoch 73/200\n",
      "10/10 - 0s - loss: 9.2825 - mae: 2.1168 - val_loss: 11.8939 - val_mae: 2.4893\n",
      "Epoch 74/200\n",
      "10/10 - 0s - loss: 9.3130 - mae: 2.1279 - val_loss: 11.9660 - val_mae: 2.4299\n",
      "Epoch 75/200\n",
      "10/10 - 0s - loss: 9.1350 - mae: 2.1148 - val_loss: 11.6981 - val_mae: 2.4304\n",
      "Epoch 76/200\n",
      "10/10 - 0s - loss: 9.2092 - mae: 2.1230 - val_loss: 11.7112 - val_mae: 2.4238\n",
      "Epoch 77/200\n",
      "10/10 - 0s - loss: 9.0486 - mae: 2.1452 - val_loss: 12.0322 - val_mae: 2.4122\n",
      "Epoch 78/200\n",
      "10/10 - 0s - loss: 8.6344 - mae: 2.0580 - val_loss: 11.5702 - val_mae: 2.4513\n",
      "Epoch 79/200\n",
      "10/10 - 0s - loss: 8.6362 - mae: 2.0781 - val_loss: 11.7210 - val_mae: 2.4883\n",
      "Epoch 80/200\n",
      "10/10 - 0s - loss: 8.8407 - mae: 2.0821 - val_loss: 11.6123 - val_mae: 2.4521\n",
      "Epoch 81/200\n",
      "10/10 - 0s - loss: 8.7710 - mae: 2.1646 - val_loss: 13.0687 - val_mae: 2.4612\n",
      "Epoch 82/200\n",
      "10/10 - 0s - loss: 9.2328 - mae: 2.2146 - val_loss: 11.4460 - val_mae: 2.3822\n",
      "Epoch 83/200\n",
      "10/10 - 0s - loss: 8.1849 - mae: 2.0461 - val_loss: 11.3911 - val_mae: 2.4238\n",
      "Epoch 84/200\n",
      "10/10 - 0s - loss: 7.9593 - mae: 2.0045 - val_loss: 11.5245 - val_mae: 2.3711\n",
      "Epoch 85/200\n",
      "10/10 - 0s - loss: 7.9232 - mae: 2.0020 - val_loss: 11.3709 - val_mae: 2.3443\n",
      "Epoch 86/200\n",
      "10/10 - 0s - loss: 8.2471 - mae: 2.0332 - val_loss: 11.7007 - val_mae: 2.3708\n",
      "Epoch 87/200\n",
      "10/10 - 0s - loss: 7.6309 - mae: 1.9808 - val_loss: 11.7517 - val_mae: 2.4868\n",
      "Epoch 88/200\n",
      "10/10 - 0s - loss: 7.7731 - mae: 2.0125 - val_loss: 10.9104 - val_mae: 2.3949\n",
      "Epoch 89/200\n",
      "10/10 - 0s - loss: 7.5687 - mae: 1.9454 - val_loss: 11.9936 - val_mae: 2.4028\n",
      "Epoch 90/200\n",
      "10/10 - 0s - loss: 7.7044 - mae: 2.0085 - val_loss: 11.3833 - val_mae: 2.3486\n",
      "Epoch 91/200\n",
      "10/10 - 0s - loss: 7.3594 - mae: 1.9530 - val_loss: 11.1346 - val_mae: 2.4082\n",
      "Epoch 92/200\n",
      "10/10 - 0s - loss: 7.0897 - mae: 1.9380 - val_loss: 12.0333 - val_mae: 2.3992\n",
      "Epoch 93/200\n",
      "10/10 - 0s - loss: 7.4638 - mae: 1.9687 - val_loss: 11.2201 - val_mae: 2.3299\n",
      "Epoch 94/200\n",
      "10/10 - 0s - loss: 7.1243 - mae: 1.9335 - val_loss: 10.7421 - val_mae: 2.3475\n",
      "Epoch 95/200\n",
      "10/10 - 0s - loss: 7.0200 - mae: 1.9168 - val_loss: 11.0896 - val_mae: 2.4099\n",
      "Epoch 96/200\n",
      "10/10 - 0s - loss: 7.0451 - mae: 1.8829 - val_loss: 10.7635 - val_mae: 2.3383\n",
      "Epoch 97/200\n",
      "10/10 - 0s - loss: 7.0880 - mae: 1.9631 - val_loss: 12.8930 - val_mae: 2.4459\n",
      "Epoch 98/200\n",
      "10/10 - 0s - loss: 7.3227 - mae: 1.9223 - val_loss: 10.8355 - val_mae: 2.3013\n",
      "Epoch 99/200\n",
      "10/10 - 0s - loss: 6.7081 - mae: 1.8679 - val_loss: 11.0740 - val_mae: 2.3023\n",
      "Epoch 100/200\n",
      "10/10 - 0s - loss: 6.5964 - mae: 1.9002 - val_loss: 10.6638 - val_mae: 2.2885\n",
      "Epoch 101/200\n",
      "10/10 - 0s - loss: 6.9236 - mae: 1.9233 - val_loss: 10.7326 - val_mae: 2.3780\n",
      "Epoch 102/200\n",
      "10/10 - 0s - loss: 6.8042 - mae: 1.9003 - val_loss: 11.7798 - val_mae: 2.5221\n",
      "Epoch 103/200\n",
      "10/10 - 0s - loss: 6.6356 - mae: 1.8906 - val_loss: 10.6505 - val_mae: 2.2645\n",
      "Epoch 104/200\n",
      "10/10 - 0s - loss: 6.7964 - mae: 1.9278 - val_loss: 13.7679 - val_mae: 2.5046\n",
      "Epoch 105/200\n",
      "10/10 - 0s - loss: 7.7625 - mae: 2.1712 - val_loss: 10.7666 - val_mae: 2.2638\n",
      "Epoch 106/200\n",
      "10/10 - 0s - loss: 6.6563 - mae: 1.9227 - val_loss: 10.8025 - val_mae: 2.2893\n",
      "Epoch 107/200\n",
      "10/10 - 0s - loss: 6.3612 - mae: 1.8659 - val_loss: 11.2141 - val_mae: 2.4880\n",
      "Epoch 108/200\n",
      "10/10 - 0s - loss: 6.5908 - mae: 1.8767 - val_loss: 11.0749 - val_mae: 2.4032\n",
      "Epoch 109/200\n",
      "10/10 - 0s - loss: 6.0818 - mae: 1.8145 - val_loss: 10.5996 - val_mae: 2.2733\n",
      "Epoch 110/200\n",
      "10/10 - 0s - loss: 5.9503 - mae: 1.8069 - val_loss: 11.5881 - val_mae: 2.3001\n",
      "Epoch 111/200\n",
      "10/10 - 0s - loss: 6.1344 - mae: 1.8270 - val_loss: 10.7010 - val_mae: 2.2572\n",
      "Epoch 112/200\n",
      "10/10 - 0s - loss: 5.9611 - mae: 1.8011 - val_loss: 10.4511 - val_mae: 2.2638\n",
      "Epoch 113/200\n",
      "10/10 - 0s - loss: 6.0783 - mae: 1.8323 - val_loss: 11.4288 - val_mae: 2.5164\n",
      "Epoch 114/200\n",
      "10/10 - 0s - loss: 6.6779 - mae: 1.9309 - val_loss: 11.3161 - val_mae: 2.4892\n",
      "Epoch 115/200\n",
      "10/10 - 0s - loss: 6.0552 - mae: 1.8205 - val_loss: 10.7294 - val_mae: 2.2815\n",
      "Epoch 116/200\n",
      "10/10 - 0s - loss: 5.4990 - mae: 1.7719 - val_loss: 10.3520 - val_mae: 2.2895\n",
      "Epoch 117/200\n",
      "10/10 - 0s - loss: 5.4628 - mae: 1.7488 - val_loss: 10.3269 - val_mae: 2.2201\n",
      "Epoch 118/200\n",
      "10/10 - 0s - loss: 5.3659 - mae: 1.7124 - val_loss: 11.3502 - val_mae: 2.2874\n",
      "Epoch 119/200\n",
      "10/10 - 0s - loss: 5.6420 - mae: 1.7981 - val_loss: 10.6494 - val_mae: 2.2311\n",
      "Epoch 120/200\n",
      "10/10 - 0s - loss: 5.2964 - mae: 1.7323 - val_loss: 10.2072 - val_mae: 2.2095\n",
      "Epoch 121/200\n",
      "10/10 - 0s - loss: 5.1750 - mae: 1.6906 - val_loss: 10.7835 - val_mae: 2.3992\n",
      "Epoch 122/200\n",
      "10/10 - 0s - loss: 5.1561 - mae: 1.6965 - val_loss: 10.1920 - val_mae: 2.2359\n",
      "Epoch 123/200\n",
      "10/10 - 0s - loss: 4.8550 - mae: 1.6654 - val_loss: 10.8449 - val_mae: 2.2070\n",
      "Epoch 124/200\n",
      "10/10 - 0s - loss: 5.0097 - mae: 1.6711 - val_loss: 9.9542 - val_mae: 2.2121\n",
      "Epoch 125/200\n",
      "10/10 - 0s - loss: 5.0040 - mae: 1.6910 - val_loss: 10.4465 - val_mae: 2.3259\n",
      "Epoch 126/200\n",
      "10/10 - 0s - loss: 4.9147 - mae: 1.7056 - val_loss: 9.9621 - val_mae: 2.1992\n",
      "Epoch 127/200\n",
      "10/10 - 0s - loss: 4.9991 - mae: 1.6952 - val_loss: 9.8073 - val_mae: 2.1780\n",
      "Epoch 128/200\n",
      "10/10 - 0s - loss: 4.9511 - mae: 1.7537 - val_loss: 12.7591 - val_mae: 2.3895\n",
      "Epoch 129/200\n",
      "10/10 - 0s - loss: 5.8245 - mae: 1.8707 - val_loss: 11.2789 - val_mae: 2.1950\n",
      "Epoch 130/200\n",
      "10/10 - 0s - loss: 5.3133 - mae: 1.7690 - val_loss: 10.3755 - val_mae: 2.2075\n",
      "Epoch 131/200\n",
      "10/10 - 0s - loss: 4.6929 - mae: 1.6452 - val_loss: 10.0172 - val_mae: 2.1985\n",
      "Epoch 132/200\n",
      "10/10 - 0s - loss: 4.5985 - mae: 1.6088 - val_loss: 10.0528 - val_mae: 2.2656\n",
      "Epoch 133/200\n",
      "10/10 - 0s - loss: 4.3847 - mae: 1.5847 - val_loss: 10.0686 - val_mae: 2.1972\n",
      "Epoch 134/200\n",
      "10/10 - 0s - loss: 4.4837 - mae: 1.6073 - val_loss: 10.0749 - val_mae: 2.2264\n",
      "Epoch 135/200\n",
      "10/10 - 0s - loss: 4.3992 - mae: 1.5752 - val_loss: 10.0436 - val_mae: 2.2334\n",
      "Epoch 136/200\n",
      "10/10 - 0s - loss: 4.4391 - mae: 1.5902 - val_loss: 9.9935 - val_mae: 2.2382\n",
      "Epoch 137/200\n",
      "10/10 - 0s - loss: 4.3577 - mae: 1.5656 - val_loss: 10.0590 - val_mae: 2.2162\n",
      "Epoch 138/200\n",
      "10/10 - 0s - loss: 4.5322 - mae: 1.6272 - val_loss: 11.1870 - val_mae: 2.2481\n",
      "Epoch 139/200\n",
      "10/10 - 0s - loss: 5.1825 - mae: 1.7542 - val_loss: 10.3010 - val_mae: 2.1754\n",
      "Epoch 140/200\n",
      "10/10 - 0s - loss: 4.6718 - mae: 1.6527 - val_loss: 10.5595 - val_mae: 2.2354\n",
      "Epoch 141/200\n",
      "10/10 - 0s - loss: 5.0950 - mae: 1.6809 - val_loss: 10.3575 - val_mae: 2.1391\n",
      "Epoch 142/200\n",
      "10/10 - 0s - loss: 4.6761 - mae: 1.6480 - val_loss: 10.6221 - val_mae: 2.2063\n",
      "Epoch 143/200\n",
      "10/10 - 0s - loss: 4.4275 - mae: 1.5703 - val_loss: 9.7966 - val_mae: 2.1828\n",
      "Epoch 144/200\n",
      "10/10 - 0s - loss: 4.1251 - mae: 1.5404 - val_loss: 10.0409 - val_mae: 2.2040\n",
      "Epoch 145/200\n",
      "10/10 - 0s - loss: 4.1751 - mae: 1.5393 - val_loss: 10.3182 - val_mae: 2.1720\n",
      "Epoch 146/200\n",
      "10/10 - 0s - loss: 4.3161 - mae: 1.5655 - val_loss: 9.8578 - val_mae: 2.1578\n",
      "Epoch 147/200\n",
      "10/10 - 0s - loss: 4.0428 - mae: 1.5454 - val_loss: 10.4139 - val_mae: 2.2668\n",
      "Epoch 148/200\n",
      "10/10 - 0s - loss: 4.0657 - mae: 1.5311 - val_loss: 9.8533 - val_mae: 2.1794\n",
      "Epoch 149/200\n",
      "10/10 - 0s - loss: 3.8388 - mae: 1.4765 - val_loss: 10.4488 - val_mae: 2.2988\n",
      "Epoch 150/200\n",
      "10/10 - 0s - loss: 4.2145 - mae: 1.5990 - val_loss: 10.1459 - val_mae: 2.2309\n",
      "Epoch 151/200\n",
      "10/10 - 0s - loss: 4.0458 - mae: 1.5316 - val_loss: 10.0555 - val_mae: 2.1806\n",
      "Epoch 152/200\n",
      "10/10 - 0s - loss: 4.0012 - mae: 1.5325 - val_loss: 10.3392 - val_mae: 2.1767\n",
      "Epoch 153/200\n",
      "10/10 - 0s - loss: 3.9577 - mae: 1.5101 - val_loss: 9.9766 - val_mae: 2.1917\n",
      "Epoch 154/200\n",
      "10/10 - 0s - loss: 3.8253 - mae: 1.5036 - val_loss: 10.3211 - val_mae: 2.1774\n",
      "Epoch 155/200\n",
      "10/10 - 0s - loss: 3.9396 - mae: 1.5039 - val_loss: 9.9508 - val_mae: 2.1492\n",
      "Epoch 156/200\n",
      "10/10 - 0s - loss: 3.7389 - mae: 1.4640 - val_loss: 10.0510 - val_mae: 2.2104\n",
      "Epoch 157/200\n",
      "10/10 - 0s - loss: 3.7063 - mae: 1.4701 - val_loss: 10.4187 - val_mae: 2.1701\n",
      "Epoch 158/200\n",
      "10/10 - 0s - loss: 3.7229 - mae: 1.4805 - val_loss: 9.8924 - val_mae: 2.1773\n",
      "Epoch 159/200\n",
      "10/10 - 0s - loss: 3.7009 - mae: 1.4727 - val_loss: 10.0417 - val_mae: 2.2085\n",
      "Epoch 160/200\n",
      "10/10 - 0s - loss: 3.8085 - mae: 1.4920 - val_loss: 9.8240 - val_mae: 2.1961\n",
      "Epoch 161/200\n",
      "10/10 - 0s - loss: 3.5735 - mae: 1.4317 - val_loss: 10.2541 - val_mae: 2.2210\n",
      "Epoch 162/200\n",
      "10/10 - 0s - loss: 3.8899 - mae: 1.5315 - val_loss: 9.9540 - val_mae: 2.1947\n",
      "Epoch 163/200\n",
      "10/10 - 0s - loss: 3.9194 - mae: 1.5214 - val_loss: 10.1189 - val_mae: 2.2764\n",
      "Epoch 164/200\n",
      "10/10 - 0s - loss: 3.6209 - mae: 1.4494 - val_loss: 10.1775 - val_mae: 2.2012\n",
      "Epoch 165/200\n",
      "10/10 - 0s - loss: 3.6072 - mae: 1.4481 - val_loss: 9.9608 - val_mae: 2.1793\n",
      "Epoch 166/200\n",
      "10/10 - 0s - loss: 3.5989 - mae: 1.4255 - val_loss: 10.0753 - val_mae: 2.1898\n",
      "Epoch 167/200\n",
      "10/10 - 0s - loss: 3.5053 - mae: 1.4428 - val_loss: 10.0581 - val_mae: 2.1905\n",
      "Epoch 168/200\n",
      "10/10 - 0s - loss: 3.6029 - mae: 1.4337 - val_loss: 9.8895 - val_mae: 2.1331\n",
      "Epoch 169/200\n",
      "10/10 - 0s - loss: 3.8018 - mae: 1.4576 - val_loss: 10.1646 - val_mae: 2.1964\n",
      "Epoch 170/200\n",
      "10/10 - 0s - loss: 3.4829 - mae: 1.4191 - val_loss: 9.9048 - val_mae: 2.2210\n",
      "Epoch 171/200\n",
      "10/10 - 0s - loss: 3.4798 - mae: 1.4249 - val_loss: 10.3552 - val_mae: 2.1911\n",
      "Epoch 172/200\n",
      "10/10 - 0s - loss: 3.4941 - mae: 1.4365 - val_loss: 10.0368 - val_mae: 2.1901\n",
      "Epoch 173/200\n",
      "10/10 - 0s - loss: 3.5438 - mae: 1.4358 - val_loss: 10.3610 - val_mae: 2.1644\n",
      "Epoch 174/200\n",
      "10/10 - 0s - loss: 3.6085 - mae: 1.4228 - val_loss: 9.7080 - val_mae: 2.1772\n",
      "Epoch 175/200\n",
      "10/10 - 0s - loss: 3.6899 - mae: 1.4577 - val_loss: 10.0685 - val_mae: 2.1881\n",
      "Epoch 176/200\n",
      "10/10 - 0s - loss: 3.3854 - mae: 1.4001 - val_loss: 9.7479 - val_mae: 2.1853\n",
      "Epoch 177/200\n",
      "10/10 - 0s - loss: 3.4921 - mae: 1.4018 - val_loss: 9.9121 - val_mae: 2.1995\n",
      "Epoch 178/200\n",
      "10/10 - 0s - loss: 3.6423 - mae: 1.4521 - val_loss: 10.2761 - val_mae: 2.3179\n",
      "Epoch 179/200\n",
      "10/10 - 0s - loss: 3.3494 - mae: 1.4273 - val_loss: 10.4113 - val_mae: 2.2043\n",
      "Epoch 180/200\n",
      "10/10 - 0s - loss: 3.4191 - mae: 1.4065 - val_loss: 10.1596 - val_mae: 2.2708\n",
      "Epoch 181/200\n",
      "10/10 - 0s - loss: 3.4170 - mae: 1.4214 - val_loss: 10.2223 - val_mae: 2.3094\n",
      "Epoch 182/200\n",
      "10/10 - 0s - loss: 3.6165 - mae: 1.4277 - val_loss: 9.9319 - val_mae: 2.2153\n",
      "Epoch 183/200\n",
      "10/10 - 0s - loss: 3.3743 - mae: 1.4001 - val_loss: 10.1173 - val_mae: 2.2217\n",
      "Epoch 184/200\n",
      "10/10 - 0s - loss: 3.2690 - mae: 1.3649 - val_loss: 10.0351 - val_mae: 2.1487\n",
      "Epoch 185/200\n",
      "10/10 - 0s - loss: 3.2221 - mae: 1.3682 - val_loss: 10.0346 - val_mae: 2.2018\n",
      "Epoch 186/200\n",
      "10/10 - 0s - loss: 3.1833 - mae: 1.3520 - val_loss: 9.8348 - val_mae: 2.2364\n",
      "Epoch 187/200\n",
      "10/10 - 0s - loss: 3.7552 - mae: 1.4604 - val_loss: 9.8666 - val_mae: 2.1939\n",
      "Epoch 188/200\n",
      "10/10 - 0s - loss: 3.5241 - mae: 1.4329 - val_loss: 9.9270 - val_mae: 2.2019\n",
      "Epoch 189/200\n",
      "10/10 - 0s - loss: 3.5923 - mae: 1.4370 - val_loss: 10.1154 - val_mae: 2.1669\n",
      "Epoch 190/200\n",
      "10/10 - 0s - loss: 3.4351 - mae: 1.4131 - val_loss: 10.8532 - val_mae: 2.2165\n",
      "Epoch 191/200\n",
      "10/10 - 0s - loss: 3.4922 - mae: 1.4056 - val_loss: 9.8950 - val_mae: 2.1629\n",
      "Epoch 192/200\n",
      "10/10 - 0s - loss: 3.0342 - mae: 1.3212 - val_loss: 10.2034 - val_mae: 2.2952\n",
      "Epoch 193/200\n",
      "10/10 - 0s - loss: 3.2309 - mae: 1.3776 - val_loss: 9.7491 - val_mae: 2.1699\n",
      "Epoch 194/200\n",
      "10/10 - 0s - loss: 3.2738 - mae: 1.3500 - val_loss: 9.9160 - val_mae: 2.1557\n",
      "Epoch 195/200\n",
      "10/10 - 0s - loss: 3.0567 - mae: 1.3324 - val_loss: 9.8401 - val_mae: 2.1560\n",
      "Epoch 196/200\n",
      "10/10 - 0s - loss: 3.2102 - mae: 1.3378 - val_loss: 10.0915 - val_mae: 2.1774\n",
      "Epoch 197/200\n",
      "10/10 - 0s - loss: 3.2874 - mae: 1.3457 - val_loss: 10.3526 - val_mae: 2.2912\n",
      "Epoch 198/200\n",
      "10/10 - 0s - loss: 3.3942 - mae: 1.4088 - val_loss: 10.3057 - val_mae: 2.3073\n",
      "Epoch 199/200\n",
      "10/10 - 0s - loss: 3.3821 - mae: 1.4316 - val_loss: 10.0479 - val_mae: 2.1454\n",
      "Epoch 200/200\n",
      "10/10 - 0s - loss: 3.2377 - mae: 1.3466 - val_loss: 9.8072 - val_mae: 2.1347\n"
     ]
    }
   ],
   "source": [
    "model = build_model(num_input=13)\n",
    "history = model.fit(X_train, y_train, batch_size=32, epochs=200,\n",
    "                    validation_split=0.25, verbose=2)"
   ]
  },
  {
   "cell_type": "code",
   "execution_count": null,
   "metadata": {
    "colab": {
     "base_uri": "https://localhost:8080/",
     "height": 334
    },
    "executionInfo": {
     "elapsed": 13092,
     "status": "ok",
     "timestamp": 1603615342136,
     "user": {
      "displayName": "오승환",
      "photoUrl": "https://lh3.googleusercontent.com/a-/AOh14GgBRB1w8bMEGhEpsp7aa7I9MQGz2D37o6hJeKeW=s64",
      "userId": "00933700884551564729"
     },
     "user_tz": -540
    },
    "id": "YYwniSFL8Z1I",
    "outputId": "1c006421-a556-4445-b28f-9a92356fc6c3"
   },
   "outputs": [
    {
     "data": {
      "image/png": "[encoded data removed]",
      "text/plain": [
       "<Figure size 360x360 with 1 Axes>"
      ]
     },
     "metadata": {
      "needs_background": "light",
      "tags": []
     },
     "output_type": "display_data"
    }
   ],
   "source": [
    "import matplotlib.pyplot as plt\n",
    "def plot_loss_curve(total_epoch=10, start=1):\n",
    "    plt.figure(figsize=(5, 5))\n",
    "    plt.plot(range(start, total_epoch + 1), \n",
    "             history.history['loss'][start-1:total_epoch], \n",
    "             label='Train')\n",
    "    plt.plot(range(start, total_epoch + 1), \n",
    "             history.history['val_loss'][start-1:total_epoch], \n",
    "             label='Validation')\n",
    "    plt.xlabel('Epochs')\n",
    "    plt.ylabel('mse')\n",
    "    plt.legend()\n",
    "    plt.show()\n",
    "\n",
    "plot_loss_curve(total_epoch=200, start=1)"
   ]
  },
  {
   "cell_type": "code",
   "execution_count": null,
   "metadata": {
    "colab": {
     "base_uri": "https://localhost:8080/",
     "height": 334
    },
    "executionInfo": {
     "elapsed": 13588,
     "status": "ok",
     "timestamp": 1603615342656,
     "user": {
      "displayName": "오승환",
      "photoUrl": "https://lh3.googleusercontent.com/a-/AOh14GgBRB1w8bMEGhEpsp7aa7I9MQGz2D37o6hJeKeW=s64",
      "userId": "00933700884551564729"
     },
     "user_tz": -540
    },
    "id": "NvA25luj-OxI",
    "outputId": "eac057c7-53e2-4326-b2ed-ac77099667e9"
   },
   "outputs": [
    {
     "data": {
      "image/png": "[encoded data removed]",
      "text/plain": [
       "<Figure size 360x360 with 1 Axes>"
      ]
     },
     "metadata": {
      "needs_background": "light",
      "tags": []
     },
     "output_type": "display_data"
    }
   ],
   "source": [
    "plot_loss_curve(total_epoch=200, start=20)"
   ]
  }
 ],
 "metadata": {
  "colab": {
   "authorship_tag": "ABX9TyP+GuLEH7PcVW+CsIOlqidD",
   "collapsed_sections": [],
   "name": "5.2_boston_regression.ipynb",
   "provenance": []
  },
  "kernelspec": {
   "display_name": "Python 3",
   "language": "python",
   "name": "python3"
  },
  "language_info": {
   "codemirror_mode": {
    "name": "ipython",
    "version": 3
   },
   "file_extension": ".py",
   "mimetype": "text/x-python",
   "name": "python",
   "nbconvert_exporter": "python",
   "pygments_lexer": "ipython3",
   "version": "3.8.5"
  }
 },
 "nbformat": 4,
 "nbformat_minor": 1
}
