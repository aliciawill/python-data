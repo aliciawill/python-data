{
 "cells": [
  {
   "cell_type": "markdown",
   "metadata": {
    "id": "z5xn5yDdg4IN"
   },
   "source": [
    "# 1. 환경 설정"
   ]
  },
  {
   "cell_type": "code",
   "execution_count": 1,
   "metadata": {
    "executionInfo": {
     "elapsed": 2319,
     "status": "ok",
     "timestamp": 1603632679853,
     "user": {
      "displayName": "오승환",
      "photoUrl": "https://lh3.googleusercontent.com/a-/AOh14GgBRB1w8bMEGhEpsp7aa7I9MQGz2D37o6hJeKeW=s64",
      "userId": "00933700884551564729"
     },
     "user_tz": -540
    },
    "id": "9mGljBZMg2V8"
   },
   "outputs": [],
   "source": [
    "# 라이브러리 설정\n",
    "import pandas as pd\n",
    "import numpy as np\n",
    "import tensorflow as tf\n",
    "import matplotlib.pyplot as plt\n",
    "import random\n",
    "\n",
    "from tensorflow.keras.models import Sequential\n",
    "from tensorflow.keras.layers import Flatten, Dense, Dropout\n",
    "from tensorflow.keras.layers import Conv2D, MaxPooling2D, Reshape\n",
    "\n",
    "# 랜덤 시드 고정\n",
    "SEED=12\n",
    "random.seed(SEED)\n",
    "np.random.seed(SEED)\n",
    "tf.random.set_seed(SEED)  "
   ]
  },
  {
   "cell_type": "markdown",
   "metadata": {
    "id": "Mh6CUYbhlKf1"
   },
   "source": [
    "# 2. 데이터셋 준비"
   ]
  },
  {
   "cell_type": "code",
   "execution_count": 2,
   "metadata": {
    "colab": {
     "base_uri": "https://localhost:8080/",
     "height": 34
    },
    "executionInfo": {
     "elapsed": 2304,
     "status": "ok",
     "timestamp": 1603632679855,
     "user": {
      "displayName": "오승환",
      "photoUrl": "https://lh3.googleusercontent.com/a-/AOh14GgBRB1w8bMEGhEpsp7aa7I9MQGz2D37o6hJeKeW=s64",
      "userId": "00933700884551564729"
     },
     "user_tz": -540
    },
    "id": "fFboBDPEDwTE",
    "outputId": "f8aabe8f-2eb1-4c08-f6a1-278c1c875966"
   },
   "outputs": [
    {
     "name": "stdout",
     "output_type": "stream",
     "text": [
      "(60000, 28, 28, 1) (60000,) (10000, 28, 28, 1) (10000,)\n"
     ]
    }
   ],
   "source": [
    "# 케라스에서 불러오기\n",
    "from tensorflow.keras import datasets\n",
    "fashion_mnist = datasets.fashion_mnist\n",
    "(X_train, y_train), (X_test, y_test) = fashion_mnist.load_data()\n",
    "\n",
    "# 피처 스케일링\n",
    "X_train = X_train / 255.\n",
    "X_test = X_test / 255.\n",
    "\n",
    "# 차원 추가\n",
    "X_train = np.expand_dims(X_train, axis=-1)\n",
    "X_test = np.expand_dims(X_test, axis=-1)\n",
    "\n",
    "print(X_train.shape, y_train.shape, X_test.shape, y_test.shape)"
   ]
  },
  {
   "cell_type": "markdown",
   "metadata": {
    "id": "QzHOFxOTbv_H"
   },
   "source": [
    "# 3. 오토 인코더"
   ]
  },
  {
   "cell_type": "code",
   "execution_count": 8,
   "metadata": {
    "colab": {
     "base_uri": "https://localhost:8080/",
     "height": 367
    },
    "executionInfo": {
     "elapsed": 32242,
     "status": "ok",
     "timestamp": 1603632797562,
     "user": {
      "displayName": "오승환",
      "photoUrl": "https://lh3.googleusercontent.com/a-/AOh14GgBRB1w8bMEGhEpsp7aa7I9MQGz2D37o6hJeKeW=s64",
      "userId": "00933700884551564729"
     },
     "user_tz": -540
    },
    "id": "QshLbLCKeSD6",
    "outputId": "da795b17-992b-40f3-acb2-c28aa27d7882"
   },
   "outputs": [
    {
     "name": "stdout",
     "output_type": "stream",
     "text": [
      "Model: \"sequential_1\"\n",
      "_________________________________________________________________\n",
      "Layer (type)                 Output Shape              Param #   \n",
      "=================================================================\n",
      "conv2d_1 (Conv2D)            (None, 26, 26, 16)        160       \n",
      "_________________________________________________________________\n",
      "max_pooling2d_1 (MaxPooling2 (None, 13, 13, 16)        0         \n",
      "_________________________________________________________________\n",
      "flatten_1 (Flatten)          (None, 2704)              0         \n",
      "_________________________________________________________________\n",
      "dense_2 (Dense)              (None, 64)                173120    \n",
      "_________________________________________________________________\n",
      "dense_3 (Dense)              (None, 784)               50960     \n",
      "_________________________________________________________________\n",
      "reshape_1 (Reshape)          (None, 28, 28)            0         \n",
      "=================================================================\n",
      "Total params: 224,240\n",
      "Trainable params: 224,240\n",
      "Non-trainable params: 0\n",
      "_________________________________________________________________\n"
     ]
    }
   ],
   "source": [
    "# 오토 인코더 모델 정의 \n",
    "def Autoencoder():\n",
    "\n",
    "    model = Sequential()\n",
    "\n",
    "    # Encoder 부분\n",
    "    model.add(Conv2D(filters=16, kernel_size=(3, 3), \n",
    "                     activation='relu', input_shape=[28, 28, 1]))\n",
    "    model.add(MaxPooling2D(pool_size=(2, 2)))\n",
    "    model.add(Flatten())\n",
    "    model.add(Dense(64, activation='relu')) \n",
    "\n",
    "    # Decoder 부분\n",
    "    model.add(Dense(units=28*28, activation='sigmoid'))   \n",
    "    model.add(Reshape((28, 28)))     \n",
    "\n",
    "    # Compile \n",
    "    model.compile(optimizer='adam', \n",
    "                  loss='mean_squared_error')\n",
    "\n",
    "    return model  \n",
    "\n",
    "ae_model = Autoencoder()\n",
    "ae_model.summary()"
   ]
  },
  {
   "cell_type": "markdown",
   "metadata": {
    "id": "K7Qb7HRSvdX8"
   },
   "source": [
    "# 4. 이미지 복원"
   ]
  },
  {
   "cell_type": "code",
   "execution_count": 7,
   "metadata": {
    "colab": {
     "base_uri": "https://localhost:8080/",
     "height": 34
    },
    "executionInfo": {
     "elapsed": 38194,
     "status": "ok",
     "timestamp": 1603632797559,
     "user": {
      "displayName": "오승환",
      "photoUrl": "https://lh3.googleusercontent.com/a-/AOh14GgBRB1w8bMEGhEpsp7aa7I9MQGz2D37o6hJeKeW=s64",
      "userId": "00933700884551564729"
     },
     "user_tz": -540
    },
    "id": "AtQpnIxyv0q7",
    "outputId": "632cbf04-bbea-4ab9-daa5-07bc706b909e"
   },
   "outputs": [
    {
     "data": {
      "text/plain": [
       "(10000, 28, 28)"
      ]
     },
     "execution_count": 7,
     "metadata": {
      "tags": []
     },
     "output_type": "execute_result"
    }
   ],
   "source": [
    "history = ae_model.fit(X_train, X_train, batch_size=64, epochs=20,\n",
    "                        validation_data=(X_test, X_test),\n",
    "                        verbose=0)\n",
    "\n",
    "ae_images = ae_model.predict(X_test)\n",
    "ae_images.shape"
   ]
  },
  {
   "cell_type": "code",
   "execution_count": 23,
   "metadata": {
    "colab": {
     "base_uri": "https://localhost:8080/",
     "height": 477
    },
    "executionInfo": {
     "elapsed": 1750,
     "status": "ok",
     "timestamp": 1603633228150,
     "user": {
      "displayName": "오승환",
      "photoUrl": "https://lh3.googleusercontent.com/a-/AOh14GgBRB1w8bMEGhEpsp7aa7I9MQGz2D37o6hJeKeW=s64",
      "userId": "00933700884551564729"
     },
     "user_tz": -540
    },
    "id": "VfDEgm1-vb6d",
    "outputId": "ce3de679-ad2e-4604-9990-947e49170603"
   },
   "outputs": [
    {
     "data": {
      "image/png": "[encoded data removed]",
      "text/plain": [
       "<Figure size 1440x576 with 10 Axes>"
      ]
     },
     "metadata": {
      "needs_background": "light",
      "tags": []
     },
     "output_type": "display_data"
    }
   ],
   "source": [
    "num = 5\n",
    "plt.figure(figsize=(20, 8))\n",
    "\n",
    "for i in range(num):\n",
    "\n",
    "    # 원본 이미지\n",
    "    ax = plt.subplot(2, num, i + 1)\n",
    "    plt.imshow(X_test[i].reshape((28, 28)), cmap='gray')\n",
    "    plt.title(\"Original %s\" % str(i))\n",
    "    plt.axis('off')\n",
    "\n",
    "    # 복원 이미지\n",
    "    ax = plt.subplot(2, num, i + num + 1)\n",
    "    plt.imshow(ae_images[i], cmap='gray')\n",
    "    plt.title(\"Auto-encoded %s\" % str(i))\n",
    "    plt.axis('off')\n",
    "\n",
    "plt.show()"
   ]
  },
  {
   "cell_type": "code",
   "execution_count": null,
   "metadata": {
    "id": "qcinLUEC9k4O"
   },
   "outputs": [],
   "source": []
  }
 ],
 "metadata": {
  "accelerator": "GPU",
  "colab": {
   "authorship_tag": "ABX9TyP8SezZYVUK99sG61bj8dfD",
   "collapsed_sections": [],
   "name": "6.2_autoencoder.ipynb",
   "provenance": [
    {
     "file_id": "1K4BjydItwlEJ0e1-gDi4eOsNoHVJ4GSM",
     "timestamp": 1595286872050
    }
   ],
   "toc_visible": true
  },
  "kernelspec": {
   "display_name": "Python 3 (ipykernel)",
   "language": "python",
   "name": "python3"
  },
  "language_info": {
   "codemirror_mode": {
    "name": "ipython",
    "version": 3
   },
   "file_extension": ".py",
   "mimetype": "text/x-python",
   "name": "python",
   "nbconvert_exporter": "python",
   "pygments_lexer": "ipython3",
   "version": "3.7.11"
  }
 },
 "nbformat": 4,
 "nbformat_minor": 1
}
