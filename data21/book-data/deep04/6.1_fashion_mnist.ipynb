{
 "cells": [
  {
   "cell_type": "markdown",
   "metadata": {
    "id": "z5xn5yDdg4IN"
   },
   "source": [
    "# 1. 환경 설정"
   ]
  },
  {
   "cell_type": "code",
   "execution_count": 1,
   "metadata": {
    "colab": {
     "base_uri": "https://localhost:8080/"
    },
    "executionInfo": {
     "elapsed": 24147,
     "status": "ok",
     "timestamp": 1603939976489,
     "user": {
      "displayName": "오승환",
      "photoUrl": "https://lh3.googleusercontent.com/a-/AOh14GgBRB1w8bMEGhEpsp7aa7I9MQGz2D37o6hJeKeW=s64",
      "userId": "00933700884551564729"
     },
     "user_tz": -540
    },
    "id": "9mGljBZMg2V8",
    "outputId": "597bab8c-c40c-48ed-8b6f-bf5f85438010"
   },
   "outputs": [],
   "source": [
    "# 라이브러리 설정\n",
    "import pandas as pd\n",
    "import numpy as np\n",
    "import tensorflow as tf\n",
    "import random\n",
    "\n",
    "# 랜덤 시드 고정\n",
    "SEED=12\n",
    "random.seed(SEED)\n",
    "np.random.seed(SEED)\n",
    "tf.random.set_seed(SEED)  \n",
    "\n",
    "# 구글 드라이브 폴더 마운트\n",
    "# from google.colab import drive, files\n",
    "# drive.mount('/gdrive')"
   ]
  },
  {
   "cell_type": "markdown",
   "metadata": {
    "id": "Mh6CUYbhlKf1"
   },
   "source": [
    "# 2. 데이터셋 준비"
   ]
  },
  {
   "cell_type": "code",
   "execution_count": 2,
   "metadata": {
    "colab": {
     "base_uri": "https://localhost:8080/"
    },
    "executionInfo": {
     "elapsed": 9102,
     "status": "ok",
     "timestamp": 1603940007247,
     "user": {
      "displayName": "오승환",
      "photoUrl": "https://lh3.googleusercontent.com/a-/AOh14GgBRB1w8bMEGhEpsp7aa7I9MQGz2D37o6hJeKeW=s64",
      "userId": "00933700884551564729"
     },
     "user_tz": -540
    },
    "id": "fFboBDPEDwTE",
    "outputId": "1cfaa4a9-6a59-4b18-84ed-85a4180e5ee5"
   },
   "outputs": [
    {
     "name": "stdout",
     "output_type": "stream",
     "text": [
      "(60000, 786) (10000, 785)\n"
     ]
    }
   ],
   "source": [
    "# 데이콘 사이트에서 다운로드한 CSV파일을 읽어오기\n",
    "# drive_path = \"/gdrive/My Drive/\"\n",
    "train = pd.read_csv(\"fashionmnist/train.csv\")\n",
    "test = pd.read_csv(\"fashionmnist/test.csv\")\n",
    "\n",
    "print(train.shape, test.shape)   "
   ]
  },
  {
   "cell_type": "code",
   "execution_count": 3,
   "metadata": {
    "colab": {
     "base_uri": "https://localhost:8080/",
     "height": 244
    },
    "executionInfo": {
     "elapsed": 8650,
     "status": "ok",
     "timestamp": 1603940007248,
     "user": {
      "displayName": "오승환",
      "photoUrl": "https://lh3.googleusercontent.com/a-/AOh14GgBRB1w8bMEGhEpsp7aa7I9MQGz2D37o6hJeKeW=s64",
      "userId": "00933700884551564729"
     },
     "user_tz": -540
    },
    "id": "Ntt_NcCVHFgp",
    "outputId": "7a6d51c3-2064-40a3-9082-a17b9afa4514"
   },
   "outputs": [
    {
     "data": {
      "text/html": [
       "<div>\n",
       "<style scoped>\n",
       "    .dataframe tbody tr th:only-of-type {\n",
       "        vertical-align: middle;\n",
       "    }\n",
       "\n",
       "    .dataframe tbody tr th {\n",
       "        vertical-align: top;\n",
       "    }\n",
       "\n",
       "    .dataframe thead th {\n",
       "        text-align: right;\n",
       "    }\n",
       "</style>\n",
       "<table border=\"1\" class=\"dataframe\">\n",
       "  <thead>\n",
       "    <tr style=\"text-align: right;\">\n",
       "      <th></th>\n",
       "      <th>index</th>\n",
       "      <th>label</th>\n",
       "      <th>pixel1</th>\n",
       "      <th>pixel2</th>\n",
       "      <th>pixel3</th>\n",
       "      <th>pixel4</th>\n",
       "      <th>pixel5</th>\n",
       "      <th>pixel6</th>\n",
       "      <th>pixel7</th>\n",
       "      <th>pixel8</th>\n",
       "      <th>...</th>\n",
       "      <th>pixel775</th>\n",
       "      <th>pixel776</th>\n",
       "      <th>pixel777</th>\n",
       "      <th>pixel778</th>\n",
       "      <th>pixel779</th>\n",
       "      <th>pixel780</th>\n",
       "      <th>pixel781</th>\n",
       "      <th>pixel782</th>\n",
       "      <th>pixel783</th>\n",
       "      <th>pixel784</th>\n",
       "    </tr>\n",
       "  </thead>\n",
       "  <tbody>\n",
       "    <tr>\n",
       "      <th>0</th>\n",
       "      <td>0</td>\n",
       "      <td>2</td>\n",
       "      <td>0</td>\n",
       "      <td>0</td>\n",
       "      <td>0</td>\n",
       "      <td>0</td>\n",
       "      <td>0</td>\n",
       "      <td>0</td>\n",
       "      <td>0</td>\n",
       "      <td>0</td>\n",
       "      <td>...</td>\n",
       "      <td>0</td>\n",
       "      <td>0</td>\n",
       "      <td>0</td>\n",
       "      <td>0</td>\n",
       "      <td>0</td>\n",
       "      <td>0</td>\n",
       "      <td>0</td>\n",
       "      <td>0</td>\n",
       "      <td>0</td>\n",
       "      <td>0</td>\n",
       "    </tr>\n",
       "    <tr>\n",
       "      <th>1</th>\n",
       "      <td>1</td>\n",
       "      <td>9</td>\n",
       "      <td>0</td>\n",
       "      <td>0</td>\n",
       "      <td>0</td>\n",
       "      <td>0</td>\n",
       "      <td>0</td>\n",
       "      <td>0</td>\n",
       "      <td>0</td>\n",
       "      <td>0</td>\n",
       "      <td>...</td>\n",
       "      <td>0</td>\n",
       "      <td>0</td>\n",
       "      <td>0</td>\n",
       "      <td>0</td>\n",
       "      <td>0</td>\n",
       "      <td>0</td>\n",
       "      <td>0</td>\n",
       "      <td>0</td>\n",
       "      <td>0</td>\n",
       "      <td>0</td>\n",
       "    </tr>\n",
       "    <tr>\n",
       "      <th>2</th>\n",
       "      <td>2</td>\n",
       "      <td>6</td>\n",
       "      <td>0</td>\n",
       "      <td>0</td>\n",
       "      <td>0</td>\n",
       "      <td>0</td>\n",
       "      <td>0</td>\n",
       "      <td>0</td>\n",
       "      <td>0</td>\n",
       "      <td>5</td>\n",
       "      <td>...</td>\n",
       "      <td>0</td>\n",
       "      <td>0</td>\n",
       "      <td>0</td>\n",
       "      <td>30</td>\n",
       "      <td>43</td>\n",
       "      <td>0</td>\n",
       "      <td>0</td>\n",
       "      <td>0</td>\n",
       "      <td>0</td>\n",
       "      <td>0</td>\n",
       "    </tr>\n",
       "    <tr>\n",
       "      <th>3</th>\n",
       "      <td>3</td>\n",
       "      <td>0</td>\n",
       "      <td>0</td>\n",
       "      <td>0</td>\n",
       "      <td>0</td>\n",
       "      <td>1</td>\n",
       "      <td>2</td>\n",
       "      <td>0</td>\n",
       "      <td>0</td>\n",
       "      <td>0</td>\n",
       "      <td>...</td>\n",
       "      <td>3</td>\n",
       "      <td>0</td>\n",
       "      <td>0</td>\n",
       "      <td>0</td>\n",
       "      <td>0</td>\n",
       "      <td>1</td>\n",
       "      <td>0</td>\n",
       "      <td>0</td>\n",
       "      <td>0</td>\n",
       "      <td>0</td>\n",
       "    </tr>\n",
       "    <tr>\n",
       "      <th>4</th>\n",
       "      <td>4</td>\n",
       "      <td>3</td>\n",
       "      <td>0</td>\n",
       "      <td>0</td>\n",
       "      <td>0</td>\n",
       "      <td>0</td>\n",
       "      <td>0</td>\n",
       "      <td>0</td>\n",
       "      <td>0</td>\n",
       "      <td>0</td>\n",
       "      <td>...</td>\n",
       "      <td>0</td>\n",
       "      <td>0</td>\n",
       "      <td>0</td>\n",
       "      <td>0</td>\n",
       "      <td>0</td>\n",
       "      <td>0</td>\n",
       "      <td>0</td>\n",
       "      <td>0</td>\n",
       "      <td>0</td>\n",
       "      <td>0</td>\n",
       "    </tr>\n",
       "  </tbody>\n",
       "</table>\n",
       "<p>5 rows × 786 columns</p>\n",
       "</div>"
      ],
      "text/plain": [
       "   index  label  pixel1  pixel2  pixel3  pixel4  pixel5  pixel6  pixel7  \\\n",
       "0      0      2       0       0       0       0       0       0       0   \n",
       "1      1      9       0       0       0       0       0       0       0   \n",
       "2      2      6       0       0       0       0       0       0       0   \n",
       "3      3      0       0       0       0       1       2       0       0   \n",
       "4      4      3       0       0       0       0       0       0       0   \n",
       "\n",
       "   pixel8  ...  pixel775  pixel776  pixel777  pixel778  pixel779  pixel780  \\\n",
       "0       0  ...         0         0         0         0         0         0   \n",
       "1       0  ...         0         0         0         0         0         0   \n",
       "2       5  ...         0         0         0        30        43         0   \n",
       "3       0  ...         3         0         0         0         0         1   \n",
       "4       0  ...         0         0         0         0         0         0   \n",
       "\n",
       "   pixel781  pixel782  pixel783  pixel784  \n",
       "0         0         0         0         0  \n",
       "1         0         0         0         0  \n",
       "2         0         0         0         0  \n",
       "3         0         0         0         0  \n",
       "4         0         0         0         0  \n",
       "\n",
       "[5 rows x 786 columns]"
      ]
     },
     "execution_count": 3,
     "metadata": {},
     "output_type": "execute_result"
    }
   ],
   "source": [
    "# train 데이터 보기\n",
    "train.head()"
   ]
  },
  {
   "cell_type": "code",
   "execution_count": 4,
   "metadata": {
    "colab": {
     "base_uri": "https://localhost:8080/"
    },
    "executionInfo": {
     "elapsed": 5995,
     "status": "ok",
     "timestamp": 1603940007249,
     "user": {
      "displayName": "오승환",
      "photoUrl": "https://lh3.googleusercontent.com/a-/AOh14GgBRB1w8bMEGhEpsp7aa7I9MQGz2D37o6hJeKeW=s64",
      "userId": "00933700884551564729"
     },
     "user_tz": -540
    },
    "id": "dqRI05fLHZ40",
    "outputId": "9ec1d330-b0bd-4dcc-e41c-2c6b0292c28c"
   },
   "outputs": [
    {
     "data": {
      "text/plain": [
       "(60000, 28, 28)"
      ]
     },
     "execution_count": 4,
     "metadata": {},
     "output_type": "execute_result"
    }
   ],
   "source": [
    "# train 데이터를 28*28 이미지로 변환\n",
    "train_images = train.loc[:, 'pixel1':].values.reshape(-1, 28, 28)\n",
    "train_images.shape"
   ]
  },
  {
   "cell_type": "code",
   "execution_count": 5,
   "metadata": {
    "colab": {
     "base_uri": "https://localhost:8080/",
     "height": 265
    },
    "executionInfo": {
     "elapsed": 974,
     "status": "ok",
     "timestamp": 1603940107547,
     "user": {
      "displayName": "오승환",
      "photoUrl": "https://lh3.googleusercontent.com/a-/AOh14GgBRB1w8bMEGhEpsp7aa7I9MQGz2D37o6hJeKeW=s64",
      "userId": "00933700884551564729"
     },
     "user_tz": -540
    },
    "id": "BOWBUofPFMZA",
    "outputId": "8b287416-57c2-45c2-bdda-a3e5afa587b2"
   },
   "outputs": [
    {
     "data": {
      "image/png": "[encoded data removed]",
      "text/plain": [
       "<Figure size 432x288 with 1 Axes>"
      ]
     },
     "metadata": {
      "needs_background": "light"
     },
     "output_type": "display_data"
    }
   ],
   "source": [
    "# 첫번째 이미지 출력\n",
    "import matplotlib.pyplot as plt\n",
    "plt.imshow(train_images[0]);"
   ]
  },
  {
   "cell_type": "code",
   "execution_count": 6,
   "metadata": {
    "colab": {
     "base_uri": "https://localhost:8080/"
    },
    "executionInfo": {
     "elapsed": 8309,
     "status": "ok",
     "timestamp": 1603936615024,
     "user": {
      "displayName": "오승환",
      "photoUrl": "https://lh3.googleusercontent.com/a-/AOh14GgBRB1w8bMEGhEpsp7aa7I9MQGz2D37o6hJeKeW=s64",
      "userId": "00933700884551564729"
     },
     "user_tz": -540
    },
    "id": "Z4h0Q0adJSOW",
    "outputId": "664ff381-e14e-4999-f09b-e5b352cc6bac"
   },
   "outputs": [
    {
     "data": {
      "text/plain": [
       "array([2, 9, 6, 0, 3, 4, 5, 8, 7, 1])"
      ]
     },
     "execution_count": 6,
     "metadata": {},
     "output_type": "execute_result"
    }
   ],
   "source": [
    "# 목표 레이블 \n",
    "y_train = train.loc[:, 'label']\n",
    "y_train.unique()"
   ]
  },
  {
   "cell_type": "code",
   "execution_count": 7,
   "metadata": {
    "colab": {
     "base_uri": "https://localhost:8080/"
    },
    "executionInfo": {
     "elapsed": 7844,
     "status": "ok",
     "timestamp": 1603936615025,
     "user": {
      "displayName": "오승환",
      "photoUrl": "https://lh3.googleusercontent.com/a-/AOh14GgBRB1w8bMEGhEpsp7aa7I9MQGz2D37o6hJeKeW=s64",
      "userId": "00933700884551564729"
     },
     "user_tz": -540
    },
    "id": "Qi-v-PSZJyY8",
    "outputId": "4bdef28c-472d-4cbf-b2d7-c502fc2a92f7"
   },
   "outputs": [
    {
     "name": "stdout",
     "output_type": "stream",
     "text": [
      "2\n",
      "Pullover\n"
     ]
    }
   ],
   "source": [
    "# 숫자 레이블을 실제 레이블과 연결하여 확인\n",
    "target_values = {0 : 'T-shirt/top', \n",
    "                 1 : 'Trouser', \n",
    "                 2: 'Pullover', \n",
    "                 3: 'Dress', \n",
    "                 4: 'Coat', \n",
    "                 5: 'Sandal', \n",
    "                 6: 'Shirt', \n",
    "                 7: 'Sneaker', \n",
    "                 8: 'Bag', \n",
    "                 9: 'Ankle boot'}\n",
    "print(y_train[0])\n",
    "print(target_values[y_train[0]])"
   ]
  },
  {
   "cell_type": "code",
   "execution_count": 8,
   "metadata": {
    "colab": {
     "base_uri": "https://localhost:8080/"
    },
    "executionInfo": {
     "elapsed": 5750,
     "status": "ok",
     "timestamp": 1603936615026,
     "user": {
      "displayName": "오승환",
      "photoUrl": "https://lh3.googleusercontent.com/a-/AOh14GgBRB1w8bMEGhEpsp7aa7I9MQGz2D37o6hJeKeW=s64",
      "userId": "00933700884551564729"
     },
     "user_tz": -540
    },
    "id": "hox4B8bfKFfe",
    "outputId": "dc64c596-e530-4d87-986a-91cfa5fc613f"
   },
   "outputs": [
    {
     "data": {
      "text/plain": [
       "(10000, 28, 28)"
      ]
     },
     "execution_count": 8,
     "metadata": {},
     "output_type": "execute_result"
    }
   ],
   "source": [
    "# test 데이터를 28*28 이미지로 변환\n",
    "test_images = test.loc[:, 'pixel1':].values.reshape(-1, 28, 28)\n",
    "test_images.shape"
   ]
  },
  {
   "cell_type": "code",
   "execution_count": 9,
   "metadata": {
    "colab": {
     "base_uri": "https://localhost:8080/",
     "height": 265
    },
    "executionInfo": {
     "elapsed": 5257,
     "status": "ok",
     "timestamp": 1603936615026,
     "user": {
      "displayName": "오승환",
      "photoUrl": "https://lh3.googleusercontent.com/a-/AOh14GgBRB1w8bMEGhEpsp7aa7I9MQGz2D37o6hJeKeW=s64",
      "userId": "00933700884551564729"
     },
     "user_tz": -540
    },
    "id": "lVdm6w0CFMfr",
    "outputId": "af68903c-0eec-402c-c831-d2fedf6b5fd6"
   },
   "outputs": [
    {
     "data": {
      "image/png": "[encoded data removed]",
      "text/plain": [
       "<Figure size 432x288 with 1 Axes>"
      ]
     },
     "metadata": {
      "needs_background": "light"
     },
     "output_type": "display_data"
    }
   ],
   "source": [
    "# 500번째 test 이미지를 출력\n",
    "plt.imshow(test_images[499]);"
   ]
  },
  {
   "cell_type": "markdown",
   "metadata": {
    "id": "FGwnD0-kjn_-"
   },
   "source": [
    "# 2. 데이터 전처리 (Pre-processing)"
   ]
  },
  {
   "cell_type": "code",
   "execution_count": 10,
   "metadata": {
    "colab": {
     "base_uri": "https://localhost:8080/"
    },
    "executionInfo": {
     "elapsed": 2365,
     "status": "ok",
     "timestamp": 1603936615027,
     "user": {
      "displayName": "오승환",
      "photoUrl": "https://lh3.googleusercontent.com/a-/AOh14GgBRB1w8bMEGhEpsp7aa7I9MQGz2D37o6hJeKeW=s64",
      "userId": "00933700884551564729"
     },
     "user_tz": -540
    },
    "id": "ZWqn0jN_aPmh",
    "outputId": "55cf9de4-0b1c-43bb-b5f6-b2ab234937b4"
   },
   "outputs": [
    {
     "name": "stdout",
     "output_type": "stream",
     "text": [
      "최소값: 0.0\n",
      "최대값: 1.0\n"
     ]
    }
   ],
   "source": [
    "# 피처 스케일 맞추기 \n",
    "X_train = train_images / 255.\n",
    "X_test = test_images / 255.\n",
    "print(\"최소값:\", X_train[0].min())\n",
    "print(\"최대값:\", X_train[0].max())"
   ]
  },
  {
   "cell_type": "code",
   "execution_count": 11,
   "metadata": {
    "colab": {
     "base_uri": "https://localhost:8080/"
    },
    "executionInfo": {
     "elapsed": 2359,
     "status": "ok",
     "timestamp": 1603936615382,
     "user": {
      "displayName": "오승환",
      "photoUrl": "https://lh3.googleusercontent.com/a-/AOh14GgBRB1w8bMEGhEpsp7aa7I9MQGz2D37o6hJeKeW=s64",
      "userId": "00933700884551564729"
     },
     "user_tz": -540
    },
    "id": "l_cRklwzL1sG",
    "outputId": "328058ee-b959-42fc-c289-021b3c45b6f7"
   },
   "outputs": [
    {
     "name": "stdout",
     "output_type": "stream",
     "text": [
      "변환 전: (60000, 28, 28) (10000, 28, 28)\n",
      "변환 후: (60000, 28, 28, 1) (10000, 28, 28, 1)\n"
     ]
    }
   ],
   "source": [
    "# 채널 차원 추가\n",
    "print(\"변환 전:\", X_train.shape, X_test.shape)\n",
    "X_train = np.expand_dims(X_train, axis=-1)\n",
    "X_test = np.expand_dims(X_test, axis=-1)\n",
    "print(\"변환 후:\", X_train.shape, X_test.shape)"
   ]
  },
  {
   "cell_type": "code",
   "execution_count": 12,
   "metadata": {
    "colab": {
     "base_uri": "https://localhost:8080/"
    },
    "executionInfo": {
     "elapsed": 3432,
     "status": "ok",
     "timestamp": 1603936619476,
     "user": {
      "displayName": "오승환",
      "photoUrl": "https://lh3.googleusercontent.com/a-/AOh14GgBRB1w8bMEGhEpsp7aa7I9MQGz2D37o6hJeKeW=s64",
      "userId": "00933700884551564729"
     },
     "user_tz": -540
    },
    "id": "4vCfErAi1oki",
    "outputId": "a322b743-5037-49f6-b2ed-27d92542b99e"
   },
   "outputs": [
    {
     "name": "stdout",
     "output_type": "stream",
     "text": [
      "학습 데이터셋 크기:  (48000, 28, 28, 1) (48000,)\n",
      "검증 데이터셋 크기:  (12000, 28, 28, 1) (12000,)\n"
     ]
    }
   ],
   "source": [
    "# Train - Validation 데이터 구분\n",
    "from sklearn.model_selection import train_test_split\n",
    "X_tr, X_val, y_tr, y_val =  train_test_split(X_train, y_train, test_size=0.2, \n",
    "                                             stratify=y_train, \n",
    "                                             shuffle=True, random_state=SEED)\n",
    "print(\"학습 데이터셋 크기: \", X_tr.shape, y_tr.shape)\n",
    "print(\"검증 데이터셋 크기: \", X_val.shape, y_val.shape)"
   ]
  },
  {
   "cell_type": "markdown",
   "metadata": {
    "id": "hvs4iBdRmmos"
   },
   "source": [
    "# 3. 모델 구축"
   ]
  },
  {
   "cell_type": "markdown",
   "metadata": {
    "id": "3b6kdCByTYRh"
   },
   "source": [
    "### MLP 모델"
   ]
  },
  {
   "cell_type": "code",
   "execution_count": 13,
   "metadata": {
    "colab": {
     "base_uri": "https://localhost:8080/"
    },
    "executionInfo": {
     "elapsed": 7056,
     "status": "ok",
     "timestamp": 1603936640199,
     "user": {
      "displayName": "오승환",
      "photoUrl": "https://lh3.googleusercontent.com/a-/AOh14GgBRB1w8bMEGhEpsp7aa7I9MQGz2D37o6hJeKeW=s64",
      "userId": "00933700884551564729"
     },
     "user_tz": -540
    },
    "id": "3dxJ3fF5TbI3",
    "outputId": "768efeab-e396-432a-c83d-1396f33eacba"
   },
   "outputs": [
    {
     "name": "stdout",
     "output_type": "stream",
     "text": [
      "Model: \"sequential\"\n",
      "_________________________________________________________________\n",
      " Layer (type)                Output Shape              Param #   \n",
      "=================================================================\n",
      " flatten (Flatten)           (None, 784)               0         \n",
      "                                                                 \n",
      " dense (Dense)               (None, 64)                50240     \n",
      "                                                                 \n",
      " dense_1 (Dense)             (None, 10)                650       \n",
      "                                                                 \n",
      "=================================================================\n",
      "Total params: 50,890\n",
      "Trainable params: 50,890\n",
      "Non-trainable params: 0\n",
      "_________________________________________________________________\n"
     ]
    },
    {
     "name": "stderr",
     "output_type": "stream",
     "text": [
      "2022-05-24 17:46:58.346708: I tensorflow/core/platform/cpu_feature_guard.cc:151] This TensorFlow binary is optimized with oneAPI Deep Neural Network Library (oneDNN) to use the following CPU instructions in performance-critical operations:  AVX2 FMA\n",
      "To enable them in other operations, rebuild TensorFlow with the appropriate compiler flags.\n"
     ]
    }
   ],
   "source": [
    "from tensorflow.keras.models import Sequential\n",
    "from tensorflow.keras.layers import Flatten, Dense\n",
    "mlp_model = Sequential()\n",
    "mlp_model.add(Flatten(input_shape=[28, 28]))\n",
    "mlp_model.add(Dense(units=64, activation='relu'))\n",
    "mlp_model.add(Dense(units=10, activation='softmax'))\n",
    "\n",
    "mlp_model.compile(optimizer='adam', \n",
    "                  loss='sparse_categorical_crossentropy', \n",
    "                  metrics=['acc'])\n",
    "\n",
    "mlp_model.summary()"
   ]
  },
  {
   "cell_type": "code",
   "execution_count": 14,
   "metadata": {
    "colab": {
     "base_uri": "https://localhost:8080/"
    },
    "executionInfo": {
     "elapsed": 32803,
     "status": "ok",
     "timestamp": 1603936897281,
     "user": {
      "displayName": "오승환",
      "photoUrl": "https://lh3.googleusercontent.com/a-/AOh14GgBRB1w8bMEGhEpsp7aa7I9MQGz2D37o6hJeKeW=s64",
      "userId": "00933700884551564729"
     },
     "user_tz": -540
    },
    "id": "_qmL6B11TxE6",
    "outputId": "48a30a56-e437-4e14-ce82-6c398a2134be"
   },
   "outputs": [
    {
     "name": "stdout",
     "output_type": "stream",
     "text": [
      "Epoch 1/20\n",
      "750/750 - 1s - loss: 0.5740 - acc: 0.8021 - val_loss: 0.4500 - val_acc: 0.8425 - 1s/epoch - 1ms/step\n",
      "Epoch 2/20\n",
      "750/750 - 1s - loss: 0.4221 - acc: 0.8501 - val_loss: 0.4063 - val_acc: 0.8595 - 597ms/epoch - 796us/step\n",
      "Epoch 3/20\n",
      "750/750 - 1s - loss: 0.3869 - acc: 0.8628 - val_loss: 0.4007 - val_acc: 0.8598 - 622ms/epoch - 829us/step\n",
      "Epoch 4/20\n",
      "750/750 - 1s - loss: 0.3632 - acc: 0.8702 - val_loss: 0.3955 - val_acc: 0.8579 - 626ms/epoch - 835us/step\n",
      "Epoch 5/20\n",
      "750/750 - 1s - loss: 0.3462 - acc: 0.8753 - val_loss: 0.3768 - val_acc: 0.8692 - 617ms/epoch - 823us/step\n",
      "Epoch 6/20\n",
      "750/750 - 1s - loss: 0.3294 - acc: 0.8804 - val_loss: 0.3521 - val_acc: 0.8761 - 719ms/epoch - 959us/step\n",
      "Epoch 7/20\n",
      "750/750 - 1s - loss: 0.3171 - acc: 0.8843 - val_loss: 0.3478 - val_acc: 0.8797 - 586ms/epoch - 781us/step\n",
      "Epoch 8/20\n",
      "750/750 - 1s - loss: 0.3049 - acc: 0.8899 - val_loss: 0.3543 - val_acc: 0.8722 - 583ms/epoch - 777us/step\n",
      "Epoch 9/20\n",
      "750/750 - 1s - loss: 0.2955 - acc: 0.8923 - val_loss: 0.3428 - val_acc: 0.8792 - 578ms/epoch - 771us/step\n",
      "Epoch 10/20\n",
      "750/750 - 1s - loss: 0.2876 - acc: 0.8950 - val_loss: 0.3772 - val_acc: 0.8725 - 629ms/epoch - 838us/step\n",
      "Epoch 11/20\n",
      "750/750 - 1s - loss: 0.2781 - acc: 0.8986 - val_loss: 0.3451 - val_acc: 0.8788 - 664ms/epoch - 886us/step\n",
      "Epoch 12/20\n",
      "750/750 - 1s - loss: 0.2714 - acc: 0.8992 - val_loss: 0.3433 - val_acc: 0.8782 - 602ms/epoch - 803us/step\n",
      "Epoch 13/20\n",
      "750/750 - 1s - loss: 0.2641 - acc: 0.9029 - val_loss: 0.3380 - val_acc: 0.8816 - 651ms/epoch - 868us/step\n",
      "Epoch 14/20\n",
      "750/750 - 1s - loss: 0.2571 - acc: 0.9059 - val_loss: 0.3300 - val_acc: 0.8850 - 605ms/epoch - 807us/step\n",
      "Epoch 15/20\n",
      "750/750 - 1s - loss: 0.2520 - acc: 0.9076 - val_loss: 0.3272 - val_acc: 0.8874 - 677ms/epoch - 902us/step\n",
      "Epoch 16/20\n",
      "750/750 - 1s - loss: 0.2446 - acc: 0.9096 - val_loss: 0.3288 - val_acc: 0.8869 - 600ms/epoch - 799us/step\n",
      "Epoch 17/20\n",
      "750/750 - 1s - loss: 0.2406 - acc: 0.9128 - val_loss: 0.3253 - val_acc: 0.8874 - 623ms/epoch - 831us/step\n",
      "Epoch 18/20\n",
      "750/750 - 1s - loss: 0.2360 - acc: 0.9145 - val_loss: 0.3384 - val_acc: 0.8842 - 614ms/epoch - 819us/step\n",
      "Epoch 19/20\n",
      "750/750 - 1s - loss: 0.2315 - acc: 0.9148 - val_loss: 0.3365 - val_acc: 0.8862 - 620ms/epoch - 827us/step\n",
      "Epoch 20/20\n",
      "750/750 - 1s - loss: 0.2252 - acc: 0.9168 - val_loss: 0.3558 - val_acc: 0.8797 - 608ms/epoch - 810us/step\n"
     ]
    }
   ],
   "source": [
    "mlp_history = mlp_model.fit(X_tr, y_tr, batch_size=64, epochs=20,\n",
    "                        validation_data=(X_val, y_val),\n",
    "                        verbose=2)"
   ]
  },
  {
   "cell_type": "code",
   "execution_count": 15,
   "metadata": {
    "colab": {
     "base_uri": "https://localhost:8080/",
     "height": 334
    },
    "executionInfo": {
     "elapsed": 1018,
     "status": "ok",
     "timestamp": 1603936898315,
     "user": {
      "displayName": "오승환",
      "photoUrl": "https://lh3.googleusercontent.com/a-/AOh14GgBRB1w8bMEGhEpsp7aa7I9MQGz2D37o6hJeKeW=s64",
      "userId": "00933700884551564729"
     },
     "user_tz": -540
    },
    "id": "vPN7g4H5VVLn",
    "outputId": "33f25f63-e266-47ef-af1a-ba14e871057d"
   },
   "outputs": [
    {
     "data": {
      "image/png": "[encoded data removed]",
      "text/plain": [
       "<Figure size 360x360 with 1 Axes>"
      ]
     },
     "metadata": {
      "needs_background": "light"
     },
     "output_type": "display_data"
    }
   ],
   "source": [
    "# 손실 함수 그래프\n",
    "def plot_loss_curve(history, total_epoch=10, start=1):\n",
    "    plt.figure(figsize=(5, 5))\n",
    "    plt.plot(range(start, total_epoch + 1), \n",
    "             history.history['loss'][start-1:total_epoch], \n",
    "             label='Train')\n",
    "    plt.plot(range(start, total_epoch + 1), \n",
    "             history.history['val_loss'][start-1:total_epoch], \n",
    "             label='Validation')\n",
    "    plt.xlabel('Epochs')\n",
    "    plt.ylabel('Loss')\n",
    "    plt.legend()\n",
    "    plt.show()\n",
    "\n",
    "plot_loss_curve(history=mlp_history, total_epoch=20, start=1)                   "
   ]
  },
  {
   "cell_type": "markdown",
   "metadata": {
    "id": "UcfQKW-m7CtZ"
   },
   "source": [
    "### CNN 활용"
   ]
  },
  {
   "cell_type": "code",
   "execution_count": 16,
   "metadata": {
    "colab": {
     "base_uri": "https://localhost:8080/"
    },
    "executionInfo": {
     "elapsed": 1570,
     "status": "ok",
     "timestamp": 1603936907303,
     "user": {
      "displayName": "오승환",
      "photoUrl": "https://lh3.googleusercontent.com/a-/AOh14GgBRB1w8bMEGhEpsp7aa7I9MQGz2D37o6hJeKeW=s64",
      "userId": "00933700884551564729"
     },
     "user_tz": -540
    },
    "id": "64s7-Qw4FOK7",
    "outputId": "1cc630cb-514a-43c4-ddf3-322ffa708357"
   },
   "outputs": [
    {
     "name": "stdout",
     "output_type": "stream",
     "text": [
      "Model: \"sequential_1\"\n",
      "_________________________________________________________________\n",
      " Layer (type)                Output Shape              Param #   \n",
      "=================================================================\n",
      " conv2d (Conv2D)             (None, 26, 26, 16)        160       \n",
      "                                                                 \n",
      " max_pooling2d (MaxPooling2D  (None, 13, 13, 16)       0         \n",
      " )                                                               \n",
      "                                                                 \n",
      " flatten_1 (Flatten)         (None, 2704)              0         \n",
      "                                                                 \n",
      " dense_2 (Dense)             (None, 64)                173120    \n",
      "                                                                 \n",
      " dense_3 (Dense)             (None, 10)                650       \n",
      "                                                                 \n",
      "=================================================================\n",
      "Total params: 173,930\n",
      "Trainable params: 173,930\n",
      "Non-trainable params: 0\n",
      "_________________________________________________________________\n"
     ]
    }
   ],
   "source": [
    "from tensorflow.keras.layers import Conv2D, MaxPooling2D\n",
    "cnn_model = Sequential()\n",
    "cnn_model.add(Conv2D(filters=16, kernel_size=(3, 3), \n",
    "                    activation='relu', input_shape=[28, 28, 1]))\n",
    "cnn_model.add(MaxPooling2D(pool_size=(2, 2)))\n",
    "cnn_model.add(Flatten())\n",
    "cnn_model.add(Dense(units=64, activation='relu'))\n",
    "cnn_model.add(Dense(units=10, activation='softmax'))\n",
    "\n",
    "cnn_model.compile(optimizer='adam', \n",
    "                  loss='sparse_categorical_crossentropy', \n",
    "                  metrics=['acc'])\n",
    "\n",
    "cnn_model.summary()"
   ]
  },
  {
   "cell_type": "code",
   "execution_count": 17,
   "metadata": {
    "colab": {
     "base_uri": "https://localhost:8080/"
    },
    "executionInfo": {
     "elapsed": 41392,
     "status": "ok",
     "timestamp": 1603936954275,
     "user": {
      "displayName": "오승환",
      "photoUrl": "https://lh3.googleusercontent.com/a-/AOh14GgBRB1w8bMEGhEpsp7aa7I9MQGz2D37o6hJeKeW=s64",
      "userId": "00933700884551564729"
     },
     "user_tz": -540
    },
    "id": "8i1IRbYJFOfv",
    "outputId": "6d4c39af-c2b6-4394-c95b-250c3f97fcc6"
   },
   "outputs": [
    {
     "name": "stdout",
     "output_type": "stream",
     "text": [
      "Epoch 1/20\n",
      "750/750 - 4s - loss: 0.4935 - acc: 0.8271 - val_loss: 0.3740 - val_acc: 0.8667 - 4s/epoch - 5ms/step\n",
      "Epoch 2/20\n",
      "750/750 - 3s - loss: 0.3339 - acc: 0.8811 - val_loss: 0.3101 - val_acc: 0.8921 - 3s/epoch - 5ms/step\n",
      "Epoch 3/20\n",
      "750/750 - 3s - loss: 0.2903 - acc: 0.8967 - val_loss: 0.3025 - val_acc: 0.8927 - 3s/epoch - 5ms/step\n",
      "Epoch 4/20\n",
      "750/750 - 4s - loss: 0.2616 - acc: 0.9061 - val_loss: 0.2879 - val_acc: 0.8957 - 4s/epoch - 5ms/step\n",
      "Epoch 5/20\n",
      "750/750 - 4s - loss: 0.2390 - acc: 0.9144 - val_loss: 0.2889 - val_acc: 0.9007 - 4s/epoch - 5ms/step\n",
      "Epoch 6/20\n",
      "750/750 - 4s - loss: 0.2219 - acc: 0.9204 - val_loss: 0.2728 - val_acc: 0.9022 - 4s/epoch - 5ms/step\n",
      "Epoch 7/20\n",
      "750/750 - 4s - loss: 0.2023 - acc: 0.9268 - val_loss: 0.2676 - val_acc: 0.9032 - 4s/epoch - 5ms/step\n",
      "Epoch 8/20\n",
      "750/750 - 4s - loss: 0.1866 - acc: 0.9326 - val_loss: 0.2596 - val_acc: 0.9058 - 4s/epoch - 5ms/step\n",
      "Epoch 9/20\n",
      "750/750 - 4s - loss: 0.1737 - acc: 0.9377 - val_loss: 0.2556 - val_acc: 0.9109 - 4s/epoch - 5ms/step\n",
      "Epoch 10/20\n",
      "750/750 - 3s - loss: 0.1627 - acc: 0.9413 - val_loss: 0.2645 - val_acc: 0.9073 - 3s/epoch - 4ms/step\n",
      "Epoch 11/20\n",
      "750/750 - 3s - loss: 0.1508 - acc: 0.9457 - val_loss: 0.2643 - val_acc: 0.9117 - 3s/epoch - 5ms/step\n",
      "Epoch 12/20\n",
      "750/750 - 3s - loss: 0.1423 - acc: 0.9491 - val_loss: 0.2952 - val_acc: 0.9007 - 3s/epoch - 4ms/step\n",
      "Epoch 13/20\n",
      "750/750 - 3s - loss: 0.1276 - acc: 0.9550 - val_loss: 0.2673 - val_acc: 0.9114 - 3s/epoch - 4ms/step\n",
      "Epoch 14/20\n",
      "750/750 - 3s - loss: 0.1187 - acc: 0.9580 - val_loss: 0.2658 - val_acc: 0.9115 - 3s/epoch - 4ms/step\n",
      "Epoch 15/20\n",
      "750/750 - 3s - loss: 0.1100 - acc: 0.9610 - val_loss: 0.2713 - val_acc: 0.9118 - 3s/epoch - 4ms/step\n",
      "Epoch 16/20\n",
      "750/750 - 3s - loss: 0.1009 - acc: 0.9643 - val_loss: 0.2805 - val_acc: 0.9122 - 3s/epoch - 4ms/step\n",
      "Epoch 17/20\n",
      "750/750 - 3s - loss: 0.0933 - acc: 0.9674 - val_loss: 0.2954 - val_acc: 0.9109 - 3s/epoch - 4ms/step\n",
      "Epoch 18/20\n",
      "750/750 - 3s - loss: 0.0854 - acc: 0.9705 - val_loss: 0.2901 - val_acc: 0.9158 - 3s/epoch - 4ms/step\n",
      "Epoch 19/20\n",
      "750/750 - 3s - loss: 0.0803 - acc: 0.9717 - val_loss: 0.3226 - val_acc: 0.9103 - 3s/epoch - 4ms/step\n",
      "Epoch 20/20\n",
      "750/750 - 3s - loss: 0.0723 - acc: 0.9758 - val_loss: 0.3096 - val_acc: 0.9134 - 3s/epoch - 4ms/step\n"
     ]
    }
   ],
   "source": [
    "cnn_history = cnn_model.fit(X_tr, y_tr, batch_size=64, epochs=20,\n",
    "                        validation_data=(X_val, y_val),\n",
    "                        verbose=2) "
   ]
  },
  {
   "cell_type": "code",
   "execution_count": 18,
   "metadata": {
    "colab": {
     "base_uri": "https://localhost:8080/",
     "height": 334
    },
    "executionInfo": {
     "elapsed": 989,
     "status": "ok",
     "timestamp": 1603937092109,
     "user": {
      "displayName": "오승환",
      "photoUrl": "https://lh3.googleusercontent.com/a-/AOh14GgBRB1w8bMEGhEpsp7aa7I9MQGz2D37o6hJeKeW=s64",
      "userId": "00933700884551564729"
     },
     "user_tz": -540
    },
    "id": "ZhM6YIu9VMf2",
    "outputId": "fbef1415-1f47-4560-b541-6163fab5a704"
   },
   "outputs": [
    {
     "data": {
      "image/png": "[encoded data removed]",
      "text/plain": [
       "<Figure size 360x360 with 1 Axes>"
      ]
     },
     "metadata": {
      "needs_background": "light"
     },
     "output_type": "display_data"
    }
   ],
   "source": [
    "plot_loss_curve(history=cnn_history, total_epoch=20, start=1)    "
   ]
  },
  {
   "cell_type": "code",
   "execution_count": 19,
   "metadata": {
    "colab": {
     "base_uri": "https://localhost:8080/"
    },
    "executionInfo": {
     "elapsed": 1278,
     "status": "ok",
     "timestamp": 1603937101031,
     "user": {
      "displayName": "오승환",
      "photoUrl": "https://lh3.googleusercontent.com/a-/AOh14GgBRB1w8bMEGhEpsp7aa7I9MQGz2D37o6hJeKeW=s64",
      "userId": "00933700884551564729"
     },
     "user_tz": -540
    },
    "id": "aI2NLCXf97bf",
    "outputId": "ce25870c-89bd-469b-a637-0f691106d639"
   },
   "outputs": [
    {
     "name": "stdout",
     "output_type": "stream",
     "text": [
      "Model: \"sequential_2\"\n",
      "_________________________________________________________________\n",
      " Layer (type)                Output Shape              Param #   \n",
      "=================================================================\n",
      " conv2d_1 (Conv2D)           (None, 26, 26, 16)        160       \n",
      "                                                                 \n",
      " max_pooling2d_1 (MaxPooling  (None, 13, 13, 16)       0         \n",
      " 2D)                                                             \n",
      "                                                                 \n",
      " flatten_2 (Flatten)         (None, 2704)              0         \n",
      "                                                                 \n",
      " dense_4 (Dense)             (None, 64)                173120    \n",
      "                                                                 \n",
      " dropout (Dropout)           (None, 64)                0         \n",
      "                                                                 \n",
      " dense_5 (Dense)             (None, 10)                650       \n",
      "                                                                 \n",
      "=================================================================\n",
      "Total params: 173,930\n",
      "Trainable params: 173,930\n",
      "Non-trainable params: 0\n",
      "_________________________________________________________________\n"
     ]
    }
   ],
   "source": [
    "from tensorflow.keras.layers import Dropout\n",
    "def build_cnn():\n",
    "    model = Sequential()\n",
    "    model.add(Conv2D(filters=16, kernel_size=(3, 3), \n",
    "                     activation='relu', input_shape=[28, 28, 1]))\n",
    "    model.add(MaxPooling2D(pool_size=(2, 2)))\n",
    "    model.add(Flatten())\n",
    "    model.add(Dense(units=64, activation='relu'))\n",
    "    model.add(Dropout(rate=0.5))\n",
    "    model.add(Dense(units=10, activation='softmax'))\n",
    "\n",
    "    model.compile(optimizer='adam', \n",
    "                loss='sparse_categorical_crossentropy', \n",
    "                metrics=['acc'])\n",
    "\n",
    "    return model\n",
    "\n",
    "cnn_model = build_cnn()\n",
    "cnn_model.summary()"
   ]
  },
  {
   "cell_type": "code",
   "execution_count": 20,
   "metadata": {
    "id": "jj_3lFwB97n-"
   },
   "outputs": [],
   "source": [
    "from tensorflow.keras.callbacks import EarlyStopping\n",
    "\n",
    "early_stopping = EarlyStopping(monitor='val_loss',  patience=10)\n",
    "\n",
    "cnn_history = cnn_model.fit(X_tr, y_tr, batch_size=64, epochs=100,\n",
    "                        validation_data=(X_val, y_val),\n",
    "                        callbacks=[early_stopping],\n",
    "                        verbose=0) "
   ]
  },
  {
   "cell_type": "code",
   "execution_count": 21,
   "metadata": {},
   "outputs": [
    {
     "data": {
      "image/png": "[encoded data removed]",
      "text/plain": [
       "<Figure size 432x288 with 1 Axes>"
      ]
     },
     "metadata": {
      "needs_background": "light"
     },
     "output_type": "display_data"
    }
   ],
   "source": [
    "plt.plot(cnn_history.history['loss'])\n",
    "plt.plot(cnn_history.history['val_loss'])\n",
    "plt.xlabel('epoch')\n",
    "plt.ylabel('loss')\n",
    "plt.legend(['train', 'val'])\n",
    "plt.show()"
   ]
  },
  {
   "cell_type": "code",
   "execution_count": 22,
   "metadata": {},
   "outputs": [
    {
     "data": {
      "image/png": "[encoded data removed]",
      "text/plain": [
       "<Figure size 432x288 with 1 Axes>"
      ]
     },
     "metadata": {
      "needs_background": "light"
     },
     "output_type": "display_data"
    }
   ],
   "source": [
    "plt.plot(cnn_history.history['acc'])\n",
    "plt.plot(cnn_history.history['val_acc'])\n",
    "plt.xlabel('epoch')\n",
    "plt.ylabel('acc')\n",
    "plt.legend(['train', 'val'])\n",
    "plt.show()"
   ]
  },
  {
   "cell_type": "code",
   "execution_count": 23,
   "metadata": {
    "colab": {
     "base_uri": "https://localhost:8080/"
    },
    "executionInfo": {
     "elapsed": 2264,
     "status": "ok",
     "timestamp": 1603937148955,
     "user": {
      "displayName": "오승환",
      "photoUrl": "https://lh3.googleusercontent.com/a-/AOh14GgBRB1w8bMEGhEpsp7aa7I9MQGz2D37o6hJeKeW=s64",
      "userId": "00933700884551564729"
     },
     "user_tz": -540
    },
    "id": "MIX4VJEJXoVD",
    "outputId": "7c1f8481-713c-48a9-9fda-eec4da2017bf"
   },
   "outputs": [
    {
     "name": "stdout",
     "output_type": "stream",
     "text": [
      "375/375 [==============================] - 1s 1ms/step - loss: 0.2658 - acc: 0.9128\n"
     ]
    },
    {
     "data": {
      "text/plain": [
       "[0.2657662630081177, 0.9128333330154419]"
      ]
     },
     "execution_count": 23,
     "metadata": {},
     "output_type": "execute_result"
    }
   ],
   "source": [
    "cnn_model.evaluate(X_val, y_val)"
   ]
  },
  {
   "cell_type": "code",
   "execution_count": 24,
   "metadata": {
    "colab": {
     "base_uri": "https://localhost:8080/"
    },
    "executionInfo": {
     "elapsed": 2788,
     "status": "ok",
     "timestamp": 1603937149487,
     "user": {
      "displayName": "오승환",
      "photoUrl": "https://lh3.googleusercontent.com/a-/AOh14GgBRB1w8bMEGhEpsp7aa7I9MQGz2D37o6hJeKeW=s64",
      "userId": "00933700884551564729"
     },
     "user_tz": -540
    },
    "id": "7JC8web1EzcO",
    "outputId": "0f18e700-e60c-4577-c399-8ecbd1c5ec02"
   },
   "outputs": [
    {
     "data": {
      "text/plain": [
       "array([0, 1, 6, 6, 3, 6, 8, 6, 5, 0])"
      ]
     },
     "execution_count": 24,
     "metadata": {},
     "output_type": "execute_result"
    }
   ],
   "source": [
    "y_pred_proba = cnn_model.predict(X_test)\n",
    "y_pred_classes = np.argmax(y_pred_proba, axis=-1)\n",
    "y_pred_classes[:10]"
   ]
  },
  {
   "cell_type": "code",
   "execution_count": 25,
   "metadata": {
    "id": "ZA8QfHtAEzcZ"
   },
   "outputs": [],
   "source": [
    "# submission['label'] = y_pred_classes\n",
    "# submission_filepath = drive_path + 'mnist_cnn_submission1.csv'   \n",
    "# submission.to_csv(submission_filepath, index=False)"
   ]
  },
  {
   "cell_type": "code",
   "execution_count": 26,
   "metadata": {
    "colab": {
     "base_uri": "https://localhost:8080/"
    },
    "executionInfo": {
     "elapsed": 35042,
     "status": "ok",
     "timestamp": 1603937181753,
     "user": {
      "displayName": "오승환",
      "photoUrl": "https://lh3.googleusercontent.com/a-/AOh14GgBRB1w8bMEGhEpsp7aa7I9MQGz2D37o6hJeKeW=s64",
      "userId": "00933700884551564729"
     },
     "user_tz": -540
    },
    "id": "6_sTC1n96QRY",
    "outputId": "e813be0c-632d-4423-881a-5a2779e4bba4"
   },
   "outputs": [
    {
     "name": "stdout",
     "output_type": "stream",
     "text": [
      "Epoch 1/100\n",
      "750/750 - 4s - loss: 0.6582 - acc: 0.7716 - val_loss: 0.3918 - val_acc: 0.8619 - 4s/epoch - 5ms/step\n",
      "Epoch 2/100\n",
      "750/750 - 3s - loss: 0.4468 - acc: 0.8451 - val_loss: 0.3331 - val_acc: 0.8808 - 3s/epoch - 5ms/step\n",
      "Epoch 3/100\n",
      "750/750 - 4s - loss: 0.3906 - acc: 0.8641 - val_loss: 0.3158 - val_acc: 0.8857 - 4s/epoch - 5ms/step\n",
      "Epoch 4/100\n",
      "750/750 - 4s - loss: 0.3607 - acc: 0.8750 - val_loss: 0.2976 - val_acc: 0.8916 - 4s/epoch - 5ms/step\n",
      "Epoch 5/100\n",
      "750/750 - 3s - loss: 0.3364 - acc: 0.8816 - val_loss: 0.2882 - val_acc: 0.8947 - 3s/epoch - 5ms/step\n",
      "Epoch 6/100\n",
      "750/750 - 3s - loss: 0.3211 - acc: 0.8859 - val_loss: 0.2833 - val_acc: 0.8964 - 3s/epoch - 4ms/step\n",
      "Epoch 7/100\n",
      "750/750 - 3s - loss: 0.3045 - acc: 0.8902 - val_loss: 0.2765 - val_acc: 0.9000 - 3s/epoch - 4ms/step\n",
      "Epoch 8/100\n",
      "750/750 - 3s - loss: 0.2933 - acc: 0.8962 - val_loss: 0.2727 - val_acc: 0.9003 - 3s/epoch - 4ms/step\n",
      "Epoch 9/100\n",
      "750/750 - 3s - loss: 0.2860 - acc: 0.8963 - val_loss: 0.2676 - val_acc: 0.8997 - 3s/epoch - 4ms/step\n",
      "Epoch 10/100\n",
      "750/750 - 3s - loss: 0.2746 - acc: 0.9003 - val_loss: 0.2703 - val_acc: 0.9018 - 3s/epoch - 4ms/step\n",
      "Epoch 11/100\n",
      "750/750 - 3s - loss: 0.2659 - acc: 0.9031 - val_loss: 0.2641 - val_acc: 0.9013 - 3s/epoch - 4ms/step\n",
      "Epoch 12/100\n",
      "750/750 - 3s - loss: 0.2564 - acc: 0.9054 - val_loss: 0.2614 - val_acc: 0.9071 - 3s/epoch - 4ms/step\n",
      "Epoch 13/100\n",
      "750/750 - 3s - loss: 0.2485 - acc: 0.9091 - val_loss: 0.2646 - val_acc: 0.9063 - 3s/epoch - 4ms/step\n",
      "Epoch 14/100\n",
      "750/750 - 4s - loss: 0.2396 - acc: 0.9105 - val_loss: 0.2667 - val_acc: 0.9073 - 4s/epoch - 6ms/step\n",
      "Epoch 15/100\n",
      "750/750 - 3s - loss: 0.2371 - acc: 0.9115 - val_loss: 0.2682 - val_acc: 0.9033 - 3s/epoch - 5ms/step\n",
      "Epoch 16/100\n",
      "750/750 - 3s - loss: 0.2312 - acc: 0.9141 - val_loss: 0.2632 - val_acc: 0.9087 - 3s/epoch - 5ms/step\n",
      "Epoch 17/100\n",
      "750/750 - 4s - loss: 0.2249 - acc: 0.9164 - val_loss: 0.2607 - val_acc: 0.9097 - 4s/epoch - 5ms/step\n",
      "Epoch 18/100\n",
      "750/750 - 4s - loss: 0.2179 - acc: 0.9201 - val_loss: 0.2644 - val_acc: 0.9088 - 4s/epoch - 5ms/step\n",
      "Epoch 19/100\n",
      "750/750 - 4s - loss: 0.2171 - acc: 0.9179 - val_loss: 0.2746 - val_acc: 0.9087 - 4s/epoch - 6ms/step\n",
      "Epoch 20/100\n",
      "\n",
      "\n",
      "목표 정확도 달성: 검증 정확도 0.9112\n",
      "750/750 - 3s - loss: 0.2094 - acc: 0.9204 - val_loss: 0.2719 - val_acc: 0.9112 - 3s/epoch - 4ms/step\n"
     ]
    }
   ],
   "source": [
    "# 사용자 정의 콜백 함수\n",
    "from tensorflow.keras.callbacks import Callback\n",
    "\n",
    "class my_callback(Callback):\n",
    "  def on_epoch_end(self, epoch, logs={}):\n",
    "    if(logs.get('val_acc') > 0.91):\n",
    "      self.model.stop_training = True\n",
    "      print(\"\\n\")\n",
    "      print(\"목표 정확도 달성: 검증 정확도 %.4f\" % logs.get('val_acc'))\n",
    "\n",
    "my_callback = my_callback()\n",
    "\n",
    "# Best Model 저장\n",
    "from tensorflow.keras.callbacks import ModelCheckpoint\n",
    "\n",
    "best_model_path = \"best_cnn_model.h5\"\n",
    "save_best_model = ModelCheckpoint(best_model_path, monitor='val_loss', \n",
    "                                  save_best_only=True, save_weights_only=False)\n",
    "\n",
    "# CNN 모델 학습\n",
    "cnn_model = build_cnn()\n",
    "cnn_history = cnn_model.fit(X_tr, y_tr, batch_size=64, epochs=100,\n",
    "                        validation_data=(X_val, y_val),\n",
    "                        callbacks=[my_callback, save_best_model],\n",
    "                        verbose=2) "
   ]
  },
  {
   "cell_type": "code",
   "execution_count": 27,
   "metadata": {
    "colab": {
     "base_uri": "https://localhost:8080/",
     "height": 357
    },
    "executionInfo": {
     "elapsed": 563,
     "status": "ok",
     "timestamp": 1603463507098,
     "user": {
      "displayName": "오승환",
      "photoUrl": "https://lh3.googleusercontent.com/a-/AOh14GgBRB1w8bMEGhEpsp7aa7I9MQGz2D37o6hJeKeW=s64",
      "userId": "00933700884551564729"
     },
     "user_tz": -540
    },
    "id": "U-tLx50BmX3V",
    "outputId": "e04e99b3-25e9-4308-b657-1e21f6f18bc7"
   },
   "outputs": [
    {
     "name": "stdout",
     "output_type": "stream",
     "text": [
      "Model: \"sequential_3\"\n",
      "_________________________________________________________________\n",
      " Layer (type)                Output Shape              Param #   \n",
      "=================================================================\n",
      " conv2d_2 (Conv2D)           (None, 26, 26, 16)        160       \n",
      "                                                                 \n",
      " max_pooling2d_2 (MaxPooling  (None, 13, 13, 16)       0         \n",
      " 2D)                                                             \n",
      "                                                                 \n",
      " flatten_3 (Flatten)         (None, 2704)              0         \n",
      "                                                                 \n",
      " dense_6 (Dense)             (None, 64)                173120    \n",
      "                                                                 \n",
      " dropout_1 (Dropout)         (None, 64)                0         \n",
      "                                                                 \n",
      " dense_7 (Dense)             (None, 10)                650       \n",
      "                                                                 \n",
      "=================================================================\n",
      "Total params: 173,930\n",
      "Trainable params: 173,930\n",
      "Non-trainable params: 0\n",
      "_________________________________________________________________\n"
     ]
    }
   ],
   "source": [
    "from tensorflow.keras.models import load_model\n",
    "# ModelCheckPoint에 저장해둔 모델을 로딩 \n",
    "best_model = load_model(\"best_cnn_model.h5\")\n",
    "best_model.summary()"
   ]
  },
  {
   "cell_type": "code",
   "execution_count": 28,
   "metadata": {
    "id": "xkatmY1kmFmI"
   },
   "outputs": [
    {
     "name": "stdout",
     "output_type": "stream",
     "text": [
      "[[9.9610341e-01 1.8351363e-15 3.1592551e-06 ... 8.5470194e-22\n",
      "  3.1081711e-09 2.7112978e-22]\n",
      " [8.9230618e-14 1.0000000e+00 1.9243250e-15 ... 8.9314453e-24\n",
      "  4.5319882e-17 3.6444827e-27]\n",
      " [6.4850666e-02 5.5367311e-10 4.8236111e-01 ... 4.2335737e-13\n",
      "  9.9884539e-07 3.3911754e-12]\n",
      " ...\n",
      " [1.4062561e-15 1.3072255e-21 2.7022757e-16 ... 9.8152226e-17\n",
      "  1.0000000e+00 5.0588941e-21]\n",
      " [1.2538779e-06 5.0674751e-12 2.4507503e-09 ... 3.1997847e-09\n",
      "  9.9999070e-01 9.0589090e-08]\n",
      " [5.3747829e-07 9.9927074e-01 2.0207353e-06 ... 9.6405870e-09\n",
      "  6.3515145e-05 2.8001215e-10]]\n",
      "[0 1 2 ... 8 8 1]\n"
     ]
    }
   ],
   "source": [
    "y_pred_proba = best_model.predict(X_test)\n",
    "y_pred_classes = np.argmax(y_pred_proba, axis=-1)\n",
    "print(y_pred_proba)\n",
    "print(y_pred_classes)\n",
    "# submission['label'] = y_pred_classes\n",
    "# submission_filepath = drive_path + 'mnist_cnn_submission2.csv'   \n",
    "# submission.to_csv(submission_filepath, index=False)"
   ]
  },
  {
   "cell_type": "code",
   "execution_count": null,
   "metadata": {},
   "outputs": [],
   "source": []
  },
  {
   "cell_type": "code",
   "execution_count": null,
   "metadata": {},
   "outputs": [],
   "source": []
  },
  {
   "cell_type": "code",
   "execution_count": null,
   "metadata": {},
   "outputs": [],
   "source": []
  }
 ],
 "metadata": {
  "accelerator": "GPU",
  "colab": {
   "authorship_tag": "ABX9TyMd7H3gNdvOl7UCrFG/KV0A",
   "collapsed_sections": [],
   "name": "6.1_fashion_mnist.ipynb",
   "provenance": [
    {
     "file_id": "1K4BjydItwlEJ0e1-gDi4eOsNoHVJ4GSM",
     "timestamp": 1595286872050
    }
   ]
  },
  "kernelspec": {
   "display_name": "Python 3 (ipykernel)",
   "language": "python",
   "name": "python3"
  },
  "language_info": {
   "codemirror_mode": {
    "name": "ipython",
    "version": 3
   },
   "file_extension": ".py",
   "mimetype": "text/x-python",
   "name": "python",
   "nbconvert_exporter": "python",
   "pygments_lexer": "ipython3",
   "version": "3.7.9"
  }
 },
 "nbformat": 4,
 "nbformat_minor": 4
}
