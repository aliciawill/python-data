{
 "cells": [
  {
   "cell_type": "code",
   "execution_count": 1,
   "metadata": {},
   "outputs": [
    {
     "name": "stdout",
     "output_type": "stream",
     "text": [
      "Collecting icrawler\n",
      "  Downloading icrawler-0.6.6-py2.py3-none-any.whl (35 kB)\n",
      "Requirement already satisfied: requests>=2.9.1 in /Users/administrator/opt/anaconda3/lib/python3.7/site-packages (from icrawler) (2.24.0)\n",
      "Requirement already satisfied: lxml in /Users/administrator/opt/anaconda3/lib/python3.7/site-packages (from icrawler) (4.6.3)\n",
      "Requirement already satisfied: Pillow in /Users/administrator/opt/anaconda3/lib/python3.7/site-packages (from icrawler) (8.2.0)\n",
      "Requirement already satisfied: beautifulsoup4>=4.4.1 in /Users/administrator/opt/anaconda3/lib/python3.7/site-packages (from icrawler) (4.6.0)\n",
      "Requirement already satisfied: six>=1.10.0 in /Users/administrator/opt/anaconda3/lib/python3.7/site-packages (from icrawler) (1.16.0)\n",
      "Requirement already satisfied: urllib3!=1.25.0,!=1.25.1,<1.26,>=1.21.1 in /Users/administrator/opt/anaconda3/lib/python3.7/site-packages (from requests>=2.9.1->icrawler) (1.25.11)\n",
      "Requirement already satisfied: idna<3,>=2.5 in /Users/administrator/opt/anaconda3/lib/python3.7/site-packages (from requests>=2.9.1->icrawler) (2.10)\n",
      "Requirement already satisfied: chardet<4,>=3.0.2 in /Users/administrator/opt/anaconda3/lib/python3.7/site-packages (from requests>=2.9.1->icrawler) (3.0.4)\n",
      "Requirement already satisfied: certifi>=2017.4.17 in /Users/administrator/opt/anaconda3/lib/python3.7/site-packages (from requests>=2.9.1->icrawler) (2021.10.8)\n",
      "Installing collected packages: icrawler\n",
      "Successfully installed icrawler-0.6.6\n"
     ]
    }
   ],
   "source": [
    "!pip install icrawler"
   ]
  },
  {
   "cell_type": "code",
   "execution_count": 6,
   "metadata": {},
   "outputs": [
    {
     "name": "stderr",
     "output_type": "stream",
     "text": [
      "2022-01-26 13:29:42,821 - INFO - icrawler.crawler - start crawling...\n",
      "2022-01-26 13:29:42,821 - INFO - icrawler.crawler - starting 1 feeder threads...\n",
      "2022-01-26 13:29:42,822 - INFO - feeder - thread feeder-001 exit\n",
      "2022-01-26 13:29:42,823 - INFO - icrawler.crawler - starting 2 parser threads...\n",
      "2022-01-26 13:29:42,827 - INFO - icrawler.crawler - starting 4 downloader threads...\n",
      "2022-01-26 13:29:43,676 - INFO - parser - parsing result page https://www.google.com/search?q=car&ijn=0&start=0&tbs=&tbm=isch\n",
      "2022-01-26 13:29:43,680 - INFO - parser - parsing result page https://www.google.com/search?q=car&ijn=1&start=100&tbs=&tbm=isch\n",
      "2022-01-26 13:29:43,759 - INFO - downloader - skip downloading file 000001.jpg\n",
      "2022-01-26 13:29:43,914 - INFO - downloader - image #2\thttps://www.extremetech.com/wp-content/uploads/2019/12/SONATA-hero-option1-764A5360-edit-640x354.jpg\n",
      "2022-01-26 13:29:43,915 - INFO - downloader - skip downloading file 000003.jpg\n",
      "2022-01-26 13:29:43,916 - INFO - downloader - skip downloading file 000004.jpg\n",
      "2022-01-26 13:29:43,917 - INFO - downloader - skip downloading file 000005.jpg\n",
      "2022-01-26 13:29:43,918 - INFO - downloader - skip downloading file 000006.jpg\n",
      "2022-01-26 13:29:44,053 - INFO - downloader - image #7\thttps://hips.hearstapps.com/hmg-prod.s3.amazonaws.com/images/2019-honda-civic-sedan-1558453497.jpg\n",
      "2022-01-26 13:29:44,247 - INFO - downloader - image #8\thttps://m.atcdn.co.uk/static/media/ev-giveaway/prize-ford-mustang-mach-e.png\n",
      "2022-01-26 13:29:44,248 - INFO - downloader - skip downloading file 000009.jpg\n",
      "2022-01-26 13:29:44,249 - INFO - downloader - skip downloading file 000010.jpg\n",
      "2022-01-26 13:29:44,250 - INFO - downloader - skip downloading file 000011.jpg\n",
      "2022-01-26 13:29:44,250 - INFO - downloader - skip downloading file 000012.jpg\n",
      "2022-01-26 13:29:44,251 - INFO - downloader - skip downloading file 000013.jpg\n",
      "2022-01-26 13:29:44,310 - INFO - downloader - image #14\thttps://cars.usnews.com/static/images/Auto/custom/14737/2022_Acura_ILX_1.jpg\n",
      "2022-01-26 13:29:44,313 - INFO - downloader - skip downloading file 000015.png\n",
      "2022-01-26 13:29:44,314 - INFO - downloader - skip downloading file 000016.jpg\n",
      "2022-01-26 13:29:44,411 - INFO - downloader - image #17\thttps://images.ctfassets.net/wmdwnw6l5vg5/71jz89dFBIdA9KHrLh8T0h/c4c0a817afe77c35ff5a1461f052b03f/economy.png\n",
      "2022-01-26 13:29:44,414 - INFO - downloader - skip downloading file 000018.jpg\n",
      "2022-01-26 13:29:44,415 - INFO - downloader - skip downloading file 000019.jpg\n",
      "2022-01-26 13:29:44,415 - INFO - downloader - skip downloading file 000020.jpg\n",
      "2022-01-26 13:29:44,417 - INFO - downloader - skip downloading file 000021.jpg\n",
      "2022-01-26 13:29:44,418 - INFO - downloader - skip downloading file 000022.jpg\n",
      "/Users/administrator/opt/anaconda3/lib/python3.7/site-packages/PIL/Image.py:2966: UserWarning: image file could not be identified because WEBP support not installed\n",
      "  warnings.warn(message)\n",
      "2022-01-26 13:29:44,961 - INFO - downloader - image #23\thttps://www.timescar-rental.com/images/top/top_ph002.png\n",
      "2022-01-26 13:29:44,963 - INFO - downloader - skip downloading file 000024.jpg\n",
      "2022-01-26 13:29:45,307 - INFO - downloader - image #25\thttps://auto1-homepage.prod.mp.auto1.cloud/static/optimized/orange-car-hp-right-mercedez.png\n",
      "2022-01-26 13:29:45,469 - INFO - downloader - image #26\thttps://www.focus2move.com/wp-content/uploads/2020/08/Tesla-Roadster-2020-1024-03.jpg\n",
      "2022-01-26 13:29:45,470 - ERROR - downloader - Response status code 403, file https://www.car-mart.com/wp-content/uploads/2021/04/homepage-jeep.png\n",
      "2022-01-26 13:29:45,472 - INFO - downloader - skip downloading file 000027.jpg\n",
      "2022-01-26 13:29:45,474 - INFO - downloader - skip downloading file 000028.jpg\n",
      "2022-01-26 13:29:45,731 - INFO - downloader - image #29\thttps://www.gpas-cache.ford.com/guid/675993e1-e773-3b99-b327-341b2e6eb4e5.png\n",
      "2022-01-26 13:29:45,733 - INFO - downloader - skip downloading file 000030.jpg\n",
      "2022-01-26 13:29:45,734 - INFO - downloader - skip downloading file 000031.jpg\n",
      "2022-01-26 13:29:45,735 - INFO - downloader - skip downloading file 000032.jpg\n",
      "2022-01-26 13:29:45,907 - INFO - downloader - skip downloading file 000033.jpg\n",
      "2022-01-26 13:29:45,960 - INFO - downloader - image #34\thttps://www.hyundai.com/content/dam/hyundai/au/en/models/side-profiles/Hyundai_Venue_640x331.png\n",
      "2022-01-26 13:29:45,962 - INFO - downloader - skip downloading file 000035.jpg\n",
      "2022-01-26 13:29:46,092 - INFO - downloader - image #36\thttps://image.cnbcfm.com/api/v1/image/106845268-1614203269431-AppleCar_YT_Thumbnail_Option.png\n",
      "2022-01-26 13:29:46,093 - INFO - downloader - skip downloading file 000037.jpg\n",
      "2022-01-26 13:29:46,113 - INFO - downloader - skip downloading file 000038.jpg\n",
      "2022-01-26 13:29:46,130 - INFO - downloader - image #39\thttps://images.ctfassets.net/ro7z507xvlp4/6VE6CpObJe6qyHHYEzb81X/a6c2752bc9cede65b958ddbe8521af2c/mb_gla_1x.png\n",
      "2022-01-26 13:29:46,132 - INFO - downloader - skip downloading file 000040.jpg\n",
      "2022-01-26 13:29:46,320 - ERROR - downloader - Response status code 403, file https://www.blackcountrycarfinance.co.uk/dist/img/green-car.png\n",
      "2022-01-26 13:29:46,821 - INFO - downloader - image #41\thttps://auto1-homepage.prod.mp.auto1.cloud/static/optimized/blue-car-hp-left-bmw.png\n",
      "2022-01-26 13:29:46,823 - INFO - downloader - skip downloading file 000042.jpg\n",
      "2022-01-26 13:29:46,824 - INFO - downloader - skip downloading file 000043.jpg\n",
      "2022-01-26 13:29:46,825 - INFO - downloader - skip downloading file 000044.jpg\n",
      "2022-01-26 13:29:46,826 - INFO - downloader - skip downloading file 000045.jpg\n",
      "2022-01-26 13:29:46,827 - INFO - downloader - skip downloading file 000046.jpg\n",
      "2022-01-26 13:29:46,828 - INFO - downloader - skip downloading file 000047.jpg\n",
      "2022-01-26 13:29:46,829 - INFO - downloader - skip downloading file 000048.jpg\n",
      "2022-01-26 13:29:46,829 - INFO - downloader - skip downloading file 000049.jpg\n",
      "2022-01-26 13:29:46,830 - INFO - downloader - skip downloading file 000050.jpg\n",
      "2022-01-26 13:29:46,831 - INFO - downloader - skip downloading file 000051.jpg\n",
      "2022-01-26 13:29:46,831 - INFO - downloader - skip downloading file 000052.jpg\n",
      "2022-01-26 13:29:46,832 - INFO - downloader - skip downloading file 000053.jpg\n",
      "2022-01-26 13:29:46,833 - INFO - downloader - skip downloading file 000054.jpg\n",
      "2022-01-26 13:29:46,834 - INFO - downloader - skip downloading file 000055.jpg\n",
      "2022-01-26 13:29:46,834 - INFO - downloader - skip downloading file 000056.jpg\n",
      "2022-01-26 13:29:46,835 - INFO - downloader - skip downloading file 000057.jpg\n",
      "2022-01-26 13:29:46,836 - INFO - downloader - skip downloading file 000058.png\n",
      "2022-01-26 13:29:46,911 - INFO - downloader - image #59\thttps://platform.cstatic-images.com/in/v2/stock_photos/098efaf1-e69d-41d1-bb0f-48dcbf595942/ec1b2160-0a74-4714-99e6-8dcaf1a3ada1.png\n",
      "2022-01-26 13:29:47,096 - INFO - downloader - image #60\thttps://www.eliomotors.com/wp-content/themes/mybizniche/assets/img/hero-car.png\n",
      "2022-01-26 13:29:47,220 - INFO - downloader - image #61\thttps://cdn.luxe.digital/media/2020/12/15110747/fastest-cars-world-2021-luxe-digital%402x.jpg\n",
      "2022-01-26 13:29:47,608 - INFO - downloader - image #62\thttps://images.crazygames.com/games/madalin-stunt-cars-2/cover-1614695327596.png\n",
      "2022-01-26 13:29:47,744 - INFO - downloader - image #63\thttps://carconfigurator.ferrari.com/assets/cars/portofinom/packages/default/car-ferrari-portofino-m_splash.jpg\n",
      "2022-01-26 13:29:47,787 - INFO - downloader - image #64\thttps://mynobe.com/wp-content/uploads/2019/05/car.jpg\n",
      "2022-01-26 13:29:47,866 - INFO - downloader - image #65\thttps://www.cinch.co.uk/static/33916de99a6cf53e7a430f9f862a3296/99791/home-hero.png\n",
      "2022-01-26 13:29:47,943 - INFO - parser - parsing result page https://www.google.com/search?q=car&ijn=2&start=200&tbs=&tbm=isch\n",
      "2022-01-26 13:29:48,059 - INFO - parser - parsing result page https://www.google.com/search?q=car&ijn=3&start=300&tbs=&tbm=isch\n",
      "2022-01-26 13:29:48,091 - INFO - downloader - image #66\thttps://www.collinsdictionary.com/images/full/sportscar_13620490_1000.jpg\n",
      "2022-01-26 13:29:48,132 - INFO - downloader - image #67\thttps://hips.hearstapps.com/hmg-prod.s3.amazonaws.com/images/2022-10best-1637130180.jpg\n",
      "2022-01-26 13:29:48,159 - ERROR - downloader - Response status code 403, file https://www.kk-carsales.co.uk/dist/img/hero/hero-1-1280.jpg\n"
     ]
    },
    {
     "name": "stderr",
     "output_type": "stream",
     "text": [
      "2022-01-26 13:29:48,405 - INFO - downloader - image #68\thttps://www.morgan-motor.com/wp-content/uploads/2021/09/three-wheeled-morgan.jpg\n",
      "2022-01-26 13:29:48,601 - INFO - parser - parsing result page https://www.google.com/search?q=car&ijn=4&start=400&tbs=&tbm=isch\n",
      "2022-01-26 13:29:48,934 - INFO - downloader - image #69\thttps://www.bmw.com/content/dam/bmw/marketBMWCOM/bmw_com/categories/automotive-life/my-bmw-app-02/bmwapp-00-teaser-high.jpg\n",
      "2022-01-26 13:29:49,122 - ERROR - downloader - Response status code 400, file https://images.macrumors.com/t/pJR4Xu5YgiPUGL7hObOqXOjGfvs\\u003d/1600x/article-new/2015/02/carsilhouette.jpg\n",
      "2022-01-26 13:29:49,944 - INFO - downloader - image #70\thttps://m.atcdn.co.uk/vms/media/%7Bresize%7D/d05fbc1fa1974a4abe257568beea7da1.jpg\n",
      "2022-01-26 13:29:50,106 - INFO - parser - no more page urls for thread parser-001 to parse\n",
      "2022-01-26 13:29:50,107 - INFO - parser - thread parser-001 exit\n",
      "2022-01-26 13:29:50,644 - INFO - parser - no more page urls for thread parser-002 to parse\n",
      "2022-01-26 13:29:50,646 - INFO - parser - thread parser-002 exit\n",
      "2022-01-26 13:29:51,172 - INFO - downloader - image #71\thttps://muneerlyati.com/wp-content/uploads/2021/07/That-is-definitely-the-fastest-car-globally-right-now.jpg\n",
      "2022-01-26 13:29:54,127 - INFO - downloader - no more download task for thread downloader-003\n",
      "2022-01-26 13:29:54,128 - INFO - downloader - thread downloader-003 exit\n",
      "2022-01-26 13:29:54,622 - INFO - downloader - no more download task for thread downloader-004\n",
      "2022-01-26 13:29:54,623 - INFO - downloader - thread downloader-004 exit\n",
      "2022-01-26 13:29:54,945 - INFO - downloader - no more download task for thread downloader-002\n",
      "2022-01-26 13:29:54,946 - INFO - downloader - thread downloader-002 exit\n",
      "2022-01-26 13:29:56,174 - INFO - downloader - no more download task for thread downloader-001\n",
      "2022-01-26 13:29:56,175 - INFO - downloader - thread downloader-001 exit\n",
      "2022-01-26 13:29:56,846 - INFO - icrawler.crawler - Crawling task done!\n"
     ]
    }
   ],
   "source": [
    "from icrawler.builtin import GoogleImageCrawler\n",
    "google_crawler = GoogleImageCrawler(parser_threads=2, downloader_threads=4,\n",
    "                                    storage={'root_dir': '../data'})\n",
    "\n",
    "google_crawler.crawl(keyword='car', max_num=500,\n",
    "                     min_size=(200,200), max_size=None)"
   ]
  },
  {
   "cell_type": "code",
   "execution_count": 4,
   "metadata": {},
   "outputs": [],
   "source": [
    "from PIL import Image\n",
    "import os, glob\n",
    "import numpy as np\n",
    "from sklearn.model_selection import train_test_split"
   ]
  },
  {
   "cell_type": "code",
   "execution_count": 5,
   "metadata": {},
   "outputs": [
    {
     "ename": "ValueError",
     "evalue": "With n_samples=0, test_size=0.25 and train_size=None, the resulting train set will be empty. Adjust any of the aforementioned parameters.",
     "output_type": "error",
     "traceback": [
      "\u001b[0;31m---------------------------------------------------------------------------\u001b[0m",
      "\u001b[0;31mValueError\u001b[0m                                Traceback (most recent call last)",
      "\u001b[0;32m/var/folders/lb/m5ps_m_950d0m02f4_w0xnb80000gn/T/ipykernel_9330/2961980673.py\u001b[0m in \u001b[0;36m<module>\u001b[0;34m\u001b[0m\n\u001b[1;32m     29\u001b[0m \u001b[0;31m# 학습 전용 데이터와 테스트 전용 데이터 구분\u001b[0m\u001b[0;34m\u001b[0m\u001b[0;34m\u001b[0m\u001b[0;34m\u001b[0m\u001b[0m\n\u001b[1;32m     30\u001b[0m \u001b[0mX_train\u001b[0m\u001b[0;34m,\u001b[0m \u001b[0mX_test\u001b[0m\u001b[0;34m,\u001b[0m \u001b[0my_train\u001b[0m\u001b[0;34m,\u001b[0m \u001b[0my_test\u001b[0m \u001b[0;34m=\u001b[0m\u001b[0;31m \u001b[0m\u001b[0;31m\\\u001b[0m\u001b[0;34m\u001b[0m\u001b[0;34m\u001b[0m\u001b[0m\n\u001b[0;32m---> 31\u001b[0;31m     \u001b[0mtrain_test_split\u001b[0m\u001b[0;34m(\u001b[0m\u001b[0mX\u001b[0m\u001b[0;34m,\u001b[0m \u001b[0mY\u001b[0m\u001b[0;34m)\u001b[0m\u001b[0;34m\u001b[0m\u001b[0;34m\u001b[0m\u001b[0m\n\u001b[0m\u001b[1;32m     32\u001b[0m \u001b[0mxy\u001b[0m \u001b[0;34m=\u001b[0m \u001b[0;34m(\u001b[0m\u001b[0mX_train\u001b[0m\u001b[0;34m,\u001b[0m \u001b[0mX_test\u001b[0m\u001b[0;34m,\u001b[0m \u001b[0my_train\u001b[0m\u001b[0;34m,\u001b[0m \u001b[0my_test\u001b[0m\u001b[0;34m)\u001b[0m\u001b[0;34m\u001b[0m\u001b[0;34m\u001b[0m\u001b[0m\n\u001b[1;32m     33\u001b[0m \u001b[0;34m\u001b[0m\u001b[0m\n",
      "\u001b[0;32m~/opt/anaconda3/lib/python3.7/site-packages/sklearn/model_selection/_split.py\u001b[0m in \u001b[0;36mtrain_test_split\u001b[0;34m(test_size, train_size, random_state, shuffle, stratify, *arrays)\u001b[0m\n\u001b[1;32m   2174\u001b[0m     \u001b[0mn_samples\u001b[0m \u001b[0;34m=\u001b[0m \u001b[0m_num_samples\u001b[0m\u001b[0;34m(\u001b[0m\u001b[0marrays\u001b[0m\u001b[0;34m[\u001b[0m\u001b[0;36m0\u001b[0m\u001b[0;34m]\u001b[0m\u001b[0;34m)\u001b[0m\u001b[0;34m\u001b[0m\u001b[0;34m\u001b[0m\u001b[0m\n\u001b[1;32m   2175\u001b[0m     n_train, n_test = _validate_shuffle_split(n_samples, test_size, train_size,\n\u001b[0;32m-> 2176\u001b[0;31m                                               default_test_size=0.25)\n\u001b[0m\u001b[1;32m   2177\u001b[0m \u001b[0;34m\u001b[0m\u001b[0m\n\u001b[1;32m   2178\u001b[0m     \u001b[0;32mif\u001b[0m \u001b[0mshuffle\u001b[0m \u001b[0;32mis\u001b[0m \u001b[0;32mFalse\u001b[0m\u001b[0;34m:\u001b[0m\u001b[0;34m\u001b[0m\u001b[0;34m\u001b[0m\u001b[0m\n",
      "\u001b[0;32m~/opt/anaconda3/lib/python3.7/site-packages/sklearn/model_selection/_split.py\u001b[0m in \u001b[0;36m_validate_shuffle_split\u001b[0;34m(n_samples, test_size, train_size, default_test_size)\u001b[0m\n\u001b[1;32m   1859\u001b[0m             \u001b[0;34m'resulting train set will be empty. Adjust any of the '\u001b[0m\u001b[0;34m\u001b[0m\u001b[0;34m\u001b[0m\u001b[0m\n\u001b[1;32m   1860\u001b[0m             'aforementioned parameters.'.format(n_samples, test_size,\n\u001b[0;32m-> 1861\u001b[0;31m                                                 train_size)\n\u001b[0m\u001b[1;32m   1862\u001b[0m         )\n\u001b[1;32m   1863\u001b[0m \u001b[0;34m\u001b[0m\u001b[0m\n",
      "\u001b[0;31mValueError\u001b[0m: With n_samples=0, test_size=0.25 and train_size=None, the resulting train set will be empty. Adjust any of the aforementioned parameters."
     ]
    }
   ],
   "source": [
    "accident_dir = \"./image\"\n",
    "categories = [\"Car front crash\",\"Car side crash\",\"Rear and crash\",\"Car broken windshield\",\"Car scratch\",\"Flat tire\",\"Overturned vehicle\"]\n",
    "nb_classes = len(categories)\n",
    "# 이미지 크기 지정 \n",
    "image_w = 64 \n",
    "image_h = 64\n",
    "pixels = image_w * image_h * 3\n",
    "# 이미지 데이터 읽어 들이기 \n",
    "X = []\n",
    "Y = []\n",
    "for idx, cat in enumerate(categories):\n",
    "    # 레이블 지정 \n",
    "    label = [0 for i in range(nb_classes)]\n",
    "    label[idx] = 1\n",
    "    # 이미지 \n",
    "    image_dir = accident_dir + \"/\" + cat\n",
    "    files = glob.glob(image_dir+\"/*.jpg\")\n",
    "    for i, f in enumerate(files):\n",
    "        img = Image.open(f) \n",
    "        img = img.convert(\"RGB\")\n",
    "        img = img.resize((image_w, image_h))\n",
    "        data = np.asarray(img)      # numpy 배열로 변환\n",
    "        X.append(data)\n",
    "        Y.append(label)\n",
    "        if i % 10 == 0:\n",
    "            print(i, \"\\n\", data)\n",
    "X = np.array(X)\n",
    "Y = np.array(Y)\n",
    "# 학습 전용 데이터와 테스트 전용 데이터 구분 \n",
    "X_train, X_test, y_train, y_test = \\\n",
    "    train_test_split(X, Y)\n",
    "xy = (X_train, X_test, y_train, y_test)\n",
    "\n",
    "print('>>> data 저장중 ...')\n",
    "np.save(\"./image/7obj.npy\", xy)\n",
    "print(\"ok,\", len(Y))"
   ]
  },
  {
   "cell_type": "code",
   "execution_count": null,
   "metadata": {},
   "outputs": [],
   "source": []
  }
 ],
 "metadata": {
  "kernelspec": {
   "display_name": "Python 3 (ipykernel)",
   "language": "python",
   "name": "python3"
  },
  "language_info": {
   "codemirror_mode": {
    "name": "ipython",
    "version": 3
   },
   "file_extension": ".py",
   "mimetype": "text/x-python",
   "name": "python",
   "nbconvert_exporter": "python",
   "pygments_lexer": "ipython3",
   "version": "3.7.11"
  }
 },
 "nbformat": 4,
 "nbformat_minor": 4
}
