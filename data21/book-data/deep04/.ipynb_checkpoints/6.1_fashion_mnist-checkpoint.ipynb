{
 "cells": [
  {
   "cell_type": "markdown",
   "metadata": {
    "id": "z5xn5yDdg4IN"
   },
   "source": [
    "# 1. 환경 설정"
   ]
  },
  {
   "cell_type": "code",
   "execution_count": 3,
   "metadata": {
    "colab": {
     "base_uri": "https://localhost:8080/"
    },
    "executionInfo": {
     "elapsed": 24147,
     "status": "ok",
     "timestamp": 1603939976489,
     "user": {
      "displayName": "오승환",
      "photoUrl": "https://lh3.googleusercontent.com/a-/AOh14GgBRB1w8bMEGhEpsp7aa7I9MQGz2D37o6hJeKeW=s64",
      "userId": "00933700884551564729"
     },
     "user_tz": -540
    },
    "id": "9mGljBZMg2V8",
    "outputId": "597bab8c-c40c-48ed-8b6f-bf5f85438010"
   },
   "outputs": [],
   "source": [
    "# 라이브러리 설정\n",
    "import pandas as pd\n",
    "import numpy as np\n",
    "import tensorflow as tf\n",
    "import random\n",
    "\n",
    "# 랜덤 시드 고정\n",
    "SEED=12\n",
    "random.seed(SEED)\n",
    "np.random.seed(SEED)\n",
    "tf.random.set_seed(SEED)  \n",
    "\n",
    "# 구글 드라이브 폴더 마운트\n",
    "# from google.colab import drive, files\n",
    "# drive.mount('/gdrive')"
   ]
  },
  {
   "cell_type": "markdown",
   "metadata": {
    "id": "Mh6CUYbhlKf1"
   },
   "source": [
    "# 2. 데이터셋 준비"
   ]
  },
  {
   "cell_type": "code",
   "execution_count": 4,
   "metadata": {
    "colab": {
     "base_uri": "https://localhost:8080/"
    },
    "executionInfo": {
     "elapsed": 9102,
     "status": "ok",
     "timestamp": 1603940007247,
     "user": {
      "displayName": "오승환",
      "photoUrl": "https://lh3.googleusercontent.com/a-/AOh14GgBRB1w8bMEGhEpsp7aa7I9MQGz2D37o6hJeKeW=s64",
      "userId": "00933700884551564729"
     },
     "user_tz": -540
    },
    "id": "fFboBDPEDwTE",
    "outputId": "1cfaa4a9-6a59-4b18-84ed-85a4180e5ee5"
   },
   "outputs": [
    {
     "ename": "FileNotFoundError",
     "evalue": "[Errno 2] No such file or directory: 'mnist_data/train.csv'",
     "output_type": "error",
     "traceback": [
      "\u001b[0;31m---------------------------------------------------------------------------\u001b[0m",
      "\u001b[0;31mFileNotFoundError\u001b[0m                         Traceback (most recent call last)",
      "\u001b[0;32m/var/folders/lb/m5ps_m_950d0m02f4_w0xnb80000gn/T/ipykernel_10003/3898961924.py\u001b[0m in \u001b[0;36m<module>\u001b[0;34m\u001b[0m\n\u001b[1;32m      1\u001b[0m \u001b[0;31m# 데이콘 사이트에서 다운로드한 CSV파일을 읽어오기\u001b[0m\u001b[0;34m\u001b[0m\u001b[0;34m\u001b[0m\u001b[0;34m\u001b[0m\u001b[0m\n\u001b[1;32m      2\u001b[0m \u001b[0;31m# drive_path = \"/gdrive/My Drive/\"\u001b[0m\u001b[0;34m\u001b[0m\u001b[0;34m\u001b[0m\u001b[0;34m\u001b[0m\u001b[0m\n\u001b[0;32m----> 3\u001b[0;31m \u001b[0mtrain\u001b[0m \u001b[0;34m=\u001b[0m \u001b[0mpd\u001b[0m\u001b[0;34m.\u001b[0m\u001b[0mread_csv\u001b[0m\u001b[0;34m(\u001b[0m\u001b[0;34m\"mnist_data/train.csv\"\u001b[0m\u001b[0;34m)\u001b[0m\u001b[0;34m\u001b[0m\u001b[0;34m\u001b[0m\u001b[0m\n\u001b[0m\u001b[1;32m      4\u001b[0m \u001b[0mtest\u001b[0m \u001b[0;34m=\u001b[0m \u001b[0mpd\u001b[0m\u001b[0;34m.\u001b[0m\u001b[0mread_csv\u001b[0m\u001b[0;34m(\u001b[0m\u001b[0;34m\"mnist_data/test.csv\"\u001b[0m\u001b[0;34m)\u001b[0m\u001b[0;34m\u001b[0m\u001b[0;34m\u001b[0m\u001b[0m\n\u001b[1;32m      5\u001b[0m \u001b[0;34m\u001b[0m\u001b[0m\n",
      "\u001b[0;32m~/opt/anaconda3/lib/python3.7/site-packages/pandas/util/_decorators.py\u001b[0m in \u001b[0;36mwrapper\u001b[0;34m(*args, **kwargs)\u001b[0m\n\u001b[1;32m    309\u001b[0m                     \u001b[0mstacklevel\u001b[0m\u001b[0;34m=\u001b[0m\u001b[0mstacklevel\u001b[0m\u001b[0;34m,\u001b[0m\u001b[0;34m\u001b[0m\u001b[0;34m\u001b[0m\u001b[0m\n\u001b[1;32m    310\u001b[0m                 )\n\u001b[0;32m--> 311\u001b[0;31m             \u001b[0;32mreturn\u001b[0m \u001b[0mfunc\u001b[0m\u001b[0;34m(\u001b[0m\u001b[0;34m*\u001b[0m\u001b[0margs\u001b[0m\u001b[0;34m,\u001b[0m \u001b[0;34m**\u001b[0m\u001b[0mkwargs\u001b[0m\u001b[0;34m)\u001b[0m\u001b[0;34m\u001b[0m\u001b[0;34m\u001b[0m\u001b[0m\n\u001b[0m\u001b[1;32m    312\u001b[0m \u001b[0;34m\u001b[0m\u001b[0m\n\u001b[1;32m    313\u001b[0m         \u001b[0;32mreturn\u001b[0m \u001b[0mwrapper\u001b[0m\u001b[0;34m\u001b[0m\u001b[0;34m\u001b[0m\u001b[0m\n",
      "\u001b[0;32m~/opt/anaconda3/lib/python3.7/site-packages/pandas/io/parsers/readers.py\u001b[0m in \u001b[0;36mread_csv\u001b[0;34m(filepath_or_buffer, sep, delimiter, header, names, index_col, usecols, squeeze, prefix, mangle_dupe_cols, dtype, engine, converters, true_values, false_values, skipinitialspace, skiprows, skipfooter, nrows, na_values, keep_default_na, na_filter, verbose, skip_blank_lines, parse_dates, infer_datetime_format, keep_date_col, date_parser, dayfirst, cache_dates, iterator, chunksize, compression, thousands, decimal, lineterminator, quotechar, quoting, doublequote, escapechar, comment, encoding, encoding_errors, dialect, error_bad_lines, warn_bad_lines, on_bad_lines, delim_whitespace, low_memory, memory_map, float_precision, storage_options)\u001b[0m\n\u001b[1;32m    584\u001b[0m     \u001b[0mkwds\u001b[0m\u001b[0;34m.\u001b[0m\u001b[0mupdate\u001b[0m\u001b[0;34m(\u001b[0m\u001b[0mkwds_defaults\u001b[0m\u001b[0;34m)\u001b[0m\u001b[0;34m\u001b[0m\u001b[0;34m\u001b[0m\u001b[0m\n\u001b[1;32m    585\u001b[0m \u001b[0;34m\u001b[0m\u001b[0m\n\u001b[0;32m--> 586\u001b[0;31m     \u001b[0;32mreturn\u001b[0m \u001b[0m_read\u001b[0m\u001b[0;34m(\u001b[0m\u001b[0mfilepath_or_buffer\u001b[0m\u001b[0;34m,\u001b[0m \u001b[0mkwds\u001b[0m\u001b[0;34m)\u001b[0m\u001b[0;34m\u001b[0m\u001b[0;34m\u001b[0m\u001b[0m\n\u001b[0m\u001b[1;32m    587\u001b[0m \u001b[0;34m\u001b[0m\u001b[0m\n\u001b[1;32m    588\u001b[0m \u001b[0;34m\u001b[0m\u001b[0m\n",
      "\u001b[0;32m~/opt/anaconda3/lib/python3.7/site-packages/pandas/io/parsers/readers.py\u001b[0m in \u001b[0;36m_read\u001b[0;34m(filepath_or_buffer, kwds)\u001b[0m\n\u001b[1;32m    480\u001b[0m \u001b[0;34m\u001b[0m\u001b[0m\n\u001b[1;32m    481\u001b[0m     \u001b[0;31m# Create the parser.\u001b[0m\u001b[0;34m\u001b[0m\u001b[0;34m\u001b[0m\u001b[0;34m\u001b[0m\u001b[0m\n\u001b[0;32m--> 482\u001b[0;31m     \u001b[0mparser\u001b[0m \u001b[0;34m=\u001b[0m \u001b[0mTextFileReader\u001b[0m\u001b[0;34m(\u001b[0m\u001b[0mfilepath_or_buffer\u001b[0m\u001b[0;34m,\u001b[0m \u001b[0;34m**\u001b[0m\u001b[0mkwds\u001b[0m\u001b[0;34m)\u001b[0m\u001b[0;34m\u001b[0m\u001b[0;34m\u001b[0m\u001b[0m\n\u001b[0m\u001b[1;32m    483\u001b[0m \u001b[0;34m\u001b[0m\u001b[0m\n\u001b[1;32m    484\u001b[0m     \u001b[0;32mif\u001b[0m \u001b[0mchunksize\u001b[0m \u001b[0;32mor\u001b[0m \u001b[0miterator\u001b[0m\u001b[0;34m:\u001b[0m\u001b[0;34m\u001b[0m\u001b[0;34m\u001b[0m\u001b[0m\n",
      "\u001b[0;32m~/opt/anaconda3/lib/python3.7/site-packages/pandas/io/parsers/readers.py\u001b[0m in \u001b[0;36m__init__\u001b[0;34m(self, f, engine, **kwds)\u001b[0m\n\u001b[1;32m    809\u001b[0m             \u001b[0mself\u001b[0m\u001b[0;34m.\u001b[0m\u001b[0moptions\u001b[0m\u001b[0;34m[\u001b[0m\u001b[0;34m\"has_index_names\"\u001b[0m\u001b[0;34m]\u001b[0m \u001b[0;34m=\u001b[0m \u001b[0mkwds\u001b[0m\u001b[0;34m[\u001b[0m\u001b[0;34m\"has_index_names\"\u001b[0m\u001b[0;34m]\u001b[0m\u001b[0;34m\u001b[0m\u001b[0;34m\u001b[0m\u001b[0m\n\u001b[1;32m    810\u001b[0m \u001b[0;34m\u001b[0m\u001b[0m\n\u001b[0;32m--> 811\u001b[0;31m         \u001b[0mself\u001b[0m\u001b[0;34m.\u001b[0m\u001b[0m_engine\u001b[0m \u001b[0;34m=\u001b[0m \u001b[0mself\u001b[0m\u001b[0;34m.\u001b[0m\u001b[0m_make_engine\u001b[0m\u001b[0;34m(\u001b[0m\u001b[0mself\u001b[0m\u001b[0;34m.\u001b[0m\u001b[0mengine\u001b[0m\u001b[0;34m)\u001b[0m\u001b[0;34m\u001b[0m\u001b[0;34m\u001b[0m\u001b[0m\n\u001b[0m\u001b[1;32m    812\u001b[0m \u001b[0;34m\u001b[0m\u001b[0m\n\u001b[1;32m    813\u001b[0m     \u001b[0;32mdef\u001b[0m \u001b[0mclose\u001b[0m\u001b[0;34m(\u001b[0m\u001b[0mself\u001b[0m\u001b[0;34m)\u001b[0m\u001b[0;34m:\u001b[0m\u001b[0;34m\u001b[0m\u001b[0;34m\u001b[0m\u001b[0m\n",
      "\u001b[0;32m~/opt/anaconda3/lib/python3.7/site-packages/pandas/io/parsers/readers.py\u001b[0m in \u001b[0;36m_make_engine\u001b[0;34m(self, engine)\u001b[0m\n\u001b[1;32m   1038\u001b[0m             )\n\u001b[1;32m   1039\u001b[0m         \u001b[0;31m# error: Too many arguments for \"ParserBase\"\u001b[0m\u001b[0;34m\u001b[0m\u001b[0;34m\u001b[0m\u001b[0;34m\u001b[0m\u001b[0m\n\u001b[0;32m-> 1040\u001b[0;31m         \u001b[0;32mreturn\u001b[0m \u001b[0mmapping\u001b[0m\u001b[0;34m[\u001b[0m\u001b[0mengine\u001b[0m\u001b[0;34m]\u001b[0m\u001b[0;34m(\u001b[0m\u001b[0mself\u001b[0m\u001b[0;34m.\u001b[0m\u001b[0mf\u001b[0m\u001b[0;34m,\u001b[0m \u001b[0;34m**\u001b[0m\u001b[0mself\u001b[0m\u001b[0;34m.\u001b[0m\u001b[0moptions\u001b[0m\u001b[0;34m)\u001b[0m  \u001b[0;31m# type: ignore[call-arg]\u001b[0m\u001b[0;34m\u001b[0m\u001b[0;34m\u001b[0m\u001b[0m\n\u001b[0m\u001b[1;32m   1041\u001b[0m \u001b[0;34m\u001b[0m\u001b[0m\n\u001b[1;32m   1042\u001b[0m     \u001b[0;32mdef\u001b[0m \u001b[0m_failover_to_python\u001b[0m\u001b[0;34m(\u001b[0m\u001b[0mself\u001b[0m\u001b[0;34m)\u001b[0m\u001b[0;34m:\u001b[0m\u001b[0;34m\u001b[0m\u001b[0;34m\u001b[0m\u001b[0m\n",
      "\u001b[0;32m~/opt/anaconda3/lib/python3.7/site-packages/pandas/io/parsers/c_parser_wrapper.py\u001b[0m in \u001b[0;36m__init__\u001b[0;34m(self, src, **kwds)\u001b[0m\n\u001b[1;32m     49\u001b[0m \u001b[0;34m\u001b[0m\u001b[0m\n\u001b[1;32m     50\u001b[0m         \u001b[0;31m# open handles\u001b[0m\u001b[0;34m\u001b[0m\u001b[0;34m\u001b[0m\u001b[0;34m\u001b[0m\u001b[0m\n\u001b[0;32m---> 51\u001b[0;31m         \u001b[0mself\u001b[0m\u001b[0;34m.\u001b[0m\u001b[0m_open_handles\u001b[0m\u001b[0;34m(\u001b[0m\u001b[0msrc\u001b[0m\u001b[0;34m,\u001b[0m \u001b[0mkwds\u001b[0m\u001b[0;34m)\u001b[0m\u001b[0;34m\u001b[0m\u001b[0;34m\u001b[0m\u001b[0m\n\u001b[0m\u001b[1;32m     52\u001b[0m         \u001b[0;32massert\u001b[0m \u001b[0mself\u001b[0m\u001b[0;34m.\u001b[0m\u001b[0mhandles\u001b[0m \u001b[0;32mis\u001b[0m \u001b[0;32mnot\u001b[0m \u001b[0;32mNone\u001b[0m\u001b[0;34m\u001b[0m\u001b[0;34m\u001b[0m\u001b[0m\n\u001b[1;32m     53\u001b[0m \u001b[0;34m\u001b[0m\u001b[0m\n",
      "\u001b[0;32m~/opt/anaconda3/lib/python3.7/site-packages/pandas/io/parsers/base_parser.py\u001b[0m in \u001b[0;36m_open_handles\u001b[0;34m(self, src, kwds)\u001b[0m\n\u001b[1;32m    227\u001b[0m             \u001b[0mmemory_map\u001b[0m\u001b[0;34m=\u001b[0m\u001b[0mkwds\u001b[0m\u001b[0;34m.\u001b[0m\u001b[0mget\u001b[0m\u001b[0;34m(\u001b[0m\u001b[0;34m\"memory_map\"\u001b[0m\u001b[0;34m,\u001b[0m \u001b[0;32mFalse\u001b[0m\u001b[0;34m)\u001b[0m\u001b[0;34m,\u001b[0m\u001b[0;34m\u001b[0m\u001b[0;34m\u001b[0m\u001b[0m\n\u001b[1;32m    228\u001b[0m             \u001b[0mstorage_options\u001b[0m\u001b[0;34m=\u001b[0m\u001b[0mkwds\u001b[0m\u001b[0;34m.\u001b[0m\u001b[0mget\u001b[0m\u001b[0;34m(\u001b[0m\u001b[0;34m\"storage_options\"\u001b[0m\u001b[0;34m,\u001b[0m \u001b[0;32mNone\u001b[0m\u001b[0;34m)\u001b[0m\u001b[0;34m,\u001b[0m\u001b[0;34m\u001b[0m\u001b[0;34m\u001b[0m\u001b[0m\n\u001b[0;32m--> 229\u001b[0;31m             \u001b[0merrors\u001b[0m\u001b[0;34m=\u001b[0m\u001b[0mkwds\u001b[0m\u001b[0;34m.\u001b[0m\u001b[0mget\u001b[0m\u001b[0;34m(\u001b[0m\u001b[0;34m\"encoding_errors\"\u001b[0m\u001b[0;34m,\u001b[0m \u001b[0;34m\"strict\"\u001b[0m\u001b[0;34m)\u001b[0m\u001b[0;34m,\u001b[0m\u001b[0;34m\u001b[0m\u001b[0;34m\u001b[0m\u001b[0m\n\u001b[0m\u001b[1;32m    230\u001b[0m         )\n\u001b[1;32m    231\u001b[0m \u001b[0;34m\u001b[0m\u001b[0m\n",
      "\u001b[0;32m~/opt/anaconda3/lib/python3.7/site-packages/pandas/io/common.py\u001b[0m in \u001b[0;36mget_handle\u001b[0;34m(path_or_buf, mode, encoding, compression, memory_map, is_text, errors, storage_options)\u001b[0m\n\u001b[1;32m    705\u001b[0m                 \u001b[0mencoding\u001b[0m\u001b[0;34m=\u001b[0m\u001b[0mioargs\u001b[0m\u001b[0;34m.\u001b[0m\u001b[0mencoding\u001b[0m\u001b[0;34m,\u001b[0m\u001b[0;34m\u001b[0m\u001b[0;34m\u001b[0m\u001b[0m\n\u001b[1;32m    706\u001b[0m                 \u001b[0merrors\u001b[0m\u001b[0;34m=\u001b[0m\u001b[0merrors\u001b[0m\u001b[0;34m,\u001b[0m\u001b[0;34m\u001b[0m\u001b[0;34m\u001b[0m\u001b[0m\n\u001b[0;32m--> 707\u001b[0;31m                 \u001b[0mnewline\u001b[0m\u001b[0;34m=\u001b[0m\u001b[0;34m\"\"\u001b[0m\u001b[0;34m,\u001b[0m\u001b[0;34m\u001b[0m\u001b[0;34m\u001b[0m\u001b[0m\n\u001b[0m\u001b[1;32m    708\u001b[0m             )\n\u001b[1;32m    709\u001b[0m         \u001b[0;32melse\u001b[0m\u001b[0;34m:\u001b[0m\u001b[0;34m\u001b[0m\u001b[0;34m\u001b[0m\u001b[0m\n",
      "\u001b[0;31mFileNotFoundError\u001b[0m: [Errno 2] No such file or directory: 'mnist_data/train.csv'"
     ]
    }
   ],
   "source": [
    "# 데이콘 사이트에서 다운로드한 CSV파일을 읽어오기\n",
    "# drive_path = \"/gdrive/My Drive/\"\n",
    "train = pd.read_csv(\"mnist_data/train.csv\")\n",
    "test = pd.read_csv(\"mnist_data/test.csv\")\n",
    "\n",
    "print(train.shape, test.shape, submission.shape)   "
   ]
  },
  {
   "cell_type": "code",
   "execution_count": null,
   "metadata": {
    "colab": {
     "base_uri": "https://localhost:8080/",
     "height": 244
    },
    "executionInfo": {
     "elapsed": 8650,
     "status": "ok",
     "timestamp": 1603940007248,
     "user": {
      "displayName": "오승환",
      "photoUrl": "https://lh3.googleusercontent.com/a-/AOh14GgBRB1w8bMEGhEpsp7aa7I9MQGz2D37o6hJeKeW=s64",
      "userId": "00933700884551564729"
     },
     "user_tz": -540
    },
    "id": "Ntt_NcCVHFgp",
    "outputId": "7a6d51c3-2064-40a3-9082-a17b9afa4514"
   },
   "outputs": [
    {
     "data": {
      "text/html": [
       "<div>\n",
       "<style scoped>\n",
       "    .dataframe tbody tr th:only-of-type {\n",
       "        vertical-align: middle;\n",
       "    }\n",
       "\n",
       "    .dataframe tbody tr th {\n",
       "        vertical-align: top;\n",
       "    }\n",
       "\n",
       "    .dataframe thead th {\n",
       "        text-align: right;\n",
       "    }\n",
       "</style>\n",
       "<table border=\"1\" class=\"dataframe\">\n",
       "  <thead>\n",
       "    <tr style=\"text-align: right;\">\n",
       "      <th></th>\n",
       "      <th>index</th>\n",
       "      <th>label</th>\n",
       "      <th>pixel1</th>\n",
       "      <th>pixel2</th>\n",
       "      <th>pixel3</th>\n",
       "      <th>pixel4</th>\n",
       "      <th>pixel5</th>\n",
       "      <th>pixel6</th>\n",
       "      <th>pixel7</th>\n",
       "      <th>pixel8</th>\n",
       "      <th>pixel9</th>\n",
       "      <th>pixel10</th>\n",
       "      <th>pixel11</th>\n",
       "      <th>pixel12</th>\n",
       "      <th>pixel13</th>\n",
       "      <th>pixel14</th>\n",
       "      <th>pixel15</th>\n",
       "      <th>pixel16</th>\n",
       "      <th>pixel17</th>\n",
       "      <th>pixel18</th>\n",
       "      <th>pixel19</th>\n",
       "      <th>pixel20</th>\n",
       "      <th>pixel21</th>\n",
       "      <th>pixel22</th>\n",
       "      <th>pixel23</th>\n",
       "      <th>pixel24</th>\n",
       "      <th>pixel25</th>\n",
       "      <th>pixel26</th>\n",
       "      <th>pixel27</th>\n",
       "      <th>pixel28</th>\n",
       "      <th>pixel29</th>\n",
       "      <th>pixel30</th>\n",
       "      <th>pixel31</th>\n",
       "      <th>pixel32</th>\n",
       "      <th>pixel33</th>\n",
       "      <th>pixel34</th>\n",
       "      <th>pixel35</th>\n",
       "      <th>pixel36</th>\n",
       "      <th>pixel37</th>\n",
       "      <th>pixel38</th>\n",
       "      <th>...</th>\n",
       "      <th>pixel745</th>\n",
       "      <th>pixel746</th>\n",
       "      <th>pixel747</th>\n",
       "      <th>pixel748</th>\n",
       "      <th>pixel749</th>\n",
       "      <th>pixel750</th>\n",
       "      <th>pixel751</th>\n",
       "      <th>pixel752</th>\n",
       "      <th>pixel753</th>\n",
       "      <th>pixel754</th>\n",
       "      <th>pixel755</th>\n",
       "      <th>pixel756</th>\n",
       "      <th>pixel757</th>\n",
       "      <th>pixel758</th>\n",
       "      <th>pixel759</th>\n",
       "      <th>pixel760</th>\n",
       "      <th>pixel761</th>\n",
       "      <th>pixel762</th>\n",
       "      <th>pixel763</th>\n",
       "      <th>pixel764</th>\n",
       "      <th>pixel765</th>\n",
       "      <th>pixel766</th>\n",
       "      <th>pixel767</th>\n",
       "      <th>pixel768</th>\n",
       "      <th>pixel769</th>\n",
       "      <th>pixel770</th>\n",
       "      <th>pixel771</th>\n",
       "      <th>pixel772</th>\n",
       "      <th>pixel773</th>\n",
       "      <th>pixel774</th>\n",
       "      <th>pixel775</th>\n",
       "      <th>pixel776</th>\n",
       "      <th>pixel777</th>\n",
       "      <th>pixel778</th>\n",
       "      <th>pixel779</th>\n",
       "      <th>pixel780</th>\n",
       "      <th>pixel781</th>\n",
       "      <th>pixel782</th>\n",
       "      <th>pixel783</th>\n",
       "      <th>pixel784</th>\n",
       "    </tr>\n",
       "  </thead>\n",
       "  <tbody>\n",
       "    <tr>\n",
       "      <th>0</th>\n",
       "      <td>0</td>\n",
       "      <td>2</td>\n",
       "      <td>0</td>\n",
       "      <td>0</td>\n",
       "      <td>0</td>\n",
       "      <td>0</td>\n",
       "      <td>0</td>\n",
       "      <td>0</td>\n",
       "      <td>0</td>\n",
       "      <td>0</td>\n",
       "      <td>0</td>\n",
       "      <td>0</td>\n",
       "      <td>0</td>\n",
       "      <td>0</td>\n",
       "      <td>0</td>\n",
       "      <td>0</td>\n",
       "      <td>0</td>\n",
       "      <td>0</td>\n",
       "      <td>0</td>\n",
       "      <td>0</td>\n",
       "      <td>0</td>\n",
       "      <td>0</td>\n",
       "      <td>0</td>\n",
       "      <td>0</td>\n",
       "      <td>0</td>\n",
       "      <td>0</td>\n",
       "      <td>0</td>\n",
       "      <td>0</td>\n",
       "      <td>0</td>\n",
       "      <td>0</td>\n",
       "      <td>0</td>\n",
       "      <td>0</td>\n",
       "      <td>0</td>\n",
       "      <td>0</td>\n",
       "      <td>0</td>\n",
       "      <td>0</td>\n",
       "      <td>0</td>\n",
       "      <td>0</td>\n",
       "      <td>0</td>\n",
       "      <td>0</td>\n",
       "      <td>...</td>\n",
       "      <td>0</td>\n",
       "      <td>0</td>\n",
       "      <td>0</td>\n",
       "      <td>0</td>\n",
       "      <td>0</td>\n",
       "      <td>0</td>\n",
       "      <td>0</td>\n",
       "      <td>0</td>\n",
       "      <td>0</td>\n",
       "      <td>0</td>\n",
       "      <td>0</td>\n",
       "      <td>0</td>\n",
       "      <td>0</td>\n",
       "      <td>0</td>\n",
       "      <td>0</td>\n",
       "      <td>0</td>\n",
       "      <td>0</td>\n",
       "      <td>0</td>\n",
       "      <td>0</td>\n",
       "      <td>0</td>\n",
       "      <td>0</td>\n",
       "      <td>0</td>\n",
       "      <td>0</td>\n",
       "      <td>0</td>\n",
       "      <td>0</td>\n",
       "      <td>0</td>\n",
       "      <td>0</td>\n",
       "      <td>0</td>\n",
       "      <td>0</td>\n",
       "      <td>0</td>\n",
       "      <td>0</td>\n",
       "      <td>0</td>\n",
       "      <td>0</td>\n",
       "      <td>0</td>\n",
       "      <td>0</td>\n",
       "      <td>0</td>\n",
       "      <td>0</td>\n",
       "      <td>0</td>\n",
       "      <td>0</td>\n",
       "      <td>0</td>\n",
       "    </tr>\n",
       "    <tr>\n",
       "      <th>1</th>\n",
       "      <td>1</td>\n",
       "      <td>9</td>\n",
       "      <td>0</td>\n",
       "      <td>0</td>\n",
       "      <td>0</td>\n",
       "      <td>0</td>\n",
       "      <td>0</td>\n",
       "      <td>0</td>\n",
       "      <td>0</td>\n",
       "      <td>0</td>\n",
       "      <td>0</td>\n",
       "      <td>0</td>\n",
       "      <td>0</td>\n",
       "      <td>0</td>\n",
       "      <td>0</td>\n",
       "      <td>0</td>\n",
       "      <td>0</td>\n",
       "      <td>0</td>\n",
       "      <td>0</td>\n",
       "      <td>0</td>\n",
       "      <td>0</td>\n",
       "      <td>0</td>\n",
       "      <td>0</td>\n",
       "      <td>0</td>\n",
       "      <td>0</td>\n",
       "      <td>0</td>\n",
       "      <td>0</td>\n",
       "      <td>0</td>\n",
       "      <td>0</td>\n",
       "      <td>0</td>\n",
       "      <td>0</td>\n",
       "      <td>0</td>\n",
       "      <td>0</td>\n",
       "      <td>0</td>\n",
       "      <td>0</td>\n",
       "      <td>0</td>\n",
       "      <td>0</td>\n",
       "      <td>0</td>\n",
       "      <td>0</td>\n",
       "      <td>0</td>\n",
       "      <td>...</td>\n",
       "      <td>0</td>\n",
       "      <td>0</td>\n",
       "      <td>0</td>\n",
       "      <td>0</td>\n",
       "      <td>0</td>\n",
       "      <td>0</td>\n",
       "      <td>0</td>\n",
       "      <td>0</td>\n",
       "      <td>0</td>\n",
       "      <td>0</td>\n",
       "      <td>0</td>\n",
       "      <td>0</td>\n",
       "      <td>0</td>\n",
       "      <td>0</td>\n",
       "      <td>0</td>\n",
       "      <td>0</td>\n",
       "      <td>0</td>\n",
       "      <td>0</td>\n",
       "      <td>0</td>\n",
       "      <td>0</td>\n",
       "      <td>0</td>\n",
       "      <td>0</td>\n",
       "      <td>0</td>\n",
       "      <td>0</td>\n",
       "      <td>0</td>\n",
       "      <td>0</td>\n",
       "      <td>0</td>\n",
       "      <td>0</td>\n",
       "      <td>0</td>\n",
       "      <td>0</td>\n",
       "      <td>0</td>\n",
       "      <td>0</td>\n",
       "      <td>0</td>\n",
       "      <td>0</td>\n",
       "      <td>0</td>\n",
       "      <td>0</td>\n",
       "      <td>0</td>\n",
       "      <td>0</td>\n",
       "      <td>0</td>\n",
       "      <td>0</td>\n",
       "    </tr>\n",
       "    <tr>\n",
       "      <th>2</th>\n",
       "      <td>2</td>\n",
       "      <td>6</td>\n",
       "      <td>0</td>\n",
       "      <td>0</td>\n",
       "      <td>0</td>\n",
       "      <td>0</td>\n",
       "      <td>0</td>\n",
       "      <td>0</td>\n",
       "      <td>0</td>\n",
       "      <td>5</td>\n",
       "      <td>0</td>\n",
       "      <td>0</td>\n",
       "      <td>0</td>\n",
       "      <td>105</td>\n",
       "      <td>92</td>\n",
       "      <td>101</td>\n",
       "      <td>107</td>\n",
       "      <td>100</td>\n",
       "      <td>132</td>\n",
       "      <td>0</td>\n",
       "      <td>0</td>\n",
       "      <td>2</td>\n",
       "      <td>4</td>\n",
       "      <td>0</td>\n",
       "      <td>1</td>\n",
       "      <td>0</td>\n",
       "      <td>0</td>\n",
       "      <td>0</td>\n",
       "      <td>0</td>\n",
       "      <td>0</td>\n",
       "      <td>0</td>\n",
       "      <td>0</td>\n",
       "      <td>0</td>\n",
       "      <td>0</td>\n",
       "      <td>0</td>\n",
       "      <td>0</td>\n",
       "      <td>0</td>\n",
       "      <td>0</td>\n",
       "      <td>0</td>\n",
       "      <td>0</td>\n",
       "      <td>...</td>\n",
       "      <td>211</td>\n",
       "      <td>220</td>\n",
       "      <td>214</td>\n",
       "      <td>74</td>\n",
       "      <td>0</td>\n",
       "      <td>255</td>\n",
       "      <td>222</td>\n",
       "      <td>128</td>\n",
       "      <td>0</td>\n",
       "      <td>0</td>\n",
       "      <td>0</td>\n",
       "      <td>0</td>\n",
       "      <td>0</td>\n",
       "      <td>0</td>\n",
       "      <td>0</td>\n",
       "      <td>0</td>\n",
       "      <td>0</td>\n",
       "      <td>44</td>\n",
       "      <td>12</td>\n",
       "      <td>0</td>\n",
       "      <td>0</td>\n",
       "      <td>40</td>\n",
       "      <td>134</td>\n",
       "      <td>162</td>\n",
       "      <td>191</td>\n",
       "      <td>214</td>\n",
       "      <td>163</td>\n",
       "      <td>146</td>\n",
       "      <td>165</td>\n",
       "      <td>79</td>\n",
       "      <td>0</td>\n",
       "      <td>0</td>\n",
       "      <td>0</td>\n",
       "      <td>30</td>\n",
       "      <td>43</td>\n",
       "      <td>0</td>\n",
       "      <td>0</td>\n",
       "      <td>0</td>\n",
       "      <td>0</td>\n",
       "      <td>0</td>\n",
       "    </tr>\n",
       "    <tr>\n",
       "      <th>3</th>\n",
       "      <td>3</td>\n",
       "      <td>0</td>\n",
       "      <td>0</td>\n",
       "      <td>0</td>\n",
       "      <td>0</td>\n",
       "      <td>1</td>\n",
       "      <td>2</td>\n",
       "      <td>0</td>\n",
       "      <td>0</td>\n",
       "      <td>0</td>\n",
       "      <td>0</td>\n",
       "      <td>0</td>\n",
       "      <td>114</td>\n",
       "      <td>183</td>\n",
       "      <td>112</td>\n",
       "      <td>55</td>\n",
       "      <td>23</td>\n",
       "      <td>72</td>\n",
       "      <td>102</td>\n",
       "      <td>165</td>\n",
       "      <td>160</td>\n",
       "      <td>28</td>\n",
       "      <td>0</td>\n",
       "      <td>0</td>\n",
       "      <td>0</td>\n",
       "      <td>1</td>\n",
       "      <td>0</td>\n",
       "      <td>0</td>\n",
       "      <td>0</td>\n",
       "      <td>0</td>\n",
       "      <td>0</td>\n",
       "      <td>0</td>\n",
       "      <td>0</td>\n",
       "      <td>0</td>\n",
       "      <td>1</td>\n",
       "      <td>0</td>\n",
       "      <td>0</td>\n",
       "      <td>24</td>\n",
       "      <td>188</td>\n",
       "      <td>163</td>\n",
       "      <td>...</td>\n",
       "      <td>171</td>\n",
       "      <td>249</td>\n",
       "      <td>207</td>\n",
       "      <td>197</td>\n",
       "      <td>202</td>\n",
       "      <td>45</td>\n",
       "      <td>0</td>\n",
       "      <td>3</td>\n",
       "      <td>0</td>\n",
       "      <td>0</td>\n",
       "      <td>0</td>\n",
       "      <td>0</td>\n",
       "      <td>0</td>\n",
       "      <td>0</td>\n",
       "      <td>0</td>\n",
       "      <td>0</td>\n",
       "      <td>0</td>\n",
       "      <td>0</td>\n",
       "      <td>1</td>\n",
       "      <td>0</td>\n",
       "      <td>0</td>\n",
       "      <td>0</td>\n",
       "      <td>22</td>\n",
       "      <td>21</td>\n",
       "      <td>25</td>\n",
       "      <td>69</td>\n",
       "      <td>52</td>\n",
       "      <td>45</td>\n",
       "      <td>74</td>\n",
       "      <td>39</td>\n",
       "      <td>3</td>\n",
       "      <td>0</td>\n",
       "      <td>0</td>\n",
       "      <td>0</td>\n",
       "      <td>0</td>\n",
       "      <td>1</td>\n",
       "      <td>0</td>\n",
       "      <td>0</td>\n",
       "      <td>0</td>\n",
       "      <td>0</td>\n",
       "    </tr>\n",
       "    <tr>\n",
       "      <th>4</th>\n",
       "      <td>4</td>\n",
       "      <td>3</td>\n",
       "      <td>0</td>\n",
       "      <td>0</td>\n",
       "      <td>0</td>\n",
       "      <td>0</td>\n",
       "      <td>0</td>\n",
       "      <td>0</td>\n",
       "      <td>0</td>\n",
       "      <td>0</td>\n",
       "      <td>0</td>\n",
       "      <td>0</td>\n",
       "      <td>0</td>\n",
       "      <td>0</td>\n",
       "      <td>46</td>\n",
       "      <td>0</td>\n",
       "      <td>21</td>\n",
       "      <td>68</td>\n",
       "      <td>0</td>\n",
       "      <td>0</td>\n",
       "      <td>0</td>\n",
       "      <td>0</td>\n",
       "      <td>0</td>\n",
       "      <td>0</td>\n",
       "      <td>0</td>\n",
       "      <td>0</td>\n",
       "      <td>0</td>\n",
       "      <td>0</td>\n",
       "      <td>0</td>\n",
       "      <td>0</td>\n",
       "      <td>0</td>\n",
       "      <td>0</td>\n",
       "      <td>0</td>\n",
       "      <td>0</td>\n",
       "      <td>0</td>\n",
       "      <td>0</td>\n",
       "      <td>0</td>\n",
       "      <td>0</td>\n",
       "      <td>25</td>\n",
       "      <td>187</td>\n",
       "      <td>...</td>\n",
       "      <td>230</td>\n",
       "      <td>237</td>\n",
       "      <td>229</td>\n",
       "      <td>0</td>\n",
       "      <td>0</td>\n",
       "      <td>1</td>\n",
       "      <td>0</td>\n",
       "      <td>0</td>\n",
       "      <td>0</td>\n",
       "      <td>0</td>\n",
       "      <td>0</td>\n",
       "      <td>0</td>\n",
       "      <td>0</td>\n",
       "      <td>0</td>\n",
       "      <td>0</td>\n",
       "      <td>0</td>\n",
       "      <td>0</td>\n",
       "      <td>0</td>\n",
       "      <td>0</td>\n",
       "      <td>0</td>\n",
       "      <td>0</td>\n",
       "      <td>68</td>\n",
       "      <td>116</td>\n",
       "      <td>112</td>\n",
       "      <td>136</td>\n",
       "      <td>147</td>\n",
       "      <td>144</td>\n",
       "      <td>121</td>\n",
       "      <td>102</td>\n",
       "      <td>63</td>\n",
       "      <td>0</td>\n",
       "      <td>0</td>\n",
       "      <td>0</td>\n",
       "      <td>0</td>\n",
       "      <td>0</td>\n",
       "      <td>0</td>\n",
       "      <td>0</td>\n",
       "      <td>0</td>\n",
       "      <td>0</td>\n",
       "      <td>0</td>\n",
       "    </tr>\n",
       "  </tbody>\n",
       "</table>\n",
       "<p>5 rows × 786 columns</p>\n",
       "</div>"
      ],
      "text/plain": [
       "   index  label  pixel1  pixel2  ...  pixel781  pixel782  pixel783  pixel784\n",
       "0      0      2       0       0  ...         0         0         0         0\n",
       "1      1      9       0       0  ...         0         0         0         0\n",
       "2      2      6       0       0  ...         0         0         0         0\n",
       "3      3      0       0       0  ...         0         0         0         0\n",
       "4      4      3       0       0  ...         0         0         0         0\n",
       "\n",
       "[5 rows x 786 columns]"
      ]
     },
     "execution_count": 3,
     "metadata": {
      "tags": []
     },
     "output_type": "execute_result"
    }
   ],
   "source": [
    "# train 데이터 보기\n",
    "train.head()"
   ]
  },
  {
   "cell_type": "code",
   "execution_count": null,
   "metadata": {
    "colab": {
     "base_uri": "https://localhost:8080/"
    },
    "executionInfo": {
     "elapsed": 5995,
     "status": "ok",
     "timestamp": 1603940007249,
     "user": {
      "displayName": "오승환",
      "photoUrl": "https://lh3.googleusercontent.com/a-/AOh14GgBRB1w8bMEGhEpsp7aa7I9MQGz2D37o6hJeKeW=s64",
      "userId": "00933700884551564729"
     },
     "user_tz": -540
    },
    "id": "dqRI05fLHZ40",
    "outputId": "9ec1d330-b0bd-4dcc-e41c-2c6b0292c28c"
   },
   "outputs": [
    {
     "data": {
      "text/plain": [
       "(60000, 28, 28)"
      ]
     },
     "execution_count": 4,
     "metadata": {
      "tags": []
     },
     "output_type": "execute_result"
    }
   ],
   "source": [
    "# train 데이터를 28*28 이미지로 변환\n",
    "train_images = train.loc[:, 'pixel1':].values.reshape(-1, 28, 28)\n",
    "train_images.shape"
   ]
  },
  {
   "cell_type": "code",
   "execution_count": null,
   "metadata": {
    "colab": {
     "base_uri": "https://localhost:8080/",
     "height": 265
    },
    "executionInfo": {
     "elapsed": 974,
     "status": "ok",
     "timestamp": 1603940107547,
     "user": {
      "displayName": "오승환",
      "photoUrl": "https://lh3.googleusercontent.com/a-/AOh14GgBRB1w8bMEGhEpsp7aa7I9MQGz2D37o6hJeKeW=s64",
      "userId": "00933700884551564729"
     },
     "user_tz": -540
    },
    "id": "BOWBUofPFMZA",
    "outputId": "8b287416-57c2-45c2-bdda-a3e5afa587b2"
   },
   "outputs": [
    {
     "data": {
      "image/png": "[encoded data removed]",
      "text/plain": [
       "<Figure size 432x288 with 1 Axes>"
      ]
     },
     "metadata": {
      "needs_background": "light",
      "tags": []
     },
     "output_type": "display_data"
    }
   ],
   "source": [
    "# 첫번째 이미지 출력\n",
    "import matplotlib.pyplot as plt\n",
    "plt.imshow(train_images[0]);"
   ]
  },
  {
   "cell_type": "code",
   "execution_count": null,
   "metadata": {
    "colab": {
     "base_uri": "https://localhost:8080/"
    },
    "executionInfo": {
     "elapsed": 8309,
     "status": "ok",
     "timestamp": 1603936615024,
     "user": {
      "displayName": "오승환",
      "photoUrl": "https://lh3.googleusercontent.com/a-/AOh14GgBRB1w8bMEGhEpsp7aa7I9MQGz2D37o6hJeKeW=s64",
      "userId": "00933700884551564729"
     },
     "user_tz": -540
    },
    "id": "Z4h0Q0adJSOW",
    "outputId": "664ff381-e14e-4999-f09b-e5b352cc6bac"
   },
   "outputs": [
    {
     "data": {
      "text/plain": [
       "array([2, 9, 6, 0, 3, 4, 5, 8, 7, 1])"
      ]
     },
     "execution_count": 6,
     "metadata": {
      "tags": []
     },
     "output_type": "execute_result"
    }
   ],
   "source": [
    "# 목표 레이블 \n",
    "y_train = train.loc[:, 'label']\n",
    "y_train.unique()"
   ]
  },
  {
   "cell_type": "code",
   "execution_count": null,
   "metadata": {
    "colab": {
     "base_uri": "https://localhost:8080/"
    },
    "executionInfo": {
     "elapsed": 7844,
     "status": "ok",
     "timestamp": 1603936615025,
     "user": {
      "displayName": "오승환",
      "photoUrl": "https://lh3.googleusercontent.com/a-/AOh14GgBRB1w8bMEGhEpsp7aa7I9MQGz2D37o6hJeKeW=s64",
      "userId": "00933700884551564729"
     },
     "user_tz": -540
    },
    "id": "Qi-v-PSZJyY8",
    "outputId": "4bdef28c-472d-4cbf-b2d7-c502fc2a92f7"
   },
   "outputs": [
    {
     "name": "stdout",
     "output_type": "stream",
     "text": [
      "2\n",
      "Pullover\n"
     ]
    }
   ],
   "source": [
    "# 숫자 레이블을 실제 레이블과 연결하여 확인\n",
    "target_values = {0 : 'T-shirt/top', \n",
    "                 1 : 'Trouser', \n",
    "                 2: 'Pullover', \n",
    "                 3: 'Dress', \n",
    "                 4: 'Coat', \n",
    "                 5: 'Sandal', \n",
    "                 6: 'Shirt', \n",
    "                 7: 'Sneaker', \n",
    "                 8: 'Bag', \n",
    "                 9: 'Ankle boot'}\n",
    "print(y_train[0])\n",
    "print(target_values[y_train[0]])"
   ]
  },
  {
   "cell_type": "code",
   "execution_count": null,
   "metadata": {
    "colab": {
     "base_uri": "https://localhost:8080/"
    },
    "executionInfo": {
     "elapsed": 5750,
     "status": "ok",
     "timestamp": 1603936615026,
     "user": {
      "displayName": "오승환",
      "photoUrl": "https://lh3.googleusercontent.com/a-/AOh14GgBRB1w8bMEGhEpsp7aa7I9MQGz2D37o6hJeKeW=s64",
      "userId": "00933700884551564729"
     },
     "user_tz": -540
    },
    "id": "hox4B8bfKFfe",
    "outputId": "dc64c596-e530-4d87-986a-91cfa5fc613f"
   },
   "outputs": [
    {
     "data": {
      "text/plain": [
       "(10000, 28, 28)"
      ]
     },
     "execution_count": 8,
     "metadata": {
      "tags": []
     },
     "output_type": "execute_result"
    }
   ],
   "source": [
    "# test 데이터를 28*28 이미지로 변환\n",
    "test_images = test.loc[:, 'pixel1':].values.reshape(-1, 28, 28)\n",
    "test_images.shape"
   ]
  },
  {
   "cell_type": "code",
   "execution_count": null,
   "metadata": {
    "colab": {
     "base_uri": "https://localhost:8080/",
     "height": 265
    },
    "executionInfo": {
     "elapsed": 5257,
     "status": "ok",
     "timestamp": 1603936615026,
     "user": {
      "displayName": "오승환",
      "photoUrl": "https://lh3.googleusercontent.com/a-/AOh14GgBRB1w8bMEGhEpsp7aa7I9MQGz2D37o6hJeKeW=s64",
      "userId": "00933700884551564729"
     },
     "user_tz": -540
    },
    "id": "lVdm6w0CFMfr",
    "outputId": "af68903c-0eec-402c-c831-d2fedf6b5fd6"
   },
   "outputs": [
    {
     "data": {
      "image/png": "[encoded data removed]",
      "text/plain": [
       "<Figure size 432x288 with 1 Axes>"
      ]
     },
     "metadata": {
      "needs_background": "light",
      "tags": []
     },
     "output_type": "display_data"
    }
   ],
   "source": [
    "# 500번째 test 이미지를 출력\n",
    "plt.imshow(test_images[499]);"
   ]
  },
  {
   "cell_type": "markdown",
   "metadata": {
    "id": "FGwnD0-kjn_-"
   },
   "source": [
    "# 2. 데이터 전처리 (Pre-processing)"
   ]
  },
  {
   "cell_type": "code",
   "execution_count": null,
   "metadata": {
    "colab": {
     "base_uri": "https://localhost:8080/"
    },
    "executionInfo": {
     "elapsed": 2365,
     "status": "ok",
     "timestamp": 1603936615027,
     "user": {
      "displayName": "오승환",
      "photoUrl": "https://lh3.googleusercontent.com/a-/AOh14GgBRB1w8bMEGhEpsp7aa7I9MQGz2D37o6hJeKeW=s64",
      "userId": "00933700884551564729"
     },
     "user_tz": -540
    },
    "id": "ZWqn0jN_aPmh",
    "outputId": "55cf9de4-0b1c-43bb-b5f6-b2ab234937b4"
   },
   "outputs": [
    {
     "name": "stdout",
     "output_type": "stream",
     "text": [
      "최소값: 0.0\n",
      "최대값: 1.0\n"
     ]
    }
   ],
   "source": [
    "# 피처 스케일 맞추기 \n",
    "X_train = train_images / 255.\n",
    "X_test = test_images / 255.\n",
    "print(\"최소값:\", X_train[0].min())\n",
    "print(\"최대값:\", X_train[0].max())"
   ]
  },
  {
   "cell_type": "code",
   "execution_count": null,
   "metadata": {
    "colab": {
     "base_uri": "https://localhost:8080/"
    },
    "executionInfo": {
     "elapsed": 2359,
     "status": "ok",
     "timestamp": 1603936615382,
     "user": {
      "displayName": "오승환",
      "photoUrl": "https://lh3.googleusercontent.com/a-/AOh14GgBRB1w8bMEGhEpsp7aa7I9MQGz2D37o6hJeKeW=s64",
      "userId": "00933700884551564729"
     },
     "user_tz": -540
    },
    "id": "l_cRklwzL1sG",
    "outputId": "328058ee-b959-42fc-c289-021b3c45b6f7"
   },
   "outputs": [
    {
     "name": "stdout",
     "output_type": "stream",
     "text": [
      "변환 전: (60000, 28, 28) (10000, 28, 28)\n",
      "변환 후: (60000, 28, 28, 1) (10000, 28, 28, 1)\n"
     ]
    }
   ],
   "source": [
    "# 채널 차원 추가\n",
    "print(\"변환 전:\", X_train.shape, X_test.shape)\n",
    "X_train = np.expand_dims(X_train, axis=-1)\n",
    "X_test = np.expand_dims(X_test, axis=-1)\n",
    "print(\"변환 후:\", X_train.shape, X_test.shape)"
   ]
  },
  {
   "cell_type": "code",
   "execution_count": null,
   "metadata": {
    "colab": {
     "base_uri": "https://localhost:8080/"
    },
    "executionInfo": {
     "elapsed": 3432,
     "status": "ok",
     "timestamp": 1603936619476,
     "user": {
      "displayName": "오승환",
      "photoUrl": "https://lh3.googleusercontent.com/a-/AOh14GgBRB1w8bMEGhEpsp7aa7I9MQGz2D37o6hJeKeW=s64",
      "userId": "00933700884551564729"
     },
     "user_tz": -540
    },
    "id": "4vCfErAi1oki",
    "outputId": "a322b743-5037-49f6-b2ed-27d92542b99e"
   },
   "outputs": [
    {
     "name": "stdout",
     "output_type": "stream",
     "text": [
      "학습 데이터셋 크기:  (48000, 28, 28, 1) (48000,)\n",
      "검증 데이터셋 크기:  (12000, 28, 28, 1) (12000,)\n"
     ]
    }
   ],
   "source": [
    "# Train - Validation 데이터 구분\n",
    "from sklearn.model_selection import train_test_split\n",
    "X_tr, X_val, y_tr, y_val =  train_test_split(X_train, y_train, test_size=0.2, \n",
    "                                             stratify=y_train, \n",
    "                                             shuffle=True, random_state=SEED)\n",
    "print(\"학습 데이터셋 크기: \", X_tr.shape, y_tr.shape)\n",
    "print(\"검증 데이터셋 크기: \", X_val.shape, y_val.shape)"
   ]
  },
  {
   "cell_type": "markdown",
   "metadata": {
    "id": "hvs4iBdRmmos"
   },
   "source": [
    "# 3. 모델 구축"
   ]
  },
  {
   "cell_type": "markdown",
   "metadata": {
    "id": "3b6kdCByTYRh"
   },
   "source": [
    "### MLP 모델"
   ]
  },
  {
   "cell_type": "code",
   "execution_count": null,
   "metadata": {
    "colab": {
     "base_uri": "https://localhost:8080/"
    },
    "executionInfo": {
     "elapsed": 7056,
     "status": "ok",
     "timestamp": 1603936640199,
     "user": {
      "displayName": "오승환",
      "photoUrl": "https://lh3.googleusercontent.com/a-/AOh14GgBRB1w8bMEGhEpsp7aa7I9MQGz2D37o6hJeKeW=s64",
      "userId": "00933700884551564729"
     },
     "user_tz": -540
    },
    "id": "3dxJ3fF5TbI3",
    "outputId": "768efeab-e396-432a-c83d-1396f33eacba"
   },
   "outputs": [
    {
     "name": "stdout",
     "output_type": "stream",
     "text": [
      "Model: \"sequential\"\n",
      "_________________________________________________________________\n",
      "Layer (type)                 Output Shape              Param #   \n",
      "=================================================================\n",
      "flatten (Flatten)            (None, 784)               0         \n",
      "_________________________________________________________________\n",
      "dense (Dense)                (None, 64)                50240     \n",
      "_________________________________________________________________\n",
      "dense_1 (Dense)              (None, 10)                650       \n",
      "=================================================================\n",
      "Total params: 50,890\n",
      "Trainable params: 50,890\n",
      "Non-trainable params: 0\n",
      "_________________________________________________________________\n"
     ]
    }
   ],
   "source": [
    "from tensorflow.keras.models import Sequential\n",
    "from tensorflow.keras.layers import Flatten, Dense\n",
    "mlp_model = Sequential()\n",
    "mlp_model.add(Flatten(input_shape=[28, 28]))\n",
    "mlp_model.add(Dense(units=64, activation='relu'))\n",
    "mlp_model.add(Dense(units=10, activation='softmax'))\n",
    "\n",
    "mlp_model.compile(optimizer='adam', \n",
    "                  loss='sparse_categorical_crossentropy', \n",
    "                  metrics=['acc'])\n",
    "\n",
    "mlp_model.summary()"
   ]
  },
  {
   "cell_type": "code",
   "execution_count": null,
   "metadata": {
    "colab": {
     "base_uri": "https://localhost:8080/"
    },
    "executionInfo": {
     "elapsed": 32803,
     "status": "ok",
     "timestamp": 1603936897281,
     "user": {
      "displayName": "오승환",
      "photoUrl": "https://lh3.googleusercontent.com/a-/AOh14GgBRB1w8bMEGhEpsp7aa7I9MQGz2D37o6hJeKeW=s64",
      "userId": "00933700884551564729"
     },
     "user_tz": -540
    },
    "id": "_qmL6B11TxE6",
    "outputId": "48a30a56-e437-4e14-ce82-6c398a2134be"
   },
   "outputs": [
    {
     "name": "stdout",
     "output_type": "stream",
     "text": [
      "Epoch 1/20\n",
      "750/750 - 2s - loss: 0.5735 - acc: 0.8021 - val_loss: 0.4506 - val_acc: 0.8426\n",
      "Epoch 2/20\n",
      "750/750 - 1s - loss: 0.4224 - acc: 0.8495 - val_loss: 0.4086 - val_acc: 0.8578\n",
      "Epoch 3/20\n",
      "750/750 - 1s - loss: 0.3868 - acc: 0.8620 - val_loss: 0.3947 - val_acc: 0.8612\n",
      "Epoch 4/20\n",
      "750/750 - 1s - loss: 0.3618 - acc: 0.8704 - val_loss: 0.3895 - val_acc: 0.8607\n",
      "Epoch 5/20\n",
      "750/750 - 1s - loss: 0.3449 - acc: 0.8758 - val_loss: 0.3753 - val_acc: 0.8690\n",
      "Epoch 6/20\n",
      "750/750 - 1s - loss: 0.3283 - acc: 0.8806 - val_loss: 0.3484 - val_acc: 0.8783\n",
      "Epoch 7/20\n",
      "750/750 - 1s - loss: 0.3167 - acc: 0.8856 - val_loss: 0.3467 - val_acc: 0.8789\n",
      "Epoch 8/20\n",
      "750/750 - 1s - loss: 0.3049 - acc: 0.8901 - val_loss: 0.3495 - val_acc: 0.8737\n",
      "Epoch 9/20\n",
      "750/750 - 1s - loss: 0.2959 - acc: 0.8931 - val_loss: 0.3440 - val_acc: 0.8795\n",
      "Epoch 10/20\n",
      "750/750 - 1s - loss: 0.2889 - acc: 0.8949 - val_loss: 0.3762 - val_acc: 0.8717\n",
      "Epoch 11/20\n",
      "750/750 - 2s - loss: 0.2788 - acc: 0.8985 - val_loss: 0.3441 - val_acc: 0.8799\n",
      "Epoch 12/20\n",
      "750/750 - 1s - loss: 0.2732 - acc: 0.8997 - val_loss: 0.3443 - val_acc: 0.8783\n",
      "Epoch 13/20\n",
      "750/750 - 2s - loss: 0.2650 - acc: 0.9033 - val_loss: 0.3369 - val_acc: 0.8823\n",
      "Epoch 14/20\n",
      "750/750 - 1s - loss: 0.2579 - acc: 0.9069 - val_loss: 0.3298 - val_acc: 0.8851\n",
      "Epoch 15/20\n",
      "750/750 - 1s - loss: 0.2543 - acc: 0.9069 - val_loss: 0.3237 - val_acc: 0.8859\n",
      "Epoch 16/20\n",
      "750/750 - 1s - loss: 0.2468 - acc: 0.9093 - val_loss: 0.3275 - val_acc: 0.8863\n",
      "Epoch 17/20\n",
      "750/750 - 1s - loss: 0.2426 - acc: 0.9112 - val_loss: 0.3301 - val_acc: 0.8871\n",
      "Epoch 18/20\n",
      "750/750 - 1s - loss: 0.2371 - acc: 0.9140 - val_loss: 0.3484 - val_acc: 0.8809\n",
      "Epoch 19/20\n",
      "750/750 - 1s - loss: 0.2337 - acc: 0.9143 - val_loss: 0.3352 - val_acc: 0.8859\n",
      "Epoch 20/20\n",
      "750/750 - 1s - loss: 0.2275 - acc: 0.9166 - val_loss: 0.3562 - val_acc: 0.8795\n"
     ]
    }
   ],
   "source": [
    "mlp_history = mlp_model.fit(X_tr, y_tr, batch_size=64, epochs=20,\n",
    "                        validation_data=(X_val, y_val),\n",
    "                        verbose=2)"
   ]
  },
  {
   "cell_type": "code",
   "execution_count": null,
   "metadata": {
    "colab": {
     "base_uri": "https://localhost:8080/",
     "height": 334
    },
    "executionInfo": {
     "elapsed": 1018,
     "status": "ok",
     "timestamp": 1603936898315,
     "user": {
      "displayName": "오승환",
      "photoUrl": "https://lh3.googleusercontent.com/a-/AOh14GgBRB1w8bMEGhEpsp7aa7I9MQGz2D37o6hJeKeW=s64",
      "userId": "00933700884551564729"
     },
     "user_tz": -540
    },
    "id": "vPN7g4H5VVLn",
    "outputId": "33f25f63-e266-47ef-af1a-ba14e871057d"
   },
   "outputs": [
    {
     "data": {
      "image/png": "[encoded data removed]",
      "text/plain": [
       "<Figure size 360x360 with 1 Axes>"
      ]
     },
     "metadata": {
      "needs_background": "light",
      "tags": []
     },
     "output_type": "display_data"
    }
   ],
   "source": [
    "# 손실 함수 그래프\n",
    "def plot_loss_curve(history, total_epoch=10, start=1):\n",
    "    plt.figure(figsize=(5, 5))\n",
    "    plt.plot(range(start, total_epoch + 1), \n",
    "             history.history['loss'][start-1:total_epoch], \n",
    "             label='Train')\n",
    "    plt.plot(range(start, total_epoch + 1), \n",
    "             history.history['val_loss'][start-1:total_epoch], \n",
    "             label='Validation')\n",
    "    plt.xlabel('Epochs')\n",
    "    plt.ylabel('Loss')\n",
    "    plt.legend()\n",
    "    plt.show()\n",
    "\n",
    "plot_loss_curve(history=mlp_history, total_epoch=20, start=1)                   "
   ]
  },
  {
   "cell_type": "markdown",
   "metadata": {
    "id": "UcfQKW-m7CtZ"
   },
   "source": [
    "### CNN 활용"
   ]
  },
  {
   "cell_type": "code",
   "execution_count": null,
   "metadata": {
    "colab": {
     "base_uri": "https://localhost:8080/"
    },
    "executionInfo": {
     "elapsed": 1570,
     "status": "ok",
     "timestamp": 1603936907303,
     "user": {
      "displayName": "오승환",
      "photoUrl": "https://lh3.googleusercontent.com/a-/AOh14GgBRB1w8bMEGhEpsp7aa7I9MQGz2D37o6hJeKeW=s64",
      "userId": "00933700884551564729"
     },
     "user_tz": -540
    },
    "id": "64s7-Qw4FOK7",
    "outputId": "1cc630cb-514a-43c4-ddf3-322ffa708357"
   },
   "outputs": [
    {
     "name": "stdout",
     "output_type": "stream",
     "text": [
      "Model: \"sequential_1\"\n",
      "_________________________________________________________________\n",
      "Layer (type)                 Output Shape              Param #   \n",
      "=================================================================\n",
      "conv2d (Conv2D)              (None, 26, 26, 16)        160       \n",
      "_________________________________________________________________\n",
      "max_pooling2d (MaxPooling2D) (None, 13, 13, 16)        0         \n",
      "_________________________________________________________________\n",
      "flatten_1 (Flatten)          (None, 2704)              0         \n",
      "_________________________________________________________________\n",
      "dense_2 (Dense)              (None, 64)                173120    \n",
      "_________________________________________________________________\n",
      "dense_3 (Dense)              (None, 10)                650       \n",
      "=================================================================\n",
      "Total params: 173,930\n",
      "Trainable params: 173,930\n",
      "Non-trainable params: 0\n",
      "_________________________________________________________________\n"
     ]
    }
   ],
   "source": [
    "from tensorflow.keras.layers import Conv2D, MaxPooling2D\n",
    "cnn_model = Sequential()\n",
    "cnn_model.add(Conv2D(filters=16, kernel_size=(3, 3), \n",
    "                    activation='relu', input_shape=[28, 28, 1]))\n",
    "cnn_model.add(MaxPooling2D(pool_size=(2, 2)))\n",
    "cnn_model.add(Flatten())\n",
    "cnn_model.add(Dense(units=64, activation='relu'))\n",
    "cnn_model.add(Dense(units=10, activation='softmax'))\n",
    "\n",
    "cnn_model.compile(optimizer='adam', \n",
    "                  loss='sparse_categorical_crossentropy', \n",
    "                  metrics=['acc'])\n",
    "\n",
    "cnn_model.summary()"
   ]
  },
  {
   "cell_type": "code",
   "execution_count": null,
   "metadata": {
    "colab": {
     "base_uri": "https://localhost:8080/"
    },
    "executionInfo": {
     "elapsed": 41392,
     "status": "ok",
     "timestamp": 1603936954275,
     "user": {
      "displayName": "오승환",
      "photoUrl": "https://lh3.googleusercontent.com/a-/AOh14GgBRB1w8bMEGhEpsp7aa7I9MQGz2D37o6hJeKeW=s64",
      "userId": "00933700884551564729"
     },
     "user_tz": -540
    },
    "id": "8i1IRbYJFOfv",
    "outputId": "6d4c39af-c2b6-4394-c95b-250c3f97fcc6"
   },
   "outputs": [
    {
     "name": "stdout",
     "output_type": "stream",
     "text": [
      "Epoch 1/20\n",
      "750/750 - 2s - loss: 0.4934 - acc: 0.8274 - val_loss: 0.3743 - val_acc: 0.8667\n",
      "Epoch 2/20\n",
      "750/750 - 2s - loss: 0.3340 - acc: 0.8813 - val_loss: 0.3110 - val_acc: 0.8920\n",
      "Epoch 3/20\n",
      "750/750 - 2s - loss: 0.2909 - acc: 0.8966 - val_loss: 0.3032 - val_acc: 0.8917\n",
      "Epoch 4/20\n",
      "750/750 - 2s - loss: 0.2625 - acc: 0.9063 - val_loss: 0.2901 - val_acc: 0.8944\n",
      "Epoch 5/20\n",
      "750/750 - 2s - loss: 0.2411 - acc: 0.9138 - val_loss: 0.2896 - val_acc: 0.8996\n",
      "Epoch 6/20\n",
      "750/750 - 2s - loss: 0.2232 - acc: 0.9209 - val_loss: 0.2735 - val_acc: 0.9024\n",
      "Epoch 7/20\n",
      "750/750 - 2s - loss: 0.2033 - acc: 0.9266 - val_loss: 0.2677 - val_acc: 0.9047\n",
      "Epoch 8/20\n",
      "750/750 - 2s - loss: 0.1871 - acc: 0.9320 - val_loss: 0.2584 - val_acc: 0.9064\n",
      "Epoch 9/20\n",
      "750/750 - 2s - loss: 0.1741 - acc: 0.9383 - val_loss: 0.2548 - val_acc: 0.9124\n",
      "Epoch 10/20\n",
      "750/750 - 2s - loss: 0.1626 - acc: 0.9419 - val_loss: 0.2657 - val_acc: 0.9078\n",
      "Epoch 11/20\n",
      "750/750 - 2s - loss: 0.1516 - acc: 0.9442 - val_loss: 0.2589 - val_acc: 0.9116\n",
      "Epoch 12/20\n",
      "750/750 - 2s - loss: 0.1417 - acc: 0.9494 - val_loss: 0.3004 - val_acc: 0.9014\n",
      "Epoch 13/20\n",
      "750/750 - 2s - loss: 0.1277 - acc: 0.9543 - val_loss: 0.2721 - val_acc: 0.9109\n",
      "Epoch 14/20\n",
      "750/750 - 2s - loss: 0.1195 - acc: 0.9576 - val_loss: 0.2662 - val_acc: 0.9118\n",
      "Epoch 15/20\n",
      "750/750 - 2s - loss: 0.1105 - acc: 0.9602 - val_loss: 0.2696 - val_acc: 0.9121\n",
      "Epoch 16/20\n",
      "750/750 - 2s - loss: 0.1009 - acc: 0.9634 - val_loss: 0.2805 - val_acc: 0.9128\n",
      "Epoch 17/20\n",
      "750/750 - 2s - loss: 0.0960 - acc: 0.9653 - val_loss: 0.2971 - val_acc: 0.9107\n",
      "Epoch 18/20\n",
      "750/750 - 2s - loss: 0.0852 - acc: 0.9706 - val_loss: 0.2917 - val_acc: 0.9140\n",
      "Epoch 19/20\n",
      "750/750 - 2s - loss: 0.0795 - acc: 0.9722 - val_loss: 0.3085 - val_acc: 0.9117\n",
      "Epoch 20/20\n",
      "750/750 - 2s - loss: 0.0721 - acc: 0.9748 - val_loss: 0.3262 - val_acc: 0.9115\n"
     ]
    }
   ],
   "source": [
    "cnn_history = cnn_model.fit(X_tr, y_tr, batch_size=64, epochs=20,\n",
    "                        validation_data=(X_val, y_val),\n",
    "                        verbose=2) "
   ]
  },
  {
   "cell_type": "code",
   "execution_count": null,
   "metadata": {
    "colab": {
     "base_uri": "https://localhost:8080/",
     "height": 334
    },
    "executionInfo": {
     "elapsed": 989,
     "status": "ok",
     "timestamp": 1603937092109,
     "user": {
      "displayName": "오승환",
      "photoUrl": "https://lh3.googleusercontent.com/a-/AOh14GgBRB1w8bMEGhEpsp7aa7I9MQGz2D37o6hJeKeW=s64",
      "userId": "00933700884551564729"
     },
     "user_tz": -540
    },
    "id": "ZhM6YIu9VMf2",
    "outputId": "fbef1415-1f47-4560-b541-6163fab5a704"
   },
   "outputs": [
    {
     "data": {
      "image/png": "[encoded data removed]",
      "text/plain": [
       "<Figure size 360x360 with 1 Axes>"
      ]
     },
     "metadata": {
      "needs_background": "light",
      "tags": []
     },
     "output_type": "display_data"
    }
   ],
   "source": [
    "plot_loss_curve(history=cnn_history, total_epoch=20, start=1)    "
   ]
  },
  {
   "cell_type": "code",
   "execution_count": null,
   "metadata": {
    "colab": {
     "base_uri": "https://localhost:8080/"
    },
    "executionInfo": {
     "elapsed": 1278,
     "status": "ok",
     "timestamp": 1603937101031,
     "user": {
      "displayName": "오승환",
      "photoUrl": "https://lh3.googleusercontent.com/a-/AOh14GgBRB1w8bMEGhEpsp7aa7I9MQGz2D37o6hJeKeW=s64",
      "userId": "00933700884551564729"
     },
     "user_tz": -540
    },
    "id": "aI2NLCXf97bf",
    "outputId": "ce25870c-89bd-469b-a637-0f691106d639"
   },
   "outputs": [
    {
     "name": "stdout",
     "output_type": "stream",
     "text": [
      "Model: \"sequential_2\"\n",
      "_________________________________________________________________\n",
      "Layer (type)                 Output Shape              Param #   \n",
      "=================================================================\n",
      "conv2d_1 (Conv2D)            (None, 26, 26, 16)        160       \n",
      "_________________________________________________________________\n",
      "max_pooling2d_1 (MaxPooling2 (None, 13, 13, 16)        0         \n",
      "_________________________________________________________________\n",
      "flatten_2 (Flatten)          (None, 2704)              0         \n",
      "_________________________________________________________________\n",
      "dense_4 (Dense)              (None, 64)                173120    \n",
      "_________________________________________________________________\n",
      "dropout (Dropout)            (None, 64)                0         \n",
      "_________________________________________________________________\n",
      "dense_5 (Dense)              (None, 10)                650       \n",
      "=================================================================\n",
      "Total params: 173,930\n",
      "Trainable params: 173,930\n",
      "Non-trainable params: 0\n",
      "_________________________________________________________________\n"
     ]
    }
   ],
   "source": [
    "from tensorflow.keras.layers import Dropout\n",
    "def build_cnn():\n",
    "    model = Sequential()\n",
    "    model.add(Conv2D(filters=16, kernel_size=(3, 3), \n",
    "                     activation='relu', input_shape=[28, 28, 1]))\n",
    "    model.add(MaxPooling2D(pool_size=(2, 2)))\n",
    "    model.add(Flatten())\n",
    "    model.add(Dense(units=64, activation='relu'))\n",
    "    model.add(Dropout(rate=0.5))\n",
    "    model.add(Dense(units=10, activation='softmax'))\n",
    "\n",
    "    model.compile(optimizer='adam', \n",
    "                loss='sparse_categorical_crossentropy', \n",
    "                metrics=['acc'])\n",
    "\n",
    "    return model\n",
    "\n",
    "cnn_model = build_cnn()\n",
    "cnn_model.summary()"
   ]
  },
  {
   "cell_type": "code",
   "execution_count": null,
   "metadata": {
    "id": "jj_3lFwB97n-"
   },
   "outputs": [],
   "source": [
    "from tensorflow.keras.callbacks import EarlyStopping\n",
    "\n",
    "early_stopping = EarlyStopping(monitor='val_loss',  patience=10)\n",
    "\n",
    "cnn_history = cnn_model.fit(X_tr, y_tr, batch_size=64, epochs=100,\n",
    "                        validation_data=(X_val, y_val),\n",
    "                        callbacks=[early_stopping],\n",
    "                        verbose=0) "
   ]
  },
  {
   "cell_type": "code",
   "execution_count": null,
   "metadata": {
    "colab": {
     "base_uri": "https://localhost:8080/",
     "height": 336
    },
    "executionInfo": {
     "elapsed": 1579,
     "status": "ok",
     "timestamp": 1603937148262,
     "user": {
      "displayName": "오승환",
      "photoUrl": "https://lh3.googleusercontent.com/a-/AOh14GgBRB1w8bMEGhEpsp7aa7I9MQGz2D37o6hJeKeW=s64",
      "userId": "00933700884551564729"
     },
     "user_tz": -540
    },
    "id": "s0LYNpcqESZ0",
    "outputId": "e5804840-7a16-447d-ed2e-a4c5f0611cef"
   },
   "outputs": [
    {
     "data": {
      "image/png": "[encoded data removed]",
      "text/plain": [
       "<Figure size 720x360 with 2 Axes>"
      ]
     },
     "metadata": {
      "needs_background": "light",
      "tags": []
     },
     "output_type": "display_data"
    }
   ],
   "source": [
    "# 20 epoch 까지 손실함수와 정확도를 그래프로 나타내기\n",
    "start=1\n",
    "end = 20\n",
    "\n",
    "fig, axes = plt.subplots(1, 2, figsize=(10, 5))\n",
    "\n",
    "axes[0].plot(range(start, end+1), cnn_history.history['loss'][start-1:end], \n",
    "             label='Train')\n",
    "axes[0].plot(range(start, end+1), cnn_history.history['val_loss'][start-1:end], \n",
    "             label='Validation')\n",
    "axes[0].set_title('Loss')\n",
    "axes[0].legend()\n",
    "\n",
    "axes[1].plot(range(start, end+1), cnn_history.history['acc'][start-1:end], \n",
    "             label='Train')\n",
    "axes[1].plot(range(start, end+1), cnn_history.history['val_acc'][start-1:end], \n",
    "             label='Validation')\n",
    "axes[1].set_title('Accuracy')\n",
    "axes[1].legend()\n",
    "plt.show()"
   ]
  },
  {
   "cell_type": "code",
   "execution_count": null,
   "metadata": {
    "colab": {
     "base_uri": "https://localhost:8080/"
    },
    "executionInfo": {
     "elapsed": 2264,
     "status": "ok",
     "timestamp": 1603937148955,
     "user": {
      "displayName": "오승환",
      "photoUrl": "https://lh3.googleusercontent.com/a-/AOh14GgBRB1w8bMEGhEpsp7aa7I9MQGz2D37o6hJeKeW=s64",
      "userId": "00933700884551564729"
     },
     "user_tz": -540
    },
    "id": "MIX4VJEJXoVD",
    "outputId": "7c1f8481-713c-48a9-9fda-eec4da2017bf"
   },
   "outputs": [
    {
     "name": "stdout",
     "output_type": "stream",
     "text": [
      "375/375 [==============================] - 1s 2ms/step - loss: 0.2920 - acc: 0.9120\n"
     ]
    },
    {
     "data": {
      "text/plain": [
       "[0.2920343577861786, 0.9120000004768372]"
      ]
     },
     "execution_count": 22,
     "metadata": {
      "tags": []
     },
     "output_type": "execute_result"
    }
   ],
   "source": [
    "cnn_model.evaluate(X_val, y_val)"
   ]
  },
  {
   "cell_type": "code",
   "execution_count": null,
   "metadata": {
    "colab": {
     "base_uri": "https://localhost:8080/"
    },
    "executionInfo": {
     "elapsed": 2788,
     "status": "ok",
     "timestamp": 1603937149487,
     "user": {
      "displayName": "오승환",
      "photoUrl": "https://lh3.googleusercontent.com/a-/AOh14GgBRB1w8bMEGhEpsp7aa7I9MQGz2D37o6hJeKeW=s64",
      "userId": "00933700884551564729"
     },
     "user_tz": -540
    },
    "id": "7JC8web1EzcO",
    "outputId": "0f18e700-e60c-4577-c399-8ecbd1c5ec02"
   },
   "outputs": [
    {
     "data": {
      "text/plain": [
       "array([0, 1, 6, 6, 3, 6, 8, 6, 5, 0])"
      ]
     },
     "execution_count": 23,
     "metadata": {
      "tags": []
     },
     "output_type": "execute_result"
    }
   ],
   "source": [
    "y_pred_proba = cnn_model.predict(X_test)\n",
    "y_pred_classes = np.argmax(y_pred_proba, axis=-1)\n",
    "y_pred_classes[:10]"
   ]
  },
  {
   "cell_type": "code",
   "execution_count": null,
   "metadata": {
    "id": "ZA8QfHtAEzcZ"
   },
   "outputs": [],
   "source": [
    "submission['label'] = y_pred_classes\n",
    "submission_filepath = drive_path + 'mnist_cnn_submission1.csv'   \n",
    "submission.to_csv(submission_filepath, index=False)"
   ]
  },
  {
   "cell_type": "code",
   "execution_count": null,
   "metadata": {
    "colab": {
     "base_uri": "https://localhost:8080/"
    },
    "executionInfo": {
     "elapsed": 35042,
     "status": "ok",
     "timestamp": 1603937181753,
     "user": {
      "displayName": "오승환",
      "photoUrl": "https://lh3.googleusercontent.com/a-/AOh14GgBRB1w8bMEGhEpsp7aa7I9MQGz2D37o6hJeKeW=s64",
      "userId": "00933700884551564729"
     },
     "user_tz": -540
    },
    "id": "6_sTC1n96QRY",
    "outputId": "e813be0c-632d-4423-881a-5a2779e4bba4"
   },
   "outputs": [
    {
     "name": "stdout",
     "output_type": "stream",
     "text": [
      "Epoch 1/100\n",
      "750/750 - 2s - loss: 0.6587 - acc: 0.7705 - val_loss: 0.3907 - val_acc: 0.8620\n",
      "Epoch 2/100\n",
      "750/750 - 2s - loss: 0.4471 - acc: 0.8447 - val_loss: 0.3341 - val_acc: 0.8806\n",
      "Epoch 3/100\n",
      "750/750 - 2s - loss: 0.3912 - acc: 0.8646 - val_loss: 0.3133 - val_acc: 0.8870\n",
      "Epoch 4/100\n",
      "750/750 - 2s - loss: 0.3608 - acc: 0.8744 - val_loss: 0.2983 - val_acc: 0.8903\n",
      "Epoch 5/100\n",
      "750/750 - 2s - loss: 0.3365 - acc: 0.8814 - val_loss: 0.2886 - val_acc: 0.8937\n",
      "Epoch 6/100\n",
      "750/750 - 2s - loss: 0.3206 - acc: 0.8857 - val_loss: 0.2846 - val_acc: 0.8971\n",
      "Epoch 7/100\n",
      "750/750 - 2s - loss: 0.3043 - acc: 0.8906 - val_loss: 0.2766 - val_acc: 0.8999\n",
      "Epoch 8/100\n",
      "750/750 - 2s - loss: 0.2933 - acc: 0.8956 - val_loss: 0.2711 - val_acc: 0.9020\n",
      "Epoch 9/100\n",
      "750/750 - 2s - loss: 0.2855 - acc: 0.8967 - val_loss: 0.2684 - val_acc: 0.9000\n",
      "Epoch 10/100\n",
      "750/750 - 2s - loss: 0.2725 - acc: 0.9009 - val_loss: 0.2718 - val_acc: 0.9032\n",
      "Epoch 11/100\n",
      "750/750 - 2s - loss: 0.2642 - acc: 0.9039 - val_loss: 0.2614 - val_acc: 0.9041\n",
      "Epoch 12/100\n",
      "750/750 - 2s - loss: 0.2570 - acc: 0.9043 - val_loss: 0.2624 - val_acc: 0.9074\n",
      "Epoch 13/100\n",
      "750/750 - 2s - loss: 0.2481 - acc: 0.9083 - val_loss: 0.2639 - val_acc: 0.9051\n",
      "Epoch 14/100\n",
      "750/750 - 2s - loss: 0.2403 - acc: 0.9095 - val_loss: 0.2641 - val_acc: 0.9066\n",
      "Epoch 15/100\n",
      "750/750 - 2s - loss: 0.2365 - acc: 0.9110 - val_loss: 0.2624 - val_acc: 0.9057\n",
      "Epoch 16/100\n",
      "750/750 - 2s - loss: 0.2317 - acc: 0.9135 - val_loss: 0.2592 - val_acc: 0.9092\n",
      "Epoch 17/100\n",
      "\n",
      "\n",
      "목표 정확도 달성: 검증 정확도 0.9107\n",
      "750/750 - 2s - loss: 0.2245 - acc: 0.9181 - val_loss: 0.2551 - val_acc: 0.9107\n"
     ]
    }
   ],
   "source": [
    "# 사용자 정의 콜백 함수\n",
    "from tensorflow.keras.callbacks import Callback\n",
    "\n",
    "class my_callback(Callback):\n",
    "  def on_epoch_end(self, epoch, logs={}):\n",
    "    if(logs.get('val_acc') > 0.91):\n",
    "      self.model.stop_training = True\n",
    "      print(\"\\n\")\n",
    "      print(\"목표 정확도 달성: 검증 정확도 %.4f\" % logs.get('val_acc'))\n",
    "\n",
    "my_callback = my_callback()\n",
    "\n",
    "# Best Model 저장\n",
    "from tensorflow.keras.callbacks import ModelCheckpoint\n",
    "\n",
    "best_model_path = drive_path + \"best_cnn_model.h5\"\n",
    "save_best_model = ModelCheckpoint(best_model_path, monitor='val_loss', \n",
    "                                  save_best_only=True, save_weights_only=False)\n",
    "\n",
    "# CNN 모델 학습\n",
    "cnn_model = build_cnn()\n",
    "cnn_history = cnn_model.fit(X_tr, y_tr, batch_size=64, epochs=100,\n",
    "                        validation_data=(X_val, y_val),\n",
    "                        callbacks=[my_callback, save_best_model],\n",
    "                        verbose=2) "
   ]
  },
  {
   "cell_type": "code",
   "execution_count": null,
   "metadata": {
    "colab": {
     "base_uri": "https://localhost:8080/",
     "height": 357
    },
    "executionInfo": {
     "elapsed": 563,
     "status": "ok",
     "timestamp": 1603463507098,
     "user": {
      "displayName": "오승환",
      "photoUrl": "https://lh3.googleusercontent.com/a-/AOh14GgBRB1w8bMEGhEpsp7aa7I9MQGz2D37o6hJeKeW=s64",
      "userId": "00933700884551564729"
     },
     "user_tz": -540
    },
    "id": "U-tLx50BmX3V",
    "outputId": "e04e99b3-25e9-4308-b657-1e21f6f18bc7"
   },
   "outputs": [
    {
     "name": "stdout",
     "output_type": "stream",
     "text": [
      "Model: \"sequential_22\"\n",
      "_________________________________________________________________\n",
      "Layer (type)                 Output Shape              Param #   \n",
      "=================================================================\n",
      "conv2d_21 (Conv2D)           (None, 26, 26, 16)        160       \n",
      "_________________________________________________________________\n",
      "max_pooling2d_21 (MaxPooling (None, 13, 13, 16)        0         \n",
      "_________________________________________________________________\n",
      "flatten_22 (Flatten)         (None, 2704)              0         \n",
      "_________________________________________________________________\n",
      "dense_44 (Dense)             (None, 64)                173120    \n",
      "_________________________________________________________________\n",
      "dropout_20 (Dropout)         (None, 64)                0         \n",
      "_________________________________________________________________\n",
      "dense_45 (Dense)             (None, 10)                650       \n",
      "=================================================================\n",
      "Total params: 173,930\n",
      "Trainable params: 173,930\n",
      "Non-trainable params: 0\n",
      "_________________________________________________________________\n"
     ]
    }
   ],
   "source": [
    "from tensorflow.keras.models import load_model\n",
    "# ModelCheckPoint에 저장해둔 모델을 로딩 \n",
    "best_model = load_model(drive_path + \"best_cnn_model.h5\")\n",
    "best_model.summary()"
   ]
  },
  {
   "cell_type": "code",
   "execution_count": null,
   "metadata": {
    "id": "xkatmY1kmFmI"
   },
   "outputs": [],
   "source": [
    "y_pred_proba = best_model.predict(X_test)\n",
    "y_pred_classes = np.argmax(y_pred_proba, axis=-1)\n",
    "submission['label'] = y_pred_classes\n",
    "submission_filepath = drive_path + 'mnist_cnn_submission2.csv'   \n",
    "submission.to_csv(submission_filepath, index=False)"
   ]
  }
 ],
 "metadata": {
  "accelerator": "GPU",
  "colab": {
   "authorship_tag": "ABX9TyMd7H3gNdvOl7UCrFG/KV0A",
   "collapsed_sections": [],
   "name": "6.1_fashion_mnist.ipynb",
   "provenance": [
    {
     "file_id": "1K4BjydItwlEJ0e1-gDi4eOsNoHVJ4GSM",
     "timestamp": 1595286872050
    }
   ]
  },
  "kernelspec": {
   "display_name": "Python 3 (ipykernel)",
   "language": "python",
   "name": "python3"
  },
  "language_info": {
   "codemirror_mode": {
    "name": "ipython",
    "version": 3
   },
   "file_extension": ".py",
   "mimetype": "text/x-python",
   "name": "python",
   "nbconvert_exporter": "python",
   "pygments_lexer": "ipython3",
   "version": "3.7.11"
  }
 },
 "nbformat": 4,
 "nbformat_minor": 1
}
