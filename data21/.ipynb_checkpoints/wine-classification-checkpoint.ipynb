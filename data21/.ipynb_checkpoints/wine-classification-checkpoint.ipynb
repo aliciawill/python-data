{
 "cells": [
  {
   "cell_type": "code",
   "execution_count": 34,
   "metadata": {},
   "outputs": [],
   "source": [
    "# 필수 라이브러리\n",
    "import pandas as pd\n",
    "import numpy as np\n",
    "import random\n",
    "import tensorflow as tf"
   ]
  },
  {
   "cell_type": "code",
   "execution_count": 35,
   "metadata": {},
   "outputs": [
    {
     "data": {
      "text/plain": [
       "(5497, 14)"
      ]
     },
     "execution_count": 35,
     "metadata": {},
     "output_type": "execute_result"
    }
   ],
   "source": [
    "data = pd.read_csv('./data/wine_train.csv')\n",
    "data.shape"
   ]
  },
  {
   "cell_type": "code",
   "execution_count": 36,
   "metadata": {},
   "outputs": [
    {
     "data": {
      "text/html": [
       "<div>\n",
       "<style scoped>\n",
       "    .dataframe tbody tr th:only-of-type {\n",
       "        vertical-align: middle;\n",
       "    }\n",
       "\n",
       "    .dataframe tbody tr th {\n",
       "        vertical-align: top;\n",
       "    }\n",
       "\n",
       "    .dataframe thead th {\n",
       "        text-align: right;\n",
       "    }\n",
       "</style>\n",
       "<table border=\"1\" class=\"dataframe\">\n",
       "  <thead>\n",
       "    <tr style=\"text-align: right;\">\n",
       "      <th></th>\n",
       "      <th>index</th>\n",
       "      <th>quality</th>\n",
       "      <th>fixed acidity</th>\n",
       "      <th>volatile acidity</th>\n",
       "      <th>citric acid</th>\n",
       "      <th>residual sugar</th>\n",
       "      <th>chlorides</th>\n",
       "      <th>free sulfur dioxide</th>\n",
       "      <th>total sulfur dioxide</th>\n",
       "      <th>density</th>\n",
       "      <th>pH</th>\n",
       "      <th>sulphates</th>\n",
       "      <th>alcohol</th>\n",
       "      <th>type</th>\n",
       "    </tr>\n",
       "  </thead>\n",
       "  <tbody>\n",
       "    <tr>\n",
       "      <th>0</th>\n",
       "      <td>0</td>\n",
       "      <td>5</td>\n",
       "      <td>5.6</td>\n",
       "      <td>0.695</td>\n",
       "      <td>0.06</td>\n",
       "      <td>6.8</td>\n",
       "      <td>0.042</td>\n",
       "      <td>9.0</td>\n",
       "      <td>84.0</td>\n",
       "      <td>0.99432</td>\n",
       "      <td>3.44</td>\n",
       "      <td>0.44</td>\n",
       "      <td>10.2</td>\n",
       "      <td>white</td>\n",
       "    </tr>\n",
       "    <tr>\n",
       "      <th>1</th>\n",
       "      <td>1</td>\n",
       "      <td>5</td>\n",
       "      <td>8.8</td>\n",
       "      <td>0.610</td>\n",
       "      <td>0.14</td>\n",
       "      <td>2.4</td>\n",
       "      <td>0.067</td>\n",
       "      <td>10.0</td>\n",
       "      <td>42.0</td>\n",
       "      <td>0.99690</td>\n",
       "      <td>3.19</td>\n",
       "      <td>0.59</td>\n",
       "      <td>9.5</td>\n",
       "      <td>red</td>\n",
       "    </tr>\n",
       "    <tr>\n",
       "      <th>2</th>\n",
       "      <td>2</td>\n",
       "      <td>5</td>\n",
       "      <td>7.9</td>\n",
       "      <td>0.210</td>\n",
       "      <td>0.39</td>\n",
       "      <td>2.0</td>\n",
       "      <td>0.057</td>\n",
       "      <td>21.0</td>\n",
       "      <td>138.0</td>\n",
       "      <td>0.99176</td>\n",
       "      <td>3.05</td>\n",
       "      <td>0.52</td>\n",
       "      <td>10.9</td>\n",
       "      <td>white</td>\n",
       "    </tr>\n",
       "  </tbody>\n",
       "</table>\n",
       "</div>"
      ],
      "text/plain": [
       "   index  quality  fixed acidity  volatile acidity  citric acid  \\\n",
       "0      0        5            5.6             0.695         0.06   \n",
       "1      1        5            8.8             0.610         0.14   \n",
       "2      2        5            7.9             0.210         0.39   \n",
       "\n",
       "   residual sugar  chlorides  free sulfur dioxide  total sulfur dioxide  \\\n",
       "0             6.8      0.042                  9.0                  84.0   \n",
       "1             2.4      0.067                 10.0                  42.0   \n",
       "2             2.0      0.057                 21.0                 138.0   \n",
       "\n",
       "   density    pH  sulphates  alcohol   type  \n",
       "0  0.99432  3.44       0.44     10.2  white  \n",
       "1  0.99690  3.19       0.59      9.5    red  \n",
       "2  0.99176  3.05       0.52     10.9  white  "
      ]
     },
     "execution_count": 36,
     "metadata": {},
     "output_type": "execute_result"
    }
   ],
   "source": [
    "data[:3]"
   ]
  },
  {
   "cell_type": "code",
   "execution_count": 37,
   "metadata": {},
   "outputs": [
    {
     "data": {
      "text/plain": [
       "6    2416\n",
       "5    1788\n",
       "7     924\n",
       "4     186\n",
       "8     152\n",
       "3      26\n",
       "9       5\n",
       "Name: quality, dtype: int64"
      ]
     },
     "execution_count": 37,
     "metadata": {},
     "output_type": "execute_result"
    }
   ],
   "source": [
    "data['quality'].value_counts()"
   ]
  },
  {
   "cell_type": "code",
   "execution_count": 38,
   "metadata": {},
   "outputs": [
    {
     "data": {
      "text/plain": [
       "0       white\n",
       "1         red\n",
       "2       white\n",
       "3       white\n",
       "4       white\n",
       "        ...  \n",
       "5492    white\n",
       "5493    white\n",
       "5494    white\n",
       "5495    white\n",
       "5496    white\n",
       "Name: type, Length: 5497, dtype: object"
      ]
     },
     "execution_count": 38,
     "metadata": {},
     "output_type": "execute_result"
    }
   ],
   "source": [
    "data.type"
   ]
  },
  {
   "cell_type": "code",
   "execution_count": 39,
   "metadata": {},
   "outputs": [
    {
     "data": {
      "text/plain": [
       "white    4159\n",
       "red      1338\n",
       "Name: type, dtype: int64"
      ]
     },
     "execution_count": 39,
     "metadata": {},
     "output_type": "execute_result"
    }
   ],
   "source": [
    "data.type.value_counts()"
   ]
  },
  {
   "cell_type": "code",
   "execution_count": 40,
   "metadata": {},
   "outputs": [],
   "source": [
    "from tensorflow.keras.utils import to_categorical"
   ]
  },
  {
   "cell_type": "code",
   "execution_count": 41,
   "metadata": {},
   "outputs": [],
   "source": [
    "## 딥러닝 기본에서는 target이 명목형인 경우, dummy로 만들어주어야 한다.(one-hot인코딩)"
   ]
  },
  {
   "cell_type": "code",
   "execution_count": 42,
   "metadata": {},
   "outputs": [
    {
     "data": {
      "text/plain": [
       "array([[0., 0., 1., 0., 0., 0., 0.],\n",
       "       [0., 0., 1., 0., 0., 0., 0.],\n",
       "       [0., 0., 1., 0., 0., 0., 0.]], dtype=float32)"
      ]
     },
     "execution_count": 42,
     "metadata": {},
     "output_type": "execute_result"
    }
   ],
   "source": [
    "y_data = to_categorical(data['quality'] - 3)\n",
    "y_data[:3] #target"
   ]
  },
  {
   "cell_type": "code",
   "execution_count": 43,
   "metadata": {},
   "outputs": [
    {
     "data": {
      "text/html": [
       "<div>\n",
       "<style scoped>\n",
       "    .dataframe tbody tr th:only-of-type {\n",
       "        vertical-align: middle;\n",
       "    }\n",
       "\n",
       "    .dataframe tbody tr th {\n",
       "        vertical-align: top;\n",
       "    }\n",
       "\n",
       "    .dataframe thead th {\n",
       "        text-align: right;\n",
       "    }\n",
       "</style>\n",
       "<table border=\"1\" class=\"dataframe\">\n",
       "  <thead>\n",
       "    <tr style=\"text-align: right;\">\n",
       "      <th></th>\n",
       "      <th>fixed acidity</th>\n",
       "      <th>volatile acidity</th>\n",
       "      <th>citric acid</th>\n",
       "      <th>residual sugar</th>\n",
       "      <th>chlorides</th>\n",
       "      <th>free sulfur dioxide</th>\n",
       "      <th>total sulfur dioxide</th>\n",
       "      <th>density</th>\n",
       "      <th>pH</th>\n",
       "      <th>sulphates</th>\n",
       "      <th>alcohol</th>\n",
       "      <th>type</th>\n",
       "    </tr>\n",
       "  </thead>\n",
       "  <tbody>\n",
       "    <tr>\n",
       "      <th>0</th>\n",
       "      <td>5.6</td>\n",
       "      <td>0.695</td>\n",
       "      <td>0.06</td>\n",
       "      <td>6.8</td>\n",
       "      <td>0.042</td>\n",
       "      <td>9.0</td>\n",
       "      <td>84.0</td>\n",
       "      <td>0.99432</td>\n",
       "      <td>3.44</td>\n",
       "      <td>0.44</td>\n",
       "      <td>10.2</td>\n",
       "      <td>white</td>\n",
       "    </tr>\n",
       "    <tr>\n",
       "      <th>1</th>\n",
       "      <td>8.8</td>\n",
       "      <td>0.610</td>\n",
       "      <td>0.14</td>\n",
       "      <td>2.4</td>\n",
       "      <td>0.067</td>\n",
       "      <td>10.0</td>\n",
       "      <td>42.0</td>\n",
       "      <td>0.99690</td>\n",
       "      <td>3.19</td>\n",
       "      <td>0.59</td>\n",
       "      <td>9.5</td>\n",
       "      <td>red</td>\n",
       "    </tr>\n",
       "    <tr>\n",
       "      <th>2</th>\n",
       "      <td>7.9</td>\n",
       "      <td>0.210</td>\n",
       "      <td>0.39</td>\n",
       "      <td>2.0</td>\n",
       "      <td>0.057</td>\n",
       "      <td>21.0</td>\n",
       "      <td>138.0</td>\n",
       "      <td>0.99176</td>\n",
       "      <td>3.05</td>\n",
       "      <td>0.52</td>\n",
       "      <td>10.9</td>\n",
       "      <td>white</td>\n",
       "    </tr>\n",
       "  </tbody>\n",
       "</table>\n",
       "</div>"
      ],
      "text/plain": [
       "   fixed acidity  volatile acidity  citric acid  residual sugar  chlorides  \\\n",
       "0            5.6             0.695         0.06             6.8      0.042   \n",
       "1            8.8             0.610         0.14             2.4      0.067   \n",
       "2            7.9             0.210         0.39             2.0      0.057   \n",
       "\n",
       "   free sulfur dioxide  total sulfur dioxide  density    pH  sulphates  \\\n",
       "0                  9.0                  84.0  0.99432  3.44       0.44   \n",
       "1                 10.0                  42.0  0.99690  3.19       0.59   \n",
       "2                 21.0                 138.0  0.99176  3.05       0.52   \n",
       "\n",
       "   alcohol   type  \n",
       "0     10.2  white  \n",
       "1      9.5    red  \n",
       "2     10.9  white  "
      ]
     },
     "execution_count": 43,
     "metadata": {},
     "output_type": "execute_result"
    }
   ],
   "source": [
    "X_data = data.loc[:, 'fixed acidity':]\n",
    "X_data[:3]"
   ]
  },
  {
   "cell_type": "code",
   "execution_count": 44,
   "metadata": {},
   "outputs": [
    {
     "data": {
      "text/plain": [
       "((5497, 12), (5497, 7))"
      ]
     },
     "execution_count": 44,
     "metadata": {},
     "output_type": "execute_result"
    }
   ],
   "source": [
    "X_data.shape, y_data.shape"
   ]
  },
  {
   "cell_type": "code",
   "execution_count": 45,
   "metadata": {},
   "outputs": [
    {
     "data": {
      "text/plain": [
       "1    4159\n",
       "0    1338\n",
       "Name: type, dtype: int64"
      ]
     },
     "execution_count": 45,
     "metadata": {},
     "output_type": "execute_result"
    }
   ],
   "source": [
    "X_data['type'] = np.where(data['type'] == 'white', 1, 0).astype('int')\n",
    "X_data['type'].value_counts()"
   ]
  },
  {
   "cell_type": "code",
   "execution_count": 46,
   "metadata": {},
   "outputs": [],
   "source": [
    "##min-max scale\n",
    "from sklearn.preprocessing import MinMaxScaler\n",
    "scaler = MinMaxScaler()\n",
    "X_data_scaled = scaler.fit_transform(X_data)"
   ]
  },
  {
   "cell_type": "code",
   "execution_count": 47,
   "metadata": {},
   "outputs": [
    {
     "data": {
      "text/plain": [
       "array([[0.14876033, 0.41      , 0.03614458, 0.09509202, 0.05490849,\n",
       "        0.02777778, 0.1797235 , 0.13900135, 0.5511811 , 0.12359551,\n",
       "        0.31884058, 1.        ],\n",
       "       [0.41322314, 0.35333333, 0.08433735, 0.02760736, 0.09650582,\n",
       "        0.03125   , 0.08294931, 0.18874108, 0.35433071, 0.20786517,\n",
       "        0.2173913 , 0.        ],\n",
       "       [0.33884298, 0.08666667, 0.23493976, 0.02147239, 0.07986689,\n",
       "        0.06944444, 0.30414747, 0.08964719, 0.24409449, 0.16853933,\n",
       "        0.42028986, 1.        ]])"
      ]
     },
     "execution_count": 47,
     "metadata": {},
     "output_type": "execute_result"
    }
   ],
   "source": [
    "X_data_scaled[:3]"
   ]
  },
  {
   "cell_type": "code",
   "execution_count": 48,
   "metadata": {},
   "outputs": [],
   "source": [
    "from sklearn.model_selection import train_test_split"
   ]
  },
  {
   "cell_type": "code",
   "execution_count": 49,
   "metadata": {},
   "outputs": [
    {
     "name": "stdout",
     "output_type": "stream",
     "text": [
      "(4397, 12) (4397, 7)\n",
      "(1100, 12) (1100, 7)\n"
     ]
    }
   ],
   "source": [
    "X_train, X_test, y_train, y_test = train_test_split(X_data_scaled, y_data, \n",
    "                                                    test_size=0.2, \n",
    "                                                    shuffle=True, \n",
    "                                                    random_state=100)\n",
    "print(X_train.shape, y_train.shape)\n",
    "print(X_test.shape, y_test.shape)"
   ]
  },
  {
   "cell_type": "code",
   "execution_count": 50,
   "metadata": {},
   "outputs": [],
   "source": [
    "# 모델생성\n",
    "# 심층 신경망 모델\n",
    "from tensorflow.keras import Sequential\n",
    "from tensorflow.keras.layers import Dense"
   ]
  },
  {
   "cell_type": "code",
   "execution_count": 53,
   "metadata": {},
   "outputs": [
    {
     "name": "stderr",
     "output_type": "stream",
     "text": [
      "2022-06-07 15:59:15.289971: I tensorflow/core/platform/cpu_feature_guard.cc:151] This TensorFlow binary is optimized with oneAPI Deep Neural Network Library (oneDNN) to use the following CPU instructions in performance-critical operations:  AVX2 FMA\n",
      "To enable them in other operations, rebuild TensorFlow with the appropriate compiler flags.\n"
     ]
    }
   ],
   "source": [
    "model = Sequential()\n",
    "model.add(Dense(128, activation='relu', input_dim=12))\n",
    "model.add(Dense(64, activation='relu'))\n",
    "model.add(Dense(32, activation='relu'))\n",
    "model.add(Dense(10, activation='relu'))\n",
    "model.add(Dense(7, activation='softmax'))"
   ]
  },
  {
   "cell_type": "code",
   "execution_count": 54,
   "metadata": {},
   "outputs": [],
   "source": [
    "## 이 모델로 설정을 하겠음(compile)\n",
    "model.compile(optimizer='adam', \n",
    "              loss='categorical_crossentropy',\n",
    "              metrics=['acc', 'mae']\n",
    "             )"
   ]
  },
  {
   "cell_type": "code",
   "execution_count": 55,
   "metadata": {},
   "outputs": [
    {
     "name": "stdout",
     "output_type": "stream",
     "text": [
      "Model: \"sequential\"\n",
      "_________________________________________________________________\n",
      " Layer (type)                Output Shape              Param #   \n",
      "=================================================================\n",
      " dense (Dense)               (None, 128)               1664      \n",
      "                                                                 \n",
      " dense_1 (Dense)             (None, 64)                8256      \n",
      "                                                                 \n",
      " dense_2 (Dense)             (None, 32)                2080      \n",
      "                                                                 \n",
      " dense_3 (Dense)             (None, 10)                330       \n",
      "                                                                 \n",
      " dense_4 (Dense)             (None, 7)                 77        \n",
      "                                                                 \n",
      "=================================================================\n",
      "Total params: 12,407\n",
      "Trainable params: 12,407\n",
      "Non-trainable params: 0\n",
      "_________________________________________________________________\n"
     ]
    }
   ],
   "source": [
    "## 설정한 레이어들 요약해서 보여주세요.\n",
    "model.summary()"
   ]
  },
  {
   "cell_type": "code",
   "execution_count": 58,
   "metadata": {},
   "outputs": [
    {
     "name": "stdout",
     "output_type": "stream",
     "text": [
      "Epoch 1/200\n",
      "88/88 - 0s - loss: 0.8039 - acc: 0.6557 - mae: 0.1320 - 85ms/epoch - 968us/step\n",
      "Epoch 2/200\n",
      "88/88 - 0s - loss: 0.7932 - acc: 0.6652 - mae: 0.1306 - 79ms/epoch - 900us/step\n",
      "Epoch 3/200\n",
      "88/88 - 0s - loss: 0.8064 - acc: 0.6577 - mae: 0.1322 - 75ms/epoch - 856us/step\n",
      "Epoch 4/200\n",
      "88/88 - 0s - loss: 0.7887 - acc: 0.6686 - mae: 0.1299 - 71ms/epoch - 802us/step\n",
      "Epoch 5/200\n",
      "88/88 - 0s - loss: 0.7950 - acc: 0.6643 - mae: 0.1306 - 70ms/epoch - 796us/step\n",
      "Epoch 6/200\n",
      "88/88 - 0s - loss: 0.7874 - acc: 0.6700 - mae: 0.1291 - 70ms/epoch - 794us/step\n",
      "Epoch 7/200\n",
      "88/88 - 0s - loss: 0.7933 - acc: 0.6720 - mae: 0.1302 - 70ms/epoch - 791us/step\n",
      "Epoch 8/200\n",
      "88/88 - 0s - loss: 0.7911 - acc: 0.6641 - mae: 0.1300 - 68ms/epoch - 769us/step\n",
      "Epoch 9/200\n",
      "88/88 - 0s - loss: 0.7851 - acc: 0.6668 - mae: 0.1293 - 70ms/epoch - 793us/step\n",
      "Epoch 10/200\n",
      "88/88 - 0s - loss: 0.7823 - acc: 0.6739 - mae: 0.1289 - 66ms/epoch - 753us/step\n",
      "Epoch 11/200\n",
      "88/88 - 0s - loss: 0.7821 - acc: 0.6686 - mae: 0.1287 - 68ms/epoch - 773us/step\n",
      "Epoch 12/200\n",
      "88/88 - 0s - loss: 0.7759 - acc: 0.6768 - mae: 0.1284 - 89ms/epoch - 1ms/step\n",
      "Epoch 13/200\n",
      "88/88 - 0s - loss: 0.7789 - acc: 0.6693 - mae: 0.1278 - 86ms/epoch - 973us/step\n",
      "Epoch 14/200\n",
      "88/88 - 0s - loss: 0.7766 - acc: 0.6827 - mae: 0.1274 - 84ms/epoch - 959us/step\n",
      "Epoch 15/200\n",
      "88/88 - 0s - loss: 0.7816 - acc: 0.6780 - mae: 0.1287 - 78ms/epoch - 881us/step\n",
      "Epoch 16/200\n",
      "88/88 - 0s - loss: 0.7734 - acc: 0.6750 - mae: 0.1274 - 86ms/epoch - 973us/step\n",
      "Epoch 17/200\n",
      "88/88 - 0s - loss: 0.7747 - acc: 0.6750 - mae: 0.1272 - 70ms/epoch - 798us/step\n",
      "Epoch 18/200\n",
      "88/88 - 0s - loss: 0.7880 - acc: 0.6618 - mae: 0.1292 - 70ms/epoch - 801us/step\n",
      "Epoch 19/200\n",
      "88/88 - 0s - loss: 0.7646 - acc: 0.6768 - mae: 0.1263 - 76ms/epoch - 869us/step\n",
      "Epoch 20/200\n",
      "88/88 - 0s - loss: 0.7740 - acc: 0.6732 - mae: 0.1272 - 80ms/epoch - 915us/step\n",
      "Epoch 21/200\n",
      "88/88 - 0s - loss: 0.7613 - acc: 0.6786 - mae: 0.1256 - 76ms/epoch - 868us/step\n",
      "Epoch 22/200\n",
      "88/88 - 0s - loss: 0.7756 - acc: 0.6757 - mae: 0.1266 - 74ms/epoch - 837us/step\n",
      "Epoch 23/200\n",
      "88/88 - 0s - loss: 0.7651 - acc: 0.6827 - mae: 0.1266 - 72ms/epoch - 816us/step\n",
      "Epoch 24/200\n",
      "88/88 - 0s - loss: 0.7615 - acc: 0.6807 - mae: 0.1255 - 95ms/epoch - 1ms/step\n",
      "Epoch 25/200\n",
      "88/88 - 0s - loss: 0.7582 - acc: 0.6864 - mae: 0.1255 - 74ms/epoch - 846us/step\n",
      "Epoch 26/200\n",
      "88/88 - 0s - loss: 0.7528 - acc: 0.6818 - mae: 0.1244 - 70ms/epoch - 791us/step\n",
      "Epoch 27/200\n",
      "88/88 - 0s - loss: 0.7560 - acc: 0.6889 - mae: 0.1247 - 71ms/epoch - 809us/step\n",
      "Epoch 28/200\n",
      "88/88 - 0s - loss: 0.7541 - acc: 0.6866 - mae: 0.1239 - 77ms/epoch - 877us/step\n",
      "Epoch 29/200\n",
      "88/88 - 0s - loss: 0.7625 - acc: 0.6807 - mae: 0.1252 - 73ms/epoch - 828us/step\n",
      "Epoch 30/200\n",
      "88/88 - 0s - loss: 0.7547 - acc: 0.6889 - mae: 0.1244 - 80ms/epoch - 908us/step\n",
      "Epoch 31/200\n",
      "88/88 - 0s - loss: 0.7478 - acc: 0.6898 - mae: 0.1239 - 84ms/epoch - 957us/step\n",
      "Epoch 32/200\n",
      "88/88 - 0s - loss: 0.7441 - acc: 0.6877 - mae: 0.1235 - 75ms/epoch - 848us/step\n",
      "Epoch 33/200\n",
      "88/88 - 0s - loss: 0.7699 - acc: 0.6757 - mae: 0.1248 - 73ms/epoch - 829us/step\n",
      "Epoch 34/200\n",
      "88/88 - 0s - loss: 0.7561 - acc: 0.6866 - mae: 0.1236 - 72ms/epoch - 821us/step\n",
      "Epoch 35/200\n",
      "88/88 - 0s - loss: 0.7579 - acc: 0.6811 - mae: 0.1241 - 73ms/epoch - 828us/step\n",
      "Epoch 36/200\n",
      "88/88 - 0s - loss: 0.7409 - acc: 0.6898 - mae: 0.1227 - 73ms/epoch - 827us/step\n",
      "Epoch 37/200\n",
      "88/88 - 0s - loss: 0.7387 - acc: 0.6941 - mae: 0.1228 - 72ms/epoch - 818us/step\n",
      "Epoch 38/200\n",
      "88/88 - 0s - loss: 0.7385 - acc: 0.6889 - mae: 0.1226 - 72ms/epoch - 815us/step\n",
      "Epoch 39/200\n",
      "88/88 - 0s - loss: 0.7349 - acc: 0.6959 - mae: 0.1217 - 71ms/epoch - 812us/step\n",
      "Epoch 40/200\n",
      "88/88 - 0s - loss: 0.7426 - acc: 0.6955 - mae: 0.1222 - 86ms/epoch - 972us/step\n",
      "Epoch 41/200\n",
      "88/88 - 0s - loss: 0.7400 - acc: 0.6868 - mae: 0.1224 - 81ms/epoch - 918us/step\n",
      "Epoch 42/200\n",
      "88/88 - 0s - loss: 0.7380 - acc: 0.6939 - mae: 0.1216 - 87ms/epoch - 988us/step\n",
      "Epoch 43/200\n",
      "88/88 - 0s - loss: 0.7447 - acc: 0.6866 - mae: 0.1223 - 76ms/epoch - 861us/step\n",
      "Epoch 44/200\n",
      "88/88 - 0s - loss: 0.7339 - acc: 0.6966 - mae: 0.1213 - 72ms/epoch - 814us/step\n",
      "Epoch 45/200\n",
      "88/88 - 0s - loss: 0.7296 - acc: 0.6918 - mae: 0.1211 - 86ms/epoch - 978us/step\n",
      "Epoch 46/200\n",
      "88/88 - 0s - loss: 0.7293 - acc: 0.6993 - mae: 0.1207 - 74ms/epoch - 841us/step\n",
      "Epoch 47/200\n",
      "88/88 - 0s - loss: 0.7333 - acc: 0.6916 - mae: 0.1210 - 72ms/epoch - 814us/step\n",
      "Epoch 48/200\n",
      "88/88 - 0s - loss: 0.7422 - acc: 0.6934 - mae: 0.1215 - 69ms/epoch - 782us/step\n",
      "Epoch 49/200\n",
      "88/88 - 0s - loss: 0.7382 - acc: 0.6896 - mae: 0.1211 - 70ms/epoch - 792us/step\n",
      "Epoch 50/200\n",
      "88/88 - 0s - loss: 0.7285 - acc: 0.6987 - mae: 0.1205 - 80ms/epoch - 910us/step\n",
      "Epoch 51/200\n",
      "88/88 - 0s - loss: 0.7258 - acc: 0.6975 - mae: 0.1203 - 80ms/epoch - 904us/step\n",
      "Epoch 52/200\n",
      "88/88 - 0s - loss: 0.7245 - acc: 0.6968 - mae: 0.1196 - 73ms/epoch - 825us/step\n",
      "Epoch 53/200\n",
      "88/88 - 0s - loss: 0.7203 - acc: 0.6957 - mae: 0.1192 - 72ms/epoch - 814us/step\n",
      "Epoch 54/200\n",
      "88/88 - 0s - loss: 0.7234 - acc: 0.6964 - mae: 0.1192 - 80ms/epoch - 914us/step\n",
      "Epoch 55/200\n",
      "88/88 - 0s - loss: 0.7235 - acc: 0.7050 - mae: 0.1197 - 72ms/epoch - 815us/step\n",
      "Epoch 56/200\n",
      "88/88 - 0s - loss: 0.7139 - acc: 0.7023 - mae: 0.1187 - 76ms/epoch - 863us/step\n",
      "Epoch 57/200\n",
      "88/88 - 0s - loss: 0.7049 - acc: 0.7041 - mae: 0.1176 - 78ms/epoch - 881us/step\n",
      "Epoch 58/200\n",
      "88/88 - 0s - loss: 0.7115 - acc: 0.6993 - mae: 0.1176 - 74ms/epoch - 841us/step\n",
      "Epoch 59/200\n",
      "88/88 - 0s - loss: 0.7093 - acc: 0.7087 - mae: 0.1177 - 71ms/epoch - 802us/step\n",
      "Epoch 60/200\n",
      "88/88 - 0s - loss: 0.7103 - acc: 0.7012 - mae: 0.1179 - 74ms/epoch - 846us/step\n",
      "Epoch 61/200\n",
      "88/88 - 0s - loss: 0.7116 - acc: 0.7030 - mae: 0.1181 - 69ms/epoch - 787us/step\n",
      "Epoch 62/200\n",
      "88/88 - 0s - loss: 0.7072 - acc: 0.7059 - mae: 0.1171 - 75ms/epoch - 848us/step\n",
      "Epoch 63/200\n",
      "88/88 - 0s - loss: 0.7067 - acc: 0.7098 - mae: 0.1172 - 71ms/epoch - 807us/step\n",
      "Epoch 64/200\n",
      "88/88 - 0s - loss: 0.7057 - acc: 0.7087 - mae: 0.1172 - 76ms/epoch - 859us/step\n",
      "Epoch 65/200\n",
      "88/88 - 0s - loss: 0.7014 - acc: 0.7105 - mae: 0.1167 - 85ms/epoch - 962us/step\n",
      "Epoch 66/200\n",
      "88/88 - 0s - loss: 0.6983 - acc: 0.7075 - mae: 0.1160 - 76ms/epoch - 859us/step\n",
      "Epoch 67/200\n",
      "88/88 - 0s - loss: 0.7006 - acc: 0.7093 - mae: 0.1168 - 69ms/epoch - 785us/step\n",
      "Epoch 68/200\n",
      "88/88 - 0s - loss: 0.6989 - acc: 0.7084 - mae: 0.1158 - 68ms/epoch - 775us/step\n",
      "Epoch 69/200\n",
      "88/88 - 0s - loss: 0.6944 - acc: 0.7180 - mae: 0.1150 - 72ms/epoch - 817us/step\n",
      "Epoch 70/200\n",
      "88/88 - 0s - loss: 0.6967 - acc: 0.7132 - mae: 0.1149 - 74ms/epoch - 839us/step\n",
      "Epoch 71/200\n",
      "88/88 - 0s - loss: 0.6953 - acc: 0.7073 - mae: 0.1154 - 71ms/epoch - 804us/step\n",
      "Epoch 72/200\n",
      "88/88 - 0s - loss: 0.6918 - acc: 0.7066 - mae: 0.1148 - 71ms/epoch - 808us/step\n",
      "Epoch 73/200\n",
      "88/88 - 0s - loss: 0.6961 - acc: 0.7107 - mae: 0.1153 - 77ms/epoch - 872us/step\n",
      "Epoch 74/200\n",
      "88/88 - 0s - loss: 0.6878 - acc: 0.7100 - mae: 0.1146 - 72ms/epoch - 813us/step\n",
      "Epoch 75/200\n",
      "88/88 - 0s - loss: 0.6874 - acc: 0.7157 - mae: 0.1140 - 75ms/epoch - 853us/step\n",
      "Epoch 76/200\n",
      "88/88 - 0s - loss: 0.6861 - acc: 0.7194 - mae: 0.1138 - 70ms/epoch - 793us/step\n",
      "Epoch 77/200\n",
      "88/88 - 0s - loss: 0.6853 - acc: 0.7219 - mae: 0.1135 - 74ms/epoch - 840us/step\n",
      "Epoch 78/200\n",
      "88/88 - 0s - loss: 0.6922 - acc: 0.7105 - mae: 0.1143 - 76ms/epoch - 860us/step\n",
      "Epoch 79/200\n",
      "88/88 - 0s - loss: 0.6812 - acc: 0.7200 - mae: 0.1134 - 73ms/epoch - 831us/step\n",
      "Epoch 80/200\n",
      "88/88 - 0s - loss: 0.6874 - acc: 0.7128 - mae: 0.1139 - 77ms/epoch - 873us/step\n",
      "Epoch 81/200\n",
      "88/88 - 0s - loss: 0.6819 - acc: 0.7223 - mae: 0.1128 - 72ms/epoch - 819us/step\n",
      "Epoch 82/200\n",
      "88/88 - 0s - loss: 0.6689 - acc: 0.7216 - mae: 0.1116 - 75ms/epoch - 852us/step\n",
      "Epoch 83/200\n",
      "88/88 - 0s - loss: 0.6862 - acc: 0.7134 - mae: 0.1129 - 76ms/epoch - 864us/step\n",
      "Epoch 84/200\n",
      "88/88 - 0s - loss: 0.6646 - acc: 0.7280 - mae: 0.1114 - 87ms/epoch - 987us/step\n",
      "Epoch 85/200\n",
      "88/88 - 0s - loss: 0.6821 - acc: 0.7175 - mae: 0.1128 - 70ms/epoch - 800us/step\n",
      "Epoch 86/200\n",
      "88/88 - 0s - loss: 0.6685 - acc: 0.7212 - mae: 0.1113 - 75ms/epoch - 855us/step\n",
      "Epoch 87/200\n",
      "88/88 - 0s - loss: 0.6670 - acc: 0.7223 - mae: 0.1111 - 69ms/epoch - 782us/step\n",
      "Epoch 88/200\n",
      "88/88 - 0s - loss: 0.6670 - acc: 0.7312 - mae: 0.1109 - 73ms/epoch - 832us/step\n",
      "Epoch 89/200\n",
      "88/88 - 0s - loss: 0.6657 - acc: 0.7212 - mae: 0.1110 - 69ms/epoch - 786us/step\n",
      "Epoch 90/200\n",
      "88/88 - 0s - loss: 0.6787 - acc: 0.7207 - mae: 0.1120 - 72ms/epoch - 823us/step\n",
      "Epoch 91/200\n",
      "88/88 - 0s - loss: 0.6707 - acc: 0.7264 - mae: 0.1111 - 71ms/epoch - 804us/step\n",
      "Epoch 92/200\n",
      "88/88 - 0s - loss: 0.6589 - acc: 0.7271 - mae: 0.1099 - 69ms/epoch - 785us/step\n",
      "Epoch 93/200\n",
      "88/88 - 0s - loss: 0.6744 - acc: 0.7194 - mae: 0.1115 - 77ms/epoch - 871us/step\n",
      "Epoch 94/200\n",
      "88/88 - 0s - loss: 0.6579 - acc: 0.7346 - mae: 0.1095 - 78ms/epoch - 892us/step\n",
      "Epoch 95/200\n",
      "88/88 - 0s - loss: 0.6573 - acc: 0.7314 - mae: 0.1097 - 83ms/epoch - 941us/step\n",
      "Epoch 96/200\n",
      "88/88 - 0s - loss: 0.6618 - acc: 0.7285 - mae: 0.1093 - 79ms/epoch - 902us/step\n",
      "Epoch 97/200\n",
      "88/88 - 0s - loss: 0.6559 - acc: 0.7325 - mae: 0.1090 - 81ms/epoch - 925us/step\n",
      "Epoch 98/200\n",
      "88/88 - 0s - loss: 0.6509 - acc: 0.7332 - mae: 0.1085 - 75ms/epoch - 855us/step\n",
      "Epoch 99/200\n",
      "88/88 - 0s - loss: 0.6533 - acc: 0.7314 - mae: 0.1084 - 81ms/epoch - 925us/step\n",
      "Epoch 100/200\n",
      "88/88 - 0s - loss: 0.6504 - acc: 0.7330 - mae: 0.1085 - 79ms/epoch - 899us/step\n",
      "Epoch 101/200\n",
      "88/88 - 0s - loss: 0.6592 - acc: 0.7269 - mae: 0.1090 - 76ms/epoch - 867us/step\n",
      "Epoch 102/200\n",
      "88/88 - 0s - loss: 0.6501 - acc: 0.7348 - mae: 0.1080 - 77ms/epoch - 876us/step\n",
      "Epoch 103/200\n",
      "88/88 - 0s - loss: 0.6500 - acc: 0.7337 - mae: 0.1080 - 75ms/epoch - 850us/step\n",
      "Epoch 104/200\n",
      "88/88 - 0s - loss: 0.6595 - acc: 0.7316 - mae: 0.1088 - 71ms/epoch - 812us/step\n",
      "Epoch 105/200\n",
      "88/88 - 0s - loss: 0.6456 - acc: 0.7335 - mae: 0.1077 - 74ms/epoch - 842us/step\n",
      "Epoch 106/200\n",
      "88/88 - 0s - loss: 0.6579 - acc: 0.7239 - mae: 0.1085 - 74ms/epoch - 845us/step\n",
      "Epoch 107/200\n",
      "88/88 - 0s - loss: 0.6465 - acc: 0.7362 - mae: 0.1078 - 76ms/epoch - 862us/step\n",
      "Epoch 108/200\n",
      "88/88 - 0s - loss: 0.6403 - acc: 0.7364 - mae: 0.1071 - 77ms/epoch - 875us/step\n",
      "Epoch 109/200\n",
      "88/88 - 0s - loss: 0.6522 - acc: 0.7360 - mae: 0.1080 - 77ms/epoch - 872us/step\n",
      "Epoch 110/200\n",
      "88/88 - 0s - loss: 0.6452 - acc: 0.7355 - mae: 0.1066 - 73ms/epoch - 830us/step\n",
      "Epoch 111/200\n",
      "88/88 - 0s - loss: 0.6466 - acc: 0.7314 - mae: 0.1078 - 76ms/epoch - 860us/step\n",
      "Epoch 112/200\n",
      "88/88 - 0s - loss: 0.6318 - acc: 0.7430 - mae: 0.1054 - 71ms/epoch - 811us/step\n",
      "Epoch 113/200\n",
      "88/88 - 0s - loss: 0.6366 - acc: 0.7355 - mae: 0.1054 - 82ms/epoch - 926us/step\n",
      "Epoch 114/200\n",
      "88/88 - 0s - loss: 0.6434 - acc: 0.7398 - mae: 0.1071 - 78ms/epoch - 889us/step\n",
      "Epoch 115/200\n",
      "88/88 - 0s - loss: 0.6330 - acc: 0.7455 - mae: 0.1053 - 73ms/epoch - 827us/step\n",
      "Epoch 116/200\n",
      "88/88 - 0s - loss: 0.6344 - acc: 0.7360 - mae: 0.1053 - 71ms/epoch - 810us/step\n",
      "Epoch 117/200\n",
      "88/88 - 0s - loss: 0.6322 - acc: 0.7414 - mae: 0.1059 - 73ms/epoch - 829us/step\n",
      "Epoch 118/200\n",
      "88/88 - 0s - loss: 0.6293 - acc: 0.7460 - mae: 0.1044 - 74ms/epoch - 837us/step\n",
      "Epoch 119/200\n",
      "88/88 - 0s - loss: 0.6312 - acc: 0.7412 - mae: 0.1045 - 74ms/epoch - 842us/step\n",
      "Epoch 120/200\n",
      "88/88 - 0s - loss: 0.6411 - acc: 0.7396 - mae: 0.1062 - 89ms/epoch - 1ms/step\n",
      "Epoch 121/200\n",
      "88/88 - 0s - loss: 0.6324 - acc: 0.7453 - mae: 0.1052 - 83ms/epoch - 941us/step\n",
      "Epoch 122/200\n",
      "88/88 - 0s - loss: 0.6225 - acc: 0.7466 - mae: 0.1040 - 76ms/epoch - 866us/step\n",
      "Epoch 123/200\n",
      "88/88 - 0s - loss: 0.6299 - acc: 0.7369 - mae: 0.1046 - 72ms/epoch - 819us/step\n",
      "Epoch 124/200\n",
      "88/88 - 0s - loss: 0.6201 - acc: 0.7462 - mae: 0.1038 - 85ms/epoch - 961us/step\n",
      "Epoch 125/200\n",
      "88/88 - 0s - loss: 0.6214 - acc: 0.7448 - mae: 0.1033 - 73ms/epoch - 828us/step\n",
      "Epoch 126/200\n",
      "88/88 - 0s - loss: 0.6227 - acc: 0.7464 - mae: 0.1040 - 74ms/epoch - 845us/step\n",
      "Epoch 127/200\n",
      "88/88 - 0s - loss: 0.6223 - acc: 0.7516 - mae: 0.1033 - 71ms/epoch - 807us/step\n",
      "Epoch 128/200\n",
      "88/88 - 0s - loss: 0.6290 - acc: 0.7403 - mae: 0.1041 - 74ms/epoch - 842us/step\n",
      "Epoch 129/200\n",
      "88/88 - 0s - loss: 0.6173 - acc: 0.7441 - mae: 0.1031 - 74ms/epoch - 836us/step\n",
      "Epoch 130/200\n",
      "88/88 - 0s - loss: 0.6132 - acc: 0.7576 - mae: 0.1028 - 79ms/epoch - 896us/step\n",
      "Epoch 131/200\n",
      "88/88 - 0s - loss: 0.6099 - acc: 0.7539 - mae: 0.1021 - 71ms/epoch - 806us/step\n",
      "Epoch 132/200\n",
      "88/88 - 0s - loss: 0.6110 - acc: 0.7485 - mae: 0.1022 - 85ms/epoch - 968us/step\n",
      "Epoch 133/200\n",
      "88/88 - 0s - loss: 0.6222 - acc: 0.7471 - mae: 0.1027 - 90ms/epoch - 1ms/step\n",
      "Epoch 134/200\n",
      "88/88 - 0s - loss: 0.6158 - acc: 0.7460 - mae: 0.1025 - 82ms/epoch - 931us/step\n",
      "Epoch 135/200\n",
      "88/88 - 0s - loss: 0.6108 - acc: 0.7516 - mae: 0.1018 - 74ms/epoch - 843us/step\n",
      "Epoch 136/200\n",
      "88/88 - 0s - loss: 0.6261 - acc: 0.7423 - mae: 0.1032 - 75ms/epoch - 855us/step\n",
      "Epoch 137/200\n",
      "88/88 - 0s - loss: 0.6148 - acc: 0.7551 - mae: 0.1026 - 76ms/epoch - 860us/step\n",
      "Epoch 138/200\n",
      "88/88 - 0s - loss: 0.6051 - acc: 0.7567 - mae: 0.1011 - 72ms/epoch - 813us/step\n",
      "Epoch 139/200\n",
      "88/88 - 0s - loss: 0.6075 - acc: 0.7542 - mae: 0.1013 - 70ms/epoch - 799us/step\n",
      "Epoch 140/200\n",
      "88/88 - 0s - loss: 0.6028 - acc: 0.7539 - mae: 0.1011 - 70ms/epoch - 791us/step\n",
      "Epoch 141/200\n",
      "88/88 - 0s - loss: 0.6090 - acc: 0.7573 - mae: 0.1009 - 78ms/epoch - 885us/step\n",
      "Epoch 142/200\n",
      "88/88 - 0s - loss: 0.5962 - acc: 0.7562 - mae: 0.1005 - 69ms/epoch - 788us/step\n",
      "Epoch 143/200\n",
      "88/88 - 0s - loss: 0.6100 - acc: 0.7485 - mae: 0.1010 - 68ms/epoch - 770us/step\n",
      "Epoch 144/200\n",
      "88/88 - 0s - loss: 0.5888 - acc: 0.7621 - mae: 0.0993 - 73ms/epoch - 834us/step\n",
      "Epoch 145/200\n",
      "88/88 - 0s - loss: 0.5889 - acc: 0.7614 - mae: 0.0988 - 74ms/epoch - 844us/step\n",
      "Epoch 146/200\n",
      "88/88 - 0s - loss: 0.5985 - acc: 0.7562 - mae: 0.0996 - 71ms/epoch - 805us/step\n",
      "Epoch 147/200\n",
      "88/88 - 0s - loss: 0.5965 - acc: 0.7614 - mae: 0.0992 - 67ms/epoch - 765us/step\n",
      "Epoch 148/200\n",
      "88/88 - 0s - loss: 0.5973 - acc: 0.7582 - mae: 0.0997 - 73ms/epoch - 832us/step\n",
      "Epoch 149/200\n",
      "88/88 - 0s - loss: 0.5905 - acc: 0.7594 - mae: 0.0986 - 69ms/epoch - 785us/step\n",
      "Epoch 150/200\n",
      "88/88 - 0s - loss: 0.5861 - acc: 0.7639 - mae: 0.0983 - 67ms/epoch - 756us/step\n",
      "Epoch 151/200\n",
      "88/88 - 0s - loss: 0.5967 - acc: 0.7578 - mae: 0.0990 - 74ms/epoch - 837us/step\n",
      "Epoch 152/200\n",
      "88/88 - 0s - loss: 0.5853 - acc: 0.7628 - mae: 0.0979 - 70ms/epoch - 801us/step\n",
      "Epoch 153/200\n",
      "88/88 - 0s - loss: 0.5862 - acc: 0.7648 - mae: 0.0978 - 70ms/epoch - 799us/step\n",
      "Epoch 154/200\n",
      "88/88 - 0s - loss: 0.5909 - acc: 0.7628 - mae: 0.0988 - 70ms/epoch - 800us/step\n",
      "Epoch 155/200\n",
      "88/88 - 0s - loss: 0.5936 - acc: 0.7619 - mae: 0.0984 - 74ms/epoch - 844us/step\n",
      "Epoch 156/200\n",
      "88/88 - 0s - loss: 0.6051 - acc: 0.7551 - mae: 0.0988 - 75ms/epoch - 852us/step\n",
      "Epoch 157/200\n",
      "88/88 - 0s - loss: 0.5821 - acc: 0.7614 - mae: 0.0979 - 71ms/epoch - 803us/step\n",
      "Epoch 158/200\n",
      "88/88 - 0s - loss: 0.5798 - acc: 0.7678 - mae: 0.0965 - 74ms/epoch - 846us/step\n",
      "Epoch 159/200\n",
      "88/88 - 0s - loss: 0.5789 - acc: 0.7728 - mae: 0.0969 - 70ms/epoch - 796us/step\n",
      "Epoch 160/200\n",
      "88/88 - 0s - loss: 0.5790 - acc: 0.7676 - mae: 0.0967 - 74ms/epoch - 840us/step\n",
      "Epoch 161/200\n",
      "88/88 - 0s - loss: 0.5841 - acc: 0.7683 - mae: 0.0967 - 77ms/epoch - 874us/step\n",
      "Epoch 162/200\n",
      "88/88 - 0s - loss: 0.5740 - acc: 0.7726 - mae: 0.0958 - 69ms/epoch - 779us/step\n",
      "Epoch 163/200\n",
      "88/88 - 0s - loss: 0.5720 - acc: 0.7712 - mae: 0.0961 - 71ms/epoch - 807us/step\n",
      "Epoch 164/200\n",
      "88/88 - 0s - loss: 0.5785 - acc: 0.7630 - mae: 0.0959 - 71ms/epoch - 807us/step\n",
      "Epoch 165/200\n",
      "88/88 - 0s - loss: 0.5757 - acc: 0.7694 - mae: 0.0961 - 71ms/epoch - 806us/step\n",
      "Epoch 166/200\n",
      "88/88 - 0s - loss: 0.5756 - acc: 0.7694 - mae: 0.0955 - 68ms/epoch - 772us/step\n",
      "Epoch 167/200\n",
      "88/88 - 0s - loss: 0.5858 - acc: 0.7576 - mae: 0.0975 - 69ms/epoch - 785us/step\n",
      "Epoch 168/200\n",
      "88/88 - 0s - loss: 0.5828 - acc: 0.7657 - mae: 0.0962 - 70ms/epoch - 795us/step\n",
      "Epoch 169/200\n",
      "88/88 - 0s - loss: 0.5718 - acc: 0.7678 - mae: 0.0957 - 78ms/epoch - 887us/step\n",
      "Epoch 170/200\n",
      "88/88 - 0s - loss: 0.5620 - acc: 0.7751 - mae: 0.0946 - 76ms/epoch - 859us/step\n",
      "Epoch 171/200\n",
      "88/88 - 0s - loss: 0.5641 - acc: 0.7701 - mae: 0.0943 - 79ms/epoch - 895us/step\n",
      "Epoch 172/200\n",
      "88/88 - 0s - loss: 0.5625 - acc: 0.7714 - mae: 0.0938 - 74ms/epoch - 845us/step\n",
      "Epoch 173/200\n",
      "88/88 - 0s - loss: 0.5647 - acc: 0.7764 - mae: 0.0946 - 71ms/epoch - 811us/step\n",
      "Epoch 174/200\n",
      "88/88 - 0s - loss: 0.5640 - acc: 0.7739 - mae: 0.0940 - 73ms/epoch - 828us/step\n",
      "Epoch 175/200\n",
      "88/88 - 0s - loss: 0.5625 - acc: 0.7751 - mae: 0.0938 - 72ms/epoch - 814us/step\n",
      "Epoch 176/200\n",
      "88/88 - 0s - loss: 0.5705 - acc: 0.7739 - mae: 0.0947 - 75ms/epoch - 853us/step\n",
      "Epoch 177/200\n",
      "88/88 - 0s - loss: 0.5564 - acc: 0.7733 - mae: 0.0934 - 68ms/epoch - 773us/step\n",
      "Epoch 178/200\n",
      "88/88 - 0s - loss: 0.5667 - acc: 0.7726 - mae: 0.0936 - 73ms/epoch - 825us/step\n",
      "Epoch 179/200\n",
      "88/88 - 0s - loss: 0.5567 - acc: 0.7764 - mae: 0.0928 - 76ms/epoch - 863us/step\n",
      "Epoch 180/200\n",
      "88/88 - 0s - loss: 0.5532 - acc: 0.7744 - mae: 0.0929 - 70ms/epoch - 794us/step\n",
      "Epoch 181/200\n",
      "88/88 - 0s - loss: 0.5492 - acc: 0.7771 - mae: 0.0925 - 71ms/epoch - 805us/step\n",
      "Epoch 182/200\n",
      "88/88 - 0s - loss: 0.5550 - acc: 0.7730 - mae: 0.0928 - 73ms/epoch - 827us/step\n",
      "Epoch 183/200\n",
      "88/88 - 0s - loss: 0.5657 - acc: 0.7698 - mae: 0.0931 - 74ms/epoch - 839us/step\n",
      "Epoch 184/200\n",
      "88/88 - 0s - loss: 0.5531 - acc: 0.7792 - mae: 0.0923 - 71ms/epoch - 806us/step\n",
      "Epoch 185/200\n",
      "88/88 - 0s - loss: 0.5495 - acc: 0.7846 - mae: 0.0917 - 70ms/epoch - 796us/step\n",
      "Epoch 186/200\n",
      "88/88 - 0s - loss: 0.5453 - acc: 0.7824 - mae: 0.0915 - 70ms/epoch - 795us/step\n",
      "Epoch 187/200\n",
      "88/88 - 0s - loss: 0.5434 - acc: 0.7828 - mae: 0.0912 - 69ms/epoch - 785us/step\n",
      "Epoch 188/200\n",
      "88/88 - 0s - loss: 0.5556 - acc: 0.7742 - mae: 0.0924 - 77ms/epoch - 874us/step\n",
      "Epoch 189/200\n",
      "88/88 - 0s - loss: 0.5568 - acc: 0.7760 - mae: 0.0923 - 72ms/epoch - 813us/step\n",
      "Epoch 190/200\n",
      "88/88 - 0s - loss: 0.5552 - acc: 0.7746 - mae: 0.0926 - 69ms/epoch - 780us/step\n",
      "Epoch 191/200\n",
      "88/88 - 0s - loss: 0.5468 - acc: 0.7808 - mae: 0.0913 - 73ms/epoch - 826us/step\n",
      "Epoch 192/200\n",
      "88/88 - 0s - loss: 0.5497 - acc: 0.7730 - mae: 0.0913 - 74ms/epoch - 844us/step\n",
      "Epoch 193/200\n",
      "88/88 - 0s - loss: 0.5333 - acc: 0.7858 - mae: 0.0900 - 70ms/epoch - 800us/step\n",
      "Epoch 194/200\n",
      "88/88 - 0s - loss: 0.5314 - acc: 0.7899 - mae: 0.0895 - 67ms/epoch - 759us/step\n",
      "Epoch 195/200\n",
      "88/88 - 0s - loss: 0.5397 - acc: 0.7810 - mae: 0.0901 - 70ms/epoch - 800us/step\n",
      "Epoch 196/200\n",
      "88/88 - 0s - loss: 0.5374 - acc: 0.7917 - mae: 0.0898 - 79ms/epoch - 893us/step\n",
      "Epoch 197/200\n",
      "88/88 - 0s - loss: 0.5291 - acc: 0.7908 - mae: 0.0893 - 83ms/epoch - 942us/step\n",
      "Epoch 198/200\n",
      "88/88 - 0s - loss: 0.5266 - acc: 0.7880 - mae: 0.0885 - 76ms/epoch - 861us/step\n",
      "Epoch 199/200\n",
      "88/88 - 0s - loss: 0.5396 - acc: 0.7803 - mae: 0.0896 - 73ms/epoch - 829us/step\n",
      "Epoch 200/200\n",
      "88/88 - 0s - loss: 0.5395 - acc: 0.7876 - mae: 0.0895 - 69ms/epoch - 784us/step\n"
     ]
    },
    {
     "data": {
      "text/plain": [
       "<keras.callbacks.History at 0x7fac84a0a7d0>"
      ]
     },
     "execution_count": 58,
     "metadata": {},
     "output_type": "execute_result"
    }
   ],
   "source": [
    "history = model.fit(X_train, y_train, epochs=200, batch_size=50, verbose=2)\n",
    "history"
   ]
  },
  {
   "cell_type": "code",
   "execution_count": null,
   "metadata": {},
   "outputs": [],
   "source": [
    "## 401 epoch를 학습시킨 후,(트레인 데이터의 학습 결과)\n",
    "## loss: 0.5395 - acc: 0.7876 - mae: 0.0895"
   ]
  },
  {
   "cell_type": "code",
   "execution_count": 61,
   "metadata": {},
   "outputs": [
    {
     "name": "stdout",
     "output_type": "stream",
     "text": [
      "35/35 [==============================] - 0s 1ms/step - loss: 1.3373 - acc: 0.6009 - mae: 0.1312\n"
     ]
    },
    {
     "data": {
      "text/plain": [
       "[1.3373371362686157, 0.6009091138839722, 0.131185844540596]"
      ]
     },
     "execution_count": 61,
     "metadata": {},
     "output_type": "execute_result"
    }
   ],
   "source": [
    "## 테스트 데이터의 학습 결과를 비교해보자!!\n",
    "## acc: train < test\n",
    "test_result = model.evaluate(X_test, y_test)\n",
    "test_result"
   ]
  },
  {
   "cell_type": "code",
   "execution_count": null,
   "metadata": {},
   "outputs": [],
   "source": [
    "## overfitting되었음.\n",
    "## train=> loss: 0.5395 - acc: 0.7876 - mae: 0.0895\n",
    "## test=> loss: 1.3373 - acc: 0.6009 - mae: 0.1312\n",
    "## loss(적): train < test  \n",
    "## acc(큰): train > test\n",
    "## mae(적): train < test"
   ]
  },
  {
   "cell_type": "code",
   "execution_count": 62,
   "metadata": {},
   "outputs": [
    {
     "data": {
      "text/plain": [
       "array([2.7648223e-13, 2.5243923e-08, 2.6809075e-04, 1.5089465e-02,\n",
       "       9.5402467e-01, 3.0617286e-02, 5.0702664e-07], dtype=float32)"
      ]
     },
     "execution_count": 62,
     "metadata": {},
     "output_type": "execute_result"
    }
   ],
   "source": [
    "## 다중분류에서는 predict를 할 때 각 항목이 될 가능성을 계산해준다.\n",
    "y_pred = model.predict(X_test)\n",
    "y_pred[0]"
   ]
  },
  {
   "cell_type": "code",
   "execution_count": 64,
   "metadata": {},
   "outputs": [
    {
     "data": {
      "text/plain": [
       "7"
      ]
     },
     "execution_count": 64,
     "metadata": {},
     "output_type": "execute_result"
    }
   ],
   "source": [
    "y_pred0_index = np.argmax(y_pred[0]) \n",
    "y_pred0_index + 3"
   ]
  },
  {
   "cell_type": "code",
   "execution_count": 68,
   "metadata": {},
   "outputs": [
    {
     "data": {
      "text/plain": [
       "array([1., 0.], dtype=float32)"
      ]
     },
     "execution_count": 68,
     "metadata": {},
     "output_type": "execute_result"
    }
   ],
   "source": [
    "y_test[0][5:]"
   ]
  },
  {
   "cell_type": "code",
   "execution_count": 70,
   "metadata": {},
   "outputs": [
    {
     "data": {
      "text/plain": [
       "1100"
      ]
     },
     "execution_count": 70,
     "metadata": {},
     "output_type": "execute_result"
    }
   ],
   "source": [
    "len(y_pred)"
   ]
  },
  {
   "cell_type": "code",
   "execution_count": 71,
   "metadata": {},
   "outputs": [
    {
     "data": {
      "text/plain": [
       "(1100, 7)"
      ]
     },
     "execution_count": 71,
     "metadata": {},
     "output_type": "execute_result"
    }
   ],
   "source": [
    "y_pred.shape"
   ]
  },
  {
   "cell_type": "code",
   "execution_count": 72,
   "metadata": {},
   "outputs": [
    {
     "data": {
      "text/plain": [
       "array([7, 6, 6, ..., 6, 6, 7])"
      ]
     },
     "execution_count": 72,
     "metadata": {},
     "output_type": "execute_result"
    }
   ],
   "source": [
    "y_pred_test = np.argmax(y_pred, axis= -1) + 3\n",
    "y_pred_test"
   ]
  },
  {
   "cell_type": "code",
   "execution_count": 76,
   "metadata": {},
   "outputs": [
    {
     "data": {
      "text/plain": [
       "array([8, 5, 5, ..., 6, 7, 8])"
      ]
     },
     "execution_count": 76,
     "metadata": {},
     "output_type": "execute_result"
    }
   ],
   "source": [
    "y_test_ = np.argmax(y_test, axis= -1) + 3\n",
    "y_test_"
   ]
  },
  {
   "cell_type": "code",
   "execution_count": 79,
   "metadata": {},
   "outputs": [
    {
     "name": "stdout",
     "output_type": "stream",
     "text": [
      "0.600909090909091\n",
      "[[  0   0   1   0   0   0   0]\n",
      " [  2   9  22   8   0   0   0]\n",
      " [  3   6 239  93   5   0   0]\n",
      " [  1   5 107 337  41   2   0]\n",
      " [  0   0   5 104  70   6   0]\n",
      " [  0   1   0  10  14   6   0]\n",
      " [  0   0   0   0   2   1   0]]\n"
     ]
    }
   ],
   "source": [
    "from sklearn.metrics import accuracy_score, precision_score, recall_score, confusion_matrix\n",
    "\n",
    "print(accuracy_score(y_test_, y_pred_test))\n",
    "print(confusion_matrix(y_test_, y_pred_test))"
   ]
  },
  {
   "cell_type": "code",
   "execution_count": null,
   "metadata": {},
   "outputs": [],
   "source": []
  }
 ],
 "metadata": {
  "kernelspec": {
   "display_name": "Python 3 (ipykernel)",
   "language": "python",
   "name": "python3"
  },
  "language_info": {
   "codemirror_mode": {
    "name": "ipython",
    "version": 3
   },
   "file_extension": ".py",
   "mimetype": "text/x-python",
   "name": "python",
   "nbconvert_exporter": "python",
   "pygments_lexer": "ipython3",
   "version": "3.7.9"
  }
 },
 "nbformat": 4,
 "nbformat_minor": 4
}
