{
 "cells": [
  {
   "cell_type": "code",
   "execution_count": 1,
   "metadata": {},
   "outputs": [
    {
     "name": "stdout",
     "output_type": "stream",
     "text": [
      "2.7.0\n"
     ]
    }
   ],
   "source": [
    "import pandas as pd\n",
    "import numpy as np\n",
    "import random\n",
    "import tensorflow as tf\n",
    "print(tf.__version__)"
   ]
  },
  {
   "cell_type": "code",
   "execution_count": 2,
   "metadata": {},
   "outputs": [],
   "source": [
    "from sklearn import datasets"
   ]
  },
  {
   "cell_type": "code",
   "execution_count": 3,
   "metadata": {},
   "outputs": [
    {
     "data": {
      "text/plain": [
       "sklearn.utils.Bunch"
      ]
     },
     "execution_count": 3,
     "metadata": {},
     "output_type": "execute_result"
    }
   ],
   "source": [
    "housing = datasets.load_boston()\n",
    "type(housing)"
   ]
  },
  {
   "cell_type": "code",
   "execution_count": 4,
   "metadata": {},
   "outputs": [],
   "source": [
    "# sklearn.utils.Bunch : dictionary 객체로 만들어 놓은 것.!"
   ]
  },
  {
   "cell_type": "code",
   "execution_count": 5,
   "metadata": {},
   "outputs": [
    {
     "data": {
      "text/plain": [
       "dict_keys(['data', 'target', 'feature_names', 'DESCR', 'filename'])"
      ]
     },
     "execution_count": 5,
     "metadata": {},
     "output_type": "execute_result"
    }
   ],
   "source": [
    "housing.keys()"
   ]
  },
  {
   "cell_type": "code",
   "execution_count": 6,
   "metadata": {},
   "outputs": [
    {
     "data": {
      "text/plain": [
       "array([[6.3200e-03, 1.8000e+01, 2.3100e+00, ..., 1.5300e+01, 3.9690e+02,\n",
       "        4.9800e+00],\n",
       "       [2.7310e-02, 0.0000e+00, 7.0700e+00, ..., 1.7800e+01, 3.9690e+02,\n",
       "        9.1400e+00],\n",
       "       [2.7290e-02, 0.0000e+00, 7.0700e+00, ..., 1.7800e+01, 3.9283e+02,\n",
       "        4.0300e+00],\n",
       "       ...,\n",
       "       [6.0760e-02, 0.0000e+00, 1.1930e+01, ..., 2.1000e+01, 3.9690e+02,\n",
       "        5.6400e+00],\n",
       "       [1.0959e-01, 0.0000e+00, 1.1930e+01, ..., 2.1000e+01, 3.9345e+02,\n",
       "        6.4800e+00],\n",
       "       [4.7410e-02, 0.0000e+00, 1.1930e+01, ..., 2.1000e+01, 3.9690e+02,\n",
       "        7.8800e+00]])"
      ]
     },
     "execution_count": 6,
     "metadata": {},
     "output_type": "execute_result"
    }
   ],
   "source": [
    "housing['data']"
   ]
  },
  {
   "cell_type": "code",
   "execution_count": 7,
   "metadata": {},
   "outputs": [],
   "source": [
    "X_data = housing.data  ##문제"
   ]
  },
  {
   "cell_type": "code",
   "execution_count": 8,
   "metadata": {},
   "outputs": [],
   "source": [
    "y_data = housing.target ##답(집값)"
   ]
  },
  {
   "cell_type": "code",
   "execution_count": 9,
   "metadata": {},
   "outputs": [
    {
     "data": {
      "text/plain": [
       "array([24. , 21.6, 34.7])"
      ]
     },
     "execution_count": 9,
     "metadata": {},
     "output_type": "execute_result"
    }
   ],
   "source": [
    "y_data[:3]"
   ]
  },
  {
   "cell_type": "code",
   "execution_count": 10,
   "metadata": {},
   "outputs": [
    {
     "data": {
      "text/plain": [
       "(506, 13)"
      ]
     },
     "execution_count": 10,
     "metadata": {},
     "output_type": "execute_result"
    }
   ],
   "source": [
    "X_data.shape"
   ]
  },
  {
   "cell_type": "code",
   "execution_count": 11,
   "metadata": {},
   "outputs": [
    {
     "data": {
      "text/plain": [
       "array(['CRIM', 'ZN', 'INDUS', 'CHAS', 'NOX', 'RM', 'AGE', 'DIS', 'RAD',\n",
       "       'TAX', 'PTRATIO', 'B', 'LSTAT'], dtype='<U7')"
      ]
     },
     "execution_count": 11,
     "metadata": {},
     "output_type": "execute_result"
    }
   ],
   "source": [
    "housing.feature_names"
   ]
  },
  {
   "cell_type": "code",
   "execution_count": 12,
   "metadata": {},
   "outputs": [],
   "source": [
    "from sklearn.preprocessing import MinMaxScaler\n",
    "from sklearn.model_selection import train_test_split"
   ]
  },
  {
   "cell_type": "code",
   "execution_count": 13,
   "metadata": {},
   "outputs": [
    {
     "data": {
      "text/plain": [
       "array([[0.00000000e+00, 1.80000000e-01, 6.78152493e-02, ...,\n",
       "        2.87234043e-01, 1.00000000e+00, 8.96799117e-02],\n",
       "       [2.35922539e-04, 0.00000000e+00, 2.42302053e-01, ...,\n",
       "        5.53191489e-01, 1.00000000e+00, 2.04470199e-01],\n",
       "       [2.35697744e-04, 0.00000000e+00, 2.42302053e-01, ...,\n",
       "        5.53191489e-01, 9.89737254e-01, 6.34657837e-02],\n",
       "       ...,\n",
       "       [6.11892474e-04, 0.00000000e+00, 4.20454545e-01, ...,\n",
       "        8.93617021e-01, 1.00000000e+00, 1.07891832e-01],\n",
       "       [1.16072990e-03, 0.00000000e+00, 4.20454545e-01, ...,\n",
       "        8.93617021e-01, 9.91300620e-01, 1.31070640e-01],\n",
       "       [4.61841693e-04, 0.00000000e+00, 4.20454545e-01, ...,\n",
       "        8.93617021e-01, 1.00000000e+00, 1.69701987e-01]])"
      ]
     },
     "execution_count": 13,
     "metadata": {},
     "output_type": "execute_result"
    }
   ],
   "source": [
    "scaler = MinMaxScaler()\n",
    "X_data_scaled = scaler.fit_transform(X_data)\n",
    "X_data_scaled"
   ]
  },
  {
   "cell_type": "code",
   "execution_count": 14,
   "metadata": {},
   "outputs": [
    {
     "name": "stdout",
     "output_type": "stream",
     "text": [
      "(455, 13) (455,)\n",
      "(51, 13) (51,)\n"
     ]
    }
   ],
   "source": [
    "X_train, X_test, y_train, y_test = train_test_split(X_data_scaled, y_data, \n",
    "                                                    test_size=0.1, \n",
    "                                                    shuffle=True, \n",
    "                                                    random_state=11)\n",
    "print(X_train.shape, y_train.shape)\n",
    "print(X_test.shape, y_test.shape)"
   ]
  },
  {
   "cell_type": "code",
   "execution_count": 15,
   "metadata": {},
   "outputs": [],
   "source": [
    "from tensorflow.keras import Sequential\n",
    "from tensorflow.keras.layers import Dense"
   ]
  },
  {
   "cell_type": "code",
   "execution_count": 17,
   "metadata": {},
   "outputs": [],
   "source": [
    "## 레이어를 순서대로 쌓을 수 있도록 객체를 생성\n",
    "model = Sequential()\n",
    "model.add(Dense(128, activation='relu', input_dim=13))\n",
    "model.add(Dense(64, activation='relu'))\n",
    "model.add(Dense(32, activation='relu'))\n",
    "model.add(Dense(16, activation='relu'))\n",
    "model.add(Dense(1, activation='linear')) \n",
    "## 회귀일때, 마지막 출력층의 활성화함수\n",
    "\n",
    "## 쌓은 것으로 모델 셋팅을 하세요.\n",
    "model.compile(optimizer='adam', loss='mse', metrics=['mae'])"
   ]
  },
  {
   "cell_type": "code",
   "execution_count": 18,
   "metadata": {},
   "outputs": [
    {
     "name": "stdout",
     "output_type": "stream",
     "text": [
      "Model: \"sequential_2\"\n",
      "_________________________________________________________________\n",
      " Layer (type)                Output Shape              Param #   \n",
      "=================================================================\n",
      " dense_10 (Dense)            (None, 128)               1792      \n",
      "                                                                 \n",
      " dense_11 (Dense)            (None, 64)                8256      \n",
      "                                                                 \n",
      " dense_12 (Dense)            (None, 32)                2080      \n",
      "                                                                 \n",
      " dense_13 (Dense)            (None, 16)                528       \n",
      "                                                                 \n",
      " dense_14 (Dense)            (None, 1)                 17        \n",
      "                                                                 \n",
      "=================================================================\n",
      "Total params: 12,673\n",
      "Trainable params: 12,673\n",
      "Non-trainable params: 0\n",
      "_________________________________________________________________\n"
     ]
    }
   ],
   "source": [
    "## 레이어를 순서대로 쌓을 수 있도록 객체를 생성\n",
    "model2 = Sequential()\n",
    "model2.add(Dense(128, activation='sigmoid', input_dim=13))\n",
    "model2.add(Dense(64, activation='sigmoid'))\n",
    "model2.add(Dense(32, activation='sigmoid'))\n",
    "model2.add(Dense(16, activation='sigmoid'))\n",
    "model2.add(Dense(1, activation='linear')) \n",
    "## 회귀일때, 마지막 출력층의 활성화함수\n",
    "\n",
    "## 쌓은 것으로 모델 셋팅을 하세요.\n",
    "model2.compile(optimizer='adam', loss='mse', metrics=['mae'])\n",
    "\n",
    "## 모델에 셋팅한 내용을 요약해서 프린트\n",
    "model2.summary()"
   ]
  },
  {
   "cell_type": "code",
   "execution_count": 20,
   "metadata": {},
   "outputs": [
    {
     "name": "stdout",
     "output_type": "stream",
     "text": [
      "Epoch 1/200\n",
      "15/15 - 0s - loss: 9.3766 - mae: 2.1687 - 15ms/epoch - 994us/step\n",
      "Epoch 2/200\n",
      "15/15 - 0s - loss: 9.4266 - mae: 2.1872 - 25ms/epoch - 2ms/step\n",
      "Epoch 3/200\n",
      "15/15 - 0s - loss: 8.9770 - mae: 2.1566 - 21ms/epoch - 1ms/step\n",
      "Epoch 4/200\n",
      "15/15 - 0s - loss: 9.1589 - mae: 2.1370 - 19ms/epoch - 1ms/step\n",
      "Epoch 5/200\n",
      "15/15 - 0s - loss: 9.0319 - mae: 2.1215 - 17ms/epoch - 1ms/step\n",
      "Epoch 6/200\n",
      "15/15 - 0s - loss: 8.7324 - mae: 2.1307 - 21ms/epoch - 1ms/step\n",
      "Epoch 7/200\n",
      "15/15 - 0s - loss: 8.9352 - mae: 2.0850 - 16ms/epoch - 1ms/step\n",
      "Epoch 8/200\n",
      "15/15 - 0s - loss: 8.5806 - mae: 2.0861 - 19ms/epoch - 1ms/step\n",
      "Epoch 9/200\n",
      "15/15 - 0s - loss: 8.7695 - mae: 2.0920 - 18ms/epoch - 1ms/step\n",
      "Epoch 10/200\n",
      "15/15 - 0s - loss: 8.2954 - mae: 2.0674 - 16ms/epoch - 1ms/step\n",
      "Epoch 11/200\n",
      "15/15 - 0s - loss: 8.8769 - mae: 2.1397 - 16ms/epoch - 1ms/step\n",
      "Epoch 12/200\n",
      "15/15 - 0s - loss: 8.2272 - mae: 2.0884 - 14ms/epoch - 910us/step\n",
      "Epoch 13/200\n",
      "15/15 - 0s - loss: 8.2262 - mae: 2.0453 - 16ms/epoch - 1ms/step\n",
      "Epoch 14/200\n",
      "15/15 - 0s - loss: 9.8404 - mae: 2.3256 - 15ms/epoch - 1ms/step\n",
      "Epoch 15/200\n",
      "15/15 - 0s - loss: 8.4935 - mae: 2.1081 - 17ms/epoch - 1ms/step\n",
      "Epoch 16/200\n",
      "15/15 - 0s - loss: 8.1312 - mae: 2.0370 - 13ms/epoch - 898us/step\n",
      "Epoch 17/200\n",
      "15/15 - 0s - loss: 7.8728 - mae: 2.0345 - 17ms/epoch - 1ms/step\n",
      "Epoch 18/200\n",
      "15/15 - 0s - loss: 8.2637 - mae: 2.0770 - 15ms/epoch - 1ms/step\n",
      "Epoch 19/200\n",
      "15/15 - 0s - loss: 7.9719 - mae: 2.0312 - 17ms/epoch - 1ms/step\n",
      "Epoch 20/200\n",
      "15/15 - 0s - loss: 7.9872 - mae: 2.0396 - 14ms/epoch - 967us/step\n",
      "Epoch 21/200\n",
      "15/15 - 0s - loss: 7.7523 - mae: 2.0243 - 15ms/epoch - 1ms/step\n",
      "Epoch 22/200\n",
      "15/15 - 0s - loss: 8.2595 - mae: 2.0669 - 14ms/epoch - 913us/step\n",
      "Epoch 23/200\n",
      "15/15 - 0s - loss: 8.2719 - mae: 2.0699 - 14ms/epoch - 954us/step\n",
      "Epoch 24/200\n",
      "15/15 - 0s - loss: 7.8133 - mae: 2.0165 - 13ms/epoch - 880us/step\n",
      "Epoch 25/200\n",
      "15/15 - 0s - loss: 8.6451 - mae: 2.1589 - 15ms/epoch - 1ms/step\n",
      "Epoch 26/200\n",
      "15/15 - 0s - loss: 8.4108 - mae: 2.1449 - 15ms/epoch - 981us/step\n",
      "Epoch 27/200\n",
      "15/15 - 0s - loss: 7.8286 - mae: 2.0184 - 14ms/epoch - 964us/step\n",
      "Epoch 28/200\n",
      "15/15 - 0s - loss: 7.8560 - mae: 2.0288 - 14ms/epoch - 904us/step\n",
      "Epoch 29/200\n",
      "15/15 - 0s - loss: 7.8888 - mae: 2.0130 - 16ms/epoch - 1ms/step\n",
      "Epoch 30/200\n",
      "15/15 - 0s - loss: 8.4717 - mae: 2.1392 - 15ms/epoch - 1ms/step\n",
      "Epoch 31/200\n",
      "15/15 - 0s - loss: 7.4404 - mae: 1.9893 - 15ms/epoch - 995us/step\n",
      "Epoch 32/200\n",
      "15/15 - 0s - loss: 7.1846 - mae: 1.9600 - 14ms/epoch - 964us/step\n",
      "Epoch 33/200\n",
      "15/15 - 0s - loss: 7.3166 - mae: 1.9441 - 16ms/epoch - 1ms/step\n",
      "Epoch 34/200\n",
      "15/15 - 0s - loss: 7.0770 - mae: 1.9389 - 12ms/epoch - 831us/step\n",
      "Epoch 35/200\n",
      "15/15 - 0s - loss: 7.1089 - mae: 1.9199 - 14ms/epoch - 942us/step\n",
      "Epoch 36/200\n",
      "15/15 - 0s - loss: 7.2261 - mae: 1.9514 - 14ms/epoch - 924us/step\n",
      "Epoch 37/200\n",
      "15/15 - 0s - loss: 7.7904 - mae: 2.0745 - 14ms/epoch - 941us/step\n",
      "Epoch 38/200\n",
      "15/15 - 0s - loss: 8.1814 - mae: 2.1331 - 16ms/epoch - 1ms/step\n",
      "Epoch 39/200\n",
      "15/15 - 0s - loss: 7.8977 - mae: 2.0778 - 17ms/epoch - 1ms/step\n",
      "Epoch 40/200\n",
      "15/15 - 0s - loss: 7.0571 - mae: 1.9595 - 15ms/epoch - 1ms/step\n",
      "Epoch 41/200\n",
      "15/15 - 0s - loss: 7.2300 - mae: 1.9563 - 19ms/epoch - 1ms/step\n",
      "Epoch 42/200\n",
      "15/15 - 0s - loss: 7.5238 - mae: 2.0066 - 14ms/epoch - 941us/step\n",
      "Epoch 43/200\n",
      "15/15 - 0s - loss: 6.9210 - mae: 1.9146 - 18ms/epoch - 1ms/step\n",
      "Epoch 44/200\n",
      "15/15 - 0s - loss: 6.8404 - mae: 1.9061 - 16ms/epoch - 1ms/step\n",
      "Epoch 45/200\n",
      "15/15 - 0s - loss: 6.9001 - mae: 1.9431 - 16ms/epoch - 1ms/step\n",
      "Epoch 46/200\n",
      "15/15 - 0s - loss: 6.9249 - mae: 1.9316 - 16ms/epoch - 1ms/step\n",
      "Epoch 47/200\n",
      "15/15 - 0s - loss: 6.5273 - mae: 1.8825 - 17ms/epoch - 1ms/step\n",
      "Epoch 48/200\n",
      "15/15 - 0s - loss: 6.8111 - mae: 1.9627 - 14ms/epoch - 945us/step\n",
      "Epoch 49/200\n",
      "15/15 - 0s - loss: 6.7533 - mae: 1.8998 - 16ms/epoch - 1ms/step\n",
      "Epoch 50/200\n",
      "15/15 - 0s - loss: 6.5871 - mae: 1.8884 - 19ms/epoch - 1ms/step\n",
      "Epoch 51/200\n",
      "15/15 - 0s - loss: 6.5735 - mae: 1.8759 - 15ms/epoch - 987us/step\n",
      "Epoch 52/200\n",
      "15/15 - 0s - loss: 6.8948 - mae: 1.9452 - 16ms/epoch - 1ms/step\n",
      "Epoch 53/200\n",
      "15/15 - 0s - loss: 7.3411 - mae: 2.0132 - 16ms/epoch - 1ms/step\n",
      "Epoch 54/200\n",
      "15/15 - 0s - loss: 7.4336 - mae: 2.0432 - 14ms/epoch - 950us/step\n",
      "Epoch 55/200\n",
      "15/15 - 0s - loss: 6.9348 - mae: 1.9668 - 15ms/epoch - 1ms/step\n",
      "Epoch 56/200\n",
      "15/15 - 0s - loss: 7.2166 - mae: 1.9574 - 20ms/epoch - 1ms/step\n",
      "Epoch 57/200\n",
      "15/15 - 0s - loss: 6.6685 - mae: 1.9370 - 16ms/epoch - 1ms/step\n",
      "Epoch 58/200\n",
      "15/15 - 0s - loss: 7.0027 - mae: 1.9201 - 15ms/epoch - 990us/step\n",
      "Epoch 59/200\n",
      "15/15 - 0s - loss: 6.3502 - mae: 1.8569 - 17ms/epoch - 1ms/step\n",
      "Epoch 60/200\n",
      "15/15 - 0s - loss: 6.5099 - mae: 1.9151 - 14ms/epoch - 965us/step\n",
      "Epoch 61/200\n",
      "15/15 - 0s - loss: 6.2962 - mae: 1.8751 - 16ms/epoch - 1ms/step\n",
      "Epoch 62/200\n",
      "15/15 - 0s - loss: 6.2430 - mae: 1.8607 - 14ms/epoch - 910us/step\n",
      "Epoch 63/200\n",
      "15/15 - 0s - loss: 6.2958 - mae: 1.8427 - 15ms/epoch - 1ms/step\n",
      "Epoch 64/200\n",
      "15/15 - 0s - loss: 6.0749 - mae: 1.8351 - 17ms/epoch - 1ms/step\n",
      "Epoch 65/200\n",
      "15/15 - 0s - loss: 6.2749 - mae: 1.8411 - 15ms/epoch - 1ms/step\n",
      "Epoch 66/200\n",
      "15/15 - 0s - loss: 6.1605 - mae: 1.8569 - 15ms/epoch - 991us/step\n",
      "Epoch 67/200\n",
      "15/15 - 0s - loss: 6.4974 - mae: 1.8856 - 14ms/epoch - 932us/step\n",
      "Epoch 68/200\n",
      "15/15 - 0s - loss: 6.3329 - mae: 1.8599 - 14ms/epoch - 949us/step\n",
      "Epoch 69/200\n",
      "15/15 - 0s - loss: 6.2198 - mae: 1.8355 - 18ms/epoch - 1ms/step\n",
      "Epoch 70/200\n",
      "15/15 - 0s - loss: 5.8533 - mae: 1.7793 - 13ms/epoch - 865us/step\n",
      "Epoch 71/200\n",
      "15/15 - 0s - loss: 5.8516 - mae: 1.7909 - 16ms/epoch - 1ms/step\n",
      "Epoch 72/200\n",
      "15/15 - 0s - loss: 6.2863 - mae: 1.8587 - 14ms/epoch - 952us/step\n",
      "Epoch 73/200\n",
      "15/15 - 0s - loss: 6.1432 - mae: 1.8128 - 14ms/epoch - 939us/step\n",
      "Epoch 74/200\n",
      "15/15 - 0s - loss: 6.0640 - mae: 1.8237 - 13ms/epoch - 869us/step\n",
      "Epoch 75/200\n",
      "15/15 - 0s - loss: 6.7202 - mae: 1.9209 - 12ms/epoch - 820us/step\n",
      "Epoch 76/200\n",
      "15/15 - 0s - loss: 5.9464 - mae: 1.7915 - 14ms/epoch - 924us/step\n",
      "Epoch 77/200\n",
      "15/15 - 0s - loss: 5.9175 - mae: 1.8305 - 12ms/epoch - 793us/step\n",
      "Epoch 78/200\n",
      "15/15 - 0s - loss: 6.2166 - mae: 1.8848 - 14ms/epoch - 956us/step\n",
      "Epoch 79/200\n",
      "15/15 - 0s - loss: 5.8977 - mae: 1.8101 - 14ms/epoch - 921us/step\n",
      "Epoch 80/200\n",
      "15/15 - 0s - loss: 5.7586 - mae: 1.7761 - 15ms/epoch - 972us/step\n",
      "Epoch 81/200\n",
      "15/15 - 0s - loss: 5.8875 - mae: 1.7867 - 15ms/epoch - 1ms/step\n",
      "Epoch 82/200\n",
      "15/15 - 0s - loss: 5.9423 - mae: 1.7865 - 16ms/epoch - 1ms/step\n",
      "Epoch 83/200\n",
      "15/15 - 0s - loss: 5.6368 - mae: 1.7349 - 14ms/epoch - 925us/step\n",
      "Epoch 84/200\n",
      "15/15 - 0s - loss: 5.7825 - mae: 1.7929 - 16ms/epoch - 1ms/step\n",
      "Epoch 85/200\n",
      "15/15 - 0s - loss: 5.9042 - mae: 1.7838 - 15ms/epoch - 984us/step\n",
      "Epoch 86/200\n",
      "15/15 - 0s - loss: 5.6001 - mae: 1.7697 - 15ms/epoch - 1ms/step\n",
      "Epoch 87/200\n",
      "15/15 - 0s - loss: 5.6323 - mae: 1.7410 - 14ms/epoch - 945us/step\n",
      "Epoch 88/200\n",
      "15/15 - 0s - loss: 5.4980 - mae: 1.7309 - 18ms/epoch - 1ms/step\n",
      "Epoch 89/200\n",
      "15/15 - 0s - loss: 5.4726 - mae: 1.6976 - 14ms/epoch - 945us/step\n",
      "Epoch 90/200\n",
      "15/15 - 0s - loss: 6.1378 - mae: 1.8379 - 17ms/epoch - 1ms/step\n",
      "Epoch 91/200\n",
      "15/15 - 0s - loss: 6.7481 - mae: 1.9544 - 13ms/epoch - 886us/step\n",
      "Epoch 92/200\n",
      "15/15 - 0s - loss: 5.9242 - mae: 1.8186 - 16ms/epoch - 1ms/step\n",
      "Epoch 93/200\n",
      "15/15 - 0s - loss: 5.5261 - mae: 1.7100 - 13ms/epoch - 861us/step\n",
      "Epoch 94/200\n",
      "15/15 - 0s - loss: 5.4695 - mae: 1.7009 - 16ms/epoch - 1ms/step\n",
      "Epoch 95/200\n",
      "15/15 - 0s - loss: 5.3971 - mae: 1.7226 - 14ms/epoch - 952us/step\n",
      "Epoch 96/200\n",
      "15/15 - 0s - loss: 5.3816 - mae: 1.7381 - 14ms/epoch - 934us/step\n",
      "Epoch 97/200\n",
      "15/15 - 0s - loss: 5.3127 - mae: 1.6908 - 12ms/epoch - 831us/step\n",
      "Epoch 98/200\n",
      "15/15 - 0s - loss: 5.6710 - mae: 1.7474 - 18ms/epoch - 1ms/step\n",
      "Epoch 99/200\n",
      "15/15 - 0s - loss: 5.4040 - mae: 1.7380 - 19ms/epoch - 1ms/step\n",
      "Epoch 100/200\n",
      "15/15 - 0s - loss: 5.2627 - mae: 1.7004 - 17ms/epoch - 1ms/step\n",
      "Epoch 101/200\n",
      "15/15 - 0s - loss: 5.1619 - mae: 1.6839 - 17ms/epoch - 1ms/step\n",
      "Epoch 102/200\n",
      "15/15 - 0s - loss: 5.0122 - mae: 1.6501 - 15ms/epoch - 1000us/step\n",
      "Epoch 103/200\n",
      "15/15 - 0s - loss: 5.0456 - mae: 1.6633 - 23ms/epoch - 2ms/step\n",
      "Epoch 104/200\n",
      "15/15 - 0s - loss: 5.0456 - mae: 1.6512 - 22ms/epoch - 1ms/step\n",
      "Epoch 105/200\n",
      "15/15 - 0s - loss: 5.0045 - mae: 1.6639 - 17ms/epoch - 1ms/step\n",
      "Epoch 106/200\n",
      "15/15 - 0s - loss: 4.9901 - mae: 1.6580 - 22ms/epoch - 1ms/step\n",
      "Epoch 107/200\n",
      "15/15 - 0s - loss: 4.9492 - mae: 1.6321 - 21ms/epoch - 1ms/step\n",
      "Epoch 108/200\n",
      "15/15 - 0s - loss: 4.9802 - mae: 1.6377 - 18ms/epoch - 1ms/step\n",
      "Epoch 109/200\n",
      "15/15 - 0s - loss: 5.1392 - mae: 1.6941 - 19ms/epoch - 1ms/step\n",
      "Epoch 110/200\n",
      "15/15 - 0s - loss: 5.2174 - mae: 1.6980 - 15ms/epoch - 980us/step\n",
      "Epoch 111/200\n",
      "15/15 - 0s - loss: 4.9488 - mae: 1.6322 - 19ms/epoch - 1ms/step\n",
      "Epoch 112/200\n",
      "15/15 - 0s - loss: 4.8649 - mae: 1.6195 - 15ms/epoch - 1ms/step\n",
      "Epoch 113/200\n",
      "15/15 - 0s - loss: 5.2892 - mae: 1.7459 - 19ms/epoch - 1ms/step\n",
      "Epoch 114/200\n",
      "15/15 - 0s - loss: 5.1171 - mae: 1.6703 - 19ms/epoch - 1ms/step\n",
      "Epoch 115/200\n",
      "15/15 - 0s - loss: 4.8802 - mae: 1.6277 - 19ms/epoch - 1ms/step\n",
      "Epoch 116/200\n",
      "15/15 - 0s - loss: 5.2158 - mae: 1.7384 - 16ms/epoch - 1ms/step\n",
      "Epoch 117/200\n",
      "15/15 - 0s - loss: 5.5361 - mae: 1.7440 - 13ms/epoch - 850us/step\n",
      "Epoch 118/200\n",
      "15/15 - 0s - loss: 5.4668 - mae: 1.7586 - 14ms/epoch - 901us/step\n",
      "Epoch 119/200\n",
      "15/15 - 0s - loss: 5.1956 - mae: 1.6790 - 12ms/epoch - 814us/step\n",
      "Epoch 120/200\n",
      "15/15 - 0s - loss: 4.7376 - mae: 1.6046 - 15ms/epoch - 1ms/step\n",
      "Epoch 121/200\n",
      "15/15 - 0s - loss: 4.9389 - mae: 1.6988 - 13ms/epoch - 898us/step\n",
      "Epoch 122/200\n",
      "15/15 - 0s - loss: 4.5281 - mae: 1.5683 - 13ms/epoch - 883us/step\n",
      "Epoch 123/200\n",
      "15/15 - 0s - loss: 5.1347 - mae: 1.6735 - 17ms/epoch - 1ms/step\n",
      "Epoch 124/200\n",
      "15/15 - 0s - loss: 4.4628 - mae: 1.5562 - 15ms/epoch - 992us/step\n",
      "Epoch 125/200\n",
      "15/15 - 0s - loss: 4.4752 - mae: 1.5827 - 14ms/epoch - 931us/step\n",
      "Epoch 126/200\n",
      "15/15 - 0s - loss: 4.8730 - mae: 1.6545 - 17ms/epoch - 1ms/step\n",
      "Epoch 127/200\n",
      "15/15 - 0s - loss: 5.3744 - mae: 1.7248 - 15ms/epoch - 1ms/step\n",
      "Epoch 128/200\n",
      "15/15 - 0s - loss: 4.9120 - mae: 1.6332 - 18ms/epoch - 1ms/step\n",
      "Epoch 129/200\n",
      "15/15 - 0s - loss: 4.8546 - mae: 1.6322 - 19ms/epoch - 1ms/step\n",
      "Epoch 130/200\n",
      "15/15 - 0s - loss: 4.6955 - mae: 1.5976 - 17ms/epoch - 1ms/step\n",
      "Epoch 131/200\n",
      "15/15 - 0s - loss: 4.4647 - mae: 1.6053 - 17ms/epoch - 1ms/step\n",
      "Epoch 132/200\n",
      "15/15 - 0s - loss: 4.6092 - mae: 1.5850 - 17ms/epoch - 1ms/step\n",
      "Epoch 133/200\n",
      "15/15 - 0s - loss: 4.6710 - mae: 1.6360 - 14ms/epoch - 938us/step\n",
      "Epoch 134/200\n",
      "15/15 - 0s - loss: 4.5811 - mae: 1.6051 - 12ms/epoch - 790us/step\n",
      "Epoch 135/200\n",
      "15/15 - 0s - loss: 4.5225 - mae: 1.5656 - 12ms/epoch - 781us/step\n",
      "Epoch 136/200\n",
      "15/15 - 0s - loss: 4.4507 - mae: 1.5810 - 14ms/epoch - 932us/step\n",
      "Epoch 137/200\n",
      "15/15 - 0s - loss: 4.4834 - mae: 1.5828 - 12ms/epoch - 768us/step\n",
      "Epoch 138/200\n",
      "15/15 - 0s - loss: 5.1904 - mae: 1.7255 - 12ms/epoch - 788us/step\n",
      "Epoch 139/200\n",
      "15/15 - 0s - loss: 4.2818 - mae: 1.5470 - 11ms/epoch - 755us/step\n",
      "Epoch 140/200\n",
      "15/15 - 0s - loss: 4.9263 - mae: 1.6710 - 11ms/epoch - 740us/step\n",
      "Epoch 141/200\n",
      "15/15 - 0s - loss: 4.4837 - mae: 1.5812 - 14ms/epoch - 923us/step\n",
      "Epoch 142/200\n",
      "15/15 - 0s - loss: 4.2203 - mae: 1.5438 - 11ms/epoch - 763us/step\n",
      "Epoch 143/200\n",
      "15/15 - 0s - loss: 4.2198 - mae: 1.5032 - 12ms/epoch - 810us/step\n",
      "Epoch 144/200\n",
      "15/15 - 0s - loss: 4.0867 - mae: 1.4946 - 13ms/epoch - 835us/step\n",
      "Epoch 145/200\n",
      "15/15 - 0s - loss: 4.1748 - mae: 1.5345 - 12ms/epoch - 822us/step\n",
      "Epoch 146/200\n",
      "15/15 - 0s - loss: 4.3847 - mae: 1.5559 - 13ms/epoch - 854us/step\n",
      "Epoch 147/200\n",
      "15/15 - 0s - loss: 4.1071 - mae: 1.5066 - 12ms/epoch - 780us/step\n",
      "Epoch 148/200\n",
      "15/15 - 0s - loss: 4.3446 - mae: 1.5485 - 13ms/epoch - 835us/step\n",
      "Epoch 149/200\n",
      "15/15 - 0s - loss: 4.0289 - mae: 1.4849 - 13ms/epoch - 840us/step\n",
      "Epoch 150/200\n",
      "15/15 - 0s - loss: 4.6427 - mae: 1.5813 - 13ms/epoch - 882us/step\n",
      "Epoch 151/200\n",
      "15/15 - 0s - loss: 4.2763 - mae: 1.5665 - 12ms/epoch - 816us/step\n",
      "Epoch 152/200\n",
      "15/15 - 0s - loss: 4.1461 - mae: 1.5410 - 11ms/epoch - 753us/step\n",
      "Epoch 153/200\n",
      "15/15 - 0s - loss: 4.4392 - mae: 1.5923 - 13ms/epoch - 863us/step\n",
      "Epoch 154/200\n",
      "15/15 - 0s - loss: 4.0657 - mae: 1.4995 - 12ms/epoch - 772us/step\n",
      "Epoch 155/200\n",
      "15/15 - 0s - loss: 3.9224 - mae: 1.4540 - 14ms/epoch - 915us/step\n",
      "Epoch 156/200\n",
      "15/15 - 0s - loss: 3.9295 - mae: 1.4616 - 12ms/epoch - 816us/step\n",
      "Epoch 157/200\n",
      "15/15 - 0s - loss: 4.1354 - mae: 1.4935 - 13ms/epoch - 865us/step\n",
      "Epoch 158/200\n",
      "15/15 - 0s - loss: 4.0622 - mae: 1.4906 - 16ms/epoch - 1ms/step\n",
      "Epoch 159/200\n",
      "15/15 - 0s - loss: 4.2440 - mae: 1.5382 - 14ms/epoch - 943us/step\n",
      "Epoch 160/200\n",
      "15/15 - 0s - loss: 4.3310 - mae: 1.5640 - 14ms/epoch - 904us/step\n",
      "Epoch 161/200\n",
      "15/15 - 0s - loss: 4.1897 - mae: 1.5210 - 14ms/epoch - 951us/step\n",
      "Epoch 162/200\n",
      "15/15 - 0s - loss: 3.9052 - mae: 1.4541 - 15ms/epoch - 984us/step\n",
      "Epoch 163/200\n",
      "15/15 - 0s - loss: 3.8567 - mae: 1.4479 - 12ms/epoch - 819us/step\n",
      "Epoch 164/200\n",
      "15/15 - 0s - loss: 4.2001 - mae: 1.5752 - 15ms/epoch - 972us/step\n",
      "Epoch 165/200\n",
      "15/15 - 0s - loss: 4.2288 - mae: 1.5191 - 13ms/epoch - 861us/step\n",
      "Epoch 166/200\n",
      "15/15 - 0s - loss: 3.8181 - mae: 1.4545 - 14ms/epoch - 922us/step\n",
      "Epoch 167/200\n",
      "15/15 - 0s - loss: 3.9823 - mae: 1.4859 - 14ms/epoch - 940us/step\n",
      "Epoch 168/200\n",
      "15/15 - 0s - loss: 4.0699 - mae: 1.5096 - 15ms/epoch - 973us/step\n",
      "Epoch 169/200\n",
      "15/15 - 0s - loss: 4.6066 - mae: 1.5954 - 13ms/epoch - 891us/step\n",
      "Epoch 170/200\n",
      "15/15 - 0s - loss: 4.3019 - mae: 1.5264 - 13ms/epoch - 881us/step\n",
      "Epoch 171/200\n",
      "15/15 - 0s - loss: 4.3667 - mae: 1.5961 - 13ms/epoch - 849us/step\n",
      "Epoch 172/200\n",
      "15/15 - 0s - loss: 3.7120 - mae: 1.4204 - 13ms/epoch - 889us/step\n",
      "Epoch 173/200\n",
      "15/15 - 0s - loss: 3.9940 - mae: 1.4728 - 16ms/epoch - 1ms/step\n",
      "Epoch 174/200\n",
      "15/15 - 0s - loss: 4.0821 - mae: 1.4874 - 13ms/epoch - 843us/step\n",
      "Epoch 175/200\n",
      "15/15 - 0s - loss: 3.5992 - mae: 1.4010 - 14ms/epoch - 938us/step\n",
      "Epoch 176/200\n",
      "15/15 - 0s - loss: 3.6908 - mae: 1.3975 - 14ms/epoch - 930us/step\n",
      "Epoch 177/200\n",
      "15/15 - 0s - loss: 3.6643 - mae: 1.4094 - 16ms/epoch - 1ms/step\n",
      "Epoch 178/200\n",
      "15/15 - 0s - loss: 3.8513 - mae: 1.4617 - 14ms/epoch - 905us/step\n",
      "Epoch 179/200\n",
      "15/15 - 0s - loss: 3.6766 - mae: 1.4342 - 17ms/epoch - 1ms/step\n",
      "Epoch 180/200\n",
      "15/15 - 0s - loss: 3.6960 - mae: 1.4198 - 15ms/epoch - 993us/step\n",
      "Epoch 181/200\n",
      "15/15 - 0s - loss: 3.5487 - mae: 1.3739 - 14ms/epoch - 956us/step\n",
      "Epoch 182/200\n",
      "15/15 - 0s - loss: 3.7385 - mae: 1.4403 - 13ms/epoch - 864us/step\n",
      "Epoch 183/200\n",
      "15/15 - 0s - loss: 4.0326 - mae: 1.5027 - 16ms/epoch - 1ms/step\n",
      "Epoch 184/200\n",
      "15/15 - 0s - loss: 4.0893 - mae: 1.5173 - 13ms/epoch - 866us/step\n",
      "Epoch 185/200\n",
      "15/15 - 0s - loss: 3.9592 - mae: 1.4618 - 14ms/epoch - 911us/step\n",
      "Epoch 186/200\n",
      "15/15 - 0s - loss: 3.6382 - mae: 1.4204 - 13ms/epoch - 879us/step\n",
      "Epoch 187/200\n",
      "15/15 - 0s - loss: 3.4633 - mae: 1.3642 - 14ms/epoch - 959us/step\n",
      "Epoch 188/200\n",
      "15/15 - 0s - loss: 4.0322 - mae: 1.5260 - 12ms/epoch - 827us/step\n",
      "Epoch 189/200\n",
      "15/15 - 0s - loss: 3.5846 - mae: 1.3945 - 13ms/epoch - 870us/step\n",
      "Epoch 190/200\n",
      "15/15 - 0s - loss: 3.8650 - mae: 1.4578 - 14ms/epoch - 925us/step\n",
      "Epoch 191/200\n",
      "15/15 - 0s - loss: 3.5629 - mae: 1.4043 - 12ms/epoch - 806us/step\n",
      "Epoch 192/200\n",
      "15/15 - 0s - loss: 3.5843 - mae: 1.4092 - 12ms/epoch - 814us/step\n",
      "Epoch 193/200\n",
      "15/15 - 0s - loss: 3.8191 - mae: 1.4720 - 12ms/epoch - 771us/step\n",
      "Epoch 194/200\n",
      "15/15 - 0s - loss: 3.9359 - mae: 1.4958 - 13ms/epoch - 865us/step\n",
      "Epoch 195/200\n",
      "15/15 - 0s - loss: 3.6636 - mae: 1.4136 - 12ms/epoch - 805us/step\n",
      "Epoch 196/200\n",
      "15/15 - 0s - loss: 3.3852 - mae: 1.3562 - 12ms/epoch - 792us/step\n",
      "Epoch 197/200\n",
      "15/15 - 0s - loss: 3.3971 - mae: 1.3686 - 15ms/epoch - 974us/step\n",
      "Epoch 198/200\n",
      "15/15 - 0s - loss: 3.5867 - mae: 1.3796 - 13ms/epoch - 864us/step\n",
      "Epoch 199/200\n",
      "15/15 - 0s - loss: 4.4028 - mae: 1.5926 - 14ms/epoch - 939us/step\n",
      "Epoch 200/200\n",
      "15/15 - 0s - loss: 4.7493 - mae: 1.6087 - 12ms/epoch - 819us/step\n"
     ]
    },
    {
     "data": {
      "text/plain": [
       "<keras.callbacks.History at 0x7fbcbc5a7890>"
      ]
     },
     "execution_count": 20,
     "metadata": {},
     "output_type": "execute_result"
    }
   ],
   "source": [
    "history = model.fit(X_train, y_train, epochs=200, batch_size=32, verbose=2)\n",
    "history"
   ]
  },
  {
   "cell_type": "code",
   "execution_count": 21,
   "metadata": {},
   "outputs": [
    {
     "name": "stdout",
     "output_type": "stream",
     "text": [
      "Epoch 1/200\n",
      "15/15 - 0s - loss: 594.9295 - mae: 22.5793 - 362ms/epoch - 24ms/step\n",
      "Epoch 2/200\n",
      "15/15 - 0s - loss: 565.0698 - mae: 21.9167 - 12ms/epoch - 822us/step\n",
      "Epoch 3/200\n",
      "15/15 - 0s - loss: 541.5485 - mae: 21.3753 - 15ms/epoch - 1ms/step\n",
      "Epoch 4/200\n",
      "15/15 - 0s - loss: 522.3171 - mae: 20.9207 - 16ms/epoch - 1ms/step\n",
      "Epoch 5/200\n",
      "15/15 - 0s - loss: 506.1215 - mae: 20.5277 - 16ms/epoch - 1ms/step\n",
      "Epoch 6/200\n",
      "15/15 - 0s - loss: 492.0902 - mae: 20.1827 - 17ms/epoch - 1ms/step\n",
      "Epoch 7/200\n",
      "15/15 - 0s - loss: 479.9296 - mae: 19.8791 - 17ms/epoch - 1ms/step\n",
      "Epoch 8/200\n",
      "15/15 - 0s - loss: 469.3665 - mae: 19.6135 - 13ms/epoch - 865us/step\n",
      "Epoch 9/200\n",
      "15/15 - 0s - loss: 460.1622 - mae: 19.3750 - 17ms/epoch - 1ms/step\n",
      "Epoch 10/200\n",
      "15/15 - 0s - loss: 451.8086 - mae: 19.1566 - 14ms/epoch - 962us/step\n",
      "Epoch 11/200\n",
      "15/15 - 0s - loss: 443.9487 - mae: 18.9555 - 15ms/epoch - 1ms/step\n",
      "Epoch 12/200\n",
      "15/15 - 0s - loss: 436.7143 - mae: 18.7625 - 15ms/epoch - 1ms/step\n",
      "Epoch 13/200\n",
      "15/15 - 0s - loss: 429.6426 - mae: 18.5742 - 19ms/epoch - 1ms/step\n",
      "Epoch 14/200\n",
      "15/15 - 0s - loss: 422.9377 - mae: 18.3922 - 16ms/epoch - 1ms/step\n",
      "Epoch 15/200\n",
      "15/15 - 0s - loss: 416.4482 - mae: 18.2140 - 16ms/epoch - 1ms/step\n",
      "Epoch 16/200\n",
      "15/15 - 0s - loss: 410.0371 - mae: 18.0369 - 15ms/epoch - 977us/step\n",
      "Epoch 17/200\n",
      "15/15 - 0s - loss: 403.4312 - mae: 17.8537 - 15ms/epoch - 1ms/step\n",
      "Epoch 18/200\n",
      "15/15 - 0s - loss: 396.4426 - mae: 17.6571 - 15ms/epoch - 971us/step\n",
      "Epoch 19/200\n",
      "15/15 - 0s - loss: 389.1917 - mae: 17.4571 - 17ms/epoch - 1ms/step\n",
      "Epoch 20/200\n",
      "15/15 - 0s - loss: 382.3499 - mae: 17.2572 - 18ms/epoch - 1ms/step\n",
      "Epoch 21/200\n",
      "15/15 - 0s - loss: 375.7217 - mae: 17.0671 - 15ms/epoch - 1ms/step\n",
      "Epoch 22/200\n",
      "15/15 - 0s - loss: 369.4881 - mae: 16.8839 - 19ms/epoch - 1ms/step\n",
      "Epoch 23/200\n",
      "15/15 - 0s - loss: 363.4829 - mae: 16.7063 - 22ms/epoch - 1ms/step\n",
      "Epoch 24/200\n",
      "15/15 - 0s - loss: 357.6351 - mae: 16.5319 - 18ms/epoch - 1ms/step\n",
      "Epoch 25/200\n",
      "15/15 - 0s - loss: 351.8937 - mae: 16.3598 - 17ms/epoch - 1ms/step\n",
      "Epoch 26/200\n",
      "15/15 - 0s - loss: 346.3868 - mae: 16.1908 - 17ms/epoch - 1ms/step\n",
      "Epoch 27/200\n",
      "15/15 - 0s - loss: 341.0320 - mae: 16.0265 - 18ms/epoch - 1ms/step\n",
      "Epoch 28/200\n",
      "15/15 - 0s - loss: 335.7700 - mae: 15.8643 - 17ms/epoch - 1ms/step\n",
      "Epoch 29/200\n",
      "15/15 - 0s - loss: 330.7009 - mae: 15.7035 - 18ms/epoch - 1ms/step\n",
      "Epoch 30/200\n",
      "15/15 - 0s - loss: 325.6362 - mae: 15.5459 - 15ms/epoch - 1ms/step\n",
      "Epoch 31/200\n",
      "15/15 - 0s - loss: 320.6828 - mae: 15.3919 - 18ms/epoch - 1ms/step\n",
      "Epoch 32/200\n",
      "15/15 - 0s - loss: 315.8845 - mae: 15.2413 - 16ms/epoch - 1ms/step\n",
      "Epoch 33/200\n",
      "15/15 - 0s - loss: 311.1870 - mae: 15.0907 - 16ms/epoch - 1ms/step\n",
      "Epoch 34/200\n",
      "15/15 - 0s - loss: 306.5271 - mae: 14.9433 - 15ms/epoch - 1ms/step\n",
      "Epoch 35/200\n",
      "15/15 - 0s - loss: 301.9818 - mae: 14.7941 - 15ms/epoch - 974us/step\n",
      "Epoch 36/200\n",
      "15/15 - 0s - loss: 297.4791 - mae: 14.6498 - 17ms/epoch - 1ms/step\n",
      "Epoch 37/200\n",
      "15/15 - 0s - loss: 293.1393 - mae: 14.5037 - 16ms/epoch - 1ms/step\n",
      "Epoch 38/200\n",
      "15/15 - 0s - loss: 288.8260 - mae: 14.3589 - 14ms/epoch - 947us/step\n",
      "Epoch 39/200\n",
      "15/15 - 0s - loss: 284.5809 - mae: 14.2213 - 14ms/epoch - 931us/step\n",
      "Epoch 40/200\n",
      "15/15 - 0s - loss: 280.4503 - mae: 14.0841 - 16ms/epoch - 1ms/step\n",
      "Epoch 41/200\n",
      "15/15 - 0s - loss: 276.3071 - mae: 13.9481 - 14ms/epoch - 940us/step\n",
      "Epoch 42/200\n",
      "15/15 - 0s - loss: 272.3954 - mae: 13.8127 - 15ms/epoch - 1ms/step\n",
      "Epoch 43/200\n",
      "15/15 - 0s - loss: 268.3935 - mae: 13.6796 - 16ms/epoch - 1ms/step\n",
      "Epoch 44/200\n",
      "15/15 - 0s - loss: 264.5029 - mae: 13.5459 - 16ms/epoch - 1ms/step\n",
      "Epoch 45/200\n",
      "15/15 - 0s - loss: 260.6493 - mae: 13.4141 - 15ms/epoch - 1ms/step\n",
      "Epoch 46/200\n",
      "15/15 - 0s - loss: 256.9414 - mae: 13.2811 - 19ms/epoch - 1ms/step\n",
      "Epoch 47/200\n",
      "15/15 - 0s - loss: 253.2668 - mae: 13.1525 - 16ms/epoch - 1ms/step\n",
      "Epoch 48/200\n",
      "15/15 - 0s - loss: 249.6848 - mae: 13.0241 - 18ms/epoch - 1ms/step\n",
      "Epoch 49/200\n",
      "15/15 - 0s - loss: 246.0721 - mae: 12.8967 - 17ms/epoch - 1ms/step\n",
      "Epoch 50/200\n",
      "15/15 - 0s - loss: 242.6276 - mae: 12.7705 - 16ms/epoch - 1ms/step\n",
      "Epoch 51/200\n",
      "15/15 - 0s - loss: 239.2541 - mae: 12.6471 - 17ms/epoch - 1ms/step\n",
      "Epoch 52/200\n",
      "15/15 - 0s - loss: 235.8851 - mae: 12.5255 - 15ms/epoch - 1ms/step\n",
      "Epoch 53/200\n",
      "15/15 - 0s - loss: 232.5903 - mae: 12.4052 - 18ms/epoch - 1ms/step\n",
      "Epoch 54/200\n",
      "15/15 - 0s - loss: 229.3069 - mae: 12.2855 - 14ms/epoch - 909us/step\n",
      "Epoch 55/200\n",
      "15/15 - 0s - loss: 226.1487 - mae: 12.1667 - 20ms/epoch - 1ms/step\n",
      "Epoch 56/200\n",
      "15/15 - 0s - loss: 223.0266 - mae: 12.0488 - 17ms/epoch - 1ms/step\n",
      "Epoch 57/200\n",
      "15/15 - 0s - loss: 219.9433 - mae: 11.9327 - 18ms/epoch - 1ms/step\n",
      "Epoch 58/200\n",
      "15/15 - 0s - loss: 216.9237 - mae: 11.8195 - 17ms/epoch - 1ms/step\n",
      "Epoch 59/200\n",
      "15/15 - 0s - loss: 213.9694 - mae: 11.7045 - 14ms/epoch - 937us/step\n",
      "Epoch 60/200\n",
      "15/15 - 0s - loss: 211.0022 - mae: 11.5900 - 17ms/epoch - 1ms/step\n",
      "Epoch 61/200\n",
      "15/15 - 0s - loss: 208.1602 - mae: 11.4781 - 14ms/epoch - 964us/step\n",
      "Epoch 62/200\n",
      "15/15 - 0s - loss: 205.3478 - mae: 11.3680 - 14ms/epoch - 947us/step\n",
      "Epoch 63/200\n",
      "15/15 - 0s - loss: 202.4857 - mae: 11.2583 - 13ms/epoch - 842us/step\n",
      "Epoch 64/200\n",
      "15/15 - 0s - loss: 199.8180 - mae: 11.1508 - 14ms/epoch - 906us/step\n",
      "Epoch 65/200\n",
      "15/15 - 0s - loss: 197.1133 - mae: 11.0437 - 13ms/epoch - 895us/step\n",
      "Epoch 66/200\n",
      "15/15 - 0s - loss: 194.4614 - mae: 10.9405 - 14ms/epoch - 955us/step\n",
      "Epoch 67/200\n",
      "15/15 - 0s - loss: 191.9269 - mae: 10.8376 - 13ms/epoch - 841us/step\n",
      "Epoch 68/200\n",
      "15/15 - 0s - loss: 189.3333 - mae: 10.7341 - 14ms/epoch - 916us/step\n",
      "Epoch 69/200\n",
      "15/15 - 0s - loss: 186.8983 - mae: 10.6341 - 16ms/epoch - 1ms/step\n",
      "Epoch 70/200\n",
      "15/15 - 0s - loss: 184.4949 - mae: 10.5337 - 14ms/epoch - 940us/step\n",
      "Epoch 71/200\n",
      "15/15 - 0s - loss: 182.0717 - mae: 10.4359 - 15ms/epoch - 1ms/step\n",
      "Epoch 72/200\n",
      "15/15 - 0s - loss: 179.7646 - mae: 10.3405 - 14ms/epoch - 935us/step\n",
      "Epoch 73/200\n",
      "15/15 - 0s - loss: 177.3794 - mae: 10.2424 - 14ms/epoch - 944us/step\n",
      "Epoch 74/200\n",
      "15/15 - 0s - loss: 175.0777 - mae: 10.1478 - 14ms/epoch - 925us/step\n",
      "Epoch 75/200\n",
      "15/15 - 0s - loss: 172.8942 - mae: 10.0562 - 15ms/epoch - 979us/step\n",
      "Epoch 76/200\n",
      "15/15 - 0s - loss: 170.7405 - mae: 9.9676 - 13ms/epoch - 837us/step\n",
      "Epoch 77/200\n",
      "15/15 - 0s - loss: 168.6647 - mae: 9.8829 - 14ms/epoch - 945us/step\n",
      "Epoch 78/200\n",
      "15/15 - 0s - loss: 166.6567 - mae: 9.7972 - 13ms/epoch - 899us/step\n",
      "Epoch 79/200\n",
      "15/15 - 0s - loss: 164.5917 - mae: 9.7130 - 16ms/epoch - 1ms/step\n",
      "Epoch 80/200\n",
      "15/15 - 0s - loss: 162.6208 - mae: 9.6348 - 15ms/epoch - 984us/step\n",
      "Epoch 81/200\n",
      "15/15 - 0s - loss: 160.6931 - mae: 9.5520 - 15ms/epoch - 1ms/step\n",
      "Epoch 82/200\n",
      "15/15 - 0s - loss: 158.8206 - mae: 9.4757 - 14ms/epoch - 917us/step\n",
      "Epoch 83/200\n",
      "15/15 - 0s - loss: 156.9225 - mae: 9.3994 - 17ms/epoch - 1ms/step\n",
      "Epoch 84/200\n",
      "15/15 - 0s - loss: 155.1505 - mae: 9.3252 - 17ms/epoch - 1ms/step\n",
      "Epoch 85/200\n",
      "15/15 - 0s - loss: 153.2953 - mae: 9.2500 - 16ms/epoch - 1ms/step\n",
      "Epoch 86/200\n",
      "15/15 - 0s - loss: 151.5281 - mae: 9.1774 - 14ms/epoch - 948us/step\n",
      "Epoch 87/200\n",
      "15/15 - 0s - loss: 149.8649 - mae: 9.1090 - 15ms/epoch - 980us/step\n",
      "Epoch 88/200\n",
      "15/15 - 0s - loss: 148.1662 - mae: 9.0393 - 13ms/epoch - 883us/step\n",
      "Epoch 89/200\n",
      "15/15 - 0s - loss: 146.5213 - mae: 8.9725 - 16ms/epoch - 1ms/step\n",
      "Epoch 90/200\n",
      "15/15 - 0s - loss: 144.8982 - mae: 8.9016 - 15ms/epoch - 994us/step\n",
      "Epoch 91/200\n",
      "15/15 - 0s - loss: 143.2859 - mae: 8.8370 - 14ms/epoch - 951us/step\n",
      "Epoch 92/200\n",
      "15/15 - 0s - loss: 141.7685 - mae: 8.7738 - 12ms/epoch - 814us/step\n",
      "Epoch 93/200\n",
      "15/15 - 0s - loss: 140.2693 - mae: 8.7103 - 13ms/epoch - 864us/step\n",
      "Epoch 94/200\n",
      "15/15 - 0s - loss: 138.7782 - mae: 8.6490 - 15ms/epoch - 999us/step\n",
      "Epoch 95/200\n",
      "15/15 - 0s - loss: 137.2847 - mae: 8.5850 - 16ms/epoch - 1ms/step\n",
      "Epoch 96/200\n",
      "15/15 - 0s - loss: 135.8024 - mae: 8.5225 - 15ms/epoch - 999us/step\n",
      "Epoch 97/200\n",
      "15/15 - 0s - loss: 134.3987 - mae: 8.4652 - 15ms/epoch - 1ms/step\n",
      "Epoch 98/200\n",
      "15/15 - 0s - loss: 132.9728 - mae: 8.4051 - 16ms/epoch - 1ms/step\n",
      "Epoch 99/200\n",
      "15/15 - 0s - loss: 131.6414 - mae: 8.3470 - 15ms/epoch - 1ms/step\n",
      "Epoch 100/200\n",
      "15/15 - 0s - loss: 130.2968 - mae: 8.2901 - 15ms/epoch - 1ms/step\n",
      "Epoch 101/200\n",
      "15/15 - 0s - loss: 129.0552 - mae: 8.2345 - 15ms/epoch - 1ms/step\n",
      "Epoch 102/200\n",
      "15/15 - 0s - loss: 127.7915 - mae: 8.1820 - 15ms/epoch - 986us/step\n",
      "Epoch 103/200\n",
      "15/15 - 0s - loss: 126.5869 - mae: 8.1283 - 15ms/epoch - 976us/step\n",
      "Epoch 104/200\n",
      "15/15 - 0s - loss: 125.3806 - mae: 8.0763 - 16ms/epoch - 1ms/step\n",
      "Epoch 105/200\n",
      "15/15 - 0s - loss: 124.2133 - mae: 8.0254 - 17ms/epoch - 1ms/step\n",
      "Epoch 106/200\n",
      "15/15 - 0s - loss: 123.0337 - mae: 7.9742 - 15ms/epoch - 992us/step\n",
      "Epoch 107/200\n",
      "15/15 - 0s - loss: 121.9215 - mae: 7.9263 - 15ms/epoch - 992us/step\n",
      "Epoch 108/200\n",
      "15/15 - 0s - loss: 120.8278 - mae: 7.8775 - 14ms/epoch - 951us/step\n",
      "Epoch 109/200\n",
      "15/15 - 0s - loss: 119.7365 - mae: 7.8301 - 17ms/epoch - 1ms/step\n",
      "Epoch 110/200\n",
      "15/15 - 0s - loss: 118.6815 - mae: 7.7825 - 14ms/epoch - 941us/step\n",
      "Epoch 111/200\n",
      "15/15 - 0s - loss: 117.6449 - mae: 7.7361 - 15ms/epoch - 986us/step\n",
      "Epoch 112/200\n",
      "15/15 - 0s - loss: 116.6516 - mae: 7.6903 - 15ms/epoch - 1ms/step\n",
      "Epoch 113/200\n",
      "15/15 - 0s - loss: 115.6450 - mae: 7.6467 - 14ms/epoch - 955us/step\n",
      "Epoch 114/200\n",
      "15/15 - 0s - loss: 114.7219 - mae: 7.6052 - 12ms/epoch - 819us/step\n",
      "Epoch 115/200\n",
      "15/15 - 0s - loss: 113.7866 - mae: 7.5626 - 14ms/epoch - 910us/step\n",
      "Epoch 116/200\n",
      "15/15 - 0s - loss: 112.8815 - mae: 7.5222 - 12ms/epoch - 786us/step\n",
      "Epoch 117/200\n",
      "15/15 - 0s - loss: 112.0180 - mae: 7.4831 - 13ms/epoch - 864us/step\n",
      "Epoch 118/200\n",
      "15/15 - 0s - loss: 111.1329 - mae: 7.4449 - 13ms/epoch - 871us/step\n",
      "Epoch 119/200\n",
      "15/15 - 0s - loss: 110.2965 - mae: 7.4062 - 11ms/epoch - 756us/step\n",
      "Epoch 120/200\n",
      "15/15 - 0s - loss: 109.5145 - mae: 7.3715 - 12ms/epoch - 809us/step\n",
      "Epoch 121/200\n",
      "15/15 - 0s - loss: 108.6479 - mae: 7.3334 - 12ms/epoch - 825us/step\n",
      "Epoch 122/200\n",
      "15/15 - 0s - loss: 107.8692 - mae: 7.2954 - 16ms/epoch - 1ms/step\n",
      "Epoch 123/200\n",
      "15/15 - 0s - loss: 107.0792 - mae: 7.2620 - 14ms/epoch - 903us/step\n",
      "Epoch 124/200\n",
      "15/15 - 0s - loss: 106.3496 - mae: 7.2298 - 14ms/epoch - 925us/step\n",
      "Epoch 125/200\n",
      "15/15 - 0s - loss: 105.6622 - mae: 7.1980 - 13ms/epoch - 895us/step\n",
      "Epoch 126/200\n",
      "15/15 - 0s - loss: 104.9392 - mae: 7.1649 - 12ms/epoch - 828us/step\n",
      "Epoch 127/200\n",
      "15/15 - 0s - loss: 104.2628 - mae: 7.1332 - 13ms/epoch - 891us/step\n",
      "Epoch 128/200\n",
      "15/15 - 0s - loss: 103.6050 - mae: 7.1032 - 11ms/epoch - 759us/step\n",
      "Epoch 129/200\n",
      "15/15 - 0s - loss: 102.9269 - mae: 7.0712 - 15ms/epoch - 1ms/step\n",
      "Epoch 130/200\n",
      "15/15 - 0s - loss: 102.2971 - mae: 7.0437 - 13ms/epoch - 852us/step\n",
      "Epoch 131/200\n",
      "15/15 - 0s - loss: 101.6588 - mae: 7.0140 - 16ms/epoch - 1ms/step\n",
      "Epoch 132/200\n",
      "15/15 - 0s - loss: 101.0721 - mae: 6.9876 - 16ms/epoch - 1ms/step\n",
      "Epoch 133/200\n",
      "15/15 - 0s - loss: 100.4890 - mae: 6.9618 - 20ms/epoch - 1ms/step\n",
      "Epoch 134/200\n",
      "15/15 - 0s - loss: 99.9511 - mae: 6.9366 - 14ms/epoch - 925us/step\n",
      "Epoch 135/200\n",
      "15/15 - 0s - loss: 99.3862 - mae: 6.9121 - 14ms/epoch - 901us/step\n",
      "Epoch 136/200\n",
      "15/15 - 0s - loss: 98.8538 - mae: 6.8876 - 15ms/epoch - 1ms/step\n",
      "Epoch 137/200\n",
      "15/15 - 0s - loss: 98.3295 - mae: 6.8647 - 14ms/epoch - 961us/step\n",
      "Epoch 138/200\n",
      "15/15 - 0s - loss: 97.8724 - mae: 6.8451 - 11ms/epoch - 756us/step\n",
      "Epoch 139/200\n",
      "15/15 - 0s - loss: 97.3493 - mae: 6.8222 - 14ms/epoch - 943us/step\n",
      "Epoch 140/200\n",
      "15/15 - 0s - loss: 96.8704 - mae: 6.8026 - 13ms/epoch - 877us/step\n",
      "Epoch 141/200\n",
      "15/15 - 0s - loss: 96.4346 - mae: 6.7833 - 13ms/epoch - 847us/step\n",
      "Epoch 142/200\n",
      "15/15 - 0s - loss: 95.9616 - mae: 6.7629 - 14ms/epoch - 924us/step\n",
      "Epoch 143/200\n",
      "15/15 - 0s - loss: 95.5606 - mae: 6.7463 - 12ms/epoch - 824us/step\n",
      "Epoch 144/200\n",
      "15/15 - 0s - loss: 95.1583 - mae: 6.7333 - 13ms/epoch - 841us/step\n",
      "Epoch 145/200\n",
      "15/15 - 0s - loss: 94.7671 - mae: 6.7182 - 13ms/epoch - 899us/step\n",
      "Epoch 146/200\n",
      "15/15 - 0s - loss: 94.4036 - mae: 6.7052 - 13ms/epoch - 876us/step\n",
      "Epoch 147/200\n",
      "15/15 - 0s - loss: 94.0563 - mae: 6.6910 - 12ms/epoch - 832us/step\n",
      "Epoch 148/200\n",
      "15/15 - 0s - loss: 93.6823 - mae: 6.6776 - 15ms/epoch - 993us/step\n",
      "Epoch 149/200\n",
      "15/15 - 0s - loss: 93.3209 - mae: 6.6658 - 13ms/epoch - 898us/step\n",
      "Epoch 150/200\n",
      "15/15 - 0s - loss: 92.9880 - mae: 6.6540 - 14ms/epoch - 948us/step\n",
      "Epoch 151/200\n",
      "15/15 - 0s - loss: 92.6709 - mae: 6.6441 - 13ms/epoch - 867us/step\n",
      "Epoch 152/200\n",
      "15/15 - 0s - loss: 92.3529 - mae: 6.6332 - 14ms/epoch - 921us/step\n",
      "Epoch 153/200\n",
      "15/15 - 0s - loss: 92.0817 - mae: 6.6254 - 17ms/epoch - 1ms/step\n",
      "Epoch 154/200\n",
      "15/15 - 0s - loss: 91.7840 - mae: 6.6168 - 18ms/epoch - 1ms/step\n",
      "Epoch 155/200\n",
      "15/15 - 0s - loss: 91.4899 - mae: 6.6086 - 18ms/epoch - 1ms/step\n",
      "Epoch 156/200\n",
      "15/15 - 0s - loss: 91.1841 - mae: 6.6011 - 18ms/epoch - 1ms/step\n",
      "Epoch 157/200\n",
      "15/15 - 0s - loss: 90.8938 - mae: 6.5920 - 13ms/epoch - 856us/step\n",
      "Epoch 158/200\n",
      "15/15 - 0s - loss: 90.6414 - mae: 6.5866 - 13ms/epoch - 863us/step\n",
      "Epoch 159/200\n",
      "15/15 - 0s - loss: 90.3714 - mae: 6.5783 - 14ms/epoch - 922us/step\n",
      "Epoch 160/200\n",
      "15/15 - 0s - loss: 90.1331 - mae: 6.5731 - 14ms/epoch - 910us/step\n",
      "Epoch 161/200\n",
      "15/15 - 0s - loss: 89.8859 - mae: 6.5675 - 12ms/epoch - 810us/step\n",
      "Epoch 162/200\n",
      "15/15 - 0s - loss: 89.6684 - mae: 6.5626 - 11ms/epoch - 765us/step\n",
      "Epoch 163/200\n",
      "15/15 - 0s - loss: 89.4648 - mae: 6.5590 - 12ms/epoch - 820us/step\n",
      "Epoch 164/200\n",
      "15/15 - 0s - loss: 89.2647 - mae: 6.5548 - 12ms/epoch - 767us/step\n",
      "Epoch 165/200\n",
      "15/15 - 0s - loss: 89.0655 - mae: 6.5520 - 14ms/epoch - 936us/step\n",
      "Epoch 166/200\n",
      "15/15 - 0s - loss: 88.8734 - mae: 6.5489 - 14ms/epoch - 919us/step\n",
      "Epoch 167/200\n",
      "15/15 - 0s - loss: 88.6942 - mae: 6.5474 - 14ms/epoch - 908us/step\n",
      "Epoch 168/200\n",
      "15/15 - 0s - loss: 88.5028 - mae: 6.5441 - 13ms/epoch - 869us/step\n",
      "Epoch 169/200\n",
      "15/15 - 0s - loss: 88.3200 - mae: 6.5416 - 12ms/epoch - 806us/step\n",
      "Epoch 170/200\n",
      "15/15 - 0s - loss: 88.1503 - mae: 6.5409 - 13ms/epoch - 855us/step\n",
      "Epoch 171/200\n",
      "15/15 - 0s - loss: 87.9977 - mae: 6.5393 - 11ms/epoch - 751us/step\n",
      "Epoch 172/200\n",
      "15/15 - 0s - loss: 87.8284 - mae: 6.5378 - 15ms/epoch - 1ms/step\n",
      "Epoch 173/200\n",
      "15/15 - 0s - loss: 87.6794 - mae: 6.5365 - 13ms/epoch - 882us/step\n",
      "Epoch 174/200\n",
      "15/15 - 0s - loss: 87.5374 - mae: 6.5352 - 14ms/epoch - 942us/step\n",
      "Epoch 175/200\n",
      "15/15 - 0s - loss: 87.4125 - mae: 6.5353 - 13ms/epoch - 844us/step\n",
      "Epoch 176/200\n",
      "15/15 - 0s - loss: 87.2643 - mae: 6.5337 - 14ms/epoch - 915us/step\n",
      "Epoch 177/200\n",
      "15/15 - 0s - loss: 87.1468 - mae: 6.5345 - 15ms/epoch - 999us/step\n",
      "Epoch 178/200\n",
      "15/15 - 0s - loss: 87.0124 - mae: 6.5337 - 16ms/epoch - 1ms/step\n",
      "Epoch 179/200\n",
      "15/15 - 0s - loss: 86.8946 - mae: 6.5344 - 16ms/epoch - 1ms/step\n",
      "Epoch 180/200\n",
      "15/15 - 0s - loss: 86.8007 - mae: 6.5359 - 18ms/epoch - 1ms/step\n",
      "Epoch 181/200\n",
      "15/15 - 0s - loss: 86.6993 - mae: 6.5362 - 15ms/epoch - 997us/step\n",
      "Epoch 182/200\n",
      "15/15 - 0s - loss: 86.5826 - mae: 6.5363 - 14ms/epoch - 901us/step\n",
      "Epoch 183/200\n",
      "15/15 - 0s - loss: 86.4836 - mae: 6.5371 - 13ms/epoch - 877us/step\n",
      "Epoch 184/200\n",
      "15/15 - 0s - loss: 86.3777 - mae: 6.5377 - 16ms/epoch - 1ms/step\n",
      "Epoch 185/200\n",
      "15/15 - 0s - loss: 86.3054 - mae: 6.5387 - 13ms/epoch - 884us/step\n",
      "Epoch 186/200\n",
      "15/15 - 0s - loss: 86.2390 - mae: 6.5402 - 13ms/epoch - 848us/step\n",
      "Epoch 187/200\n",
      "15/15 - 0s - loss: 86.1638 - mae: 6.5407 - 12ms/epoch - 798us/step\n",
      "Epoch 188/200\n",
      "15/15 - 0s - loss: 86.0961 - mae: 6.5419 - 13ms/epoch - 850us/step\n",
      "Epoch 189/200\n",
      "15/15 - 0s - loss: 86.0243 - mae: 6.5423 - 13ms/epoch - 898us/step\n",
      "Epoch 190/200\n",
      "15/15 - 0s - loss: 85.9672 - mae: 6.5444 - 12ms/epoch - 770us/step\n",
      "Epoch 191/200\n",
      "15/15 - 0s - loss: 85.8906 - mae: 6.5459 - 13ms/epoch - 879us/step\n",
      "Epoch 192/200\n",
      "15/15 - 0s - loss: 85.8172 - mae: 6.5477 - 14ms/epoch - 932us/step\n",
      "Epoch 193/200\n",
      "15/15 - 0s - loss: 85.7545 - mae: 6.5491 - 12ms/epoch - 829us/step\n",
      "Epoch 194/200\n",
      "15/15 - 0s - loss: 85.6963 - mae: 6.5512 - 13ms/epoch - 858us/step\n",
      "Epoch 195/200\n",
      "15/15 - 0s - loss: 85.6423 - mae: 6.5539 - 13ms/epoch - 851us/step\n",
      "Epoch 196/200\n",
      "15/15 - 0s - loss: 85.5937 - mae: 6.5562 - 15ms/epoch - 971us/step\n",
      "Epoch 197/200\n",
      "15/15 - 0s - loss: 85.5500 - mae: 6.5581 - 13ms/epoch - 834us/step\n",
      "Epoch 198/200\n",
      "15/15 - 0s - loss: 85.5063 - mae: 6.5595 - 13ms/epoch - 869us/step\n",
      "Epoch 199/200\n",
      "15/15 - 0s - loss: 85.4677 - mae: 6.5615 - 13ms/epoch - 834us/step\n",
      "Epoch 200/200\n",
      "15/15 - 0s - loss: 85.4343 - mae: 6.5638 - 11ms/epoch - 747us/step\n"
     ]
    },
    {
     "data": {
      "text/plain": [
       "<keras.callbacks.History at 0x7fbcbc5ef410>"
      ]
     },
     "execution_count": 21,
     "metadata": {},
     "output_type": "execute_result"
    }
   ],
   "source": [
    "history2 = model2.fit(X_train, y_train, epochs=200, batch_size=32, verbose=2)\n",
    "history2"
   ]
  },
  {
   "cell_type": "code",
   "execution_count": 22,
   "metadata": {},
   "outputs": [
    {
     "name": "stdout",
     "output_type": "stream",
     "text": [
      "2/2 [==============================] - 0s 2ms/step - loss: 11.3790 - mae: 2.2855\n"
     ]
    },
    {
     "data": {
      "text/plain": [
       "[11.378981590270996, 2.2855162620544434]"
      ]
     },
     "execution_count": 22,
     "metadata": {},
     "output_type": "execute_result"
    }
   ],
   "source": [
    "eval_test = model.evaluate(X_test, y_test)\n",
    "eval_test"
   ]
  },
  {
   "cell_type": "code",
   "execution_count": 23,
   "metadata": {},
   "outputs": [
    {
     "name": "stdout",
     "output_type": "stream",
     "text": [
      "2/2 [==============================] - 0s 2ms/step - loss: 79.4358 - mae: 6.5361\n"
     ]
    },
    {
     "data": {
      "text/plain": [
       "[79.4357681274414, 6.53610897064209]"
      ]
     },
     "execution_count": 23,
     "metadata": {},
     "output_type": "execute_result"
    }
   ],
   "source": [
    "eval_test2 = model2.evaluate(X_test, y_test)\n",
    "eval_test2"
   ]
  },
  {
   "cell_type": "code",
   "execution_count": 24,
   "metadata": {},
   "outputs": [
    {
     "data": {
      "text/plain": [
       "11.378981590270996"
      ]
     },
     "execution_count": 24,
     "metadata": {},
     "output_type": "execute_result"
    }
   ],
   "source": [
    "eval_test[0] #loss"
   ]
  },
  {
   "cell_type": "code",
   "execution_count": 25,
   "metadata": {},
   "outputs": [
    {
     "data": {
      "text/plain": [
       "2.2855162620544434"
      ]
     },
     "execution_count": 25,
     "metadata": {},
     "output_type": "execute_result"
    }
   ],
   "source": [
    "eval_test[1] #mae"
   ]
  },
  {
   "cell_type": "code",
   "execution_count": 26,
   "metadata": {},
   "outputs": [
    {
     "data": {
      "text/plain": [
       "array([[22.332933],\n",
       "       [11.756989],\n",
       "       [25.816912],\n",
       "       [28.42305 ],\n",
       "       [ 8.471038]], dtype=float32)"
      ]
     },
     "execution_count": 26,
     "metadata": {},
     "output_type": "execute_result"
    }
   ],
   "source": [
    "pred_test = model.predict(X_test)\n",
    "pred_test[:5]"
   ]
  },
  {
   "cell_type": "code",
   "execution_count": 27,
   "metadata": {},
   "outputs": [
    {
     "data": {
      "text/plain": [
       "array([[21.913837],\n",
       "       [21.913841],\n",
       "       [21.913837],\n",
       "       [21.913841],\n",
       "       [21.913841]], dtype=float32)"
      ]
     },
     "execution_count": 27,
     "metadata": {},
     "output_type": "execute_result"
    }
   ],
   "source": [
    "pred_test2 = model2.predict(X_test)\n",
    "pred_test2[:5]"
   ]
  },
  {
   "cell_type": "code",
   "execution_count": 28,
   "metadata": {},
   "outputs": [
    {
     "data": {
      "text/plain": [
       "array([23.4,  8.1, 22. , 15. , 10.4])"
      ]
     },
     "execution_count": 28,
     "metadata": {},
     "output_type": "execute_result"
    }
   ],
   "source": [
    "y_test[:5]"
   ]
  },
  {
   "cell_type": "code",
   "execution_count": 29,
   "metadata": {},
   "outputs": [
    {
     "data": {
      "text/plain": [
       "51"
      ]
     },
     "execution_count": 29,
     "metadata": {},
     "output_type": "execute_result"
    }
   ],
   "source": [
    "len(pred_test)"
   ]
  },
  {
   "cell_type": "code",
   "execution_count": 30,
   "metadata": {},
   "outputs": [
    {
     "data": {
      "text/plain": [
       "array([[19.66075 ],\n",
       "       [23.128325],\n",
       "       [17.936287],\n",
       "       [18.458345],\n",
       "       [25.088099]], dtype=float32)"
      ]
     },
     "execution_count": 30,
     "metadata": {},
     "output_type": "execute_result"
    }
   ],
   "source": [
    "pred_test[46:]"
   ]
  },
  {
   "cell_type": "code",
   "execution_count": 31,
   "metadata": {},
   "outputs": [
    {
     "data": {
      "text/plain": [
       "array([20.1, 22. , 16.7, 18.7, 19.6])"
      ]
     },
     "execution_count": 31,
     "metadata": {},
     "output_type": "execute_result"
    }
   ],
   "source": [
    "y_test[46:]"
   ]
  },
  {
   "cell_type": "code",
   "execution_count": 32,
   "metadata": {},
   "outputs": [],
   "source": [
    "from sklearn.metrics import r2_score"
   ]
  },
  {
   "cell_type": "code",
   "execution_count": 33,
   "metadata": {},
   "outputs": [],
   "source": [
    "R2 = r2_score(y_test, pred_test)"
   ]
  },
  {
   "cell_type": "code",
   "execution_count": 34,
   "metadata": {},
   "outputs": [
    {
     "data": {
      "text/plain": [
       "0.8532516140484321"
      ]
     },
     "execution_count": 34,
     "metadata": {},
     "output_type": "execute_result"
    }
   ],
   "source": [
    "R2"
   ]
  },
  {
   "cell_type": "code",
   "execution_count": 36,
   "metadata": {},
   "outputs": [
    {
     "data": {
      "text/plain": [
       "-0.02443883384278367"
      ]
     },
     "execution_count": 36,
     "metadata": {},
     "output_type": "execute_result"
    }
   ],
   "source": [
    "R22 = r2_score(y_test, pred_test2) #sigmoid\n",
    "R22"
   ]
  },
  {
   "cell_type": "code",
   "execution_count": 49,
   "metadata": {},
   "outputs": [
    {
     "data": {
      "text/plain": [
       "<keras.callbacks.History at 0x7f9c09f36ed0>"
      ]
     },
     "execution_count": 49,
     "metadata": {},
     "output_type": "execute_result"
    }
   ],
   "source": [
    "history"
   ]
  },
  {
   "cell_type": "code",
   "execution_count": 50,
   "metadata": {},
   "outputs": [
    {
     "data": {
      "text/plain": [
       "<keras.engine.sequential.Sequential at 0x7f9c06e72790>"
      ]
     },
     "execution_count": 50,
     "metadata": {},
     "output_type": "execute_result"
    }
   ],
   "source": [
    "history.model"
   ]
  },
  {
   "cell_type": "code",
   "execution_count": 56,
   "metadata": {},
   "outputs": [
    {
     "data": {
      "text/plain": [
       "[2.118427276611328, 2.059671640396118, 2.0962307453155518]"
      ]
     },
     "execution_count": 56,
     "metadata": {},
     "output_type": "execute_result"
    }
   ],
   "source": [
    "history.history['mae'][:3]"
   ]
  },
  {
   "cell_type": "code",
   "execution_count": 57,
   "metadata": {},
   "outputs": [
    {
     "data": {
      "text/plain": [
       "[8.488134384155273, 8.081789016723633, 8.229816436767578]"
      ]
     },
     "execution_count": 57,
     "metadata": {},
     "output_type": "execute_result"
    }
   ],
   "source": [
    "history.history['loss'][:3]"
   ]
  },
  {
   "cell_type": "code",
   "execution_count": 37,
   "metadata": {},
   "outputs": [
    {
     "data": {
      "image/png": "[encoded data removed]",
      "text/plain": [
       "<Figure size 432x288 with 1 Axes>"
      ]
     },
     "metadata": {
      "needs_background": "light"
     },
     "output_type": "display_data"
    }
   ],
   "source": [
    "import matplotlib.pyplot as plt\n",
    "plt.plot(history.history['mae'])\n",
    "plt.plot(history.history['loss'])\n",
    "plt.grid()\n",
    "plt.show()"
   ]
  },
  {
   "cell_type": "code",
   "execution_count": 38,
   "metadata": {},
   "outputs": [
    {
     "data": {
      "image/png": "[encoded data removed]",
      "text/plain": [
       "<Figure size 432x288 with 1 Axes>"
      ]
     },
     "metadata": {
      "needs_background": "light"
     },
     "output_type": "display_data"
    }
   ],
   "source": [
    "plt.plot(history2.history['mae'])\n",
    "plt.plot(history2.history['loss'])\n",
    "plt.grid()\n",
    "plt.show()"
   ]
  },
  {
   "cell_type": "code",
   "execution_count": 48,
   "metadata": {},
   "outputs": [
    {
     "data": {
      "image/png": "[encoded data removed]",
      "text/plain": [
       "<Figure size 432x288 with 1 Axes>"
      ]
     },
     "metadata": {
      "needs_background": "light"
     },
     "output_type": "display_data"
    }
   ],
   "source": [
    "plt.plot([R2, R22], marker='o', linestyle = 'dashed') #R2비교\n",
    "plt.plot([eval_test[0], eval_test2[0]], marker='^') #loss비교\n",
    "plt.plot([eval_test[1], eval_test2[1]], marker='.') #mae비교       \n",
    "plt.grid()\n",
    "plt.show()"
   ]
  },
  {
   "cell_type": "code",
   "execution_count": null,
   "metadata": {},
   "outputs": [],
   "source": []
  }
 ],
 "metadata": {
  "kernelspec": {
   "display_name": "Python 3 (ipykernel)",
   "language": "python",
   "name": "python3"
  },
  "language_info": {
   "codemirror_mode": {
    "name": "ipython",
    "version": 3
   },
   "file_extension": ".py",
   "mimetype": "text/x-python",
   "name": "python",
   "nbconvert_exporter": "python",
   "pygments_lexer": "ipython3",
   "version": "3.7.9"
  }
 },
 "nbformat": 4,
 "nbformat_minor": 4
}
