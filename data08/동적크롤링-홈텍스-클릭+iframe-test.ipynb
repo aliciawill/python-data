{
 "cells": [
  {
   "cell_type": "code",
   "execution_count": 3,
   "metadata": {},
   "outputs": [],
   "source": [
    "import warnings\n",
    "warnings.filterwarnings(action='ignore')"
   ]
  },
  {
   "cell_type": "code",
   "execution_count": 5,
   "metadata": {},
   "outputs": [],
   "source": [
    "# step1. 관련 패키지 및 모듈 불러오기\n",
    "from selenium import webdriver\n",
    "import time\n",
    "\n",
    "# step2.크롬 드라이버 실행 및 driver라는 변수명으로 객체화 (괄호 안에는 각자의 크롬드라이버 경로를 입력하면 됨)\n",
    "driver = webdriver.Chrome('/usr/local/bin/chromedriver') #브라우저 실행\n",
    "\n",
    "# step3.(크롬)드라이버가 요소를 찾는데에 최대 5초까지 기다림\n",
    "driver.implicitly_wait(5)\n",
    "\n",
    "# step4.국세청홈택스 url 주소를 가져와서 접속\n",
    "driver.get('https://www.hometax.go.kr/websquare/websquare.html?w2xPath=/ui/pp/index.xml')\n",
    "time.sleep(1)"
   ]
  },
  {
   "cell_type": "code",
   "execution_count": 6,
   "metadata": {},
   "outputs": [],
   "source": [
    "# 로그인 단계로 가기위해서 화면상단의 로그인 탭 클릭\n",
    "driver.find_element_by_xpath('//*[@id=\"textbox81212912\"]').click()\n",
    "time.sleep(1)"
   ]
  },
  {
   "cell_type": "code",
   "execution_count": 11,
   "metadata": {},
   "outputs": [],
   "source": [
    "#driver.switch_to.frame('txppIframe') #iframe으로 들어가기\n",
    "time.sleep(1)"
   ]
  },
  {
   "cell_type": "code",
   "execution_count": 10,
   "metadata": {},
   "outputs": [],
   "source": [
    "#driver.find_element_by_xpath('//*[@id=\"anchor22\"]').click()"
   ]
  },
  {
   "cell_type": "code",
   "execution_count": null,
   "metadata": {},
   "outputs": [],
   "source": [
    "driver.switch_to.parent_frame() #iframe에서 나오기"
   ]
  },
  {
   "cell_type": "code",
   "execution_count": null,
   "metadata": {},
   "outputs": [],
   "source": []
  }
 ],
 "metadata": {
  "kernelspec": {
   "display_name": "Python 3 (ipykernel)",
   "language": "python",
   "name": "python3"
  },
  "language_info": {
   "codemirror_mode": {
    "name": "ipython",
    "version": 3
   },
   "file_extension": ".py",
   "mimetype": "text/x-python",
   "name": "python",
   "nbconvert_exporter": "python",
   "pygments_lexer": "ipython3",
   "version": "3.7.11"
  }
 },
 "nbformat": 4,
 "nbformat_minor": 4
}
