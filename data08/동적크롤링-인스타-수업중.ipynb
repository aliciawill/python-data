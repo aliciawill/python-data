{
 "cells": [
  {
   "cell_type": "code",
   "execution_count": 18,
   "metadata": {},
   "outputs": [],
   "source": [
    "# 주요 라이브러리 import\n",
    "# 동적크롤링-수업중-인스타 로그인\n",
    "import warnings\n",
    "warnings.filterwarnings(action='ignore')\n",
    "from selenium.webdriver.common.by import By\n",
    "from selenium.webdriver.support.ui import WebDriverWait \n",
    "from selenium.webdriver.support import expected_conditions as EC\n",
    "#step1.selenium 패키지와 time 모듈 import\n",
    "from selenium import webdriver as wb\n",
    "from selenium.webdriver.common.keys import Keys\n",
    "import time\n",
    "from IPython.display import Image\n",
    "import pandas as pd\n",
    "from bs4 import BeautifulSoup as bs"
   ]
  },
  {
   "cell_type": "code",
   "execution_count": 19,
   "metadata": {},
   "outputs": [],
   "source": [
    "# 크롬 브라우저 실행\n",
    "driver = webdriver.Chrome('/usr/local/bin/chromedriver') #브라우저 실행')"
   ]
  },
  {
   "cell_type": "code",
   "execution_count": 20,
   "metadata": {},
   "outputs": [],
   "source": [
    "# 특정한 페이지 접속\n",
    "driver.get('https://www.instagram.com/')\n",
    "time.sleep(3)"
   ]
  },
  {
   "cell_type": "code",
   "execution_count": 21,
   "metadata": {},
   "outputs": [],
   "source": [
    "## => #loginForm > div > div:nth-child(1) > div > label > input\n",
    "id_input = '#loginForm > div > div:nth-child(1) > div > label > input'\n",
    "email_box = driver.find_element_by_css_selector(id_input)\n",
    "email_box.send_keys('jungwonrun')"
   ]
  },
  {
   "cell_type": "code",
   "execution_count": 22,
   "metadata": {},
   "outputs": [],
   "source": [
    "## => #loginForm > div > div:nth-child(2) > div > label > input\n",
    "pw_input = '#loginForm > div > div:nth-child(2) > div > label > input'\n",
    "pw_box = driver.find_element_by_css_selector(pw_input)\n",
    "pw_box.send_keys('react00-=')"
   ]
  },
  {
   "cell_type": "code",
   "execution_count": 23,
   "metadata": {},
   "outputs": [],
   "source": [
    "## => #loginForm > div > div:nth-child(3) > button\n",
    "submit_input = '#loginForm > div > div:nth-child(3) > button'\n",
    "submit_btn = driver.find_element_by_css_selector(submit_input)\n",
    "submit_btn.send_keys(Keys.RETURN)\n",
    "time.sleep(2)"
   ]
  },
  {
   "cell_type": "code",
   "execution_count": 25,
   "metadata": {},
   "outputs": [],
   "source": [
    "## => #react-root > section > main > div > div > div > section > div > button\n",
    "save_css = '#react-root > section > main > div > div > div > section > div > button'\n",
    "save_btn = driver.find_element_by_css_selector(save_css)\n",
    "save_btn.send_keys(Keys.ENTER)\n",
    "time.sleep(2)"
   ]
  },
  {
   "cell_type": "code",
   "execution_count": 27,
   "metadata": {},
   "outputs": [],
   "source": [
    "## => body > div.RnEpo.Yx5HN > div > div > div > div.mt3GC > button.aOOlW.HoLwm\n",
    "after_css = 'body > div.RnEpo.Yx5HN > div > div > div > div.mt3GC > button.aOOlW.HoLwm'\n",
    "after_btn = driver.find_element_by_css_selector(after_css)\n",
    "after_btn.click()"
   ]
  },
  {
   "cell_type": "code",
   "execution_count": 60,
   "metadata": {},
   "outputs": [
    {
     "name": "stdout",
     "output_type": "stream",
     "text": [
      "[<selenium.webdriver.remote.webelement.WebElement (session=\"c444c0e2c82c251c9a6c52980689922c\", element=\"635fb64f-57f4-40b0-a19a-6103aa7eb89f\")>, <selenium.webdriver.remote.webelement.WebElement (session=\"c444c0e2c82c251c9a6c52980689922c\", element=\"5b270250-8d44-42ca-b4fc-ed1103815659\")>]\n",
      "<class 'list'>\n",
      "87\n"
     ]
    }
   ],
   "source": [
    "## 좋아요=> #react-root > section > main > section > div.CZW53.N2s2W > div.qF0y9.Igw0E.IwRSH.eGOV_._4EzTm > div:nth-child(1) > div > article:nth-child(4) > div > div.qF0y9.Igw0E.IwRSH.eGOV_._4EzTm > div > div > section.EDfFK.ygqzn > div > div > div > a > div\n",
    "like_css = '.eo2As  span'\n",
    "like_texts = driver.find_elements_by_css_selector(like_css)\n",
    "print(like_texts[:2])\n",
    "print(type(like_texts))\n",
    "print(len(like_texts))"
   ]
  },
  {
   "cell_type": "code",
   "execution_count": 65,
   "metadata": {},
   "outputs": [
    {
     "name": "stdout",
     "output_type": "stream",
     "text": [
      "174\n",
      "388\n",
      "304\n",
      "26\n"
     ]
    }
   ],
   "source": [
    "for like in like_texts:\n",
    "        if like.text.isdecimal():\n",
    "            print(int(like.text))\n",
    "        else:\n",
    "            pass"
   ]
  },
  {
   "cell_type": "code",
   "execution_count": 35,
   "metadata": {},
   "outputs": [],
   "source": [
    "## 더보기 => #react-root > section > main > section > div.CZW53.N2s2W > div.qF0y9.Igw0E.IwRSH.eGOV_._4EzTm > div:nth-child(1) > div > article:nth-child(4) > div > div.qF0y9.Igw0E.IwRSH.eGOV_._4EzTm > div > div > div.EtaWk > div > div:nth-child(1) > div > span:nth-child(3) > span:nth-child(2) > div > div\n",
    "more_css = '#react-root > section > main > section > div.CZW53.N2s2W > div.qF0y9.Igw0E.IwRSH.eGOV_._4EzTm > div:nth-child(1) > div > article:nth-child(4) > div > div.qF0y9.Igw0E.IwRSH.eGOV_._4EzTm > div > div > div.EtaWk > div > div:nth-child(1) > div > span:nth-child(3) > span:nth-child(2) > div > div'\n",
    "more_texts = driver.find_elements_by_css_selector(more_css)"
   ]
  },
  {
   "cell_type": "code",
   "execution_count": 37,
   "metadata": {},
   "outputs": [],
   "source": [
    "for more in more_texts:\n",
    "    # print(more.text)\n",
    "    more.click()"
   ]
  },
  {
   "cell_type": "code",
   "execution_count": 43,
   "metadata": {},
   "outputs": [
    {
     "name": "stdout",
     "output_type": "stream",
     "text": [
      "<class 'list'> 20\n"
     ]
    }
   ],
   "source": [
    "## => #react-root > section > main > section > div > div.qF0y9.Igw0E.IwRSH.eGOV_._4EzTm > div:nth-child(1) > div > article:nth-child(1) > div > div.qF0y9.Igw0E.IwRSH.eGOV_._4EzTm > div > div > div.EtaWk > div > div > div > span:nth-child(3) > span > a:nth-child(5)\n",
    "tag = driver.find_elements_by_css_selector('.xil3i')\n",
    "print(type(tag), len(tag))"
   ]
  },
  {
   "cell_type": "code",
   "execution_count": 45,
   "metadata": {},
   "outputs": [
    {
     "name": "stdout",
     "output_type": "stream",
     "text": [
      "#따뜻한식탁\n",
      "#살림\n",
      "#살림도구\n",
      "#규미일상\n",
      "#규미맛집\n",
      "#언니가알려주마\n",
      "#마고그릴\n",
      "#센트럴시티맛집\n",
      "#쓰리버즈\n",
      "#삼거리푸줏간\n",
      "#메리어트호텔\n",
      "#스테이크맛집\n",
      "#family\n",
      "#sundayfunday\n",
      "#pepsun\n",
      "#가족사진\n",
      "#가족스타그램\n",
      "#가족셀카\n",
      "#스웨덴\n",
      "#주말일상\n"
     ]
    }
   ],
   "source": [
    "for x in tag:\n",
    "    print(x.text)"
   ]
  },
  {
   "cell_type": "code",
   "execution_count": null,
   "metadata": {},
   "outputs": [],
   "source": [
    "# //*[@id=\"react-root\"]/section/main/section/div/div[3]/div[1]/div/article[1]/div/div[3]/div/div/div[1]/div/div/div/span[3]/span/text()[2]"
   ]
  }
 ],
 "metadata": {
  "kernelspec": {
   "display_name": "Python 3 (ipykernel)",
   "language": "python",
   "name": "python3"
  },
  "language_info": {
   "codemirror_mode": {
    "name": "ipython",
    "version": 3
   },
   "file_extension": ".py",
   "mimetype": "text/x-python",
   "name": "python",
   "nbconvert_exporter": "python",
   "pygments_lexer": "ipython3",
   "version": "3.7.11"
  }
 },
 "nbformat": 4,
 "nbformat_minor": 4
}
