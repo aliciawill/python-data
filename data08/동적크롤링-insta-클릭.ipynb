{
 "cells": [
  {
   "cell_type": "code",
   "execution_count": 54,
   "metadata": {},
   "outputs": [],
   "source": [
    "import warnings\n",
    "warnings.filterwarnings(action='ignore')\n",
    "# step1. 관련 패키지 및 모듈 불러오기\n",
    "from selenium import webdriver\n",
    "import time\n",
    "\n",
    "# step2.크롬 드라이버 실행 및 driver라는 변수명으로 객체화 (괄호 안에는 각자의 크롬드라이버 경로를 입력하면 됨)\n",
    "driver = webdriver.Chrome('/usr/local/bin/chromedriver') #브라우저 실행\n",
    "\n",
    "# step3.(크롬)드라이버가 요소를 찾는데에 최대 5초까지 기다림\n",
    "driver.implicitly_wait(5)\n",
    "\n",
    "# step4.국세청홈택스 url 주소를 가져와서 접속\n",
    "driver.get('https://www.instagram.com/?hl=ko')\n",
    "time.sleep(1)"
   ]
  },
  {
   "cell_type": "code",
   "execution_count": 55,
   "metadata": {},
   "outputs": [],
   "source": [
    "# selenium으로 무엇인가 입력하기 위한 import\n",
    "from selenium.webdriver.common.keys import Keys"
   ]
  },
  {
   "cell_type": "code",
   "execution_count": 56,
   "metadata": {},
   "outputs": [],
   "source": [
    "email_box = driver.find_element_by_css_selector(\"#loginForm > div > div:nth-child(1) > div > label > input\")\n",
    "email_box.send_keys('jungwonrun')\n",
    "pw_box = driver.find_element_by_css_selector(\"#loginForm > div > div:nth-child(2) > div > label > input\")\n",
    "pw_box.send_keys('react00-=')\n",
    "# //*[@id=\"loginForm\"]/div/div[3]/button\n",
    "submit_btn = driver.find_element_by_css_selector(\"#loginForm > div > div:nth-child(3) > button\")\n",
    "submit_btn.send_keys(Keys.RETURN)\n",
    "time.sleep(1)"
   ]
  },
  {
   "cell_type": "code",
   "execution_count": 57,
   "metadata": {},
   "outputs": [],
   "source": [
    "# #react-root > section > main > div > div > div > section > div > button\n",
    "save_btn = driver.find_element_by_css_selector(\"#react-root > section > main > div > div > div > section > div > button\")\n",
    "save_btn.send_keys(Keys.ENTER)"
   ]
  },
  {
   "cell_type": "code",
   "execution_count": 58,
   "metadata": {},
   "outputs": [],
   "source": [
    "time.sleep(2)"
   ]
  },
  {
   "cell_type": "code",
   "execution_count": 59,
   "metadata": {},
   "outputs": [],
   "source": [
    "# body > div.RnEpo.Yx5HN > div > div > div > div.mt3GC > button.aOOlW.HoLwm\n",
    "after_btn = driver.find_element_by_css_selector(\"body > div.RnEpo.Yx5HN > div > div > div > div.mt3GC > button.aOOlW.HoLwm\")\n",
    "after_btn.click()# 보통 값을 서버로 보낼 때 사용함. 일반 클릭으로도 사용 가능함."
   ]
  },
  {
   "cell_type": "code",
   "execution_count": 62,
   "metadata": {},
   "outputs": [
    {
     "name": "stdout",
     "output_type": "stream",
     "text": [
      "더보기 없음.\n"
     ]
    }
   ],
   "source": [
    "# #react-root > section > main > section > div > div.qF0y9.Igw0E.IwRSH.eGOV_._4EzTm > div:nth-child(1) > div > article:nth-child(1) > div > div.qF0y9.Igw0E.IwRSH.eGOV_._4EzTm > div > div > div.EtaWk > div > div:nth-child(1) > div > span:nth-child(3) > span:nth-child(2) > div > div\n",
    "try :\n",
    "    more_click = driver.find_element_by_css_selector(\"#react-root > section > main > section > div > div.qF0y9.Igw0E.IwRSH.eGOV_._4EzTm > div:nth-child(1) > div > article:nth-child(1) > div > div.qF0y9.Igw0E.IwRSH.eGOV_._4EzTm > div > div > div.EtaWk > div > div:nth-child(1) > div > span:nth-child(3) > span:nth-child(2) > div > div\")\n",
    "    if more_click != None:\n",
    "        more_click.click() #인스타 더보기 클릭, 값을 서버로 보내지는 않음.\n",
    "except:\n",
    "    print('더보기 없음.')"
   ]
  },
  {
   "cell_type": "code",
   "execution_count": 63,
   "metadata": {},
   "outputs": [
    {
     "name": "stdout",
     "output_type": "stream",
     "text": [
      "18\n"
     ]
    }
   ],
   "source": [
    "# 좋아요 수치!\n",
    "# #react-root > section > main > section > div > div.qF0y9.Igw0E.IwRSH.eGOV_._4EzTm > div:nth-child(1) > div > article:nth-child(1) > div > div.qF0y9.Igw0E.IwRSH.eGOV_._4EzTm > div > div > section.EDfFK.ygqzn > div > div > div > a > div > span\n",
    "like_no = driver.find_element_by_css_selector(\"#react-root > section > main > section > div > div.qF0y9.Igw0E.IwRSH.eGOV_._4EzTm > div:nth-child(1) > div > article:nth-child(1) > div > div.qF0y9.Igw0E.IwRSH.eGOV_._4EzTm > div > div > section.EDfFK.ygqzn > div > div > div > a > div > span\")\n",
    "print(like_no.text) #태그 사이의 값 "
   ]
  },
  {
   "cell_type": "code",
   "execution_count": 64,
   "metadata": {},
   "outputs": [
    {
     "name": "stdout",
     "output_type": "stream",
     "text": [
      "댓글 없음.\n"
     ]
    }
   ],
   "source": [
    "#react-root > section > main > section > div > div.qF0y9.Igw0E.IwRSH.eGOV_._4EzTm > div:nth-child(1) > div > article:nth-child(1) > div > div.qF0y9.Igw0E.IwRSH.eGOV_._4EzTm > div > div > div.EtaWk > div > div:nth-child(2) > a > div\n",
    "try:\n",
    "    reply_click = driver.find_element_by_css_selector(\"#react-root > section > main > section > div > div.qF0y9.Igw0E.IwRSH.eGOV_._4EzTm > div:nth-child(1) > div > article:nth-child(1) > div > div.qF0y9.Igw0E.IwRSH.eGOV_._4EzTm > div > div > div.EtaWk > div > div:nth-child(2) > a > div\")\n",
    "    if reply_click != None:\n",
    "        reply_click.click()\n",
    "except:\n",
    "    print('댓글 없음.')"
   ]
  },
  {
   "cell_type": "code",
   "execution_count": null,
   "metadata": {},
   "outputs": [],
   "source": []
  }
 ],
 "metadata": {
  "kernelspec": {
   "display_name": "Python 3 (ipykernel)",
   "language": "python",
   "name": "python3"
  },
  "language_info": {
   "codemirror_mode": {
    "name": "ipython",
    "version": 3
   },
   "file_extension": ".py",
   "mimetype": "text/x-python",
   "name": "python",
   "nbconvert_exporter": "python",
   "pygments_lexer": "ipython3",
   "version": "3.7.11"
  }
 },
 "nbformat": 4,
 "nbformat_minor": 4
}
