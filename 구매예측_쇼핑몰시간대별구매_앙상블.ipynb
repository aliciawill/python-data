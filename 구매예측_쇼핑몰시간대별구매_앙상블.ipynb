{
  "nbformat": 4,
  "nbformat_minor": 0,
  "metadata": {
    "colab": {
      "name": "구매예측-쇼핑몰시간대별구매-앙상블.ipynb",
      "provenance": [],
      "collapsed_sections": [],
      "authorship_tag": "ABX9TyORyteB5v6nO89u8co1EWxn",
      "include_colab_link": true
    },
    "kernelspec": {
      "name": "python3",
      "display_name": "Python 3"
    },
    "language_info": {
      "name": "python"
    }
  },
  "cells": [
    {
      "cell_type": "markdown",
      "metadata": {
        "id": "view-in-github",
        "colab_type": "text"
      },
      "source": [
        "<a href=\"https://colab.research.google.com/github/aliciawill/python-data/blob/master/%EA%B5%AC%EB%A7%A4%EC%98%88%EC%B8%A1_%EC%87%BC%ED%95%91%EB%AA%B0%EC%8B%9C%EA%B0%84%EB%8C%80%EB%B3%84%EA%B5%AC%EB%A7%A4_%EC%95%99%EC%83%81%EB%B8%94.ipynb\" target=\"_parent\"><img src=\"https://colab.research.google.com/assets/colab-badge.svg\" alt=\"Open In Colab\"/></a>"
      ]
    },
    {
      "cell_type": "code",
      "execution_count": null,
      "metadata": {
        "id": "GkdwC8aVY4Bx"
      },
      "outputs": [],
      "source": [
        "# 주요 라이브러리 import\n",
        "import warnings\n",
        "warnings.filterwarnings(action='ignore')\n",
        "import time\n",
        "from IPython.display import Image\n",
        "import pandas as pd\n",
        "import numpy as np\n",
        "\n",
        "import matplotlib.pyplot as plt\n",
        "import seaborn as sns\n",
        "\n",
        "from sklearn.model_selection import train_test_split\n",
        "from sklearn.model_selection import GridSearchCV\n",
        "from sklearn.model_selection import cross_val_score\n",
        "from sklearn.metrics import *\n",
        "from sklearn.metrics import roc_curve, roc_auc_score\n",
        "\n",
        "from matplotlib import rc, font_manager\n",
        "import matplotlib.font_manager as fm\n",
        "from sklearn.preprocessing import StandardScaler\n",
        "from sklearn.preprocessing import MinMaxScaler\n",
        "from sklearn.preprocessing import LabelEncoder\n",
        "\n",
        "from sklearn.tree import DecisionTreeClassifier\n",
        "from sklearn.svm import SVC\n",
        "from sklearn.linear_model import LogisticRegression\n",
        "\n",
        "from sklearn.ensemble import VotingClassifier\n",
        "from sklearn.ensemble import RandomForestClassifier\n",
        "import catboost as cat"
      ]
    },
    {
      "cell_type": "code",
      "source": [
        "#!pip install catboost"
      ],
      "metadata": {
        "id": "kIF0NoYmR0mf"
      },
      "execution_count": null,
      "outputs": []
    },
    {
      "cell_type": "code",
      "source": [
        "df = pd.read_csv('/content/shop-8.csv', encoding='utf-8')\n",
        "df.head()"
      ],
      "metadata": {
        "colab": {
          "base_uri": "https://localhost:8080/",
          "height": 389
        },
        "id": "E6oHHdf0ZYOP",
        "outputId": "e6fc2ce8-1448-4e87-e623-9fe984f6cd0e"
      },
      "execution_count": null,
      "outputs": [
        {
          "output_type": "execute_result",
          "data": {
            "text/plain": [
              "   CRI_YM  TAG 평일휴일 요일       시간대 성별    연령대    건수합계   Unnamed: 8  Unnamed: 9  \\\n",
              "0  201905    1   평일  목  B.06-10시  F  A.2O대     291          NaN         NaN   \n",
              "1  202005    1   평일  월  D.14-18시  M  C.4O대   6,225          NaN         NaN   \n",
              "2  201905    1   휴일  일  F.22-02시  M  B.3O대      51          NaN  1, 1, 1, 1   \n",
              "3  202105    2   휴일  일  D.14-18시  F  C.4O대   3,564          NaN     02월 02일   \n",
              "4  202005    1   평일  월  C.10-14시  F  D.5O대   1,101          NaN           3   \n",
              "\n",
              "   Unnamed: 10  \n",
              "0          NaN  \n",
              "1          NaN  \n",
              "2          1.0  \n",
              "3          2.0  \n",
              "4          3.0  "
            ],
            "text/html": [
              "\n",
              "  <div id=\"df-31757a9f-948d-4b9a-9483-bf221dcb56f3\">\n",
              "    <div class=\"colab-df-container\">\n",
              "      <div>\n",
              "<style scoped>\n",
              "    .dataframe tbody tr th:only-of-type {\n",
              "        vertical-align: middle;\n",
              "    }\n",
              "\n",
              "    .dataframe tbody tr th {\n",
              "        vertical-align: top;\n",
              "    }\n",
              "\n",
              "    .dataframe thead th {\n",
              "        text-align: right;\n",
              "    }\n",
              "</style>\n",
              "<table border=\"1\" class=\"dataframe\">\n",
              "  <thead>\n",
              "    <tr style=\"text-align: right;\">\n",
              "      <th></th>\n",
              "      <th>CRI_YM</th>\n",
              "      <th>TAG</th>\n",
              "      <th>평일휴일</th>\n",
              "      <th>요일</th>\n",
              "      <th>시간대</th>\n",
              "      <th>성별</th>\n",
              "      <th>연령대</th>\n",
              "      <th>건수합계</th>\n",
              "      <th>Unnamed: 8</th>\n",
              "      <th>Unnamed: 9</th>\n",
              "      <th>Unnamed: 10</th>\n",
              "    </tr>\n",
              "  </thead>\n",
              "  <tbody>\n",
              "    <tr>\n",
              "      <th>0</th>\n",
              "      <td>201905</td>\n",
              "      <td>1</td>\n",
              "      <td>평일</td>\n",
              "      <td>목</td>\n",
              "      <td>B.06-10시</td>\n",
              "      <td>F</td>\n",
              "      <td>A.2O대</td>\n",
              "      <td>291</td>\n",
              "      <td>NaN</td>\n",
              "      <td>NaN</td>\n",
              "      <td>NaN</td>\n",
              "    </tr>\n",
              "    <tr>\n",
              "      <th>1</th>\n",
              "      <td>202005</td>\n",
              "      <td>1</td>\n",
              "      <td>평일</td>\n",
              "      <td>월</td>\n",
              "      <td>D.14-18시</td>\n",
              "      <td>M</td>\n",
              "      <td>C.4O대</td>\n",
              "      <td>6,225</td>\n",
              "      <td>NaN</td>\n",
              "      <td>NaN</td>\n",
              "      <td>NaN</td>\n",
              "    </tr>\n",
              "    <tr>\n",
              "      <th>2</th>\n",
              "      <td>201905</td>\n",
              "      <td>1</td>\n",
              "      <td>휴일</td>\n",
              "      <td>일</td>\n",
              "      <td>F.22-02시</td>\n",
              "      <td>M</td>\n",
              "      <td>B.3O대</td>\n",
              "      <td>51</td>\n",
              "      <td>NaN</td>\n",
              "      <td>1, 1, 1, 1</td>\n",
              "      <td>1.0</td>\n",
              "    </tr>\n",
              "    <tr>\n",
              "      <th>3</th>\n",
              "      <td>202105</td>\n",
              "      <td>2</td>\n",
              "      <td>휴일</td>\n",
              "      <td>일</td>\n",
              "      <td>D.14-18시</td>\n",
              "      <td>F</td>\n",
              "      <td>C.4O대</td>\n",
              "      <td>3,564</td>\n",
              "      <td>NaN</td>\n",
              "      <td>02월 02일</td>\n",
              "      <td>2.0</td>\n",
              "    </tr>\n",
              "    <tr>\n",
              "      <th>4</th>\n",
              "      <td>202005</td>\n",
              "      <td>1</td>\n",
              "      <td>평일</td>\n",
              "      <td>월</td>\n",
              "      <td>C.10-14시</td>\n",
              "      <td>F</td>\n",
              "      <td>D.5O대</td>\n",
              "      <td>1,101</td>\n",
              "      <td>NaN</td>\n",
              "      <td>3</td>\n",
              "      <td>3.0</td>\n",
              "    </tr>\n",
              "  </tbody>\n",
              "</table>\n",
              "</div>\n",
              "      <button class=\"colab-df-convert\" onclick=\"convertToInteractive('df-31757a9f-948d-4b9a-9483-bf221dcb56f3')\"\n",
              "              title=\"Convert this dataframe to an interactive table.\"\n",
              "              style=\"display:none;\">\n",
              "        \n",
              "  <svg xmlns=\"http://www.w3.org/2000/svg\" height=\"24px\"viewBox=\"0 0 24 24\"\n",
              "       width=\"24px\">\n",
              "    <path d=\"M0 0h24v24H0V0z\" fill=\"none\"/>\n",
              "    <path d=\"M18.56 5.44l.94 2.06.94-2.06 2.06-.94-2.06-.94-.94-2.06-.94 2.06-2.06.94zm-11 1L8.5 8.5l.94-2.06 2.06-.94-2.06-.94L8.5 2.5l-.94 2.06-2.06.94zm10 10l.94 2.06.94-2.06 2.06-.94-2.06-.94-.94-2.06-.94 2.06-2.06.94z\"/><path d=\"M17.41 7.96l-1.37-1.37c-.4-.4-.92-.59-1.43-.59-.52 0-1.04.2-1.43.59L10.3 9.45l-7.72 7.72c-.78.78-.78 2.05 0 2.83L4 21.41c.39.39.9.59 1.41.59.51 0 1.02-.2 1.41-.59l7.78-7.78 2.81-2.81c.8-.78.8-2.07 0-2.86zM5.41 20L4 18.59l7.72-7.72 1.47 1.35L5.41 20z\"/>\n",
              "  </svg>\n",
              "      </button>\n",
              "      \n",
              "  <style>\n",
              "    .colab-df-container {\n",
              "      display:flex;\n",
              "      flex-wrap:wrap;\n",
              "      gap: 12px;\n",
              "    }\n",
              "\n",
              "    .colab-df-convert {\n",
              "      background-color: #E8F0FE;\n",
              "      border: none;\n",
              "      border-radius: 50%;\n",
              "      cursor: pointer;\n",
              "      display: none;\n",
              "      fill: #1967D2;\n",
              "      height: 32px;\n",
              "      padding: 0 0 0 0;\n",
              "      width: 32px;\n",
              "    }\n",
              "\n",
              "    .colab-df-convert:hover {\n",
              "      background-color: #E2EBFA;\n",
              "      box-shadow: 0px 1px 2px rgba(60, 64, 67, 0.3), 0px 1px 3px 1px rgba(60, 64, 67, 0.15);\n",
              "      fill: #174EA6;\n",
              "    }\n",
              "\n",
              "    [theme=dark] .colab-df-convert {\n",
              "      background-color: #3B4455;\n",
              "      fill: #D2E3FC;\n",
              "    }\n",
              "\n",
              "    [theme=dark] .colab-df-convert:hover {\n",
              "      background-color: #434B5C;\n",
              "      box-shadow: 0px 1px 3px 1px rgba(0, 0, 0, 0.15);\n",
              "      filter: drop-shadow(0px 1px 2px rgba(0, 0, 0, 0.3));\n",
              "      fill: #FFFFFF;\n",
              "    }\n",
              "  </style>\n",
              "\n",
              "      <script>\n",
              "        const buttonEl =\n",
              "          document.querySelector('#df-31757a9f-948d-4b9a-9483-bf221dcb56f3 button.colab-df-convert');\n",
              "        buttonEl.style.display =\n",
              "          google.colab.kernel.accessAllowed ? 'block' : 'none';\n",
              "\n",
              "        async function convertToInteractive(key) {\n",
              "          const element = document.querySelector('#df-31757a9f-948d-4b9a-9483-bf221dcb56f3');\n",
              "          const dataTable =\n",
              "            await google.colab.kernel.invokeFunction('convertToInteractive',\n",
              "                                                     [key], {});\n",
              "          if (!dataTable) return;\n",
              "\n",
              "          const docLinkHtml = 'Like what you see? Visit the ' +\n",
              "            '<a target=\"_blank\" href=https://colab.research.google.com/notebooks/data_table.ipynb>data table notebook</a>'\n",
              "            + ' to learn more about interactive tables.';\n",
              "          element.innerHTML = '';\n",
              "          dataTable['output_type'] = 'display_data';\n",
              "          await google.colab.output.renderOutput(dataTable, element);\n",
              "          const docLink = document.createElement('div');\n",
              "          docLink.innerHTML = docLinkHtml;\n",
              "          element.appendChild(docLink);\n",
              "        }\n",
              "      </script>\n",
              "    </div>\n",
              "  </div>\n",
              "  "
            ]
          },
          "metadata": {},
          "execution_count": 67
        }
      ]
    },
    {
      "cell_type": "code",
      "source": [
        "df.info()"
      ],
      "metadata": {
        "colab": {
          "base_uri": "https://localhost:8080/"
        },
        "id": "rEA2D12RZp9p",
        "outputId": "f58222df-d684-4964-eafc-1d2a9be1cabc"
      },
      "execution_count": null,
      "outputs": [
        {
          "output_type": "stream",
          "name": "stdout",
          "text": [
            "<class 'pandas.core.frame.DataFrame'>\n",
            "RangeIndex: 19997 entries, 0 to 19996\n",
            "Data columns (total 11 columns):\n",
            " #   Column       Non-Null Count  Dtype  \n",
            "---  ------       --------------  -----  \n",
            " 0   CRI_YM       19997 non-null  int64  \n",
            " 1   TAG          19997 non-null  int64  \n",
            " 2   평일휴일         19997 non-null  object \n",
            " 3   요일           19997 non-null  object \n",
            " 4   시간대          19997 non-null  object \n",
            " 5   성별           19997 non-null  object \n",
            " 6   연령대          19997 non-null  object \n",
            " 7    건수합계        19997 non-null  object \n",
            " 8   Unnamed: 8   0 non-null      float64\n",
            " 9   Unnamed: 9   4 non-null      object \n",
            " 10  Unnamed: 10  4 non-null      float64\n",
            "dtypes: float64(2), int64(2), object(7)\n",
            "memory usage: 1.7+ MB\n"
          ]
        }
      ]
    },
    {
      "cell_type": "code",
      "source": [
        "df['TAG']"
      ],
      "metadata": {
        "colab": {
          "base_uri": "https://localhost:8080/"
        },
        "id": "17L7JyqYj8du",
        "outputId": "f5f6c5d6-3bba-4431-c735-a37bb4b40282"
      },
      "execution_count": null,
      "outputs": [
        {
          "output_type": "execute_result",
          "data": {
            "text/plain": [
              "0        1\n",
              "1        1\n",
              "2        1\n",
              "3        2\n",
              "4        1\n",
              "        ..\n",
              "19992    2\n",
              "19993    1\n",
              "19994    2\n",
              "19995    1\n",
              "19996    1\n",
              "Name: TAG, Length: 19997, dtype: int64"
            ]
          },
          "metadata": {},
          "execution_count": 69
        }
      ]
    },
    {
      "cell_type": "code",
      "source": [
        "encoder = LabelEncoder()\n",
        "df['TAG'] = encoder.fit_transform(df['TAG'])\n",
        "df['평일휴일'] = encoder.fit_transform(df['평일휴일'])\n",
        "df['요일'] = encoder.fit_transform(df['요일'])\n",
        "df['시간대'] = encoder.fit_transform(df['시간대'])\n",
        "df['성별'] = encoder.fit_transform(df['성별'])\n",
        "df['연령대'] = encoder.fit_transform(df['연령대'])"
      ],
      "metadata": {
        "id": "8FQfczEhTYdq"
      },
      "execution_count": null,
      "outputs": []
    },
    {
      "cell_type": "code",
      "source": [
        "df.head()"
      ],
      "metadata": {
        "colab": {
          "base_uri": "https://localhost:8080/",
          "height": 285
        },
        "id": "cHMRaSI6d6UM",
        "outputId": "8c34c932-3c42-4835-fb94-723652fe28fb"
      },
      "execution_count": null,
      "outputs": [
        {
          "output_type": "execute_result",
          "data": {
            "text/plain": [
              "   CRI_YM  TAG  평일휴일  요일  시간대  성별  연령대    건수합계   Unnamed: 8  Unnamed: 9  \\\n",
              "0  201905    0     0   1    1   0    0     291          NaN         NaN   \n",
              "1  202005    0     0   3    3   1    2   6,225          NaN         NaN   \n",
              "2  201905    0     1   4    5   1    1      51          NaN  1, 1, 1, 1   \n",
              "3  202105    1     1   4    3   0    2   3,564          NaN     02월 02일   \n",
              "4  202005    0     0   3    2   0    3   1,101          NaN           3   \n",
              "\n",
              "   Unnamed: 10  \n",
              "0          NaN  \n",
              "1          NaN  \n",
              "2          1.0  \n",
              "3          2.0  \n",
              "4          3.0  "
            ],
            "text/html": [
              "\n",
              "  <div id=\"df-4d5322a3-4d0d-41ff-8e65-08fc87616bc5\">\n",
              "    <div class=\"colab-df-container\">\n",
              "      <div>\n",
              "<style scoped>\n",
              "    .dataframe tbody tr th:only-of-type {\n",
              "        vertical-align: middle;\n",
              "    }\n",
              "\n",
              "    .dataframe tbody tr th {\n",
              "        vertical-align: top;\n",
              "    }\n",
              "\n",
              "    .dataframe thead th {\n",
              "        text-align: right;\n",
              "    }\n",
              "</style>\n",
              "<table border=\"1\" class=\"dataframe\">\n",
              "  <thead>\n",
              "    <tr style=\"text-align: right;\">\n",
              "      <th></th>\n",
              "      <th>CRI_YM</th>\n",
              "      <th>TAG</th>\n",
              "      <th>평일휴일</th>\n",
              "      <th>요일</th>\n",
              "      <th>시간대</th>\n",
              "      <th>성별</th>\n",
              "      <th>연령대</th>\n",
              "      <th>건수합계</th>\n",
              "      <th>Unnamed: 8</th>\n",
              "      <th>Unnamed: 9</th>\n",
              "      <th>Unnamed: 10</th>\n",
              "    </tr>\n",
              "  </thead>\n",
              "  <tbody>\n",
              "    <tr>\n",
              "      <th>0</th>\n",
              "      <td>201905</td>\n",
              "      <td>0</td>\n",
              "      <td>0</td>\n",
              "      <td>1</td>\n",
              "      <td>1</td>\n",
              "      <td>0</td>\n",
              "      <td>0</td>\n",
              "      <td>291</td>\n",
              "      <td>NaN</td>\n",
              "      <td>NaN</td>\n",
              "      <td>NaN</td>\n",
              "    </tr>\n",
              "    <tr>\n",
              "      <th>1</th>\n",
              "      <td>202005</td>\n",
              "      <td>0</td>\n",
              "      <td>0</td>\n",
              "      <td>3</td>\n",
              "      <td>3</td>\n",
              "      <td>1</td>\n",
              "      <td>2</td>\n",
              "      <td>6,225</td>\n",
              "      <td>NaN</td>\n",
              "      <td>NaN</td>\n",
              "      <td>NaN</td>\n",
              "    </tr>\n",
              "    <tr>\n",
              "      <th>2</th>\n",
              "      <td>201905</td>\n",
              "      <td>0</td>\n",
              "      <td>1</td>\n",
              "      <td>4</td>\n",
              "      <td>5</td>\n",
              "      <td>1</td>\n",
              "      <td>1</td>\n",
              "      <td>51</td>\n",
              "      <td>NaN</td>\n",
              "      <td>1, 1, 1, 1</td>\n",
              "      <td>1.0</td>\n",
              "    </tr>\n",
              "    <tr>\n",
              "      <th>3</th>\n",
              "      <td>202105</td>\n",
              "      <td>1</td>\n",
              "      <td>1</td>\n",
              "      <td>4</td>\n",
              "      <td>3</td>\n",
              "      <td>0</td>\n",
              "      <td>2</td>\n",
              "      <td>3,564</td>\n",
              "      <td>NaN</td>\n",
              "      <td>02월 02일</td>\n",
              "      <td>2.0</td>\n",
              "    </tr>\n",
              "    <tr>\n",
              "      <th>4</th>\n",
              "      <td>202005</td>\n",
              "      <td>0</td>\n",
              "      <td>0</td>\n",
              "      <td>3</td>\n",
              "      <td>2</td>\n",
              "      <td>0</td>\n",
              "      <td>3</td>\n",
              "      <td>1,101</td>\n",
              "      <td>NaN</td>\n",
              "      <td>3</td>\n",
              "      <td>3.0</td>\n",
              "    </tr>\n",
              "  </tbody>\n",
              "</table>\n",
              "</div>\n",
              "      <button class=\"colab-df-convert\" onclick=\"convertToInteractive('df-4d5322a3-4d0d-41ff-8e65-08fc87616bc5')\"\n",
              "              title=\"Convert this dataframe to an interactive table.\"\n",
              "              style=\"display:none;\">\n",
              "        \n",
              "  <svg xmlns=\"http://www.w3.org/2000/svg\" height=\"24px\"viewBox=\"0 0 24 24\"\n",
              "       width=\"24px\">\n",
              "    <path d=\"M0 0h24v24H0V0z\" fill=\"none\"/>\n",
              "    <path d=\"M18.56 5.44l.94 2.06.94-2.06 2.06-.94-2.06-.94-.94-2.06-.94 2.06-2.06.94zm-11 1L8.5 8.5l.94-2.06 2.06-.94-2.06-.94L8.5 2.5l-.94 2.06-2.06.94zm10 10l.94 2.06.94-2.06 2.06-.94-2.06-.94-.94-2.06-.94 2.06-2.06.94z\"/><path d=\"M17.41 7.96l-1.37-1.37c-.4-.4-.92-.59-1.43-.59-.52 0-1.04.2-1.43.59L10.3 9.45l-7.72 7.72c-.78.78-.78 2.05 0 2.83L4 21.41c.39.39.9.59 1.41.59.51 0 1.02-.2 1.41-.59l7.78-7.78 2.81-2.81c.8-.78.8-2.07 0-2.86zM5.41 20L4 18.59l7.72-7.72 1.47 1.35L5.41 20z\"/>\n",
              "  </svg>\n",
              "      </button>\n",
              "      \n",
              "  <style>\n",
              "    .colab-df-container {\n",
              "      display:flex;\n",
              "      flex-wrap:wrap;\n",
              "      gap: 12px;\n",
              "    }\n",
              "\n",
              "    .colab-df-convert {\n",
              "      background-color: #E8F0FE;\n",
              "      border: none;\n",
              "      border-radius: 50%;\n",
              "      cursor: pointer;\n",
              "      display: none;\n",
              "      fill: #1967D2;\n",
              "      height: 32px;\n",
              "      padding: 0 0 0 0;\n",
              "      width: 32px;\n",
              "    }\n",
              "\n",
              "    .colab-df-convert:hover {\n",
              "      background-color: #E2EBFA;\n",
              "      box-shadow: 0px 1px 2px rgba(60, 64, 67, 0.3), 0px 1px 3px 1px rgba(60, 64, 67, 0.15);\n",
              "      fill: #174EA6;\n",
              "    }\n",
              "\n",
              "    [theme=dark] .colab-df-convert {\n",
              "      background-color: #3B4455;\n",
              "      fill: #D2E3FC;\n",
              "    }\n",
              "\n",
              "    [theme=dark] .colab-df-convert:hover {\n",
              "      background-color: #434B5C;\n",
              "      box-shadow: 0px 1px 3px 1px rgba(0, 0, 0, 0.15);\n",
              "      filter: drop-shadow(0px 1px 2px rgba(0, 0, 0, 0.3));\n",
              "      fill: #FFFFFF;\n",
              "    }\n",
              "  </style>\n",
              "\n",
              "      <script>\n",
              "        const buttonEl =\n",
              "          document.querySelector('#df-4d5322a3-4d0d-41ff-8e65-08fc87616bc5 button.colab-df-convert');\n",
              "        buttonEl.style.display =\n",
              "          google.colab.kernel.accessAllowed ? 'block' : 'none';\n",
              "\n",
              "        async function convertToInteractive(key) {\n",
              "          const element = document.querySelector('#df-4d5322a3-4d0d-41ff-8e65-08fc87616bc5');\n",
              "          const dataTable =\n",
              "            await google.colab.kernel.invokeFunction('convertToInteractive',\n",
              "                                                     [key], {});\n",
              "          if (!dataTable) return;\n",
              "\n",
              "          const docLinkHtml = 'Like what you see? Visit the ' +\n",
              "            '<a target=\"_blank\" href=https://colab.research.google.com/notebooks/data_table.ipynb>data table notebook</a>'\n",
              "            + ' to learn more about interactive tables.';\n",
              "          element.innerHTML = '';\n",
              "          dataTable['output_type'] = 'display_data';\n",
              "          await google.colab.output.renderOutput(dataTable, element);\n",
              "          const docLink = document.createElement('div');\n",
              "          docLink.innerHTML = docLinkHtml;\n",
              "          element.appendChild(docLink);\n",
              "        }\n",
              "      </script>\n",
              "    </div>\n",
              "  </div>\n",
              "  "
            ]
          },
          "metadata": {},
          "execution_count": 71
        }
      ]
    },
    {
      "cell_type": "code",
      "source": [
        "df.columns"
      ],
      "metadata": {
        "colab": {
          "base_uri": "https://localhost:8080/"
        },
        "id": "FDxkvW4oZ2sP",
        "outputId": "5e858996-7fa1-4df5-def9-6c98348a2a93"
      },
      "execution_count": null,
      "outputs": [
        {
          "output_type": "execute_result",
          "data": {
            "text/plain": [
              "Index(['CRI_YM', 'TAG', '평일휴일', '요일', '시간대', '성별', '연령대', ' 건수합계 ',\n",
              "       'Unnamed: 8', 'Unnamed: 9', 'Unnamed: 10'],\n",
              "      dtype='object')"
            ]
          },
          "metadata": {},
          "execution_count": 72
        }
      ]
    },
    {
      "cell_type": "code",
      "source": [
        "X_train, X_test, y_train, y_test = train_test_split(\n",
        "    df[['평일휴일', '요일', '시간대', '성별', '연령대',' 건수합계 ']],\n",
        "    df['TAG'],\n",
        "    test_size=0.2,\n",
        "    random_state=42\n",
        "\n",
        ")"
      ],
      "metadata": {
        "id": "xcFN_qghbds7"
      },
      "execution_count": null,
      "outputs": []
    },
    {
      "cell_type": "code",
      "source": [
        "X_train.shape, X_test.shape"
      ],
      "metadata": {
        "colab": {
          "base_uri": "https://localhost:8080/"
        },
        "id": "0fNFRLuYb3JT",
        "outputId": "43ec6f2b-c113-4c54-de77-ca20f142d7ed"
      },
      "execution_count": null,
      "outputs": [
        {
          "output_type": "execute_result",
          "data": {
            "text/plain": [
              "((15997, 6), (4000, 6))"
            ]
          },
          "metadata": {},
          "execution_count": 74
        }
      ]
    },
    {
      "cell_type": "code",
      "source": [
        "y_train.shape, y_test.shape"
      ],
      "metadata": {
        "colab": {
          "base_uri": "https://localhost:8080/"
        },
        "id": "LPQXyM8ib4s_",
        "outputId": "cbb28525-e2e0-4d09-ba6e-f3cd3a09bd05"
      },
      "execution_count": null,
      "outputs": [
        {
          "output_type": "execute_result",
          "data": {
            "text/plain": [
              "((15997,), (4000,))"
            ]
          },
          "metadata": {},
          "execution_count": 75
        }
      ]
    },
    {
      "cell_type": "code",
      "source": [
        "y_train[:10]"
      ],
      "metadata": {
        "colab": {
          "base_uri": "https://localhost:8080/"
        },
        "id": "4hxE4lmce-NK",
        "outputId": "258ad6e6-f2e8-4b25-b9ea-d4e13651abad"
      },
      "execution_count": null,
      "outputs": [
        {
          "output_type": "execute_result",
          "data": {
            "text/plain": [
              "5748     1\n",
              "1688     1\n",
              "8174     2\n",
              "10194    0\n",
              "4667     1\n",
              "5198     0\n",
              "196      0\n",
              "518      3\n",
              "19140    0\n",
              "17652    1\n",
              "Name: TAG, dtype: int64"
            ]
          },
          "metadata": {},
          "execution_count": 76
        }
      ]
    },
    {
      "cell_type": "code",
      "source": [
        "pd.Series(''.join(' 12,345 '.strip().split(','))).astype('int64')"
      ],
      "metadata": {
        "colab": {
          "base_uri": "https://localhost:8080/"
        },
        "id": "NIvb1Qe0mNLb",
        "outputId": "80c3520e-661f-4117-919a-8fb658c4de9c"
      },
      "execution_count": null,
      "outputs": [
        {
          "output_type": "execute_result",
          "data": {
            "text/plain": [
              "0    12345\n",
              "dtype: int64"
            ]
          },
          "metadata": {},
          "execution_count": 77
        }
      ]
    },
    {
      "cell_type": "code",
      "source": [
        "def minus_comma(x):\n",
        "  return pd.Series(''.join(x.strip().split(','))).astype('int64')"
      ],
      "metadata": {
        "id": "z1sxO0ZHmGwe"
      },
      "execution_count": null,
      "outputs": []
    },
    {
      "cell_type": "code",
      "source": [
        "df[' 건수합계 '] = df[' 건수합계 '].apply(minus_comma)\n",
        "df[' 건수합계 '][:1]"
      ],
      "metadata": {
        "colab": {
          "base_uri": "https://localhost:8080/"
        },
        "id": "Hxe05Gtgl15B",
        "outputId": "5700de38-7ac9-47d5-d427-594d91581357"
      },
      "execution_count": null,
      "outputs": [
        {
          "output_type": "execute_result",
          "data": {
            "text/plain": [
              "0    291\n",
              "Name:  건수합계 , dtype: int64"
            ]
          },
          "metadata": {},
          "execution_count": 79
        }
      ]
    },
    {
      "cell_type": "code",
      "source": [
        "dt = DecisionTreeClassifier(\n",
        "    criterion='gini',\n",
        "    max_depth = 3,\n",
        "    random_state = 100\n",
        ")\n",
        "dt.fit(X_train, y_train)"
      ],
      "metadata": {
        "colab": {
          "base_uri": "https://localhost:8080/"
        },
        "id": "Mh4ydBnOcJbB",
        "outputId": "63ef6c2b-0086-4a7d-9c15-4c3cae25b9c9"
      },
      "execution_count": null,
      "outputs": [
        {
          "output_type": "execute_result",
          "data": {
            "text/plain": [
              "DecisionTreeClassifier(max_depth=3, random_state=100)"
            ]
          },
          "metadata": {},
          "execution_count": 82
        }
      ]
    },
    {
      "cell_type": "code",
      "source": [
        "dt_predt = dt.predict(X_test)"
      ],
      "metadata": {
        "id": "hEnPKpttcJke"
      },
      "execution_count": null,
      "outputs": []
    },
    {
      "cell_type": "code",
      "source": [
        "dt_acc = accuracy_score(y_test, dt_predt)\n",
        "dt_acc"
      ],
      "metadata": {
        "colab": {
          "base_uri": "https://localhost:8080/"
        },
        "id": "ZharswW2jdjV",
        "outputId": "d8007a9c-d4dd-4362-86e3-457ef0159b87"
      },
      "execution_count": null,
      "outputs": [
        {
          "output_type": "execute_result",
          "data": {
            "text/plain": [
              "0.61075"
            ]
          },
          "metadata": {},
          "execution_count": 84
        }
      ]
    },
    {
      "cell_type": "code",
      "source": [
        "## 소프트보팅이 하드보팅보다 정확도가 높아서 많이 쓰임."
      ],
      "metadata": {
        "id": "wFxI8Nu7nKTN"
      },
      "execution_count": null,
      "outputs": []
    },
    {
      "cell_type": "code",
      "source": [
        "## bagging\n",
        "rf = RandomForestClassifier(\n",
        "    n_estimators=100,\n",
        "    max_depth=5,\n",
        "    random_state=10\n",
        ")\n",
        "rf.fit(X_train, y_train)"
      ],
      "metadata": {
        "colab": {
          "base_uri": "https://localhost:8080/"
        },
        "id": "xtxdHiM4nlXk",
        "outputId": "1bc86ea7-04af-46cc-f830-7cd31ad7fdbf"
      },
      "execution_count": null,
      "outputs": [
        {
          "output_type": "execute_result",
          "data": {
            "text/plain": [
              "RandomForestClassifier(max_depth=5, random_state=10)"
            ]
          },
          "metadata": {},
          "execution_count": 85
        }
      ]
    },
    {
      "cell_type": "code",
      "source": [
        "rf_predt = rf.predict(X_test)\n",
        "rf_acc = accuracy_score(y_test, rf_predt)\n",
        "rf_acc"
      ],
      "metadata": {
        "colab": {
          "base_uri": "https://localhost:8080/"
        },
        "id": "fXmZpvJtoD4O",
        "outputId": "8068fe40-2757-4cc9-b7ca-be7231909c30"
      },
      "execution_count": null,
      "outputs": [
        {
          "output_type": "execute_result",
          "data": {
            "text/plain": [
              "0.6125"
            ]
          },
          "metadata": {},
          "execution_count": 86
        }
      ]
    },
    {
      "cell_type": "code",
      "source": [
        "confusion_matrix(y_test, rf_predt)"
      ],
      "metadata": {
        "colab": {
          "base_uri": "https://localhost:8080/"
        },
        "id": "VFC0n2bQqYK4",
        "outputId": "fdede76c-5133-4b53-c688-e22ead1c722d"
      },
      "execution_count": null,
      "outputs": [
        {
          "output_type": "execute_result",
          "data": {
            "text/plain": [
              "array([[2401,    6,    0,    0],\n",
              "       [ 922,   49,    0,    0],\n",
              "       [ 324,    0,    0,    0],\n",
              "       [ 290,    8,    0,    0]])"
            ]
          },
          "metadata": {},
          "execution_count": 87
        }
      ]
    },
    {
      "cell_type": "code",
      "source": [
        "from sklearn.ensemble import GradientBoostingClassifier\n",
        "from sklearn.ensemble import HistGradientBoostingClassifier\n",
        "from xgboost import XGBClassifier\n",
        "from lightgbm import LGBMClassifier"
      ],
      "metadata": {
        "id": "ycPd3EKQq_gl"
      },
      "execution_count": null,
      "outputs": []
    },
    {
      "cell_type": "code",
      "source": [
        "gbc = GradientBoostingClassifier(\n",
        "      random_state=42\n",
        ").fit(X_train, y_train)"
      ],
      "metadata": {
        "id": "DsI5TmVKxvui"
      },
      "execution_count": null,
      "outputs": []
    },
    {
      "cell_type": "code",
      "source": [
        "xgb = XGBClassifier(\n",
        "    random_state=42,\n",
        "    tree_method='hist'\n",
        ").fit(X_train, y_train)"
      ],
      "metadata": {
        "id": "MieJzyMfx9iK"
      },
      "execution_count": null,
      "outputs": []
    },
    {
      "cell_type": "code",
      "source": [
        "gbc_predicted = gbc.predict(X_test)\n",
        "accuracy_score(y_test, gbc_predicted)"
      ],
      "metadata": {
        "colab": {
          "base_uri": "https://localhost:8080/"
        },
        "id": "YDYxidBbx9lc",
        "outputId": "76e659a8-08bf-498b-ec15-4ed35db8f783"
      },
      "execution_count": null,
      "outputs": [
        {
          "output_type": "execute_result",
          "data": {
            "text/plain": [
              "0.6185"
            ]
          },
          "metadata": {},
          "execution_count": 91
        }
      ]
    },
    {
      "cell_type": "code",
      "source": [
        "xgb_predicted = xgb.predict(X_test)\n",
        "accuracy_score(y_test, xgb_predicted)"
      ],
      "metadata": {
        "colab": {
          "base_uri": "https://localhost:8080/"
        },
        "id": "9wxLjZtJzF6c",
        "outputId": "7c8120ac-d52a-4392-a3b0-4928442d980d"
      },
      "execution_count": null,
      "outputs": [
        {
          "output_type": "execute_result",
          "data": {
            "text/plain": [
              "0.6215"
            ]
          },
          "metadata": {},
          "execution_count": 92
        }
      ]
    },
    {
      "cell_type": "code",
      "source": [
        "x = np.arange(2)\n",
        "plt.bar(x, height= [\n",
        "                    accuracy_score(y_test, gbc_predicted),\n",
        "                    accuracy_score(y_test, xgb_predicted)\n",
        "            ])\n",
        "plt.xticks(x, ['gbc', 'xgb']);"
      ],
      "metadata": {
        "colab": {
          "base_uri": "https://localhost:8080/",
          "height": 265
        },
        "id": "nxJmeyywzXt3",
        "outputId": "625f7c1e-c95c-4e38-f85d-893a47ced5b5"
      },
      "execution_count": null,
      "outputs": [
        {
          "output_type": "display_data",
          "data": {
            "text/plain": [
              "<Figure size 432x288 with 1 Axes>"
            ],
            "image/png": "[encoded data removed]"
          },
          "metadata": {
            "needs_background": "light"
          }
        }
      ]
    },
    {
      "cell_type": "code",
      "source": [
        "confusion_matrix(y_test, xgb_predicted)"
      ],
      "metadata": {
        "colab": {
          "base_uri": "https://localhost:8080/"
        },
        "id": "-2MOYBjfzynF",
        "outputId": "9bc40959-31ef-4e4d-ddf3-f1b85ca2029d"
      },
      "execution_count": null,
      "outputs": [
        {
          "output_type": "execute_result",
          "data": {
            "text/plain": [
              "array([[2361,   41,    0,    5],\n",
              "       [ 844,  125,    0,    2],\n",
              "       [ 324,    0,    0,    0],\n",
              "       [ 255,   43,    0,    0]])"
            ]
          },
          "metadata": {},
          "execution_count": 94
        }
      ]
    },
    {
      "cell_type": "code",
      "source": [
        "#catBoost는 target 라벨링 해주어야 함.\n",
        "cb = cat.Pool(data = X_train, label= y_train)\n",
        "cp = {\n",
        "    'max_depth' : 10,\n",
        "    'learning_rate' : 0.01,\n",
        "    'n_estimators' : 100,\n",
        "    'eval_metric' : 'Accuracy',\n",
        "    'loss_function' : 'MultiClass'\n",
        "}\n",
        "cat_model = cat.train(pool=cb, params=cp)"
      ],
      "metadata": {
        "id": "KSud-QE-0Rg-",
        "colab": {
          "base_uri": "https://localhost:8080/"
        },
        "outputId": "2a902311-7717-4cf9-fbd6-07a3ed881906"
      },
      "execution_count": null,
      "outputs": [
        {
          "output_type": "stream",
          "name": "stdout",
          "text": [
            "0:\tlearn: 0.6194286\ttotal: 43.3ms\tremaining: 4.29s\n",
            "1:\tlearn: 0.6164281\ttotal: 53.6ms\tremaining: 2.62s\n",
            "2:\tlearn: 0.6198037\ttotal: 68.2ms\tremaining: 2.21s\n",
            "3:\tlearn: 0.6221792\ttotal: 100ms\tremaining: 2.4s\n",
            "4:\tlearn: 0.6225542\ttotal: 139ms\tremaining: 2.63s\n",
            "5:\tlearn: 0.6229918\ttotal: 173ms\tremaining: 2.7s\n",
            "6:\tlearn: 0.6219916\ttotal: 183ms\tremaining: 2.43s\n",
            "7:\tlearn: 0.6218041\ttotal: 212ms\tremaining: 2.44s\n",
            "8:\tlearn: 0.6214915\ttotal: 249ms\tremaining: 2.52s\n",
            "9:\tlearn: 0.6218041\ttotal: 282ms\tremaining: 2.54s\n",
            "10:\tlearn: 0.6213665\ttotal: 289ms\tremaining: 2.34s\n",
            "11:\tlearn: 0.6213665\ttotal: 320ms\tremaining: 2.34s\n",
            "12:\tlearn: 0.6219291\ttotal: 353ms\tremaining: 2.36s\n",
            "13:\tlearn: 0.6220541\ttotal: 382ms\tremaining: 2.35s\n",
            "14:\tlearn: 0.6219291\ttotal: 415ms\tremaining: 2.35s\n",
            "15:\tlearn: 0.6216166\ttotal: 426ms\tremaining: 2.24s\n",
            "16:\tlearn: 0.6213665\ttotal: 461ms\tremaining: 2.25s\n",
            "17:\tlearn: 0.6214290\ttotal: 496ms\tremaining: 2.26s\n",
            "18:\tlearn: 0.6216166\ttotal: 529ms\tremaining: 2.26s\n",
            "19:\tlearn: 0.6217416\ttotal: 560ms\tremaining: 2.24s\n",
            "20:\tlearn: 0.6216166\ttotal: 569ms\tremaining: 2.14s\n",
            "21:\tlearn: 0.6213040\ttotal: 575ms\tremaining: 2.04s\n",
            "22:\tlearn: 0.6214915\ttotal: 606ms\tremaining: 2.03s\n",
            "23:\tlearn: 0.6217416\ttotal: 638ms\tremaining: 2.02s\n",
            "24:\tlearn: 0.6218041\ttotal: 672ms\tremaining: 2.02s\n",
            "25:\tlearn: 0.6222417\ttotal: 684ms\tremaining: 1.95s\n",
            "26:\tlearn: 0.6223667\ttotal: 724ms\tremaining: 1.96s\n",
            "27:\tlearn: 0.6220541\ttotal: 735ms\tremaining: 1.89s\n",
            "28:\tlearn: 0.6226167\ttotal: 750ms\tremaining: 1.84s\n",
            "29:\tlearn: 0.6226167\ttotal: 770ms\tremaining: 1.8s\n",
            "30:\tlearn: 0.6228043\ttotal: 804ms\tremaining: 1.79s\n",
            "31:\tlearn: 0.6230543\ttotal: 836ms\tremaining: 1.77s\n",
            "32:\tlearn: 0.6232419\ttotal: 867ms\tremaining: 1.76s\n",
            "33:\tlearn: 0.6234294\ttotal: 885ms\tremaining: 1.72s\n",
            "34:\tlearn: 0.6235544\ttotal: 917ms\tremaining: 1.7s\n",
            "35:\tlearn: 0.6233669\ttotal: 925ms\tremaining: 1.65s\n",
            "36:\tlearn: 0.6234294\ttotal: 957ms\tremaining: 1.63s\n",
            "37:\tlearn: 0.6229918\ttotal: 967ms\tremaining: 1.58s\n",
            "38:\tlearn: 0.6236794\ttotal: 1s\tremaining: 1.57s\n",
            "39:\tlearn: 0.6239295\ttotal: 1.04s\tremaining: 1.57s\n",
            "40:\tlearn: 0.6243046\ttotal: 1.06s\tremaining: 1.52s\n",
            "41:\tlearn: 0.6243046\ttotal: 1.1s\tremaining: 1.51s\n",
            "42:\tlearn: 0.6243671\ttotal: 1.1s\tremaining: 1.46s\n",
            "43:\tlearn: 0.6243671\ttotal: 1.11s\tremaining: 1.42s\n",
            "44:\tlearn: 0.6243046\ttotal: 1.15s\tremaining: 1.4s\n",
            "45:\tlearn: 0.6241795\ttotal: 1.16s\tremaining: 1.36s\n",
            "46:\tlearn: 0.6242420\ttotal: 1.19s\tremaining: 1.34s\n",
            "47:\tlearn: 0.6244296\ttotal: 1.19s\tremaining: 1.29s\n",
            "48:\tlearn: 0.6248047\ttotal: 1.23s\tremaining: 1.28s\n",
            "49:\tlearn: 0.6246796\ttotal: 1.25s\tremaining: 1.25s\n",
            "50:\tlearn: 0.6250547\ttotal: 1.28s\tremaining: 1.23s\n",
            "51:\tlearn: 0.6257423\ttotal: 1.31s\tremaining: 1.21s\n",
            "52:\tlearn: 0.6258674\ttotal: 1.34s\tremaining: 1.19s\n",
            "53:\tlearn: 0.6260549\ttotal: 1.37s\tremaining: 1.17s\n",
            "54:\tlearn: 0.6258048\ttotal: 1.38s\tremaining: 1.13s\n",
            "55:\tlearn: 0.6259299\ttotal: 1.4s\tremaining: 1.1s\n",
            "56:\tlearn: 0.6258674\ttotal: 1.42s\tremaining: 1.07s\n",
            "57:\tlearn: 0.6258674\ttotal: 1.44s\tremaining: 1.04s\n",
            "58:\tlearn: 0.6259299\ttotal: 1.45s\tremaining: 1.01s\n",
            "59:\tlearn: 0.6263049\ttotal: 1.48s\tremaining: 986ms\n",
            "60:\tlearn: 0.6263674\ttotal: 1.51s\tremaining: 964ms\n",
            "61:\tlearn: 0.6259924\ttotal: 1.54s\tremaining: 944ms\n",
            "62:\tlearn: 0.6259924\ttotal: 1.57s\tremaining: 921ms\n",
            "63:\tlearn: 0.6261174\ttotal: 1.6s\tremaining: 903ms\n",
            "64:\tlearn: 0.6264300\ttotal: 1.63s\tremaining: 879ms\n",
            "65:\tlearn: 0.6264300\ttotal: 1.66s\tremaining: 856ms\n",
            "66:\tlearn: 0.6263674\ttotal: 1.69s\tremaining: 831ms\n",
            "67:\tlearn: 0.6263049\ttotal: 1.69s\tremaining: 797ms\n",
            "68:\tlearn: 0.6263674\ttotal: 1.71s\tremaining: 769ms\n",
            "69:\tlearn: 0.6264925\ttotal: 1.74s\tremaining: 746ms\n",
            "70:\tlearn: 0.6263049\ttotal: 1.77s\tremaining: 723ms\n",
            "71:\tlearn: 0.6262424\ttotal: 1.8s\tremaining: 700ms\n",
            "72:\tlearn: 0.6260549\ttotal: 1.83s\tremaining: 676ms\n",
            "73:\tlearn: 0.6261174\ttotal: 1.85s\tremaining: 652ms\n",
            "74:\tlearn: 0.6260549\ttotal: 1.88s\tremaining: 628ms\n",
            "75:\tlearn: 0.6262424\ttotal: 1.91s\tremaining: 603ms\n",
            "76:\tlearn: 0.6260549\ttotal: 1.92s\tremaining: 573ms\n",
            "77:\tlearn: 0.6261799\ttotal: 1.95s\tremaining: 550ms\n",
            "78:\tlearn: 0.6263674\ttotal: 1.98s\tremaining: 526ms\n",
            "79:\tlearn: 0.6263049\ttotal: 1.99s\tremaining: 498ms\n",
            "80:\tlearn: 0.6263674\ttotal: 2.03s\tremaining: 476ms\n",
            "81:\tlearn: 0.6260549\ttotal: 2.04s\tremaining: 449ms\n",
            "82:\tlearn: 0.6262424\ttotal: 2.07s\tremaining: 424ms\n",
            "83:\tlearn: 0.6261799\ttotal: 2.11s\tremaining: 402ms\n",
            "84:\tlearn: 0.6261799\ttotal: 2.12s\tremaining: 374ms\n",
            "85:\tlearn: 0.6263674\ttotal: 2.15s\tremaining: 349ms\n",
            "86:\tlearn: 0.6266175\ttotal: 2.16s\tremaining: 323ms\n",
            "87:\tlearn: 0.6266800\ttotal: 2.19s\tremaining: 299ms\n",
            "88:\tlearn: 0.6266175\ttotal: 2.22s\tremaining: 274ms\n",
            "89:\tlearn: 0.6264925\ttotal: 2.23s\tremaining: 248ms\n",
            "90:\tlearn: 0.6266800\ttotal: 2.25s\tremaining: 223ms\n",
            "91:\tlearn: 0.6266800\ttotal: 2.28s\tremaining: 198ms\n",
            "92:\tlearn: 0.6267425\ttotal: 2.31s\tremaining: 174ms\n",
            "93:\tlearn: 0.6268050\ttotal: 2.34s\tremaining: 149ms\n",
            "94:\tlearn: 0.6266175\ttotal: 2.37s\tremaining: 125ms\n",
            "95:\tlearn: 0.6265550\ttotal: 2.4s\tremaining: 100ms\n",
            "96:\tlearn: 0.6266175\ttotal: 2.42s\tremaining: 75ms\n",
            "97:\tlearn: 0.6265550\ttotal: 2.43s\tremaining: 49.6ms\n",
            "98:\tlearn: 0.6267425\ttotal: 2.46s\tremaining: 24.9ms\n",
            "99:\tlearn: 0.6266800\ttotal: 2.49s\tremaining: 0us\n"
          ]
        }
      ]
    },
    {
      "cell_type": "code",
      "source": [
        "cat_predt = np.argmax(cat_model.predict(X_test), axis=1)\n",
        "accuracy_score(y_test, cat_predt)"
      ],
      "metadata": {
        "colab": {
          "base_uri": "https://localhost:8080/"
        },
        "id": "kWpAAgFMSoWG",
        "outputId": "1201042b-7cc0-4882-aad0-cbc6bc8196f3"
      },
      "execution_count": null,
      "outputs": [
        {
          "output_type": "execute_result",
          "data": {
            "text/plain": [
              "0.61375"
            ]
          },
          "metadata": {},
          "execution_count": 96
        }
      ]
    },
    {
      "cell_type": "code",
      "source": [
        "df.to_csv('shopping-label-2.csv', encoding='utf-8')"
      ],
      "metadata": {
        "id": "H7zZq-IPU7Vo"
      },
      "execution_count": null,
      "outputs": []
    },
    {
      "cell_type": "code",
      "source": [
        "x = np.arange(5)\n",
        "plt.bar(x, height= [\n",
        "                    accuracy_score(y_test, dt_predt),\n",
        "                    accuracy_score(y_test, rf_predt),\n",
        "                    accuracy_score(y_test, gbc_predicted),\n",
        "                    accuracy_score(y_test, xgb_predicted),\n",
        "                    accuracy_score(y_test, cat_predt)\n",
        "            ])\n",
        "plt.xticks(x, ['dt', 'rf', 'gbc', 'xgb', 'cat']);"
      ],
      "metadata": {
        "colab": {
          "base_uri": "https://localhost:8080/",
          "height": 265
        },
        "id": "94TjB-MrgWQu",
        "outputId": "0e9dd9f7-d4a1-4b64-c98e-30d026975ca6"
      },
      "execution_count": null,
      "outputs": [
        {
          "output_type": "display_data",
          "data": {
            "text/plain": [
              "<Figure size 432x288 with 1 Axes>"
            ],
            "image/png": "[encoded data removed]"
          },
          "metadata": {
            "needs_background": "light"
          }
        }
      ]
    },
    {
      "cell_type": "code",
      "source": [
        ""
      ],
      "metadata": {
        "id": "yLXY8TSchcbj"
      },
      "execution_count": null,
      "outputs": []
    }
  ]
}