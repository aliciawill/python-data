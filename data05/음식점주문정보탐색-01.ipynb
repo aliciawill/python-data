{
 "cells": [
  {
   "cell_type": "markdown",
   "metadata": {},
   "source": [
    "# <Step1. 탐색> : 데이터의 기초 정보 살펴보기"
   ]
  },
  {
   "cell_type": "markdown",
   "metadata": {},
   "source": [
    "### [Chipotle 데이터셋의 기본 정보]"
   ]
  },
  {
   "cell_type": "code",
   "execution_count": 58,
   "metadata": {},
   "outputs": [],
   "source": [
    "# -*- coding: utf-8 -*-\n",
    "\n",
    "import pandas as pd\n",
    "\n",
    "# read_csv 함수로 데이터를 Dataframe 형태로 불러옵니다.\n",
    "file_path = '../data/chipotle.tsv'\n",
    "chipo = pd.read_csv(file_path, sep = '\\t')"
   ]
  },
  {
   "cell_type": "code",
   "execution_count": 59,
   "metadata": {},
   "outputs": [
    {
     "name": "stdout",
     "output_type": "stream",
     "text": [
      "(4622, 5)\n",
      "------------------------------------\n",
      "<class 'pandas.core.frame.DataFrame'>\n",
      "RangeIndex: 4622 entries, 0 to 4621\n",
      "Data columns (total 5 columns):\n",
      " #   Column              Non-Null Count  Dtype \n",
      "---  ------              --------------  ----- \n",
      " 0   order_id            4622 non-null   int64 \n",
      " 1   quantity            4622 non-null   int64 \n",
      " 2   item_name           4622 non-null   object\n",
      " 3   choice_description  3376 non-null   object\n",
      " 4   item_price          4622 non-null   object\n",
      "dtypes: int64(2), object(3)\n",
      "memory usage: 180.7+ KB\n",
      "None\n"
     ]
    }
   ],
   "source": [
    "print(chipo.shape)\n",
    "print(\"------------------------------------\")\n",
    "print(chipo.info())"
   ]
  },
  {
   "cell_type": "markdown",
   "metadata": {},
   "source": [
    "-----"
   ]
  },
  {
   "cell_type": "markdown",
   "metadata": {},
   "source": [
    "### [Chipotle 데이터셋의 행과 열, 데이터]"
   ]
  },
  {
   "cell_type": "code",
   "execution_count": 60,
   "metadata": {},
   "outputs": [
    {
     "data": {
      "text/html": [
       "<div>\n",
       "<style scoped>\n",
       "    .dataframe tbody tr th:only-of-type {\n",
       "        vertical-align: middle;\n",
       "    }\n",
       "\n",
       "    .dataframe tbody tr th {\n",
       "        vertical-align: top;\n",
       "    }\n",
       "\n",
       "    .dataframe thead th {\n",
       "        text-align: right;\n",
       "    }\n",
       "</style>\n",
       "<table border=\"1\" class=\"dataframe\">\n",
       "  <thead>\n",
       "    <tr style=\"text-align: right;\">\n",
       "      <th></th>\n",
       "      <th>order_id</th>\n",
       "      <th>quantity</th>\n",
       "      <th>item_name</th>\n",
       "      <th>choice_description</th>\n",
       "      <th>item_price</th>\n",
       "    </tr>\n",
       "  </thead>\n",
       "  <tbody>\n",
       "    <tr>\n",
       "      <th>0</th>\n",
       "      <td>1</td>\n",
       "      <td>1</td>\n",
       "      <td>Chips and Fresh Tomato Salsa</td>\n",
       "      <td>NaN</td>\n",
       "      <td>$2.39</td>\n",
       "    </tr>\n",
       "    <tr>\n",
       "      <th>1</th>\n",
       "      <td>1</td>\n",
       "      <td>1</td>\n",
       "      <td>Izze</td>\n",
       "      <td>[Clementine]</td>\n",
       "      <td>$3.39</td>\n",
       "    </tr>\n",
       "    <tr>\n",
       "      <th>2</th>\n",
       "      <td>1</td>\n",
       "      <td>1</td>\n",
       "      <td>Nantucket Nectar</td>\n",
       "      <td>[Apple]</td>\n",
       "      <td>$3.39</td>\n",
       "    </tr>\n",
       "    <tr>\n",
       "      <th>3</th>\n",
       "      <td>1</td>\n",
       "      <td>1</td>\n",
       "      <td>Chips and Tomatillo-Green Chili Salsa</td>\n",
       "      <td>NaN</td>\n",
       "      <td>$2.39</td>\n",
       "    </tr>\n",
       "    <tr>\n",
       "      <th>4</th>\n",
       "      <td>2</td>\n",
       "      <td>2</td>\n",
       "      <td>Chicken Bowl</td>\n",
       "      <td>[Tomatillo-Red Chili Salsa (Hot), [Black Beans...</td>\n",
       "      <td>$16.98</td>\n",
       "    </tr>\n",
       "    <tr>\n",
       "      <th>5</th>\n",
       "      <td>3</td>\n",
       "      <td>1</td>\n",
       "      <td>Chicken Bowl</td>\n",
       "      <td>[Fresh Tomato Salsa (Mild), [Rice, Cheese, Sou...</td>\n",
       "      <td>$10.98</td>\n",
       "    </tr>\n",
       "    <tr>\n",
       "      <th>6</th>\n",
       "      <td>3</td>\n",
       "      <td>1</td>\n",
       "      <td>Side of Chips</td>\n",
       "      <td>NaN</td>\n",
       "      <td>$1.69</td>\n",
       "    </tr>\n",
       "    <tr>\n",
       "      <th>7</th>\n",
       "      <td>4</td>\n",
       "      <td>1</td>\n",
       "      <td>Steak Burrito</td>\n",
       "      <td>[Tomatillo Red Chili Salsa, [Fajita Vegetables...</td>\n",
       "      <td>$11.75</td>\n",
       "    </tr>\n",
       "    <tr>\n",
       "      <th>8</th>\n",
       "      <td>4</td>\n",
       "      <td>1</td>\n",
       "      <td>Steak Soft Tacos</td>\n",
       "      <td>[Tomatillo Green Chili Salsa, [Pinto Beans, Ch...</td>\n",
       "      <td>$9.25</td>\n",
       "    </tr>\n",
       "    <tr>\n",
       "      <th>9</th>\n",
       "      <td>5</td>\n",
       "      <td>1</td>\n",
       "      <td>Steak Burrito</td>\n",
       "      <td>[Fresh Tomato Salsa, [Rice, Black Beans, Pinto...</td>\n",
       "      <td>$9.25</td>\n",
       "    </tr>\n",
       "  </tbody>\n",
       "</table>\n",
       "</div>"
      ],
      "text/plain": [
       "   order_id  quantity                              item_name  \\\n",
       "0         1         1           Chips and Fresh Tomato Salsa   \n",
       "1         1         1                                   Izze   \n",
       "2         1         1                       Nantucket Nectar   \n",
       "3         1         1  Chips and Tomatillo-Green Chili Salsa   \n",
       "4         2         2                           Chicken Bowl   \n",
       "5         3         1                           Chicken Bowl   \n",
       "6         3         1                          Side of Chips   \n",
       "7         4         1                          Steak Burrito   \n",
       "8         4         1                       Steak Soft Tacos   \n",
       "9         5         1                          Steak Burrito   \n",
       "\n",
       "                                  choice_description item_price  \n",
       "0                                                NaN     $2.39   \n",
       "1                                       [Clementine]     $3.39   \n",
       "2                                            [Apple]     $3.39   \n",
       "3                                                NaN     $2.39   \n",
       "4  [Tomatillo-Red Chili Salsa (Hot), [Black Beans...    $16.98   \n",
       "5  [Fresh Tomato Salsa (Mild), [Rice, Cheese, Sou...    $10.98   \n",
       "6                                                NaN     $1.69   \n",
       "7  [Tomatillo Red Chili Salsa, [Fajita Vegetables...    $11.75   \n",
       "8  [Tomatillo Green Chili Salsa, [Pinto Beans, Ch...     $9.25   \n",
       "9  [Fresh Tomato Salsa, [Rice, Black Beans, Pinto...     $9.25   "
      ]
     },
     "execution_count": 60,
     "metadata": {},
     "output_type": "execute_result"
    }
   ],
   "source": [
    "# chipo 라는 Dataframe에서 순서대로 10개의 row 데이터를 보여줍니다.\n",
    "chipo.head(10)"
   ]
  },
  {
   "cell_type": "code",
   "execution_count": 61,
   "metadata": {},
   "outputs": [
    {
     "name": "stdout",
     "output_type": "stream",
     "text": [
      "Index(['order_id', 'quantity', 'item_name', 'choice_description',\n",
      "       'item_price'],\n",
      "      dtype='object')\n",
      "------------------------------------\n",
      "RangeIndex(start=0, stop=4622, step=1)\n"
     ]
    }
   ],
   "source": [
    "print(chipo.columns)\n",
    "print(\"------------------------------------\")\n",
    "print(chipo.index)"
   ]
  },
  {
   "cell_type": "markdown",
   "metadata": {},
   "source": [
    "-----"
   ]
  },
  {
   "cell_type": "markdown",
   "metadata": {},
   "source": [
    "##### 이제 데이터의 수치적 특징 탐색을 위한 간단한 질문들을 정의합니다.\n",
    "\n",
    "- quantity와 item_price의 요약 통계\n",
    "- order_id와 item_name의 개수"
   ]
  },
  {
   "cell_type": "markdown",
   "metadata": {},
   "source": [
    "### [Chipotle 데이터셋의 수치적 특징 파악]"
   ]
  },
  {
   "cell_type": "markdown",
   "metadata": {},
   "source": [
    "##### describe 함수로 요약 통계량 출력하기"
   ]
  },
  {
   "cell_type": "code",
   "execution_count": 62,
   "metadata": {},
   "outputs": [],
   "source": [
    "chipo['order_id'] = chipo['order_id'].astype(str) # order_id는 숫자의 의미를 가지지 않기 때문에 str으로 변환합니다."
   ]
  },
  {
   "cell_type": "code",
   "execution_count": 63,
   "metadata": {},
   "outputs": [
    {
     "name": "stdout",
     "output_type": "stream",
     "text": [
      "          quantity\n",
      "count  4622.000000\n",
      "mean      1.075725\n",
      "std       0.410186\n",
      "min       1.000000\n",
      "25%       1.000000\n",
      "50%       1.000000\n",
      "75%       1.000000\n",
      "max      15.000000\n"
     ]
    }
   ],
   "source": [
    "print(chipo.describe()) # chipo dataframe에서 수치형 피처들의 요약 통계량을 확인합니다."
   ]
  },
  {
   "cell_type": "markdown",
   "metadata": {},
   "source": [
    "-----"
   ]
  },
  {
   "cell_type": "markdown",
   "metadata": {},
   "source": [
    "##### unique 함수로 범주형 피처의 개수 출력하기"
   ]
  },
  {
   "cell_type": "code",
   "execution_count": 64,
   "metadata": {},
   "outputs": [
    {
     "name": "stdout",
     "output_type": "stream",
     "text": [
      "1834\n",
      "50\n"
     ]
    }
   ],
   "source": [
    "print(len(chipo['order_id'].unique())) # order_id의 개수를 출력합니다.\n",
    "print(len(chipo['item_name'].unique())) # item_name의 개수를 출력합니다."
   ]
  },
  {
   "cell_type": "markdown",
   "metadata": {},
   "source": [
    "-----"
   ]
  },
  {
   "cell_type": "markdown",
   "metadata": {},
   "source": [
    "# <Step2. 인사이트의 발견> : 탐색과 시각화"
   ]
  },
  {
   "cell_type": "markdown",
   "metadata": {},
   "source": [
    "-----\n",
    "##### 다음으로, 인사이트를 발견할 수 있을만한 개념적 질문들을 정의합니다.\n",
    "\n",
    "- 가장 많이 주문한 item은 무엇인지\n",
    "- item당 주문의 총량은 얼마인지"
   ]
  },
  {
   "cell_type": "code",
   "execution_count": 65,
   "metadata": {},
   "outputs": [],
   "source": [
    "import numpy as np\n",
    "import matplotlib.pyplot as plt\n",
    "%matplotlib inline\n",
    "\n",
    "from matplotlib import font_manager, rc\n",
    "plt.rcParams['axes.unicode_minus'] = False\n",
    "\n",
    "f_path = \"/Users/administrator/Library/Fonts/AppleGothic.ttf\"\n",
    "#f_path = \"C:/Windows/Fonts/malgun.ttf\"\n",
    "font_name = font_manager.FontProperties(fname=f_path).get_name()\n",
    "rc('font', family=font_name)"
   ]
  },
  {
   "cell_type": "markdown",
   "metadata": {},
   "source": [
    "### [가장 많이 주문한 item]"
   ]
  },
  {
   "cell_type": "code",
   "execution_count": 66,
   "metadata": {},
   "outputs": [
    {
     "data": {
      "text/plain": [
       "Chicken Bowl                    726\n",
       "Chicken Burrito                 553\n",
       "Chips and Guacamole             479\n",
       "Steak Burrito                   368\n",
       "Canned Soft Drink               301\n",
       "Chips                           211\n",
       "Steak Bowl                      211\n",
       "Bottled Water                   162\n",
       "Chicken Soft Tacos              115\n",
       "Chips and Fresh Tomato Salsa    110\n",
       "Name: item_name, dtype: int64"
      ]
     },
     "execution_count": 66,
     "metadata": {},
     "output_type": "execute_result"
    }
   ],
   "source": [
    "item_count = chipo['item_name'].value_counts()[:10] #item_name을 index로 가지는 Series임.\n",
    "item_count"
   ]
  },
  {
   "cell_type": "code",
   "execution_count": 67,
   "metadata": {},
   "outputs": [
    {
     "data": {
      "text/plain": [
       "pandas.core.series.Series"
      ]
     },
     "execution_count": 67,
     "metadata": {},
     "output_type": "execute_result"
    }
   ],
   "source": [
    "type(item_count)"
   ]
  },
  {
   "cell_type": "code",
   "execution_count": 68,
   "metadata": {},
   "outputs": [
    {
     "data": {
      "text/plain": [
       "Index(['Chicken Bowl', 'Chicken Burrito', 'Chips and Guacamole',\n",
       "       'Steak Burrito', 'Canned Soft Drink', 'Chips', 'Steak Bowl',\n",
       "       'Bottled Water', 'Chicken Soft Tacos', 'Chips and Fresh Tomato Salsa'],\n",
       "      dtype='object')"
      ]
     },
     "execution_count": 68,
     "metadata": {},
     "output_type": "execute_result"
    }
   ],
   "source": [
    "item_count.index"
   ]
  },
  {
   "cell_type": "code",
   "execution_count": 69,
   "metadata": {},
   "outputs": [
    {
     "data": {
      "text/plain": [
       "array([726, 553, 479, 368, 301, 211, 211, 162, 115, 110])"
      ]
     },
     "execution_count": 69,
     "metadata": {},
     "output_type": "execute_result"
    }
   ],
   "source": [
    "item_count.values"
   ]
  },
  {
   "cell_type": "code",
   "execution_count": 70,
   "metadata": {
    "scrolled": true
   },
   "outputs": [
    {
     "data": {
      "text/plain": [
       "<BarContainer object of 10 artists>"
      ]
     },
     "execution_count": 70,
     "metadata": {},
     "output_type": "execute_result"
    },
    {
     "data": {
      "image/png": "[encoded data removed]",
      "text/plain": [
       "<Figure size 1296x576 with 1 Axes>"
      ]
     },
     "metadata": {
      "needs_background": "light"
     },
     "output_type": "display_data"
    }
   ],
   "source": [
    "plt.figure(figsize=(18,8))\n",
    "plt.bar(item_count.index, item_count.values)"
   ]
  },
  {
   "cell_type": "code",
   "execution_count": 71,
   "metadata": {},
   "outputs": [
    {
     "name": "stdout",
     "output_type": "stream",
     "text": [
      "TOP 1 : Chicken Bowl 726\n",
      "TOP 2 : Chicken Burrito 553\n",
      "TOP 3 : Chips and Guacamole 479\n",
      "TOP 4 : Steak Burrito 368\n",
      "TOP 5 : Canned Soft Drink 301\n",
      "TOP 6 : Chips 211\n",
      "TOP 7 : Steak Bowl 211\n",
      "TOP 8 : Bottled Water 162\n",
      "TOP 9 : Chicken Soft Tacos 115\n",
      "TOP 10 : Chips and Fresh Tomato Salsa 110\n"
     ]
    }
   ],
   "source": [
    "for x in range(len(item_count)):\n",
    "    print(\"TOP\", x+1 , \":\", item_count.index[x], item_count.values[x])"
   ]
  },
  {
   "cell_type": "code",
   "execution_count": 72,
   "metadata": {},
   "outputs": [],
   "source": [
    "# 가장 많이 주문한 item : top 10을 출력합니다.\n",
    "# item_count = chipo['item_name'].value_counts()[:10]\n",
    "# for idx, (val, cnt) in enumerate(item_count.iteritems(), 1):\n",
    "#     print(\"Top\", idx, \":\", val, cnt)"
   ]
  },
  {
   "cell_type": "code",
   "execution_count": 73,
   "metadata": {},
   "outputs": [
    {
     "data": {
      "text/plain": [
       "'Chicken Bowl'"
      ]
     },
     "execution_count": 73,
     "metadata": {},
     "output_type": "execute_result"
    }
   ],
   "source": [
    "#1등은?\n",
    "chipo['item_name'].value_counts().index.tolist()[0]"
   ]
  },
  {
   "cell_type": "markdown",
   "metadata": {},
   "source": [
    "-----"
   ]
  },
  {
   "cell_type": "markdown",
   "metadata": {},
   "source": [
    "### [item당 주문 개수와 총량 구하기]"
   ]
  },
  {
   "cell_type": "code",
   "execution_count": 74,
   "metadata": {},
   "outputs": [
    {
     "data": {
      "text/plain": [
       "item_name\n",
       "6 Pack Soft Drink         54\n",
       "Barbacoa Bowl             66\n",
       "Barbacoa Burrito          91\n",
       "Barbacoa Crispy Tacos     11\n",
       "Barbacoa Salad Bowl       10\n",
       "Barbacoa Soft Tacos       25\n",
       "Bottled Water            162\n",
       "Bowl                       2\n",
       "Burrito                    6\n",
       "Canned Soda              104\n",
       "Name: order_id, dtype: int64"
      ]
     },
     "execution_count": 74,
     "metadata": {},
     "output_type": "execute_result"
    }
   ],
   "source": [
    "# item당 주문 개수를 출력합니다.\n",
    "order_count = chipo.groupby('item_name')['order_id'].count()\n",
    "order_count[:10] # item당 주문 개수를 출력합니다."
   ]
  },
  {
   "cell_type": "code",
   "execution_count": 75,
   "metadata": {},
   "outputs": [
    {
     "data": {
      "text/plain": [
       "item_name\n",
       "6 Pack Soft Drink         55\n",
       "Barbacoa Bowl             66\n",
       "Barbacoa Burrito          91\n",
       "Barbacoa Crispy Tacos     12\n",
       "Barbacoa Salad Bowl       10\n",
       "Barbacoa Soft Tacos       25\n",
       "Bottled Water            211\n",
       "Bowl                       4\n",
       "Burrito                    6\n",
       "Canned Soda              126\n",
       "Name: quantity, dtype: int64"
      ]
     },
     "execution_count": 75,
     "metadata": {},
     "output_type": "execute_result"
    }
   ],
   "source": [
    "# item당 주문 총량을 출력합니다.\n",
    "item_quantity = chipo.groupby('item_name')['quantity'].sum()\n",
    "item_quantity[:10] # item당 주문 총량을 출력합니다."
   ]
  },
  {
   "cell_type": "markdown",
   "metadata": {},
   "source": [
    "-----"
   ]
  },
  {
   "cell_type": "markdown",
   "metadata": {},
   "source": [
    "### [시각화로 분석 결과 살펴보기]\n",
    "- 지금까지의 분석 결과를 간단한 시각화로 표현"
   ]
  },
  {
   "cell_type": "code",
   "execution_count": 76,
   "metadata": {},
   "outputs": [
    {
     "data": {
      "text/plain": [
       "Index(['6 Pack Soft Drink', 'Barbacoa Bowl', 'Barbacoa Burrito',\n",
       "       'Barbacoa Crispy Tacos', 'Barbacoa Salad Bowl', 'Barbacoa Soft Tacos',\n",
       "       'Bottled Water', 'Bowl', 'Burrito', 'Canned Soda', 'Canned Soft Drink',\n",
       "       'Carnitas Bowl', 'Carnitas Burrito', 'Carnitas Crispy Tacos',\n",
       "       'Carnitas Salad', 'Carnitas Salad Bowl', 'Carnitas Soft Tacos',\n",
       "       'Chicken Bowl', 'Chicken Burrito', 'Chicken Crispy Tacos',\n",
       "       'Chicken Salad', 'Chicken Salad Bowl', 'Chicken Soft Tacos', 'Chips',\n",
       "       'Chips and Fresh Tomato Salsa', 'Chips and Guacamole',\n",
       "       'Chips and Mild Fresh Tomato Salsa',\n",
       "       'Chips and Roasted Chili Corn Salsa',\n",
       "       'Chips and Roasted Chili-Corn Salsa',\n",
       "       'Chips and Tomatillo Green Chili Salsa',\n",
       "       'Chips and Tomatillo Red Chili Salsa',\n",
       "       'Chips and Tomatillo-Green Chili Salsa',\n",
       "       'Chips and Tomatillo-Red Chili Salsa', 'Crispy Tacos', 'Izze',\n",
       "       'Nantucket Nectar', 'Salad', 'Side of Chips', 'Steak Bowl',\n",
       "       'Steak Burrito', 'Steak Crispy Tacos', 'Steak Salad',\n",
       "       'Steak Salad Bowl', 'Steak Soft Tacos', 'Veggie Bowl', 'Veggie Burrito',\n",
       "       'Veggie Crispy Tacos', 'Veggie Salad', 'Veggie Salad Bowl',\n",
       "       'Veggie Soft Tacos'],\n",
       "      dtype='object', name='item_name')"
      ]
     },
     "execution_count": 76,
     "metadata": {},
     "output_type": "execute_result"
    }
   ],
   "source": [
    "#음식 종류를 알아보자\n",
    "item_quantity.index.unique()"
   ]
  },
  {
   "cell_type": "code",
   "execution_count": 77,
   "metadata": {},
   "outputs": [
    {
     "data": {
      "text/plain": [
       "50"
      ]
     },
     "execution_count": 77,
     "metadata": {},
     "output_type": "execute_result"
    }
   ],
   "source": [
    "#음식 종류 개수를 알아보자\n",
    "len(item_quantity.index.unique())"
   ]
  },
  {
   "cell_type": "code",
   "execution_count": 78,
   "metadata": {},
   "outputs": [
    {
     "data": {
      "image/png": "[encoded data removed]",
      "text/plain": [
       "<Figure size 432x288 with 1 Axes>"
      ]
     },
     "metadata": {
      "needs_background": "light"
     },
     "output_type": "display_data"
    }
   ],
   "source": [
    "%matplotlib inline\n",
    "import numpy as np\n",
    "import matplotlib.pyplot as plt\n",
    "\n",
    "item_name_list = item_quantity.index.tolist()\n",
    "x_pos = np.arange(len(item_name_list)) #각 항목당 번호를 차례로 붙여보자, 전체 음식종류가 50가지 이므로, 0~49까지 부여\n",
    "order_cnt = item_quantity.values.tolist()\n",
    " \n",
    "plt.bar(x_pos, order_cnt)\n",
    "plt.ylabel('ordered_item_count')\n",
    "plt.title('Distribution of all orderd item')\n",
    " \n",
    "plt.show()"
   ]
  },
  {
   "cell_type": "markdown",
   "metadata": {},
   "source": [
    "-----"
   ]
  },
  {
   "cell_type": "markdown",
   "metadata": {},
   "source": [
    "### `[미니 퀴즈 - 1.1]`\n",
    "- `pandas에서 유용하게 사용되는 함수 value_counts()와 unique()의 차이점은 무엇일까요?` \n",
    "    - 각 함수는 어떤 데이터 타입에 적용이 되는지, 어떤 기능을 가지고 있는지, 정확히 어떤 결과값을 반환하는지 실행해봅시다."
   ]
  },
  {
   "cell_type": "code",
   "execution_count": 79,
   "metadata": {},
   "outputs": [
    {
     "name": "stdout",
     "output_type": "stream",
     "text": [
      "Chicken Bowl                    726\n",
      "Chicken Burrito                 553\n",
      "Chips and Guacamole             479\n",
      "Steak Burrito                   368\n",
      "Canned Soft Drink               301\n",
      "Chips                           211\n",
      "Steak Bowl                      211\n",
      "Bottled Water                   162\n",
      "Chicken Soft Tacos              115\n",
      "Chips and Fresh Tomato Salsa    110\n",
      "Name: item_name, dtype: int64\n"
     ]
    }
   ],
   "source": [
    "print(chipo['item_name'].value_counts()[:10])"
   ]
  },
  {
   "cell_type": "code",
   "execution_count": 80,
   "metadata": {},
   "outputs": [
    {
     "name": "stdout",
     "output_type": "stream",
     "text": [
      "<class 'pandas.core.series.Series'>\n"
     ]
    }
   ],
   "source": [
    "print(type(chipo['item_name'].value_counts()))"
   ]
  },
  {
   "cell_type": "code",
   "execution_count": 81,
   "metadata": {},
   "outputs": [
    {
     "name": "stdout",
     "output_type": "stream",
     "text": [
      "['Chips and Fresh Tomato Salsa' 'Izze' 'Nantucket Nectar'\n",
      " 'Chips and Tomatillo-Green Chili Salsa' 'Chicken Bowl' 'Side of Chips'\n",
      " 'Steak Burrito' 'Steak Soft Tacos' 'Chips and Guacamole'\n",
      " 'Chicken Crispy Tacos']\n"
     ]
    }
   ],
   "source": [
    "print(chipo['item_name'].unique()[:10])"
   ]
  },
  {
   "cell_type": "code",
   "execution_count": 82,
   "metadata": {},
   "outputs": [
    {
     "name": "stdout",
     "output_type": "stream",
     "text": [
      "<class 'numpy.ndarray'>\n"
     ]
    }
   ],
   "source": [
    "print(type(chipo['item_name'].unique()))"
   ]
  },
  {
   "cell_type": "markdown",
   "metadata": {},
   "source": [
    "-----"
   ]
  },
  {
   "cell_type": "markdown",
   "metadata": {},
   "source": [
    "# <Step3. 데이터 전처리> : 나만의 조력자를 정의하자"
   ]
  },
  {
   "cell_type": "markdown",
   "metadata": {},
   "source": [
    "### [apply와 lambda 함수를 이용한 데이터 전처리]"
   ]
  },
  {
   "cell_type": "code",
   "execution_count": 83,
   "metadata": {},
   "outputs": [
    {
     "name": "stdout",
     "output_type": "stream",
     "text": [
      "<class 'pandas.core.frame.DataFrame'>\n",
      "RangeIndex: 4622 entries, 0 to 4621\n",
      "Data columns (total 5 columns):\n",
      " #   Column              Non-Null Count  Dtype \n",
      "---  ------              --------------  ----- \n",
      " 0   order_id            4622 non-null   object\n",
      " 1   quantity            4622 non-null   int64 \n",
      " 2   item_name           4622 non-null   object\n",
      " 3   choice_description  3376 non-null   object\n",
      " 4   item_price          4622 non-null   object\n",
      "dtypes: int64(1), object(4)\n",
      "memory usage: 180.7+ KB\n",
      "None\n",
      "-------------\n"
     ]
    },
    {
     "data": {
      "text/plain": [
       "0     $2.39 \n",
       "1     $3.39 \n",
       "2     $3.39 \n",
       "3     $2.39 \n",
       "4    $16.98 \n",
       "Name: item_price, dtype: object"
      ]
     },
     "execution_count": 83,
     "metadata": {},
     "output_type": "execute_result"
    }
   ],
   "source": [
    "print(chipo.info())\n",
    "print('-------------')\n",
    "chipo['item_price'].head()"
   ]
  },
  {
   "cell_type": "code",
   "execution_count": 84,
   "metadata": {},
   "outputs": [
    {
     "data": {
      "text/plain": [
       "0        $2.39 \n",
       "1        $3.39 \n",
       "2        $3.39 \n",
       "3        $2.39 \n",
       "4       $16.98 \n",
       "         ...   \n",
       "4617    $11.75 \n",
       "4618    $11.75 \n",
       "4619    $11.25 \n",
       "4620     $8.75 \n",
       "4621     $8.75 \n",
       "Name: item_price, Length: 4622, dtype: object"
      ]
     },
     "execution_count": 84,
     "metadata": {},
     "output_type": "execute_result"
    }
   ],
   "source": [
    "chipo['item_price'] "
   ]
  },
  {
   "cell_type": "code",
   "execution_count": 87,
   "metadata": {
    "scrolled": false
   },
   "outputs": [
    {
     "data": {
      "text/plain": [
       "[2.39,\n",
       " 3.39,\n",
       " 3.39,\n",
       " 2.39,\n",
       " 16.98,\n",
       " 10.98,\n",
       " 1.69,\n",
       " 11.75,\n",
       " 9.25,\n",
       " 9.25,\n",
       " 4.45,\n",
       " 8.75,\n",
       " 8.75,\n",
       " 11.25,\n",
       " 4.45,\n",
       " 2.39,\n",
       " 8.49,\n",
       " 8.49,\n",
       " 2.18,\n",
       " 8.75,\n",
       " 4.45,\n",
       " 8.99,\n",
       " 3.39,\n",
       " 10.98,\n",
       " 3.39,\n",
       " 2.39,\n",
       " 8.49,\n",
       " 8.99,\n",
       " 1.09,\n",
       " 8.49,\n",
       " 2.39,\n",
       " 8.99,\n",
       " 1.69,\n",
       " 8.99,\n",
       " 1.09,\n",
       " 8.75,\n",
       " 8.75,\n",
       " 4.45,\n",
       " 2.95,\n",
       " 11.75,\n",
       " 2.15,\n",
       " 4.45,\n",
       " 11.25,\n",
       " 11.75,\n",
       " 8.75,\n",
       " 10.98,\n",
       " 8.99,\n",
       " 3.39,\n",
       " 8.99,\n",
       " 3.99,\n",
       " 8.99,\n",
       " 2.18,\n",
       " 10.98,\n",
       " 1.09,\n",
       " 8.99,\n",
       " 2.39,\n",
       " 9.25,\n",
       " 11.25,\n",
       " 11.75,\n",
       " 2.15,\n",
       " 4.45,\n",
       " 9.25,\n",
       " 11.25,\n",
       " 8.75,\n",
       " 8.99,\n",
       " 8.99,\n",
       " 3.39,\n",
       " 8.99,\n",
       " 10.98,\n",
       " 8.99,\n",
       " 1.69,\n",
       " 8.99,\n",
       " 3.99,\n",
       " 8.75,\n",
       " 4.45,\n",
       " 8.75,\n",
       " 8.75,\n",
       " 2.15,\n",
       " 8.75,\n",
       " 11.25,\n",
       " 2.15,\n",
       " 9.25,\n",
       " 8.75,\n",
       " 8.75,\n",
       " 9.25,\n",
       " 8.49,\n",
       " 8.99,\n",
       " 1.09,\n",
       " 9.25,\n",
       " 2.95,\n",
       " 11.75,\n",
       " 11.75,\n",
       " 9.25,\n",
       " 11.75,\n",
       " 4.45,\n",
       " 9.25,\n",
       " 4.45,\n",
       " 11.75,\n",
       " 8.75,\n",
       " 8.75,\n",
       " 4.45,\n",
       " 8.99,\n",
       " 8.99,\n",
       " 3.99,\n",
       " 8.49,\n",
       " 3.39,\n",
       " 8.99,\n",
       " 1.09,\n",
       " 9.25,\n",
       " 4.45,\n",
       " 8.75,\n",
       " 2.95,\n",
       " 4.45,\n",
       " 2.39,\n",
       " 8.49,\n",
       " 8.99,\n",
       " 8.49,\n",
       " 1.09,\n",
       " 8.99,\n",
       " 3.99,\n",
       " 8.75,\n",
       " 9.25,\n",
       " 4.45,\n",
       " 11.25,\n",
       " 4.45,\n",
       " 8.99,\n",
       " 1.09,\n",
       " 9.25,\n",
       " 2.95,\n",
       " 4.45,\n",
       " 11.75,\n",
       " 4.45,\n",
       " 8.49,\n",
       " 2.39,\n",
       " 10.98,\n",
       " 22.5,\n",
       " 11.75,\n",
       " 4.45,\n",
       " 11.25,\n",
       " 4.45,\n",
       " 11.25,\n",
       " 4.45,\n",
       " 11.25,\n",
       " 11.25,\n",
       " 11.75,\n",
       " 9.25,\n",
       " 4.45,\n",
       " 11.48,\n",
       " 17.98,\n",
       " 1.69,\n",
       " 17.5,\n",
       " 4.45,\n",
       " 8.49,\n",
       " 2.39,\n",
       " 17.5,\n",
       " 4.45,\n",
       " 4.45,\n",
       " 11.25,\n",
       " 11.75,\n",
       " 10.98,\n",
       " 8.49,\n",
       " 10.98,\n",
       " 2.18,\n",
       " 11.48,\n",
       " 8.49,\n",
       " 2.39,\n",
       " 4.45,\n",
       " 11.25,\n",
       " 11.75,\n",
       " 8.75,\n",
       " 8.49,\n",
       " 2.18,\n",
       " 8.49,\n",
       " 3.39,\n",
       " 8.49,\n",
       " 8.99,\n",
       " 10.98,\n",
       " 11.48,\n",
       " 8.49,\n",
       " 1.09,\n",
       " 1.09,\n",
       " 9.25,\n",
       " 8.75,\n",
       " 2.95,\n",
       " 9.25,\n",
       " 4.45,\n",
       " 11.25,\n",
       " 11.48,\n",
       " 8.49,\n",
       " 8.49,\n",
       " 8.99,\n",
       " 2.39,\n",
       " 11.25,\n",
       " 8.75,\n",
       " 2.95,\n",
       " 1.09,\n",
       " 8.99,\n",
       " 8.49,\n",
       " 2.39,\n",
       " 10.98,\n",
       " 1.09,\n",
       " 3.99,\n",
       " 11.25,\n",
       " 8.75,\n",
       " 8.49,\n",
       " 3.39,\n",
       " 8.75,\n",
       " 9.25,\n",
       " 2.15,\n",
       " 11.25,\n",
       " 11.25,\n",
       " 11.25,\n",
       " 4.45,\n",
       " 22.5,\n",
       " 4.45,\n",
       " 11.75,\n",
       " 8.75,\n",
       " 17.5,\n",
       " 8.75,\n",
       " 9.25,\n",
       " 8.75,\n",
       " 2.15,\n",
       " 9.25,\n",
       " 4.3,\n",
       " 8.75,\n",
       " 11.25,\n",
       " 2.15,\n",
       " 8.99,\n",
       " 1.09,\n",
       " 8.99,\n",
       " 3.99,\n",
       " 8.75,\n",
       " 2.95,\n",
       " 2.95,\n",
       " 11.75,\n",
       " 5.9,\n",
       " 9.25,\n",
       " 9.25,\n",
       " 11.75,\n",
       " 9.25,\n",
       " 2.95,\n",
       " 17.5,\n",
       " 8.75,\n",
       " 9.25,\n",
       " 10.98,\n",
       " 8.99,\n",
       " 1.09,\n",
       " 1.09,\n",
       " 1.09,\n",
       " 8.99,\n",
       " 10.98,\n",
       " 1.09,\n",
       " 8.75,\n",
       " 8.75,\n",
       " 9.25,\n",
       " 9.25,\n",
       " 8.75,\n",
       " 8.75,\n",
       " 8.99,\n",
       " 8.99,\n",
       " 8.99,\n",
       " 1.09,\n",
       " 11.75,\n",
       " 1.25,\n",
       " 8.99,\n",
       " 2.39,\n",
       " 9.25,\n",
       " 2.95,\n",
       " 8.99,\n",
       " 3.99,\n",
       " 8.49,\n",
       " 2.39,\n",
       " 8.49,\n",
       " 8.49,\n",
       " 8.49,\n",
       " 1.69,\n",
       " 8.49,\n",
       " 3.99,\n",
       " 8.99,\n",
       " 1.69,\n",
       " 1.09,\n",
       " 23.78,\n",
       " 17.5,\n",
       " 2.15,\n",
       " 8.75,\n",
       " 9.25,\n",
       " 9.25,\n",
       " 8.75,\n",
       " 4.45,\n",
       " 8.75,\n",
       " 11.25,\n",
       " 11.25,\n",
       " 1.25,\n",
       " 9.25,\n",
       " 4.45,\n",
       " 11.25,\n",
       " 11.75,\n",
       " 11.75,\n",
       " 6.49,\n",
       " 8.99,\n",
       " 2.39,\n",
       " 8.49,\n",
       " 2.39,\n",
       " 11.25,\n",
       " 8.75,\n",
       " 2.15,\n",
       " 8.99,\n",
       " 1.69,\n",
       " 8.75,\n",
       " 11.25,\n",
       " 2.15,\n",
       " 4.45,\n",
       " 8.75,\n",
       " 8.49,\n",
       " 8.99,\n",
       " 17.5,\n",
       " 8.49,\n",
       " 1.09,\n",
       " 1.09,\n",
       " 8.75,\n",
       " 1.25,\n",
       " 2.15,\n",
       " 11.08,\n",
       " 8.49,\n",
       " 8.49,\n",
       " 8.99,\n",
       " 2.39,\n",
       " 8.75,\n",
       " 2.15,\n",
       " 1.5,\n",
       " 11.25,\n",
       " 2.15,\n",
       " 8.49,\n",
       " 8.49,\n",
       " 11.75,\n",
       " 9.25,\n",
       " 11.75,\n",
       " 1.25,\n",
       " 11.25,\n",
       " 8.75,\n",
       " 4.45,\n",
       " 6.49,\n",
       " 9.25,\n",
       " 2.95,\n",
       " 11.25,\n",
       " 4.45,\n",
       " 1.25,\n",
       " 1.25,\n",
       " 8.49,\n",
       " 2.39,\n",
       " 2.18,\n",
       " 8.49,\n",
       " 2.18,\n",
       " 22.16,\n",
       " 17.5,\n",
       " 8.75,\n",
       " 2.95,\n",
       " 6.49,\n",
       " 8.99,\n",
       " 3.39,\n",
       " 3.39,\n",
       " 8.99,\n",
       " 8.49,\n",
       " 11.25,\n",
       " 2.15,\n",
       " 11.25,\n",
       " 2.95,\n",
       " 11.25,\n",
       " 1.25,\n",
       " 8.99,\n",
       " 1.09,\n",
       " 8.75,\n",
       " 8.75,\n",
       " 9.25,\n",
       " 2.95,\n",
       " 11.75,\n",
       " 1.5,\n",
       " 8.99,\n",
       " 1.09,\n",
       " 11.25,\n",
       " 1.25,\n",
       " 1.25,\n",
       " 11.25,\n",
       " 11.75,\n",
       " 2.15,\n",
       " 8.99,\n",
       " 1.69,\n",
       " 11.75,\n",
       " 6.49,\n",
       " 8.75,\n",
       " 9.25,\n",
       " 11.25,\n",
       " 4.45,\n",
       " 1.25,\n",
       " 11.25,\n",
       " 4.45,\n",
       " 8.49,\n",
       " 8.99,\n",
       " 8.49,\n",
       " 8.99,\n",
       " 11.25,\n",
       " 1.25,\n",
       " 11.75,\n",
       " 1.25,\n",
       " 11.75,\n",
       " 9.25,\n",
       " 4.45,\n",
       " 11.25,\n",
       " 2.15,\n",
       " 32.94,\n",
       " 1.25,\n",
       " 11.25,\n",
       " 11.48,\n",
       " 1.69,\n",
       " 1.09,\n",
       " 17.5,\n",
       " 4.45,\n",
       " 6.49,\n",
       " 9.25,\n",
       " 8.75,\n",
       " 9.25,\n",
       " 9.25,\n",
       " 8.75,\n",
       " 8.75,\n",
       " 2.15,\n",
       " 2.95,\n",
       " 17.5,\n",
       " 10.98,\n",
       " 11.48,\n",
       " 11.48,\n",
       " 3.39,\n",
       " 8.99,\n",
       " 1.69,\n",
       " 8.99,\n",
       " 1.09,\n",
       " 10.98,\n",
       " 3.39,\n",
       " 8.99,\n",
       " 1.09,\n",
       " 9.25,\n",
       " 8.75,\n",
       " 11.25,\n",
       " 4.45,\n",
       " 2.95,\n",
       " 9.25,\n",
       " 22.2,\n",
       " 8.49,\n",
       " 8.99,\n",
       " 8.75,\n",
       " 8.75,\n",
       " 11.75,\n",
       " 8.75,\n",
       " 11.25,\n",
       " 9.25,\n",
       " 11.25,\n",
       " 11.25,\n",
       " 8.75,\n",
       " 11.25,\n",
       " 2.95,\n",
       " 1.25,\n",
       " 8.49,\n",
       " 1.69,\n",
       " 11.75,\n",
       " 11.25,\n",
       " 8.75,\n",
       " 8.75,\n",
       " 4.45,\n",
       " 8.49,\n",
       " 3.99,\n",
       " 8.49,\n",
       " 3.99,\n",
       " 11.48,\n",
       " 1.69,\n",
       " 1.09,\n",
       " 11.25,\n",
       " 1.5,\n",
       " 10.58,\n",
       " 1.69,\n",
       " 9.25,\n",
       " 11.25,\n",
       " 8.75,\n",
       " 9.25,\n",
       " 11.25,\n",
       " 11.25,\n",
       " 8.75,\n",
       " 11.75,\n",
       " 8.75,\n",
       " 8.75,\n",
       " 8.75,\n",
       " 2.15,\n",
       " 11.25,\n",
       " 11.75,\n",
       " 2.5,\n",
       " 4.45,\n",
       " 9.25,\n",
       " 4.45,\n",
       " 11.25,\n",
       " 8.49,\n",
       " 3.99,\n",
       " 9.25,\n",
       " 9.25,\n",
       " 11.25,\n",
       " 9.25,\n",
       " 11.75,\n",
       " 11.25,\n",
       " 1.25,\n",
       " 23.5,\n",
       " 1.25,\n",
       " 8.99,\n",
       " 8.49,\n",
       " 7.4,\n",
       " 7.4,\n",
       " 8.75,\n",
       " 1.25,\n",
       " 4.45,\n",
       " 8.75,\n",
       " 2.15,\n",
       " 8.75,\n",
       " 4.45,\n",
       " 7.4,\n",
       " 7.4,\n",
       " 7.4,\n",
       " 8.99,\n",
       " 3.99,\n",
       " 8.99,\n",
       " 1.69,\n",
       " 8.75,\n",
       " 8.75,\n",
       " 8.75,\n",
       " 8.75,\n",
       " 11.25,\n",
       " 11.25,\n",
       " 2.95,\n",
       " 8.75,\n",
       " 18.5,\n",
       " 8.49,\n",
       " 3.99,\n",
       " 2.95,\n",
       " 9.25,\n",
       " 9.25,\n",
       " 3.0,\n",
       " 1.25,\n",
       " 8.75,\n",
       " 9.25,\n",
       " 4.45,\n",
       " 8.75,\n",
       " 11.25,\n",
       " 4.45,\n",
       " 10.98,\n",
       " 22.16,\n",
       " 4.45,\n",
       " 8.75,\n",
       " 9.25,\n",
       " 6.49,\n",
       " 9.25,\n",
       " 11.25,\n",
       " 8.75,\n",
       " 9.25,\n",
       " 2.15,\n",
       " 9.25,\n",
       " 4.45,\n",
       " 9.25,\n",
       " 2.95,\n",
       " 9.25,\n",
       " 8.75,\n",
       " 9.25,\n",
       " 1.25,\n",
       " 1.25,\n",
       " 8.75,\n",
       " 8.75,\n",
       " 9.25,\n",
       " 4.45,\n",
       " 11.75,\n",
       " 11.75,\n",
       " 11.75,\n",
       " 9.25,\n",
       " 9.25,\n",
       " 16.98,\n",
       " 2.39,\n",
       " 3.39,\n",
       " 3.39,\n",
       " 9.25,\n",
       " 11.75,\n",
       " 11.25,\n",
       " 2.15,\n",
       " 8.75,\n",
       " 9.25,\n",
       " 4.45,\n",
       " 10.98,\n",
       " 11.25,\n",
       " 9.25,\n",
       " 22.5,\n",
       " 9.25,\n",
       " 2.95,\n",
       " 1.5,\n",
       " 11.48,\n",
       " 8.49,\n",
       " 1.69,\n",
       " 8.49,\n",
       " 8.49,\n",
       " 8.49,\n",
       " 6.78,\n",
       " 11.75,\n",
       " 4.45,\n",
       " 8.75,\n",
       " 4.45,\n",
       " 11.89,\n",
       " 9.39,\n",
       " 8.75,\n",
       " 2.95,\n",
       " 1.25,\n",
       " 9.25,\n",
       " 8.75,\n",
       " 23.78,\n",
       " 8.75,\n",
       " 9.25,\n",
       " 2.15,\n",
       " 2.15,\n",
       " 1.25,\n",
       " 8.49,\n",
       " 3.99,\n",
       " 10.98,\n",
       " 1.09,\n",
       " 8.75,\n",
       " 4.45,\n",
       " 8.75,\n",
       " 11.75,\n",
       " 2.95,\n",
       " 4.45,\n",
       " 9.25,\n",
       " 8.75,\n",
       " 8.49,\n",
       " 3.99,\n",
       " 22.5,\n",
       " 11.25,\n",
       " 1.25,\n",
       " 8.75,\n",
       " 8.75,\n",
       " 18.5,\n",
       " 6.49,\n",
       " 8.75,\n",
       " 8.75,\n",
       " 4.45,\n",
       " 8.49,\n",
       " 3.99,\n",
       " 8.99,\n",
       " 1.09,\n",
       " 8.49,\n",
       " 2.39,\n",
       " 11.48,\n",
       " 1.69,\n",
       " 2.5,\n",
       " 9.25,\n",
       " 1.5,\n",
       " 17.5,\n",
       " 2.95,\n",
       " 8.75,\n",
       " 4.45,\n",
       " 11.75,\n",
       " 8.75,\n",
       " 8.49,\n",
       " 1.69,\n",
       " 8.49,\n",
       " 3.99,\n",
       " 8.99,\n",
       " 8.99,\n",
       " 3.99,\n",
       " 8.99,\n",
       " 11.25,\n",
       " 4.45,\n",
       " 1.25,\n",
       " 3.99,\n",
       " 10.98,\n",
       " 7.4,\n",
       " 3.0,\n",
       " 7.4,\n",
       " 4.0,\n",
       " 8.49,\n",
       " 3.99,\n",
       " 9.25,\n",
       " 4.45,\n",
       " 11.25,\n",
       " 1.25,\n",
       " 11.75,\n",
       " 1.25,\n",
       " 11.25,\n",
       " 2.15,\n",
       " 11.25,\n",
       " 4.45,\n",
       " 3.75,\n",
       " 11.75,\n",
       " 8.99,\n",
       " 2.39,\n",
       " 8.75,\n",
       " 4.45,\n",
       " 1.25,\n",
       " 8.99,\n",
       " 8.49,\n",
       " 2.18,\n",
       " 8.49,\n",
       " 2.18,\n",
       " 1.09,\n",
       " 8.75,\n",
       " 2.95,\n",
       " 1.25,\n",
       " 1.5,\n",
       " 11.25,\n",
       " 9.25,\n",
       " 2.95,\n",
       " 1.25,\n",
       " 8.49,\n",
       " 3.99,\n",
       " 11.48,\n",
       " 3.99,\n",
       " 8.49,\n",
       " 11.25,\n",
       " 1.25,\n",
       " 8.99,\n",
       " 1.69,\n",
       " 11.25,\n",
       " 1.25,\n",
       " 6.49,\n",
       " 8.75,\n",
       " 9.25,\n",
       " 8.75,\n",
       " 2.95,\n",
       " 8.75,\n",
       " 11.75,\n",
       " 8.69,\n",
       " 8.69,\n",
       " 2.29,\n",
       " 3.99,\n",
       " 8.49,\n",
       " 8.75,\n",
       " 8.75,\n",
       " 1.25,\n",
       " 11.75,\n",
       " 11.25,\n",
       " 11.25,\n",
       " 11.25,\n",
       " 1.25,\n",
       " 9.25,\n",
       " 11.75,\n",
       " 6.49,\n",
       " 3.99,\n",
       " 8.49,\n",
       " 11.25,\n",
       " 2.15,\n",
       " 11.25,\n",
       " 11.89,\n",
       " 8.99,\n",
       " 1.69,\n",
       " 8.99,\n",
       " 8.99,\n",
       " 3.99,\n",
       " 8.99,\n",
       " 9.25,\n",
       " 9.25,\n",
       " 2.15,\n",
       " 7.4,\n",
       " 7.4,\n",
       " 8.75,\n",
       " 8.75,\n",
       " 9.25,\n",
       " 4.45,\n",
       " 11.25,\n",
       " 1.25,\n",
       " 11.75,\n",
       " 11.25,\n",
       " 1.25,\n",
       " 3.99,\n",
       " 8.49,\n",
       " 8.49,\n",
       " 8.49,\n",
       " 8.99,\n",
       " 8.75,\n",
       " 2.15,\n",
       " 1.25,\n",
       " 8.49,\n",
       " 1.09,\n",
       " 1.09,\n",
       " 8.75,\n",
       " 2.95,\n",
       " 1.25,\n",
       " 9.25,\n",
       " 1.25,\n",
       " 2.15,\n",
       " 11.25,\n",
       " 1.25,\n",
       " 4.45,\n",
       " 8.75,\n",
       " 2.5,\n",
       " 8.9,\n",
       " 8.75,\n",
       " 8.75,\n",
       " 8.75,\n",
       " 11.25,\n",
       " 11.25,\n",
       " 10.98,\n",
       " 3.99,\n",
       " 10.98,\n",
       " 3.99,\n",
       " 1.69,\n",
       " 8.99,\n",
       " 9.25,\n",
       " 8.75,\n",
       " 8.99,\n",
       " 1.09,\n",
       " 9.25,\n",
       " 2.95,\n",
       " 8.75,\n",
       " 9.25,\n",
       " 3.99,\n",
       " 8.49,\n",
       " 8.75,\n",
       " 8.75,\n",
       " 22.5,\n",
       " 10.98,\n",
       " 3.27,\n",
       " 3.99,\n",
       " 8.99,\n",
       " 1.09,\n",
       " 11.08,\n",
       " 8.75,\n",
       " 4.45,\n",
       " 11.08,\n",
       " 3.99,\n",
       " 8.49,\n",
       " 4.3,\n",
       " 9.25,\n",
       " 8.75,\n",
       " 11.25,\n",
       " 11.25,\n",
       " 9.25,\n",
       " 8.49,\n",
       " 8.99,\n",
       " 8.49,\n",
       " 8.75,\n",
       " 2.95,\n",
       " 4.45,\n",
       " 9.25,\n",
       " 2.95,\n",
       " 9.25,\n",
       " 8.75,\n",
       " 11.25,\n",
       " 4.45,\n",
       " 16.98,\n",
       " 8.49,\n",
       " 2.39,\n",
       " 11.25,\n",
       " 3.75,\n",
       " 9.25,\n",
       " 4.45,\n",
       " 9.25,\n",
       " 9.25,\n",
       " 4.45,\n",
       " 8.75,\n",
       " 9.25,\n",
       " 8.75,\n",
       " 9.25,\n",
       " 9.25,\n",
       " 9.25,\n",
       " 11.48,\n",
       " 8.99,\n",
       " 22.5,\n",
       " 11.75,\n",
       " 11.25,\n",
       " 1.25,\n",
       " 8.75,\n",
       " 2.15,\n",
       " 1.25,\n",
       " 11.25,\n",
       " 8.75,\n",
       " 1.25,\n",
       " 11.25,\n",
       " 1.5,\n",
       " 11.25,\n",
       " 11.25,\n",
       " 9.25,\n",
       " 6.49,\n",
       " 8.9,\n",
       " 8.75,\n",
       " 4.45,\n",
       " 11.25,\n",
       " 1.25,\n",
       " 17.5,\n",
       " 9.25,\n",
       " 8.75,\n",
       " 11.75,\n",
       " 3.0,\n",
       " 8.49,\n",
       " 8.49,\n",
       " 10.98,\n",
       " 8.99,\n",
       " 3.99,\n",
       " 8.75,\n",
       " 4.45,\n",
       " 8.99,\n",
       " 1.69,\n",
       " 11.75,\n",
       " 8.75,\n",
       " 11.25,\n",
       " 4.45,\n",
       " 11.75,\n",
       " 1.25,\n",
       " 11.75,\n",
       " 2.95,\n",
       " 8.99,\n",
       " 8.99,\n",
       " 2.18,\n",
       " 17.98,\n",
       " 8.99,\n",
       " 8.49,\n",
       " 1.69,\n",
       " 11.75,\n",
       " 11.25,\n",
       " 2.95,\n",
       " 3.75,\n",
       " 9.25,\n",
       " 11.75,\n",
       " 8.75,\n",
       " 2.15,\n",
       " 1.5,\n",
       " 8.49,\n",
       " 8.49,\n",
       " 3.39,\n",
       " 8.69,\n",
       " 3.89,\n",
       " 8.75,\n",
       " 4.45,\n",
       " 8.75,\n",
       " 11.25,\n",
       " 2.15,\n",
       " 8.75,\n",
       " 8.49,\n",
       " 1.69,\n",
       " 8.49,\n",
       " 8.49,\n",
       " 1.25,\n",
       " 8.75,\n",
       " 11.75,\n",
       " 11.75,\n",
       " 8.99,\n",
       " 1.09,\n",
       " 8.75,\n",
       " 4.45,\n",
       " 8.75,\n",
       " 2.95,\n",
       " 8.75,\n",
       " 2.15,\n",
       " 3.99,\n",
       " 8.49,\n",
       " 8.99,\n",
       " 3.99,\n",
       " 8.49,\n",
       " 1.69,\n",
       " 1.09,\n",
       " 8.99,\n",
       " 1.09,\n",
       " 9.25,\n",
       " 8.75,\n",
       " 8.99,\n",
       " 2.39,\n",
       " 1.25,\n",
       " 1.25,\n",
       " 11.25,\n",
       " 11.25,\n",
       " 9.25,\n",
       " 9.25,\n",
       " 11.25,\n",
       " 1.5,\n",
       " 3.99,\n",
       " 8.49,\n",
       " 11.25,\n",
       " 9.25,\n",
       " 11.25,\n",
       " 17.5,\n",
       " 8.75,\n",
       " 8.9,\n",
       " 8.75,\n",
       " 8.75,\n",
       " 8.99,\n",
       " 2.39,\n",
       " 11.25,\n",
       " 9.25,\n",
       " 2.15,\n",
       " 11.25,\n",
       " 1.25,\n",
       " 11.75,\n",
       " 1.25,\n",
       " 11.25,\n",
       " 11.75,\n",
       " 1.25,\n",
       " 11.25,\n",
       " 11.25,\n",
       " 8.49,\n",
       " 10.98,\n",
       " 8.75,\n",
       " 1.25,\n",
       " 8.75,\n",
       " ...]"
      ]
     },
     "execution_count": 87,
     "metadata": {},
     "output_type": "execute_result"
    }
   ],
   "source": [
    "#item_price에서 $를 제거해야함.\n",
    "result = []\n",
    "for x in chipo['item_price']:\n",
    "    result.append(float(x[1:]))\n",
    "                  \n",
    "result"
   ]
  },
  {
   "cell_type": "code",
   "execution_count": 88,
   "metadata": {},
   "outputs": [
    {
     "data": {
      "text/plain": [
       "0        2.39\n",
       "1        3.39\n",
       "2        3.39\n",
       "3        2.39\n",
       "4       16.98\n",
       "        ...  \n",
       "4617    11.75\n",
       "4618    11.75\n",
       "4619    11.25\n",
       "4620     8.75\n",
       "4621     8.75\n",
       "Name: item_price, Length: 4622, dtype: float64"
      ]
     },
     "execution_count": 88,
     "metadata": {},
     "output_type": "execute_result"
    }
   ],
   "source": [
    "chipo.item_price = result\n",
    "chipo.item_price"
   ]
  },
  {
   "cell_type": "code",
   "execution_count": 89,
   "metadata": {},
   "outputs": [
    {
     "data": {
      "text/html": [
       "<div>\n",
       "<style scoped>\n",
       "    .dataframe tbody tr th:only-of-type {\n",
       "        vertical-align: middle;\n",
       "    }\n",
       "\n",
       "    .dataframe tbody tr th {\n",
       "        vertical-align: top;\n",
       "    }\n",
       "\n",
       "    .dataframe thead th {\n",
       "        text-align: right;\n",
       "    }\n",
       "</style>\n",
       "<table border=\"1\" class=\"dataframe\">\n",
       "  <thead>\n",
       "    <tr style=\"text-align: right;\">\n",
       "      <th></th>\n",
       "      <th>quantity</th>\n",
       "      <th>item_price</th>\n",
       "    </tr>\n",
       "  </thead>\n",
       "  <tbody>\n",
       "    <tr>\n",
       "      <th>count</th>\n",
       "      <td>4622.000000</td>\n",
       "      <td>4622.000000</td>\n",
       "    </tr>\n",
       "    <tr>\n",
       "      <th>mean</th>\n",
       "      <td>1.075725</td>\n",
       "      <td>7.464336</td>\n",
       "    </tr>\n",
       "    <tr>\n",
       "      <th>std</th>\n",
       "      <td>0.410186</td>\n",
       "      <td>4.245557</td>\n",
       "    </tr>\n",
       "    <tr>\n",
       "      <th>min</th>\n",
       "      <td>1.000000</td>\n",
       "      <td>1.090000</td>\n",
       "    </tr>\n",
       "    <tr>\n",
       "      <th>25%</th>\n",
       "      <td>1.000000</td>\n",
       "      <td>3.390000</td>\n",
       "    </tr>\n",
       "    <tr>\n",
       "      <th>50%</th>\n",
       "      <td>1.000000</td>\n",
       "      <td>8.750000</td>\n",
       "    </tr>\n",
       "    <tr>\n",
       "      <th>75%</th>\n",
       "      <td>1.000000</td>\n",
       "      <td>9.250000</td>\n",
       "    </tr>\n",
       "    <tr>\n",
       "      <th>max</th>\n",
       "      <td>15.000000</td>\n",
       "      <td>44.250000</td>\n",
       "    </tr>\n",
       "  </tbody>\n",
       "</table>\n",
       "</div>"
      ],
      "text/plain": [
       "          quantity   item_price\n",
       "count  4622.000000  4622.000000\n",
       "mean      1.075725     7.464336\n",
       "std       0.410186     4.245557\n",
       "min       1.000000     1.090000\n",
       "25%       1.000000     3.390000\n",
       "50%       1.000000     8.750000\n",
       "75%       1.000000     9.250000\n",
       "max      15.000000    44.250000"
      ]
     },
     "execution_count": 89,
     "metadata": {},
     "output_type": "execute_result"
    }
   ],
   "source": [
    "chipo.describe()"
   ]
  },
  {
   "cell_type": "code",
   "execution_count": 106,
   "metadata": {},
   "outputs": [
    {
     "data": {
      "text/plain": [
       "0     2.39\n",
       "1     3.39\n",
       "2     3.39\n",
       "3     2.39\n",
       "4    16.98\n",
       "Name: item_price, dtype: float64"
      ]
     },
     "execution_count": 106,
     "metadata": {},
     "output_type": "execute_result"
    }
   ],
   "source": [
    "chipo['item_price'].head() #확인해보자\n"
   ]
  },
  {
   "cell_type": "markdown",
   "metadata": {},
   "source": [
    "# ------------------------------------------------------------------"
   ]
  },
  {
   "cell_type": "markdown",
   "metadata": {},
   "source": [
    "\n",
    "# <Step4. 탐색적 분석> : 스무고개로 분석하는 개념적 탐색\n",
    "\n",
    "##### 데이터를 이해하기 위한 조금 더 복잡한 질문들로 탐색적 데이터 분석 연습하기\n",
    "\n",
    "\n",
    "- 주문당 평균 계산금액 출력하기\n",
    "- 한 주문에 10달러 이상 사용한 주문의 id들 출력하기\n",
    "- 각 아이템의 가격 구하기\n",
    "- 가장 비싼 주문에서 item이 몇개 팔렸는지 구하기\n",
    "- “Veggie Salad Bowl”이 몇 번 주문되었는지 구하기\n",
    "- “Chicken Bowl”을 2개 이상 주문한 주문 횟수 구하기\n",
    "-----"
   ]
  },
  {
   "cell_type": "markdown",
   "metadata": {},
   "source": [
    "# ------------------------------------------------------------------"
   ]
  },
  {
   "cell_type": "code",
   "execution_count": null,
   "metadata": {},
   "outputs": [],
   "source": []
  }
 ],
 "metadata": {
  "kernelspec": {
   "display_name": "Python 3",
   "language": "python",
   "name": "python3"
  },
  "language_info": {
   "codemirror_mode": {
    "name": "ipython",
    "version": 3
   },
   "file_extension": ".py",
   "mimetype": "text/x-python",
   "name": "python",
   "nbconvert_exporter": "python",
   "pygments_lexer": "ipython3",
   "version": "3.7.6"
  },
  "toc": {
   "base_numbering": 1,
   "nav_menu": {},
   "number_sections": true,
   "sideBar": true,
   "skip_h1_title": false,
   "title_cell": "Table of Contents",
   "title_sidebar": "Contents",
   "toc_cell": false,
   "toc_position": {},
   "toc_section_display": true,
   "toc_window_display": true
  },
  "widgets": {
   "application/vnd.jupyter.widget-state+json": {
    "state": {},
    "version_major": 2,
    "version_minor": 0
   }
  }
 },
 "nbformat": 4,
 "nbformat_minor": 2
}
