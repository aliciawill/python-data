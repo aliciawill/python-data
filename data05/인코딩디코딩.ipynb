{
 "cells": [
  {
   "cell_type": "code",
   "execution_count": 33,
   "metadata": {},
   "outputs": [
    {
     "name": "stdin",
     "output_type": "stream",
     "text": [
      "검색단어>>  용산맛집\n"
     ]
    },
    {
     "name": "stdout",
     "output_type": "stream",
     "text": [
      "<class 'bytes'> ------\n",
      "{\n",
      "\"lastBuildDate\": \"Tue, 22 Mar 2022 11:43:21 +0900\",\n",
      "\"total\": 229053,\n",
      "\"start\": 1,\n",
      "\"display\": 10,\n",
      "\"items\": [\n",
      "{\n",
      "\"title\": \"<b>용산</b> 아이파크몰 <b>맛집</b>, 아그라 한국인 맞춤형 인도 음식\",\n",
      "\"link\": \"https:\\/\\/blog.naver.com\\/skylights2?Redirect=Log&logNo=222670645777\",\n",
      "\"description\": \"먹는 맛집 중에 맛집이랍니다 #아그라 #아그라용산아이파크몰점 이 지점에는 각 테이블마다... 방문해보려구요~ :) #<b>용산맛집</b>추천 #용산아이파크몰 #아이파크몰 #용산데이트 또 맛있는 곳이 있으면 포스팅... \",\n",
      "\"bloggername\": \"달콤한 초코탕 블로그\",\n",
      "\"bloggerlink\": \"https://blog.naver.com/skylights2\",\n",
      "\"postdate\": \"20220312\"\n",
      "\n",
      "},\n",
      "{\n",
      "\"title\": \"용산아이파크 팀호완 홍콩미쉐린 딤섬맛집 (<b>용산맛집</b>, 딤섬맛집... \",\n",
      "\"link\": \"https:\\/\\/blog.naver.com\\/sweetiljeong?Redirect=Log&logNo=222679273678\",\n",
      "\"description\": \"오랜만에 <b>용산</b>아이파크 다녀왔는데 정말 좋아졌더라구요. F&amp;B 매장수도 많고 활력넘치고... 언제가 마지막으로 방문했는지 기억조차나질 않지만 저희집에서도 멀지 않아서 또 방문해봐야 겠어요! 베이글<b>맛집</b>... \",\n",
      "\"bloggername\": \"행복한 시호토리\",\n",
      "\"bloggerlink\": \"https://blog.naver.com/sweetiljeong\",\n",
      "\"postdate\": \"20220321\"\n",
      "\n",
      "},\n",
      "{\n",
      "\"title\": \"<b>용산</b> 아이파크몰 김치찌개 <b>맛집</b> 장독대 목살김치찜\",\n",
      "\"link\": \"https:\\/\\/blog.naver.com\\/brightenedu?Redirect=Log&logNo=222667493338\",\n",
      "\"description\": \"지난번에 드래곤시티에서 1박 하는 날에 인근에 위치한 용산 아이파크몰 맛집에서 간단하게 저녁 먹은... 기본 반찬으로 김이 테이블마다 구비되어 있어 <b>용산 맛집</b>에서 식사하기 전에 애피타이저로 즐겼죠.... \",\n",
      "\"bloggername\": \"김원장의 탐구생활\",\n",
      "\"bloggerlink\": \"https://blog.naver.com/brightenedu\",\n",
      "\"postdate\": \"20220308\"\n",
      "\n",
      "},\n",
      "{\n",
      "\"title\": \"[<b>용산 맛집</b>] 이탈리아 남부 감성 듬뿍 ‘쇼니노’  디너 메뉴 및... \",\n",
      "\"link\": \"https:\\/\\/blog.naver.com\\/sujiqqq92?Redirect=Log&logNo=222659068189\",\n",
      "\"description\": \"#<b>용산맛집</b> #용산역맛집 #신<b>용산맛집</b> #신용산역맛집 #용산핫플 #용산레스토랑 #용산와인 #용산역와인 #용산브런치 #용산역브런치 #용산데이트 #용산역데이트 #용산쇼니노\",\n",
      "\"bloggername\": \"쏘낭이의 공간\",\n",
      "\"bloggerlink\": \"https://blog.naver.com/sujiqqq92\",\n",
      "\"postdate\": \"20220227\"\n",
      "\n",
      "},\n",
      "{\n",
      "\"title\": \"<b>용산 맛집</b> # 야스노야 지로... 물씬 풍기는 삿포로식 양고기 맛집\",\n",
      "\"link\": \"https:\\/\\/blog.naver.com\\/inkyungidd?Redirect=Log&logNo=222641550545\",\n",
      "\"description\": \"왜 줄서서 먹는지 백번 이해가는 <b>용산 맛집</b> 야스노야 지로 완전 만족 ! &lt;야스노야 지로&gt; 영업시간 : 17:00 ~ 22:00 / 라스트오더 20:30 / 재료소진 시 조기마감 전화 : 02-777-0778 주소 : 서울시 용산구 백범로87길 19 1층\",\n",
      "\"bloggername\": \"행복해지기 위한 날\",\n",
      "\"bloggerlink\": \"https://blog.naver.com/inkyungidd\",\n",
      "\"postdate\": \"20220222\"\n",
      "\n",
      "},\n",
      "{\n",
      "\"title\": \"<b>용산</b> 브런치 <b>맛집</b> 어프로치 (주차,메뉴,예약,대기)\",\n",
      "\"link\": \"https:\\/\\/blog.naver.com\\/mistymoon5?Redirect=Log&logNo=222670976975\",\n",
      "\"description\": \"인스타를 보니 여의도 쪽에 어프로치 익스프레스를 오픈했던데 가보고 싶네요 ! #용산브런치 #<b>용산맛집</b> #신용산역브런치 #신용산역맛집 #인스타핫플 #인스타카페 #용산데이트추천 #어프로치 #브런치맛집 #approach\",\n",
      "\"bloggername\": \"새벽의 어스름을 품은 길 하나.\",\n",
      "\"bloggerlink\": \"https://blog.naver.com/mistymoon5\",\n",
      "\"postdate\": \"20220313\"\n",
      "\n",
      "},\n",
      "{\n",
      "\"title\": \"<b>용산 맛집</b> #퍼시몬 다이닝바 와인바 오픈하고 벌써 3번째 !!!\",\n",
      "\"link\": \"https:\\/\\/blog.naver.com\\/lol_awesome?Redirect=Log&logNo=222676209402\",\n",
      "\"description\": \"2년 전 쯤만 해도 신상 맛집, 신상 카페 엄청 찾아다녔는데 코시국이라 자제하다 최근에 진짜 찐 <b>용산 맛집</b>을 찾았어요 !!! 다이닝바 퍼시몬은 용산에 위치하고 있어서 집이랑 가깝기도 하고 음식 맛있는건... \",\n",
      "\"bloggername\": \"카레몽\",\n",
      "\"bloggerlink\": \"https://blog.naver.com/lol_awesome\",\n",
      "\"postdate\": \"20220318\"\n",
      "\n",
      "},\n",
      "{\n",
      "\"title\": \"현선이네 <b>용산</b> 본점 서울 3대 떡볶이 <b>맛집</b> 또 성공\",\n",
      "\"link\": \"https:\\/\\/blog.naver.com\\/dohyemm?Redirect=Log&logNo=222674840324\",\n",
      "\"description\": \"다급하게 네이버에 서울 3대 떡볶이 맛집으로 검색해서 방문, 현선이네 용산 본점 사전 공부가 부족했던... 가시는 분들 잊지 마시고 튀김가루도 함께 먹어주세융 - 즉흥러에게 계획은 없다,, <b>용산 맛집</b> 현선이네... \",\n",
      "\"bloggername\": \"dolog\",\n",
      "\"bloggerlink\": \"https://blog.naver.com/dohyemm\",\n",
      "\"postdate\": \"20220317\"\n",
      "\n",
      "},\n",
      "{\n",
      "\"title\": \"<b>용산 맛집</b> 웨이, 레알 홍콩인줄!\",\n",
      "\"link\": \"https:\\/\\/blog.naver.com\\/hktb1?Redirect=Log&logNo=222650618186\",\n",
      "\"description\": \"<b>용산 맛집</b>, 레알 홍콩인 줄! 웨이 티 하우스 앤 레스토랑 여러분 안녕하세요! 오늘은 제가 동료에게... 요즘 용산이 수많은 핫플, 수많은 맛집 등으로 뜨겁죠? 여러분의 서울 나들이, 용산 나들이에 이 웨이라는... \",\n",
      "\"bloggername\": \"정대리의 홍콩이야기\",\n",
      "\"bloggerlink\": \"https://blog.naver.com/hktb1\",\n",
      "\"postdate\": \"20220218\"\n",
      "\n",
      "},\n",
      "{\n",
      "\"title\": \"<b>용산 맛집</b>, 남영역 열정도 거리에 있는 무바 떡볶이\",\n",
      "\"link\": \"https:\\/\\/blog.naver.com\\/sumika1207?Redirect=Log&logNo=222672305363\",\n",
      "\"description\": \"<b>용산</b> 남영역 근처에 열정도 거리라고 <b>맛집</b>이 모여있는 거리가 있는데 그곳에 얼마 전 새로 생긴 떡볶이 가게이다. 요즘 가래떡 떡볶이집에 점점 많아지는 것 같다. 쿠팡 잇츠 평점 ★4.9에 재료 소진으로 못... \",\n",
      "\"bloggername\": \"언제나맑음\",\n",
      "\"bloggerlink\": \"https://blog.naver.com/sumika1207\",\n",
      "\"postdate\": \"20220318\"\n",
      "\n",
      "}\n",
      "]\n",
      "}\n",
      "\n"
     ]
    }
   ],
   "source": [
    "import os\n",
    "import sys\n",
    "import urllib.request\n",
    "client_id = 'qifMbSmo_iuDeai3dkwT'\n",
    "client_secret = 'qybg03_lrU'\n",
    "data = input('검색단어>> ')\n",
    "encText = urllib.parse.quote(data)\n",
    "url = \"https://openapi.naver.com/v1/search/blog?query=\" + encText # json 결과\n",
    "# url = \"https://openapi.naver.com/v1/search/blog.xml?query=\" + encText # xml 결과\n",
    "request = urllib.request.Request(url)\n",
    "request.add_header(\"X-Naver-Client-Id\",client_id)\n",
    "request.add_header(\"X-Naver-Client-Secret\",client_secret)\n",
    "response = urllib.request.urlopen(request)\n",
    "rescode = response.getcode()\n",
    "if(rescode==200):\n",
    "    response_body = response.read()\n",
    "    print(type(response_body), '------')\n",
    "    print(response_body.decode('utf-8'))\n",
    "else:\n",
    "    print(\"Error Code:\" + rescode)"
   ]
  },
  {
   "cell_type": "code",
   "execution_count": null,
   "metadata": {},
   "outputs": [],
   "source": []
  },
  {
   "cell_type": "code",
   "execution_count": 13,
   "metadata": {},
   "outputs": [
    {
     "data": {
      "text/plain": [
       "str"
      ]
     },
     "execution_count": 13,
     "metadata": {},
     "output_type": "execute_result"
    }
   ],
   "source": [
    "result.encoding = None\n",
    "result2 = result.text\n",
    "type(result2)"
   ]
  },
  {
   "cell_type": "code",
   "execution_count": 14,
   "metadata": {},
   "outputs": [
    {
     "data": {
      "text/plain": [
       "'UTF-8'"
      ]
     },
     "execution_count": 14,
     "metadata": {},
     "output_type": "execute_result"
    }
   ],
   "source": [
    "import sys\n",
    "sys.stdin.encoding"
   ]
  },
  {
   "cell_type": "code",
   "execution_count": 15,
   "metadata": {},
   "outputs": [],
   "source": [
    "data = '용산맛집'"
   ]
  },
  {
   "cell_type": "code",
   "execution_count": 17,
   "metadata": {},
   "outputs": [
    {
     "data": {
      "text/plain": [
       "b'\\xec\\x9a\\xa9\\xec\\x82\\xb0\\xeb\\xa7\\x9b\\xec\\xa7\\x91'"
      ]
     },
     "execution_count": 17,
     "metadata": {},
     "output_type": "execute_result"
    }
   ],
   "source": [
    "data2 = data.encode('utf-8')\n",
    "data2"
   ]
  },
  {
   "cell_type": "code",
   "execution_count": 36,
   "metadata": {},
   "outputs": [
    {
     "name": "stdout",
     "output_type": "stream",
     "text": [
      "values= \"감\", name= \"HANGUL SYLLABLE GAM\", value2=\"감\"\n"
     ]
    }
   ],
   "source": [
    "def unicode_test(value):\n",
    "    import unicodedata\n",
    "    name = unicodedata.name(value)\n",
    "    value2 = unicodedata.lookup(name)\n",
    "    print('values= \"%s\", name= \"%s\", value2=\"%s\"' %(value, name, value2) )\n",
    "unicode_test('감')"
   ]
  },
  {
   "cell_type": "code",
   "execution_count": 37,
   "metadata": {},
   "outputs": [
    {
     "data": {
      "text/plain": [
       "b'\\xea\\xb0\\x90\\xec\\x9e\\x90'"
      ]
     },
     "execution_count": 37,
     "metadata": {},
     "output_type": "execute_result"
    }
   ],
   "source": [
    "data3 = '감자'\n",
    "data4 = data3.encode('utf-8')\n",
    "data4"
   ]
  },
  {
   "cell_type": "code",
   "execution_count": 38,
   "metadata": {},
   "outputs": [
    {
     "data": {
      "text/plain": [
       "'감자'"
      ]
     },
     "execution_count": 38,
     "metadata": {},
     "output_type": "execute_result"
    }
   ],
   "source": [
    "data5 = data4.decode('utf-8')\n",
    "data5"
   ]
  },
  {
   "cell_type": "code",
   "execution_count": null,
   "metadata": {},
   "outputs": [],
   "source": []
  }
 ],
 "metadata": {
  "kernelspec": {
   "display_name": "Python 3 (ipykernel)",
   "language": "python",
   "name": "python3"
  },
  "language_info": {
   "codemirror_mode": {
    "name": "ipython",
    "version": 3
   },
   "file_extension": ".py",
   "mimetype": "text/x-python",
   "name": "python",
   "nbconvert_exporter": "python",
   "pygments_lexer": "ipython3",
   "version": "3.7.11"
  }
 },
 "nbformat": 4,
 "nbformat_minor": 4
}
