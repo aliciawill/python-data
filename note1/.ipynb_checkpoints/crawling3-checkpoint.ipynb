{
 "cells": [
  {
   "cell_type": "code",
   "execution_count": 1,
   "metadata": {},
   "outputs": [],
   "source": [
    "from urllib import request"
   ]
  },
  {
   "cell_type": "code",
   "execution_count": 2,
   "metadata": {},
   "outputs": [],
   "source": [
    "from bs4 import BeautifulSoup"
   ]
  },
  {
   "cell_type": "code",
   "execution_count": 3,
   "metadata": {},
   "outputs": [],
   "source": [
    "# !pip install bs4 #cmd에서 이 명령문을 실행!!"
   ]
  },
  {
   "cell_type": "code",
   "execution_count": 4,
   "metadata": {},
   "outputs": [
    {
     "name": "stdout",
     "output_type": "stream",
     "text": [
      "crawling1.ipynb crawling3.ipynb test02.ipynb\r\n",
      "crawling2.ipynb test01.ipynb    test3.ipynb\r\n"
     ]
    }
   ],
   "source": [
    "!ls #!dir"
   ]
  },
  {
   "cell_type": "code",
   "execution_count": 5,
   "metadata": {},
   "outputs": [
    {
     "data": {
      "text/plain": [
       "<http.client.HTTPResponse at 0x7fe4dc830e50>"
      ]
     },
     "execution_count": 5,
     "metadata": {},
     "output_type": "execute_result"
    }
   ],
   "source": [
    "con = request.urlopen('https://www.hottracks.co.kr/ht/biz/record/recordCategoryMain?ctgrId=00030000')\n",
    "con \n",
    "#http response(header + body)\n",
    "#header : http result status code\n",
    "#         (ok: 200, not found: 404, error: 500, permission: 403)"
   ]
  },
  {
   "cell_type": "code",
   "execution_count": 6,
   "metadata": {},
   "outputs": [
    {
     "data": {
      "text/plain": [
       "200"
      ]
     },
     "execution_count": 6,
     "metadata": {},
     "output_type": "execute_result"
    }
   ],
   "source": [
    "con.status #status code"
   ]
  },
  {
   "cell_type": "code",
   "execution_count": 7,
   "metadata": {},
   "outputs": [],
   "source": [
    "doc = BeautifulSoup(con, 'html.parser')\n",
    "#doc"
   ]
  },
  {
   "cell_type": "code",
   "execution_count": 8,
   "metadata": {},
   "outputs": [
    {
     "data": {
      "text/plain": [
       "[<li><a class=\"all\" href=\"javascript:;\">전체보기</a></li>,\n",
       " <li><a href=\"/ht/biz/record/recordCategoryMain?ctgrId=00030000\" style=\"color:#DA2128;\">가요 </a></li>,\n",
       " <li><a href=\"/ht/biz/record/recordCategoryMain?ctgrId=00030001\">랩/힙합 </a></li>,\n",
       " <li><a href=\"/ht/biz/record/recordCategoryMain?ctgrId=00030002\">락 </a></li>,\n",
       " <li><a href=\"/ht/biz/record/recordCategoryMain?ctgrId=00030003\">재즈/뉴에이지/일렉트로닉 </a></li>,\n",
       " <li><a href=\"/ht/biz/record/recordCategoryMain?ctgrId=00030004\">OST/뮤지컬 </a></li>,\n",
       " <li><a href=\"/ht/biz/record/recordCategoryMain?ctgrId=00030005\">화보집/MD상품 </a></li>,\n",
       " <li><a href=\"/ht/biz/record/recordCategoryMain?ctgrId=00030006\">성인가요 </a></li>,\n",
       " <li><a href=\"/ht/biz/record/recordCategoryMain?ctgrId=00030007\">시낭송/명상 </a></li>,\n",
       " <li><a href=\"/ht/biz/record/recordCategoryMain?ctgrId=00030008\">모음집 </a></li>,\n",
       " <li><a href=\"/ht/biz/record/recordCategoryMain?ctgrId=00030010\">캐롤 </a></li>]"
      ]
     },
     "execution_count": 8,
     "metadata": {},
     "output_type": "execute_result"
    }
   ],
   "source": [
    "a_tag_list = doc.select('.category_list li')\n",
    "a_tag_list"
   ]
  },
  {
   "cell_type": "code",
   "execution_count": 9,
   "metadata": {},
   "outputs": [
    {
     "data": {
      "text/plain": [
       "list"
      ]
     },
     "execution_count": 9,
     "metadata": {},
     "output_type": "execute_result"
    }
   ],
   "source": [
    "type(a_tag_list)"
   ]
  },
  {
   "cell_type": "code",
   "execution_count": 10,
   "metadata": {},
   "outputs": [
    {
     "data": {
      "text/plain": [
       "11"
      ]
     },
     "execution_count": 10,
     "metadata": {},
     "output_type": "execute_result"
    }
   ],
   "source": [
    "#리스트의 갯수\n",
    "len(a_tag_list)"
   ]
  },
  {
   "cell_type": "code",
   "execution_count": 11,
   "metadata": {},
   "outputs": [
    {
     "data": {
      "text/plain": [
       "<li><a class=\"all\" href=\"javascript:;\">전체보기</a></li>"
      ]
     },
     "execution_count": 11,
     "metadata": {},
     "output_type": "execute_result"
    }
   ],
   "source": [
    "a_tag_list[0]"
   ]
  },
  {
   "cell_type": "code",
   "execution_count": 12,
   "metadata": {},
   "outputs": [
    {
     "data": {
      "text/plain": [
       "'전체보기'"
      ]
     },
     "execution_count": 12,
     "metadata": {},
     "output_type": "execute_result"
    }
   ],
   "source": [
    "a_tag_list[0].text"
   ]
  },
  {
   "cell_type": "code",
   "execution_count": 13,
   "metadata": {},
   "outputs": [
    {
     "name": "stdout",
     "output_type": "stream",
     "text": [
      "전체보기\n",
      "가요 \n",
      "랩/힙합 \n",
      "락 \n",
      "재즈/뉴에이지/일렉트로닉 \n",
      "OST/뮤지컬 \n",
      "화보집/MD상품 \n",
      "성인가요 \n",
      "시낭송/명상 \n",
      "모음집 \n",
      "캐롤 \n"
     ]
    }
   ],
   "source": [
    "for one in a_tag_list:\n",
    "    print(one.text)"
   ]
  },
  {
   "cell_type": "code",
   "execution_count": 14,
   "metadata": {},
   "outputs": [],
   "source": [
    "anav_list = []"
   ]
  },
  {
   "cell_type": "code",
   "execution_count": 15,
   "metadata": {},
   "outputs": [],
   "source": [
    "for one in a_tag_list:\n",
    "    anav_list.append(one.text)"
   ]
  },
  {
   "cell_type": "code",
   "execution_count": 16,
   "metadata": {},
   "outputs": [
    {
     "data": {
      "text/plain": [
       "['전체보기',\n",
       " '가요 ',\n",
       " '랩/힙합 ',\n",
       " '락 ',\n",
       " '재즈/뉴에이지/일렉트로닉 ',\n",
       " 'OST/뮤지컬 ',\n",
       " '화보집/MD상품 ',\n",
       " '성인가요 ',\n",
       " '시낭송/명상 ',\n",
       " '모음집 ',\n",
       " '캐롤 ']"
      ]
     },
     "execution_count": 16,
     "metadata": {},
     "output_type": "execute_result"
    }
   ],
   "source": [
    "anav_list"
   ]
  },
  {
   "cell_type": "code",
   "execution_count": 17,
   "metadata": {},
   "outputs": [
    {
     "data": {
      "text/plain": [
       "[<p class=\"tit\">SAVAGE [미니 1집] [SYNK DIVE VER]</p>,\n",
       " <p class=\"tit\">ODDINARY [MINI ALBUM] [SCANNING/ MASK OFF VER] [일반반]</p>,\n",
       " <p class=\"tit\">2021 WINTER SMTOWN: SMCU EXPRESS [RED VELVET]</p>,\n",
       " <p class=\"tit\">2021 WINTER SMTOWN: SMCU EXPRESS [NCT - DAYTIME PASS]</p>,\n",
       " <p class=\"tit\">2021 WINTER SMTOWN: SMCU EXPRESS [NCT - NIGHTTIME PASS]</p>]"
      ]
     },
     "execution_count": 17,
     "metadata": {},
     "output_type": "execute_result"
    }
   ],
   "source": [
    "p_tag_list = doc.select('p.tit')\n",
    "p_tag_list[:5] #[p태그객체주소, p태그객체주소, p태그객체주소, p태그객체주소] : 주소대신에 __str__함수가 오버라이드"
   ]
  },
  {
   "cell_type": "code",
   "execution_count": 18,
   "metadata": {},
   "outputs": [
    {
     "data": {
      "text/plain": [
       "['SAVAGE [미니 1집] [SYNK DIVE VER]',\n",
       " 'ODDINARY [MINI ALBUM] [SCANNING/ MASK OFF VER] [일반반]',\n",
       " '2021 WINTER SMTOWN: SMCU EXPRESS [RED VELVET]',\n",
       " '2021 WINTER SMTOWN: SMCU EXPRESS [NCT - DAYTIME PASS]',\n",
       " '2021 WINTER SMTOWN: SMCU EXPRESS [NCT - NIGHTTIME PASS]',\n",
       " '2021 WINTER SMTOWN: SMCU EXPRESS [SMTOWN VER]',\n",
       " '2021 WINTER SMTOWN: SMCU EXPRESS [AESPA]',\n",
       " 'YOUNG-LUV.COM [미니 2집] [2종 중 랜덤 1종]',\n",
       " 'AN ODE [정규 3집]',\n",
       " 'SMILEY [미니 1집]',\n",
       " 'GLITCH MODE [정규 2집] [PHOTOBOOK VER]',\n",
       " 'HELLO FUTURE [정규 1집] [리패키지] [PHOTO BOOK VER]',\n",
       " '혼돈의 장: FIGHT OR ESCAPE [TOGETHER VER]',\n",
       " 'YOUNG-LUV.COM [미니 2집] [JEWEL CASE VER] [6종 중 랜덤 1종]',\n",
       " '헹가래(HENG:GARAE) [미니 7집]',\n",
       " '혼돈의 장: FIGHT OR ESCAPE',\n",
       " 'SAVAGE [미니 1집] [HALLUCINATION QUEST VER]',\n",
       " 'REAL LOVE [정규 2집] [2종 세트]',\n",
       " 'ATTACCA [미니 9집] [CARAT VER]',\n",
       " 'FATAL LOVE [정규 3집]',\n",
       " '콸콸콸 [싱글 3집]',\n",
       " 'GREY SUIT [미니 2집] [PHOTOBOOK VER]',\n",
       " 'GLITCH MODE [정규 2집] [DIGIPACK VER]',\n",
       " 'MEMEM [미니 3집] [M VER]',\n",
       " 'MEMEM [미니 3집] [2종 세트]',\n",
       " 'MEMEM [미니 3집] [MEME VER]',\n",
       " 'mis [EP] [한정반]',\n",
       " '鳩集 C.J 2002 [정규 9집] [140G 화이트 컬러 LP]',\n",
       " '8집 THE SHIN SEUNG HUN [180G CLEAR LP]',\n",
       " '4집 INVITATION [180G CLEAR RED LP]',\n",
       " '같은자리 [정규 1집]',\n",
       " 'END THEORY FINAL EDITION [정규 6집] [리패키지]',\n",
       " 'RAD',\n",
       " 'DIMENSION [미니 3집] [키트]',\n",
       " '건강하세모 [EP]',\n",
       " 'DAYDREAM [정규 1집] [BEFORE THE DREAM VER]',\n",
       " 'DAYDREAM [정규 1집] [AFTER THE DREAM VER]',\n",
       " 'DAYDREAM [정규 1집] [IN THE DREAM VER]',\n",
       " 'DAYDREAM [정규 1집] [3종 세트]',\n",
       " 'THANK YOU [미니 6집]',\n",
       " 'REAL LOVE [정규 2집] [FLORAL VER]',\n",
       " 'REAL LOVE [정규 2집] [FRUITY VER]',\n",
       " 'REAL LOVE [정규 2집] [2종 세트]',\n",
       " 'COME AWAY WITH ME',\n",
       " 'LILY, LILY [EP]',\n",
       " '사계(SEASONS) [EP]',\n",
       " '시샘달 PART.1 [정규 1집]',\n",
       " '사람 마음',\n",
       " 'ABOUT [EP]',\n",
       " 'THE REVE FESTIVAL 2022: FEEL MY RHYTHM [ORGEL VER] [미니 CD]',\n",
       " 'THE REVE FESTIVAL 2022: FEEL MY RHYTHM [REVE VER]',\n",
       " 'HISTORY OF KINGDOM: PART Ⅳ. DANN [2종 세트]',\n",
       " 'HISTORY OF KINGDOM: PART Ⅳ. DANN [SHADOW VER]',\n",
       " 'HISTORY OF KINGDOM: PART Ⅳ. DANN [GLORY VER]',\n",
       " 'PART.1: FIRST LOVE [미니 4집] [LOVE WITH RUI VER]',\n",
       " 'PART.1: FIRST LOVE [미니 4집] [3종 세트]',\n",
       " 'PART.1: FIRST LOVE [미니 4집] [FALLING IN LOVE VER]',\n",
       " 'PART.1: FIRST LOVE [미니 4집]',\n",
       " 'DIMENSION [미니 3집] [2종 세트]',\n",
       " 'DIMENSION [미니 3집] [I VER]',\n",
       " 'DIMENSION [미니 3집] [O VER]',\n",
       " 'KOREAN BREATH: 만파 [萬波]',\n",
       " 'NEEDLE & BUBBLE [THE BEST ALBUM]',\n",
       " 'GLITCH MODE [정규 2집] [PHOTOBOOK VER]',\n",
       " '容: FACE [미니 1집] [2종 세트]',\n",
       " '容: FACE [미니 1집] [FACE VER]',\n",
       " 'LOVE IN BLOOM',\n",
       " '容: FACE [미니 1집] [PERSONA VER]',\n",
       " 'CONSPIRACY [베이비 핑크 180G LP]',\n",
       " 'ALWAYS HERE',\n",
       " 'PLAY GAME: AWAKE [PLATFORM ALBUM VER] [싱글 1집]',\n",
       " 'I NEVER DIE [정규 1집] [3종 중 랜덤 1종]',\n",
       " 'I NEVER DIE [정규 1집] [3종 세트]',\n",
       " 'BEST [180G LP]',\n",
       " 'GO! BOOGIE! [180G LP]',\n",
       " 'BEST 20 [USB]',\n",
       " 'BEST 20',\n",
       " 'REVE [3RD DESIRE] [BIBBIDI VER]',\n",
       " 'REVE [3RD DESIRE] [BOBBIDI VER]',\n",
       " 'REFUGE [미니 2집] [2종 세트]',\n",
       " 'REVE [3RD DESIRE] [키트]',\n",
       " 'REFUGE [미니 2집] [2종 중 랜덤 1종]',\n",
       " '공중부양 [EP]',\n",
       " 'FIRST LETTER [미니 1집]',\n",
       " 'Play Game: AWAKE [싱글 1집] [2종 세트]',\n",
       " 'Play Game: AWAKE [싱글 1집] [Real Self VER]',\n",
       " 'Play Game: AWAKE [싱글 1집] [Myself VER]',\n",
       " 'CHERRY WISH [미니 2집] [2종 중 랜덤 1종]',\n",
       " 'CHERRY WISH [미니 2집] [2종 세트]',\n",
       " 'YELLOW PUNCH [미니 4집]',\n",
       " '스테레오힛트총결산: 참사랑/빗속의 연가 [180G 그린 LP]',\n",
       " 'THE ROAD: WINTER FOR SPRING [스페셜 싱글] [C VER]',\n",
       " 'THE ROAD: WINTER FOR SPRING [스페셜 싱글] [B VER]',\n",
       " 'THE ROAD: WINTER FOR SPRING [스페셜 싱글] [A VER]',\n",
       " 'NEW START [미니 1집]',\n",
       " 'YOUNG-LUV.COM [미니 2집] [JEWEL CASE VER] [6종 중 랜덤 1종]',\n",
       " '바람같은 날을 살다가 [180G 퍼플 LP]',\n",
       " 'AD MARE [싱글 1집] [LIGHT VER]',\n",
       " '2 [EP ALBUM]',\n",
       " '상실의 시대',\n",
       " '마음은 따끔',\n",
       " '사람이 사람을 좋아하는 건 [소품집]',\n",
       " '혼자 있는 밤 [정규 1집]',\n",
       " 'ODDINARY [MINI ALBUM] [SCANNING/ MASK OFF VER] [일반반]',\n",
       " 'THE COLLECTIVE SOUL AND UNCONSCIOUS: CHAPTER ONE [미니 2집] [SOUL VER]',\n",
       " 'THE COLLECTIVE SOUL AND UNCONSCIOUS: CHAPTER ONE [미니 2집] [UNCONSCIOUS VER]',\n",
       " 'DANCE WITH GOD [미니 2집]',\n",
       " 'POST POST POST!',\n",
       " '수몰 [140G 투명 브릴리언트 블루 LP]',\n",
       " 'NATURAL [LP]',\n",
       " 'JTRAP [미니 1집]',\n",
       " 'YEARBOOK 2021',\n",
       " 'YOUNG-LUV.COM [미니 2집] [2종 세트]',\n",
       " 'YOUNG-LUV.COM [미니 2집] [2종 중 랜덤 1종]',\n",
       " 'IT`S ME, IT`S WE [미니 1집] [DIGIPACK VER]',\n",
       " 'IT`S ME, IT`S WE [미니 1집]',\n",
       " 'IT`S ME, IT`S WE [미니 1집] [2종 세트]',\n",
       " 'LOVENDER [미니 1집]',\n",
       " 'BORN (本) [정규 6집]',\n",
       " 'BE TOGETHER [정규 3집]']"
      ]
     },
     "execution_count": 18,
     "metadata": {},
     "output_type": "execute_result"
    }
   ],
   "source": [
    "tit_collect = []\n",
    "for one in p_tag_list:\n",
    "    tit_collect.append(one.text)\n",
    "tit_collect"
   ]
  },
  {
   "cell_type": "code",
   "execution_count": 19,
   "metadata": {},
   "outputs": [
    {
     "data": {
      "text/plain": [
       "[<span class=\"percent\">19%</span>,\n",
       " <span class=\"percent\">19%</span>,\n",
       " <span class=\"percent\">19%</span>,\n",
       " <span class=\"percent\">19%</span>,\n",
       " <span class=\"percent\">19%</span>]"
      ]
     },
     "execution_count": 19,
     "metadata": {},
     "output_type": "execute_result"
    }
   ],
   "source": [
    "percent_list = doc.select('span.percent')\n",
    "percent_list[:5] #0~4"
   ]
  },
  {
   "cell_type": "code",
   "execution_count": 20,
   "metadata": {},
   "outputs": [
    {
     "data": {
      "text/plain": [
       "['19%',\n",
       " '19%',\n",
       " '19%',\n",
       " '19%',\n",
       " '19%',\n",
       " '19%',\n",
       " '19%',\n",
       " '20%',\n",
       " '19%',\n",
       " '19%',\n",
       " '19%',\n",
       " '19%',\n",
       " '19%',\n",
       " '18%',\n",
       " '17%',\n",
       " '19%',\n",
       " '19%',\n",
       " '20%',\n",
       " '19%',\n",
       " '20%',\n",
       " '18%',\n",
       " '19%',\n",
       " '19%',\n",
       " '19%',\n",
       " '19%',\n",
       " '19%',\n",
       " '19%',\n",
       " '19%',\n",
       " '20%',\n",
       " '19%',\n",
       " '19%',\n",
       " '19%',\n",
       " '17%',\n",
       " '20%',\n",
       " '20%',\n",
       " '20%',\n",
       " '20%',\n",
       " '17%',\n",
       " '20%',\n",
       " '20%',\n",
       " '20%',\n",
       " '19%',\n",
       " '19%',\n",
       " '19%',\n",
       " '19%',\n",
       " '19%',\n",
       " '19%',\n",
       " '20%',\n",
       " '20%',\n",
       " '19%',\n",
       " '19%',\n",
       " '19%',\n",
       " '19%',\n",
       " '19%',\n",
       " '19%',\n",
       " '19%',\n",
       " '19%',\n",
       " '19%',\n",
       " '19%',\n",
       " '18%',\n",
       " '19%',\n",
       " '19%',\n",
       " '19%',\n",
       " '19%',\n",
       " '20%',\n",
       " '19%',\n",
       " '19%',\n",
       " '20%',\n",
       " '20%',\n",
       " '19%',\n",
       " '19%',\n",
       " '19%',\n",
       " '19%',\n",
       " '20%',\n",
       " '19%',\n",
       " '19%',\n",
       " '20%',\n",
       " '20%',\n",
       " '20%',\n",
       " '19%',\n",
       " '18%',\n",
       " '19%',\n",
       " '19%',\n",
       " '19%',\n",
       " '20%',\n",
       " '20%',\n",
       " '20%',\n",
       " '19%',\n",
       " '19%',\n",
       " '19%',\n",
       " '17%',\n",
       " '18%',\n",
       " '12%',\n",
       " '20%',\n",
       " '19%',\n",
       " '19%',\n",
       " '19%',\n",
       " '19%',\n",
       " '19%',\n",
       " '19%',\n",
       " '19%',\n",
       " '19%',\n",
       " '19%',\n",
       " '17%',\n",
       " '19%',\n",
       " '19%',\n",
       " '19%',\n",
       " '19%',\n",
       " '20%',\n",
       " '20%',\n",
       " '18%',\n",
       " '19%',\n",
       " '19%',\n",
       " '19%',\n",
       " '17%',\n",
       " '19%']"
      ]
     },
     "execution_count": 20,
     "metadata": {},
     "output_type": "execute_result"
    }
   ],
   "source": [
    "percent_collect = []\n",
    "for one in percent_list:\n",
    "    percent_collect.append(one.text)\n",
    "percent_collect"
   ]
  },
  {
   "cell_type": "code",
   "execution_count": 21,
   "metadata": {},
   "outputs": [
    {
     "data": {
      "text/plain": [
       "[<p class=\"brand\">AESPA(에스파)</p>,\n",
       " <p class=\"brand\">STRAY KIDS(스트레이 키즈)</p>,\n",
       " <p class=\"brand\">RED VELVET(레드벨벳)</p>,\n",
       " <p class=\"brand\">NCT(엔시티)</p>,\n",
       " <p class=\"brand\">NCT(엔시티)</p>]"
      ]
     },
     "execution_count": 21,
     "metadata": {},
     "output_type": "execute_result"
    }
   ],
   "source": [
    "brand_list = doc.select('p.brand')\n",
    "brand_list[:5]"
   ]
  },
  {
   "cell_type": "code",
   "execution_count": 22,
   "metadata": {},
   "outputs": [
    {
     "data": {
      "text/plain": [
       "['AESPA(에스파)',\n",
       " 'STRAY KIDS(스트레이 키즈)',\n",
       " 'RED VELVET(레드벨벳)',\n",
       " 'NCT(엔시티)',\n",
       " 'NCT(엔시티)',\n",
       " 'VARIOUS',\n",
       " 'AESPA(에스파)',\n",
       " 'STAYC(스테이씨)',\n",
       " 'SEVENTEEN(세븐틴)',\n",
       " 'YENA(최예나)',\n",
       " 'NCT DREAM(엔시티 드림)',\n",
       " 'NCT DREAM(엔시티 드림)',\n",
       " 'TXT(투모로우바이투게더)',\n",
       " 'STAYC(스테이씨)',\n",
       " 'SEVENTEEN(세븐틴)',\n",
       " 'TXT(투모로우바이투게더)',\n",
       " 'AESPA(에스파)',\n",
       " 'OH MY GIRL(오마이걸)',\n",
       " 'SEVENTEEN(세븐틴)',\n",
       " 'MONSTA X(몬스타엑스)',\n",
       " '미니마니',\n",
       " 'SUHO(수호)',\n",
       " 'NCT DREAM(엔시티 드림)',\n",
       " 'PURPLE KISS(퍼플키스)',\n",
       " 'PURPLE KISS(퍼플키스)',\n",
       " 'PURPLE KISS(퍼플키스)',\n",
       " 'JAEMAN(재만)',\n",
       " 'IM CHANGJUNG(임창정)',\n",
       " 'SHIN SEUNGHUN(신승훈)',\n",
       " 'UHM JUNG HWA(엄정화)',\n",
       " 'LEE SEOKHOON(이석훈)',\n",
       " 'YOUNHA(윤하)',\n",
       " 'RAD MUSEUM(라드뮤지엄)',\n",
       " '김준수',\n",
       " '임세모',\n",
       " 'HIGHLIGHT(하이라이트)',\n",
       " 'HIGHLIGHT(하이라이트)',\n",
       " 'HIGHLIGHT(하이라이트)',\n",
       " 'HIGHLIGHT(하이라이트)',\n",
       " 'BRAVE GIRLS(브레이브걸스)',\n",
       " 'OH MY GIRL(오마이걸)',\n",
       " 'OH MY GIRL(오마이걸)',\n",
       " 'OH MY GIRL(오마이걸)',\n",
       " '박수진',\n",
       " '권여름',\n",
       " '건우',\n",
       " 'SWAN(수안)',\n",
       " '김민성',\n",
       " 'ACHII(에이치)',\n",
       " 'RED VELVET(레드벨벳)',\n",
       " 'RED VELVET(레드벨벳)',\n",
       " 'KINGDOM(킹덤)',\n",
       " 'KINGDOM(킹덤)',\n",
       " 'KINGDOM(킹덤)',\n",
       " 'WEI(위아이)',\n",
       " 'WEI(위아이)',\n",
       " 'WEI(위아이)',\n",
       " 'WEI(위아이)',\n",
       " '김준수',\n",
       " '김준수',\n",
       " '김준수',\n",
       " 'SE:UM(세움)',\n",
       " 'NU`EST(뉴이스트)',\n",
       " 'NCT DREAM(엔시티 드림)',\n",
       " 'SOLAR(솔라)',\n",
       " 'SOLAR(솔라)',\n",
       " 'ILY:1(아일리원)',\n",
       " 'SOLAR(솔라)',\n",
       " 'COMMON GROUND(커먼그라운드)',\n",
       " 'SHINJI(신지)',\n",
       " 'WEEEKLY(위클리)',\n",
       " '(G)I-DLE((여자)아이들)',\n",
       " '(G)I-DLE((여자)아이들)',\n",
       " '이정선',\n",
       " 'TURTLES(거북이)',\n",
       " '박창근',\n",
       " '박창근',\n",
       " '김우석',\n",
       " '김우석',\n",
       " '문빈 & 산하(ASTRO)',\n",
       " '김우석',\n",
       " '문빈 & 산하(ASTRO)',\n",
       " '장기하',\n",
       " '솔지',\n",
       " 'WEEEKLY(위클리)',\n",
       " 'WEEEKLY(위클리)',\n",
       " 'WEEEKLY(위클리)',\n",
       " 'CHERRY BULLET(체리블렛)',\n",
       " 'CHERRY BULLET(체리블렛)',\n",
       " 'ROCKET PUNCH(로켓펀치)',\n",
       " '김상희',\n",
       " 'SUPER JUNIOR(슈퍼주니어)',\n",
       " 'SUPER JUNIOR(슈퍼주니어)',\n",
       " 'SUPER JUNIOR(슈퍼주니어)',\n",
       " 'BLACK LEVEL(블랙레벨)',\n",
       " 'STAYC(스테이씨)',\n",
       " 'JEONG MI JO(정미조)',\n",
       " 'NMIXX(엔믹스)',\n",
       " 'BANG YONGGUK(방용국)',\n",
       " '노르웨이 숲',\n",
       " '노르웨이 숲',\n",
       " '노르웨이 숲',\n",
       " '노르웨이 숲',\n",
       " 'STRAY KIDS(스트레이 키즈)',\n",
       " 'BILLLIE(빌리)',\n",
       " 'BILLLIE(빌리)',\n",
       " 'CRAXY(크랙시)',\n",
       " 'JOSEE(조제)',\n",
       " '천용성',\n",
       " 'G.SOUL(지소울)',\n",
       " 'JWIIVER(제이위버)',\n",
       " '015B(공일오비)',\n",
       " 'STAYC(스테이씨)',\n",
       " 'STAYC(스테이씨)',\n",
       " 'TEMPEST(템페스트)',\n",
       " 'TEMPEST(템페스트)',\n",
       " 'TEMPEST(템페스트)',\n",
       " '한승윤',\n",
       " 'BIG MAMA(빅마마)',\n",
       " 'BTOB(비투비)']"
      ]
     },
     "execution_count": 22,
     "metadata": {},
     "output_type": "execute_result"
    }
   ],
   "source": [
    "brand_collect = []\n",
    "for x in brand_list:\n",
    "    brand_collect.append(x.text)\n",
    "brand_collect"
   ]
  },
  {
   "cell_type": "code",
   "execution_count": 23,
   "metadata": {},
   "outputs": [
    {
     "data": {
      "text/plain": [
       "[<span class=\"percent\">19%</span>,\n",
       " <span>16,300</span>,\n",
       " <span class=\"discount\">20,000</span>,\n",
       " <span class=\"percent\">19%</span>,\n",
       " <span>16,300</span>,\n",
       " <span class=\"discount\">20,000</span>]"
      ]
     },
     "execution_count": 23,
     "metadata": {},
     "output_type": "execute_result"
    }
   ],
   "source": [
    "# p.price.font_t > span:nth-child(2)\n",
    "price_list = doc.select('.price > span')\n",
    "price_list[:6] #1, 4, 7, 10"
   ]
  },
  {
   "cell_type": "code",
   "execution_count": 24,
   "metadata": {},
   "outputs": [],
   "source": [
    "price_collect = []\n",
    "# for i in range(1, len(price_list), 3):\n",
    "#     print(price_list[i])"
   ]
  },
  {
   "cell_type": "code",
   "execution_count": 25,
   "metadata": {},
   "outputs": [
    {
     "data": {
      "text/plain": [
       "['16,300',\n",
       " '16,300',\n",
       " '13,400',\n",
       " '13,400',\n",
       " '13,400',\n",
       " '31,200',\n",
       " '13,400',\n",
       " '19,300',\n",
       " '17,100',\n",
       " '16,300',\n",
       " '17,800',\n",
       " '17,800',\n",
       " '11,000',\n",
       " '11,900',\n",
       " '14,900',\n",
       " '17,800',\n",
       " '17,800',\n",
       " '38,600',\n",
       " '8,900',\n",
       " '19,300',\n",
       " '11,900',\n",
       " '16,300',\n",
       " '11,000',\n",
       " '17,800',\n",
       " '35,600',\n",
       " '17,800',\n",
       " '13,400',\n",
       " '44,600',\n",
       " '46,000',\n",
       " '25,000',\n",
       " '31,000',\n",
       " '20,000',\n",
       " '27,000',\n",
       " '18,000',\n",
       " '24,000',\n",
       " '24,000',\n",
       " '24,000',\n",
       " '72,000',\n",
       " '18,000',\n",
       " '24,000',\n",
       " '24,000',\n",
       " '48,000',\n",
       " '22,000',\n",
       " '16,500',\n",
       " '16,500',\n",
       " '17,500',\n",
       " '22,000',\n",
       " '12,500',\n",
       " '24,000',\n",
       " '24,000',\n",
       " '40,000',\n",
       " '20,000',\n",
       " '20,000',\n",
       " '22,000',\n",
       " '66,000',\n",
       " '22,000',\n",
       " '22,000',\n",
       " '44,000',\n",
       " '22,000',\n",
       " '22,000',\n",
       " '17,500',\n",
       " '23,000',\n",
       " '22,000',\n",
       " '44,000',\n",
       " '22,000',\n",
       " '16,500',\n",
       " '22,000',\n",
       " '55,000',\n",
       " '19,500',\n",
       " '13,000',\n",
       " '23,000',\n",
       " '69,000',\n",
       " '55,000',\n",
       " '80,000',\n",
       " '19,300',\n",
       " '17,800',\n",
       " '17,800',\n",
       " '38,600',\n",
       " '19,300',\n",
       " '19,300',\n",
       " '16,300',\n",
       " '11,900',\n",
       " '26,800',\n",
       " '13,400',\n",
       " '13,400',\n",
       " '15,600',\n",
       " '31,200',\n",
       " '15,600',\n",
       " '19%',\n",
       " '19%',\n",
       " '19%',\n",
       " '17%',\n",
       " '18%',\n",
       " '12%',\n",
       " '20%',\n",
       " '19%',\n",
       " '19%',\n",
       " '19%',\n",
       " '19%',\n",
       " '19%',\n",
       " '19%',\n",
       " '19%',\n",
       " '19%',\n",
       " '19%',\n",
       " '17%',\n",
       " '19%',\n",
       " '19%',\n",
       " '19%',\n",
       " '19%',\n",
       " '20%',\n",
       " '20%',\n",
       " '18%',\n",
       " '19%',\n",
       " '19%',\n",
       " '19%',\n",
       " '17%',\n",
       " '19%']"
      ]
     },
     "execution_count": 25,
     "metadata": {},
     "output_type": "execute_result"
    }
   ],
   "source": [
    "for i in range(1, len(price_list), 3):\n",
    "    price_collect.append(price_list[i].text)\n",
    "price_collect"
   ]
  },
  {
   "cell_type": "code",
   "execution_count": 26,
   "metadata": {},
   "outputs": [
    {
     "data": {
      "text/plain": [
       "120"
      ]
     },
     "execution_count": 26,
     "metadata": {},
     "output_type": "execute_result"
    }
   ],
   "source": [
    "len(tit_collect)"
   ]
  },
  {
   "cell_type": "code",
   "execution_count": 27,
   "metadata": {},
   "outputs": [
    {
     "data": {
      "text/plain": [
       "116"
      ]
     },
     "execution_count": 27,
     "metadata": {},
     "output_type": "execute_result"
    }
   ],
   "source": [
    "len(percent_collect)"
   ]
  },
  {
   "cell_type": "code",
   "execution_count": 28,
   "metadata": {},
   "outputs": [
    {
     "data": {
      "text/plain": [
       "120"
      ]
     },
     "execution_count": 28,
     "metadata": {},
     "output_type": "execute_result"
    }
   ],
   "source": [
    "len(brand_collect)"
   ]
  },
  {
   "cell_type": "code",
   "execution_count": 29,
   "metadata": {},
   "outputs": [
    {
     "data": {
      "text/plain": [
       "117"
      ]
     },
     "execution_count": 29,
     "metadata": {},
     "output_type": "execute_result"
    }
   ],
   "source": [
    "len(price_collect)"
   ]
  },
  {
   "cell_type": "code",
   "execution_count": 30,
   "metadata": {},
   "outputs": [
    {
     "data": {
      "text/plain": [
       "120"
      ]
     },
     "execution_count": 30,
     "metadata": {},
     "output_type": "execute_result"
    }
   ],
   "source": [
    "percent_collect = percent_collect + [0,0,0,0]\n",
    "len(percent_collect)"
   ]
  },
  {
   "cell_type": "code",
   "execution_count": 31,
   "metadata": {},
   "outputs": [
    {
     "data": {
      "text/plain": [
       "120"
      ]
     },
     "execution_count": 31,
     "metadata": {},
     "output_type": "execute_result"
    }
   ],
   "source": [
    "price_collect = price_collect + [0,0,0]\n",
    "len(price_collect)"
   ]
  },
  {
   "cell_type": "code",
   "execution_count": 64,
   "metadata": {},
   "outputs": [],
   "source": [
    "hottracts_file = open('hottract4.csv', 'a', , encoding=\"UTF-8-sig\")\n",
    "#title1,brand1,percent1,price1"
   ]
  },
  {
   "cell_type": "code",
   "execution_count": 65,
   "metadata": {},
   "outputs": [],
   "source": [
    "# hottracts_file.write(tit_collect[0] + ',' +\n",
    "#                      brand_collect[0] + ',' +\n",
    "#                      percent_collect[0]  + ',' +\n",
    "#                      price_collect[0]\n",
    "#                      + '\\n')\n",
    "for i in range(120):\n",
    "    hottracts_file.write(tit_collect[i] + ',' +\n",
    "                         brand_collect[i] + ',' +\n",
    "                         str(percent_collect[i])  + ',' +\n",
    "                         str(price_collect[i]) + '\\n')"
   ]
  },
  {
   "cell_type": "code",
   "execution_count": 66,
   "metadata": {},
   "outputs": [],
   "source": [
    "hottracts_file.close()"
   ]
  },
  {
   "cell_type": "code",
   "execution_count": 67,
   "metadata": {},
   "outputs": [],
   "source": [
    "import pandas as pd"
   ]
  },
  {
   "cell_type": "code",
   "execution_count": 80,
   "metadata": {},
   "outputs": [
    {
     "data": {
      "text/html": [
       "<div>\n",
       "<style scoped>\n",
       "    .dataframe tbody tr th:only-of-type {\n",
       "        vertical-align: middle;\n",
       "    }\n",
       "\n",
       "    .dataframe tbody tr th {\n",
       "        vertical-align: top;\n",
       "    }\n",
       "\n",
       "    .dataframe thead th {\n",
       "        text-align: right;\n",
       "    }\n",
       "</style>\n",
       "<table border=\"1\" class=\"dataframe\">\n",
       "  <thead>\n",
       "    <tr style=\"text-align: right;\">\n",
       "      <th></th>\n",
       "      <th>title</th>\n",
       "      <th>brand</th>\n",
       "      <th>price</th>\n",
       "      <th>percent</th>\n",
       "    </tr>\n",
       "  </thead>\n",
       "  <tbody>\n",
       "    <tr>\n",
       "      <th>0</th>\n",
       "      <td>SAVAGE [미니 1집] [SYNK DIVE VER]</td>\n",
       "      <td>AESPA(에스파)</td>\n",
       "      <td>16300</td>\n",
       "      <td>19%</td>\n",
       "    </tr>\n",
       "    <tr>\n",
       "      <th>1</th>\n",
       "      <td>ODDINARY [MINI ALBUM] [SCANNING/ MASK OFF VER]...</td>\n",
       "      <td>STRAY KIDS(스트레이 키즈)</td>\n",
       "      <td>16300</td>\n",
       "      <td>19%</td>\n",
       "    </tr>\n",
       "    <tr>\n",
       "      <th>2</th>\n",
       "      <td>2021 WINTER SMTOWN: SMCU EXPRESS [RED VELVET]</td>\n",
       "      <td>RED VELVET(레드벨벳)</td>\n",
       "      <td>13400</td>\n",
       "      <td>19%</td>\n",
       "    </tr>\n",
       "    <tr>\n",
       "      <th>3</th>\n",
       "      <td>2021 WINTER SMTOWN: SMCU EXPRESS [NCT - DAYTIM...</td>\n",
       "      <td>NCT(엔시티)</td>\n",
       "      <td>13400</td>\n",
       "      <td>19%</td>\n",
       "    </tr>\n",
       "    <tr>\n",
       "      <th>4</th>\n",
       "      <td>2021 WINTER SMTOWN: SMCU EXPRESS [NCT - NIGHTT...</td>\n",
       "      <td>NCT(엔시티)</td>\n",
       "      <td>13400</td>\n",
       "      <td>19%</td>\n",
       "    </tr>\n",
       "    <tr>\n",
       "      <th>5</th>\n",
       "      <td>2021 WINTER SMTOWN: SMCU EXPRESS [SMTOWN VER]</td>\n",
       "      <td>VARIOUS</td>\n",
       "      <td>31200</td>\n",
       "      <td>19%</td>\n",
       "    </tr>\n",
       "    <tr>\n",
       "      <th>6</th>\n",
       "      <td>2021 WINTER SMTOWN: SMCU EXPRESS [AESPA]</td>\n",
       "      <td>AESPA(에스파)</td>\n",
       "      <td>13400</td>\n",
       "      <td>19%</td>\n",
       "    </tr>\n",
       "    <tr>\n",
       "      <th>7</th>\n",
       "      <td>YOUNG-LUV.COM [미니 2집] [2종 중 랜덤 1종]</td>\n",
       "      <td>STAYC(스테이씨)</td>\n",
       "      <td>19300</td>\n",
       "      <td>20%</td>\n",
       "    </tr>\n",
       "    <tr>\n",
       "      <th>8</th>\n",
       "      <td>AN ODE [정규 3집]</td>\n",
       "      <td>SEVENTEEN(세븐틴)</td>\n",
       "      <td>17100</td>\n",
       "      <td>19%</td>\n",
       "    </tr>\n",
       "    <tr>\n",
       "      <th>9</th>\n",
       "      <td>SMILEY [미니 1집]</td>\n",
       "      <td>YENA(최예나)</td>\n",
       "      <td>16300</td>\n",
       "      <td>19%</td>\n",
       "    </tr>\n",
       "    <tr>\n",
       "      <th>10</th>\n",
       "      <td>GLITCH MODE [정규 2집] [PHOTOBOOK VER]</td>\n",
       "      <td>NCT DREAM(엔시티 드림)</td>\n",
       "      <td>17800</td>\n",
       "      <td>19%</td>\n",
       "    </tr>\n",
       "    <tr>\n",
       "      <th>11</th>\n",
       "      <td>HELLO FUTURE [정규 1집] [리패키지] [PHOTO BOOK VER]</td>\n",
       "      <td>NCT DREAM(엔시티 드림)</td>\n",
       "      <td>17800</td>\n",
       "      <td>19%</td>\n",
       "    </tr>\n",
       "    <tr>\n",
       "      <th>12</th>\n",
       "      <td>혼돈의 장: FIGHT OR ESCAPE [TOGETHER VER]</td>\n",
       "      <td>TXT(투모로우바이투게더)</td>\n",
       "      <td>11000</td>\n",
       "      <td>19%</td>\n",
       "    </tr>\n",
       "    <tr>\n",
       "      <th>13</th>\n",
       "      <td>YOUNG-LUV.COM [미니 2집] [JEWEL CASE VER] [6종 중 랜...</td>\n",
       "      <td>STAYC(스테이씨)</td>\n",
       "      <td>11900</td>\n",
       "      <td>18%</td>\n",
       "    </tr>\n",
       "    <tr>\n",
       "      <th>14</th>\n",
       "      <td>헹가래(HENG:GARAE) [미니 7집]</td>\n",
       "      <td>SEVENTEEN(세븐틴)</td>\n",
       "      <td>14900</td>\n",
       "      <td>17%</td>\n",
       "    </tr>\n",
       "    <tr>\n",
       "      <th>15</th>\n",
       "      <td>혼돈의 장: FIGHT OR ESCAPE</td>\n",
       "      <td>TXT(투모로우바이투게더)</td>\n",
       "      <td>17800</td>\n",
       "      <td>19%</td>\n",
       "    </tr>\n",
       "    <tr>\n",
       "      <th>16</th>\n",
       "      <td>SAVAGE [미니 1집] [HALLUCINATION QUEST VER]</td>\n",
       "      <td>AESPA(에스파)</td>\n",
       "      <td>17800</td>\n",
       "      <td>19%</td>\n",
       "    </tr>\n",
       "    <tr>\n",
       "      <th>17</th>\n",
       "      <td>REAL LOVE [정규 2집] [2종 세트]</td>\n",
       "      <td>OH MY GIRL(오마이걸)</td>\n",
       "      <td>38600</td>\n",
       "      <td>20%</td>\n",
       "    </tr>\n",
       "    <tr>\n",
       "      <th>18</th>\n",
       "      <td>ATTACCA [미니 9집] [CARAT VER]</td>\n",
       "      <td>SEVENTEEN(세븐틴)</td>\n",
       "      <td>8900</td>\n",
       "      <td>19%</td>\n",
       "    </tr>\n",
       "    <tr>\n",
       "      <th>19</th>\n",
       "      <td>FATAL LOVE [정규 3집]</td>\n",
       "      <td>MONSTA X(몬스타엑스)</td>\n",
       "      <td>19300</td>\n",
       "      <td>20%</td>\n",
       "    </tr>\n",
       "  </tbody>\n",
       "</table>\n",
       "</div>"
      ],
      "text/plain": [
       "                                                title                brand  \\\n",
       "0                      SAVAGE [미니 1집] [SYNK DIVE VER]           AESPA(에스파)   \n",
       "1   ODDINARY [MINI ALBUM] [SCANNING/ MASK OFF VER]...  STRAY KIDS(스트레이 키즈)   \n",
       "2       2021 WINTER SMTOWN: SMCU EXPRESS [RED VELVET]     RED VELVET(레드벨벳)   \n",
       "3   2021 WINTER SMTOWN: SMCU EXPRESS [NCT - DAYTIM...             NCT(엔시티)   \n",
       "4   2021 WINTER SMTOWN: SMCU EXPRESS [NCT - NIGHTT...             NCT(엔시티)   \n",
       "5       2021 WINTER SMTOWN: SMCU EXPRESS [SMTOWN VER]              VARIOUS   \n",
       "6            2021 WINTER SMTOWN: SMCU EXPRESS [AESPA]           AESPA(에스파)   \n",
       "7                  YOUNG-LUV.COM [미니 2집] [2종 중 랜덤 1종]          STAYC(스테이씨)   \n",
       "8                                      AN ODE [정규 3집]       SEVENTEEN(세븐틴)   \n",
       "9                                      SMILEY [미니 1집]            YENA(최예나)   \n",
       "10                GLITCH MODE [정규 2집] [PHOTOBOOK VER]    NCT DREAM(엔시티 드림)   \n",
       "11       HELLO FUTURE [정규 1집] [리패키지] [PHOTO BOOK VER]    NCT DREAM(엔시티 드림)   \n",
       "12              혼돈의 장: FIGHT OR ESCAPE [TOGETHER VER]       TXT(투모로우바이투게더)   \n",
       "13  YOUNG-LUV.COM [미니 2집] [JEWEL CASE VER] [6종 중 랜...          STAYC(스테이씨)   \n",
       "14                            헹가래(HENG:GARAE) [미니 7집]       SEVENTEEN(세븐틴)   \n",
       "15                             혼돈의 장: FIGHT OR ESCAPE       TXT(투모로우바이투게더)   \n",
       "16           SAVAGE [미니 1집] [HALLUCINATION QUEST VER]           AESPA(에스파)   \n",
       "17                          REAL LOVE [정규 2집] [2종 세트]     OH MY GIRL(오마이걸)   \n",
       "18                        ATTACCA [미니 9집] [CARAT VER]       SEVENTEEN(세븐틴)   \n",
       "19                                 FATAL LOVE [정규 3집]      MONSTA X(몬스타엑스)   \n",
       "\n",
       "    price percent  \n",
       "0   16300     19%  \n",
       "1   16300     19%  \n",
       "2   13400     19%  \n",
       "3   13400     19%  \n",
       "4   13400     19%  \n",
       "5   31200     19%  \n",
       "6   13400     19%  \n",
       "7   19300     20%  \n",
       "8   17100     19%  \n",
       "9   16300     19%  \n",
       "10  17800     19%  \n",
       "11  17800     19%  \n",
       "12  11000     19%  \n",
       "13  11900     18%  \n",
       "14  14900     17%  \n",
       "15  17800     19%  \n",
       "16  17800     19%  \n",
       "17  38600     20%  \n",
       "18   8900     19%  \n",
       "19  19300     20%  "
      ]
     },
     "execution_count": 80,
     "metadata": {},
     "output_type": "execute_result"
    }
   ],
   "source": [
    "hot = pd.read_csv('hottract4.csv')\n",
    "hot"
   ]
  },
  {
   "cell_type": "code",
   "execution_count": null,
   "metadata": {},
   "outputs": [],
   "source": []
  }
 ],
 "metadata": {
  "kernelspec": {
   "display_name": "Python 3 (ipykernel)",
   "language": "python",
   "name": "python3"
  },
  "language_info": {
   "codemirror_mode": {
    "name": "ipython",
    "version": 3
   },
   "file_extension": ".py",
   "mimetype": "text/x-python",
   "name": "python",
   "nbconvert_exporter": "python",
   "pygments_lexer": "ipython3",
   "version": "3.7.11"
  }
 },
 "nbformat": 4,
 "nbformat_minor": 4
}
