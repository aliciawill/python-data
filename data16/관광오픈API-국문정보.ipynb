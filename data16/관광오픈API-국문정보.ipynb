{
 "cells": [
  {
   "cell_type": "code",
   "execution_count": 1,
   "metadata": {},
   "outputs": [
    {
     "name": "stdout",
     "output_type": "stream",
     "text": [
      "b'<?xml version=\"1.0\" encoding=\"UTF-8\" standalone=\"yes\"?><response><header><responseTime>2022-04-22T12:50:11.524+09:00</responseTime><resultCode>30</resultCode><resultMsg>SERVICE KEY IS NOT REGISTERED ERROR.</resultMsg></header></response>'\n"
     ]
    }
   ],
   "source": [
    "import requests\n",
    "\n",
    "url = 'http://api.visitkorea.or.kr/openapi/service/rest/KorService/areaBasedList'\n",
    "params ={'serviceKey' : 'VXgWV/f5wELzapZjJF7FEqqtFhPbNA8KBIWia3SXOCvY+CXEUok1DhybfbP4USE/g2b/QYT62C2mw3zcSWj2pg==', \n",
    "         'pageNo' : '1', 'numOfRows' : '1', \n",
    "         'MobileApp' : 'AppTest', \n",
    "         'MobileOS' : 'ETC', 'arrange' : \n",
    "         'A', 'cat1' : '', \n",
    "         'contentTypeId' : '32', \n",
    "         'areaCode' : '4', \n",
    "         'sigunguCode' : '4', \n",
    "         'cat2' : '', \n",
    "         'cat3' : '', \n",
    "         'listYN' : 'Y', \n",
    "         'modifiedtime' : '' }\n",
    "\n",
    "response = requests.get(url, params=params)\n",
    "print(response.content)"
   ]
  },
  {
   "cell_type": "code",
   "execution_count": 5,
   "metadata": {},
   "outputs": [
    {
     "name": "stdout",
     "output_type": "stream",
     "text": [
      "<?xml version=\"1.0\" encoding=\"UTF-8\" standalone=\"yes\"?><response><header><resultCode>0000</resultCode><resultMsg>OK</resultMsg></header><body><items><item><addr1>서울특별시 중구 명동길 26</addr1><addr2>(명동2가)</addr2><areacode>1</areacode><cat1>A02</cat1><cat2>A0208</cat2><cat3>A02080300</cat3><contentid>406745</contentid><contenttypeid>15</contenttypeid><createdtime>20080118180330</createdtime><dist>589</dist><firstimage>http://tong.visitkorea.or.kr/cms/resource/86/2034286_image2_1.jpg</firstimage><firstimage2>http://tong.visitkorea.or.kr/cms/resource/86/2034286_image3_1.jpg</firstimage2><mapx>126.9837456304</mapx><mapy>37.5634463660</mapy><mlevel>6</mlevel><modifiedtime>20211221164759</modifiedtime><readcount>44442</readcount><sigungucode>24</sigungucode><tel>02-739-8288</tel><title>난타 (명동)</title></item><item><addr1>서울특별시 종로구 종로 54 보신각</addr1><areacode>1</areacode><cat1>A02</cat1><cat2>A0208</cat2><cat3>A02080100</cat3><contentid>2809535</contentid><contenttypeid>15</contenttypeid><createdtime>20220307144537</createdtime><dist>237</dist><firstimage>http://tong.visitkorea.or.kr/cms/resource/29/2809529_image2_1.jpg</firstimage><firstimage2>http://tong.visitkorea.or.kr/cms/resource/29/2809529_image2_1.jpg</firstimage2><mapx>126.9836898995</mapx><mapy>37.5698206245</mapy><mlevel>6</mlevel><modifiedtime>20220315130954</modifiedtime><readcount>0</readcount><sigungucode>23</sigungucode><tel>02-120</tel><title>남산봉수의식 등 전통문화 재현행사</title></item><item><addr1>서울특별시 중구 세종대로 99</addr1><addr2>(정동)</addr2><areacode>1</areacode><cat1>A02</cat1><cat2>A0208</cat2><cat3>A02080100</cat3><contentid>1301487</contentid><contenttypeid>15</contenttypeid><createdtime>20110603142942</createdtime><dist>665</dist><firstimage>http://tong.visitkorea.or.kr/cms/resource/08/1965908_image2_1.jpg</firstimage><firstimage2>http://tong.visitkorea.or.kr/cms/resource/08/1965908_image3_1.jpg</firstimage2><mapx>126.9749158128</mapx><mapy>37.5658042673</mapy><mlevel>6</mlevel><modifiedtime>20210609132748</modifiedtime><readcount>40043</readcount><sigungucode>24</sigungucode><tel>02-2270-1244</tel><title>덕수궁 풍류</title></item><item><addr1>서울특별시 종로구 인사동길 7</addr1><addr2>(인사동)</addr2><areacode>1</areacode><cat1>A02</cat1><cat2>A0207</cat2><cat3>A02070200</cat3><contentid>2754423</contentid><contenttypeid>15</contenttypeid><createdtime>20211006175116</createdtime><dist>582</dist><firstimage>http://tong.visitkorea.or.kr/cms/resource/94/2754994_image2_1.jpg</firstimage><firstimage2>http://tong.visitkorea.or.kr/cms/resource/94/2754994_image2_1.jpg</firstimage2><mapx>126.9868617818</mapx><mapy>37.5716149173</mapy><mlevel>6</mlevel><modifiedtime>20211013094919</modifiedtime><readcount>0</readcount><sigungucode>23</sigungucode><tel>02-749-0381</tel><title>벨기에 페스티벌</title></item><item><addr1>서울 중구 태평로 2가 17-3</addr1><addr2>서울광장</addr2><areacode>1</areacode><cat1>A02</cat1><cat2>A0207</cat2><cat3>A02070200</cat3><contentid>2718543</contentid><contenttypeid>15</contenttypeid><createdtime>20210526174106</createdtime><dist>486</dist><firstimage>http://tong.visitkorea.or.kr/cms/resource/40/2718540_image2_1.jpg</firstimage><firstimage2>http://tong.visitkorea.or.kr/cms/resource/40/2718540_image2_1.jpg</firstimage2><mapx>126.9777155697</mapx><mapy>37.5653988094</mapy><mlevel>6</mlevel><modifiedtime>20210601095541</modifiedtime><readcount>0</readcount><sigungucode>24</sigungucode><tel>02-516-2010</tel><title>서울100K (SEOUL100K)</title></item><item><addr1>서울특별시 중구 세종대로 110</addr1><addr2>(태평로1가)</addr2><areacode>1</areacode><cat1>A02</cat1><cat2>A0207</cat2><cat3>A02070200</cat3><contentid>2738786</contentid><contenttypeid>15</contenttypeid><createdtime>20210901134706</createdtime><dist>349</dist><firstimage>http://tong.visitkorea.or.kr/cms/resource/84/2738784_image2_1.jpg</firstimage><firstimage2>http://tong.visitkorea.or.kr/cms/resource/84/2738784_image2_1.jpg</firstimage2><mapx>126.9784043599</mapx><mapy>37.5666625635</mapy><mlevel>6</mlevel><modifiedtime>20210907171522</modifiedtime><readcount>0</readcount><sigungucode>24</sigungucode><tel>02-786-7518</tel><title>서울세계도시문화축제</title></item><item><addr1>온라인개최</addr1><areacode>1</areacode><cat1>A02</cat1><cat2>A0207</cat2><cat3>A02070200</cat3><contentid>2455073</contentid><contenttypeid>15</contenttypeid><createdtime>20161213152654</createdtime><dist>355</dist><firstimage>http://tong.visitkorea.or.kr/cms/resource/56/2801156_image2_1.jpg</firstimage><firstimage2>http://tong.visitkorea.or.kr/cms/resource/56/2801156_image2_1.jpg</firstimage2><mapx>126.9783710306</mapx><mapy>37.5665986816</mapy><mlevel>6</mlevel><modifiedtime>20211227103222</modifiedtime><readcount>3903</readcount><sigungucode>24</sigungucode><tel>02-3447-0101</tel><title>서울영상광고제</title></item><item><addr1>서울특별시 중구 세종대로19길 16</addr1><addr2>(정동)</addr2><areacode>1</areacode><cat1>A02</cat1><cat2>A0207</cat2><cat3>A02070200</cat3><contentid>1937544</contentid><contenttypeid>15</contenttypeid><createdtime>20140728142434</createdtime><dist>485</dist><firstimage>http://tong.visitkorea.or.kr/cms/resource/55/2737055_image2_1.jpg</firstimage><firstimage2>http://tong.visitkorea.or.kr/cms/resource/55/2737055_image2_1.jpg</firstimage2><mapx>126.9765823002</mapx><mapy>37.5667736284</mapy><mlevel>6</mlevel><modifiedtime>20210826163420</modifiedtime><readcount>8386</readcount><sigungucode>24</sigungucode><tel>02-765-7500</tel><title>서울청소년연극축제</title></item><item><addr1>서울특별시 중구 세종대로 110</addr1><addr2>(태평로1가)</addr2><areacode>1</areacode><cat1>A02</cat1><cat2>A0207</cat2><cat3>A02070200</cat3><contentid>2721458</contentid><contenttypeid>15</contenttypeid><createdtime>20210616095432</createdtime><dist>349</dist><firstimage>http://tong.visitkorea.or.kr/cms/resource/55/2721455_image2_1.png</firstimage><firstimage2>http://tong.visitkorea.or.kr/cms/resource/55/2721455_image2_1.png</firstimage2><mapx>126.9784043599</mapx><mapy>37.5666625635</mapy><mlevel>6</mlevel><modifiedtime>20210618151236</modifiedtime><readcount>0</readcount><sigungucode>24</sigungucode><tel>공연 02-739-7331&lt;br&gt; 미디어아트·체험 02-739-5811&lt;br&gt; 장터 02-739-5226</tel><title>시민청 6-8월 문화예술 프로그램 &lt;여름, 시민청&gt;</title></item><item><addr1>서울특별시 중구 명동길 61</addr1><addr2>(명동1가)</addr2><areacode>1</areacode><cat1>A02</cat1><cat2>A0208</cat2><cat3>A02081300</cat3><contentid>2784769</contentid><contenttypeid>15</contenttypeid><createdtime>20211201141428</createdtime><dist>587</dist><firstimage>http://tong.visitkorea.or.kr/cms/resource/66/2784766_image2_1.jpg</firstimage><firstimage2>http://tong.visitkorea.or.kr/cms/resource/66/2784766_image2_1.jpg</firstimage2><mapx>126.9858787417</mapx><mapy>37.5644379556</mapy><mlevel>6</mlevel><modifiedtime>20211201141428</modifiedtime><readcount>0</readcount><sigungucode>24</sigungucode><tel>02-736-2320</tel><title>연구산업 컨퍼런스 2022</title></item></items><numOfRows>10</numOfRows><pageNo>1</pageNo><totalCount>22</totalCount></body></response>\n"
     ]
    }
   ],
   "source": [
    "import requests\n",
    "\n",
    "key = 'http://api.visitkorea.or.kr/openapi/service/rest/KorService/locationBasedList'\n",
    "url4 = 'http://api.visitkorea.or.kr/openapi/service/rest/KorService/locationBasedList?serviceKey=VXgWV%2Ff5wELzapZjJF7FEqqtFhPbNA8KBIWia3SXOCvY%2BCXEUok1DhybfbP4USE%2Fg2b%2FQYT62C2mw3zcSWj2pg%3D%3D&numOfRows=10&pageNo=1&MobileOS=ETC&MobileApp=AppTest&arrange=A&contentTypeId=15&mapX=126.981611&mapY=37.568477&radius=1000&listYN=Y'\n",
    "response2 = requests.get(url4)\n",
    "print(response2.text)"
   ]
  },
  {
   "cell_type": "code",
   "execution_count": 6,
   "metadata": {},
   "outputs": [],
   "source": [
    "from bs4 import BeautifulSoup"
   ]
  },
  {
   "cell_type": "code",
   "execution_count": 14,
   "metadata": {},
   "outputs": [],
   "source": [
    "soup = BeautifulSoup(response2.text, 'html.parser')"
   ]
  },
  {
   "cell_type": "code",
   "execution_count": 15,
   "metadata": {},
   "outputs": [],
   "source": [
    "data = soup.find_all('item')"
   ]
  },
  {
   "cell_type": "code",
   "execution_count": 16,
   "metadata": {},
   "outputs": [
    {
     "data": {
      "text/plain": [
       "[<item><addr1>서울특별시 중구 명동길 26</addr1><addr2>(명동2가)</addr2><areacode>1</areacode><cat1>A02</cat1><cat2>A0208</cat2><cat3>A02080300</cat3><contentid>406745</contentid><contenttypeid>15</contenttypeid><createdtime>20080118180330</createdtime><dist>589</dist><firstimage>http://tong.visitkorea.or.kr/cms/resource/86/2034286_image2_1.jpg</firstimage><firstimage2>http://tong.visitkorea.or.kr/cms/resource/86/2034286_image3_1.jpg</firstimage2><mapx>126.9837456304</mapx><mapy>37.5634463660</mapy><mlevel>6</mlevel><modifiedtime>20211221164759</modifiedtime><readcount>44442</readcount><sigungucode>24</sigungucode><tel>02-739-8288</tel><title>난타 (명동)</title></item>,\n",
       " <item><addr1>서울특별시 종로구 종로 54 보신각</addr1><areacode>1</areacode><cat1>A02</cat1><cat2>A0208</cat2><cat3>A02080100</cat3><contentid>2809535</contentid><contenttypeid>15</contenttypeid><createdtime>20220307144537</createdtime><dist>237</dist><firstimage>http://tong.visitkorea.or.kr/cms/resource/29/2809529_image2_1.jpg</firstimage><firstimage2>http://tong.visitkorea.or.kr/cms/resource/29/2809529_image2_1.jpg</firstimage2><mapx>126.9836898995</mapx><mapy>37.5698206245</mapy><mlevel>6</mlevel><modifiedtime>20220315130954</modifiedtime><readcount>0</readcount><sigungucode>23</sigungucode><tel>02-120</tel><title>남산봉수의식 등 전통문화 재현행사</title></item>,\n",
       " <item><addr1>서울특별시 중구 세종대로 99</addr1><addr2>(정동)</addr2><areacode>1</areacode><cat1>A02</cat1><cat2>A0208</cat2><cat3>A02080100</cat3><contentid>1301487</contentid><contenttypeid>15</contenttypeid><createdtime>20110603142942</createdtime><dist>665</dist><firstimage>http://tong.visitkorea.or.kr/cms/resource/08/1965908_image2_1.jpg</firstimage><firstimage2>http://tong.visitkorea.or.kr/cms/resource/08/1965908_image3_1.jpg</firstimage2><mapx>126.9749158128</mapx><mapy>37.5658042673</mapy><mlevel>6</mlevel><modifiedtime>20210609132748</modifiedtime><readcount>40043</readcount><sigungucode>24</sigungucode><tel>02-2270-1244</tel><title>덕수궁 풍류</title></item>,\n",
       " <item><addr1>서울특별시 종로구 인사동길 7</addr1><addr2>(인사동)</addr2><areacode>1</areacode><cat1>A02</cat1><cat2>A0207</cat2><cat3>A02070200</cat3><contentid>2754423</contentid><contenttypeid>15</contenttypeid><createdtime>20211006175116</createdtime><dist>582</dist><firstimage>http://tong.visitkorea.or.kr/cms/resource/94/2754994_image2_1.jpg</firstimage><firstimage2>http://tong.visitkorea.or.kr/cms/resource/94/2754994_image2_1.jpg</firstimage2><mapx>126.9868617818</mapx><mapy>37.5716149173</mapy><mlevel>6</mlevel><modifiedtime>20211013094919</modifiedtime><readcount>0</readcount><sigungucode>23</sigungucode><tel>02-749-0381</tel><title>벨기에 페스티벌</title></item>,\n",
       " <item><addr1>서울 중구 태평로 2가 17-3</addr1><addr2>서울광장</addr2><areacode>1</areacode><cat1>A02</cat1><cat2>A0207</cat2><cat3>A02070200</cat3><contentid>2718543</contentid><contenttypeid>15</contenttypeid><createdtime>20210526174106</createdtime><dist>486</dist><firstimage>http://tong.visitkorea.or.kr/cms/resource/40/2718540_image2_1.jpg</firstimage><firstimage2>http://tong.visitkorea.or.kr/cms/resource/40/2718540_image2_1.jpg</firstimage2><mapx>126.9777155697</mapx><mapy>37.5653988094</mapy><mlevel>6</mlevel><modifiedtime>20210601095541</modifiedtime><readcount>0</readcount><sigungucode>24</sigungucode><tel>02-516-2010</tel><title>서울100K (SEOUL100K)</title></item>,\n",
       " <item><addr1>서울특별시 중구 세종대로 110</addr1><addr2>(태평로1가)</addr2><areacode>1</areacode><cat1>A02</cat1><cat2>A0207</cat2><cat3>A02070200</cat3><contentid>2738786</contentid><contenttypeid>15</contenttypeid><createdtime>20210901134706</createdtime><dist>349</dist><firstimage>http://tong.visitkorea.or.kr/cms/resource/84/2738784_image2_1.jpg</firstimage><firstimage2>http://tong.visitkorea.or.kr/cms/resource/84/2738784_image2_1.jpg</firstimage2><mapx>126.9784043599</mapx><mapy>37.5666625635</mapy><mlevel>6</mlevel><modifiedtime>20210907171522</modifiedtime><readcount>0</readcount><sigungucode>24</sigungucode><tel>02-786-7518</tel><title>서울세계도시문화축제</title></item>,\n",
       " <item><addr1>온라인개최</addr1><areacode>1</areacode><cat1>A02</cat1><cat2>A0207</cat2><cat3>A02070200</cat3><contentid>2455073</contentid><contenttypeid>15</contenttypeid><createdtime>20161213152654</createdtime><dist>355</dist><firstimage>http://tong.visitkorea.or.kr/cms/resource/56/2801156_image2_1.jpg</firstimage><firstimage2>http://tong.visitkorea.or.kr/cms/resource/56/2801156_image2_1.jpg</firstimage2><mapx>126.9783710306</mapx><mapy>37.5665986816</mapy><mlevel>6</mlevel><modifiedtime>20211227103222</modifiedtime><readcount>3903</readcount><sigungucode>24</sigungucode><tel>02-3447-0101</tel><title>서울영상광고제</title></item>,\n",
       " <item><addr1>서울특별시 중구 세종대로19길 16</addr1><addr2>(정동)</addr2><areacode>1</areacode><cat1>A02</cat1><cat2>A0207</cat2><cat3>A02070200</cat3><contentid>1937544</contentid><contenttypeid>15</contenttypeid><createdtime>20140728142434</createdtime><dist>485</dist><firstimage>http://tong.visitkorea.or.kr/cms/resource/55/2737055_image2_1.jpg</firstimage><firstimage2>http://tong.visitkorea.or.kr/cms/resource/55/2737055_image2_1.jpg</firstimage2><mapx>126.9765823002</mapx><mapy>37.5667736284</mapy><mlevel>6</mlevel><modifiedtime>20210826163420</modifiedtime><readcount>8386</readcount><sigungucode>24</sigungucode><tel>02-765-7500</tel><title>서울청소년연극축제</title></item>,\n",
       " <item><addr1>서울특별시 중구 세종대로 110</addr1><addr2>(태평로1가)</addr2><areacode>1</areacode><cat1>A02</cat1><cat2>A0207</cat2><cat3>A02070200</cat3><contentid>2721458</contentid><contenttypeid>15</contenttypeid><createdtime>20210616095432</createdtime><dist>349</dist><firstimage>http://tong.visitkorea.or.kr/cms/resource/55/2721455_image2_1.png</firstimage><firstimage2>http://tong.visitkorea.or.kr/cms/resource/55/2721455_image2_1.png</firstimage2><mapx>126.9784043599</mapx><mapy>37.5666625635</mapy><mlevel>6</mlevel><modifiedtime>20210618151236</modifiedtime><readcount>0</readcount><sigungucode>24</sigungucode><tel>공연 02-739-7331&lt;br&gt; 미디어아트·체험 02-739-5811&lt;br&gt; 장터 02-739-5226</tel><title>시민청 6-8월 문화예술 프로그램 &lt;여름, 시민청&gt;</title></item>,\n",
       " <item><addr1>서울특별시 중구 명동길 61</addr1><addr2>(명동1가)</addr2><areacode>1</areacode><cat1>A02</cat1><cat2>A0208</cat2><cat3>A02081300</cat3><contentid>2784769</contentid><contenttypeid>15</contenttypeid><createdtime>20211201141428</createdtime><dist>587</dist><firstimage>http://tong.visitkorea.or.kr/cms/resource/66/2784766_image2_1.jpg</firstimage><firstimage2>http://tong.visitkorea.or.kr/cms/resource/66/2784766_image2_1.jpg</firstimage2><mapx>126.9858787417</mapx><mapy>37.5644379556</mapy><mlevel>6</mlevel><modifiedtime>20211201141428</modifiedtime><readcount>0</readcount><sigungucode>24</sigungucode><tel>02-736-2320</tel><title>연구산업 컨퍼런스 2022</title></item>]"
      ]
     },
     "execution_count": 16,
     "metadata": {},
     "output_type": "execute_result"
    }
   ],
   "source": [
    "data"
   ]
  },
  {
   "cell_type": "code",
   "execution_count": 22,
   "metadata": {},
   "outputs": [],
   "source": [
    "addr1_list = []\n",
    "img1_list = []\n",
    "for item in data:\n",
    "    addr1 = item.find('addr1')\n",
    "    img1 = item.find('img1') \n",
    "    addr1_list.append(addr1)\n",
    "    img1_list.append(img1)"
   ]
  },
  {
   "cell_type": "code",
   "execution_count": 23,
   "metadata": {},
   "outputs": [
    {
     "data": {
      "text/plain": [
       "[<addr1>서울특별시 중구 명동길 26</addr1>,\n",
       " <addr1>서울특별시 종로구 종로 54 보신각</addr1>,\n",
       " <addr1>서울특별시 중구 세종대로 99</addr1>,\n",
       " <addr1>서울특별시 종로구 인사동길 7</addr1>,\n",
       " <addr1>서울 중구 태평로 2가 17-3</addr1>,\n",
       " <addr1>서울특별시 중구 세종대로 110</addr1>,\n",
       " <addr1>온라인개최</addr1>,\n",
       " <addr1>서울특별시 중구 세종대로19길 16</addr1>,\n",
       " <addr1>서울특별시 중구 세종대로 110</addr1>,\n",
       " <addr1>서울특별시 중구 명동길 61</addr1>]"
      ]
     },
     "execution_count": 23,
     "metadata": {},
     "output_type": "execute_result"
    }
   ],
   "source": [
    "addr1_list"
   ]
  },
  {
   "cell_type": "code",
   "execution_count": null,
   "metadata": {},
   "outputs": [],
   "source": []
  }
 ],
 "metadata": {
  "kernelspec": {
   "display_name": "Python 3 (ipykernel)",
   "language": "python",
   "name": "python3"
  },
  "language_info": {
   "codemirror_mode": {
    "name": "ipython",
    "version": 3
   },
   "file_extension": ".py",
   "mimetype": "text/x-python",
   "name": "python",
   "nbconvert_exporter": "python",
   "pygments_lexer": "ipython3",
   "version": "3.7.11"
  }
 },
 "nbformat": 4,
 "nbformat_minor": 4
}
