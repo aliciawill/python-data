{
 "cells": [
  {
   "cell_type": "code",
   "execution_count": 1,
   "metadata": {},
   "outputs": [
    {
     "name": "stdout",
     "output_type": "stream",
     "text": [
      "b'<?xml version=\"1.0\" encoding=\"UTF-8\" standalone=\"yes\"?><response><header><responseTime>2022-04-22T12:50:11.524+09:00</responseTime><resultCode>30</resultCode><resultMsg>SERVICE KEY IS NOT REGISTERED ERROR.</resultMsg></header></response>'\n"
     ]
    }
   ],
   "source": [
    "import requests\n",
    "\n",
    "url = 'http://api.visitkorea.or.kr/openapi/service/rest/KorService/areaBasedList'\n",
    "params ={'serviceKey' : 'VXgWV/f5wELzapZjJF7FEqqtFhPbNA8KBIWia3SXOCvY+CXEUok1DhybfbP4USE/g2b/QYT62C2mw3zcSWj2pg==', \n",
    "         'pageNo' : '1', 'numOfRows' : '1', \n",
    "         'MobileApp' : 'AppTest', \n",
    "         'MobileOS' : 'ETC', 'arrange' : \n",
    "         'A', 'cat1' : '', \n",
    "         'contentTypeId' : '32', \n",
    "         'areaCode' : '4', \n",
    "         'sigunguCode' : '4', \n",
    "         'cat2' : '', \n",
    "         'cat3' : '', \n",
    "         'listYN' : 'Y', \n",
    "         'modifiedtime' : '' }\n",
    "\n",
    "response = requests.get(url, params=params)\n",
    "print(response.content)"
   ]
  },
  {
   "cell_type": "code",
   "execution_count": null,
   "metadata": {},
   "outputs": [],
   "source": [
    "import requests\n",
    "\n",
    "key = 'http://api.visitkorea.or.kr/openapi/service/rest/KorService/locationBasedList'\n",
    "url4 = 'http://api.visitkorea.or.kr/openapi/service/rest/KorService/locationBasedList?serviceKey=VXgWV%2Ff5wELzapZjJF7FEqqtFhPbNA8KBIWia3SXOCvY%2BCXEUok1DhybfbP4USE%2Fg2b%2FQYT62C2mw3zcSWj2pg%3D%3D&numOfRows=10&pageNo=1&MobileOS=ETC&MobileApp=AppTest&arrange=A&contentTypeId=15&mapX=126.981611&mapY=37.568477&radius=1000&listYN=Y\n",
    "response2 = requests.get(url4)\n",
    "print(response2)"
   ]
  }
 ],
 "metadata": {
  "kernelspec": {
   "display_name": "Python 3 (ipykernel)",
   "language": "python",
   "name": "python3"
  },
  "language_info": {
   "codemirror_mode": {
    "name": "ipython",
    "version": 3
   },
   "file_extension": ".py",
   "mimetype": "text/x-python",
   "name": "python",
   "nbconvert_exporter": "python",
   "pygments_lexer": "ipython3",
   "version": "3.7.11"
  }
 },
 "nbformat": 4,
 "nbformat_minor": 4
}
