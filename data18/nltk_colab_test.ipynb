{
  "nbformat": 4,
  "nbformat_minor": 0,
  "metadata": {
    "colab": {
      "name": "nltk_colab_test.ipynb",
      "provenance": [],
      "collapsed_sections": [],
      "authorship_tag": "ABX9TyPiosnDLOA9lyQnXphnYdJB",
      "include_colab_link": true
    },
    "kernelspec": {
      "name": "python3",
      "display_name": "Python 3"
    },
    "language_info": {
      "name": "python"
    }
  },
  "cells": [
    {
      "cell_type": "markdown",
      "metadata": {
        "id": "view-in-github",
        "colab_type": "text"
      },
      "source": [
        "<a href=\"https://colab.research.google.com/github/aliciawill/BigData/blob/master/nltk_colab_test.ipynb\" target=\"_parent\"><img src=\"https://colab.research.google.com/assets/colab-badge.svg\" alt=\"Open In Colab\"/></a>"
      ]
    },
    {
      "cell_type": "code",
      "metadata": {
        "colab": {
          "base_uri": "https://localhost:8080/"
        },
        "id": "VRjA2Q8X3AJg",
        "outputId": "e79826d7-30ae-47d1-e794-1c3401176da5"
      },
      "source": [
        "%%time\n",
        "import nltk"
      ],
      "execution_count": 1,
      "outputs": [
        {
          "output_type": "stream",
          "text": [
            "CPU times: user 684 ms, sys: 224 ms, total: 908 ms\n",
            "Wall time: 1.59 s\n"
          ],
          "name": "stdout"
        }
      ]
    },
    {
      "cell_type": "code",
      "metadata": {
        "colab": {
          "base_uri": "https://localhost:8080/"
        },
        "id": "J6xt7KX83A3a",
        "outputId": "393f599b-11be-4264-ee37-77d587c73e03"
      },
      "source": [
        "nltk.download('book')\n",
        "nltk.download('movie_reviews')\n",
        "nltk.download('punkt')\n",
        "nltk.download('stopwords')"
      ],
      "execution_count": 2,
      "outputs": [
        {
          "output_type": "stream",
          "text": [
            "[nltk_data] Downloading collection 'book'\n",
            "[nltk_data]    | \n",
            "[nltk_data]    | Downloading package abc to /root/nltk_data...\n",
            "[nltk_data]    |   Unzipping corpora/abc.zip.\n",
            "[nltk_data]    | Downloading package brown to /root/nltk_data...\n",
            "[nltk_data]    |   Unzipping corpora/brown.zip.\n",
            "[nltk_data]    | Downloading package chat80 to /root/nltk_data...\n",
            "[nltk_data]    |   Unzipping corpora/chat80.zip.\n",
            "[nltk_data]    | Downloading package cmudict to /root/nltk_data...\n",
            "[nltk_data]    |   Unzipping corpora/cmudict.zip.\n",
            "[nltk_data]    | Downloading package conll2000 to /root/nltk_data...\n",
            "[nltk_data]    |   Unzipping corpora/conll2000.zip.\n",
            "[nltk_data]    | Downloading package conll2002 to /root/nltk_data...\n",
            "[nltk_data]    |   Unzipping corpora/conll2002.zip.\n",
            "[nltk_data]    | Downloading package dependency_treebank to\n",
            "[nltk_data]    |     /root/nltk_data...\n",
            "[nltk_data]    |   Unzipping corpora/dependency_treebank.zip.\n",
            "[nltk_data]    | Downloading package genesis to /root/nltk_data...\n",
            "[nltk_data]    |   Unzipping corpora/genesis.zip.\n",
            "[nltk_data]    | Downloading package gutenberg to /root/nltk_data...\n",
            "[nltk_data]    |   Unzipping corpora/gutenberg.zip.\n",
            "[nltk_data]    | Downloading package ieer to /root/nltk_data...\n",
            "[nltk_data]    |   Unzipping corpora/ieer.zip.\n",
            "[nltk_data]    | Downloading package inaugural to /root/nltk_data...\n",
            "[nltk_data]    |   Unzipping corpora/inaugural.zip.\n",
            "[nltk_data]    | Downloading package movie_reviews to\n",
            "[nltk_data]    |     /root/nltk_data...\n",
            "[nltk_data]    |   Unzipping corpora/movie_reviews.zip.\n",
            "[nltk_data]    | Downloading package nps_chat to /root/nltk_data...\n",
            "[nltk_data]    |   Unzipping corpora/nps_chat.zip.\n",
            "[nltk_data]    | Downloading package names to /root/nltk_data...\n",
            "[nltk_data]    |   Unzipping corpora/names.zip.\n",
            "[nltk_data]    | Downloading package ppattach to /root/nltk_data...\n",
            "[nltk_data]    |   Unzipping corpora/ppattach.zip.\n",
            "[nltk_data]    | Downloading package reuters to /root/nltk_data...\n",
            "[nltk_data]    | Downloading package senseval to /root/nltk_data...\n",
            "[nltk_data]    |   Unzipping corpora/senseval.zip.\n",
            "[nltk_data]    | Downloading package state_union to /root/nltk_data...\n",
            "[nltk_data]    |   Unzipping corpora/state_union.zip.\n",
            "[nltk_data]    | Downloading package stopwords to /root/nltk_data...\n",
            "[nltk_data]    |   Unzipping corpora/stopwords.zip.\n",
            "[nltk_data]    | Downloading package swadesh to /root/nltk_data...\n",
            "[nltk_data]    |   Unzipping corpora/swadesh.zip.\n",
            "[nltk_data]    | Downloading package timit to /root/nltk_data...\n",
            "[nltk_data]    |   Unzipping corpora/timit.zip.\n",
            "[nltk_data]    | Downloading package treebank to /root/nltk_data...\n",
            "[nltk_data]    |   Unzipping corpora/treebank.zip.\n",
            "[nltk_data]    | Downloading package toolbox to /root/nltk_data...\n",
            "[nltk_data]    |   Unzipping corpora/toolbox.zip.\n",
            "[nltk_data]    | Downloading package udhr to /root/nltk_data...\n",
            "[nltk_data]    |   Unzipping corpora/udhr.zip.\n",
            "[nltk_data]    | Downloading package udhr2 to /root/nltk_data...\n",
            "[nltk_data]    |   Unzipping corpora/udhr2.zip.\n",
            "[nltk_data]    | Downloading package unicode_samples to\n",
            "[nltk_data]    |     /root/nltk_data...\n",
            "[nltk_data]    |   Unzipping corpora/unicode_samples.zip.\n",
            "[nltk_data]    | Downloading package webtext to /root/nltk_data...\n",
            "[nltk_data]    |   Unzipping corpora/webtext.zip.\n",
            "[nltk_data]    | Downloading package wordnet to /root/nltk_data...\n",
            "[nltk_data]    |   Unzipping corpora/wordnet.zip.\n",
            "[nltk_data]    | Downloading package wordnet_ic to /root/nltk_data...\n",
            "[nltk_data]    |   Unzipping corpora/wordnet_ic.zip.\n",
            "[nltk_data]    | Downloading package words to /root/nltk_data...\n",
            "[nltk_data]    |   Unzipping corpora/words.zip.\n",
            "[nltk_data]    | Downloading package maxent_treebank_pos_tagger to\n",
            "[nltk_data]    |     /root/nltk_data...\n",
            "[nltk_data]    |   Unzipping taggers/maxent_treebank_pos_tagger.zip.\n",
            "[nltk_data]    | Downloading package maxent_ne_chunker to\n",
            "[nltk_data]    |     /root/nltk_data...\n",
            "[nltk_data]    |   Unzipping chunkers/maxent_ne_chunker.zip.\n",
            "[nltk_data]    | Downloading package universal_tagset to\n",
            "[nltk_data]    |     /root/nltk_data...\n",
            "[nltk_data]    |   Unzipping taggers/universal_tagset.zip.\n",
            "[nltk_data]    | Downloading package punkt to /root/nltk_data...\n",
            "[nltk_data]    |   Unzipping tokenizers/punkt.zip.\n",
            "[nltk_data]    | Downloading package book_grammars to\n",
            "[nltk_data]    |     /root/nltk_data...\n",
            "[nltk_data]    |   Unzipping grammars/book_grammars.zip.\n",
            "[nltk_data]    | Downloading package city_database to\n",
            "[nltk_data]    |     /root/nltk_data...\n",
            "[nltk_data]    |   Unzipping corpora/city_database.zip.\n",
            "[nltk_data]    | Downloading package tagsets to /root/nltk_data...\n",
            "[nltk_data]    |   Unzipping help/tagsets.zip.\n",
            "[nltk_data]    | Downloading package panlex_swadesh to\n",
            "[nltk_data]    |     /root/nltk_data...\n",
            "[nltk_data]    | Downloading package averaged_perceptron_tagger to\n",
            "[nltk_data]    |     /root/nltk_data...\n",
            "[nltk_data]    |   Unzipping taggers/averaged_perceptron_tagger.zip.\n",
            "[nltk_data]    | \n",
            "[nltk_data]  Done downloading collection book\n",
            "[nltk_data] Downloading package movie_reviews to /root/nltk_data...\n",
            "[nltk_data]   Package movie_reviews is already up-to-date!\n",
            "[nltk_data] Downloading package punkt to /root/nltk_data...\n",
            "[nltk_data]   Package punkt is already up-to-date!\n",
            "[nltk_data] Downloading package stopwords to /root/nltk_data...\n",
            "[nltk_data]   Package stopwords is already up-to-date!\n"
          ],
          "name": "stdout"
        },
        {
          "output_type": "execute_result",
          "data": {
            "text/plain": [
              "True"
            ]
          },
          "metadata": {
            "tags": []
          },
          "execution_count": 2
        }
      ]
    },
    {
      "cell_type": "code",
      "metadata": {
        "colab": {
          "base_uri": "https://localhost:8080/"
        },
        "id": "hAykKRkP3Djc",
        "outputId": "643b3a25-021e-432a-e22e-4b72d2f63c4d"
      },
      "source": [
        "nltk.corpus.gutenberg.fileids()"
      ],
      "execution_count": 3,
      "outputs": [
        {
          "output_type": "execute_result",
          "data": {
            "text/plain": [
              "['austen-emma.txt',\n",
              " 'austen-persuasion.txt',\n",
              " 'austen-sense.txt',\n",
              " 'bible-kjv.txt',\n",
              " 'blake-poems.txt',\n",
              " 'bryant-stories.txt',\n",
              " 'burgess-busterbrown.txt',\n",
              " 'carroll-alice.txt',\n",
              " 'chesterton-ball.txt',\n",
              " 'chesterton-brown.txt',\n",
              " 'chesterton-thursday.txt',\n",
              " 'edgeworth-parents.txt',\n",
              " 'melville-moby_dick.txt',\n",
              " 'milton-paradise.txt',\n",
              " 'shakespeare-caesar.txt',\n",
              " 'shakespeare-hamlet.txt',\n",
              " 'shakespeare-macbeth.txt',\n",
              " 'whitman-leaves.txt']"
            ]
          },
          "metadata": {
            "tags": []
          },
          "execution_count": 3
        }
      ]
    },
    {
      "cell_type": "code",
      "metadata": {
        "colab": {
          "base_uri": "https://localhost:8080/"
        },
        "id": "XWBY3lz03HLq",
        "outputId": "f942ed67-922e-426e-f01d-9c6253158022"
      },
      "source": [
        "emma_raw = nltk.corpus.gutenberg.raw(\"austen-emma.txt\")\n",
        "print(emma_raw[:1302])"
      ],
      "execution_count": 4,
      "outputs": [
        {
          "output_type": "stream",
          "text": [
            "[Emma by Jane Austen 1816]\n",
            "\n",
            "VOLUME I\n",
            "\n",
            "CHAPTER I\n",
            "\n",
            "\n",
            "Emma Woodhouse, handsome, clever, and rich, with a comfortable home\n",
            "and happy disposition, seemed to unite some of the best blessings\n",
            "of existence; and had lived nearly twenty-one years in the world\n",
            "with very little to distress or vex her.\n",
            "\n",
            "She was the youngest of the two daughters of a most affectionate,\n",
            "indulgent father; and had, in consequence of her sister's marriage,\n",
            "been mistress of his house from a very early period.  Her mother\n",
            "had died too long ago for her to have more than an indistinct\n",
            "remembrance of her caresses; and her place had been supplied\n",
            "by an excellent woman as governess, who had fallen little short\n",
            "of a mother in affection.\n",
            "\n",
            "Sixteen years had Miss Taylor been in Mr. Woodhouse's family,\n",
            "less as a governess than a friend, very fond of both daughters,\n",
            "but particularly of Emma.  Between _them_ it was more the intimacy\n",
            "of sisters.  Even before Miss Taylor had ceased to hold the nominal\n",
            "office of governess, the mildness of her temper had hardly allowed\n",
            "her to impose any restraint; and the shadow of authority being\n",
            "now long passed away, they had been living together as friend and\n",
            "friend very mutually attached, and Emma doing just what she liked;\n",
            "highly esteeming Miss Taylor's judgment, but directed chiefly by\n",
            "her own.\n",
            "\n"
          ],
          "name": "stdout"
        }
      ]
    },
    {
      "cell_type": "code",
      "metadata": {
        "colab": {
          "base_uri": "https://localhost:8080/"
        },
        "id": "maI52bYB3JMS",
        "outputId": "5704fd22-2d60-4371-9758-a9af0bfd2b89"
      },
      "source": [
        "from nltk.tokenize import sent_tokenize \n",
        "print(sent_tokenize(emma_raw[:1000])[3])"
      ],
      "execution_count": 5,
      "outputs": [
        {
          "output_type": "stream",
          "text": [
            "Sixteen years had Miss Taylor been in Mr. Woodhouse's family,\n",
            "less as a governess than a friend, very fond of both daughters,\n",
            "but particularly of Emma.\n"
          ],
          "name": "stdout"
        }
      ]
    },
    {
      "cell_type": "code",
      "metadata": {
        "colab": {
          "base_uri": "https://localhost:8080/"
        },
        "id": "YMMqgQKV3Lk6",
        "outputId": "2bbc7ae7-3b86-40c4-f861-e7c7b38f3296"
      },
      "source": [
        "from nltk.tokenize import word_tokenize \n",
        "word_tokenize(emma_raw[50:100])"
      ],
      "execution_count": 6,
      "outputs": [
        {
          "output_type": "execute_result",
          "data": {
            "text/plain": [
              "['Emma',\n",
              " 'Woodhouse',\n",
              " ',',\n",
              " 'handsome',\n",
              " ',',\n",
              " 'clever',\n",
              " ',',\n",
              " 'and',\n",
              " 'rich',\n",
              " ',',\n",
              " 'with',\n",
              " 'a']"
            ]
          },
          "metadata": {
            "tags": []
          },
          "execution_count": 6
        }
      ]
    },
    {
      "cell_type": "code",
      "metadata": {
        "colab": {
          "base_uri": "https://localhost:8080/"
        },
        "id": "bqj9mVPv3NYH",
        "outputId": "b7e214ee-69fc-4495-9814-fe3e1e5351c0"
      },
      "source": [
        "from nltk.tokenize import RegexpTokenizer \n",
        "retokenize = RegexpTokenizer(\"[\\w]+\") \n",
        "retokenize.tokenize(emma_raw[50:100])"
      ],
      "execution_count": 7,
      "outputs": [
        {
          "output_type": "execute_result",
          "data": {
            "text/plain": [
              "['Emma', 'Woodhouse', 'handsome', 'clever', 'and', 'rich', 'with', 'a']"
            ]
          },
          "metadata": {
            "tags": []
          },
          "execution_count": 7
        }
      ]
    },
    {
      "cell_type": "code",
      "metadata": {
        "colab": {
          "base_uri": "https://localhost:8080/"
        },
        "id": "oMLjIUxO3PrL",
        "outputId": "31e849f3-fa05-4ddf-cec4-248992f7bdb0"
      },
      "source": [
        "from nltk.stem import PorterStemmer, LancasterStemmer\n",
        "st1 = PorterStemmer()\n",
        "st2 = LancasterStemmer()\n",
        "\n",
        "words = ['fly', 'files', 'flying', 'flew', 'flown']\n",
        "\n",
        "print('porter stemmer : ', [st1.stem(w) for w in words])\n",
        "print('lancaster stemmer : ', [st2.stem(w) for w in words])\n"
      ],
      "execution_count": 8,
      "outputs": [
        {
          "output_type": "stream",
          "text": [
            "porter stemmer :  ['fli', 'file', 'fli', 'flew', 'flown']\n",
            "lancaster stemmer :  ['fly', 'fil', 'fly', 'flew', 'flown']\n"
          ],
          "name": "stdout"
        }
      ]
    },
    {
      "cell_type": "code",
      "metadata": {
        "colab": {
          "base_uri": "https://localhost:8080/"
        },
        "id": "-Xq6fQAR3Rkj",
        "outputId": "b625fc20-2f92-421c-8c93-cb27bf4a6ad9"
      },
      "source": [
        "from nltk.stem import WordNetLemmatizer \n",
        "lm = WordNetLemmatizer()\n",
        "[lm.lemmatize(w, pos = \"v\") for w in words]"
      ],
      "execution_count": 9,
      "outputs": [
        {
          "output_type": "execute_result",
          "data": {
            "text/plain": [
              "['fly', 'file', 'fly', 'fly', 'fly']"
            ]
          },
          "metadata": {
            "tags": []
          },
          "execution_count": 9
        }
      ]
    },
    {
      "cell_type": "code",
      "metadata": {
        "colab": {
          "base_uri": "https://localhost:8080/"
        },
        "id": "d4daH1el3UIe",
        "outputId": "9f996bf2-6b16-4993-aa62-d0511882a227"
      },
      "source": [
        "nltk.help.upenn_tagset(\"VB\")"
      ],
      "execution_count": 10,
      "outputs": [
        {
          "output_type": "stream",
          "text": [
            "VB: verb, base form\n",
            "    ask assemble assess assign assume atone attention avoid bake balkanize\n",
            "    bank begin behold believe bend benefit bevel beware bless boil bomb\n",
            "    boost brace break bring broil brush build ...\n"
          ],
          "name": "stdout"
        }
      ]
    },
    {
      "cell_type": "code",
      "metadata": {
        "colab": {
          "base_uri": "https://localhost:8080/"
        },
        "id": "sX2bjrNs3WUs",
        "outputId": "a689e112-0208-4d1d-bc2a-b83fc1cfb011"
      },
      "source": [
        "from nltk.tag import pos_tag\n",
        "sentence = \"Emma refused to permit us to obtain the refuse permit\" \n",
        "tagged_list = pos_tag(word_tokenize(sentence))\n",
        "tagged_list"
      ],
      "execution_count": 11,
      "outputs": [
        {
          "output_type": "execute_result",
          "data": {
            "text/plain": [
              "[('Emma', 'NNP'),\n",
              " ('refused', 'VBD'),\n",
              " ('to', 'TO'),\n",
              " ('permit', 'VB'),\n",
              " ('us', 'PRP'),\n",
              " ('to', 'TO'),\n",
              " ('obtain', 'VB'),\n",
              " ('the', 'DT'),\n",
              " ('refuse', 'NN'),\n",
              " ('permit', 'NN')]"
            ]
          },
          "metadata": {
            "tags": []
          },
          "execution_count": 11
        }
      ]
    },
    {
      "cell_type": "code",
      "metadata": {
        "colab": {
          "base_uri": "https://localhost:8080/"
        },
        "id": "cWNjYmBN3YND",
        "outputId": "5d395d55-e410-40a2-90a0-c6334f9365d7"
      },
      "source": [
        "nouns_list = [t[0] for t in tagged_list if t[1] == \"NN\"] \n",
        "nouns_list"
      ],
      "execution_count": 12,
      "outputs": [
        {
          "output_type": "execute_result",
          "data": {
            "text/plain": [
              "['refuse', 'permit']"
            ]
          },
          "metadata": {
            "tags": []
          },
          "execution_count": 12
        }
      ]
    },
    {
      "cell_type": "code",
      "metadata": {
        "colab": {
          "base_uri": "https://localhost:8080/"
        },
        "id": "E82LU7hr3aPa",
        "outputId": "297e2bbf-815c-4b83-921a-02d0787765aa"
      },
      "source": [
        "from nltk.tag import untag\n",
        "untag(tagged_list)"
      ],
      "execution_count": 13,
      "outputs": [
        {
          "output_type": "execute_result",
          "data": {
            "text/plain": [
              "['Emma',\n",
              " 'refused',\n",
              " 'to',\n",
              " 'permit',\n",
              " 'us',\n",
              " 'to',\n",
              " 'obtain',\n",
              " 'the',\n",
              " 'refuse',\n",
              " 'permit']"
            ]
          },
          "metadata": {
            "tags": []
          },
          "execution_count": 13
        }
      ]
    },
    {
      "cell_type": "code",
      "metadata": {
        "colab": {
          "base_uri": "https://localhost:8080/"
        },
        "id": "ir9RuAcU3cIF",
        "outputId": "ef8700df-ec06-4f23-9262-d935b23a3b74"
      },
      "source": [
        "def tokenizer(doc):\n",
        "    return ['/'.join(p) for p in tagged_list]\n",
        "\n",
        "tokenizer(sentence)"
      ],
      "execution_count": 14,
      "outputs": [
        {
          "output_type": "execute_result",
          "data": {
            "text/plain": [
              "['Emma/NNP',\n",
              " 'refused/VBD',\n",
              " 'to/TO',\n",
              " 'permit/VB',\n",
              " 'us/PRP',\n",
              " 'to/TO',\n",
              " 'obtain/VB',\n",
              " 'the/DT',\n",
              " 'refuse/NN',\n",
              " 'permit/NN']"
            ]
          },
          "metadata": {
            "tags": []
          },
          "execution_count": 14
        }
      ]
    },
    {
      "cell_type": "code",
      "metadata": {
        "id": "1LFDAqNU3eLe"
      },
      "source": [
        "from nltk import Text\n",
        "text = Text(retokenize.tokenize(emma_raw))"
      ],
      "execution_count": 15,
      "outputs": []
    },
    {
      "cell_type": "code",
      "metadata": {
        "colab": {
          "base_uri": "https://localhost:8080/",
          "height": 294
        },
        "id": "hhAXawAX3gUe",
        "outputId": "adfe7466-a999-46c4-b6b4-1dd3d4dc2239"
      },
      "source": [
        "text.plot(20)"
      ],
      "execution_count": 16,
      "outputs": [
        {
          "output_type": "display_data",
          "data": {
            "image/png": "[encoded data removed]",
            "text/plain": [
              "<Figure size 432x288 with 1 Axes>"
            ]
          },
          "metadata": {
            "tags": [],
            "needs_background": "light"
          }
        }
      ]
    },
    {
      "cell_type": "code",
      "metadata": {
        "colab": {
          "base_uri": "https://localhost:8080/",
          "height": 295
        },
        "id": "uEErOwHD3iQ2",
        "outputId": "f9c54240-d674-45ad-ea7b-34ddd3455350"
      },
      "source": [
        "text.dispersion_plot([\"Emma\", \"Knightley\", \"Frank\", \"Jane\", \"Harriet\", \"Robert\"])"
      ],
      "execution_count": 17,
      "outputs": [
        {
          "output_type": "display_data",
          "data": {
            "image/png": "[encoded data removed]",
            "text/plain": [
              "<Figure size 432x288 with 1 Axes>"
            ]
          },
          "metadata": {
            "tags": [],
            "needs_background": "light"
          }
        }
      ]
    },
    {
      "cell_type": "code",
      "metadata": {
        "colab": {
          "base_uri": "https://localhost:8080/"
        },
        "id": "ZQfm6_Nz3kQ3",
        "outputId": "a85c3695-1c0a-4217-8217-820752acc3fc"
      },
      "source": [
        "text.concordance(\"Emma\")"
      ],
      "execution_count": 18,
      "outputs": [
        {
          "output_type": "stream",
          "text": [
            "Displaying 25 of 865 matches:\n",
            "                                     Emma by Jane Austen 1816 VOLUME I CHAPTER\n",
            "                                     Emma Woodhouse handsome clever and rich w\n",
            "f both daughters but particularly of Emma Between _them_ it was more the intim\n",
            "nd friend very mutually attached and Emma doing just what she liked highly est\n",
            " by her own The real evils indeed of Emma s situation were the power of having\n",
            "ding day of this beloved friend that Emma first sat in mournful thought of any\n",
            "going only half a mile from them but Emma was aware that great must be the dif\n",
            "a day It was a melancholy change and Emma could not but sigh over it and wish \n",
            "ll the rest of her life at Hartfield Emma smiled and chatted as cheerfully as \n",
            "l be able to tell her how we all are Emma spared no exertions to maintain this\n",
            "or I have a great regard for you and Emma but when it comes to the question of\n",
            "a fanciful troublesome creature said Emma playfully That is what you have in y\n",
            "e few people who could see faults in Emma Woodhouse and the only one who ever \n",
            "is was not particularly agreeable to Emma herself she knew it would be so much\n",
            " being thought perfect by every body Emma knows I never flatter her said Mr Kn\n",
            " that she must be a gainer Well said Emma willing to let it pass you want to h\n",
            " were sure of meeting every day Dear Emma bears every thing so well said her f\n",
            "l_ miss her more than she thinks for Emma turned away her head divided between\n",
            "ars and smiles It is impossible that Emma should not miss such a companion sai\n",
            "rgotten one matter of joy to me said Emma and a very considerable one that I m\n",
            "lf than good to them by interference Emma never thinks of herself if she can d\n",
            "ch better thing Invite him to dinner Emma and help him to the best of the fish\n",
            " and could not think without pain of Emma s losing a single pleasure or suffer\n",
            "nt of her companionableness but dear Emma was of no feeble character she was m\n",
            "ent was so just and so apparent that Emma well as she knew her father was some\n"
          ],
          "name": "stdout"
        }
      ]
    },
    {
      "cell_type": "code",
      "metadata": {
        "colab": {
          "base_uri": "https://localhost:8080/"
        },
        "id": "jPd0efRo3mT1",
        "outputId": "d5c251b8-2272-4392-daf6-a457639a0ef9"
      },
      "source": [
        "text.similar(\"Emma\")"
      ],
      "execution_count": 19,
      "outputs": [
        {
          "output_type": "stream",
          "text": [
            "she it he i harriet you her jane him that me and all they them herself\n",
            "there but be isabella\n"
          ],
          "name": "stdout"
        }
      ]
    },
    {
      "cell_type": "code",
      "metadata": {
        "colab": {
          "base_uri": "https://localhost:8080/"
        },
        "id": "0d-XKGw_3otN",
        "outputId": "1e115a9e-9fd8-4002-e3ef-7083f1bb4027"
      },
      "source": [
        "text.common_contexts([\"Emma\", \"she\"])"
      ],
      "execution_count": 20,
      "outputs": [
        {
          "output_type": "stream",
          "text": [
            "but_was and_could that_should said_and which_could whom_knew\n",
            "which_particularly and_imagined that_could said_i that_began\n",
            "and_thought do_was but_could than_had said_but manner_was this_could\n",
            "as_saw possible_could\n"
          ],
          "name": "stdout"
        }
      ]
    },
    {
      "cell_type": "code",
      "metadata": {
        "colab": {
          "base_uri": "https://localhost:8080/"
        },
        "id": "8MFwbzeJ3qlh",
        "outputId": "56884eae-7111-4a97-ae4d-e9199f31944c"
      },
      "source": [
        "fd = text.vocab() \n",
        "type(fd)"
      ],
      "execution_count": 21,
      "outputs": [
        {
          "output_type": "execute_result",
          "data": {
            "text/plain": [
              "nltk.probability.FreqDist"
            ]
          },
          "metadata": {
            "tags": []
          },
          "execution_count": 21
        }
      ]
    },
    {
      "cell_type": "code",
      "metadata": {
        "id": "suYE_cCq3tHg"
      },
      "source": [
        "from nltk import FreqDist\n",
        "stopwords = [\"Mr.\", \"Mrs.\", \"Miss\", \"Mr\", \"Mrs\", \"Dear\"]\n",
        "emma_tokens = pos_tag(retokenize.tokenize(emma_raw))\n",
        "names_list = [t[0] for t in emma_tokens if t[1] == \"NNP\" and t[0] not in stopwords]\n",
        "fd_names = FreqDist(names_list)"
      ],
      "execution_count": 23,
      "outputs": []
    },
    {
      "cell_type": "code",
      "metadata": {
        "colab": {
          "base_uri": "https://localhost:8080/"
        },
        "id": "TvDrv56m3vSc",
        "outputId": "14d24354-e099-4600-dc40-4d84f3e5e753"
      },
      "source": [
        "fd_names.N(), fd_names[\"Emma\"], fd_names.freq(\"Emma\")"
      ],
      "execution_count": 24,
      "outputs": [
        {
          "output_type": "execute_result",
          "data": {
            "text/plain": [
              "(7863, 830, 0.10555767518758744)"
            ]
          },
          "metadata": {
            "tags": []
          },
          "execution_count": 24
        }
      ]
    },
    {
      "cell_type": "code",
      "metadata": {
        "colab": {
          "base_uri": "https://localhost:8080/"
        },
        "id": "pEqOqt6w3zv_",
        "outputId": "68d34218-5693-439b-82cf-a0829c7ca4f0"
      },
      "source": [
        "fd_names.most_common(5)"
      ],
      "execution_count": 25,
      "outputs": [
        {
          "output_type": "execute_result",
          "data": {
            "text/plain": [
              "[('Emma', 830),\n",
              " ('Harriet', 491),\n",
              " ('Weston', 439),\n",
              " ('Knightley', 389),\n",
              " ('Elton', 385)]"
            ]
          },
          "metadata": {
            "tags": []
          },
          "execution_count": 25
        }
      ]
    },
    {
      "cell_type": "code",
      "metadata": {
        "id": "tex8gQHJ31aS"
      },
      "source": [
        ""
      ],
      "execution_count": null,
      "outputs": []
    }
  ]
}