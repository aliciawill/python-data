{
  "nbformat": 4,
  "nbformat_minor": 0,
  "metadata": {
    "colab": {
      "name": "질병예측-암데이터-앙상블.ipynb",
      "provenance": [],
      "collapsed_sections": [],
      "authorship_tag": "ABX9TyMjkkPkzia+g5Q5pbMrFH+y",
      "include_colab_link": true
    },
    "kernelspec": {
      "name": "python3",
      "display_name": "Python 3"
    },
    "language_info": {
      "name": "python"
    }
  },
  "cells": [
    {
      "cell_type": "markdown",
      "metadata": {
        "id": "view-in-github",
        "colab_type": "text"
      },
      "source": [
        "<a href=\"https://colab.research.google.com/github/aliciawill/python-data/blob/master/%EC%A7%88%EB%B3%91%EC%98%88%EC%B8%A1_%EC%95%94%EB%8D%B0%EC%9D%B4%ED%84%B0_%EC%95%99%EC%83%81%EB%B8%94.ipynb\" target=\"_parent\"><img src=\"https://colab.research.google.com/assets/colab-badge.svg\" alt=\"Open In Colab\"/></a>"
      ]
    },
    {
      "cell_type": "code",
      "execution_count": 55,
      "metadata": {
        "id": "GkdwC8aVY4Bx"
      },
      "outputs": [],
      "source": [
        "# 주요 라이브러리 import\n",
        "import warnings\n",
        "warnings.filterwarnings(action='ignore')\n",
        "import time\n",
        "from IPython.display import Image\n",
        "import pandas as pd\n",
        "import numpy as np\n",
        "\n",
        "import matplotlib.pyplot as plt\n",
        "import seaborn as sns\n",
        "\n",
        "from sklearn.model_selection import train_test_split\n",
        "from sklearn.model_selection import GridSearchCV\n",
        "from sklearn.model_selection import cross_val_score\n",
        "from sklearn.metrics import *\n",
        "from sklearn.metrics import roc_curve, roc_auc_score\n",
        "\n",
        "from matplotlib import rc, font_manager\n",
        "import matplotlib.font_manager as fm\n",
        "from sklearn.preprocessing import StandardScaler\n",
        "from sklearn.preprocessing import MinMaxScaler\n",
        "from sklearn.preprocessing import LabelEncoder\n",
        "\n",
        "from sklearn.tree import DecisionTreeClassifier\n",
        "from sklearn.svm import SVC\n",
        "from sklearn.linear_model import LogisticRegression\n",
        "\n",
        "from sklearn.ensemble import VotingClassifier\n",
        "from sklearn.ensemble import RandomForestClassifier\n",
        "import catboost as cat"
      ]
    },
    {
      "cell_type": "code",
      "source": [
        "#!pip install catboost"
      ],
      "metadata": {
        "colab": {
          "base_uri": "https://localhost:8080/"
        },
        "id": "kIF0NoYmR0mf",
        "outputId": "95c3ae8f-c297-44aa-e787-a60732e5716e"
      },
      "execution_count": 54,
      "outputs": [
        {
          "output_type": "stream",
          "name": "stdout",
          "text": [
            "Collecting catboost\n",
            "  Downloading catboost-1.0.5-cp37-none-manylinux1_x86_64.whl (76.6 MB)\n",
            "\u001b[K     |████████████████████████████████| 76.6 MB 30 kB/s \n",
            "\u001b[?25hRequirement already satisfied: graphviz in /usr/local/lib/python3.7/dist-packages (from catboost) (0.10.1)\n",
            "Requirement already satisfied: pandas>=0.24.0 in /usr/local/lib/python3.7/dist-packages (from catboost) (1.3.5)\n",
            "Requirement already satisfied: matplotlib in /usr/local/lib/python3.7/dist-packages (from catboost) (3.2.2)\n",
            "Requirement already satisfied: plotly in /usr/local/lib/python3.7/dist-packages (from catboost) (5.5.0)\n",
            "Requirement already satisfied: scipy in /usr/local/lib/python3.7/dist-packages (from catboost) (1.4.1)\n",
            "Requirement already satisfied: six in /usr/local/lib/python3.7/dist-packages (from catboost) (1.15.0)\n",
            "Requirement already satisfied: numpy>=1.16.0 in /usr/local/lib/python3.7/dist-packages (from catboost) (1.21.5)\n",
            "Requirement already satisfied: python-dateutil>=2.7.3 in /usr/local/lib/python3.7/dist-packages (from pandas>=0.24.0->catboost) (2.8.2)\n",
            "Requirement already satisfied: pytz>=2017.3 in /usr/local/lib/python3.7/dist-packages (from pandas>=0.24.0->catboost) (2018.9)\n",
            "Requirement already satisfied: kiwisolver>=1.0.1 in /usr/local/lib/python3.7/dist-packages (from matplotlib->catboost) (1.4.2)\n",
            "Requirement already satisfied: pyparsing!=2.0.4,!=2.1.2,!=2.1.6,>=2.0.1 in /usr/local/lib/python3.7/dist-packages (from matplotlib->catboost) (3.0.8)\n",
            "Requirement already satisfied: cycler>=0.10 in /usr/local/lib/python3.7/dist-packages (from matplotlib->catboost) (0.11.0)\n",
            "Requirement already satisfied: typing-extensions in /usr/local/lib/python3.7/dist-packages (from kiwisolver>=1.0.1->matplotlib->catboost) (4.1.1)\n",
            "Requirement already satisfied: tenacity>=6.2.0 in /usr/local/lib/python3.7/dist-packages (from plotly->catboost) (8.0.1)\n",
            "Installing collected packages: catboost\n",
            "Successfully installed catboost-1.0.5\n"
          ]
        }
      ]
    },
    {
      "cell_type": "code",
      "source": [
        "df = pd.read_csv('/content/wisc_bc_data.csv', encoding='utf-8')\n",
        "df.head()"
      ],
      "metadata": {
        "colab": {
          "base_uri": "https://localhost:8080/",
          "height": 299
        },
        "id": "E6oHHdf0ZYOP",
        "outputId": "ae11d77f-4de0-47b8-c077-ed17d38e17bb"
      },
      "execution_count": null,
      "outputs": [
        {
          "output_type": "execute_result",
          "data": {
            "text/plain": [
              "         id diagnosis  radius_mean  texture_mean  perimeter_mean  area_mean  \\\n",
              "0  87139402         B        12.32         12.39           78.85      464.1   \n",
              "1   8910251         B        10.60         18.95           69.28      346.4   \n",
              "2    905520         B        11.04         16.83           70.92      373.2   \n",
              "3    868871         B        11.28         13.39           73.00      384.8   \n",
              "4   9012568         B        15.19         13.21           97.65      711.8   \n",
              "\n",
              "   smoothness_mean  compactness_mean  concavity_mean  points_mean  ...  \\\n",
              "0          0.10280           0.06981         0.03987      0.03700  ...   \n",
              "1          0.09688           0.11470         0.06387      0.02642  ...   \n",
              "2          0.10770           0.07804         0.03046      0.02480  ...   \n",
              "3          0.11640           0.11360         0.04635      0.04796  ...   \n",
              "4          0.07963           0.06934         0.03393      0.02657  ...   \n",
              "\n",
              "   radius_worst  texture_worst  perimeter_worst  area_worst  smoothness_worst  \\\n",
              "0         13.50          15.64            86.97       549.1            0.1385   \n",
              "1         11.88          22.94            78.28       424.8            0.1213   \n",
              "2         12.41          26.44            79.93       471.4            0.1369   \n",
              "3         11.92          15.77            76.53       434.0            0.1367   \n",
              "4         16.20          15.73           104.50       819.1            0.1126   \n",
              "\n",
              "   compactness_worst  concavity_worst  points_worst  symmetry_worst  \\\n",
              "0             0.1266          0.12420       0.09391          0.2827   \n",
              "1             0.2515          0.19160       0.07926          0.2940   \n",
              "2             0.1482          0.10670       0.07431          0.2998   \n",
              "3             0.1822          0.08669       0.08611          0.2102   \n",
              "4             0.1737          0.13620       0.08178          0.2487   \n",
              "\n",
              "   dimension_worst  \n",
              "0          0.06771  \n",
              "1          0.07587  \n",
              "2          0.07881  \n",
              "3          0.06784  \n",
              "4          0.06766  \n",
              "\n",
              "[5 rows x 32 columns]"
            ],
            "text/html": [
              "\n",
              "  <div id=\"df-5f208a25-7dc8-49fe-8bb0-252860934b65\">\n",
              "    <div class=\"colab-df-container\">\n",
              "      <div>\n",
              "<style scoped>\n",
              "    .dataframe tbody tr th:only-of-type {\n",
              "        vertical-align: middle;\n",
              "    }\n",
              "\n",
              "    .dataframe tbody tr th {\n",
              "        vertical-align: top;\n",
              "    }\n",
              "\n",
              "    .dataframe thead th {\n",
              "        text-align: right;\n",
              "    }\n",
              "</style>\n",
              "<table border=\"1\" class=\"dataframe\">\n",
              "  <thead>\n",
              "    <tr style=\"text-align: right;\">\n",
              "      <th></th>\n",
              "      <th>id</th>\n",
              "      <th>diagnosis</th>\n",
              "      <th>radius_mean</th>\n",
              "      <th>texture_mean</th>\n",
              "      <th>perimeter_mean</th>\n",
              "      <th>area_mean</th>\n",
              "      <th>smoothness_mean</th>\n",
              "      <th>compactness_mean</th>\n",
              "      <th>concavity_mean</th>\n",
              "      <th>points_mean</th>\n",
              "      <th>...</th>\n",
              "      <th>radius_worst</th>\n",
              "      <th>texture_worst</th>\n",
              "      <th>perimeter_worst</th>\n",
              "      <th>area_worst</th>\n",
              "      <th>smoothness_worst</th>\n",
              "      <th>compactness_worst</th>\n",
              "      <th>concavity_worst</th>\n",
              "      <th>points_worst</th>\n",
              "      <th>symmetry_worst</th>\n",
              "      <th>dimension_worst</th>\n",
              "    </tr>\n",
              "  </thead>\n",
              "  <tbody>\n",
              "    <tr>\n",
              "      <th>0</th>\n",
              "      <td>87139402</td>\n",
              "      <td>B</td>\n",
              "      <td>12.32</td>\n",
              "      <td>12.39</td>\n",
              "      <td>78.85</td>\n",
              "      <td>464.1</td>\n",
              "      <td>0.10280</td>\n",
              "      <td>0.06981</td>\n",
              "      <td>0.03987</td>\n",
              "      <td>0.03700</td>\n",
              "      <td>...</td>\n",
              "      <td>13.50</td>\n",
              "      <td>15.64</td>\n",
              "      <td>86.97</td>\n",
              "      <td>549.1</td>\n",
              "      <td>0.1385</td>\n",
              "      <td>0.1266</td>\n",
              "      <td>0.12420</td>\n",
              "      <td>0.09391</td>\n",
              "      <td>0.2827</td>\n",
              "      <td>0.06771</td>\n",
              "    </tr>\n",
              "    <tr>\n",
              "      <th>1</th>\n",
              "      <td>8910251</td>\n",
              "      <td>B</td>\n",
              "      <td>10.60</td>\n",
              "      <td>18.95</td>\n",
              "      <td>69.28</td>\n",
              "      <td>346.4</td>\n",
              "      <td>0.09688</td>\n",
              "      <td>0.11470</td>\n",
              "      <td>0.06387</td>\n",
              "      <td>0.02642</td>\n",
              "      <td>...</td>\n",
              "      <td>11.88</td>\n",
              "      <td>22.94</td>\n",
              "      <td>78.28</td>\n",
              "      <td>424.8</td>\n",
              "      <td>0.1213</td>\n",
              "      <td>0.2515</td>\n",
              "      <td>0.19160</td>\n",
              "      <td>0.07926</td>\n",
              "      <td>0.2940</td>\n",
              "      <td>0.07587</td>\n",
              "    </tr>\n",
              "    <tr>\n",
              "      <th>2</th>\n",
              "      <td>905520</td>\n",
              "      <td>B</td>\n",
              "      <td>11.04</td>\n",
              "      <td>16.83</td>\n",
              "      <td>70.92</td>\n",
              "      <td>373.2</td>\n",
              "      <td>0.10770</td>\n",
              "      <td>0.07804</td>\n",
              "      <td>0.03046</td>\n",
              "      <td>0.02480</td>\n",
              "      <td>...</td>\n",
              "      <td>12.41</td>\n",
              "      <td>26.44</td>\n",
              "      <td>79.93</td>\n",
              "      <td>471.4</td>\n",
              "      <td>0.1369</td>\n",
              "      <td>0.1482</td>\n",
              "      <td>0.10670</td>\n",
              "      <td>0.07431</td>\n",
              "      <td>0.2998</td>\n",
              "      <td>0.07881</td>\n",
              "    </tr>\n",
              "    <tr>\n",
              "      <th>3</th>\n",
              "      <td>868871</td>\n",
              "      <td>B</td>\n",
              "      <td>11.28</td>\n",
              "      <td>13.39</td>\n",
              "      <td>73.00</td>\n",
              "      <td>384.8</td>\n",
              "      <td>0.11640</td>\n",
              "      <td>0.11360</td>\n",
              "      <td>0.04635</td>\n",
              "      <td>0.04796</td>\n",
              "      <td>...</td>\n",
              "      <td>11.92</td>\n",
              "      <td>15.77</td>\n",
              "      <td>76.53</td>\n",
              "      <td>434.0</td>\n",
              "      <td>0.1367</td>\n",
              "      <td>0.1822</td>\n",
              "      <td>0.08669</td>\n",
              "      <td>0.08611</td>\n",
              "      <td>0.2102</td>\n",
              "      <td>0.06784</td>\n",
              "    </tr>\n",
              "    <tr>\n",
              "      <th>4</th>\n",
              "      <td>9012568</td>\n",
              "      <td>B</td>\n",
              "      <td>15.19</td>\n",
              "      <td>13.21</td>\n",
              "      <td>97.65</td>\n",
              "      <td>711.8</td>\n",
              "      <td>0.07963</td>\n",
              "      <td>0.06934</td>\n",
              "      <td>0.03393</td>\n",
              "      <td>0.02657</td>\n",
              "      <td>...</td>\n",
              "      <td>16.20</td>\n",
              "      <td>15.73</td>\n",
              "      <td>104.50</td>\n",
              "      <td>819.1</td>\n",
              "      <td>0.1126</td>\n",
              "      <td>0.1737</td>\n",
              "      <td>0.13620</td>\n",
              "      <td>0.08178</td>\n",
              "      <td>0.2487</td>\n",
              "      <td>0.06766</td>\n",
              "    </tr>\n",
              "  </tbody>\n",
              "</table>\n",
              "<p>5 rows × 32 columns</p>\n",
              "</div>\n",
              "      <button class=\"colab-df-convert\" onclick=\"convertToInteractive('df-5f208a25-7dc8-49fe-8bb0-252860934b65')\"\n",
              "              title=\"Convert this dataframe to an interactive table.\"\n",
              "              style=\"display:none;\">\n",
              "        \n",
              "  <svg xmlns=\"http://www.w3.org/2000/svg\" height=\"24px\"viewBox=\"0 0 24 24\"\n",
              "       width=\"24px\">\n",
              "    <path d=\"M0 0h24v24H0V0z\" fill=\"none\"/>\n",
              "    <path d=\"M18.56 5.44l.94 2.06.94-2.06 2.06-.94-2.06-.94-.94-2.06-.94 2.06-2.06.94zm-11 1L8.5 8.5l.94-2.06 2.06-.94-2.06-.94L8.5 2.5l-.94 2.06-2.06.94zm10 10l.94 2.06.94-2.06 2.06-.94-2.06-.94-.94-2.06-.94 2.06-2.06.94z\"/><path d=\"M17.41 7.96l-1.37-1.37c-.4-.4-.92-.59-1.43-.59-.52 0-1.04.2-1.43.59L10.3 9.45l-7.72 7.72c-.78.78-.78 2.05 0 2.83L4 21.41c.39.39.9.59 1.41.59.51 0 1.02-.2 1.41-.59l7.78-7.78 2.81-2.81c.8-.78.8-2.07 0-2.86zM5.41 20L4 18.59l7.72-7.72 1.47 1.35L5.41 20z\"/>\n",
              "  </svg>\n",
              "      </button>\n",
              "      \n",
              "  <style>\n",
              "    .colab-df-container {\n",
              "      display:flex;\n",
              "      flex-wrap:wrap;\n",
              "      gap: 12px;\n",
              "    }\n",
              "\n",
              "    .colab-df-convert {\n",
              "      background-color: #E8F0FE;\n",
              "      border: none;\n",
              "      border-radius: 50%;\n",
              "      cursor: pointer;\n",
              "      display: none;\n",
              "      fill: #1967D2;\n",
              "      height: 32px;\n",
              "      padding: 0 0 0 0;\n",
              "      width: 32px;\n",
              "    }\n",
              "\n",
              "    .colab-df-convert:hover {\n",
              "      background-color: #E2EBFA;\n",
              "      box-shadow: 0px 1px 2px rgba(60, 64, 67, 0.3), 0px 1px 3px 1px rgba(60, 64, 67, 0.15);\n",
              "      fill: #174EA6;\n",
              "    }\n",
              "\n",
              "    [theme=dark] .colab-df-convert {\n",
              "      background-color: #3B4455;\n",
              "      fill: #D2E3FC;\n",
              "    }\n",
              "\n",
              "    [theme=dark] .colab-df-convert:hover {\n",
              "      background-color: #434B5C;\n",
              "      box-shadow: 0px 1px 3px 1px rgba(0, 0, 0, 0.15);\n",
              "      filter: drop-shadow(0px 1px 2px rgba(0, 0, 0, 0.3));\n",
              "      fill: #FFFFFF;\n",
              "    }\n",
              "  </style>\n",
              "\n",
              "      <script>\n",
              "        const buttonEl =\n",
              "          document.querySelector('#df-5f208a25-7dc8-49fe-8bb0-252860934b65 button.colab-df-convert');\n",
              "        buttonEl.style.display =\n",
              "          google.colab.kernel.accessAllowed ? 'block' : 'none';\n",
              "\n",
              "        async function convertToInteractive(key) {\n",
              "          const element = document.querySelector('#df-5f208a25-7dc8-49fe-8bb0-252860934b65');\n",
              "          const dataTable =\n",
              "            await google.colab.kernel.invokeFunction('convertToInteractive',\n",
              "                                                     [key], {});\n",
              "          if (!dataTable) return;\n",
              "\n",
              "          const docLinkHtml = 'Like what you see? Visit the ' +\n",
              "            '<a target=\"_blank\" href=https://colab.research.google.com/notebooks/data_table.ipynb>data table notebook</a>'\n",
              "            + ' to learn more about interactive tables.';\n",
              "          element.innerHTML = '';\n",
              "          dataTable['output_type'] = 'display_data';\n",
              "          await google.colab.output.renderOutput(dataTable, element);\n",
              "          const docLink = document.createElement('div');\n",
              "          docLink.innerHTML = docLinkHtml;\n",
              "          element.appendChild(docLink);\n",
              "        }\n",
              "      </script>\n",
              "    </div>\n",
              "  </div>\n",
              "  "
            ]
          },
          "metadata": {},
          "execution_count": 3
        }
      ]
    },
    {
      "cell_type": "code",
      "source": [
        "df.info()"
      ],
      "metadata": {
        "colab": {
          "base_uri": "https://localhost:8080/"
        },
        "id": "rEA2D12RZp9p",
        "outputId": "8e36bfaa-ca2d-4596-f991-c19096fcc8c2"
      },
      "execution_count": null,
      "outputs": [
        {
          "output_type": "stream",
          "name": "stdout",
          "text": [
            "<class 'pandas.core.frame.DataFrame'>\n",
            "RangeIndex: 569 entries, 0 to 568\n",
            "Data columns (total 32 columns):\n",
            " #   Column             Non-Null Count  Dtype  \n",
            "---  ------             --------------  -----  \n",
            " 0   id                 569 non-null    int64  \n",
            " 1   diagnosis          569 non-null    object \n",
            " 2   radius_mean        569 non-null    float64\n",
            " 3   texture_mean       569 non-null    float64\n",
            " 4   perimeter_mean     569 non-null    float64\n",
            " 5   area_mean          569 non-null    float64\n",
            " 6   smoothness_mean    569 non-null    float64\n",
            " 7   compactness_mean   569 non-null    float64\n",
            " 8   concavity_mean     569 non-null    float64\n",
            " 9   points_mean        569 non-null    float64\n",
            " 10  symmetry_mean      569 non-null    float64\n",
            " 11  dimension_mean     569 non-null    float64\n",
            " 12  radius_se          569 non-null    float64\n",
            " 13  texture_se         569 non-null    float64\n",
            " 14  perimeter_se       569 non-null    float64\n",
            " 15  area_se            569 non-null    float64\n",
            " 16  smoothness_se      569 non-null    float64\n",
            " 17  compactness_se     569 non-null    float64\n",
            " 18  concavity_se       569 non-null    float64\n",
            " 19  points_se          569 non-null    float64\n",
            " 20  symmetry_se        569 non-null    float64\n",
            " 21  dimension_se       569 non-null    float64\n",
            " 22  radius_worst       569 non-null    float64\n",
            " 23  texture_worst      569 non-null    float64\n",
            " 24  perimeter_worst    569 non-null    float64\n",
            " 25  area_worst         569 non-null    float64\n",
            " 26  smoothness_worst   569 non-null    float64\n",
            " 27  compactness_worst  569 non-null    float64\n",
            " 28  concavity_worst    569 non-null    float64\n",
            " 29  points_worst       569 non-null    float64\n",
            " 30  symmetry_worst     569 non-null    float64\n",
            " 31  dimension_worst    569 non-null    float64\n",
            "dtypes: float64(30), int64(1), object(1)\n",
            "memory usage: 142.4+ KB\n"
          ]
        }
      ]
    },
    {
      "cell_type": "code",
      "source": [
        "df['diagnosis']"
      ],
      "metadata": {
        "colab": {
          "base_uri": "https://localhost:8080/"
        },
        "id": "17L7JyqYj8du",
        "outputId": "20998782-50ef-467c-8fd7-40cedf878700"
      },
      "execution_count": null,
      "outputs": [
        {
          "output_type": "execute_result",
          "data": {
            "text/plain": [
              "0      B\n",
              "1      B\n",
              "2      B\n",
              "3      B\n",
              "4      B\n",
              "      ..\n",
              "564    B\n",
              "565    B\n",
              "566    M\n",
              "567    B\n",
              "568    M\n",
              "Name: diagnosis, Length: 569, dtype: object"
            ]
          },
          "metadata": {},
          "execution_count": 5
        }
      ]
    },
    {
      "cell_type": "code",
      "source": [
        "df['diagnosis']"
      ],
      "metadata": {
        "colab": {
          "base_uri": "https://localhost:8080/"
        },
        "id": "H4f87rhXTrAG",
        "outputId": "95bb433a-fe1a-4ff4-f163-b10cb813d096"
      },
      "execution_count": 64,
      "outputs": [
        {
          "output_type": "execute_result",
          "data": {
            "text/plain": [
              "0      B\n",
              "1      B\n",
              "2      B\n",
              "3      B\n",
              "4      B\n",
              "      ..\n",
              "564    B\n",
              "565    B\n",
              "566    M\n",
              "567    B\n",
              "568    M\n",
              "Name: diagnosis, Length: 569, dtype: object"
            ]
          },
          "metadata": {},
          "execution_count": 64
        }
      ]
    },
    {
      "cell_type": "code",
      "source": [
        "encoder = LabelEncoder()\n",
        "df['diagnosis'] = encoder.fit_transform(df['diagnosis'])\n",
        "df['diagnosis'][:3]"
      ],
      "metadata": {
        "colab": {
          "base_uri": "https://localhost:8080/"
        },
        "id": "8FQfczEhTYdq",
        "outputId": "48d97be0-8dbc-4f31-c842-baaa2b905a6b"
      },
      "execution_count": 65,
      "outputs": [
        {
          "output_type": "execute_result",
          "data": {
            "text/plain": [
              "0    0\n",
              "1    0\n",
              "2    0\n",
              "Name: diagnosis, dtype: int64"
            ]
          },
          "metadata": {},
          "execution_count": 65
        }
      ]
    },
    {
      "cell_type": "code",
      "source": [
        "df.columns"
      ],
      "metadata": {
        "colab": {
          "base_uri": "https://localhost:8080/"
        },
        "id": "FDxkvW4oZ2sP",
        "outputId": "0ee74515-4feb-4c11-9484-ce112144ff2f"
      },
      "execution_count": null,
      "outputs": [
        {
          "output_type": "execute_result",
          "data": {
            "text/plain": [
              "Index(['id', 'diagnosis', 'radius_mean', 'texture_mean', 'perimeter_mean',\n",
              "       'area_mean', 'smoothness_mean', 'compactness_mean', 'concavity_mean',\n",
              "       'points_mean', 'symmetry_mean', 'dimension_mean', 'radius_se',\n",
              "       'texture_se', 'perimeter_se', 'area_se', 'smoothness_se',\n",
              "       'compactness_se', 'concavity_se', 'points_se', 'symmetry_se',\n",
              "       'dimension_se', 'radius_worst', 'texture_worst', 'perimeter_worst',\n",
              "       'area_worst', 'smoothness_worst', 'compactness_worst',\n",
              "       'concavity_worst', 'points_worst', 'symmetry_worst', 'dimension_worst'],\n",
              "      dtype='object')"
            ]
          },
          "metadata": {},
          "execution_count": 6
        }
      ]
    },
    {
      "cell_type": "code",
      "source": [
        "## 1. Unnamed삭제\n",
        "## 2. Age~Thal : 설명변수\n",
        "## 3. AHD : 종속변수"
      ],
      "metadata": {
        "id": "A2ALCjHpah4I"
      },
      "execution_count": null,
      "outputs": []
    },
    {
      "cell_type": "code",
      "source": [
        "X_train, X_test, y_train, y_test = train_test_split(\n",
        "    df[['id', 'radius_mean', 'texture_mean', 'perimeter_mean',\n",
        "       'area_mean', 'smoothness_mean', 'compactness_mean', 'concavity_mean',\n",
        "       'points_mean', 'symmetry_mean', 'dimension_mean', 'radius_se',\n",
        "       'texture_se', 'perimeter_se', 'area_se', 'smoothness_se',\n",
        "       'compactness_se', 'concavity_se', 'points_se', 'symmetry_se',\n",
        "       'dimension_se', 'radius_worst', 'texture_worst', 'perimeter_worst',\n",
        "       'area_worst', 'smoothness_worst', 'compactness_worst',\n",
        "       'concavity_worst', 'points_worst', 'symmetry_worst', 'dimension_worst']],\n",
        "    df['diagnosis'],\n",
        "    test_size=0.2,\n",
        "    random_state=42\n",
        "\n",
        ")"
      ],
      "metadata": {
        "id": "xcFN_qghbds7"
      },
      "execution_count": 66,
      "outputs": []
    },
    {
      "cell_type": "code",
      "source": [
        "X_train.shape, X_test.shape"
      ],
      "metadata": {
        "colab": {
          "base_uri": "https://localhost:8080/"
        },
        "id": "0fNFRLuYb3JT",
        "outputId": "3de8591c-5645-4dd1-a709-9dbbcb0a82e0"
      },
      "execution_count": null,
      "outputs": [
        {
          "output_type": "execute_result",
          "data": {
            "text/plain": [
              "((455, 31), (114, 31))"
            ]
          },
          "metadata": {},
          "execution_count": 9
        }
      ]
    },
    {
      "cell_type": "code",
      "source": [
        "y_train.shape, y_test.shape"
      ],
      "metadata": {
        "colab": {
          "base_uri": "https://localhost:8080/"
        },
        "id": "LPQXyM8ib4s_",
        "outputId": "c355e649-c415-4569-c188-80dccc3c65cc"
      },
      "execution_count": null,
      "outputs": [
        {
          "output_type": "execute_result",
          "data": {
            "text/plain": [
              "((455,), (114,))"
            ]
          },
          "metadata": {},
          "execution_count": 10
        }
      ]
    },
    {
      "cell_type": "code",
      "source": [
        "y_train[:10]"
      ],
      "metadata": {
        "colab": {
          "base_uri": "https://localhost:8080/"
        },
        "id": "4hxE4lmce-NK",
        "outputId": "3d7f0ea0-2653-4cf6-e4b3-91d1462aa809"
      },
      "execution_count": null,
      "outputs": [
        {
          "output_type": "execute_result",
          "data": {
            "text/plain": [
              "68     B\n",
              "181    M\n",
              "63     M\n",
              "248    B\n",
              "60     M\n",
              "15     B\n",
              "290    B\n",
              "137    B\n",
              "155    B\n",
              "517    M\n",
              "Name: diagnosis, dtype: object"
            ]
          },
          "metadata": {},
          "execution_count": 11
        }
      ]
    },
    {
      "cell_type": "code",
      "source": [
        "## 단일 모델들에 대한 객체 생성\n",
        "## voting(hard/soft)"
      ],
      "metadata": {
        "id": "x1tTyWIEb9fv"
      },
      "execution_count": null,
      "outputs": []
    },
    {
      "cell_type": "code",
      "source": [
        "dt = DecisionTreeClassifier(\n",
        "    criterion='gini',\n",
        "    max_depth = 3,\n",
        "    max_features = 8,\n",
        "    random_state = 100\n",
        ")\n",
        "dt.fit(X_train, y_train)"
      ],
      "metadata": {
        "colab": {
          "base_uri": "https://localhost:8080/"
        },
        "id": "Mh4ydBnOcJbB",
        "outputId": "77910795-c294-4c85-e6d1-b93214f5a4a1"
      },
      "execution_count": null,
      "outputs": [
        {
          "output_type": "execute_result",
          "data": {
            "text/plain": [
              "DecisionTreeClassifier(max_depth=3, max_features=8, random_state=100)"
            ]
          },
          "metadata": {},
          "execution_count": 13
        }
      ]
    },
    {
      "cell_type": "code",
      "source": [
        "svc = SVC(\n",
        "    kernel = 'rbf',\n",
        "    C=0.1,\n",
        "    gamma=10,\n",
        "    probability=True,\n",
        "    random_state = 10\n",
        ")\n",
        "svc.fit(X_train, y_train)"
      ],
      "metadata": {
        "colab": {
          "base_uri": "https://localhost:8080/"
        },
        "id": "LU7XimNlcJfS",
        "outputId": "4395afde-6e11-4cb4-beff-4693ddf1ddc4"
      },
      "execution_count": null,
      "outputs": [
        {
          "output_type": "execute_result",
          "data": {
            "text/plain": [
              "SVC(C=0.1, gamma=10, probability=True, random_state=10)"
            ]
          },
          "metadata": {},
          "execution_count": 14
        }
      ]
    },
    {
      "cell_type": "code",
      "source": [
        "lr = LogisticRegression()\n",
        "lr.fit(X_train, y_train)"
      ],
      "metadata": {
        "colab": {
          "base_uri": "https://localhost:8080/"
        },
        "id": "iU8db5CqdKYB",
        "outputId": "d774f7e7-11b2-4fcf-c684-906872dc853e"
      },
      "execution_count": null,
      "outputs": [
        {
          "output_type": "execute_result",
          "data": {
            "text/plain": [
              "LogisticRegression()"
            ]
          },
          "metadata": {},
          "execution_count": 15
        }
      ]
    },
    {
      "cell_type": "code",
      "source": [
        "dt_predt = dt.predict(X_test)"
      ],
      "metadata": {
        "id": "hEnPKpttcJke"
      },
      "execution_count": null,
      "outputs": []
    },
    {
      "cell_type": "code",
      "source": [
        "svc_predt = svc.predict(X_test)"
      ],
      "metadata": {
        "id": "pEoUasryjYH2"
      },
      "execution_count": null,
      "outputs": []
    },
    {
      "cell_type": "code",
      "source": [
        "lr_predt = lr.predict(X_test)"
      ],
      "metadata": {
        "id": "ORlZa7qCjZ5r"
      },
      "execution_count": null,
      "outputs": []
    },
    {
      "cell_type": "code",
      "source": [
        "dt_acc = accuracy_score(y_test, dt_predt)\n",
        "svc_acc = accuracy_score(y_test, svc_predt)\n",
        "lr_acc = accuracy_score(y_test, lr_predt)\n",
        "dt_acc, svc_acc, lr_acc"
      ],
      "metadata": {
        "colab": {
          "base_uri": "https://localhost:8080/"
        },
        "id": "ZharswW2jdjV",
        "outputId": "6cdc0ae2-b458-499d-8f1d-6e5ce9c8d59a"
      },
      "execution_count": null,
      "outputs": [
        {
          "output_type": "execute_result",
          "data": {
            "text/plain": [
              "(0.9385964912280702, 0.6491228070175439, 0.6491228070175439)"
            ]
          },
          "metadata": {},
          "execution_count": 21
        }
      ]
    },
    {
      "cell_type": "code",
      "source": [
        "## 하드 보팅\n",
        "voting_clf1 = VotingClassifier(\n",
        "    estimators= [\n",
        "        ('decision tree', dt), \n",
        "        ('svc', svc), \n",
        "        ('lr', lr)\n",
        "    ],\n",
        "    weights=[1, 1, 1],\n",
        "    voting='hard'\n",
        ")\n",
        "voting_clf1.fit(X_train, y_train)\n",
        "hard_voting_predicted = voting_clf1.predict(X_test)\n",
        "accuracy_score(y_test, hard_voting_predicted)"
      ],
      "metadata": {
        "colab": {
          "base_uri": "https://localhost:8080/"
        },
        "id": "iDfilM_djstG",
        "outputId": "1daab6a6-de6d-4796-8278-12ece9cf7900"
      },
      "execution_count": null,
      "outputs": [
        {
          "output_type": "execute_result",
          "data": {
            "text/plain": [
              "0.6491228070175439"
            ]
          },
          "metadata": {},
          "execution_count": 26
        }
      ]
    },
    {
      "cell_type": "code",
      "source": [
        "## 소프트 보팅\n",
        "voting_clf2 = VotingClassifier(\n",
        "    estimators= [\n",
        "        ('decision tree', dt), \n",
        "        ('svc', svc), \n",
        "        ('lr', lr)\n",
        "    ],\n",
        "    weights=[1, 1, 1],\n",
        "    voting='soft'\n",
        ")\n",
        "voting_clf2.fit(X_train, y_train)\n",
        "soft_voting_predicted = voting_clf2.predict(X_test)\n",
        "accuracy_score(y_test, soft_voting_predicted)"
      ],
      "metadata": {
        "colab": {
          "base_uri": "https://localhost:8080/"
        },
        "id": "-USfmI9xmc--",
        "outputId": "202cd64f-5ced-4175-a9da-62cdcdddff90"
      },
      "execution_count": null,
      "outputs": [
        {
          "output_type": "execute_result",
          "data": {
            "text/plain": [
              "0.9385964912280702"
            ]
          },
          "metadata": {},
          "execution_count": 27
        }
      ]
    },
    {
      "cell_type": "code",
      "source": [
        "### 그래프로 그려보세요. accuracy(dtree, knn, svm, hard voting, soft voting)\n",
        "import matplotlib.pyplot as plt\n",
        "import numpy as np\n",
        "%matplotlib inline\n",
        "\n",
        "x = np.arange(2)\n",
        "plt.bar(x, height= [\n",
        "                    accuracy_score(y_test, hard_voting_predicted),\n",
        "                    accuracy_score(y_test, soft_voting_predicted)\n",
        "            ])\n",
        "plt.xticks(x, ['hard voting','soft voting']);"
      ],
      "metadata": {
        "colab": {
          "base_uri": "https://localhost:8080/",
          "height": 265
        },
        "id": "qF3WHgT5nCto",
        "outputId": "24e37a10-1524-4b6e-a0e6-63722646f951"
      },
      "execution_count": null,
      "outputs": [
        {
          "output_type": "display_data",
          "data": {
            "text/plain": [
              "<Figure size 432x288 with 1 Axes>"
            ],
            "image/png": "[encoded data removed]"
          },
          "metadata": {
            "needs_background": "light"
          }
        }
      ]
    },
    {
      "cell_type": "code",
      "source": [
        "## 소프트보팅이 하드보팅보다 정확도가 높아서 많이 쓰임."
      ],
      "metadata": {
        "id": "wFxI8Nu7nKTN"
      },
      "execution_count": null,
      "outputs": []
    },
    {
      "cell_type": "code",
      "source": [
        "## bagging\n",
        "rf = RandomForestClassifier(\n",
        "    n_estimators=100,\n",
        "    max_depth=5,\n",
        "    random_state=10\n",
        ")\n",
        "rf.fit(X_train, y_train)"
      ],
      "metadata": {
        "colab": {
          "base_uri": "https://localhost:8080/"
        },
        "id": "xtxdHiM4nlXk",
        "outputId": "49e20abb-7de7-4a88-fef6-ee7a7e31f1b3"
      },
      "execution_count": null,
      "outputs": [
        {
          "output_type": "execute_result",
          "data": {
            "text/plain": [
              "RandomForestClassifier(max_depth=5, random_state=10)"
            ]
          },
          "metadata": {},
          "execution_count": 31
        }
      ]
    },
    {
      "cell_type": "code",
      "source": [
        "rf_predt = rf.predict(X_test)\n",
        "rf_acc = accuracy_score(y_test, rf_predt)\n",
        "rf_acc"
      ],
      "metadata": {
        "colab": {
          "base_uri": "https://localhost:8080/"
        },
        "id": "fXmZpvJtoD4O",
        "outputId": "2f597432-bff1-48cd-9719-6bd2de92fd61"
      },
      "execution_count": null,
      "outputs": [
        {
          "output_type": "execute_result",
          "data": {
            "text/plain": [
              "0.9649122807017544"
            ]
          },
          "metadata": {},
          "execution_count": 33
        }
      ]
    },
    {
      "cell_type": "code",
      "source": [
        "x = np.arange(3)\n",
        "plt.bar(x, height= [\n",
        "                    accuracy_score(y_test, hard_voting_predicted),\n",
        "                    accuracy_score(y_test, soft_voting_predicted),\n",
        "                    accuracy_score(y_test, rf_predt)\n",
        "            ])\n",
        "plt.xticks(x, ['hard voting','soft voting', 'bagging']);"
      ],
      "metadata": {
        "colab": {
          "base_uri": "https://localhost:8080/",
          "height": 267
        },
        "id": "mhRKuGxroNqQ",
        "outputId": "31e70522-cd16-4989-a4f7-925affa01295"
      },
      "execution_count": null,
      "outputs": [
        {
          "output_type": "display_data",
          "data": {
            "text/plain": [
              "<Figure size 432x288 with 1 Axes>"
            ],
            "image/png": "[encoded data removed]"
          },
          "metadata": {
            "needs_background": "light"
          }
        }
      ]
    },
    {
      "cell_type": "code",
      "source": [
        "confusion_matrix(y_test, soft_voting_predicted)"
      ],
      "metadata": {
        "colab": {
          "base_uri": "https://localhost:8080/"
        },
        "id": "O1hPBdGwoXn-",
        "outputId": "7fbd388c-8e40-4727-a2b1-e2886c0cabce"
      },
      "execution_count": null,
      "outputs": [
        {
          "output_type": "execute_result",
          "data": {
            "text/plain": [
              "array([[72,  2],\n",
              "       [ 5, 35]])"
            ]
          },
          "metadata": {},
          "execution_count": 36
        }
      ]
    },
    {
      "cell_type": "code",
      "source": [
        "## b:양성, m:악성\n",
        "## 정상인 74명 중 2명을 암환자로 판단\n",
        "## 암환자 40명 중 5명을 정상환자로 판단"
      ],
      "metadata": {
        "id": "ZY4wecp5rSMS"
      },
      "execution_count": null,
      "outputs": []
    },
    {
      "cell_type": "code",
      "source": [
        "## 정상이 74명인데, 72명만 정상, 2명은 암환자\n",
        "## 암환자가 40명인데, 35명만 암환자, 5명은 정상\n",
        "## recall(재현율)이 bagging보다는 낮은 편."
      ],
      "metadata": {
        "id": "e0pTRleBvcLY"
      },
      "execution_count": null,
      "outputs": []
    },
    {
      "cell_type": "code",
      "source": [
        "confusion_matrix(y_test, rf_predt)"
      ],
      "metadata": {
        "colab": {
          "base_uri": "https://localhost:8080/"
        },
        "id": "VFC0n2bQqYK4",
        "outputId": "395fa27d-f7ba-43e3-e05d-0b28feecce88"
      },
      "execution_count": null,
      "outputs": [
        {
          "output_type": "execute_result",
          "data": {
            "text/plain": [
              "array([[71,  3],\n",
              "       [ 1, 39]])"
            ]
          },
          "metadata": {},
          "execution_count": 37
        }
      ]
    },
    {
      "cell_type": "code",
      "source": [
        "## 정상이 74명인데, 71명만 정상, 3명은 암환자\n",
        "## 암환자가 40명인데, 39명만 암환자, 1명은 정상\n",
        "## recall(재현율)이 \bsoftvoting보다는 높은 편.\n",
        "## softvoting model보다는 bagging모델을 선택하는 것이 좋음."
      ],
      "metadata": {
        "id": "EwLh-d8UvyjD"
      },
      "execution_count": null,
      "outputs": []
    },
    {
      "cell_type": "code",
      "source": [
        "confusion_matrix(y_test, svc_predt)"
      ],
      "metadata": {
        "colab": {
          "base_uri": "https://localhost:8080/"
        },
        "id": "xCbF8cOzqbTd",
        "outputId": "cb9e14f4-5b2e-4b6b-dba4-56ab4769badf"
      },
      "execution_count": null,
      "outputs": [
        {
          "output_type": "execute_result",
          "data": {
            "text/plain": [
              "array([[74,  0],\n",
              "       [40,  0]])"
            ]
          },
          "metadata": {},
          "execution_count": 40
        }
      ]
    },
    {
      "cell_type": "code",
      "source": [
        "from sklearn.ensemble import GradientBoostingClassifier\n",
        "from sklearn.ensemble import HistGradientBoostingClassifier\n",
        "from xgboost import XGBClassifier\n",
        "from lightgbm import LGBMClassifier"
      ],
      "metadata": {
        "id": "ycPd3EKQq_gl"
      },
      "execution_count": null,
      "outputs": []
    },
    {
      "cell_type": "code",
      "source": [
        "gbc = GradientBoostingClassifier(\n",
        "      random_state=42\n",
        ").fit(X_train, y_train)"
      ],
      "metadata": {
        "id": "DsI5TmVKxvui"
      },
      "execution_count": null,
      "outputs": []
    },
    {
      "cell_type": "code",
      "source": [
        "hist = HistGradientBoostingClassifier(\n",
        "      random_state=42\n",
        ").fit(X_train, y_train)"
      ],
      "metadata": {
        "id": "HjhZ3a6Wx25w"
      },
      "execution_count": null,
      "outputs": []
    },
    {
      "cell_type": "code",
      "source": [
        "xgb = XGBClassifier(\n",
        "    random_state=42,\n",
        "    tree_method='hist'\n",
        ").fit(X_train, y_train)"
      ],
      "metadata": {
        "id": "MieJzyMfx9iK"
      },
      "execution_count": null,
      "outputs": []
    },
    {
      "cell_type": "code",
      "source": [
        "lgbm = LGBMClassifier(\n",
        "    random_state=42\n",
        ").fit(X_train, y_train)"
      ],
      "metadata": {
        "id": "wpPl92EEyBa4"
      },
      "execution_count": null,
      "outputs": []
    },
    {
      "cell_type": "code",
      "source": [
        "gbc_predicted = gbc.predict(X_test)\n",
        "accuracy_score(y_test, gbc_predicted)"
      ],
      "metadata": {
        "colab": {
          "base_uri": "https://localhost:8080/"
        },
        "id": "YDYxidBbx9lc",
        "outputId": "8902887e-9d28-49bc-d8fb-94bf84627ec9"
      },
      "execution_count": null,
      "outputs": [
        {
          "output_type": "execute_result",
          "data": {
            "text/plain": [
              "0.9824561403508771"
            ]
          },
          "metadata": {},
          "execution_count": 46
        }
      ]
    },
    {
      "cell_type": "code",
      "source": [
        "hist_predicted = hist.predict(X_test)\n",
        "accuracy_score(y_test, hist_predicted)"
      ],
      "metadata": {
        "colab": {
          "base_uri": "https://localhost:8080/"
        },
        "id": "DKAtSX5Vy-o7",
        "outputId": "54fc5a71-5ae5-4884-cc0d-af9ebb73f514"
      },
      "execution_count": null,
      "outputs": [
        {
          "output_type": "execute_result",
          "data": {
            "text/plain": [
              "0.9736842105263158"
            ]
          },
          "metadata": {},
          "execution_count": 47
        }
      ]
    },
    {
      "cell_type": "code",
      "source": [
        "xgb_predicted = xgb.predict(X_test)\n",
        "accuracy_score(y_test, xgb_predicted)"
      ],
      "metadata": {
        "colab": {
          "base_uri": "https://localhost:8080/"
        },
        "id": "9wxLjZtJzF6c",
        "outputId": "fbf6fa6b-8c2a-4d5d-da75-72545908bcde"
      },
      "execution_count": null,
      "outputs": [
        {
          "output_type": "execute_result",
          "data": {
            "text/plain": [
              "0.9912280701754386"
            ]
          },
          "metadata": {},
          "execution_count": 48
        }
      ]
    },
    {
      "cell_type": "code",
      "source": [
        "lgbm_predicted = lgbm.predict(X_test)\n",
        "accuracy_score(y_test, lgbm_predicted)"
      ],
      "metadata": {
        "colab": {
          "base_uri": "https://localhost:8080/"
        },
        "id": "MEUfgLquzQIm",
        "outputId": "89073e90-f805-4654-e5b0-d4f71a50cdda"
      },
      "execution_count": null,
      "outputs": [
        {
          "output_type": "execute_result",
          "data": {
            "text/plain": [
              "0.9824561403508771"
            ]
          },
          "metadata": {},
          "execution_count": 49
        }
      ]
    },
    {
      "cell_type": "code",
      "source": [
        "x = np.arange(4)\n",
        "plt.bar(x, height= [\n",
        "                    accuracy_score(y_test, gbc_predicted),\n",
        "                    accuracy_score(y_test, hist_predicted),\n",
        "                    accuracy_score(y_test, xgb_predicted),\n",
        "                    accuracy_score(y_test, lgbm_predicted),\n",
        "            ])\n",
        "plt.xticks(x, ['bgc','hist', 'xgb', 'lgbm']);"
      ],
      "metadata": {
        "colab": {
          "base_uri": "https://localhost:8080/",
          "height": 265
        },
        "id": "nxJmeyywzXt3",
        "outputId": "b27fa543-a3df-40fe-ed64-3cfa5d7bc2c9"
      },
      "execution_count": null,
      "outputs": [
        {
          "output_type": "display_data",
          "data": {
            "text/plain": [
              "<Figure size 432x288 with 1 Axes>"
            ],
            "image/png": "[encoded data removed]"
          },
          "metadata": {
            "needs_background": "light"
          }
        }
      ]
    },
    {
      "cell_type": "code",
      "source": [
        "confusion_matrix(y_test, xgb_predicted)"
      ],
      "metadata": {
        "colab": {
          "base_uri": "https://localhost:8080/"
        },
        "id": "-2MOYBjfzynF",
        "outputId": "e5868279-c11b-4cb9-a27f-51ade88c54dc"
      },
      "execution_count": null,
      "outputs": [
        {
          "output_type": "execute_result",
          "data": {
            "text/plain": [
              "array([[74,  0],\n",
              "       [ 1, 39]])"
            ]
          },
          "metadata": {},
          "execution_count": 51
        }
      ]
    },
    {
      "cell_type": "code",
      "source": [
        "### xgboost는 암환자 40명 중 39명을 찾아냈고, 1명을 찾아내지 못함.\n",
        "### 정확도,재현율이 높으므로, xgboost 모델 선정이 최선!!!"
      ],
      "metadata": {
        "id": "V5kCDv0j0A6N"
      },
      "execution_count": null,
      "outputs": []
    },
    {
      "cell_type": "code",
      "source": [
        "#catBoost는 target 라벨링 해주어야 함.\n",
        "cb = cat.Pool(data = X_train, label= y_train)\n",
        "cp = {\n",
        "    'max_depth' : 10,\n",
        "    'learning_rate' : 0.01,\n",
        "    'n_estimators' : 100,\n",
        "    'eval_metric' : 'Accuracy',\n",
        "    'loss_function' : 'MultiClass'\n",
        "}\n",
        "cat_model = cat.train(pool=cb, params=cp)"
      ],
      "metadata": {
        "id": "KSud-QE-0Rg-",
        "colab": {
          "base_uri": "https://localhost:8080/"
        },
        "outputId": "a640a76a-fd70-494d-9e85-581f1d221b22"
      },
      "execution_count": 61,
      "outputs": [
        {
          "output_type": "stream",
          "name": "stdout",
          "text": [
            "0:\tlearn: 0.9670330\ttotal: 321ms\tremaining: 31.8s\n",
            "1:\tlearn: 0.9516484\ttotal: 580ms\tremaining: 28.4s\n",
            "2:\tlearn: 0.9560440\ttotal: 835ms\tremaining: 27s\n",
            "3:\tlearn: 0.9692308\ttotal: 1.09s\tremaining: 26.3s\n",
            "4:\tlearn: 0.9780220\ttotal: 1.32s\tremaining: 25.2s\n",
            "5:\tlearn: 0.9736264\ttotal: 1.58s\tremaining: 24.7s\n",
            "6:\tlearn: 0.9736264\ttotal: 1.82s\tremaining: 24.2s\n",
            "7:\tlearn: 0.9736264\ttotal: 2.06s\tremaining: 23.7s\n",
            "8:\tlearn: 0.9736264\ttotal: 2.33s\tremaining: 23.5s\n",
            "9:\tlearn: 0.9758242\ttotal: 2.57s\tremaining: 23.1s\n",
            "10:\tlearn: 0.9758242\ttotal: 2.82s\tremaining: 22.8s\n",
            "11:\tlearn: 0.9802198\ttotal: 3.05s\tremaining: 22.4s\n",
            "12:\tlearn: 0.9780220\ttotal: 3.3s\tremaining: 22.1s\n",
            "13:\tlearn: 0.9802198\ttotal: 3.53s\tremaining: 21.7s\n",
            "14:\tlearn: 0.9824176\ttotal: 3.78s\tremaining: 21.4s\n",
            "15:\tlearn: 0.9802198\ttotal: 3.99s\tremaining: 21s\n",
            "16:\tlearn: 0.9824176\ttotal: 4.28s\tremaining: 20.9s\n",
            "17:\tlearn: 0.9802198\ttotal: 4.52s\tremaining: 20.6s\n",
            "18:\tlearn: 0.9802198\ttotal: 4.77s\tremaining: 20.3s\n",
            "19:\tlearn: 0.9802198\ttotal: 4.95s\tremaining: 19.8s\n",
            "20:\tlearn: 0.9846154\ttotal: 5.1s\tremaining: 19.2s\n",
            "21:\tlearn: 0.9824176\ttotal: 5.24s\tremaining: 18.6s\n",
            "22:\tlearn: 0.9824176\ttotal: 5.4s\tremaining: 18.1s\n",
            "23:\tlearn: 0.9824176\ttotal: 5.54s\tremaining: 17.5s\n",
            "24:\tlearn: 0.9824176\ttotal: 5.68s\tremaining: 17s\n",
            "25:\tlearn: 0.9824176\ttotal: 5.82s\tremaining: 16.6s\n",
            "26:\tlearn: 0.9846154\ttotal: 5.97s\tremaining: 16.1s\n",
            "27:\tlearn: 0.9868132\ttotal: 6.11s\tremaining: 15.7s\n",
            "28:\tlearn: 0.9846154\ttotal: 6.25s\tremaining: 15.3s\n",
            "29:\tlearn: 0.9846154\ttotal: 6.41s\tremaining: 15s\n",
            "30:\tlearn: 0.9846154\ttotal: 6.56s\tremaining: 14.6s\n",
            "31:\tlearn: 0.9868132\ttotal: 6.7s\tremaining: 14.2s\n",
            "32:\tlearn: 0.9868132\ttotal: 6.84s\tremaining: 13.9s\n",
            "33:\tlearn: 0.9846154\ttotal: 6.99s\tremaining: 13.6s\n",
            "34:\tlearn: 0.9868132\ttotal: 7.13s\tremaining: 13.2s\n",
            "35:\tlearn: 0.9868132\ttotal: 7.28s\tremaining: 12.9s\n",
            "36:\tlearn: 0.9868132\ttotal: 7.43s\tremaining: 12.6s\n",
            "37:\tlearn: 0.9868132\ttotal: 7.58s\tremaining: 12.4s\n",
            "38:\tlearn: 0.9868132\ttotal: 7.72s\tremaining: 12.1s\n",
            "39:\tlearn: 0.9846154\ttotal: 7.86s\tremaining: 11.8s\n",
            "40:\tlearn: 0.9846154\ttotal: 8.01s\tremaining: 11.5s\n",
            "41:\tlearn: 0.9868132\ttotal: 8.15s\tremaining: 11.3s\n",
            "42:\tlearn: 0.9868132\ttotal: 8.3s\tremaining: 11s\n",
            "43:\tlearn: 0.9868132\ttotal: 8.45s\tremaining: 10.8s\n",
            "44:\tlearn: 0.9846154\ttotal: 8.6s\tremaining: 10.5s\n",
            "45:\tlearn: 0.9846154\ttotal: 8.74s\tremaining: 10.3s\n",
            "46:\tlearn: 0.9846154\ttotal: 8.88s\tremaining: 10s\n",
            "47:\tlearn: 0.9846154\ttotal: 9.03s\tremaining: 9.78s\n",
            "48:\tlearn: 0.9846154\ttotal: 9.17s\tremaining: 9.54s\n",
            "49:\tlearn: 0.9846154\ttotal: 9.31s\tremaining: 9.31s\n",
            "50:\tlearn: 0.9846154\ttotal: 9.47s\tremaining: 9.1s\n",
            "51:\tlearn: 0.9846154\ttotal: 9.61s\tremaining: 8.87s\n",
            "52:\tlearn: 0.9846154\ttotal: 9.76s\tremaining: 8.65s\n",
            "53:\tlearn: 0.9846154\ttotal: 9.9s\tremaining: 8.43s\n",
            "54:\tlearn: 0.9846154\ttotal: 10s\tremaining: 8.22s\n",
            "55:\tlearn: 0.9846154\ttotal: 10.2s\tremaining: 8.01s\n",
            "56:\tlearn: 0.9846154\ttotal: 10.3s\tremaining: 7.8s\n",
            "57:\tlearn: 0.9846154\ttotal: 10.5s\tremaining: 7.6s\n",
            "58:\tlearn: 0.9846154\ttotal: 10.6s\tremaining: 7.39s\n",
            "59:\tlearn: 0.9846154\ttotal: 10.8s\tremaining: 7.18s\n",
            "60:\tlearn: 0.9846154\ttotal: 10.9s\tremaining: 6.98s\n",
            "61:\tlearn: 0.9846154\ttotal: 11.1s\tremaining: 6.79s\n",
            "62:\tlearn: 0.9846154\ttotal: 11.2s\tremaining: 6.59s\n",
            "63:\tlearn: 0.9846154\ttotal: 11.4s\tremaining: 6.39s\n",
            "64:\tlearn: 0.9846154\ttotal: 11.5s\tremaining: 6.2s\n",
            "65:\tlearn: 0.9846154\ttotal: 11.7s\tremaining: 6s\n",
            "66:\tlearn: 0.9846154\ttotal: 11.8s\tremaining: 5.82s\n",
            "67:\tlearn: 0.9846154\ttotal: 11.9s\tremaining: 5.62s\n",
            "68:\tlearn: 0.9846154\ttotal: 12.1s\tremaining: 5.43s\n",
            "69:\tlearn: 0.9868132\ttotal: 12.2s\tremaining: 5.24s\n",
            "70:\tlearn: 0.9868132\ttotal: 12.4s\tremaining: 5.06s\n",
            "71:\tlearn: 0.9890110\ttotal: 12.5s\tremaining: 4.87s\n",
            "72:\tlearn: 0.9890110\ttotal: 12.7s\tremaining: 4.69s\n",
            "73:\tlearn: 0.9890110\ttotal: 12.8s\tremaining: 4.51s\n",
            "74:\tlearn: 0.9868132\ttotal: 13s\tremaining: 4.32s\n",
            "75:\tlearn: 0.9868132\ttotal: 13.1s\tremaining: 4.14s\n",
            "76:\tlearn: 0.9868132\ttotal: 13.3s\tremaining: 3.96s\n",
            "77:\tlearn: 0.9868132\ttotal: 13.4s\tremaining: 3.78s\n",
            "78:\tlearn: 0.9868132\ttotal: 13.6s\tremaining: 3.6s\n",
            "79:\tlearn: 0.9868132\ttotal: 13.7s\tremaining: 3.42s\n",
            "80:\tlearn: 0.9868132\ttotal: 13.8s\tremaining: 3.25s\n",
            "81:\tlearn: 0.9868132\ttotal: 14s\tremaining: 3.07s\n",
            "82:\tlearn: 0.9868132\ttotal: 14.1s\tremaining: 2.89s\n",
            "83:\tlearn: 0.9868132\ttotal: 14.3s\tremaining: 2.72s\n",
            "84:\tlearn: 0.9868132\ttotal: 14.4s\tremaining: 2.54s\n",
            "85:\tlearn: 0.9868132\ttotal: 14.6s\tremaining: 2.38s\n",
            "86:\tlearn: 0.9868132\ttotal: 15.2s\tremaining: 2.26s\n",
            "87:\tlearn: 0.9868132\ttotal: 15.5s\tremaining: 2.11s\n",
            "88:\tlearn: 0.9868132\ttotal: 15.6s\tremaining: 1.93s\n",
            "89:\tlearn: 0.9868132\ttotal: 15.8s\tremaining: 1.75s\n",
            "90:\tlearn: 0.9868132\ttotal: 15.9s\tremaining: 1.57s\n",
            "91:\tlearn: 0.9868132\ttotal: 16.1s\tremaining: 1.4s\n",
            "92:\tlearn: 0.9868132\ttotal: 16.2s\tremaining: 1.22s\n",
            "93:\tlearn: 0.9868132\ttotal: 16.3s\tremaining: 1.04s\n",
            "94:\tlearn: 0.9868132\ttotal: 16.5s\tremaining: 868ms\n",
            "95:\tlearn: 0.9868132\ttotal: 16.6s\tremaining: 693ms\n",
            "96:\tlearn: 0.9890110\ttotal: 16.8s\tremaining: 519ms\n",
            "97:\tlearn: 0.9890110\ttotal: 16.9s\tremaining: 345ms\n",
            "98:\tlearn: 0.9890110\ttotal: 17.1s\tremaining: 172ms\n",
            "99:\tlearn: 0.9890110\ttotal: 17.2s\tremaining: 0us\n"
          ]
        }
      ]
    },
    {
      "cell_type": "code",
      "source": [
        "cat_predt = np.argmax(cat_model.predict(X_test), axis=1)\n",
        "accuracy_score(y_test, cat_predt)"
      ],
      "metadata": {
        "id": "kWpAAgFMSoWG"
      },
      "execution_count": null,
      "outputs": []
    },
    {
      "cell_type": "code",
      "source": [
        "import matplotlib as mpl\n",
        "import matplotlib.pyplot as plt\n",
        "import matplotlib.font_manager as fm  # 폰트 관련 용도\n",
        " \n",
        "%config InlineBackend.figure_format = 'retina'\n",
        " \n",
        "# !apt -qq -y install fonts-nanum\n",
        "# 여기까지하고 런타임 다시 시작!!-----> 이 셀부터 설치빼고 다시 실행"
      ],
      "metadata": {
        "id": "SI8hi_VHTJko"
      },
      "execution_count": 1,
      "outputs": []
    },
    {
      "cell_type": "code",
      "source": [
        "import matplotlib.font_manager as fm\n",
        "fontpath = '/usr/share/fonts/truetype/nanum/NanumBarunGothic.ttf'\n",
        "font_name = fm.FontProperties(fname=fontpath, size=9).get_name()\n",
        "plt.rc('font', family=font_name) \n",
        "print(font_name)"
      ],
      "metadata": {
        "colab": {
          "base_uri": "https://localhost:8080/"
        },
        "id": "p5COwRHQUvZo",
        "outputId": "7c2f7b8c-cb18-452a-df64-23f025274bfb"
      },
      "execution_count": 2,
      "outputs": [
        {
          "output_type": "stream",
          "name": "stdout",
          "text": [
            "NanumBarunGothic\n"
          ]
        }
      ]
    },
    {
      "cell_type": "code",
      "source": [
        "#fm._rebuild() #rebuild후 runtime재시작!"
      ],
      "metadata": {
        "id": "f2Su0FqlU3CG"
      },
      "execution_count": 69,
      "outputs": []
    },
    {
      "cell_type": "code",
      "source": [
        "plt.title('안녕!')"
      ],
      "metadata": {
        "colab": {
          "base_uri": "https://localhost:8080/",
          "height": 299
        },
        "id": "we503uRXU5b-",
        "outputId": "ba27944c-c8a5-406b-ced6-840bc3c10e0c"
      },
      "execution_count": 3,
      "outputs": [
        {
          "output_type": "execute_result",
          "data": {
            "text/plain": [
              "Text(0.5, 1.0, '안녕!')"
            ]
          },
          "metadata": {},
          "execution_count": 3
        },
        {
          "output_type": "display_data",
          "data": {
            "text/plain": [
              "<Figure size 432x288 with 1 Axes>"
            ],
            "image/png": "[encoded data removed]"
          },
          "metadata": {
            "image/png": {
              "width": 378,
              "height": 265
            },
            "needs_background": "light"
          }
        }
      ]
    },
    {
      "cell_type": "code",
      "source": [
        ""
      ],
      "metadata": {
        "id": "H7zZq-IPU7Vo"
      },
      "execution_count": null,
      "outputs": []
    }
  ]
}