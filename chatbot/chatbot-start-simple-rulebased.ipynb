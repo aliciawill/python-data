{
 "cells": [
  {
   "cell_type": "code",
   "execution_count": 21,
   "metadata": {},
   "outputs": [
    {
     "name": "stdout",
     "output_type": "stream",
     "text": [
      "        request       rule                 response\n",
      "0       너의 이름은?       너|이름             저는 자비스라고 합니다\n",
      "1     네 이름을 말해줘    네|이름|말해             저는 자비스라고 합니다\n",
      "2     네 이름이 뭐니?     네|이름|뭐             저는 자비스라고 합니다\n",
      "3       놀러가고 싶다       놀러|싶           가끔씩 휴식하는 것도 좋죠\n",
      "4   느그 아부지 뭐하시노  느그|아부지|뭐하             우리 아부지 건달입니다\n",
      "5    말귀좀 알아듣는다?   말귀|알아듣는다       다행이네요. 열심히 배우고 있어요\n",
      "6           맛저해        맛저해                   맛저하세요~\n",
      "7           맛점해        맛점해                   맛점하세요~\n",
      "8       메리크리스마스      메리|크리               메리~ 크리스마스~\n",
      "9     면접에서 떨어졌어      면접|떨어         다음엔 꼭 붙을 수 있을거에요\n",
      "10  무슨 말인지 모르겠어    무슨|말|모르          죄송해요 학습이 덜 됐나봐요\n",
      "11          뭐해?         뭐해                   그냥 있어요\n",
      "12  아 월요일이 다가온다     월요일|다가               월요병이 심한가봐요\n",
      "13           안녕         안녕                    안녕하세요\n",
      "14      영화 추천해줘      영화|추천  아이언맨 시리즈와 어벤져스 시리즈를 보세요\n"
     ]
    }
   ],
   "source": [
    "import pandas as pd \n",
    "chatbot_data = pd.read_excel(\"chatbot_data.xlsx\") \n",
    "print(chatbot_data)"
   ]
  },
  {
   "cell_type": "code",
   "execution_count": 9,
   "metadata": {},
   "outputs": [
    {
     "name": "stdout",
     "output_type": "stream",
     "text": [
      "{0: ['너', '이름'], 1: ['네', '이름', '말해'], 2: ['네', '이름', '뭐'], 3: ['놀러', '싶'], 4: ['느그', '아부지', '뭐하'], 5: ['말귀', '알아듣는다'], 6: ['맛저해'], 7: ['맛점해'], 8: ['메리', '크리'], 9: ['면접', '떨어'], 10: ['무슨', '말', '모르'], 11: ['뭐해'], 12: ['월요일', '다가'], 13: ['안녕'], 14: ['영화', '추천']}\n"
     ]
    }
   ],
   "source": [
    "# rule의 데이터를 split하여 list형태로 변환 후, index값과 함께 dictionary 형태로 저장 \n",
    "chat_dic = {} \n",
    "row = 0 \n",
    "for rule in chatbot_data['rule']: \n",
    "    chat_dic[row] = rule.split('|') \n",
    "    row += 1\n",
    "print(chat_dic)\n"
   ]
  },
  {
   "cell_type": "code",
   "execution_count": 18,
   "metadata": {},
   "outputs": [],
   "source": [
    "def chat(request): \n",
    "    for k, v in chat_dic.items(): \n",
    "        chat_flag = False \n",
    "        for word in v: \n",
    "            if word in request: \n",
    "                chat_flag = True \n",
    "            else: \n",
    "                chat_flag = False \n",
    "                break \n",
    "        if chat_flag: \n",
    "            return chatbot_data['response'][k] \n",
    "    return '무슨 말인지 모르겠어요'\n"
   ]
  },
  {
   "cell_type": "code",
   "execution_count": 19,
   "metadata": {},
   "outputs": [],
   "source": [
    "# while True: \n",
    "#     req = input('대화를 입력해보세요. ') \n",
    "#     if req == 'exit': \n",
    "#         break \n",
    "#     else: \n",
    "#         print('bot : ', chat(req))"
   ]
  },
  {
   "cell_type": "code",
   "execution_count": 20,
   "metadata": {},
   "outputs": [],
   "source": [
    "def chat(request): \n",
    "    for k, v in chat_dic.items(): \n",
    "        index = -1 \n",
    "        for word in v: \n",
    "            try: \n",
    "                if index == -1: \n",
    "                    index = request.index(word) \n",
    "                else: \n",
    "                    # 이전 index 값은 현재 index값보다 이전이어야 한다. \n",
    "                    if index < request.index(word, index): \n",
    "                        index = request.index(word, index) \n",
    "                    else: # index 값이 이상할 경우 과감하게 break를 한다 \n",
    "                        index = -1 \n",
    "                        break \n",
    "            except ValueError: \n",
    "                index = -1 \n",
    "                break \n",
    "            if index > -1:\n",
    "                return chatbot_data['response'][k] \n",
    "    return '무슨 말인지 모르겠어요'\n"
   ]
  },
  {
   "cell_type": "code",
   "execution_count": null,
   "metadata": {},
   "outputs": [],
   "source": []
  }
 ],
 "metadata": {
  "kernelspec": {
   "display_name": "Python 3 (ipykernel)",
   "language": "python",
   "name": "python3"
  },
  "language_info": {
   "codemirror_mode": {
    "name": "ipython",
    "version": 3
   },
   "file_extension": ".py",
   "mimetype": "text/x-python",
   "name": "python",
   "nbconvert_exporter": "python",
   "pygments_lexer": "ipython3",
   "version": "3.7.9"
  }
 },
 "nbformat": 4,
 "nbformat_minor": 4
}
