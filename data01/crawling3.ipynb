{
 "cells": [
  {
   "cell_type": "code",
   "execution_count": 7,
   "metadata": {},
   "outputs": [],
   "source": [
    "from urllib import request"
   ]
  },
  {
   "cell_type": "code",
   "execution_count": 8,
   "metadata": {},
   "outputs": [],
   "source": [
    "from bs4 import BeautifulSoup"
   ]
  },
  {
   "cell_type": "code",
   "execution_count": 9,
   "metadata": {},
   "outputs": [],
   "source": [
    "# !pip install bs4 #cmd에서 이 명령문을 실행!!"
   ]
  },
  {
   "cell_type": "code",
   "execution_count": 10,
   "metadata": {},
   "outputs": [
    {
     "name": "stdout",
     "output_type": "stream",
     "text": [
      "crawling1.ipynb crawling3.ipynb test02.ipynb\r\n",
      "crawling2.ipynb test01.ipynb    test3.ipynb\r\n"
     ]
    }
   ],
   "source": [
    "!ls #!dir"
   ]
  },
  {
   "cell_type": "code",
   "execution_count": 11,
   "metadata": {},
   "outputs": [
    {
     "data": {
      "text/plain": [
       "<http.client.HTTPResponse at 0x7f87a8353950>"
      ]
     },
     "execution_count": 11,
     "metadata": {},
     "output_type": "execute_result"
    }
   ],
   "source": [
    "con = request.urlopen('https://www.hottracks.co.kr/ht/biz/record/recordCategoryMain?ctgrId=00030000')\n",
    "con \n",
    "#http response(header + body)\n",
    "#header : http result status code\n",
    "#         (ok: 200, not found: 404, error: 500, permission: 403)"
   ]
  },
  {
   "cell_type": "code",
   "execution_count": 12,
   "metadata": {},
   "outputs": [
    {
     "data": {
      "text/plain": [
       "200"
      ]
     },
     "execution_count": 12,
     "metadata": {},
     "output_type": "execute_result"
    }
   ],
   "source": [
    "con.status #status code"
   ]
  },
  {
   "cell_type": "code",
   "execution_count": 13,
   "metadata": {},
   "outputs": [],
   "source": [
    "doc = BeautifulSoup(con, 'html.parser')\n",
    "#doc"
   ]
  },
  {
   "cell_type": "code",
   "execution_count": 14,
   "metadata": {},
   "outputs": [
    {
     "data": {
      "text/plain": [
       "[<li><a class=\"all\" href=\"javascript:;\">전체보기</a></li>,\n",
       " <li><a href=\"/ht/biz/record/recordCategoryMain?ctgrId=00030000\" style=\"color:#DA2128;\">가요 </a></li>,\n",
       " <li><a href=\"/ht/biz/record/recordCategoryMain?ctgrId=00030001\">랩/힙합 </a></li>,\n",
       " <li><a href=\"/ht/biz/record/recordCategoryMain?ctgrId=00030002\">락 </a></li>,\n",
       " <li><a href=\"/ht/biz/record/recordCategoryMain?ctgrId=00030003\">재즈/뉴에이지/일렉트로닉 </a></li>,\n",
       " <li><a href=\"/ht/biz/record/recordCategoryMain?ctgrId=00030004\">OST/뮤지컬 </a></li>,\n",
       " <li><a href=\"/ht/biz/record/recordCategoryMain?ctgrId=00030005\">화보집/MD상품 </a></li>,\n",
       " <li><a href=\"/ht/biz/record/recordCategoryMain?ctgrId=00030006\">성인가요 </a></li>,\n",
       " <li><a href=\"/ht/biz/record/recordCategoryMain?ctgrId=00030007\">시낭송/명상 </a></li>,\n",
       " <li><a href=\"/ht/biz/record/recordCategoryMain?ctgrId=00030008\">모음집 </a></li>,\n",
       " <li><a href=\"/ht/biz/record/recordCategoryMain?ctgrId=00030010\">캐롤 </a></li>]"
      ]
     },
     "execution_count": 14,
     "metadata": {},
     "output_type": "execute_result"
    }
   ],
   "source": [
    "a_tag_list = doc.select('.category_list li')\n",
    "a_tag_list"
   ]
  },
  {
   "cell_type": "code",
   "execution_count": 15,
   "metadata": {},
   "outputs": [
    {
     "data": {
      "text/plain": [
       "list"
      ]
     },
     "execution_count": 15,
     "metadata": {},
     "output_type": "execute_result"
    }
   ],
   "source": [
    "type(a_tag_list)"
   ]
  },
  {
   "cell_type": "code",
   "execution_count": 16,
   "metadata": {},
   "outputs": [
    {
     "data": {
      "text/plain": [
       "11"
      ]
     },
     "execution_count": 16,
     "metadata": {},
     "output_type": "execute_result"
    }
   ],
   "source": [
    "#리스트의 갯수\n",
    "len(a_tag_list)"
   ]
  },
  {
   "cell_type": "code",
   "execution_count": 17,
   "metadata": {},
   "outputs": [
    {
     "data": {
      "text/plain": [
       "<li><a class=\"all\" href=\"javascript:;\">전체보기</a></li>"
      ]
     },
     "execution_count": 17,
     "metadata": {},
     "output_type": "execute_result"
    }
   ],
   "source": [
    "a_tag_list[0]"
   ]
  },
  {
   "cell_type": "code",
   "execution_count": 18,
   "metadata": {},
   "outputs": [
    {
     "data": {
      "text/plain": [
       "'전체보기'"
      ]
     },
     "execution_count": 18,
     "metadata": {},
     "output_type": "execute_result"
    }
   ],
   "source": [
    "a_tag_list[0].text"
   ]
  },
  {
   "cell_type": "code",
   "execution_count": 19,
   "metadata": {},
   "outputs": [
    {
     "name": "stdout",
     "output_type": "stream",
     "text": [
      "전체보기\n",
      "가요 \n",
      "랩/힙합 \n",
      "락 \n",
      "재즈/뉴에이지/일렉트로닉 \n",
      "OST/뮤지컬 \n",
      "화보집/MD상품 \n",
      "성인가요 \n",
      "시낭송/명상 \n",
      "모음집 \n",
      "캐롤 \n"
     ]
    }
   ],
   "source": [
    "for one in a_tag_list:\n",
    "    print(one.text)"
   ]
  },
  {
   "cell_type": "code",
   "execution_count": 20,
   "metadata": {},
   "outputs": [],
   "source": [
    "anav_list = []"
   ]
  },
  {
   "cell_type": "code",
   "execution_count": 21,
   "metadata": {},
   "outputs": [],
   "source": [
    "for one in a_tag_list:\n",
    "    anav_list.append(one.text)"
   ]
  },
  {
   "cell_type": "code",
   "execution_count": 22,
   "metadata": {},
   "outputs": [
    {
     "data": {
      "text/plain": [
       "['전체보기',\n",
       " '가요 ',\n",
       " '랩/힙합 ',\n",
       " '락 ',\n",
       " '재즈/뉴에이지/일렉트로닉 ',\n",
       " 'OST/뮤지컬 ',\n",
       " '화보집/MD상품 ',\n",
       " '성인가요 ',\n",
       " '시낭송/명상 ',\n",
       " '모음집 ',\n",
       " '캐롤 ']"
      ]
     },
     "execution_count": 22,
     "metadata": {},
     "output_type": "execute_result"
    }
   ],
   "source": [
    "anav_list"
   ]
  },
  {
   "cell_type": "code",
   "execution_count": 25,
   "metadata": {},
   "outputs": [
    {
     "data": {
      "text/plain": [
       "[<p class=\"tit\">SAVAGE [미니 1집] [SYNK DIVE VER]</p>,\n",
       " <p class=\"tit\">ODDINARY [MINI ALBUM] [SCANNING/ MASK OFF VER] [일반반]</p>,\n",
       " <p class=\"tit\">2021 WINTER SMTOWN: SMCU EXPRESS [RED VELVET]</p>,\n",
       " <p class=\"tit\">2021 WINTER SMTOWN: SMCU EXPRESS [NCT - DAYTIME PASS]</p>,\n",
       " <p class=\"tit\">2021 WINTER SMTOWN: SMCU EXPRESS [NCT - NIGHTTIME PASS]</p>]"
      ]
     },
     "execution_count": 25,
     "metadata": {},
     "output_type": "execute_result"
    }
   ],
   "source": [
    "p_tag_list = doc.select('p.tit')\n",
    "p_tag_list[:5] #[p태그객체주소, p태그객체주소, p태그객체주소, p태그객체주소] : 주소대신에 __str__함수가 오버라이드"
   ]
  },
  {
   "cell_type": "code",
   "execution_count": 26,
   "metadata": {},
   "outputs": [
    {
     "data": {
      "text/plain": [
       "[<span class=\"percent\">19%</span>,\n",
       " <span class=\"percent\">19%</span>,\n",
       " <span class=\"percent\">19%</span>,\n",
       " <span class=\"percent\">19%</span>,\n",
       " <span class=\"percent\">19%</span>]"
      ]
     },
     "execution_count": 26,
     "metadata": {},
     "output_type": "execute_result"
    }
   ],
   "source": [
    "percent_list = doc.select('span.percent')\n",
    "percent_list[:5] #0~4"
   ]
  },
  {
   "cell_type": "code",
   "execution_count": 27,
   "metadata": {},
   "outputs": [
    {
     "data": {
      "text/plain": [
       "[<p class=\"brand\">AESPA(에스파)</p>,\n",
       " <p class=\"brand\">STRAY KIDS(스트레이 키즈)</p>,\n",
       " <p class=\"brand\">RED VELVET(레드벨벳)</p>,\n",
       " <p class=\"brand\">NCT(엔시티)</p>,\n",
       " <p class=\"brand\">NCT(엔시티)</p>]"
      ]
     },
     "execution_count": 27,
     "metadata": {},
     "output_type": "execute_result"
    }
   ],
   "source": [
    "brand_list = doc.select('p.brand')\n",
    "brand_list[:5]"
   ]
  },
  {
   "cell_type": "code",
   "execution_count": 37,
   "metadata": {},
   "outputs": [
    {
     "data": {
      "text/plain": [
       "[<span class=\"percent\">19%</span>,\n",
       " <span>16,300</span>,\n",
       " <span class=\"discount\">20,000</span>,\n",
       " <span class=\"percent\">19%</span>,\n",
       " <span>16,300</span>,\n",
       " <span class=\"discount\">20,000</span>]"
      ]
     },
     "execution_count": 37,
     "metadata": {},
     "output_type": "execute_result"
    }
   ],
   "source": [
    "# p.price.font_t > span:nth-child(2)\n",
    "price_list = doc.select('.price > span')\n",
    "price_list[:6] #1, 4, 7, 10"
   ]
  },
  {
   "cell_type": "code",
   "execution_count": 42,
   "metadata": {},
   "outputs": [
    {
     "name": "stdout",
     "output_type": "stream",
     "text": [
      "<span>16,300</span>\n",
      "<span>16,300</span>\n",
      "<span>13,400</span>\n",
      "<span>13,400</span>\n",
      "<span>13,400</span>\n",
      "<span>31,200</span>\n",
      "<span>13,400</span>\n",
      "<span>19,300</span>\n",
      "<span>17,100</span>\n",
      "<span>16,300</span>\n",
      "<span>17,800</span>\n",
      "<span>17,800</span>\n",
      "<span>11,000</span>\n",
      "<span>11,900</span>\n",
      "<span>14,900</span>\n",
      "<span>17,800</span>\n",
      "<span>17,800</span>\n",
      "<span>38,600</span>\n",
      "<span>8,900</span>\n",
      "<span>19,300</span>\n",
      "<span>11,900</span>\n",
      "<span>16,300</span>\n",
      "<span>11,000</span>\n",
      "<span>35,600</span>\n",
      "<span>17,800</span>\n",
      "<span>17,800</span>\n",
      "<span>44,600</span>\n",
      "<span>13,400</span>\n",
      "<span>46,000</span>\n",
      "<span class=\"discount\">25,000</span>\n",
      "<span class=\"discount\">31,000</span>\n",
      "<span class=\"discount\">20,000</span>\n",
      "<span class=\"discount\">27,000</span>\n",
      "<span class=\"discount\">18,000</span>\n",
      "<span class=\"discount\">72,000</span>\n",
      "<span class=\"discount\">24,000</span>\n",
      "<span class=\"discount\">24,000</span>\n",
      "<span class=\"discount\">24,000</span>\n",
      "<span class=\"discount\">18,000</span>\n",
      "<span class=\"discount\">24,000</span>\n",
      "<span class=\"discount\">48,000</span>\n",
      "<span class=\"discount\">24,000</span>\n",
      "<span class=\"discount\">22,000</span>\n",
      "<span class=\"discount\">16,500</span>\n",
      "<span class=\"discount\">16,500</span>\n",
      "<span class=\"discount\">17,500</span>\n",
      "<span class=\"discount\">22,000</span>\n",
      "<span class=\"discount\">12,500</span>\n",
      "<span class=\"discount\">24,000</span>\n",
      "<span class=\"discount\">24,000</span>\n",
      "<span class=\"discount\">20,000</span>\n",
      "<span class=\"discount\">20,000</span>\n",
      "<span class=\"discount\">40,000</span>\n",
      "<span class=\"discount\">22,000</span>\n",
      "<span class=\"discount\">22,000</span>\n",
      "<span class=\"discount\">66,000</span>\n",
      "<span class=\"discount\">22,000</span>\n",
      "<span class=\"discount\">22,000</span>\n",
      "<span class=\"discount\">44,000</span>\n",
      "<span class=\"discount\">22,000</span>\n",
      "<span class=\"discount\">17,500</span>\n",
      "<span class=\"discount\">23,000</span>\n",
      "<span class=\"discount\">22,000</span>\n",
      "<span class=\"discount\">44,000</span>\n",
      "<span class=\"discount\">22,000</span>\n",
      "<span class=\"discount\">22,000</span>\n",
      "<span class=\"discount\">16,500</span>\n",
      "<span class=\"discount\">55,000</span>\n",
      "<span class=\"discount\">19,500</span>\n",
      "<span class=\"discount\">13,000</span>\n",
      "<span class=\"discount\">69,000</span>\n",
      "<span class=\"discount\">23,000</span>\n",
      "<span class=\"discount\">55,000</span>\n",
      "<span class=\"discount\">80,000</span>\n",
      "<span>19,300</span>\n",
      "<span>19,300</span>\n",
      "<span>17,800</span>\n",
      "<span>19,300</span>\n",
      "<span>17,800</span>\n",
      "<span>19,300</span>\n",
      "<span>38,600</span>\n",
      "<span>16,300</span>\n",
      "<span>46,800</span>\n",
      "<span>15,600</span>\n",
      "<span>11,100</span>\n",
      "<span>11,900</span>\n",
      "<span>26,800</span>\n",
      "<span>13,400</span>\n",
      "<span>13,400</span>\n",
      "<span>31,200</span>\n",
      "<span>15,600</span>\n",
      "<span>15,600</span>\n",
      "<span class=\"percent\">19%</span>\n",
      "<span class=\"percent\">19%</span>\n",
      "<span class=\"percent\">19%</span>\n",
      "<span class=\"percent\">17%</span>\n",
      "<span class=\"percent\">18%</span>\n",
      "<span class=\"percent\">12%</span>\n",
      "<span class=\"percent\">20%</span>\n",
      "<span class=\"percent\">19%</span>\n",
      "<span class=\"percent\">19%</span>\n",
      "<span class=\"percent\">19%</span>\n",
      "<span class=\"percent\">19%</span>\n",
      "<span class=\"percent\">19%</span>\n",
      "<span class=\"percent\">19%</span>\n",
      "<span class=\"percent\">19%</span>\n",
      "<span class=\"percent\">19%</span>\n",
      "<span class=\"percent\">19%</span>\n",
      "<span class=\"percent\">17%</span>\n",
      "<span class=\"percent\">19%</span>\n",
      "<span class=\"percent\">19%</span>\n",
      "<span class=\"percent\">19%</span>\n",
      "<span class=\"percent\">19%</span>\n",
      "<span class=\"percent\">20%</span>\n",
      "<span class=\"percent\">20%</span>\n",
      "<span class=\"percent\">19%</span>\n",
      "<span class=\"percent\">19%</span>\n"
     ]
    }
   ],
   "source": [
    "price_collect = []\n",
    "for i in range(1, len(price_list), 3):\n",
    "    print(price_list[i])"
   ]
  },
  {
   "cell_type": "code",
   "execution_count": 43,
   "metadata": {},
   "outputs": [
    {
     "data": {
      "text/plain": [
       "['16,300',\n",
       " '16,300',\n",
       " '13,400',\n",
       " '13,400',\n",
       " '13,400',\n",
       " '31,200',\n",
       " '13,400',\n",
       " '19,300',\n",
       " '17,100',\n",
       " '16,300',\n",
       " '17,800',\n",
       " '17,800',\n",
       " '11,000',\n",
       " '11,900',\n",
       " '14,900',\n",
       " '17,800',\n",
       " '17,800',\n",
       " '38,600',\n",
       " '8,900',\n",
       " '19,300',\n",
       " '11,900',\n",
       " '16,300',\n",
       " '11,000',\n",
       " '35,600',\n",
       " '17,800',\n",
       " '17,800',\n",
       " '44,600',\n",
       " '13,400',\n",
       " '46,000',\n",
       " '25,000',\n",
       " '31,000',\n",
       " '20,000',\n",
       " '27,000',\n",
       " '18,000',\n",
       " '72,000',\n",
       " '24,000',\n",
       " '24,000',\n",
       " '24,000',\n",
       " '18,000',\n",
       " '24,000',\n",
       " '48,000',\n",
       " '24,000',\n",
       " '22,000',\n",
       " '16,500',\n",
       " '16,500',\n",
       " '17,500',\n",
       " '22,000',\n",
       " '12,500',\n",
       " '24,000',\n",
       " '24,000',\n",
       " '20,000',\n",
       " '20,000',\n",
       " '40,000',\n",
       " '22,000',\n",
       " '22,000',\n",
       " '66,000',\n",
       " '22,000',\n",
       " '22,000',\n",
       " '44,000',\n",
       " '22,000',\n",
       " '17,500',\n",
       " '23,000',\n",
       " '22,000',\n",
       " '44,000',\n",
       " '22,000',\n",
       " '22,000',\n",
       " '16,500',\n",
       " '55,000',\n",
       " '19,500',\n",
       " '13,000',\n",
       " '69,000',\n",
       " '23,000',\n",
       " '55,000',\n",
       " '80,000',\n",
       " '19,300',\n",
       " '19,300',\n",
       " '17,800',\n",
       " '19,300',\n",
       " '17,800',\n",
       " '19,300',\n",
       " '38,600',\n",
       " '16,300',\n",
       " '46,800',\n",
       " '15,600',\n",
       " '11,100',\n",
       " '11,900',\n",
       " '26,800',\n",
       " '13,400',\n",
       " '13,400',\n",
       " '31,200',\n",
       " '15,600',\n",
       " '15,600',\n",
       " '19%',\n",
       " '19%',\n",
       " '19%',\n",
       " '17%',\n",
       " '18%',\n",
       " '12%',\n",
       " '20%',\n",
       " '19%',\n",
       " '19%',\n",
       " '19%',\n",
       " '19%',\n",
       " '19%',\n",
       " '19%',\n",
       " '19%',\n",
       " '19%',\n",
       " '19%',\n",
       " '17%',\n",
       " '19%',\n",
       " '19%',\n",
       " '19%',\n",
       " '19%',\n",
       " '20%',\n",
       " '20%',\n",
       " '19%',\n",
       " '19%']"
      ]
     },
     "execution_count": 43,
     "metadata": {},
     "output_type": "execute_result"
    }
   ],
   "source": [
    "for i in range(1, len(price_list), 3):\n",
    "    price_collect.append(price_list[i].text)\n",
    "price_collect"
   ]
  },
  {
   "cell_type": "code",
   "execution_count": null,
   "metadata": {},
   "outputs": [],
   "source": []
  }
 ],
 "metadata": {
  "kernelspec": {
   "display_name": "Python 3 (ipykernel)",
   "language": "python",
   "name": "python3"
  },
  "language_info": {
   "codemirror_mode": {
    "name": "ipython",
    "version": 3
   },
   "file_extension": ".py",
   "mimetype": "text/x-python",
   "name": "python",
   "nbconvert_exporter": "python",
   "pygments_lexer": "ipython3",
   "version": "3.7.11"
  }
 },
 "nbformat": 4,
 "nbformat_minor": 4
}
