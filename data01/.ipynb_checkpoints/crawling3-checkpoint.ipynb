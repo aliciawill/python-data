{
 "cells": [
  {
   "cell_type": "code",
   "execution_count": 6,
   "metadata": {},
   "outputs": [],
   "source": [
    "from urllib import request"
   ]
  },
  {
   "cell_type": "code",
   "execution_count": 7,
   "metadata": {},
   "outputs": [],
   "source": [
    "from bs4 import BeautifulSoup"
   ]
  },
  {
   "cell_type": "code",
   "execution_count": 8,
   "metadata": {},
   "outputs": [],
   "source": [
    "# !pip install bs4 #cmd에서 이 명령문을 실행!!"
   ]
  },
  {
   "cell_type": "code",
   "execution_count": 9,
   "metadata": {},
   "outputs": [
    {
     "name": "stdout",
     "output_type": "stream",
     "text": [
      "crawling1.ipynb crawling2.ipynb test01.ipynb    test02.ipynb\r\n"
     ]
    }
   ],
   "source": [
    "!ls #!dir"
   ]
  },
  {
   "cell_type": "code",
   "execution_count": 10,
   "metadata": {},
   "outputs": [
    {
     "data": {
      "text/plain": [
       "<http.client.HTTPResponse at 0x7f88b7ba1390>"
      ]
     },
     "execution_count": 10,
     "metadata": {},
     "output_type": "execute_result"
    }
   ],
   "source": [
    "con = request.urlopen('https://www.hottracks.co.kr/ht/biz/record/recordCategoryMain?ctgrId=00030000')\n",
    "con \n",
    "#http response(header + body)\n",
    "#header : http result status code\n",
    "#         (ok: 200, not found: 404, error: 500, permission: 403)"
   ]
  },
  {
   "cell_type": "code",
   "execution_count": 11,
   "metadata": {},
   "outputs": [
    {
     "data": {
      "text/plain": [
       "200"
      ]
     },
     "execution_count": 11,
     "metadata": {},
     "output_type": "execute_result"
    }
   ],
   "source": [
    "con.status #status code"
   ]
  },
  {
   "cell_type": "code",
   "execution_count": 12,
   "metadata": {},
   "outputs": [],
   "source": [
    "doc = BeautifulSoup(con, 'html.parser')\n",
    "#doc"
   ]
  },
  {
   "cell_type": "code",
   "execution_count": 20,
   "metadata": {},
   "outputs": [
    {
     "data": {
      "text/plain": [
       "[<li><a class=\"all\" href=\"javascript:;\">전체보기</a></li>,\n",
       " <li><a href=\"/ht/biz/record/recordCategoryMain?ctgrId=00030000\" style=\"color:#DA2128;\">가요 </a></li>,\n",
       " <li><a href=\"/ht/biz/record/recordCategoryMain?ctgrId=00030001\">랩/힙합 </a></li>,\n",
       " <li><a href=\"/ht/biz/record/recordCategoryMain?ctgrId=00030002\">락 </a></li>,\n",
       " <li><a href=\"/ht/biz/record/recordCategoryMain?ctgrId=00030003\">재즈/뉴에이지/일렉트로닉 </a></li>,\n",
       " <li><a href=\"/ht/biz/record/recordCategoryMain?ctgrId=00030004\">OST/뮤지컬 </a></li>,\n",
       " <li><a href=\"/ht/biz/record/recordCategoryMain?ctgrId=00030005\">화보집/MD상품 </a></li>,\n",
       " <li><a href=\"/ht/biz/record/recordCategoryMain?ctgrId=00030006\">성인가요 </a></li>,\n",
       " <li><a href=\"/ht/biz/record/recordCategoryMain?ctgrId=00030007\">시낭송/명상 </a></li>,\n",
       " <li><a href=\"/ht/biz/record/recordCategoryMain?ctgrId=00030008\">모음집 </a></li>,\n",
       " <li><a href=\"/ht/biz/record/recordCategoryMain?ctgrId=00030010\">캐롤 </a></li>]"
      ]
     },
     "execution_count": 20,
     "metadata": {},
     "output_type": "execute_result"
    }
   ],
   "source": [
    "a_tag_list = doc.select('.category_list  li')\n",
    "a_tag_list"
   ]
  },
  {
   "cell_type": "code",
   "execution_count": 14,
   "metadata": {},
   "outputs": [
    {
     "data": {
      "text/plain": [
       "list"
      ]
     },
     "execution_count": 14,
     "metadata": {},
     "output_type": "execute_result"
    }
   ],
   "source": [
    "type(a_tag_list)"
   ]
  },
  {
   "cell_type": "code",
   "execution_count": 21,
   "metadata": {},
   "outputs": [
    {
     "data": {
      "text/plain": [
       "11"
      ]
     },
     "execution_count": 21,
     "metadata": {},
     "output_type": "execute_result"
    }
   ],
   "source": [
    "#리스트의 갯수\n",
    "len(a_tag_list)"
   ]
  },
  {
   "cell_type": "code",
   "execution_count": 22,
   "metadata": {},
   "outputs": [
    {
     "data": {
      "text/plain": [
       "<li><a class=\"all\" href=\"javascript:;\">전체보기</a></li>"
      ]
     },
     "execution_count": 22,
     "metadata": {},
     "output_type": "execute_result"
    }
   ],
   "source": [
    "a_tag_list[0]"
   ]
  },
  {
   "cell_type": "code",
   "execution_count": 23,
   "metadata": {},
   "outputs": [
    {
     "data": {
      "text/plain": [
       "'전체보기'"
      ]
     },
     "execution_count": 23,
     "metadata": {},
     "output_type": "execute_result"
    }
   ],
   "source": [
    "a_tag_list[0].text"
   ]
  },
  {
   "cell_type": "code",
   "execution_count": 24,
   "metadata": {},
   "outputs": [
    {
     "name": "stdout",
     "output_type": "stream",
     "text": [
      "전체보기\n",
      "가요 \n",
      "랩/힙합 \n",
      "락 \n",
      "재즈/뉴에이지/일렉트로닉 \n",
      "OST/뮤지컬 \n",
      "화보집/MD상품 \n",
      "성인가요 \n",
      "시낭송/명상 \n",
      "모음집 \n",
      "캐롤 \n"
     ]
    }
   ],
   "source": [
    "for one in a_tag_list:\n",
    "    print(one.text)"
   ]
  },
  {
   "cell_type": "code",
   "execution_count": 25,
   "metadata": {},
   "outputs": [],
   "source": [
    "anav_list = []"
   ]
  },
  {
   "cell_type": "code",
   "execution_count": 26,
   "metadata": {},
   "outputs": [],
   "source": [
    "for one in a_tag_list:\n",
    "    anav_list.append(one.text)"
   ]
  },
  {
   "cell_type": "code",
   "execution_count": 27,
   "metadata": {},
   "outputs": [
    {
     "data": {
      "text/plain": [
       "['전체보기',\n",
       " '가요 ',\n",
       " '랩/힙합 ',\n",
       " '락 ',\n",
       " '재즈/뉴에이지/일렉트로닉 ',\n",
       " 'OST/뮤지컬 ',\n",
       " '화보집/MD상품 ',\n",
       " '성인가요 ',\n",
       " '시낭송/명상 ',\n",
       " '모음집 ',\n",
       " '캐롤 ']"
      ]
     },
     "execution_count": 27,
     "metadata": {},
     "output_type": "execute_result"
    }
   ],
   "source": [
    "anav_list"
   ]
  },
  {
   "cell_type": "code",
   "execution_count": 28,
   "metadata": {},
   "outputs": [
    {
     "data": {
      "text/plain": [
       "[<p class=\"tit\">SAVAGE [미니 1집] [SYNK DIVE VER]</p>,\n",
       " <p class=\"tit\">ODDINARY [MINI ALBUM] [SCANNING/ MASK OFF VER] [일반반]</p>,\n",
       " <p class=\"tit\">2021 WINTER SMTOWN: SMCU EXPRESS [RED VELVET]</p>,\n",
       " <p class=\"tit\">2021 WINTER SMTOWN: SMCU EXPRESS [NCT - DAYTIME PASS]</p>,\n",
       " <p class=\"tit\">2021 WINTER SMTOWN: SMCU EXPRESS [NCT - NIGHTTIME PASS]</p>,\n",
       " <p class=\"tit\">2021 WINTER SMTOWN: SMCU EXPRESS [SMTOWN VER]</p>,\n",
       " <p class=\"tit\">2021 WINTER SMTOWN: SMCU EXPRESS [AESPA]</p>,\n",
       " <p class=\"tit\">YOUNG-LUV.COM [미니 2집] [2종 중 랜덤 1종]</p>,\n",
       " <p class=\"tit\">AN ODE [정규 3집]</p>,\n",
       " <p class=\"tit\">SMILEY [미니 1집]</p>,\n",
       " <p class=\"tit\">GLITCH MODE [정규 2집] [PHOTOBOOK VER]</p>,\n",
       " <p class=\"tit\">HELLO FUTURE [정규 1집] [리패키지] [PHOTO BOOK VER]</p>,\n",
       " <p class=\"tit\">혼돈의 장: FIGHT OR ESCAPE [TOGETHER VER]</p>,\n",
       " <p class=\"tit\">YOUNG-LUV.COM [미니 2집] [JEWEL CASE VER] [6종 중 랜덤 1종]</p>,\n",
       " <p class=\"tit\">헹가래(HENG:GARAE) [미니 7집]</p>,\n",
       " <p class=\"tit\">혼돈의 장: FIGHT OR ESCAPE</p>,\n",
       " <p class=\"tit\">SAVAGE [미니 1집] [HALLUCINATION QUEST VER]</p>,\n",
       " <p class=\"tit\">REAL LOVE [정규 2집] [2종 세트]</p>,\n",
       " <p class=\"tit\">ATTACCA [미니 9집] [CARAT VER]</p>,\n",
       " <p class=\"tit\">FATAL LOVE [정규 3집]</p>,\n",
       " <p class=\"tit\">사치 [LP]</p>,\n",
       " <p class=\"tit\">콸콸콸 [싱글 3집]</p>,\n",
       " <p class=\"tit\">GREY SUIT [미니 2집] [PHOTOBOOK VER]</p>,\n",
       " <p class=\"tit\">GLITCH MODE [정규 2집] [DIGIPACK VER]</p>,\n",
       " <p class=\"tit\">MEMEM [미니 3집] [MEME VER]</p>,\n",
       " <p class=\"tit\">MEMEM [미니 3집] [M VER]</p>,\n",
       " <p class=\"tit\">MEMEM [미니 3집] [2종 세트]</p>,\n",
       " <p class=\"tit\">鳩集 C.J 2002 [정규 9집] [140G 화이트 컬러 LP]</p>,\n",
       " <p class=\"tit\">mis [EP] [한정반]</p>,\n",
       " <p class=\"tit\">4집 INVITATION [180G CLEAR RED LP]</p>,\n",
       " <p class=\"tit\">8집 THE SHIN SEUNG HUN [180G CLEAR LP]</p>,\n",
       " <p class=\"tit\">같은자리 [정규 1집]</p>,\n",
       " <p class=\"tit\">END THEORY FINAL EDITION [정규 6집] [리패키지]</p>,\n",
       " <p class=\"tit\">RAD</p>,\n",
       " <p class=\"tit\">DIMENSION [미니 3집] [키트]</p>,\n",
       " <p class=\"tit\">NEEDLE &amp; BUBBLE [THE BEST ALBUM] [키트]</p>,\n",
       " <p class=\"tit\">건강하세모 [EP]</p>,\n",
       " <p class=\"tit\">DAYDREAM [정규 1집] [AFTER THE DREAM VER]</p>,\n",
       " <p class=\"tit\">DAYDREAM [정규 1집] [BEFORE THE DREAM VER]</p>,\n",
       " <p class=\"tit\">DAYDREAM [정규 1집] [3종 세트]</p>,\n",
       " <p class=\"tit\">DAYDREAM [정규 1집] [IN THE DREAM VER]</p>,\n",
       " <p class=\"tit\">THANK YOU [미니 6집]</p>,\n",
       " <p class=\"tit\">REAL LOVE [정규 2집] [2종 세트]</p>,\n",
       " <p class=\"tit\">REAL LOVE [정규 2집] [FLORAL VER]</p>,\n",
       " <p class=\"tit\">REAL LOVE [정규 2집] [FRUITY VER]</p>,\n",
       " <p class=\"tit\">COME AWAY WITH ME</p>,\n",
       " <p class=\"tit\">LILY, LILY [EP]</p>,\n",
       " <p class=\"tit\">사계(SEASONS) [EP]</p>,\n",
       " <p class=\"tit\">시샘달 PART.1 [정규 1집]</p>,\n",
       " <p class=\"tit\">사람 마음</p>,\n",
       " <p class=\"tit\">ABOUT [EP]</p>,\n",
       " <p class=\"tit\">THE REVE FESTIVAL 2022: FEEL MY RHYTHM [ORGEL VER] [미니 CD]</p>,\n",
       " <p class=\"tit\">THE REVE FESTIVAL 2022: FEEL MY RHYTHM [REVE VER]</p>,\n",
       " <p class=\"tit\">HISTORY OF KINGDOM: PART Ⅳ. DANN [2종 세트]</p>,\n",
       " <p class=\"tit\">HISTORY OF KINGDOM: PART Ⅳ. DANN [SHADOW VER]</p>,\n",
       " <p class=\"tit\">HISTORY OF KINGDOM: PART Ⅳ. DANN [GLORY VER]</p>,\n",
       " <p class=\"tit\">PART.1: FIRST LOVE [미니 4집] [FALLING IN LOVE VER]</p>,\n",
       " <p class=\"tit\">PART.1: FIRST LOVE [미니 4집] [LOVE WITH RUI VER]</p>,\n",
       " <p class=\"tit\">PART.1: FIRST LOVE [미니 4집] [3종 세트]</p>,\n",
       " <p class=\"tit\">PART.1: FIRST LOVE [미니 4집]</p>,\n",
       " <p class=\"tit\">DIMENSION [미니 3집] [O VER]</p>,\n",
       " <p class=\"tit\">DIMENSION [미니 3집] [I VER]</p>,\n",
       " <p class=\"tit\">DIMENSION [미니 3집] [2종 세트]</p>,\n",
       " <p class=\"tit\">KOREAN BREATH: 만파 [萬波]</p>,\n",
       " <p class=\"tit\">NEEDLE &amp; BUBBLE [THE BEST ALBUM]</p>,\n",
       " <p class=\"tit\">GLITCH MODE [정규 2집] [PHOTOBOOK VER]</p>,\n",
       " <p class=\"tit\">容: FACE [미니 1집] [2종 세트]</p>,\n",
       " <p class=\"tit\">容: FACE [미니 1집] [FACE VER]</p>,\n",
       " <p class=\"tit\">LOVE IN BLOOM</p>,\n",
       " <p class=\"tit\">容: FACE [미니 1집] [PERSONA VER]</p>,\n",
       " <p class=\"tit\">CONSPIRACY [베이비 핑크 180G LP]</p>,\n",
       " <p class=\"tit\">ALWAYS HERE</p>,\n",
       " <p class=\"tit\">PLAY GAME: AWAKE [PLATFORM ALBUM VER] [싱글 1집]</p>,\n",
       " <p class=\"tit\">I NEVER DIE [정규 1집] [3종 세트]</p>,\n",
       " <p class=\"tit\">I NEVER DIE [정규 1집] [3종 중 랜덤 1종]</p>,\n",
       " <p class=\"tit\">BEST [180G LP]</p>,\n",
       " <p class=\"tit\">GO! BOOGIE! [180G LP]</p>,\n",
       " <p class=\"tit\">BEST 20 [USB]</p>,\n",
       " <p class=\"tit\">BEST 20</p>,\n",
       " <p class=\"tit\">VOYAGER [싱글 1집] [키트]</p>,\n",
       " <p class=\"tit\">REFUGE [미니 2집] [2종 중 랜덤 1종]</p>,\n",
       " <p class=\"tit\">REVE [3RD DESIRE] [BIBBIDI VER]</p>,\n",
       " <p class=\"tit\">REFUGE [미니 2집] [2종 세트]</p>,\n",
       " <p class=\"tit\">REVE [3RD DESIRE] [BOBBIDI VER]</p>,\n",
       " <p class=\"tit\">REVE [3RD DESIRE] [키트]</p>,\n",
       " <p class=\"tit\">공중부양 [EP]</p>,\n",
       " <p class=\"tit\">VOYAGER [싱글 1집] [3종 세트]</p>,\n",
       " <p class=\"tit\">VOYAGER [싱글 1집] [JEWEL VER]</p>,\n",
       " <p class=\"tit\">VOYAGER [싱글 1집] [3종 중 랜덤 1종]</p>,\n",
       " <p class=\"tit\">FIRST LETTER [미니 1집]</p>,\n",
       " <p class=\"tit\">Play Game: AWAKE [싱글 1집] [2종 세트]</p>,\n",
       " <p class=\"tit\">Play Game: AWAKE [싱글 1집] [Myself VER]</p>,\n",
       " <p class=\"tit\">Play Game: AWAKE [싱글 1집] [Real Self VER]</p>,\n",
       " <p class=\"tit\">CHERRY WISH [미니 2집] [2종 세트]</p>,\n",
       " <p class=\"tit\">CHERRY WISH [미니 2집] [2종 중 랜덤 1종]</p>,\n",
       " <p class=\"tit\">YELLOW PUNCH [미니 4집]</p>,\n",
       " <p class=\"tit\">스테레오힛트총결산: 참사랑/빗속의 연가 [180G 그린 LP]</p>,\n",
       " <p class=\"tit\">THE ROAD: WINTER FOR SPRING [스페셜 싱글] [B VER]</p>,\n",
       " <p class=\"tit\">THE ROAD: WINTER FOR SPRING [스페셜 싱글] [C VER]</p>,\n",
       " <p class=\"tit\">THE ROAD: WINTER FOR SPRING [스페셜 싱글] [A VER]</p>,\n",
       " <p class=\"tit\">NEW START [미니 1집]</p>,\n",
       " <p class=\"tit\">YOUNG-LUV.COM [미니 2집] [JEWEL CASE VER] [6종 중 랜덤 1종]</p>,\n",
       " <p class=\"tit\">바람같은 날을 살다가 [180G 퍼플 LP]</p>,\n",
       " <p class=\"tit\">AD MARE [싱글 1집] [LIGHT VER]</p>,\n",
       " <p class=\"tit\">2 [EP ALBUM]</p>,\n",
       " <p class=\"tit\">마음은 따끔</p>,\n",
       " <p class=\"tit\">혼자 있는 밤 [정규 1집]</p>,\n",
       " <p class=\"tit\">사람이 사람을 좋아하는 건 [소품집]</p>,\n",
       " <p class=\"tit\">상실의 시대</p>,\n",
       " <p class=\"tit\">ODDINARY [MINI ALBUM] [SCANNING/ MASK OFF VER] [일반반]</p>,\n",
       " <p class=\"tit\">THE COLLECTIVE SOUL AND UNCONSCIOUS: CHAPTER ONE [미니 2집] [UNCONSCIOUS VER]</p>,\n",
       " <p class=\"tit\">THE COLLECTIVE SOUL AND UNCONSCIOUS: CHAPTER ONE [미니 2집] [SOUL VER]</p>,\n",
       " <p class=\"tit\">DANCE WITH GOD [미니 2집]</p>,\n",
       " <p class=\"tit\">POST POST POST!</p>,\n",
       " <p class=\"tit\">수몰 [140G 투명 브릴리언트 블루 LP]</p>,\n",
       " <p class=\"tit\">NATURAL [LP]</p>,\n",
       " <p class=\"tit\">JTRAP [미니 1집]</p>,\n",
       " <p class=\"tit\">YEARBOOK 2021</p>,\n",
       " <p class=\"tit\">YOUNG-LUV.COM [미니 2집] [2종 세트]</p>,\n",
       " <p class=\"tit\">YOUNG-LUV.COM [미니 2집] [2종 중 랜덤 1종]</p>]"
      ]
     },
     "execution_count": 28,
     "metadata": {},
     "output_type": "execute_result"
    }
   ],
   "source": [
    "p_tag_list = doc.select('p.tit')\n",
    "p_tag_list #[p태그객체주소, p태그객체주소, p태그객체주소, p태그객체주소] : 주소대신에 __str__함수가 오버라이드"
   ]
  },
  {
   "cell_type": "code",
   "execution_count": null,
   "metadata": {},
   "outputs": [],
   "source": []
  }
 ],
 "metadata": {
  "kernelspec": {
   "display_name": "Python 3 (ipykernel)",
   "language": "python",
   "name": "python3"
  },
  "language_info": {
   "codemirror_mode": {
    "name": "ipython",
    "version": 3
   },
   "file_extension": ".py",
   "mimetype": "text/x-python",
   "name": "python",
   "nbconvert_exporter": "python",
   "pygments_lexer": "ipython3",
   "version": "3.7.11"
  }
 },
 "nbformat": 4,
 "nbformat_minor": 4
}
