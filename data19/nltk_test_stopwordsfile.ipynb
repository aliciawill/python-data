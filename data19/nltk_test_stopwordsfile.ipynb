{
 "cells": [
  {
   "cell_type": "code",
   "execution_count": 1,
   "metadata": {},
   "outputs": [],
   "source": [
    "import nltk"
   ]
  },
  {
   "cell_type": "code",
   "execution_count": 2,
   "metadata": {},
   "outputs": [
    {
     "name": "stdout",
     "output_type": "stream",
     "text": [
      "showing info https://raw.githubusercontent.com/nltk/nltk_data/gh-pages/index.xml\n"
     ]
    },
    {
     "data": {
      "text/plain": [
       "True"
      ]
     },
     "execution_count": 2,
     "metadata": {},
     "output_type": "execute_result"
    }
   ],
   "source": [
    "# nltk.download()"
   ]
  },
  {
   "cell_type": "code",
   "execution_count": 3,
   "metadata": {},
   "outputs": [],
   "source": [
    "import pandas as pd"
   ]
  },
  {
   "cell_type": "code",
   "execution_count": 6,
   "metadata": {},
   "outputs": [],
   "source": [
    "import matplotlib.pylab as plt\n",
    "%matplotlib inline"
   ]
  },
  {
   "cell_type": "code",
   "execution_count": 7,
   "metadata": {},
   "outputs": [],
   "source": [
    "file = open('bts.txt', encoding='utf8')\n",
    "a = file.read()"
   ]
  },
  {
   "cell_type": "code",
   "execution_count": 8,
   "metadata": {},
   "outputs": [
    {
     "data": {
      "text/plain": [
       "\"2021-12-14\\nBTS may have to serve in South Korean army\\nSo far, South Korean lawmakers fail to agree on the exemption of pop stars\\nfrom active duty\\nBTS accepts the Favorite Pop Song award for Butter at the American Music Awards held\\nat Microsoft Theatre in Los Angeles on Nov. 21\\nIt appears the world’s top boy band BTS will have to serve in the South Korean\\nmilitary as lawmakers in the country have so far failed to agree on amendments to\\nthe current law, which would have exempted them from the duty.\\nThe defense ministry also opposed the amendment.\\nA subcommittee of the parliament's national defense committee on Nov. 25\\nsuspended a decision on three revised bills, which would have allowed popular male\\nartists including singers and actors deemed to be making high contributions to the\\nnational interest to fulfill their duty as public cultural personnel instead of soldiers.\\nMembers of the defense committee locked horns over the amendments.\\nLawmakers are unlikely to vote on the amendments this year due to the suspension.\\nBut they left the door open for approval within their term until 2024 since the revised\\nbills were not abolished but pending in the subcommittee. The defense committee is\\nknown to be planning to collect opinions from the public on the matter as early as\\nnext month.\\nThe current laws grant such allowances only to medalists at major sports events such\\nas the Olympics, and winners of classical music and dance competitions. It is\\nmandatory for all able-bodied South Korean men at a certain age are to serve in the\\nmilitary for up to 21 months.\\n'THEY DESERVE IT'\\nBTS deserves the waiver, given the group’s achievements in the global music industry,\\nsaid Sung Il-jong, a lawmaker of the main opposition People Power Party, who\\nproposed one of the revised bills.\\n“Who promoted the national prestige more, the winner of a classical music contest in\\nSeoul or BTS, the winner of the top honor at the American Music Awards (AMAs)?”\\nSung said. Earlier this week, BTS became the first Asian act to take the prize for artist\\nof the year at the AMAs, one of the three top US music awards, along with those given\\nat the Billboard Music Awards and the Grammies, to adorn the throne at the top of\\nthe global pop industry.\\nBTS' national economic contribution is estimated at 56 trillion won ($46.9 billion) over\\na ten-year period, while an Olympic medal’s economic value is evaluated at up to 269\\nbillion won, Sung said, citing a report by Hyundai Research Institute.\\nKim Jin-pyo of the ruling Democratic Party proposed a measure that grants the\\nallowances only to those who received orders based on cultural or sports merit. In\\n2018, BTS was awarded the Order of Cultural Merit from South Korea’s government in\\nrecognition of its contribution to promoting Korean culture and language across the\\nglobe.\\nBTS gives an impromptu concert in the streets of downtown Los Angeles\\n'NOT FAIR'\\nOn the other hand, the Democratic Party’s Kim Byung-ki argued the proposed\\namendment to exempt the pop stars from military service should be rejected based\\non fairness.\\n“The military service should be applied fairly to everyone,” Kim said. “We must\\nminimize the scope for the waiver while establishing objective standards accepted by\\neveryone.”\\nThe Ministry of National Defense remained opposed to the amendment.\\n“It is hard to expand the number of eligible artists and athletes for the waiver. We\\nneed to be prudent,” the ministry’s spokesperson Boo Seung-chan said on Nov. 25.\\nIn September, Defense Minister Suh Wook said the matter needs national consensus\\nin response to the parliamentary inquires.\\nPresidential candidates are speculated to join in on the debate over the issue. Ahn\\nCheol-soo, the nominee of a smaller opposition People’s Party, has supported the\\namendment, saying it is discriminatory to exclude pop music from the cultural\\nexemption, which is granted to the fine arts and sports.\\nWrite to Young Chan Song at \""
      ]
     },
     "execution_count": 8,
     "metadata": {},
     "output_type": "execute_result"
    }
   ],
   "source": [
    "a"
   ]
  },
  {
   "cell_type": "code",
   "execution_count": 10,
   "metadata": {},
   "outputs": [
    {
     "name": "stdout",
     "output_type": "stream",
     "text": [
      "2021-12-14\n",
      "\n",
      "It\n",
      "\n",
      "so\n",
      "\n",
      "far\n",
      "\n",
      "A\n",
      "\n",
      "The\n",
      "\n",
      "in\n",
      "\n",
      "of\n",
      "\n",
      "on\n",
      "\n",
      "until\n"
     ]
    }
   ],
   "source": [
    "for line in open('stopwords.txt'):\n",
    "    print(line)"
   ]
  },
  {
   "cell_type": "code",
   "execution_count": 12,
   "metadata": {},
   "outputs": [
    {
     "name": "stdout",
     "output_type": "stream",
     "text": [
      "2021-12-14\n",
      "It\n",
      "so\n",
      "far\n",
      "A\n",
      "The\n",
      "in\n",
      "of\n",
      "on\n",
      "until\n"
     ]
    }
   ],
   "source": [
    "for line in open('stopwords.txt'):\n",
    "    print(line.strip())"
   ]
  },
  {
   "cell_type": "code",
   "execution_count": null,
   "metadata": {},
   "outputs": [],
   "source": [
    "# collections\n",
    "# list(순서), dictionary(키:값), \n",
    "# tuple(순서, 읽기전용), set(중복x)"
   ]
  },
  {
   "cell_type": "code",
   "execution_count": 19,
   "metadata": {},
   "outputs": [
    {
     "data": {
      "text/plain": [
       "{'($469',\n",
       " '2021-12-14',\n",
       " '25',\n",
       " 'A',\n",
       " 'It',\n",
       " 'The',\n",
       " 'a',\n",
       " 'are',\n",
       " 'at',\n",
       " 'be',\n",
       " 'but',\n",
       " 'far',\n",
       " 'for',\n",
       " 'in',\n",
       " 'it',\n",
       " \"it'\",\n",
       " 'not',\n",
       " 'of',\n",
       " 'on',\n",
       " 'so',\n",
       " 'such',\n",
       " 'until',\n",
       " 'was'}"
      ]
     },
     "execution_count": 19,
     "metadata": {},
     "output_type": "execute_result"
    }
   ],
   "source": [
    "stopwords = set(line.strip() for line in open('stopwords.txt')) #익명함수, 클러저!\n",
    "stopwords #set!구조"
   ]
  },
  {
   "cell_type": "code",
   "execution_count": 28,
   "metadata": {},
   "outputs": [
    {
     "data": {
      "text/plain": [
       "{'($469',\n",
       " '2021-12-14',\n",
       " '25',\n",
       " 'A',\n",
       " 'It',\n",
       " 'The',\n",
       " 'a',\n",
       " 'are',\n",
       " 'at',\n",
       " 'be',\n",
       " 'but',\n",
       " 'far',\n",
       " 'for',\n",
       " 'in',\n",
       " 'it',\n",
       " \"it'\",\n",
       " 'mr',\n",
       " 'mrs',\n",
       " 'not',\n",
       " 'of',\n",
       " 'on',\n",
       " 'one',\n",
       " 'so',\n",
       " 'such',\n",
       " 'the',\n",
       " 'to',\n",
       " 'until',\n",
       " 'was'}"
      ]
     },
     "execution_count": 28,
     "metadata": {},
     "output_type": "execute_result"
    }
   ],
   "source": [
    "stopwords = stopwords.union(set(['the', 'to', 'one']))\n",
    "stopwords"
   ]
  },
  {
   "cell_type": "code",
   "execution_count": 29,
   "metadata": {},
   "outputs": [],
   "source": [
    "wordcount = {}\n",
    "for word in a.lower().split():\n",
    "    word = word.replace(\".\", \"\")\n",
    "    word = word.replace(\",\", \"\")\n",
    "    word = word.replace(\":\", \"\")\n",
    "    word = word.replace(\"\\\"\", \"\")\n",
    "    word = word.replace(\"*\", \"\")\n",
    "    \n",
    "    if word not in  stopwords:\n",
    "        if word not in wordcount:\n",
    "            wordcount[word] = 1\n",
    "        else:\n",
    "            wordcount[word] += 1         "
   ]
  },
  {
   "cell_type": "code",
   "execution_count": 30,
   "metadata": {},
   "outputs": [
    {
     "data": {
      "text/plain": [
       "{'bts': 8,\n",
       " 'may': 1,\n",
       " 'have': 5,\n",
       " 'serve': 3,\n",
       " 'south': 5,\n",
       " 'korean': 5,\n",
       " 'army': 1,\n",
       " 'lawmakers': 3,\n",
       " 'fail': 1,\n",
       " 'agree': 2,\n",
       " 'exemption': 2,\n",
       " 'pop': 5,\n",
       " 'stars': 2,\n",
       " 'from': 6,\n",
       " 'active': 1,\n",
       " 'duty': 3,\n",
       " 'accepts': 1,\n",
       " 'favorite': 1,\n",
       " 'song': 2,\n",
       " 'award': 1,\n",
       " 'butter': 1,\n",
       " 'american': 2,\n",
       " 'music': 8,\n",
       " 'awards': 4,\n",
       " 'held': 1,\n",
       " 'microsoft': 1,\n",
       " 'theatre': 1,\n",
       " 'los': 2,\n",
       " 'angeles': 2,\n",
       " 'nov': 3,\n",
       " '21': 2,\n",
       " 'appears': 1,\n",
       " 'world’s': 1,\n",
       " 'top': 4,\n",
       " 'boy': 1,\n",
       " 'band': 1,\n",
       " 'will': 1,\n",
       " 'military': 4,\n",
       " 'as': 5,\n",
       " 'country': 1,\n",
       " 'failed': 1,\n",
       " 'amendments': 3,\n",
       " 'current': 2,\n",
       " 'law': 1,\n",
       " 'which': 3,\n",
       " 'would': 2,\n",
       " 'exempted': 1,\n",
       " 'them': 1,\n",
       " 'defense': 6,\n",
       " 'ministry': 2,\n",
       " 'also': 1,\n",
       " 'opposed': 2,\n",
       " 'amendment': 4,\n",
       " 'subcommittee': 2,\n",
       " \"parliament's\": 1,\n",
       " 'national': 6,\n",
       " 'committee': 3,\n",
       " 'suspended': 1,\n",
       " 'decision': 1,\n",
       " 'three': 2,\n",
       " 'revised': 3,\n",
       " 'bills': 3,\n",
       " 'allowed': 1,\n",
       " 'popular': 1,\n",
       " 'male': 1,\n",
       " 'artists': 2,\n",
       " 'including': 1,\n",
       " 'singers': 1,\n",
       " 'and': 7,\n",
       " 'actors': 1,\n",
       " 'deemed': 1,\n",
       " 'making': 1,\n",
       " 'high': 1,\n",
       " 'contributions': 1,\n",
       " 'interest': 1,\n",
       " 'fulfill': 1,\n",
       " 'their': 2,\n",
       " 'public': 2,\n",
       " 'cultural': 4,\n",
       " 'personnel': 1,\n",
       " 'instead': 1,\n",
       " 'soldiers': 1,\n",
       " 'members': 1,\n",
       " 'locked': 1,\n",
       " 'horns': 1,\n",
       " 'over': 3,\n",
       " 'unlikely': 1,\n",
       " 'vote': 1,\n",
       " 'this': 2,\n",
       " 'year': 2,\n",
       " 'due': 1,\n",
       " 'suspension': 1,\n",
       " 'they': 1,\n",
       " 'left': 1,\n",
       " 'door': 1,\n",
       " 'open': 1,\n",
       " 'approval': 1,\n",
       " 'within': 1,\n",
       " 'term': 1,\n",
       " '2024': 1,\n",
       " 'since': 1,\n",
       " 'were': 1,\n",
       " 'abolished': 1,\n",
       " 'pending': 1,\n",
       " 'is': 7,\n",
       " 'known': 1,\n",
       " 'planning': 1,\n",
       " 'collect': 1,\n",
       " 'opinions': 1,\n",
       " 'matter': 2,\n",
       " 'early': 1,\n",
       " 'next': 1,\n",
       " 'month': 1,\n",
       " 'laws': 1,\n",
       " 'grant': 1,\n",
       " 'allowances': 2,\n",
       " 'only': 2,\n",
       " 'medalists': 1,\n",
       " 'major': 1,\n",
       " 'sports': 3,\n",
       " 'events': 1,\n",
       " 'olympics': 1,\n",
       " 'winners': 1,\n",
       " 'classical': 2,\n",
       " 'dance': 1,\n",
       " 'competitions': 1,\n",
       " 'mandatory': 1,\n",
       " 'all': 1,\n",
       " 'able-bodied': 1,\n",
       " 'men': 1,\n",
       " 'certain': 1,\n",
       " 'age': 1,\n",
       " 'up': 2,\n",
       " 'months': 1,\n",
       " \"'they\": 1,\n",
       " 'deserve': 1,\n",
       " 'deserves': 1,\n",
       " 'waiver': 3,\n",
       " 'given': 2,\n",
       " 'group’s': 1,\n",
       " 'achievements': 1,\n",
       " 'global': 2,\n",
       " 'industry': 2,\n",
       " 'said': 6,\n",
       " 'sung': 3,\n",
       " 'il-jong': 1,\n",
       " 'lawmaker': 1,\n",
       " 'main': 1,\n",
       " 'opposition': 2,\n",
       " 'people': 1,\n",
       " 'power': 1,\n",
       " 'party': 3,\n",
       " 'who': 2,\n",
       " 'proposed': 3,\n",
       " '“who': 1,\n",
       " 'promoted': 1,\n",
       " 'prestige': 1,\n",
       " 'more': 1,\n",
       " 'winner': 2,\n",
       " 'contest': 1,\n",
       " 'seoul': 1,\n",
       " 'or': 2,\n",
       " 'honor': 1,\n",
       " '(amas)?”': 1,\n",
       " 'earlier': 1,\n",
       " 'week': 1,\n",
       " 'became': 1,\n",
       " 'first': 1,\n",
       " 'asian': 1,\n",
       " 'act': 1,\n",
       " 'take': 1,\n",
       " 'prize': 1,\n",
       " 'artist': 1,\n",
       " 'amas': 1,\n",
       " 'us': 1,\n",
       " 'along': 1,\n",
       " 'with': 1,\n",
       " 'those': 2,\n",
       " 'billboard': 1,\n",
       " 'grammies': 1,\n",
       " 'adorn': 1,\n",
       " 'throne': 1,\n",
       " \"bts'\": 1,\n",
       " 'economic': 2,\n",
       " 'contribution': 2,\n",
       " 'estimated': 1,\n",
       " '56': 1,\n",
       " 'trillion': 1,\n",
       " 'won': 2,\n",
       " 'billion)': 1,\n",
       " 'ten-year': 1,\n",
       " 'period': 1,\n",
       " 'while': 2,\n",
       " 'an': 2,\n",
       " 'olympic': 1,\n",
       " 'medal’s': 1,\n",
       " 'value': 1,\n",
       " 'evaluated': 1,\n",
       " '269': 1,\n",
       " 'billion': 1,\n",
       " 'citing': 1,\n",
       " 'report': 1,\n",
       " 'by': 2,\n",
       " 'hyundai': 1,\n",
       " 'research': 1,\n",
       " 'institute': 1,\n",
       " 'kim': 3,\n",
       " 'jin-pyo': 1,\n",
       " 'ruling': 1,\n",
       " 'democratic': 2,\n",
       " 'measure': 1,\n",
       " 'that': 1,\n",
       " 'grants': 1,\n",
       " 'received': 1,\n",
       " 'orders': 1,\n",
       " 'based': 2,\n",
       " 'merit': 2,\n",
       " '2018': 1,\n",
       " 'awarded': 1,\n",
       " 'order': 1,\n",
       " 'korea’s': 1,\n",
       " 'government': 1,\n",
       " 'recognition': 1,\n",
       " 'its': 1,\n",
       " 'promoting': 1,\n",
       " 'culture': 1,\n",
       " 'language': 1,\n",
       " 'across': 1,\n",
       " 'globe': 1,\n",
       " 'gives': 1,\n",
       " 'impromptu': 1,\n",
       " 'concert': 1,\n",
       " 'streets': 1,\n",
       " 'downtown': 1,\n",
       " \"'not\": 1,\n",
       " \"fair'\": 1,\n",
       " 'other': 1,\n",
       " 'hand': 1,\n",
       " 'party’s': 1,\n",
       " 'byung-ki': 1,\n",
       " 'argued': 1,\n",
       " 'exempt': 1,\n",
       " 'service': 2,\n",
       " 'should': 2,\n",
       " 'rejected': 1,\n",
       " 'fairness': 1,\n",
       " '“the': 1,\n",
       " 'applied': 1,\n",
       " 'fairly': 1,\n",
       " 'everyone”': 2,\n",
       " '“we': 1,\n",
       " 'must': 1,\n",
       " 'minimize': 1,\n",
       " 'scope': 1,\n",
       " 'establishing': 1,\n",
       " 'objective': 1,\n",
       " 'standards': 1,\n",
       " 'accepted': 1,\n",
       " 'remained': 1,\n",
       " '“it': 1,\n",
       " 'hard': 1,\n",
       " 'expand': 1,\n",
       " 'number': 1,\n",
       " 'eligible': 1,\n",
       " 'athletes': 1,\n",
       " 'we': 1,\n",
       " 'need': 1,\n",
       " 'prudent”': 1,\n",
       " 'ministry’s': 1,\n",
       " 'spokesperson': 1,\n",
       " 'boo': 1,\n",
       " 'seung-chan': 1,\n",
       " 'september': 1,\n",
       " 'minister': 1,\n",
       " 'suh': 1,\n",
       " 'wook': 1,\n",
       " 'needs': 1,\n",
       " 'consensus': 1,\n",
       " 'response': 1,\n",
       " 'parliamentary': 1,\n",
       " 'inquires': 1,\n",
       " 'presidential': 1,\n",
       " 'candidates': 1,\n",
       " 'speculated': 1,\n",
       " 'join': 1,\n",
       " 'debate': 1,\n",
       " 'issue': 1,\n",
       " 'ahn': 1,\n",
       " 'cheol-soo': 1,\n",
       " 'nominee': 1,\n",
       " 'smaller': 1,\n",
       " 'people’s': 1,\n",
       " 'has': 1,\n",
       " 'supported': 1,\n",
       " 'saying': 1,\n",
       " 'discriminatory': 1,\n",
       " 'exclude': 1,\n",
       " 'granted': 1,\n",
       " 'fine': 1,\n",
       " 'arts': 1,\n",
       " 'write': 1,\n",
       " 'young': 1,\n",
       " 'chan': 1}"
      ]
     },
     "execution_count": 30,
     "metadata": {},
     "output_type": "execute_result"
    }
   ],
   "source": [
    "wordcount"
   ]
  },
  {
   "cell_type": "code",
   "execution_count": 31,
   "metadata": {},
   "outputs": [],
   "source": [
    "import collections"
   ]
  },
  {
   "cell_type": "code",
   "execution_count": 32,
   "metadata": {},
   "outputs": [],
   "source": [
    "word_counter = collections.Counter(wordcount)"
   ]
  },
  {
   "cell_type": "code",
   "execution_count": 33,
   "metadata": {},
   "outputs": [
    {
     "data": {
      "text/plain": [
       "[('bts', 8), ('music', 8), ('and', 7)]"
      ]
     },
     "execution_count": 33,
     "metadata": {},
     "output_type": "execute_result"
    }
   ],
   "source": [
    "word_counter.most_common(3)"
   ]
  },
  {
   "cell_type": "code",
   "execution_count": 34,
   "metadata": {},
   "outputs": [
    {
     "name": "stdin",
     "output_type": "stream",
     "text": [
      "how many list>>  5\n"
     ]
    },
    {
     "data": {
      "text/plain": [
       "[('bts', 8), ('music', 8), ('and', 7), ('is', 7), ('from', 6)]"
      ]
     },
     "execution_count": 34,
     "metadata": {},
     "output_type": "execute_result"
    }
   ],
   "source": [
    "# n_print = int(input('how many list>> '))\n",
    "# word_counter.most_common(n_print)"
   ]
  },
  {
   "cell_type": "code",
   "execution_count": 35,
   "metadata": {},
   "outputs": [
    {
     "name": "stdin",
     "output_type": "stream",
     "text": [
      "how many list>>  5\n"
     ]
    },
    {
     "name": "stdout",
     "output_type": "stream",
     "text": [
      "bts :  8\n",
      "music :  8\n",
      "and :  7\n",
      "is :  7\n",
      "from :  6\n"
     ]
    }
   ],
   "source": [
    "n_print = int(input('how many list>> '))\n",
    "for word, count in word_counter.most_common(n_print):\n",
    "    print(word, ': ', count)"
   ]
  },
  {
   "cell_type": "code",
   "execution_count": 36,
   "metadata": {},
   "outputs": [],
   "source": [
    "file.close()"
   ]
  },
  {
   "cell_type": "code",
   "execution_count": 37,
   "metadata": {},
   "outputs": [
    {
     "data": {
      "text/html": [
       "<div>\n",
       "<style scoped>\n",
       "    .dataframe tbody tr th:only-of-type {\n",
       "        vertical-align: middle;\n",
       "    }\n",
       "\n",
       "    .dataframe tbody tr th {\n",
       "        vertical-align: top;\n",
       "    }\n",
       "\n",
       "    .dataframe thead th {\n",
       "        text-align: right;\n",
       "    }\n",
       "</style>\n",
       "<table border=\"1\" class=\"dataframe\">\n",
       "  <thead>\n",
       "    <tr style=\"text-align: right;\">\n",
       "      <th></th>\n",
       "      <th>Word</th>\n",
       "      <th>Count</th>\n",
       "    </tr>\n",
       "  </thead>\n",
       "  <tbody>\n",
       "    <tr>\n",
       "      <th>0</th>\n",
       "      <td>bts</td>\n",
       "      <td>8</td>\n",
       "    </tr>\n",
       "    <tr>\n",
       "      <th>1</th>\n",
       "      <td>music</td>\n",
       "      <td>8</td>\n",
       "    </tr>\n",
       "    <tr>\n",
       "      <th>2</th>\n",
       "      <td>and</td>\n",
       "      <td>7</td>\n",
       "    </tr>\n",
       "    <tr>\n",
       "      <th>3</th>\n",
       "      <td>is</td>\n",
       "      <td>7</td>\n",
       "    </tr>\n",
       "    <tr>\n",
       "      <th>4</th>\n",
       "      <td>from</td>\n",
       "      <td>6</td>\n",
       "    </tr>\n",
       "  </tbody>\n",
       "</table>\n",
       "</div>"
      ],
      "text/plain": [
       "    Word  Count\n",
       "0    bts      8\n",
       "1  music      8\n",
       "2    and      7\n",
       "3     is      7\n",
       "4   from      6"
      ]
     },
     "execution_count": 37,
     "metadata": {},
     "output_type": "execute_result"
    }
   ],
   "source": [
    "list = word_counter.most_common(n_print)\n",
    "df = pd.DataFrame(list, columns=['Word', 'Count'])\n",
    "df"
   ]
  },
  {
   "cell_type": "code",
   "execution_count": 38,
   "metadata": {},
   "outputs": [
    {
     "data": {
      "text/plain": [
       "<AxesSubplot:xlabel='Word'>"
      ]
     },
     "execution_count": 38,
     "metadata": {},
     "output_type": "execute_result"
    },
    {
     "data": {
      "image/png": "[encoded data removed]",
      "text/plain": [
       "<Figure size 432x288 with 1 Axes>"
      ]
     },
     "metadata": {
      "needs_background": "light"
     },
     "output_type": "display_data"
    }
   ],
   "source": [
    "df.plot.bar(x = 'Word', y = 'Count')"
   ]
  },
  {
   "cell_type": "code",
   "execution_count": null,
   "metadata": {},
   "outputs": [],
   "source": []
  }
 ],
 "metadata": {
  "kernelspec": {
   "display_name": "Python 3 (ipykernel)",
   "language": "python",
   "name": "python3"
  },
  "language_info": {
   "codemirror_mode": {
    "name": "ipython",
    "version": 3
   },
   "file_extension": ".py",
   "mimetype": "text/x-python",
   "name": "python",
   "nbconvert_exporter": "python",
   "pygments_lexer": "ipython3",
   "version": "3.7.9"
  }
 },
 "nbformat": 4,
 "nbformat_minor": 4
}
