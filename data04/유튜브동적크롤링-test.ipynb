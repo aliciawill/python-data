{
 "cells": [
  {
   "cell_type": "code",
   "execution_count": 55,
   "metadata": {},
   "outputs": [],
   "source": [
    "from selenium import webdriver as wb\n",
    "from selenium.webdriver.common.keys import Keys\n",
    "from bs4 import BeautifulSoup as bs\n",
    "import pandas as pd\n",
    "import time"
   ]
  },
  {
   "cell_type": "code",
   "execution_count": 56,
   "metadata": {},
   "outputs": [
    {
     "name": "stderr",
     "output_type": "stream",
     "text": [
      "/Users/administrator/opt/anaconda3/lib/python3.7/site-packages/ipykernel_launcher.py:2: DeprecationWarning: executable_path has been deprecated, please pass in a Service object\n",
      "  \n"
     ]
    }
   ],
   "source": [
    "you = \"https://www.youtube.com/results?search_query=%EB%94%A9%EA%B3%A0%EB%AE%A4%EC%A7%81\"\n",
    "wd = webdriver.Chrome('/usr/local/bin/chromedriver') #브라우저 실행"
   ]
  },
  {
   "cell_type": "code",
   "execution_count": 57,
   "metadata": {},
   "outputs": [],
   "source": [
    "wd.get(you) #특정페이지 로딩"
   ]
  },
  {
   "cell_type": "code",
   "execution_count": 58,
   "metadata": {},
   "outputs": [
    {
     "name": "stderr",
     "output_type": "stream",
     "text": [
      "/Users/administrator/opt/anaconda3/lib/python3.7/site-packages/ipykernel_launcher.py:1: DeprecationWarning: find_element_by_tag_name is deprecated. Please use find_element(by=By.TAG_NAME, value=name) instead\n",
      "  \"\"\"Entry point for launching an IPython kernel.\n"
     ]
    }
   ],
   "source": [
    "body = wd.find_element_by_tag_name('body')\n",
    "body.send_keys(Keys.PAGE_DOWN)"
   ]
  },
  {
   "cell_type": "code",
   "execution_count": 61,
   "metadata": {},
   "outputs": [],
   "source": [
    "for i in range(1,3): #숫자를 작게 설정하면, 스크롤 내려가는 것을 볼 수 있음.\n",
    "    body.send_keys(Keys.PAGE_DOWN)\n",
    "    time.sleep(0.5)"
   ]
  },
  {
   "cell_type": "code",
   "execution_count": 62,
   "metadata": {},
   "outputs": [],
   "source": [
    "soup = bs(wd.page_source, 'lxml')"
   ]
  },
  {
   "cell_type": "code",
   "execution_count": 21,
   "metadata": {},
   "outputs": [
    {
     "name": "stdout",
     "output_type": "stream",
     "text": [
      "[Live Clip] EXN (을씨년) - HAMBURGER SONG (Feat. 릴보이 (lIlBOI)) | [딩고뮤직 Q] #1 | Dingo Music\n",
      "태연(TAEYEON)의 킬링보이스를 라이브로! - I,그대라는 시,만약에,11:11,Blue,Time Lapse,Weekend,불티,사계,Gravity,INVU,너를 그리는 시간\n",
      "성시경(Sungsikyung)의 킬링보이스를 라이브로! - 너의 모든 순간, 좋을텐데, 넌 감동이었어, 희재, 두사람, 미소천사, 거리에서, 태양계, I Love Uㅣ딩고뮤직\n",
      "아이유(IU)의 킬링보이스를 라이브로! - 하루 끝, 너의 의미, 스물셋, 밤편지, 팔레트, 가을 아침, 삐삐, Blueming, 에잇, Coin, 라일락 ㅣ 딩고뮤직\n",
      "린(LYN)의 킬링보이스를 라이브로! -  My Destiny, …사랑했잖아…, 곰인형, 자기야 여보야 사랑아, 시간을 거슬러, 통화연결음 | 딩고뮤직\n",
      "폴킴(Paul Kim)의 킬링보이스를 라이브로! - 커피한잔할래요,우리만남이,모든날모든순간,안녕,있잖아,사랑은 타이밍,편지,초록빛,너를 만나,사랑하는 당신께 ㅣ 딩고뮤직\n",
      "[4K] 크러쉬의 킬링보이스를 라이브로! / 넌 , Beautiful, In The Air, RYO, Cereal, LYHOM, SOFA, Lookin 4, 나빠 (NAPPA)\n",
      "백지영(Baek Z Young)의 킬링보이스를 라이브로! - 총 맞은 것처럼, 잊지 말아요, 사랑 안해, 내 귀에 캔디, 그 여자, 다시 사랑할 수있을까, 목소리ㅣ딩고뮤직\n",
      "넬(NELL)의 킬링보이스를 라이브로! (With.종완) -Cliche, 지구가 태양을 네번, 기억을 걷는 시간, 멀어지다, 마음을 잃다, 오분뒤에 봐, 헤어지기로 해ㅣ딩고뮤직\n",
      "규현(KYUHYUN)의 킬링보이스를 라이브로! - 광화문에서, 내 마음이 움찔했던 순간, Dreaming, 밀리언조각, 화려하지 않은 고백, 그게 좋은거야, 여전히 아늑해ㅣ딩고뮤직\n",
      "임창정(Im Changjung)의 킬링보이스를 라이브로! - 소주 한 잔, 그때 또 다시, 또 다시 사랑, 내가 저지른 사랑, 별거 없던 그 하루로ㅣ딩고뮤직\n",
      "마마무(MAMAMOO)의 킬링보이스를 라이브로! - Mr.애매모호,너나 해,데칼코마니,별빛밤, I miss you,HIP, 고고베베, 딩가딩가, AYA ㅣ 딩고뮤직\n",
      "어반자카파(URBAN ZAKAPA)의 킬링보이스를 라이브로! – 그날에 우리, 모르겠어, 니가 싫어, 목요일 밤, 코끝에 겨울, 널 사랑하지 않아, 커피를 마시고ㅣ딩고뮤직\n",
      "빅마마(Big Mama)의 킬링보이스를 라이브로! - break away,배반, 여자, 체념,거부,Never mind, 소리,이별, 그 후, 하루만 더ㅣ딩고뮤직\n",
      "펀치(PUNCH)의 킬링보이스를 라이브로! - 밤이 되니까,가끔 이러다,헤어지는 중,오늘밤도,Stay with me,Everytime,안녕 내 전부였던 너 ㅣ 딩고뮤직\n",
      "잔나비(JANNABI) 킬링보이스를 라이브로! - 주저하는 연인들을 위해,가을밤에 든 생각,She,사랑하긴했었나요,투게더!,꿈과책과힘과벽,뜨거운여름밤은가고,HONGKONGㅣ딩고뮤직\n",
      "테이(Tei)의 킬링보이스를 라이브로! -  닮은 사람, 사랑은 하나다, 그리움을 외치다, 사랑은 향기를 남기고, 기적 같은 이야기, 같은 베개, 순리ㅣ딩고뮤직\n",
      "벤(BEN)의 킬링보이스를 라이브로! - 열애중,오늘은가지마,꿈처럼,갈수가없어,눈사람,헤어져줘서고마워,빈방, LoobyLoo,내목소리들리니,180도,혼술하고싶은밤,지금뭐해ㅣ딩고뮤직\n",
      "양다일(Yang Da-Il)의 킬링보이스를 라이브로! - 미안해, 꿈, 이 밤, 달링, 우린 알아, 착각, 너만 너만 너만, 요즘, 고백, 잊혀지다, 널 그리워 하고 있어ㅣ딩고뮤직\n",
      "에일리(AILEE)의 킬링보이스를 라이브로! - Heaven, 보여줄게, 저녁하늘, U&I, Higher, 노래가 늘었어, 손대지마, 첫눈처럼 너에게 가겠다, If youㅣ딩고뮤직\n",
      "케이시(Kassy)의 킬링보이스를 라이브로! – 그때가 좋았어, 진심이 담긴 노래, 굿모닝, 어느 햇살 좋은 날, 나 그댈위해 시 한편을 쓰겠어ㅣ딩고뮤직\n",
      "[4K] 헤이즈(Heize)의 킬링벌스를 라이브로! l 비도 오고 그래서, 돌아오지마, 널 너무 모르고, Jenga, 저 별, And July, 교통정리, 헤픈 우연 등\n",
      "김필 (KIM FEEL)의 킬링보이스를 라이브로! - 그때 그 아인, 청춘, 얼음요새, 다시 사랑한다면, 결핍,불면,목소리,어떤날은, Maybe,필요해,처음 만난 그때처럼ㅣ딩고뮤직\n",
      "권진아 (KwonJinAh)의 킬링보이스를 라이브로! - 끝, Lonely Night, Fly Away, 씨스루,여기까지,KNOCK, 위로,운이좋았지,뭔가잘못됐어, 여행가ㅣ딩고뮤직\n"
     ]
    }
   ],
   "source": [
    "title =soup.select('a#video-title')\n",
    "# 영상 제목만 전체 조회\n",
    "for i in title:\n",
    "    print(i.text.strip())"
   ]
  },
  {
   "cell_type": "code",
   "execution_count": 40,
   "metadata": {},
   "outputs": [
    {
     "data": {
      "text/plain": [
       "[<span class=\"style-scope ytd-video-meta-block\">조회수 30만회</span>,\n",
       " <span class=\"style-scope ytd-video-meta-block\">5일 전</span>]"
      ]
     },
     "execution_count": 40,
     "metadata": {},
     "output_type": "execute_result"
    }
   ],
   "source": [
    "soup.select('span.style-scope.ytd-video-meta-block')[:2]"
   ]
  },
  {
   "cell_type": "code",
   "execution_count": 39,
   "metadata": {},
   "outputs": [
    {
     "data": {
      "text/plain": [
       "[<div class=\"style-scope ytd-video-meta-block\" id=\"metadata-line\">\n",
       " <span class=\"style-scope ytd-video-meta-block\">조회수 30만회</span>\n",
       " <span class=\"style-scope ytd-video-meta-block\">5일 전</span>\n",
       " <dom-repeat class=\"style-scope ytd-video-meta-block\" strip-whitespace=\"\"><template is=\"dom-repeat\"></template></dom-repeat>\n",
       " </div>,\n",
       " <div class=\"style-scope ytd-video-meta-block\" id=\"metadata-line\">\n",
       " <span class=\"style-scope ytd-video-meta-block\">조회수 1425만회</span>\n",
       " <span class=\"style-scope ytd-video-meta-block\">3주 전</span>\n",
       " <dom-repeat class=\"style-scope ytd-video-meta-block\" strip-whitespace=\"\"><template is=\"dom-repeat\"></template></dom-repeat>\n",
       " </div>]"
      ]
     },
     "execution_count": 39,
     "metadata": {},
     "output_type": "execute_result"
    }
   ],
   "source": [
    "soup.select('div#metadata-line')[:2]"
   ]
  },
  {
   "cell_type": "code",
   "execution_count": 29,
   "metadata": {},
   "outputs": [
    {
     "data": {
      "text/plain": [
       "25"
      ]
     },
     "execution_count": 29,
     "metadata": {},
     "output_type": "execute_result"
    }
   ],
   "source": [
    "len(soup.select('div#metadata-line ')) "
   ]
  },
  {
   "cell_type": "code",
   "execution_count": 43,
   "metadata": {},
   "outputs": [
    {
     "data": {
      "text/plain": [
       "[<span class=\"style-scope ytd-video-meta-block\">조회수 30만회</span>,\n",
       " <span class=\"style-scope ytd-video-meta-block\">5일 전</span>,\n",
       " <span class=\"style-scope ytd-video-meta-block\">조회수 1425만회</span>,\n",
       " <span class=\"style-scope ytd-video-meta-block\">3주 전</span>,\n",
       " <span class=\"style-scope ytd-video-meta-block\">조회수 2672만회</span>,\n",
       " <span class=\"style-scope ytd-video-meta-block\">9개월 전</span>,\n",
       " <span class=\"style-scope ytd-video-meta-block\">조회수 4079만회</span>,\n",
       " <span class=\"style-scope ytd-video-meta-block\">11개월 전</span>,\n",
       " <span class=\"style-scope ytd-video-meta-block\">조회수 215만회</span>,\n",
       " <span class=\"style-scope ytd-video-meta-block\">2개월 전</span>,\n",
       " <span class=\"style-scope ytd-video-meta-block\">조회수 723만회</span>,\n",
       " <span class=\"style-scope ytd-video-meta-block\">1년 전</span>,\n",
       " <span class=\"style-scope ytd-video-meta-block\">조회수 372만회</span>,\n",
       " <span class=\"style-scope ytd-video-meta-block\">2년 전</span>,\n",
       " <span class=\"style-scope ytd-video-meta-block\">조회수 277만회</span>,\n",
       " <span class=\"style-scope ytd-video-meta-block\">8개월 전</span>,\n",
       " <span class=\"style-scope ytd-video-meta-block\">조회수 153만회</span>,\n",
       " <span class=\"style-scope ytd-video-meta-block\">6개월 전</span>,\n",
       " <span class=\"style-scope ytd-video-meta-block\">조회수 323만회</span>,\n",
       " <span class=\"style-scope ytd-video-meta-block\">8개월 전</span>,\n",
       " <span class=\"style-scope ytd-video-meta-block\">조회수 389만회</span>,\n",
       " <span class=\"style-scope ytd-video-meta-block\">4개월 전</span>,\n",
       " <span class=\"style-scope ytd-video-meta-block\">조회수 3405만회</span>,\n",
       " <span class=\"style-scope ytd-video-meta-block\">1년 전</span>,\n",
       " <span class=\"style-scope ytd-video-meta-block\">조회수 241만회</span>,\n",
       " <span class=\"style-scope ytd-video-meta-block\">3개월 전</span>,\n",
       " <span class=\"style-scope ytd-video-meta-block\">조회수 1061만회</span>,\n",
       " <span class=\"style-scope ytd-video-meta-block\">8개월 전</span>,\n",
       " <span class=\"style-scope ytd-video-meta-block\">조회수 957만회</span>,\n",
       " <span class=\"style-scope ytd-video-meta-block\">11개월 전</span>,\n",
       " <span class=\"style-scope ytd-video-meta-block\">조회수 557만회</span>,\n",
       " <span class=\"style-scope ytd-video-meta-block\">8개월 전</span>,\n",
       " <span class=\"style-scope ytd-video-meta-block\">조회수 224만회</span>,\n",
       " <span class=\"style-scope ytd-video-meta-block\">4개월 전</span>,\n",
       " <span class=\"style-scope ytd-video-meta-block\">조회수 347만회</span>,\n",
       " <span class=\"style-scope ytd-video-meta-block\">4개월 전</span>,\n",
       " <span class=\"style-scope ytd-video-meta-block\">조회수 219만회</span>,\n",
       " <span class=\"style-scope ytd-video-meta-block\">3개월 전</span>,\n",
       " <span class=\"style-scope ytd-video-meta-block\">조회수 1104만회</span>,\n",
       " <span class=\"style-scope ytd-video-meta-block\">10개월 전</span>,\n",
       " <span class=\"style-scope ytd-video-meta-block\">조회수 261만회</span>,\n",
       " <span class=\"style-scope ytd-video-meta-block\">4개월 전</span>,\n",
       " <span class=\"style-scope ytd-video-meta-block\">조회수 739만회</span>,\n",
       " <span class=\"style-scope ytd-video-meta-block\">9개월 전</span>,\n",
       " <span class=\"style-scope ytd-video-meta-block\">조회수 176만회</span>,\n",
       " <span class=\"style-scope ytd-video-meta-block\">5개월 전</span>,\n",
       " <span class=\"style-scope ytd-video-meta-block\">조회수 296만회</span>,\n",
       " <span class=\"style-scope ytd-video-meta-block\">7개월 전</span>]"
      ]
     },
     "execution_count": 43,
     "metadata": {},
     "output_type": "execute_result"
    }
   ],
   "source": [
    "view = soup.select('div#metadata-line > span')\n",
    "view"
   ]
  },
  {
   "cell_type": "code",
   "execution_count": 48,
   "metadata": {},
   "outputs": [],
   "source": [
    "view2 = []\n",
    "for i in range(len(view)):\n",
    "    if i % 2 == 0:\n",
    "        view2.append(view[i])"
   ]
  },
  {
   "cell_type": "code",
   "execution_count": 49,
   "metadata": {},
   "outputs": [
    {
     "name": "stdout",
     "output_type": "stream",
     "text": [
      "['[Live Clip] EXN (을씨년) - HAMBURGER SONG (Feat. 릴보이 (lIlBOI)) | [딩고뮤직 Q] #1 | Dingo Music', '태연(TAEYEON)의 킬링보이스를 라이브로! - I,그대라는 시,만약에,11:11,Blue,Time Lapse,Weekend,불티,사계,Gravity,INVU,너를 그리는 시간', '성시경(Sungsikyung)의 킬링보이스를 라이브로! - 너의 모든 순간, 좋을텐데, 넌 감동이었어, 희재, 두사람, 미소천사, 거리에서, 태양계, I Love Uㅣ딩고뮤직', '아이유(IU)의 킬링보이스를 라이브로! - 하루 끝, 너의 의미, 스물셋, 밤편지, 팔레트, 가을 아침, 삐삐, Blueming, 에잇, Coin, 라일락 ㅣ 딩고뮤직', '린(LYN)의 킬링보이스를 라이브로! -  My Destiny, …사랑했잖아…, 곰인형, 자기야 여보야 사랑아, 시간을 거슬러, 통화연결음 | 딩고뮤직', '폴킴(Paul Kim)의 킬링보이스를 라이브로! - 커피한잔할래요,우리만남이,모든날모든순간,안녕,있잖아,사랑은 타이밍,편지,초록빛,너를 만나,사랑하는 당신께 ㅣ 딩고뮤직', '[4K] 크러쉬의 킬링보이스를 라이브로! / 넌 , Beautiful, In The Air, RYO, Cereal, LYHOM, SOFA, Lookin 4, 나빠 (NAPPA)', '백지영(Baek Z Young)의 킬링보이스를 라이브로! - 총 맞은 것처럼, 잊지 말아요, 사랑 안해, 내 귀에 캔디, 그 여자, 다시 사랑할 수있을까, 목소리ㅣ딩고뮤직', '넬(NELL)의 킬링보이스를 라이브로! (With.종완) -Cliche, 지구가 태양을 네번, 기억을 걷는 시간, 멀어지다, 마음을 잃다, 오분뒤에 봐, 헤어지기로 해ㅣ딩고뮤직', '규현(KYUHYUN)의 킬링보이스를 라이브로! - 광화문에서, 내 마음이 움찔했던 순간, Dreaming, 밀리언조각, 화려하지 않은 고백, 그게 좋은거야, 여전히 아늑해ㅣ딩고뮤직', '임창정(Im Changjung)의 킬링보이스를 라이브로! - 소주 한 잔, 그때 또 다시, 또 다시 사랑, 내가 저지른 사랑, 별거 없던 그 하루로ㅣ딩고뮤직', '마마무(MAMAMOO)의 킬링보이스를 라이브로! - Mr.애매모호,너나 해,데칼코마니,별빛밤, I miss you,HIP, 고고베베, 딩가딩가, AYA ㅣ 딩고뮤직', '어반자카파(URBAN ZAKAPA)의 킬링보이스를 라이브로! – 그날에 우리, 모르겠어, 니가 싫어, 목요일 밤, 코끝에 겨울, 널 사랑하지 않아, 커피를 마시고ㅣ딩고뮤직', '빅마마(Big Mama)의 킬링보이스를 라이브로! - break away,배반, 여자, 체념,거부,Never mind, 소리,이별, 그 후, 하루만 더ㅣ딩고뮤직', '펀치(PUNCH)의 킬링보이스를 라이브로! - 밤이 되니까,가끔 이러다,헤어지는 중,오늘밤도,Stay with me,Everytime,안녕 내 전부였던 너 ㅣ 딩고뮤직', '잔나비(JANNABI) 킬링보이스를 라이브로! - 주저하는 연인들을 위해,가을밤에 든 생각,She,사랑하긴했었나요,투게더!,꿈과책과힘과벽,뜨거운여름밤은가고,HONGKONGㅣ딩고뮤직', '테이(Tei)의 킬링보이스를 라이브로! -  닮은 사람, 사랑은 하나다, 그리움을 외치다, 사랑은 향기를 남기고, 기적 같은 이야기, 같은 베개, 순리ㅣ딩고뮤직', '벤(BEN)의 킬링보이스를 라이브로! - 열애중,오늘은가지마,꿈처럼,갈수가없어,눈사람,헤어져줘서고마워,빈방, LoobyLoo,내목소리들리니,180도,혼술하고싶은밤,지금뭐해ㅣ딩고뮤직', '양다일(Yang Da-Il)의 킬링보이스를 라이브로! - 미안해, 꿈, 이 밤, 달링, 우린 알아, 착각, 너만 너만 너만, 요즘, 고백, 잊혀지다, 널 그리워 하고 있어ㅣ딩고뮤직', '에일리(AILEE)의 킬링보이스를 라이브로! - Heaven, 보여줄게, 저녁하늘, U&I, Higher, 노래가 늘었어, 손대지마, 첫눈처럼 너에게 가겠다, If youㅣ딩고뮤직', '케이시(Kassy)의 킬링보이스를 라이브로! – 그때가 좋았어, 진심이 담긴 노래, 굿모닝, 어느 햇살 좋은 날, 나 그댈위해 시 한편을 쓰겠어ㅣ딩고뮤직', '[4K] 헤이즈(Heize)의 킬링벌스를 라이브로! l 비도 오고 그래서, 돌아오지마, 널 너무 모르고, Jenga, 저 별, And July, 교통정리, 헤픈 우연 등', '김필 (KIM FEEL)의 킬링보이스를 라이브로! - 그때 그 아인, 청춘, 얼음요새, 다시 사랑한다면, 결핍,불면,목소리,어떤날은, Maybe,필요해,처음 만난 그때처럼ㅣ딩고뮤직', '권진아 (KwonJinAh)의 킬링보이스를 라이브로! - 끝, Lonely Night, Fly Away, 씨스루,여기까지,KNOCK, 위로,운이좋았지,뭔가잘못됐어, 여행가ㅣ딩고뮤직']\n",
      "['조회수 30만회', '조회수 1425만회', '조회수 2672만회', '조회수 4079만회', '조회수 215만회', '조회수 723만회', '조회수 372만회', '조회수 277만회', '조회수 153만회', '조회수 323만회', '조회수 389만회', '조회수 3405만회', '조회수 241만회', '조회수 1061만회', '조회수 957만회', '조회수 557만회', '조회수 224만회', '조회수 347만회', '조회수 219만회', '조회수 1104만회', '조회수 261만회', '조회수 739만회', '조회수 176만회', '조회수 296만회']\n"
     ]
    }
   ],
   "source": [
    "title_list = []\n",
    "view_list = []\n",
    "\n",
    "for i in range(len(title)):\n",
    "    title_list.append(title[i].text.strip())\n",
    "    view_list.append(view2[i].text.strip())\n",
    "    \n",
    "print(title_list)\n",
    "print(view_list)"
   ]
  },
  {
   "cell_type": "code",
   "execution_count": 50,
   "metadata": {},
   "outputs": [
    {
     "data": {
      "text/html": [
       "<div>\n",
       "<style scoped>\n",
       "    .dataframe tbody tr th:only-of-type {\n",
       "        vertical-align: middle;\n",
       "    }\n",
       "\n",
       "    .dataframe tbody tr th {\n",
       "        vertical-align: top;\n",
       "    }\n",
       "\n",
       "    .dataframe thead th {\n",
       "        text-align: right;\n",
       "    }\n",
       "</style>\n",
       "<table border=\"1\" class=\"dataframe\">\n",
       "  <thead>\n",
       "    <tr style=\"text-align: right;\">\n",
       "      <th></th>\n",
       "      <th>제목</th>\n",
       "      <th>조회수</th>\n",
       "    </tr>\n",
       "  </thead>\n",
       "  <tbody>\n",
       "    <tr>\n",
       "      <th>0</th>\n",
       "      <td>[Live Clip] EXN (을씨년) - HAMBURGER SONG (Feat. ...</td>\n",
       "      <td>조회수 30만회</td>\n",
       "    </tr>\n",
       "    <tr>\n",
       "      <th>1</th>\n",
       "      <td>태연(TAEYEON)의 킬링보이스를 라이브로! - I,그대라는 시,만약에,11:11...</td>\n",
       "      <td>조회수 1425만회</td>\n",
       "    </tr>\n",
       "    <tr>\n",
       "      <th>2</th>\n",
       "      <td>성시경(Sungsikyung)의 킬링보이스를 라이브로! - 너의 모든 순간, 좋을텐...</td>\n",
       "      <td>조회수 2672만회</td>\n",
       "    </tr>\n",
       "    <tr>\n",
       "      <th>3</th>\n",
       "      <td>아이유(IU)의 킬링보이스를 라이브로! - 하루 끝, 너의 의미, 스물셋, 밤편지,...</td>\n",
       "      <td>조회수 4079만회</td>\n",
       "    </tr>\n",
       "    <tr>\n",
       "      <th>4</th>\n",
       "      <td>린(LYN)의 킬링보이스를 라이브로! -  My Destiny, …사랑했잖아…, 곰...</td>\n",
       "      <td>조회수 215만회</td>\n",
       "    </tr>\n",
       "    <tr>\n",
       "      <th>5</th>\n",
       "      <td>폴킴(Paul Kim)의 킬링보이스를 라이브로! - 커피한잔할래요,우리만남이,모든날...</td>\n",
       "      <td>조회수 723만회</td>\n",
       "    </tr>\n",
       "    <tr>\n",
       "      <th>6</th>\n",
       "      <td>[4K] 크러쉬의 킬링보이스를 라이브로! / 넌 , Beautiful, In The...</td>\n",
       "      <td>조회수 372만회</td>\n",
       "    </tr>\n",
       "    <tr>\n",
       "      <th>7</th>\n",
       "      <td>백지영(Baek Z Young)의 킬링보이스를 라이브로! - 총 맞은 것처럼, 잊지...</td>\n",
       "      <td>조회수 277만회</td>\n",
       "    </tr>\n",
       "    <tr>\n",
       "      <th>8</th>\n",
       "      <td>넬(NELL)의 킬링보이스를 라이브로! (With.종완) -Cliche, 지구가 태...</td>\n",
       "      <td>조회수 153만회</td>\n",
       "    </tr>\n",
       "    <tr>\n",
       "      <th>9</th>\n",
       "      <td>규현(KYUHYUN)의 킬링보이스를 라이브로! - 광화문에서, 내 마음이 움찔했던 ...</td>\n",
       "      <td>조회수 323만회</td>\n",
       "    </tr>\n",
       "    <tr>\n",
       "      <th>10</th>\n",
       "      <td>임창정(Im Changjung)의 킬링보이스를 라이브로! - 소주 한 잔, 그때 또...</td>\n",
       "      <td>조회수 389만회</td>\n",
       "    </tr>\n",
       "    <tr>\n",
       "      <th>11</th>\n",
       "      <td>마마무(MAMAMOO)의 킬링보이스를 라이브로! - Mr.애매모호,너나 해,데칼코마...</td>\n",
       "      <td>조회수 3405만회</td>\n",
       "    </tr>\n",
       "    <tr>\n",
       "      <th>12</th>\n",
       "      <td>어반자카파(URBAN ZAKAPA)의 킬링보이스를 라이브로! – 그날에 우리, 모르...</td>\n",
       "      <td>조회수 241만회</td>\n",
       "    </tr>\n",
       "    <tr>\n",
       "      <th>13</th>\n",
       "      <td>빅마마(Big Mama)의 킬링보이스를 라이브로! - break away,배반, 여...</td>\n",
       "      <td>조회수 1061만회</td>\n",
       "    </tr>\n",
       "    <tr>\n",
       "      <th>14</th>\n",
       "      <td>펀치(PUNCH)의 킬링보이스를 라이브로! - 밤이 되니까,가끔 이러다,헤어지는 중...</td>\n",
       "      <td>조회수 957만회</td>\n",
       "    </tr>\n",
       "    <tr>\n",
       "      <th>15</th>\n",
       "      <td>잔나비(JANNABI) 킬링보이스를 라이브로! - 주저하는 연인들을 위해,가을밤에 ...</td>\n",
       "      <td>조회수 557만회</td>\n",
       "    </tr>\n",
       "    <tr>\n",
       "      <th>16</th>\n",
       "      <td>테이(Tei)의 킬링보이스를 라이브로! -  닮은 사람, 사랑은 하나다, 그리움을 ...</td>\n",
       "      <td>조회수 224만회</td>\n",
       "    </tr>\n",
       "    <tr>\n",
       "      <th>17</th>\n",
       "      <td>벤(BEN)의 킬링보이스를 라이브로! - 열애중,오늘은가지마,꿈처럼,갈수가없어,눈사...</td>\n",
       "      <td>조회수 347만회</td>\n",
       "    </tr>\n",
       "    <tr>\n",
       "      <th>18</th>\n",
       "      <td>양다일(Yang Da-Il)의 킬링보이스를 라이브로! - 미안해, 꿈, 이 밤, 달...</td>\n",
       "      <td>조회수 219만회</td>\n",
       "    </tr>\n",
       "    <tr>\n",
       "      <th>19</th>\n",
       "      <td>에일리(AILEE)의 킬링보이스를 라이브로! - Heaven, 보여줄게, 저녁하늘,...</td>\n",
       "      <td>조회수 1104만회</td>\n",
       "    </tr>\n",
       "    <tr>\n",
       "      <th>20</th>\n",
       "      <td>케이시(Kassy)의 킬링보이스를 라이브로! – 그때가 좋았어, 진심이 담긴 노래,...</td>\n",
       "      <td>조회수 261만회</td>\n",
       "    </tr>\n",
       "    <tr>\n",
       "      <th>21</th>\n",
       "      <td>[4K] 헤이즈(Heize)의 킬링벌스를 라이브로! l 비도 오고 그래서, 돌아오지...</td>\n",
       "      <td>조회수 739만회</td>\n",
       "    </tr>\n",
       "    <tr>\n",
       "      <th>22</th>\n",
       "      <td>김필 (KIM FEEL)의 킬링보이스를 라이브로! - 그때 그 아인, 청춘, 얼음요...</td>\n",
       "      <td>조회수 176만회</td>\n",
       "    </tr>\n",
       "    <tr>\n",
       "      <th>23</th>\n",
       "      <td>권진아 (KwonJinAh)의 킬링보이스를 라이브로! - 끝, Lonely Nigh...</td>\n",
       "      <td>조회수 296만회</td>\n",
       "    </tr>\n",
       "  </tbody>\n",
       "</table>\n",
       "</div>"
      ],
      "text/plain": [
       "                                                   제목         조회수\n",
       "0   [Live Clip] EXN (을씨년) - HAMBURGER SONG (Feat. ...    조회수 30만회\n",
       "1   태연(TAEYEON)의 킬링보이스를 라이브로! - I,그대라는 시,만약에,11:11...  조회수 1425만회\n",
       "2   성시경(Sungsikyung)의 킬링보이스를 라이브로! - 너의 모든 순간, 좋을텐...  조회수 2672만회\n",
       "3   아이유(IU)의 킬링보이스를 라이브로! - 하루 끝, 너의 의미, 스물셋, 밤편지,...  조회수 4079만회\n",
       "4   린(LYN)의 킬링보이스를 라이브로! -  My Destiny, …사랑했잖아…, 곰...   조회수 215만회\n",
       "5   폴킴(Paul Kim)의 킬링보이스를 라이브로! - 커피한잔할래요,우리만남이,모든날...   조회수 723만회\n",
       "6   [4K] 크러쉬의 킬링보이스를 라이브로! / 넌 , Beautiful, In The...   조회수 372만회\n",
       "7   백지영(Baek Z Young)의 킬링보이스를 라이브로! - 총 맞은 것처럼, 잊지...   조회수 277만회\n",
       "8   넬(NELL)의 킬링보이스를 라이브로! (With.종완) -Cliche, 지구가 태...   조회수 153만회\n",
       "9   규현(KYUHYUN)의 킬링보이스를 라이브로! - 광화문에서, 내 마음이 움찔했던 ...   조회수 323만회\n",
       "10  임창정(Im Changjung)의 킬링보이스를 라이브로! - 소주 한 잔, 그때 또...   조회수 389만회\n",
       "11  마마무(MAMAMOO)의 킬링보이스를 라이브로! - Mr.애매모호,너나 해,데칼코마...  조회수 3405만회\n",
       "12  어반자카파(URBAN ZAKAPA)의 킬링보이스를 라이브로! – 그날에 우리, 모르...   조회수 241만회\n",
       "13  빅마마(Big Mama)의 킬링보이스를 라이브로! - break away,배반, 여...  조회수 1061만회\n",
       "14  펀치(PUNCH)의 킬링보이스를 라이브로! - 밤이 되니까,가끔 이러다,헤어지는 중...   조회수 957만회\n",
       "15  잔나비(JANNABI) 킬링보이스를 라이브로! - 주저하는 연인들을 위해,가을밤에 ...   조회수 557만회\n",
       "16  테이(Tei)의 킬링보이스를 라이브로! -  닮은 사람, 사랑은 하나다, 그리움을 ...   조회수 224만회\n",
       "17  벤(BEN)의 킬링보이스를 라이브로! - 열애중,오늘은가지마,꿈처럼,갈수가없어,눈사...   조회수 347만회\n",
       "18  양다일(Yang Da-Il)의 킬링보이스를 라이브로! - 미안해, 꿈, 이 밤, 달...   조회수 219만회\n",
       "19  에일리(AILEE)의 킬링보이스를 라이브로! - Heaven, 보여줄게, 저녁하늘,...  조회수 1104만회\n",
       "20  케이시(Kassy)의 킬링보이스를 라이브로! – 그때가 좋았어, 진심이 담긴 노래,...   조회수 261만회\n",
       "21  [4K] 헤이즈(Heize)의 킬링벌스를 라이브로! l 비도 오고 그래서, 돌아오지...   조회수 739만회\n",
       "22  김필 (KIM FEEL)의 킬링보이스를 라이브로! - 그때 그 아인, 청춘, 얼음요...   조회수 176만회\n",
       "23  권진아 (KwonJinAh)의 킬링보이스를 라이브로! - 끝, Lonely Nigh...   조회수 296만회"
      ]
     },
     "execution_count": 50,
     "metadata": {},
     "output_type": "execute_result"
    }
   ],
   "source": [
    "info = {'제목':title_list, '조회수':view_list}\n",
    "pd.DataFrame(info)"
   ]
  },
  {
   "cell_type": "code",
   "execution_count": 64,
   "metadata": {},
   "outputs": [
    {
     "name": "stderr",
     "output_type": "stream",
     "text": [
      "/Users/administrator/opt/anaconda3/lib/python3.7/site-packages/ipykernel_launcher.py:1: DeprecationWarning: find_element_by_xpath is deprecated. Please use find_element(by=By.XPATH, value=xpath) instead\n",
      "  \"\"\"Entry point for launching an IPython kernel.\n"
     ]
    },
    {
     "data": {
      "text/plain": [
       "<selenium.webdriver.remote.webelement.WebElement (session=\"fe9fa4869f338f0cf80a9af0e2bf9c3f\", element=\"3385cf9b-16c8-450f-a4f8-95bdd24ae50d\")>"
      ]
     },
     "execution_count": 64,
     "metadata": {},
     "output_type": "execute_result"
    }
   ],
   "source": [
    "title2 = wd.find_element_by_xpath('//*[@id=\"video-title\"]') #//*[@id=\"video-title\"]/yt-formatted-string\n",
    "title2"
   ]
  },
  {
   "cell_type": "code",
   "execution_count": 65,
   "metadata": {},
   "outputs": [
    {
     "name": "stdout",
     "output_type": "stream",
     "text": [
      "https://www.youtube.com/watch?v=PAmgLyjuQGo\n"
     ]
    }
   ],
   "source": [
    "print(title2.get_attribute('href'))"
   ]
  },
  {
   "cell_type": "code",
   "execution_count": 66,
   "metadata": {},
   "outputs": [
    {
     "name": "stdout",
     "output_type": "stream",
     "text": [
      "[Live Clip] EXN (을씨년) - HAMBURGER SONG (Feat. 릴보이 (lIlBOI)) | [딩고뮤직 Q] #1 | Dingo Music 게시자: 딩고 뮤직 / dingo music 5일 전 3분 26초 조회수 300,605회\n"
     ]
    }
   ],
   "source": [
    "print(title2.get_attribute('aria-label'))"
   ]
  },
  {
   "cell_type": "code",
   "execution_count": null,
   "metadata": {},
   "outputs": [],
   "source": []
  }
 ],
 "metadata": {
  "kernelspec": {
   "display_name": "Python 3 (ipykernel)",
   "language": "python",
   "name": "python3"
  },
  "language_info": {
   "codemirror_mode": {
    "name": "ipython",
    "version": 3
   },
   "file_extension": ".py",
   "mimetype": "text/x-python",
   "name": "python",
   "nbconvert_exporter": "python",
   "pygments_lexer": "ipython3",
   "version": "3.7.11"
  }
 },
 "nbformat": 4,
 "nbformat_minor": 4
}
