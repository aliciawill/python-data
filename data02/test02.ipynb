{
 "cells": [
  {
   "cell_type": "code",
   "execution_count": 1,
   "metadata": {},
   "outputs": [],
   "source": [
    "# 1. df로 읽어들이고\n",
    "# 2. df의 전체 데이터셋 타입을 확인\n",
    "# 3. df의 컬럼리스트를 확인\n",
    "# 4. df의 값을 확인\n",
    "# 5. df의 맨 마지막에 price항목을 추가(값은 임의대로 넣음. int)\n",
    "# 6. df의 맨 마지막에 percent항목을 추가(값의 임의대로 넣음. float)\n",
    "# 7. df의 맨 마지막에 sale항목을 추가(price * percent)\n",
    "# 8. df의 Name컬럼 추출\n",
    "# 9. df의 인덱스 확인\n",
    "# 10. df의 Name컬럼의 값이 Rosaline인 행 추출\n",
    "# 11. df의 Name컬럼 중 3~5사이의 행 추출\n",
    "# 12. df의 Name, Died컬럼 모든 행 추출\n",
    "# 13. df의 Born컬럼부터 끝컬럼까지 모든 행 추출\n",
    "# 14. df의 Born, Age컬럼의 5~7행 추출\n",
    "# 15. df.shape을 통해 몇행 몇열인지 확인해보세요.\n",
    "# 16. df의 숫자 데이터의 상세정보 확인\n",
    "# 17. Nurse라는 스트링 추출(index와 컬럼명을 사용)\n",
    "# 18. Alan Turing이라는 스트링 추출(index와 컬럼명을 사용)\n",
    "# 19. Biologist를 Scientist로 변경\n",
    "# 20. df의 변경된 내용은 수시로 프린트해볼 것."
   ]
  },
  {
   "cell_type": "code",
   "execution_count": null,
   "metadata": {},
   "outputs": [],
   "source": []
  },
  {
   "cell_type": "code",
   "execution_count": null,
   "metadata": {},
   "outputs": [],
   "source": []
  },
  {
   "cell_type": "code",
   "execution_count": null,
   "metadata": {},
   "outputs": [],
   "source": []
  }
 ],
 "metadata": {
  "kernelspec": {
   "display_name": "Python 3 (ipykernel)",
   "language": "python",
   "name": "python3"
  },
  "language_info": {
   "codemirror_mode": {
    "name": "ipython",
    "version": 3
   },
   "file_extension": ".py",
   "mimetype": "text/x-python",
   "name": "python",
   "nbconvert_exporter": "python",
   "pygments_lexer": "ipython3",
   "version": "3.7.11"
  }
 },
 "nbformat": 4,
 "nbformat_minor": 4
}
