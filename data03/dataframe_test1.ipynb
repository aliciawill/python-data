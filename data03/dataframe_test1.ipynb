{
 "cells": [
  {
   "cell_type": "code",
   "execution_count": 3,
   "metadata": {},
   "outputs": [],
   "source": [
    "import pandas as pd\n",
    "import numpy as np"
   ]
  },
  {
   "cell_type": "code",
   "execution_count": 2,
   "metadata": {},
   "outputs": [
    {
     "data": {
      "text/plain": [
       "DatetimeIndex(['2020-06-25', '2020-06-26', '2020-06-27', '2020-06-28',\n",
       "               '2020-06-29', '2020-06-30'],\n",
       "              dtype='datetime64[ns]', freq='D')"
      ]
     },
     "execution_count": 2,
     "metadata": {},
     "output_type": "execute_result"
    }
   ],
   "source": [
    "dates = pd.date_range('20200625', periods=6)\n",
    "dates"
   ]
  },
  {
   "cell_type": "code",
   "execution_count": 4,
   "metadata": {},
   "outputs": [],
   "source": [
    "df = pd.DataFrame(np.random.randn(6, 4), \n",
    "                  index=dates, \n",
    "                  columns=['A','B','C','D'])"
   ]
  },
  {
   "cell_type": "code",
   "execution_count": 5,
   "metadata": {},
   "outputs": [
    {
     "data": {
      "text/html": [
       "<div>\n",
       "<style scoped>\n",
       "    .dataframe tbody tr th:only-of-type {\n",
       "        vertical-align: middle;\n",
       "    }\n",
       "\n",
       "    .dataframe tbody tr th {\n",
       "        vertical-align: top;\n",
       "    }\n",
       "\n",
       "    .dataframe thead th {\n",
       "        text-align: right;\n",
       "    }\n",
       "</style>\n",
       "<table border=\"1\" class=\"dataframe\">\n",
       "  <thead>\n",
       "    <tr style=\"text-align: right;\">\n",
       "      <th></th>\n",
       "      <th>A</th>\n",
       "      <th>B</th>\n",
       "      <th>C</th>\n",
       "      <th>D</th>\n",
       "    </tr>\n",
       "  </thead>\n",
       "  <tbody>\n",
       "    <tr>\n",
       "      <th>2020-06-25</th>\n",
       "      <td>-0.178358</td>\n",
       "      <td>-0.000614</td>\n",
       "      <td>-1.549596</td>\n",
       "      <td>0.004689</td>\n",
       "    </tr>\n",
       "    <tr>\n",
       "      <th>2020-06-26</th>\n",
       "      <td>-1.654163</td>\n",
       "      <td>1.441047</td>\n",
       "      <td>-1.402851</td>\n",
       "      <td>0.650652</td>\n",
       "    </tr>\n",
       "    <tr>\n",
       "      <th>2020-06-27</th>\n",
       "      <td>0.060079</td>\n",
       "      <td>-0.870540</td>\n",
       "      <td>1.543165</td>\n",
       "      <td>0.349406</td>\n",
       "    </tr>\n",
       "    <tr>\n",
       "      <th>2020-06-28</th>\n",
       "      <td>0.559574</td>\n",
       "      <td>0.569531</td>\n",
       "      <td>0.046158</td>\n",
       "      <td>-0.534061</td>\n",
       "    </tr>\n",
       "    <tr>\n",
       "      <th>2020-06-29</th>\n",
       "      <td>0.554191</td>\n",
       "      <td>1.445515</td>\n",
       "      <td>0.049196</td>\n",
       "      <td>0.567235</td>\n",
       "    </tr>\n",
       "    <tr>\n",
       "      <th>2020-06-30</th>\n",
       "      <td>0.309619</td>\n",
       "      <td>-0.988008</td>\n",
       "      <td>-0.754965</td>\n",
       "      <td>0.601380</td>\n",
       "    </tr>\n",
       "  </tbody>\n",
       "</table>\n",
       "</div>"
      ],
      "text/plain": [
       "                   A         B         C         D\n",
       "2020-06-25 -0.178358 -0.000614 -1.549596  0.004689\n",
       "2020-06-26 -1.654163  1.441047 -1.402851  0.650652\n",
       "2020-06-27  0.060079 -0.870540  1.543165  0.349406\n",
       "2020-06-28  0.559574  0.569531  0.046158 -0.534061\n",
       "2020-06-29  0.554191  1.445515  0.049196  0.567235\n",
       "2020-06-30  0.309619 -0.988008 -0.754965  0.601380"
      ]
     },
     "execution_count": 5,
     "metadata": {},
     "output_type": "execute_result"
    }
   ],
   "source": [
    "df"
   ]
  },
  {
   "cell_type": "code",
   "execution_count": 6,
   "metadata": {},
   "outputs": [
    {
     "data": {
      "text/html": [
       "<div>\n",
       "<style scoped>\n",
       "    .dataframe tbody tr th:only-of-type {\n",
       "        vertical-align: middle;\n",
       "    }\n",
       "\n",
       "    .dataframe tbody tr th {\n",
       "        vertical-align: top;\n",
       "    }\n",
       "\n",
       "    .dataframe thead th {\n",
       "        text-align: right;\n",
       "    }\n",
       "</style>\n",
       "<table border=\"1\" class=\"dataframe\">\n",
       "  <thead>\n",
       "    <tr style=\"text-align: right;\">\n",
       "      <th></th>\n",
       "      <th>A</th>\n",
       "      <th>B</th>\n",
       "      <th>C</th>\n",
       "      <th>D</th>\n",
       "    </tr>\n",
       "  </thead>\n",
       "  <tbody>\n",
       "    <tr>\n",
       "      <th>2020-06-25</th>\n",
       "      <td>-0.178358</td>\n",
       "      <td>-0.000614</td>\n",
       "      <td>-1.549596</td>\n",
       "      <td>0.004689</td>\n",
       "    </tr>\n",
       "    <tr>\n",
       "      <th>2020-06-26</th>\n",
       "      <td>-1.654163</td>\n",
       "      <td>1.441047</td>\n",
       "      <td>-1.402851</td>\n",
       "      <td>0.650652</td>\n",
       "    </tr>\n",
       "    <tr>\n",
       "      <th>2020-06-27</th>\n",
       "      <td>0.060079</td>\n",
       "      <td>-0.870540</td>\n",
       "      <td>1.543165</td>\n",
       "      <td>0.349406</td>\n",
       "    </tr>\n",
       "    <tr>\n",
       "      <th>2020-06-28</th>\n",
       "      <td>0.559574</td>\n",
       "      <td>0.569531</td>\n",
       "      <td>0.046158</td>\n",
       "      <td>-0.534061</td>\n",
       "    </tr>\n",
       "    <tr>\n",
       "      <th>2020-06-29</th>\n",
       "      <td>0.554191</td>\n",
       "      <td>1.445515</td>\n",
       "      <td>0.049196</td>\n",
       "      <td>0.567235</td>\n",
       "    </tr>\n",
       "    <tr>\n",
       "      <th>2020-06-30</th>\n",
       "      <td>0.309619</td>\n",
       "      <td>-0.988008</td>\n",
       "      <td>-0.754965</td>\n",
       "      <td>0.601380</td>\n",
       "    </tr>\n",
       "  </tbody>\n",
       "</table>\n",
       "</div>"
      ],
      "text/plain": [
       "                   A         B         C         D\n",
       "2020-06-25 -0.178358 -0.000614 -1.549596  0.004689\n",
       "2020-06-26 -1.654163  1.441047 -1.402851  0.650652\n",
       "2020-06-27  0.060079 -0.870540  1.543165  0.349406\n",
       "2020-06-28  0.559574  0.569531  0.046158 -0.534061\n",
       "2020-06-29  0.554191  1.445515  0.049196  0.567235\n",
       "2020-06-30  0.309619 -0.988008 -0.754965  0.601380"
      ]
     },
     "execution_count": 6,
     "metadata": {},
     "output_type": "execute_result"
    }
   ],
   "source": [
    "df2 = df.copy()\n",
    "df2\n",
    "# df는 기본적으로 행, 열의 위치값을 가지고 있음.\n",
    "# \"기본적으로 가지고 있는 위치값(index)\"를 이용해서 조작하는 경우\n",
    "# iloc[]를 사용!\n",
    "# 일부 그래프나 분석시 특정항목을 index항목으로 수동으로 설정해야하는\n",
    "# 경우가 있음.\n",
    "# 특정항목을 index항목으로 설정가능한 경우는 \n",
    "# \"unique/not null인 값을 가지는 항목\"만\n",
    "# 설정 가능! user_id, bbs_id pk조건과 일치!\n"
   ]
  },
  {
   "cell_type": "code",
   "execution_count": 9,
   "metadata": {},
   "outputs": [],
   "source": [
    "df2.reset_index(inplace=True)"
   ]
  },
  {
   "cell_type": "code",
   "execution_count": 10,
   "metadata": {},
   "outputs": [
    {
     "data": {
      "text/html": [
       "<div>\n",
       "<style scoped>\n",
       "    .dataframe tbody tr th:only-of-type {\n",
       "        vertical-align: middle;\n",
       "    }\n",
       "\n",
       "    .dataframe tbody tr th {\n",
       "        vertical-align: top;\n",
       "    }\n",
       "\n",
       "    .dataframe thead th {\n",
       "        text-align: right;\n",
       "    }\n",
       "</style>\n",
       "<table border=\"1\" class=\"dataframe\">\n",
       "  <thead>\n",
       "    <tr style=\"text-align: right;\">\n",
       "      <th></th>\n",
       "      <th>index</th>\n",
       "      <th>A</th>\n",
       "      <th>B</th>\n",
       "      <th>C</th>\n",
       "      <th>D</th>\n",
       "    </tr>\n",
       "  </thead>\n",
       "  <tbody>\n",
       "    <tr>\n",
       "      <th>0</th>\n",
       "      <td>2020-06-25</td>\n",
       "      <td>-0.178358</td>\n",
       "      <td>-0.000614</td>\n",
       "      <td>-1.549596</td>\n",
       "      <td>0.004689</td>\n",
       "    </tr>\n",
       "    <tr>\n",
       "      <th>1</th>\n",
       "      <td>2020-06-26</td>\n",
       "      <td>-1.654163</td>\n",
       "      <td>1.441047</td>\n",
       "      <td>-1.402851</td>\n",
       "      <td>0.650652</td>\n",
       "    </tr>\n",
       "    <tr>\n",
       "      <th>2</th>\n",
       "      <td>2020-06-27</td>\n",
       "      <td>0.060079</td>\n",
       "      <td>-0.870540</td>\n",
       "      <td>1.543165</td>\n",
       "      <td>0.349406</td>\n",
       "    </tr>\n",
       "    <tr>\n",
       "      <th>3</th>\n",
       "      <td>2020-06-28</td>\n",
       "      <td>0.559574</td>\n",
       "      <td>0.569531</td>\n",
       "      <td>0.046158</td>\n",
       "      <td>-0.534061</td>\n",
       "    </tr>\n",
       "    <tr>\n",
       "      <th>4</th>\n",
       "      <td>2020-06-29</td>\n",
       "      <td>0.554191</td>\n",
       "      <td>1.445515</td>\n",
       "      <td>0.049196</td>\n",
       "      <td>0.567235</td>\n",
       "    </tr>\n",
       "    <tr>\n",
       "      <th>5</th>\n",
       "      <td>2020-06-30</td>\n",
       "      <td>0.309619</td>\n",
       "      <td>-0.988008</td>\n",
       "      <td>-0.754965</td>\n",
       "      <td>0.601380</td>\n",
       "    </tr>\n",
       "  </tbody>\n",
       "</table>\n",
       "</div>"
      ],
      "text/plain": [
       "       index         A         B         C         D\n",
       "0 2020-06-25 -0.178358 -0.000614 -1.549596  0.004689\n",
       "1 2020-06-26 -1.654163  1.441047 -1.402851  0.650652\n",
       "2 2020-06-27  0.060079 -0.870540  1.543165  0.349406\n",
       "3 2020-06-28  0.559574  0.569531  0.046158 -0.534061\n",
       "4 2020-06-29  0.554191  1.445515  0.049196  0.567235\n",
       "5 2020-06-30  0.309619 -0.988008 -0.754965  0.601380"
      ]
     },
     "execution_count": 10,
     "metadata": {},
     "output_type": "execute_result"
    }
   ],
   "source": [
    "df2"
   ]
  },
  {
   "cell_type": "code",
   "execution_count": 11,
   "metadata": {},
   "outputs": [],
   "source": [
    "df2.set_index('index', inplace=True)"
   ]
  },
  {
   "cell_type": "code",
   "execution_count": 12,
   "metadata": {},
   "outputs": [
    {
     "data": {
      "text/html": [
       "<div>\n",
       "<style scoped>\n",
       "    .dataframe tbody tr th:only-of-type {\n",
       "        vertical-align: middle;\n",
       "    }\n",
       "\n",
       "    .dataframe tbody tr th {\n",
       "        vertical-align: top;\n",
       "    }\n",
       "\n",
       "    .dataframe thead th {\n",
       "        text-align: right;\n",
       "    }\n",
       "</style>\n",
       "<table border=\"1\" class=\"dataframe\">\n",
       "  <thead>\n",
       "    <tr style=\"text-align: right;\">\n",
       "      <th></th>\n",
       "      <th>A</th>\n",
       "      <th>B</th>\n",
       "      <th>C</th>\n",
       "      <th>D</th>\n",
       "    </tr>\n",
       "    <tr>\n",
       "      <th>index</th>\n",
       "      <th></th>\n",
       "      <th></th>\n",
       "      <th></th>\n",
       "      <th></th>\n",
       "    </tr>\n",
       "  </thead>\n",
       "  <tbody>\n",
       "    <tr>\n",
       "      <th>2020-06-25</th>\n",
       "      <td>-0.178358</td>\n",
       "      <td>-0.000614</td>\n",
       "      <td>-1.549596</td>\n",
       "      <td>0.004689</td>\n",
       "    </tr>\n",
       "    <tr>\n",
       "      <th>2020-06-26</th>\n",
       "      <td>-1.654163</td>\n",
       "      <td>1.441047</td>\n",
       "      <td>-1.402851</td>\n",
       "      <td>0.650652</td>\n",
       "    </tr>\n",
       "    <tr>\n",
       "      <th>2020-06-27</th>\n",
       "      <td>0.060079</td>\n",
       "      <td>-0.870540</td>\n",
       "      <td>1.543165</td>\n",
       "      <td>0.349406</td>\n",
       "    </tr>\n",
       "    <tr>\n",
       "      <th>2020-06-28</th>\n",
       "      <td>0.559574</td>\n",
       "      <td>0.569531</td>\n",
       "      <td>0.046158</td>\n",
       "      <td>-0.534061</td>\n",
       "    </tr>\n",
       "    <tr>\n",
       "      <th>2020-06-29</th>\n",
       "      <td>0.554191</td>\n",
       "      <td>1.445515</td>\n",
       "      <td>0.049196</td>\n",
       "      <td>0.567235</td>\n",
       "    </tr>\n",
       "    <tr>\n",
       "      <th>2020-06-30</th>\n",
       "      <td>0.309619</td>\n",
       "      <td>-0.988008</td>\n",
       "      <td>-0.754965</td>\n",
       "      <td>0.601380</td>\n",
       "    </tr>\n",
       "  </tbody>\n",
       "</table>\n",
       "</div>"
      ],
      "text/plain": [
       "                   A         B         C         D\n",
       "index                                             \n",
       "2020-06-25 -0.178358 -0.000614 -1.549596  0.004689\n",
       "2020-06-26 -1.654163  1.441047 -1.402851  0.650652\n",
       "2020-06-27  0.060079 -0.870540  1.543165  0.349406\n",
       "2020-06-28  0.559574  0.569531  0.046158 -0.534061\n",
       "2020-06-29  0.554191  1.445515  0.049196  0.567235\n",
       "2020-06-30  0.309619 -0.988008 -0.754965  0.601380"
      ]
     },
     "execution_count": 12,
     "metadata": {},
     "output_type": "execute_result"
    }
   ],
   "source": [
    "df2"
   ]
  },
  {
   "cell_type": "code",
   "execution_count": 13,
   "metadata": {},
   "outputs": [],
   "source": [
    "df2['E'] = df2['A'] + 1 #브로드캐스팅!"
   ]
  },
  {
   "cell_type": "code",
   "execution_count": 14,
   "metadata": {},
   "outputs": [
    {
     "data": {
      "text/plain": [
       "Index(['A', 'B', 'C', 'D', 'E'], dtype='object')"
      ]
     },
     "execution_count": 14,
     "metadata": {},
     "output_type": "execute_result"
    }
   ],
   "source": [
    "df2.columns"
   ]
  },
  {
   "cell_type": "code",
   "execution_count": 15,
   "metadata": {},
   "outputs": [
    {
     "data": {
      "text/plain": [
       "index\n",
       "2020-06-25    0.821642\n",
       "2020-06-26   -0.654163\n",
       "2020-06-27    1.060079\n",
       "2020-06-28    1.559574\n",
       "2020-06-29    1.554191\n",
       "2020-06-30    1.309619\n",
       "Name: E, dtype: float64"
      ]
     },
     "execution_count": 15,
     "metadata": {},
     "output_type": "execute_result"
    }
   ],
   "source": [
    "df2['E']"
   ]
  },
  {
   "cell_type": "code",
   "execution_count": 16,
   "metadata": {},
   "outputs": [],
   "source": [
    "df2['F'] = 0"
   ]
  },
  {
   "cell_type": "code",
   "execution_count": 17,
   "metadata": {},
   "outputs": [
    {
     "data": {
      "text/plain": [
       "index\n",
       "2020-06-25    0\n",
       "2020-06-26    0\n",
       "2020-06-27    0\n",
       "2020-06-28    0\n",
       "2020-06-29    0\n",
       "2020-06-30    0\n",
       "Name: F, dtype: int64"
      ]
     },
     "execution_count": 17,
     "metadata": {},
     "output_type": "execute_result"
    }
   ],
   "source": [
    "df2['F']"
   ]
  },
  {
   "cell_type": "code",
   "execution_count": 18,
   "metadata": {},
   "outputs": [
    {
     "data": {
      "text/plain": [
       "index\n",
       "2020-06-25    0\n",
       "2020-06-26    1\n",
       "2020-06-27    2\n",
       "2020-06-28    3\n",
       "2020-06-29    4\n",
       "2020-06-30    5\n",
       "Name: G, dtype: int64"
      ]
     },
     "execution_count": 18,
     "metadata": {},
     "output_type": "execute_result"
    }
   ],
   "source": [
    "df2['G'] = range(0, 6)\n",
    "df2['G']"
   ]
  },
  {
   "cell_type": "code",
   "execution_count": 19,
   "metadata": {},
   "outputs": [],
   "source": [
    "# 인덱스를 변경하고 싶은 경우, 기존의 인덱스를 살리고 싶으면\n",
    "# 먼저 reset_index()하고 나서 해야함.\n",
    "# reset을 하지 않는 경우 기존 index항목은 사라짐.\n",
    "df2.set_index('G', inplace=True)"
   ]
  },
  {
   "cell_type": "code",
   "execution_count": 20,
   "metadata": {},
   "outputs": [
    {
     "data": {
      "text/html": [
       "<div>\n",
       "<style scoped>\n",
       "    .dataframe tbody tr th:only-of-type {\n",
       "        vertical-align: middle;\n",
       "    }\n",
       "\n",
       "    .dataframe tbody tr th {\n",
       "        vertical-align: top;\n",
       "    }\n",
       "\n",
       "    .dataframe thead th {\n",
       "        text-align: right;\n",
       "    }\n",
       "</style>\n",
       "<table border=\"1\" class=\"dataframe\">\n",
       "  <thead>\n",
       "    <tr style=\"text-align: right;\">\n",
       "      <th></th>\n",
       "      <th>A</th>\n",
       "      <th>B</th>\n",
       "      <th>C</th>\n",
       "      <th>D</th>\n",
       "      <th>E</th>\n",
       "      <th>F</th>\n",
       "    </tr>\n",
       "    <tr>\n",
       "      <th>G</th>\n",
       "      <th></th>\n",
       "      <th></th>\n",
       "      <th></th>\n",
       "      <th></th>\n",
       "      <th></th>\n",
       "      <th></th>\n",
       "    </tr>\n",
       "  </thead>\n",
       "  <tbody>\n",
       "    <tr>\n",
       "      <th>0</th>\n",
       "      <td>-0.178358</td>\n",
       "      <td>-0.000614</td>\n",
       "      <td>-1.549596</td>\n",
       "      <td>0.004689</td>\n",
       "      <td>0.821642</td>\n",
       "      <td>0</td>\n",
       "    </tr>\n",
       "    <tr>\n",
       "      <th>1</th>\n",
       "      <td>-1.654163</td>\n",
       "      <td>1.441047</td>\n",
       "      <td>-1.402851</td>\n",
       "      <td>0.650652</td>\n",
       "      <td>-0.654163</td>\n",
       "      <td>0</td>\n",
       "    </tr>\n",
       "    <tr>\n",
       "      <th>2</th>\n",
       "      <td>0.060079</td>\n",
       "      <td>-0.870540</td>\n",
       "      <td>1.543165</td>\n",
       "      <td>0.349406</td>\n",
       "      <td>1.060079</td>\n",
       "      <td>0</td>\n",
       "    </tr>\n",
       "    <tr>\n",
       "      <th>3</th>\n",
       "      <td>0.559574</td>\n",
       "      <td>0.569531</td>\n",
       "      <td>0.046158</td>\n",
       "      <td>-0.534061</td>\n",
       "      <td>1.559574</td>\n",
       "      <td>0</td>\n",
       "    </tr>\n",
       "    <tr>\n",
       "      <th>4</th>\n",
       "      <td>0.554191</td>\n",
       "      <td>1.445515</td>\n",
       "      <td>0.049196</td>\n",
       "      <td>0.567235</td>\n",
       "      <td>1.554191</td>\n",
       "      <td>0</td>\n",
       "    </tr>\n",
       "    <tr>\n",
       "      <th>5</th>\n",
       "      <td>0.309619</td>\n",
       "      <td>-0.988008</td>\n",
       "      <td>-0.754965</td>\n",
       "      <td>0.601380</td>\n",
       "      <td>1.309619</td>\n",
       "      <td>0</td>\n",
       "    </tr>\n",
       "  </tbody>\n",
       "</table>\n",
       "</div>"
      ],
      "text/plain": [
       "          A         B         C         D         E  F\n",
       "G                                                     \n",
       "0 -0.178358 -0.000614 -1.549596  0.004689  0.821642  0\n",
       "1 -1.654163  1.441047 -1.402851  0.650652 -0.654163  0\n",
       "2  0.060079 -0.870540  1.543165  0.349406  1.060079  0\n",
       "3  0.559574  0.569531  0.046158 -0.534061  1.559574  0\n",
       "4  0.554191  1.445515  0.049196  0.567235  1.554191  0\n",
       "5  0.309619 -0.988008 -0.754965  0.601380  1.309619  0"
      ]
     },
     "execution_count": 20,
     "metadata": {},
     "output_type": "execute_result"
    }
   ],
   "source": [
    "df2"
   ]
  },
  {
   "cell_type": "code",
   "execution_count": 21,
   "metadata": {},
   "outputs": [
    {
     "data": {
      "text/plain": [
       "Index(['A', 'B', 'C', 'D', 'E', 'F'], dtype='object')"
      ]
     },
     "execution_count": 21,
     "metadata": {},
     "output_type": "execute_result"
    }
   ],
   "source": [
    "df2.columns"
   ]
  },
  {
   "cell_type": "code",
   "execution_count": 23,
   "metadata": {},
   "outputs": [
    {
     "data": {
      "text/html": [
       "<div>\n",
       "<style scoped>\n",
       "    .dataframe tbody tr th:only-of-type {\n",
       "        vertical-align: middle;\n",
       "    }\n",
       "\n",
       "    .dataframe tbody tr th {\n",
       "        vertical-align: top;\n",
       "    }\n",
       "\n",
       "    .dataframe thead th {\n",
       "        text-align: right;\n",
       "    }\n",
       "</style>\n",
       "<table border=\"1\" class=\"dataframe\">\n",
       "  <thead>\n",
       "    <tr style=\"text-align: right;\">\n",
       "      <th></th>\n",
       "      <th>A</th>\n",
       "      <th>B</th>\n",
       "      <th>C</th>\n",
       "      <th>D</th>\n",
       "    </tr>\n",
       "  </thead>\n",
       "  <tbody>\n",
       "    <tr>\n",
       "      <th>2020-06-25</th>\n",
       "      <td>-0.178358</td>\n",
       "      <td>-0.000614</td>\n",
       "      <td>-1.549596</td>\n",
       "      <td>0.004689</td>\n",
       "    </tr>\n",
       "    <tr>\n",
       "      <th>2020-06-26</th>\n",
       "      <td>-1.654163</td>\n",
       "      <td>1.441047</td>\n",
       "      <td>-1.402851</td>\n",
       "      <td>0.650652</td>\n",
       "    </tr>\n",
       "    <tr>\n",
       "      <th>2020-06-27</th>\n",
       "      <td>0.060079</td>\n",
       "      <td>-0.870540</td>\n",
       "      <td>1.543165</td>\n",
       "      <td>0.349406</td>\n",
       "    </tr>\n",
       "    <tr>\n",
       "      <th>2020-06-28</th>\n",
       "      <td>0.559574</td>\n",
       "      <td>0.569531</td>\n",
       "      <td>0.046158</td>\n",
       "      <td>-0.534061</td>\n",
       "    </tr>\n",
       "    <tr>\n",
       "      <th>2020-06-29</th>\n",
       "      <td>0.554191</td>\n",
       "      <td>1.445515</td>\n",
       "      <td>0.049196</td>\n",
       "      <td>0.567235</td>\n",
       "    </tr>\n",
       "    <tr>\n",
       "      <th>2020-06-30</th>\n",
       "      <td>0.309619</td>\n",
       "      <td>-0.988008</td>\n",
       "      <td>-0.754965</td>\n",
       "      <td>0.601380</td>\n",
       "    </tr>\n",
       "  </tbody>\n",
       "</table>\n",
       "</div>"
      ],
      "text/plain": [
       "                   A         B         C         D\n",
       "2020-06-25 -0.178358 -0.000614 -1.549596  0.004689\n",
       "2020-06-26 -1.654163  1.441047 -1.402851  0.650652\n",
       "2020-06-27  0.060079 -0.870540  1.543165  0.349406\n",
       "2020-06-28  0.559574  0.569531  0.046158 -0.534061\n",
       "2020-06-29  0.554191  1.445515  0.049196  0.567235\n",
       "2020-06-30  0.309619 -0.988008 -0.754965  0.601380"
      ]
     },
     "execution_count": 23,
     "metadata": {},
     "output_type": "execute_result"
    }
   ],
   "source": [
    "df3 = df.copy()\n",
    "df3"
   ]
  },
  {
   "cell_type": "code",
   "execution_count": 32,
   "metadata": {},
   "outputs": [
    {
     "name": "stdout",
     "output_type": "stream",
     "text": [
      "[9, 9, 2, 10, 10, 10]\n"
     ]
    },
    {
     "data": {
      "text/plain": [
       "2020-06-25     9\n",
       "2020-06-26     9\n",
       "2020-06-27     2\n",
       "2020-06-28    10\n",
       "2020-06-29    10\n",
       "2020-06-30    10\n",
       "Freq: D, Name: E, dtype: int64"
      ]
     },
     "execution_count": 32,
     "metadata": {},
     "output_type": "execute_result"
    }
   ],
   "source": [
    "# E항목을 파생변수로 만드세요. 1~10범위 값\n",
    "data = range(1,11) # 1~10\n",
    "data2 = []\n",
    "for i in range(6):\n",
    "    data2.append(random.choice(data))\n",
    "print(data2)\n",
    "df3['E'] = data2 #[1, 3, 5, 6, 7, 2]\n",
    "df3['E']"
   ]
  },
  {
   "cell_type": "code",
   "execution_count": 33,
   "metadata": {},
   "outputs": [
    {
     "data": {
      "text/plain": [
       "2020-06-25   -0.178973\n",
       "2020-06-26   -0.213116\n",
       "2020-06-27   -0.810461\n",
       "2020-06-28    1.129106\n",
       "2020-06-29    1.999707\n",
       "2020-06-30   -0.678389\n",
       "Freq: D, Name: F, dtype: float64"
      ]
     },
     "execution_count": 33,
     "metadata": {},
     "output_type": "execute_result"
    }
   ],
   "source": [
    "# F항목을 파생변수로 만드세요. A열과 C열의 합\n",
    "df3['F'] = df3['A'] + df3['B']\n",
    "df3['F']"
   ]
  },
  {
   "cell_type": "code",
   "execution_count": 34,
   "metadata": {},
   "outputs": [
    {
     "data": {
      "text/plain": [
       "2020-06-25    1\n",
       "2020-06-26    1\n",
       "2020-06-27    1\n",
       "2020-06-28    1\n",
       "2020-06-29    1\n",
       "2020-06-30    1\n",
       "Freq: D, Name: H, dtype: int64"
      ]
     },
     "execution_count": 34,
     "metadata": {},
     "output_type": "execute_result"
    }
   ],
   "source": [
    "# H항목을 파생변수로 만드세요. 1로 설정\n",
    "df3['H'] = 1\n",
    "df3['H']"
   ]
  },
  {
   "cell_type": "code",
   "execution_count": null,
   "metadata": {},
   "outputs": [],
   "source": [
    "# Z항목을 파생변수로 만드세요. 1~9까지의 랜덤한 값으로 설정"
   ]
  },
  {
   "cell_type": "code",
   "execution_count": 26,
   "metadata": {},
   "outputs": [],
   "source": [
    "import random"
   ]
  },
  {
   "cell_type": "code",
   "execution_count": 27,
   "metadata": {},
   "outputs": [
    {
     "data": {
      "text/plain": [
       "2020-06-25    2\n",
       "2020-06-26    2\n",
       "2020-06-27    2\n",
       "2020-06-28    2\n",
       "2020-06-29    2\n",
       "2020-06-30    2\n",
       "Freq: D, Name: Z, dtype: int64"
      ]
     },
     "execution_count": 27,
     "metadata": {},
     "output_type": "execute_result"
    }
   ],
   "source": [
    "df3['Z'] = random.randint(1, 10)\n",
    "df3['Z']"
   ]
  },
  {
   "cell_type": "code",
   "execution_count": 35,
   "metadata": {},
   "outputs": [
    {
     "data": {
      "text/plain": [
       "[3, 2, 1, 4, 4, 6]"
      ]
     },
     "execution_count": 35,
     "metadata": {},
     "output_type": "execute_result"
    }
   ],
   "source": [
    "data2 = []\n",
    "for _ in range(6):\n",
    "    data2.append(random.randint(1, 10))\n",
    "data2"
   ]
  },
  {
   "cell_type": "code",
   "execution_count": 36,
   "metadata": {},
   "outputs": [
    {
     "data": {
      "text/plain": [
       "2020-06-25    3\n",
       "2020-06-26    2\n",
       "2020-06-27    1\n",
       "2020-06-28    4\n",
       "2020-06-29    4\n",
       "2020-06-30    6\n",
       "Freq: D, Name: Z, dtype: int64"
      ]
     },
     "execution_count": 36,
     "metadata": {},
     "output_type": "execute_result"
    }
   ],
   "source": [
    "df3['Z'] = data2\n",
    "df3['Z']"
   ]
  },
  {
   "cell_type": "code",
   "execution_count": 37,
   "metadata": {},
   "outputs": [
    {
     "data": {
      "text/plain": [
       "2020-06-25    1\n",
       "2020-06-26    7\n",
       "2020-06-27    1\n",
       "2020-06-28    2\n",
       "2020-06-29    8\n",
       "2020-06-30    3\n",
       "Freq: D, Name: Z2, dtype: int64"
      ]
     },
     "execution_count": 37,
     "metadata": {},
     "output_type": "execute_result"
    }
   ],
   "source": [
    "# data2 = []\n",
    "# for _ in range(6):\n",
    "#     data2.append(random.randint(1, 10))\n",
    "# data2\n",
    "\n",
    "df3['Z2'] = [random.randint(1, 10) for _ in range(6)]\n",
    "df3['Z2']"
   ]
  },
  {
   "cell_type": "code",
   "execution_count": 38,
   "metadata": {},
   "outputs": [
    {
     "data": {
      "text/plain": [
       "[4, 6, 5, 3, 10, 9]"
      ]
     },
     "execution_count": 38,
     "metadata": {},
     "output_type": "execute_result"
    }
   ],
   "source": [
    "#리스트 내포: 결과가 항상 list\n",
    "#list comprehension\n",
    "[random.randint(1, 10) for _ in range(6)]"
   ]
  },
  {
   "cell_type": "code",
   "execution_count": 39,
   "metadata": {},
   "outputs": [
    {
     "data": {
      "text/plain": [
       "range(0, 10)"
      ]
     },
     "execution_count": 39,
     "metadata": {},
     "output_type": "execute_result"
    }
   ],
   "source": [
    "range(10)"
   ]
  },
  {
   "cell_type": "code",
   "execution_count": 40,
   "metadata": {},
   "outputs": [
    {
     "data": {
      "text/plain": [
       "[0, 1, 2, 3, 4, 5, 6, 7, 8, 9]"
      ]
     },
     "execution_count": 40,
     "metadata": {},
     "output_type": "execute_result"
    }
   ],
   "source": [
    "list(range(10))"
   ]
  },
  {
   "cell_type": "code",
   "execution_count": null,
   "metadata": {},
   "outputs": [],
   "source": [
    "[1, 2, 3,4, 5, 6, 7, 8, 9, 10]"
   ]
  },
  {
   "cell_type": "code",
   "execution_count": 42,
   "metadata": {},
   "outputs": [
    {
     "data": {
      "text/plain": [
       "[1, 2, 3, 4, 5, 6, 7, 8, 9, 10]"
      ]
     },
     "execution_count": 42,
     "metadata": {},
     "output_type": "execute_result"
    }
   ],
   "source": [
    "#[ '반복하면서 한번에 처리할 내용' for i in range(10)]\n",
    "[i + 1 for i in range(10)]"
   ]
  },
  {
   "cell_type": "code",
   "execution_count": 45,
   "metadata": {},
   "outputs": [
    {
     "data": {
      "text/plain": [
       "[1, 3, 5, 7, 9]"
      ]
     },
     "execution_count": 45,
     "metadata": {},
     "output_type": "execute_result"
    }
   ],
   "source": [
    "#[ '반복하면서 한번에 처리할 내용' for i in range(10) if i % 2 == 0]\n",
    "[i + 1 for i in range(10) if i % 2 == 0]\n",
    "\n",
    "# data3 = []\n",
    "# for i in range(10):\n",
    "#     if i % 2 == 0:\n",
    "#         data3.append(i)\n",
    "# data3"
   ]
  },
  {
   "cell_type": "code",
   "execution_count": 46,
   "metadata": {},
   "outputs": [
    {
     "name": "stdout",
     "output_type": "stream",
     "text": [
      "홍길동\n",
      "김길동\n",
      "송길동\n"
     ]
    }
   ],
   "source": [
    "name = ['홍길동','김길동','송길동']\n",
    "for x in name:\n",
    "    print(x)"
   ]
  },
  {
   "cell_type": "code",
   "execution_count": 47,
   "metadata": {},
   "outputs": [
    {
     "data": {
      "text/plain": [
       "['홍길동님', '김길동님', '송길동님']"
      ]
     },
     "execution_count": 47,
     "metadata": {},
     "output_type": "execute_result"
    }
   ],
   "source": [
    "# name에 들어있는 각각의 모든 데이터에 뒤에 \"님\"글자를 붙여주세요.!\n",
    "[ x + '님' for x in name ]"
   ]
  },
  {
   "cell_type": "code",
   "execution_count": 48,
   "metadata": {},
   "outputs": [
    {
     "data": {
      "text/plain": [
       "['신입홍길동', '신입김길동', '신입송길동']"
      ]
     },
     "execution_count": 48,
     "metadata": {},
     "output_type": "execute_result"
    }
   ],
   "source": [
    "# name에 들어있는 각각의 모든 데이터에 앞에 \"신입\"글자를 붙여주세요!\n",
    "[ '신입' + x for x in name ]"
   ]
  },
  {
   "cell_type": "code",
   "execution_count": 50,
   "metadata": {},
   "outputs": [],
   "source": [
    "a_list = range(1, 100, 2)"
   ]
  },
  {
   "cell_type": "code",
   "execution_count": 53,
   "metadata": {},
   "outputs": [
    {
     "data": {
      "text/plain": [
       "50"
      ]
     },
     "execution_count": 53,
     "metadata": {},
     "output_type": "execute_result"
    }
   ],
   "source": [
    "# a_list에 몇 개가 들어있는지 세어보세요.\n",
    "count = 0\n",
    "result = [ count + 1 for x in a_list]\n",
    "sum(result)"
   ]
  },
  {
   "cell_type": "code",
   "execution_count": 56,
   "metadata": {},
   "outputs": [
    {
     "data": {
      "text/plain": [
       "[0.1,\n",
       " 0.30000000000000004,\n",
       " 0.5,\n",
       " 0.7000000000000001,\n",
       " 0.9,\n",
       " 1.1,\n",
       " 1.3,\n",
       " 1.5,\n",
       " 1.7000000000000002,\n",
       " 1.9000000000000001,\n",
       " 2.1,\n",
       " 2.3000000000000003,\n",
       " 2.5,\n",
       " 2.7,\n",
       " 2.9000000000000004,\n",
       " 3.1,\n",
       " 3.3000000000000003,\n",
       " 3.5,\n",
       " 3.7,\n",
       " 3.9000000000000004,\n",
       " 4.1000000000000005,\n",
       " 4.3,\n",
       " 4.5,\n",
       " 4.7,\n",
       " 4.9,\n",
       " 5.1000000000000005,\n",
       " 5.300000000000001,\n",
       " 5.5,\n",
       " 5.7,\n",
       " 5.9,\n",
       " 6.1000000000000005,\n",
       " 6.300000000000001,\n",
       " 6.5,\n",
       " 6.7,\n",
       " 6.9,\n",
       " 7.1000000000000005,\n",
       " 7.300000000000001,\n",
       " 7.5,\n",
       " 7.7,\n",
       " 7.9,\n",
       " 8.1,\n",
       " 8.3,\n",
       " 8.5,\n",
       " 8.700000000000001,\n",
       " 8.9,\n",
       " 9.1,\n",
       " 9.3,\n",
       " 9.5,\n",
       " 9.700000000000001,\n",
       " 9.9]"
      ]
     },
     "execution_count": 56,
     "metadata": {},
     "output_type": "execute_result"
    }
   ],
   "source": [
    "# a_list의 각각의 모든 데이터에 0.1을 곱해보세요. 변경된 a_list의 합과 평균\n",
    "a_list = [ x * 0.1 for x in a_list]\n",
    "a_list"
   ]
  },
  {
   "cell_type": "code",
   "execution_count": 57,
   "metadata": {},
   "outputs": [
    {
     "data": {
      "text/plain": [
       "[0.1,\n",
       " 0.30000000000000004,\n",
       " 0.5,\n",
       " 0.7000000000000001,\n",
       " 0.9,\n",
       " 1.1,\n",
       " 1.3,\n",
       " 1.5,\n",
       " 1.7000000000000002,\n",
       " 1.9000000000000001,\n",
       " 2.1,\n",
       " 2.3000000000000003,\n",
       " 2.5,\n",
       " 2.7,\n",
       " 2.9000000000000004,\n",
       " 3.1,\n",
       " 3.3000000000000003,\n",
       " 3.5,\n",
       " 3.7,\n",
       " 3.9000000000000004,\n",
       " 4.1000000000000005,\n",
       " 4.3,\n",
       " 4.5,\n",
       " 4.7,\n",
       " 4.9,\n",
       " 5.1000000000000005,\n",
       " 5.300000000000001,\n",
       " 5.5,\n",
       " 5.7,\n",
       " 5.9,\n",
       " 6.1000000000000005,\n",
       " 6.300000000000001,\n",
       " 6.5,\n",
       " 6.7,\n",
       " 6.9,\n",
       " 7.1000000000000005,\n",
       " 7.300000000000001,\n",
       " 7.5,\n",
       " 7.7,\n",
       " 7.9,\n",
       " 8.1,\n",
       " 8.3,\n",
       " 8.5,\n",
       " 8.700000000000001,\n",
       " 8.9,\n",
       " 9.1,\n",
       " 9.3,\n",
       " 9.5,\n",
       " 9.700000000000001,\n",
       " 9.9]"
      ]
     },
     "execution_count": 57,
     "metadata": {},
     "output_type": "execute_result"
    }
   ],
   "source": [
    "a_list"
   ]
  },
  {
   "cell_type": "code",
   "execution_count": 63,
   "metadata": {},
   "outputs": [
    {
     "data": {
      "text/plain": [
       "250.0"
      ]
     },
     "execution_count": 63,
     "metadata": {},
     "output_type": "execute_result"
    }
   ],
   "source": [
    "np.sum(a_list)"
   ]
  },
  {
   "cell_type": "code",
   "execution_count": 62,
   "metadata": {},
   "outputs": [
    {
     "data": {
      "text/plain": [
       "5.0"
      ]
     },
     "execution_count": 62,
     "metadata": {},
     "output_type": "execute_result"
    }
   ],
   "source": [
    "np.mean(a_list)"
   ]
  },
  {
   "cell_type": "code",
   "execution_count": 64,
   "metadata": {},
   "outputs": [
    {
     "data": {
      "text/plain": [
       "2.8861739379323628"
      ]
     },
     "execution_count": 64,
     "metadata": {},
     "output_type": "execute_result"
    }
   ],
   "source": [
    "np.std(a_list)"
   ]
  },
  {
   "cell_type": "code",
   "execution_count": null,
   "metadata": {},
   "outputs": [],
   "source": []
  }
 ],
 "metadata": {
  "kernelspec": {
   "display_name": "Python 3 (ipykernel)",
   "language": "python",
   "name": "python3"
  },
  "language_info": {
   "codemirror_mode": {
    "name": "ipython",
    "version": 3
   },
   "file_extension": ".py",
   "mimetype": "text/x-python",
   "name": "python",
   "nbconvert_exporter": "python",
   "pygments_lexer": "ipython3",
   "version": "3.7.11"
  }
 },
 "nbformat": 4,
 "nbformat_minor": 4
}
