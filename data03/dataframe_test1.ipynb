{
 "cells": [
  {
   "cell_type": "code",
   "execution_count": 3,
   "metadata": {},
   "outputs": [],
   "source": [
    "import pandas as pd\n",
    "import numpy as np"
   ]
  },
  {
   "cell_type": "code",
   "execution_count": 2,
   "metadata": {},
   "outputs": [
    {
     "data": {
      "text/plain": [
       "DatetimeIndex(['2020-06-25', '2020-06-26', '2020-06-27', '2020-06-28',\n",
       "               '2020-06-29', '2020-06-30'],\n",
       "              dtype='datetime64[ns]', freq='D')"
      ]
     },
     "execution_count": 2,
     "metadata": {},
     "output_type": "execute_result"
    }
   ],
   "source": [
    "dates = pd.date_range('20200625', periods=6)\n",
    "dates"
   ]
  },
  {
   "cell_type": "code",
   "execution_count": 4,
   "metadata": {},
   "outputs": [],
   "source": [
    "df = pd.DataFrame(np.random.randn(6, 4), \n",
    "                  index=dates, \n",
    "                  columns=['A','B','C','D'])"
   ]
  },
  {
   "cell_type": "code",
   "execution_count": 5,
   "metadata": {},
   "outputs": [
    {
     "data": {
      "text/html": [
       "<div>\n",
       "<style scoped>\n",
       "    .dataframe tbody tr th:only-of-type {\n",
       "        vertical-align: middle;\n",
       "    }\n",
       "\n",
       "    .dataframe tbody tr th {\n",
       "        vertical-align: top;\n",
       "    }\n",
       "\n",
       "    .dataframe thead th {\n",
       "        text-align: right;\n",
       "    }\n",
       "</style>\n",
       "<table border=\"1\" class=\"dataframe\">\n",
       "  <thead>\n",
       "    <tr style=\"text-align: right;\">\n",
       "      <th></th>\n",
       "      <th>A</th>\n",
       "      <th>B</th>\n",
       "      <th>C</th>\n",
       "      <th>D</th>\n",
       "    </tr>\n",
       "  </thead>\n",
       "  <tbody>\n",
       "    <tr>\n",
       "      <th>2020-06-25</th>\n",
       "      <td>-0.178358</td>\n",
       "      <td>-0.000614</td>\n",
       "      <td>-1.549596</td>\n",
       "      <td>0.004689</td>\n",
       "    </tr>\n",
       "    <tr>\n",
       "      <th>2020-06-26</th>\n",
       "      <td>-1.654163</td>\n",
       "      <td>1.441047</td>\n",
       "      <td>-1.402851</td>\n",
       "      <td>0.650652</td>\n",
       "    </tr>\n",
       "    <tr>\n",
       "      <th>2020-06-27</th>\n",
       "      <td>0.060079</td>\n",
       "      <td>-0.870540</td>\n",
       "      <td>1.543165</td>\n",
       "      <td>0.349406</td>\n",
       "    </tr>\n",
       "    <tr>\n",
       "      <th>2020-06-28</th>\n",
       "      <td>0.559574</td>\n",
       "      <td>0.569531</td>\n",
       "      <td>0.046158</td>\n",
       "      <td>-0.534061</td>\n",
       "    </tr>\n",
       "    <tr>\n",
       "      <th>2020-06-29</th>\n",
       "      <td>0.554191</td>\n",
       "      <td>1.445515</td>\n",
       "      <td>0.049196</td>\n",
       "      <td>0.567235</td>\n",
       "    </tr>\n",
       "    <tr>\n",
       "      <th>2020-06-30</th>\n",
       "      <td>0.309619</td>\n",
       "      <td>-0.988008</td>\n",
       "      <td>-0.754965</td>\n",
       "      <td>0.601380</td>\n",
       "    </tr>\n",
       "  </tbody>\n",
       "</table>\n",
       "</div>"
      ],
      "text/plain": [
       "                   A         B         C         D\n",
       "2020-06-25 -0.178358 -0.000614 -1.549596  0.004689\n",
       "2020-06-26 -1.654163  1.441047 -1.402851  0.650652\n",
       "2020-06-27  0.060079 -0.870540  1.543165  0.349406\n",
       "2020-06-28  0.559574  0.569531  0.046158 -0.534061\n",
       "2020-06-29  0.554191  1.445515  0.049196  0.567235\n",
       "2020-06-30  0.309619 -0.988008 -0.754965  0.601380"
      ]
     },
     "execution_count": 5,
     "metadata": {},
     "output_type": "execute_result"
    }
   ],
   "source": [
    "df"
   ]
  },
  {
   "cell_type": "code",
   "execution_count": 6,
   "metadata": {},
   "outputs": [
    {
     "data": {
      "text/html": [
       "<div>\n",
       "<style scoped>\n",
       "    .dataframe tbody tr th:only-of-type {\n",
       "        vertical-align: middle;\n",
       "    }\n",
       "\n",
       "    .dataframe tbody tr th {\n",
       "        vertical-align: top;\n",
       "    }\n",
       "\n",
       "    .dataframe thead th {\n",
       "        text-align: right;\n",
       "    }\n",
       "</style>\n",
       "<table border=\"1\" class=\"dataframe\">\n",
       "  <thead>\n",
       "    <tr style=\"text-align: right;\">\n",
       "      <th></th>\n",
       "      <th>A</th>\n",
       "      <th>B</th>\n",
       "      <th>C</th>\n",
       "      <th>D</th>\n",
       "    </tr>\n",
       "  </thead>\n",
       "  <tbody>\n",
       "    <tr>\n",
       "      <th>2020-06-25</th>\n",
       "      <td>-0.178358</td>\n",
       "      <td>-0.000614</td>\n",
       "      <td>-1.549596</td>\n",
       "      <td>0.004689</td>\n",
       "    </tr>\n",
       "    <tr>\n",
       "      <th>2020-06-26</th>\n",
       "      <td>-1.654163</td>\n",
       "      <td>1.441047</td>\n",
       "      <td>-1.402851</td>\n",
       "      <td>0.650652</td>\n",
       "    </tr>\n",
       "    <tr>\n",
       "      <th>2020-06-27</th>\n",
       "      <td>0.060079</td>\n",
       "      <td>-0.870540</td>\n",
       "      <td>1.543165</td>\n",
       "      <td>0.349406</td>\n",
       "    </tr>\n",
       "    <tr>\n",
       "      <th>2020-06-28</th>\n",
       "      <td>0.559574</td>\n",
       "      <td>0.569531</td>\n",
       "      <td>0.046158</td>\n",
       "      <td>-0.534061</td>\n",
       "    </tr>\n",
       "    <tr>\n",
       "      <th>2020-06-29</th>\n",
       "      <td>0.554191</td>\n",
       "      <td>1.445515</td>\n",
       "      <td>0.049196</td>\n",
       "      <td>0.567235</td>\n",
       "    </tr>\n",
       "    <tr>\n",
       "      <th>2020-06-30</th>\n",
       "      <td>0.309619</td>\n",
       "      <td>-0.988008</td>\n",
       "      <td>-0.754965</td>\n",
       "      <td>0.601380</td>\n",
       "    </tr>\n",
       "  </tbody>\n",
       "</table>\n",
       "</div>"
      ],
      "text/plain": [
       "                   A         B         C         D\n",
       "2020-06-25 -0.178358 -0.000614 -1.549596  0.004689\n",
       "2020-06-26 -1.654163  1.441047 -1.402851  0.650652\n",
       "2020-06-27  0.060079 -0.870540  1.543165  0.349406\n",
       "2020-06-28  0.559574  0.569531  0.046158 -0.534061\n",
       "2020-06-29  0.554191  1.445515  0.049196  0.567235\n",
       "2020-06-30  0.309619 -0.988008 -0.754965  0.601380"
      ]
     },
     "execution_count": 6,
     "metadata": {},
     "output_type": "execute_result"
    }
   ],
   "source": [
    "df2 = df.copy()\n",
    "df2\n",
    "# df는 기본적으로 행, 열의 위치값을 가지고 있음.\n",
    "# \"기본적으로 가지고 있는 위치값(index)\"를 이용해서 조작하는 경우\n",
    "# iloc[]를 사용!\n",
    "# 일부 그래프나 분석시 특정항목을 index항목으로 수동으로 설정해야하는\n",
    "# 경우가 있음.\n",
    "# 특정항목을 index항목으로 설정가능한 경우는 \n",
    "# \"unique/not null인 값을 가지는 항목\"만\n",
    "# 설정 가능! user_id, bbs_id pk조건과 일치!\n"
   ]
  },
  {
   "cell_type": "code",
   "execution_count": 9,
   "metadata": {},
   "outputs": [],
   "source": [
    "df2.reset_index(inplace=True)"
   ]
  },
  {
   "cell_type": "code",
   "execution_count": 10,
   "metadata": {},
   "outputs": [
    {
     "data": {
      "text/html": [
       "<div>\n",
       "<style scoped>\n",
       "    .dataframe tbody tr th:only-of-type {\n",
       "        vertical-align: middle;\n",
       "    }\n",
       "\n",
       "    .dataframe tbody tr th {\n",
       "        vertical-align: top;\n",
       "    }\n",
       "\n",
       "    .dataframe thead th {\n",
       "        text-align: right;\n",
       "    }\n",
       "</style>\n",
       "<table border=\"1\" class=\"dataframe\">\n",
       "  <thead>\n",
       "    <tr style=\"text-align: right;\">\n",
       "      <th></th>\n",
       "      <th>index</th>\n",
       "      <th>A</th>\n",
       "      <th>B</th>\n",
       "      <th>C</th>\n",
       "      <th>D</th>\n",
       "    </tr>\n",
       "  </thead>\n",
       "  <tbody>\n",
       "    <tr>\n",
       "      <th>0</th>\n",
       "      <td>2020-06-25</td>\n",
       "      <td>-0.178358</td>\n",
       "      <td>-0.000614</td>\n",
       "      <td>-1.549596</td>\n",
       "      <td>0.004689</td>\n",
       "    </tr>\n",
       "    <tr>\n",
       "      <th>1</th>\n",
       "      <td>2020-06-26</td>\n",
       "      <td>-1.654163</td>\n",
       "      <td>1.441047</td>\n",
       "      <td>-1.402851</td>\n",
       "      <td>0.650652</td>\n",
       "    </tr>\n",
       "    <tr>\n",
       "      <th>2</th>\n",
       "      <td>2020-06-27</td>\n",
       "      <td>0.060079</td>\n",
       "      <td>-0.870540</td>\n",
       "      <td>1.543165</td>\n",
       "      <td>0.349406</td>\n",
       "    </tr>\n",
       "    <tr>\n",
       "      <th>3</th>\n",
       "      <td>2020-06-28</td>\n",
       "      <td>0.559574</td>\n",
       "      <td>0.569531</td>\n",
       "      <td>0.046158</td>\n",
       "      <td>-0.534061</td>\n",
       "    </tr>\n",
       "    <tr>\n",
       "      <th>4</th>\n",
       "      <td>2020-06-29</td>\n",
       "      <td>0.554191</td>\n",
       "      <td>1.445515</td>\n",
       "      <td>0.049196</td>\n",
       "      <td>0.567235</td>\n",
       "    </tr>\n",
       "    <tr>\n",
       "      <th>5</th>\n",
       "      <td>2020-06-30</td>\n",
       "      <td>0.309619</td>\n",
       "      <td>-0.988008</td>\n",
       "      <td>-0.754965</td>\n",
       "      <td>0.601380</td>\n",
       "    </tr>\n",
       "  </tbody>\n",
       "</table>\n",
       "</div>"
      ],
      "text/plain": [
       "       index         A         B         C         D\n",
       "0 2020-06-25 -0.178358 -0.000614 -1.549596  0.004689\n",
       "1 2020-06-26 -1.654163  1.441047 -1.402851  0.650652\n",
       "2 2020-06-27  0.060079 -0.870540  1.543165  0.349406\n",
       "3 2020-06-28  0.559574  0.569531  0.046158 -0.534061\n",
       "4 2020-06-29  0.554191  1.445515  0.049196  0.567235\n",
       "5 2020-06-30  0.309619 -0.988008 -0.754965  0.601380"
      ]
     },
     "execution_count": 10,
     "metadata": {},
     "output_type": "execute_result"
    }
   ],
   "source": [
    "df2"
   ]
  },
  {
   "cell_type": "code",
   "execution_count": 11,
   "metadata": {},
   "outputs": [],
   "source": [
    "df2.set_index('index', inplace=True)"
   ]
  },
  {
   "cell_type": "code",
   "execution_count": 12,
   "metadata": {},
   "outputs": [
    {
     "data": {
      "text/html": [
       "<div>\n",
       "<style scoped>\n",
       "    .dataframe tbody tr th:only-of-type {\n",
       "        vertical-align: middle;\n",
       "    }\n",
       "\n",
       "    .dataframe tbody tr th {\n",
       "        vertical-align: top;\n",
       "    }\n",
       "\n",
       "    .dataframe thead th {\n",
       "        text-align: right;\n",
       "    }\n",
       "</style>\n",
       "<table border=\"1\" class=\"dataframe\">\n",
       "  <thead>\n",
       "    <tr style=\"text-align: right;\">\n",
       "      <th></th>\n",
       "      <th>A</th>\n",
       "      <th>B</th>\n",
       "      <th>C</th>\n",
       "      <th>D</th>\n",
       "    </tr>\n",
       "    <tr>\n",
       "      <th>index</th>\n",
       "      <th></th>\n",
       "      <th></th>\n",
       "      <th></th>\n",
       "      <th></th>\n",
       "    </tr>\n",
       "  </thead>\n",
       "  <tbody>\n",
       "    <tr>\n",
       "      <th>2020-06-25</th>\n",
       "      <td>-0.178358</td>\n",
       "      <td>-0.000614</td>\n",
       "      <td>-1.549596</td>\n",
       "      <td>0.004689</td>\n",
       "    </tr>\n",
       "    <tr>\n",
       "      <th>2020-06-26</th>\n",
       "      <td>-1.654163</td>\n",
       "      <td>1.441047</td>\n",
       "      <td>-1.402851</td>\n",
       "      <td>0.650652</td>\n",
       "    </tr>\n",
       "    <tr>\n",
       "      <th>2020-06-27</th>\n",
       "      <td>0.060079</td>\n",
       "      <td>-0.870540</td>\n",
       "      <td>1.543165</td>\n",
       "      <td>0.349406</td>\n",
       "    </tr>\n",
       "    <tr>\n",
       "      <th>2020-06-28</th>\n",
       "      <td>0.559574</td>\n",
       "      <td>0.569531</td>\n",
       "      <td>0.046158</td>\n",
       "      <td>-0.534061</td>\n",
       "    </tr>\n",
       "    <tr>\n",
       "      <th>2020-06-29</th>\n",
       "      <td>0.554191</td>\n",
       "      <td>1.445515</td>\n",
       "      <td>0.049196</td>\n",
       "      <td>0.567235</td>\n",
       "    </tr>\n",
       "    <tr>\n",
       "      <th>2020-06-30</th>\n",
       "      <td>0.309619</td>\n",
       "      <td>-0.988008</td>\n",
       "      <td>-0.754965</td>\n",
       "      <td>0.601380</td>\n",
       "    </tr>\n",
       "  </tbody>\n",
       "</table>\n",
       "</div>"
      ],
      "text/plain": [
       "                   A         B         C         D\n",
       "index                                             \n",
       "2020-06-25 -0.178358 -0.000614 -1.549596  0.004689\n",
       "2020-06-26 -1.654163  1.441047 -1.402851  0.650652\n",
       "2020-06-27  0.060079 -0.870540  1.543165  0.349406\n",
       "2020-06-28  0.559574  0.569531  0.046158 -0.534061\n",
       "2020-06-29  0.554191  1.445515  0.049196  0.567235\n",
       "2020-06-30  0.309619 -0.988008 -0.754965  0.601380"
      ]
     },
     "execution_count": 12,
     "metadata": {},
     "output_type": "execute_result"
    }
   ],
   "source": [
    "df2"
   ]
  },
  {
   "cell_type": "code",
   "execution_count": 13,
   "metadata": {},
   "outputs": [],
   "source": [
    "df2['E'] = df2['A'] + 1 #브로드캐스팅!"
   ]
  },
  {
   "cell_type": "code",
   "execution_count": 14,
   "metadata": {},
   "outputs": [
    {
     "data": {
      "text/plain": [
       "Index(['A', 'B', 'C', 'D', 'E'], dtype='object')"
      ]
     },
     "execution_count": 14,
     "metadata": {},
     "output_type": "execute_result"
    }
   ],
   "source": [
    "df2.columns"
   ]
  },
  {
   "cell_type": "code",
   "execution_count": 15,
   "metadata": {},
   "outputs": [
    {
     "data": {
      "text/plain": [
       "index\n",
       "2020-06-25    0.821642\n",
       "2020-06-26   -0.654163\n",
       "2020-06-27    1.060079\n",
       "2020-06-28    1.559574\n",
       "2020-06-29    1.554191\n",
       "2020-06-30    1.309619\n",
       "Name: E, dtype: float64"
      ]
     },
     "execution_count": 15,
     "metadata": {},
     "output_type": "execute_result"
    }
   ],
   "source": [
    "df2['E']"
   ]
  },
  {
   "cell_type": "code",
   "execution_count": 16,
   "metadata": {},
   "outputs": [],
   "source": [
    "df2['F'] = 0"
   ]
  },
  {
   "cell_type": "code",
   "execution_count": 17,
   "metadata": {},
   "outputs": [
    {
     "data": {
      "text/plain": [
       "index\n",
       "2020-06-25    0\n",
       "2020-06-26    0\n",
       "2020-06-27    0\n",
       "2020-06-28    0\n",
       "2020-06-29    0\n",
       "2020-06-30    0\n",
       "Name: F, dtype: int64"
      ]
     },
     "execution_count": 17,
     "metadata": {},
     "output_type": "execute_result"
    }
   ],
   "source": [
    "df2['F']"
   ]
  },
  {
   "cell_type": "code",
   "execution_count": 18,
   "metadata": {},
   "outputs": [
    {
     "data": {
      "text/plain": [
       "index\n",
       "2020-06-25    0\n",
       "2020-06-26    1\n",
       "2020-06-27    2\n",
       "2020-06-28    3\n",
       "2020-06-29    4\n",
       "2020-06-30    5\n",
       "Name: G, dtype: int64"
      ]
     },
     "execution_count": 18,
     "metadata": {},
     "output_type": "execute_result"
    }
   ],
   "source": [
    "df2['G'] = range(0, 6)\n",
    "df2['G']"
   ]
  },
  {
   "cell_type": "code",
   "execution_count": 19,
   "metadata": {},
   "outputs": [],
   "source": [
    "# 인덱스를 변경하고 싶은 경우, 기존의 인덱스를 살리고 싶으면\n",
    "# 먼저 reset_index()하고 나서 해야함.\n",
    "# reset을 하지 않는 경우 기존 index항목은 사라짐.\n",
    "df2.set_index('G', inplace=True)"
   ]
  },
  {
   "cell_type": "code",
   "execution_count": 20,
   "metadata": {},
   "outputs": [
    {
     "data": {
      "text/html": [
       "<div>\n",
       "<style scoped>\n",
       "    .dataframe tbody tr th:only-of-type {\n",
       "        vertical-align: middle;\n",
       "    }\n",
       "\n",
       "    .dataframe tbody tr th {\n",
       "        vertical-align: top;\n",
       "    }\n",
       "\n",
       "    .dataframe thead th {\n",
       "        text-align: right;\n",
       "    }\n",
       "</style>\n",
       "<table border=\"1\" class=\"dataframe\">\n",
       "  <thead>\n",
       "    <tr style=\"text-align: right;\">\n",
       "      <th></th>\n",
       "      <th>A</th>\n",
       "      <th>B</th>\n",
       "      <th>C</th>\n",
       "      <th>D</th>\n",
       "      <th>E</th>\n",
       "      <th>F</th>\n",
       "    </tr>\n",
       "    <tr>\n",
       "      <th>G</th>\n",
       "      <th></th>\n",
       "      <th></th>\n",
       "      <th></th>\n",
       "      <th></th>\n",
       "      <th></th>\n",
       "      <th></th>\n",
       "    </tr>\n",
       "  </thead>\n",
       "  <tbody>\n",
       "    <tr>\n",
       "      <th>0</th>\n",
       "      <td>-0.178358</td>\n",
       "      <td>-0.000614</td>\n",
       "      <td>-1.549596</td>\n",
       "      <td>0.004689</td>\n",
       "      <td>0.821642</td>\n",
       "      <td>0</td>\n",
       "    </tr>\n",
       "    <tr>\n",
       "      <th>1</th>\n",
       "      <td>-1.654163</td>\n",
       "      <td>1.441047</td>\n",
       "      <td>-1.402851</td>\n",
       "      <td>0.650652</td>\n",
       "      <td>-0.654163</td>\n",
       "      <td>0</td>\n",
       "    </tr>\n",
       "    <tr>\n",
       "      <th>2</th>\n",
       "      <td>0.060079</td>\n",
       "      <td>-0.870540</td>\n",
       "      <td>1.543165</td>\n",
       "      <td>0.349406</td>\n",
       "      <td>1.060079</td>\n",
       "      <td>0</td>\n",
       "    </tr>\n",
       "    <tr>\n",
       "      <th>3</th>\n",
       "      <td>0.559574</td>\n",
       "      <td>0.569531</td>\n",
       "      <td>0.046158</td>\n",
       "      <td>-0.534061</td>\n",
       "      <td>1.559574</td>\n",
       "      <td>0</td>\n",
       "    </tr>\n",
       "    <tr>\n",
       "      <th>4</th>\n",
       "      <td>0.554191</td>\n",
       "      <td>1.445515</td>\n",
       "      <td>0.049196</td>\n",
       "      <td>0.567235</td>\n",
       "      <td>1.554191</td>\n",
       "      <td>0</td>\n",
       "    </tr>\n",
       "    <tr>\n",
       "      <th>5</th>\n",
       "      <td>0.309619</td>\n",
       "      <td>-0.988008</td>\n",
       "      <td>-0.754965</td>\n",
       "      <td>0.601380</td>\n",
       "      <td>1.309619</td>\n",
       "      <td>0</td>\n",
       "    </tr>\n",
       "  </tbody>\n",
       "</table>\n",
       "</div>"
      ],
      "text/plain": [
       "          A         B         C         D         E  F\n",
       "G                                                     \n",
       "0 -0.178358 -0.000614 -1.549596  0.004689  0.821642  0\n",
       "1 -1.654163  1.441047 -1.402851  0.650652 -0.654163  0\n",
       "2  0.060079 -0.870540  1.543165  0.349406  1.060079  0\n",
       "3  0.559574  0.569531  0.046158 -0.534061  1.559574  0\n",
       "4  0.554191  1.445515  0.049196  0.567235  1.554191  0\n",
       "5  0.309619 -0.988008 -0.754965  0.601380  1.309619  0"
      ]
     },
     "execution_count": 20,
     "metadata": {},
     "output_type": "execute_result"
    }
   ],
   "source": [
    "df2"
   ]
  },
  {
   "cell_type": "code",
   "execution_count": 21,
   "metadata": {},
   "outputs": [
    {
     "data": {
      "text/plain": [
       "Index(['A', 'B', 'C', 'D', 'E', 'F'], dtype='object')"
      ]
     },
     "execution_count": 21,
     "metadata": {},
     "output_type": "execute_result"
    }
   ],
   "source": [
    "df2.columns"
   ]
  },
  {
   "cell_type": "code",
   "execution_count": 23,
   "metadata": {},
   "outputs": [
    {
     "data": {
      "text/html": [
       "<div>\n",
       "<style scoped>\n",
       "    .dataframe tbody tr th:only-of-type {\n",
       "        vertical-align: middle;\n",
       "    }\n",
       "\n",
       "    .dataframe tbody tr th {\n",
       "        vertical-align: top;\n",
       "    }\n",
       "\n",
       "    .dataframe thead th {\n",
       "        text-align: right;\n",
       "    }\n",
       "</style>\n",
       "<table border=\"1\" class=\"dataframe\">\n",
       "  <thead>\n",
       "    <tr style=\"text-align: right;\">\n",
       "      <th></th>\n",
       "      <th>A</th>\n",
       "      <th>B</th>\n",
       "      <th>C</th>\n",
       "      <th>D</th>\n",
       "    </tr>\n",
       "  </thead>\n",
       "  <tbody>\n",
       "    <tr>\n",
       "      <th>2020-06-25</th>\n",
       "      <td>-0.178358</td>\n",
       "      <td>-0.000614</td>\n",
       "      <td>-1.549596</td>\n",
       "      <td>0.004689</td>\n",
       "    </tr>\n",
       "    <tr>\n",
       "      <th>2020-06-26</th>\n",
       "      <td>-1.654163</td>\n",
       "      <td>1.441047</td>\n",
       "      <td>-1.402851</td>\n",
       "      <td>0.650652</td>\n",
       "    </tr>\n",
       "    <tr>\n",
       "      <th>2020-06-27</th>\n",
       "      <td>0.060079</td>\n",
       "      <td>-0.870540</td>\n",
       "      <td>1.543165</td>\n",
       "      <td>0.349406</td>\n",
       "    </tr>\n",
       "    <tr>\n",
       "      <th>2020-06-28</th>\n",
       "      <td>0.559574</td>\n",
       "      <td>0.569531</td>\n",
       "      <td>0.046158</td>\n",
       "      <td>-0.534061</td>\n",
       "    </tr>\n",
       "    <tr>\n",
       "      <th>2020-06-29</th>\n",
       "      <td>0.554191</td>\n",
       "      <td>1.445515</td>\n",
       "      <td>0.049196</td>\n",
       "      <td>0.567235</td>\n",
       "    </tr>\n",
       "    <tr>\n",
       "      <th>2020-06-30</th>\n",
       "      <td>0.309619</td>\n",
       "      <td>-0.988008</td>\n",
       "      <td>-0.754965</td>\n",
       "      <td>0.601380</td>\n",
       "    </tr>\n",
       "  </tbody>\n",
       "</table>\n",
       "</div>"
      ],
      "text/plain": [
       "                   A         B         C         D\n",
       "2020-06-25 -0.178358 -0.000614 -1.549596  0.004689\n",
       "2020-06-26 -1.654163  1.441047 -1.402851  0.650652\n",
       "2020-06-27  0.060079 -0.870540  1.543165  0.349406\n",
       "2020-06-28  0.559574  0.569531  0.046158 -0.534061\n",
       "2020-06-29  0.554191  1.445515  0.049196  0.567235\n",
       "2020-06-30  0.309619 -0.988008 -0.754965  0.601380"
      ]
     },
     "execution_count": 23,
     "metadata": {},
     "output_type": "execute_result"
    }
   ],
   "source": [
    "df3 = df.copy()\n",
    "df3"
   ]
  },
  {
   "cell_type": "code",
   "execution_count": 32,
   "metadata": {},
   "outputs": [
    {
     "name": "stdout",
     "output_type": "stream",
     "text": [
      "[9, 9, 2, 10, 10, 10]\n"
     ]
    },
    {
     "data": {
      "text/plain": [
       "2020-06-25     9\n",
       "2020-06-26     9\n",
       "2020-06-27     2\n",
       "2020-06-28    10\n",
       "2020-06-29    10\n",
       "2020-06-30    10\n",
       "Freq: D, Name: E, dtype: int64"
      ]
     },
     "execution_count": 32,
     "metadata": {},
     "output_type": "execute_result"
    }
   ],
   "source": [
    "# E항목을 파생변수로 만드세요. 1~10범위 값\n",
    "data = range(1,11) # 1~10\n",
    "data2 = []\n",
    "for i in range(6):\n",
    "    data2.append(random.choice(data))\n",
    "print(data2)\n",
    "df3['E'] = data2 #[1, 3, 5, 6, 7, 2]\n",
    "df3['E']"
   ]
  },
  {
   "cell_type": "code",
   "execution_count": 33,
   "metadata": {},
   "outputs": [
    {
     "data": {
      "text/plain": [
       "2020-06-25   -0.178973\n",
       "2020-06-26   -0.213116\n",
       "2020-06-27   -0.810461\n",
       "2020-06-28    1.129106\n",
       "2020-06-29    1.999707\n",
       "2020-06-30   -0.678389\n",
       "Freq: D, Name: F, dtype: float64"
      ]
     },
     "execution_count": 33,
     "metadata": {},
     "output_type": "execute_result"
    }
   ],
   "source": [
    "# F항목을 파생변수로 만드세요. A열과 C열의 합\n",
    "df3['F'] = df3['A'] + df3['B']\n",
    "df3['F']"
   ]
  },
  {
   "cell_type": "code",
   "execution_count": 34,
   "metadata": {},
   "outputs": [
    {
     "data": {
      "text/plain": [
       "2020-06-25    1\n",
       "2020-06-26    1\n",
       "2020-06-27    1\n",
       "2020-06-28    1\n",
       "2020-06-29    1\n",
       "2020-06-30    1\n",
       "Freq: D, Name: H, dtype: int64"
      ]
     },
     "execution_count": 34,
     "metadata": {},
     "output_type": "execute_result"
    }
   ],
   "source": [
    "# H항목을 파생변수로 만드세요. 1로 설정\n",
    "df3['H'] = 1\n",
    "df3['H']"
   ]
  },
  {
   "cell_type": "code",
   "execution_count": null,
   "metadata": {},
   "outputs": [],
   "source": [
    "# Z항목을 파생변수로 만드세요. 1~9까지의 랜덤한 값으로 설정"
   ]
  },
  {
   "cell_type": "code",
   "execution_count": 26,
   "metadata": {},
   "outputs": [],
   "source": [
    "import random"
   ]
  },
  {
   "cell_type": "code",
   "execution_count": 27,
   "metadata": {},
   "outputs": [
    {
     "data": {
      "text/plain": [
       "2020-06-25    2\n",
       "2020-06-26    2\n",
       "2020-06-27    2\n",
       "2020-06-28    2\n",
       "2020-06-29    2\n",
       "2020-06-30    2\n",
       "Freq: D, Name: Z, dtype: int64"
      ]
     },
     "execution_count": 27,
     "metadata": {},
     "output_type": "execute_result"
    }
   ],
   "source": [
    "df3['Z'] = random.randint(1, 10)\n",
    "df3['Z']"
   ]
  },
  {
   "cell_type": "code",
   "execution_count": 35,
   "metadata": {},
   "outputs": [
    {
     "data": {
      "text/plain": [
       "[3, 2, 1, 4, 4, 6]"
      ]
     },
     "execution_count": 35,
     "metadata": {},
     "output_type": "execute_result"
    }
   ],
   "source": [
    "data2 = []\n",
    "for _ in range(6):\n",
    "    data2.append(random.randint(1, 10))\n",
    "data2"
   ]
  },
  {
   "cell_type": "code",
   "execution_count": 36,
   "metadata": {},
   "outputs": [
    {
     "data": {
      "text/plain": [
       "2020-06-25    3\n",
       "2020-06-26    2\n",
       "2020-06-27    1\n",
       "2020-06-28    4\n",
       "2020-06-29    4\n",
       "2020-06-30    6\n",
       "Freq: D, Name: Z, dtype: int64"
      ]
     },
     "execution_count": 36,
     "metadata": {},
     "output_type": "execute_result"
    }
   ],
   "source": [
    "df3['Z'] = data2\n",
    "df3['Z']"
   ]
  },
  {
   "cell_type": "code",
   "execution_count": 37,
   "metadata": {},
   "outputs": [
    {
     "data": {
      "text/plain": [
       "2020-06-25    1\n",
       "2020-06-26    7\n",
       "2020-06-27    1\n",
       "2020-06-28    2\n",
       "2020-06-29    8\n",
       "2020-06-30    3\n",
       "Freq: D, Name: Z2, dtype: int64"
      ]
     },
     "execution_count": 37,
     "metadata": {},
     "output_type": "execute_result"
    }
   ],
   "source": [
    "# data2 = []\n",
    "# for _ in range(6):\n",
    "#     data2.append(random.randint(1, 10))\n",
    "# data2\n",
    "\n",
    "df3['Z2'] = [random.randint(1, 10) for _ in range(6)]\n",
    "df3['Z2']"
   ]
  },
  {
   "cell_type": "code",
   "execution_count": 38,
   "metadata": {},
   "outputs": [
    {
     "data": {
      "text/plain": [
       "[4, 6, 5, 3, 10, 9]"
      ]
     },
     "execution_count": 38,
     "metadata": {},
     "output_type": "execute_result"
    }
   ],
   "source": [
    "#리스트 내포: 결과가 항상 list\n",
    "#list comprehension\n",
    "[random.randint(1, 10) for _ in range(6)]"
   ]
  },
  {
   "cell_type": "code",
   "execution_count": 39,
   "metadata": {},
   "outputs": [
    {
     "data": {
      "text/plain": [
       "range(0, 10)"
      ]
     },
     "execution_count": 39,
     "metadata": {},
     "output_type": "execute_result"
    }
   ],
   "source": [
    "range(10)"
   ]
  },
  {
   "cell_type": "code",
   "execution_count": 40,
   "metadata": {},
   "outputs": [
    {
     "data": {
      "text/plain": [
       "[0, 1, 2, 3, 4, 5, 6, 7, 8, 9]"
      ]
     },
     "execution_count": 40,
     "metadata": {},
     "output_type": "execute_result"
    }
   ],
   "source": [
    "list(range(10))"
   ]
  },
  {
   "cell_type": "code",
   "execution_count": null,
   "metadata": {},
   "outputs": [],
   "source": [
    "[1, 2, 3,4, 5, 6, 7, 8, 9, 10]"
   ]
  },
  {
   "cell_type": "code",
   "execution_count": 42,
   "metadata": {},
   "outputs": [
    {
     "data": {
      "text/plain": [
       "[1, 2, 3, 4, 5, 6, 7, 8, 9, 10]"
      ]
     },
     "execution_count": 42,
     "metadata": {},
     "output_type": "execute_result"
    }
   ],
   "source": [
    "#[ '반복하면서 한번에 처리할 내용' for i in range(10)]\n",
    "[i + 1 for i in range(10)]"
   ]
  },
  {
   "cell_type": "code",
   "execution_count": 45,
   "metadata": {},
   "outputs": [
    {
     "data": {
      "text/plain": [
       "[1, 3, 5, 7, 9]"
      ]
     },
     "execution_count": 45,
     "metadata": {},
     "output_type": "execute_result"
    }
   ],
   "source": [
    "#[ '반복하면서 한번에 처리할 내용' for i in range(10) if i % 2 == 0]\n",
    "[i + 1 for i in range(10) if i % 2 == 0]\n",
    "\n",
    "# data3 = []\n",
    "# for i in range(10):\n",
    "#     if i % 2 == 0:\n",
    "#         data3.append(i)\n",
    "# data3"
   ]
  },
  {
   "cell_type": "code",
   "execution_count": 46,
   "metadata": {},
   "outputs": [
    {
     "name": "stdout",
     "output_type": "stream",
     "text": [
      "홍길동\n",
      "김길동\n",
      "송길동\n"
     ]
    }
   ],
   "source": [
    "name = ['홍길동','김길동','송길동']\n",
    "for x in name:\n",
    "    print(x)"
   ]
  },
  {
   "cell_type": "code",
   "execution_count": null,
   "metadata": {},
   "outputs": [],
   "source": [
    "# name에 들어있는 각각의 모든 데이터에 뒤에 \"님\"글자를 붙여주세요.!"
   ]
  },
  {
   "cell_type": "code",
   "execution_count": null,
   "metadata": {},
   "outputs": [],
   "source": [
    "# name에 들어있는 각각의 모든 데이터에 앞에 \"신입\"글자를 붙여주세요!"
   ]
  },
  {
   "cell_type": "code",
   "execution_count": null,
   "metadata": {},
   "outputs": [],
   "source": [
    "a_list = range(1, 100, 2)"
   ]
  },
  {
   "cell_type": "code",
   "execution_count": null,
   "metadata": {},
   "outputs": [],
   "source": [
    "# a_list에 몇 개가 들어있는지 세어보세요."
   ]
  },
  {
   "cell_type": "code",
   "execution_count": null,
   "metadata": {},
   "outputs": [],
   "source": [
    "# a_list의 각각의 모든 데이터에 0.1을 곱"
   ]
  }
 ],
 "metadata": {
  "kernelspec": {
   "display_name": "Python 3 (ipykernel)",
   "language": "python",
   "name": "python3"
  },
  "language_info": {
   "codemirror_mode": {
    "name": "ipython",
    "version": 3
   },
   "file_extension": ".py",
   "mimetype": "text/x-python",
   "name": "python",
   "nbconvert_exporter": "python",
   "pygments_lexer": "ipython3",
   "version": "3.7.11"
  }
 },
 "nbformat": 4,
 "nbformat_minor": 4
}
