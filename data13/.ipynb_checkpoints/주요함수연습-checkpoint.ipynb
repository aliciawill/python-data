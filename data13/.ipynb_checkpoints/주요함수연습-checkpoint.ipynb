{
 "cells": [
  {
   "cell_type": "code",
   "execution_count": 3,
   "metadata": {},
   "outputs": [],
   "source": [
    "def call1(a, b, c):\n",
    "    print(a, b, c)"
   ]
  },
  {
   "cell_type": "code",
   "execution_count": 5,
   "metadata": {},
   "outputs": [
    {
     "name": "stdout",
     "output_type": "stream",
     "text": [
      "10 20 30\n"
     ]
    }
   ],
   "source": [
    "call1(10, 20, 30) #위치 매개변수"
   ]
  },
  {
   "cell_type": "code",
   "execution_count": 6,
   "metadata": {},
   "outputs": [],
   "source": [
    "def call2(a, b, c=50):\n",
    "    print(a, b, c)"
   ]
  },
  {
   "cell_type": "code",
   "execution_count": 7,
   "metadata": {},
   "outputs": [
    {
     "name": "stdout",
     "output_type": "stream",
     "text": [
      "10 20 30\n"
     ]
    }
   ],
   "source": [
    "call2(10, 20, 30)"
   ]
  },
  {
   "cell_type": "code",
   "execution_count": 8,
   "metadata": {},
   "outputs": [
    {
     "name": "stdout",
     "output_type": "stream",
     "text": [
      "10 20 50\n"
     ]
    }
   ],
   "source": [
    "call2(10, 20) #default (기본) 매개변수"
   ]
  },
  {
   "cell_type": "code",
   "execution_count": 9,
   "metadata": {},
   "outputs": [],
   "source": [
    "# default매개변수는 반드시 뒤에다 위치시켜야 한다.\n",
    "# def call3(a=10, b, c) ##오류!!\n",
    "def call3(a, b=50, c=100):\n",
    "     print(a, b, c)   "
   ]
  },
  {
   "cell_type": "code",
   "execution_count": 11,
   "metadata": {},
   "outputs": [
    {
     "name": "stdout",
     "output_type": "stream",
     "text": [
      "10 50 100\n"
     ]
    }
   ],
   "source": [
    "call3(10)"
   ]
  },
  {
   "cell_type": "code",
   "execution_count": 12,
   "metadata": {},
   "outputs": [],
   "source": [
    "def call4(a, b, c):\n",
    "    print(a, b, c)"
   ]
  },
  {
   "cell_type": "code",
   "execution_count": 14,
   "metadata": {},
   "outputs": [
    {
     "name": "stdout",
     "output_type": "stream",
     "text": [
      "100 333 200\n"
     ]
    }
   ],
   "source": [
    "call4(a = 100, c = 200, b = 333) #키워드 파라메터, 순서상관x"
   ]
  },
  {
   "cell_type": "code",
   "execution_count": 15,
   "metadata": {},
   "outputs": [],
   "source": [
    "## 파이썬은 오버라이딩은 지원o, 오버로딩은 지원x\n",
    "## 오버라이딩(재정의) : 상속했을 때 \n",
    "##                   자식클래스의 함수를 재정의하여 기능을 변경\n",
    "## 오버로딩(다형성) : 하나의 이름으로 \n",
    "##                   다양한 형태를 구현할 수 있는 기능\n",
    "## 자바는 하나의 함수이름으로 다양한 입력값의 형태를 정의가능\n",
    "## 자바는 오버로딩 가능\n",
    "## public void add(int x, int y)\n",
    "## public void add(int x)\n",
    "## 파이썬은 오버로딩 불가능\n",
    "## 입력값으로 튜플과 딕셔너리를 여러개 넣을 수 있기 때문에\n",
    "## 파이썬의 함수 입력값은 0~무한대의 개수를 가지게 정의할 수 있다.\n",
    "## 가변 매개변수라고 부른다."
   ]
  },
  {
   "cell_type": "code",
   "execution_count": 23,
   "metadata": {},
   "outputs": [],
   "source": [
    "def call5(*a, b):\n",
    "    print(a)\n",
    "    print(b)"
   ]
  },
  {
   "cell_type": "code",
   "execution_count": 22,
   "metadata": {},
   "outputs": [],
   "source": [
    "def call6(*a):\n",
    "    print(a)"
   ]
  },
  {
   "cell_type": "code",
   "execution_count": null,
   "metadata": {},
   "outputs": [],
   "source": [
    "# call5((1, 2, 3), 5) 에러!"
   ]
  },
  {
   "cell_type": "code",
   "execution_count": null,
   "metadata": {},
   "outputs": [],
   "source": [
    "# python.exe프로그램이 한줄을 읽어서 실행을 바로 해준다.\n",
    "# 번역기"
   ]
  },
  {
   "cell_type": "code",
   "execution_count": 30,
   "metadata": {},
   "outputs": [
    {
     "name": "stdout",
     "output_type": "stream",
     "text": [
      "((1, 2, 3),)\n",
      "5\n"
     ]
    }
   ],
   "source": [
    "call5((1, 2, 3), b = 5) # 위치 가변 매개변수는 보통 단독으로 많이 쓰임\n",
    "# 위치 가변 매개변수를 쓸 때는 \n",
    "# 다른 매개변수는 키워드(파라메터명)를 반드시 써주어야 헷갈리지 않는다."
   ]
  },
  {
   "cell_type": "code",
   "execution_count": 25,
   "metadata": {},
   "outputs": [
    {
     "name": "stdout",
     "output_type": "stream",
     "text": [
      "(1, 2, 3, 4, 5)\n"
     ]
    }
   ],
   "source": [
    "call6(1, 2, 3, 4, 5) \n",
    "# 파이썬에서는 파라메터의 개수가 정확히 몇개인지 확인하려면\n",
    "# 함수의 정의를 보고 확인해야한다.(shift+tab)"
   ]
  },
  {
   "cell_type": "code",
   "execution_count": 27,
   "metadata": {},
   "outputs": [
    {
     "name": "stdout",
     "output_type": "stream",
     "text": [
      "((1, 2, 3, 4, 5), (6, 7, 8))\n"
     ]
    }
   ],
   "source": [
    "call6((1, 2, 3, 4, 5), (6, 7, 8)) #위치 가변 매개변수는 튜플의 튜플도 가능"
   ]
  },
  {
   "cell_type": "code",
   "execution_count": 28,
   "metadata": {},
   "outputs": [
    {
     "name": "stdout",
     "output_type": "stream",
     "text": [
      "((1, 2, 3, 4, 5), {'name': 'hong'})\n"
     ]
    }
   ],
   "source": [
    "call6((1, 2, 3, 4, 5), {'name' : 'hong'}) \n",
    "#위치 가변 매개변수는 혼합된 형태도 가능\n",
    "#무조건 입력값을 튜플로 묶음."
   ]
  },
  {
   "cell_type": "code",
   "execution_count": 31,
   "metadata": {},
   "outputs": [],
   "source": [
    "def call7(**kwargs): #키워드 가변 매개변수\n",
    "    print(kwargs)"
   ]
  },
  {
   "cell_type": "code",
   "execution_count": 35,
   "metadata": {},
   "outputs": [
    {
     "name": "stdout",
     "output_type": "stream",
     "text": [
      "{'name': 'hong', 'age': 100}\n"
     ]
    }
   ],
   "source": [
    "call7(name = 'hong', age = 100)"
   ]
  },
  {
   "cell_type": "code",
   "execution_count": 36,
   "metadata": {},
   "outputs": [
    {
     "name": "stdout",
     "output_type": "stream",
     "text": [
      "{'name': 'hong'}\n"
     ]
    }
   ],
   "source": [
    "call7(name = 'hong')"
   ]
  },
  {
   "cell_type": "code",
   "execution_count": 37,
   "metadata": {},
   "outputs": [
    {
     "name": "stdout",
     "output_type": "stream",
     "text": [
      "{'name': 'hong', 'age': 100, 'tel': '010'}\n"
     ]
    }
   ],
   "source": [
    "call7(name = 'hong', age = 100, tel = '010')"
   ]
  },
  {
   "cell_type": "code",
   "execution_count": 38,
   "metadata": {},
   "outputs": [],
   "source": [
    "def call8(*tags, title, content, **kwargs):\n",
    "    print('tags>> ', tags)\n",
    "    print('title>> ', title)\n",
    "    print('content>> ', content)\n",
    "    print('kwargs>> ', kwargs)"
   ]
  },
  {
   "cell_type": "code",
   "execution_count": 39,
   "metadata": {},
   "outputs": [],
   "source": [
    "## 가변변수와 함께 쓰는 일반변수는 키워드변수로 사용해야한다.\n",
    "## 변수명과 함께 써야 한다."
   ]
  },
  {
   "cell_type": "code",
   "execution_count": 40,
   "metadata": {},
   "outputs": [
    {
     "name": "stdout",
     "output_type": "stream",
     "text": [
      "tags>>  ('바다', '휴양지', '쉼')\n",
      "title>>  제주도여행\n",
      "content>>  해수욕장으로 고고!\n",
      "kwargs>>  {'location': '제주도 북동부', 'move': '날아서'}\n"
     ]
    }
   ],
   "source": [
    "call8('바다', '휴양지','쉼', \n",
    "      title='제주도여행', \n",
    "      content='해수욕장으로 고고!', \n",
    "      location = '제주도 북동부',\n",
    "      move='날아서'\n",
    "     )"
   ]
  },
  {
   "cell_type": "code",
   "execution_count": 41,
   "metadata": {},
   "outputs": [],
   "source": [
    "## 람다함수"
   ]
  },
  {
   "cell_type": "code",
   "execution_count": 45,
   "metadata": {},
   "outputs": [],
   "source": [
    "def call9(a):\n",
    "    b = a - 1\n",
    "    return b"
   ]
  },
  {
   "cell_type": "code",
   "execution_count": 46,
   "metadata": {},
   "outputs": [],
   "source": [
    "## 일반 함수의 4대 조건\n",
    "## 함수이름(입력값): call9(a)\n",
    "##   함수 처리 내용(a-1)\n",
    "##   함수 처리 결과 리턴값(b)\n",
    "\n",
    "## 람다 함수의 3대 조건\n",
    "## (입력값):\n",
    "##   함수 처리 내용\n",
    "##   함수 처리 결과 리턴값"
   ]
  },
  {
   "cell_type": "code",
   "execution_count": null,
   "metadata": {},
   "outputs": [],
   "source": [
    "# [list comprehension] => 익명함수의 일종"
   ]
  },
  {
   "cell_type": "code",
   "execution_count": 47,
   "metadata": {},
   "outputs": [
    {
     "data": {
      "text/plain": [
       "<function __main__.<lambda>(a)>"
      ]
     },
     "execution_count": 47,
     "metadata": {},
     "output_type": "execute_result"
    }
   ],
   "source": [
    "#lambda #=> 익명함수의 일종\n",
    "lambda a : a - 1"
   ]
  },
  {
   "cell_type": "code",
   "execution_count": 48,
   "metadata": {},
   "outputs": [
    {
     "data": {
      "text/plain": [
       "9"
      ]
     },
     "execution_count": 48,
     "metadata": {},
     "output_type": "execute_result"
    }
   ],
   "source": [
    "(lambda a : a - 1)(10)"
   ]
  },
  {
   "cell_type": "code",
   "execution_count": 49,
   "metadata": {},
   "outputs": [],
   "source": [
    "a_fun = lambda a : a - 1"
   ]
  },
  {
   "cell_type": "code",
   "execution_count": 50,
   "metadata": {},
   "outputs": [
    {
     "data": {
      "text/plain": [
       "9"
      ]
     },
     "execution_count": 50,
     "metadata": {},
     "output_type": "execute_result"
    }
   ],
   "source": [
    "a_fun(10)"
   ]
  },
  {
   "cell_type": "code",
   "execution_count": 51,
   "metadata": {},
   "outputs": [
    {
     "data": {
      "text/plain": [
       "<function __main__.<lambda>(a)>"
      ]
     },
     "execution_count": 51,
     "metadata": {},
     "output_type": "execute_result"
    }
   ],
   "source": [
    "lambda a : True if a > 0 else Flase"
   ]
  },
  {
   "cell_type": "code",
   "execution_count": 52,
   "metadata": {},
   "outputs": [
    {
     "data": {
      "text/plain": [
       "True"
      ]
     },
     "execution_count": 52,
     "metadata": {},
     "output_type": "execute_result"
    }
   ],
   "source": [
    "(lambda a : True if a > 0 else Flase)(10)"
   ]
  },
  {
   "cell_type": "code",
   "execution_count": 53,
   "metadata": {},
   "outputs": [],
   "source": [
    "true_fun = lambda a : True if a > 0 else Flase #else도 함께 써주어야 함."
   ]
  },
  {
   "cell_type": "code",
   "execution_count": 54,
   "metadata": {},
   "outputs": [
    {
     "data": {
      "text/plain": [
       "True"
      ]
     },
     "execution_count": 54,
     "metadata": {},
     "output_type": "execute_result"
    }
   ],
   "source": [
    "true_fun(10)"
   ]
  },
  {
   "cell_type": "code",
   "execution_count": 55,
   "metadata": {},
   "outputs": [],
   "source": [
    "# 입력값이 양수이면 1, 음수이면 0"
   ]
  },
  {
   "cell_type": "code",
   "execution_count": 63,
   "metadata": {},
   "outputs": [],
   "source": [
    "one_fun = lambda x : 1 if x > 0 else 0"
   ]
  },
  {
   "cell_type": "code",
   "execution_count": 60,
   "metadata": {},
   "outputs": [
    {
     "data": {
      "text/plain": [
       "1"
      ]
     },
     "execution_count": 60,
     "metadata": {},
     "output_type": "execute_result"
    }
   ],
   "source": [
    "one_fun(100)"
   ]
  },
  {
   "cell_type": "code",
   "execution_count": 61,
   "metadata": {},
   "outputs": [
    {
     "data": {
      "text/plain": [
       "0"
      ]
     },
     "execution_count": 61,
     "metadata": {},
     "output_type": "execute_result"
    }
   ],
   "source": [
    "one_fun(-100)"
   ]
  },
  {
   "cell_type": "code",
   "execution_count": 64,
   "metadata": {},
   "outputs": [],
   "source": [
    "one_fun2 = lambda x : '양수' if x > 0 else '음수'"
   ]
  },
  {
   "cell_type": "code",
   "execution_count": 65,
   "metadata": {},
   "outputs": [
    {
     "data": {
      "text/plain": [
       "'양수'"
      ]
     },
     "execution_count": 65,
     "metadata": {},
     "output_type": "execute_result"
    }
   ],
   "source": [
    "one_fun2(100)"
   ]
  },
  {
   "cell_type": "code",
   "execution_count": 66,
   "metadata": {},
   "outputs": [],
   "source": [
    "## one_fun, one_fun2를 일반함수로 변경해보세요."
   ]
  },
  {
   "cell_type": "code",
   "execution_count": null,
   "metadata": {},
   "outputs": [],
   "source": []
  },
  {
   "cell_type": "code",
   "execution_count": null,
   "metadata": {},
   "outputs": [],
   "source": [
    "# 입력값을 2개 넣어, 더해보세요. (10, 20)"
   ]
  },
  {
   "cell_type": "code",
   "execution_count": null,
   "metadata": {},
   "outputs": [],
   "source": [
    "# 입력값이 2개의 리스트가 되도록 해보세요. "
   ]
  },
  {
   "cell_type": "code",
   "execution_count": 56,
   "metadata": {},
   "outputs": [],
   "source": [
    "ab_fun = lambda a, b : a + b"
   ]
  },
  {
   "cell_type": "code",
   "execution_count": 57,
   "metadata": {},
   "outputs": [
    {
     "data": {
      "text/plain": [
       "30"
      ]
     },
     "execution_count": 57,
     "metadata": {},
     "output_type": "execute_result"
    }
   ],
   "source": [
    "ab_fun(10, 20)"
   ]
  },
  {
   "cell_type": "code",
   "execution_count": 58,
   "metadata": {},
   "outputs": [
    {
     "data": {
      "text/plain": [
       "[1, 2, 3, 4, 5, 6]"
      ]
     },
     "execution_count": 58,
     "metadata": {},
     "output_type": "execute_result"
    }
   ],
   "source": [
    "a_list = [1,2,3]\n",
    "b_list = [4,5,6]\n",
    "ab_fun(a_list, b_list)"
   ]
  },
  {
   "cell_type": "code",
   "execution_count": null,
   "metadata": {},
   "outputs": [],
   "source": []
  }
 ],
 "metadata": {
  "kernelspec": {
   "display_name": "Python 3 (ipykernel)",
   "language": "python",
   "name": "python3"
  },
  "language_info": {
   "codemirror_mode": {
    "name": "ipython",
    "version": 3
   },
   "file_extension": ".py",
   "mimetype": "text/x-python",
   "name": "python",
   "nbconvert_exporter": "python",
   "pygments_lexer": "ipython3",
   "version": "3.7.11"
  }
 },
 "nbformat": 4,
 "nbformat_minor": 4
}
